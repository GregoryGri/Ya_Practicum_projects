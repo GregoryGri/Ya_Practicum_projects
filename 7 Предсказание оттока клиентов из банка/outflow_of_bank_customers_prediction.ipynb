{
 "cells": [
  {
   "cell_type": "markdown",
   "metadata": {},
   "source": [
    "# Отток клиентов из банка"
   ]
  },
  {
   "cell_type": "markdown",
   "metadata": {},
   "source": [
    "## Описание проекта"
   ]
  },
  {
   "cell_type": "markdown",
   "metadata": {},
   "source": [
    "Из «Бета-Банка» стали уходить клиенты. Каждый месяц. Немного, но заметно. Банковские маркетологи посчитали: сохранять текущих клиентов дешевле, чем привлекать новых.\n",
    "\n",
    "Вам предоставлены исторические данные о поведении клиентов и расторжении договоров с банком. \n",
    "\n"
   ]
  },
  {
   "cell_type": "markdown",
   "metadata": {},
   "source": [
    "## Цель проекта"
   ]
  },
  {
   "cell_type": "markdown",
   "metadata": {},
   "source": [
    "Необходимо построить модель, которая будет прогнозировать уйдёт ли клиент из банка в ближайшее время или нет. Метрика качества модели - *F1*. Чтобы сдать проект успешно, нужно довести метрику до 0,59."
   ]
  },
  {
   "cell_type": "markdown",
   "metadata": {},
   "source": [
    "## План работы"
   ]
  },
  {
   "cell_type": "markdown",
   "metadata": {},
   "source": [
    "1. Загрузка данных.\n",
    "2. Предварительная обработка данных.\n",
    "3. Подготовка обучающих выборок.\n",
    "4. Обучение моделей на несбалансированных данных.\n",
    "5. Борьба с дисблансом классов.\n",
    "6. Обучение моделей на сбалансированных данных.\n",
    "7. Проверка лучшей модели на тестовой выборке."
   ]
  },
  {
   "cell_type": "markdown",
   "metadata": {},
   "source": [
    "## Описание данных"
   ]
  },
  {
   "cell_type": "markdown",
   "metadata": {},
   "source": [
    "Признаки\n",
    "\n",
    "- **RowNumber** — индекс строки в данных\n",
    "- **CustomerId** — уникальный идентификатор клиента\n",
    "- **Surname** — фамилия\n",
    "- **CreditScore** — кредитный рейтинг\n",
    "- **Geography** — страна проживания\n",
    "- **Gender** — пол\n",
    "- **Age** — возраст\n",
    "- **Tenure** — сколько лет человек является клиентом банка\n",
    "- **Balance** — баланс на счёте\n",
    "- **NumOfProducts** — количество продуктов банка, используемых клиентом\n",
    "- **HasCrCard** — наличие кредитной карты\n",
    "- **IsActiveMember** — активность клиента\n",
    "- **EstimatedSalary** — предполагаемая зарплата\n",
    "\n",
    "Целевой признак\n",
    "\n",
    "- **Exited** — факт ухода клиента"
   ]
  },
  {
   "cell_type": "markdown",
   "metadata": {},
   "source": [
    "## Подготовка данных"
   ]
  },
  {
   "cell_type": "markdown",
   "metadata": {},
   "source": [
    "### Настройка окружения"
   ]
  },
  {
   "cell_type": "code",
   "execution_count": 1,
   "metadata": {
    "scrolled": true
   },
   "outputs": [],
   "source": [
    "# установим библиотеку skimpy, для работы с заголовками столбцов и спрячем репорт об установке\n",
    "!pip install skimpy -q"
   ]
  },
  {
   "cell_type": "code",
   "execution_count": 2,
   "metadata": {},
   "outputs": [],
   "source": [
    "# основные библиотеки\n",
    "import pandas as pd\n",
    "import numpy as np\n",
    "import matplotlib.pyplot as plt\n",
    "from skimpy import clean_columns\n",
    "import matplotlib.pyplot as plt\n",
    "\n",
    "# подготовка к машинному обучению\n",
    "from sklearn.model_selection import train_test_split\n",
    "from sklearn.preprocessing import StandardScaler\n",
    "\n",
    "# модели машинного обучения\n",
    "from sklearn.tree import DecisionTreeClassifier\n",
    "from sklearn.ensemble import RandomForestClassifier\n",
    "from sklearn.linear_model import LogisticRegression\n",
    "from sklearn.utils import shuffle\n",
    "\n",
    "# метрики машинного обучения\n",
    "from sklearn.metrics import (f1_score, roc_auc_score)\n",
    "from sklearn.metrics import accuracy_score\n",
    "\n",
    "import shap"
   ]
  },
  {
   "cell_type": "markdown",
   "metadata": {},
   "source": [
    "### Загрузка данных и изучение данных"
   ]
  },
  {
   "cell_type": "code",
   "execution_count": 3,
   "metadata": {},
   "outputs": [],
   "source": [
    "# загрузим данные\n",
    "try:\n",
    "    df = pd.read_csv('/datasets/Churn.csv')\n",
    "\n",
    "except:\n",
    "    df = pd.read_csv('https://code.s3.yandex.net/datasets/Churn.csv')"
   ]
  },
  {
   "cell_type": "code",
   "execution_count": 4,
   "metadata": {},
   "outputs": [
    {
     "data": {
      "text/plain": [
       "(10000, 14)"
      ]
     },
     "execution_count": 4,
     "metadata": {},
     "output_type": "execute_result"
    }
   ],
   "source": [
    "# посмотрим размерность таблицы\n",
    "df.shape"
   ]
  },
  {
   "cell_type": "code",
   "execution_count": 5,
   "metadata": {},
   "outputs": [
    {
     "name": "stdout",
     "output_type": "stream",
     "text": [
      "<class 'pandas.core.frame.DataFrame'>\n",
      "RangeIndex: 10000 entries, 0 to 9999\n",
      "Data columns (total 14 columns):\n",
      " #   Column           Non-Null Count  Dtype  \n",
      "---  ------           --------------  -----  \n",
      " 0   RowNumber        10000 non-null  int64  \n",
      " 1   CustomerId       10000 non-null  int64  \n",
      " 2   Surname          10000 non-null  object \n",
      " 3   CreditScore      10000 non-null  int64  \n",
      " 4   Geography        10000 non-null  object \n",
      " 5   Gender           10000 non-null  object \n",
      " 6   Age              10000 non-null  int64  \n",
      " 7   Tenure           9091 non-null   float64\n",
      " 8   Balance          10000 non-null  float64\n",
      " 9   NumOfProducts    10000 non-null  int64  \n",
      " 10  HasCrCard        10000 non-null  int64  \n",
      " 11  IsActiveMember   10000 non-null  int64  \n",
      " 12  EstimatedSalary  10000 non-null  float64\n",
      " 13  Exited           10000 non-null  int64  \n",
      "dtypes: float64(3), int64(8), object(3)\n",
      "memory usage: 1.1+ MB\n"
     ]
    }
   ],
   "source": [
    "# общую информацию о датафрейме\n",
    "df.info()"
   ]
  },
  {
   "cell_type": "code",
   "execution_count": 6,
   "metadata": {
    "scrolled": true
   },
   "outputs": [
    {
     "data": {
      "text/html": [
       "<div>\n",
       "<style scoped>\n",
       "    .dataframe tbody tr th:only-of-type {\n",
       "        vertical-align: middle;\n",
       "    }\n",
       "\n",
       "    .dataframe tbody tr th {\n",
       "        vertical-align: top;\n",
       "    }\n",
       "\n",
       "    .dataframe thead th {\n",
       "        text-align: right;\n",
       "    }\n",
       "</style>\n",
       "<table border=\"1\" class=\"dataframe\">\n",
       "  <thead>\n",
       "    <tr style=\"text-align: right;\">\n",
       "      <th></th>\n",
       "      <th>RowNumber</th>\n",
       "      <th>CustomerId</th>\n",
       "      <th>Surname</th>\n",
       "      <th>CreditScore</th>\n",
       "      <th>Geography</th>\n",
       "      <th>Gender</th>\n",
       "      <th>Age</th>\n",
       "      <th>Tenure</th>\n",
       "      <th>Balance</th>\n",
       "      <th>NumOfProducts</th>\n",
       "      <th>HasCrCard</th>\n",
       "      <th>IsActiveMember</th>\n",
       "      <th>EstimatedSalary</th>\n",
       "      <th>Exited</th>\n",
       "    </tr>\n",
       "  </thead>\n",
       "  <tbody>\n",
       "    <tr>\n",
       "      <th>3204</th>\n",
       "      <td>3205</td>\n",
       "      <td>15603942</td>\n",
       "      <td>Hawthorn</td>\n",
       "      <td>547</td>\n",
       "      <td>Germany</td>\n",
       "      <td>Male</td>\n",
       "      <td>50</td>\n",
       "      <td>3.0</td>\n",
       "      <td>81290.02</td>\n",
       "      <td>3</td>\n",
       "      <td>0</td>\n",
       "      <td>1</td>\n",
       "      <td>177747.03</td>\n",
       "      <td>1</td>\n",
       "    </tr>\n",
       "    <tr>\n",
       "      <th>4603</th>\n",
       "      <td>4604</td>\n",
       "      <td>15671172</td>\n",
       "      <td>Swain</td>\n",
       "      <td>623</td>\n",
       "      <td>France</td>\n",
       "      <td>Male</td>\n",
       "      <td>23</td>\n",
       "      <td>1.0</td>\n",
       "      <td>106012.20</td>\n",
       "      <td>2</td>\n",
       "      <td>0</td>\n",
       "      <td>1</td>\n",
       "      <td>191415.94</td>\n",
       "      <td>0</td>\n",
       "    </tr>\n",
       "    <tr>\n",
       "      <th>8260</th>\n",
       "      <td>8261</td>\n",
       "      <td>15627830</td>\n",
       "      <td>Nikitina</td>\n",
       "      <td>640</td>\n",
       "      <td>Germany</td>\n",
       "      <td>Female</td>\n",
       "      <td>30</td>\n",
       "      <td>5.0</td>\n",
       "      <td>32197.64</td>\n",
       "      <td>1</td>\n",
       "      <td>0</td>\n",
       "      <td>1</td>\n",
       "      <td>141446.01</td>\n",
       "      <td>0</td>\n",
       "    </tr>\n",
       "    <tr>\n",
       "      <th>7824</th>\n",
       "      <td>7825</td>\n",
       "      <td>15761149</td>\n",
       "      <td>Teng</td>\n",
       "      <td>673</td>\n",
       "      <td>France</td>\n",
       "      <td>Female</td>\n",
       "      <td>44</td>\n",
       "      <td>8.0</td>\n",
       "      <td>133444.97</td>\n",
       "      <td>1</td>\n",
       "      <td>0</td>\n",
       "      <td>1</td>\n",
       "      <td>5708.19</td>\n",
       "      <td>0</td>\n",
       "    </tr>\n",
       "    <tr>\n",
       "      <th>7530</th>\n",
       "      <td>7531</td>\n",
       "      <td>15711299</td>\n",
       "      <td>Wilson</td>\n",
       "      <td>711</td>\n",
       "      <td>Germany</td>\n",
       "      <td>Female</td>\n",
       "      <td>52</td>\n",
       "      <td>8.0</td>\n",
       "      <td>145262.54</td>\n",
       "      <td>1</td>\n",
       "      <td>0</td>\n",
       "      <td>1</td>\n",
       "      <td>131473.31</td>\n",
       "      <td>0</td>\n",
       "    </tr>\n",
       "  </tbody>\n",
       "</table>\n",
       "</div>"
      ],
      "text/plain": [
       "      RowNumber  CustomerId   Surname  CreditScore Geography  Gender  Age  \\\n",
       "3204       3205    15603942  Hawthorn          547   Germany    Male   50   \n",
       "4603       4604    15671172     Swain          623    France    Male   23   \n",
       "8260       8261    15627830  Nikitina          640   Germany  Female   30   \n",
       "7824       7825    15761149      Teng          673    France  Female   44   \n",
       "7530       7531    15711299    Wilson          711   Germany  Female   52   \n",
       "\n",
       "      Tenure    Balance  NumOfProducts  HasCrCard  IsActiveMember  \\\n",
       "3204     3.0   81290.02              3          0               1   \n",
       "4603     1.0  106012.20              2          0               1   \n",
       "8260     5.0   32197.64              1          0               1   \n",
       "7824     8.0  133444.97              1          0               1   \n",
       "7530     8.0  145262.54              1          0               1   \n",
       "\n",
       "      EstimatedSalary  Exited  \n",
       "3204        177747.03       1  \n",
       "4603        191415.94       0  \n",
       "8260        141446.01       0  \n",
       "7824          5708.19       0  \n",
       "7530        131473.31       0  "
      ]
     },
     "execution_count": 6,
     "metadata": {},
     "output_type": "execute_result"
    }
   ],
   "source": [
    "# посмотри на данные вживую\n",
    "df.sample(5)"
   ]
  },
  {
   "cell_type": "markdown",
   "metadata": {},
   "source": [
    "Данные загружены без ошибок. Датафрейм имеет 14 столбцов и 10 000 строк. "
   ]
  },
  {
   "cell_type": "markdown",
   "metadata": {},
   "source": [
    "### Предобработка данных."
   ]
  },
  {
   "cell_type": "code",
   "execution_count": 7,
   "metadata": {},
   "outputs": [
    {
     "data": {
      "text/plain": [
       "Index(['RowNumber', 'CustomerId', 'Surname', 'CreditScore', 'Geography',\n",
       "       'Gender', 'Age', 'Tenure', 'Balance', 'NumOfProducts', 'HasCrCard',\n",
       "       'IsActiveMember', 'EstimatedSalary', 'Exited'],\n",
       "      dtype='object')"
      ]
     },
     "execution_count": 7,
     "metadata": {},
     "output_type": "execute_result"
    }
   ],
   "source": [
    "# изучим название столбцов\n",
    "df.columns"
   ]
  },
  {
   "cell_type": "code",
   "execution_count": 8,
   "metadata": {},
   "outputs": [
    {
     "data": {
      "text/plain": [
       "Index(['row_number', 'customer_id', 'surname', 'credit_score', 'geography',\n",
       "       'gender', 'age', 'tenure', 'balance', 'num_of_products', 'has_cr_card',\n",
       "       'is_active_member', 'estimated_salary', 'exited'],\n",
       "      dtype='object')"
      ]
     },
     "execution_count": 8,
     "metadata": {},
     "output_type": "execute_result"
    }
   ],
   "source": [
    "# приведем названия к змеиному стилю\n",
    "df = clean_columns(df)\n",
    "\n",
    "# проверим\n",
    "df.columns"
   ]
  },
  {
   "cell_type": "code",
   "execution_count": 9,
   "metadata": {
    "scrolled": true
   },
   "outputs": [
    {
     "data": {
      "text/plain": [
       "0"
      ]
     },
     "execution_count": 9,
     "metadata": {},
     "output_type": "execute_result"
    }
   ],
   "source": [
    "# проверим на явные дубликаты\n",
    "df.duplicated().sum()"
   ]
  },
  {
   "cell_type": "markdown",
   "metadata": {},
   "source": [
    "Явные дубликаты отсутствуют."
   ]
  },
  {
   "cell_type": "code",
   "execution_count": 10,
   "metadata": {},
   "outputs": [
    {
     "data": {
      "text/plain": [
       "0"
      ]
     },
     "execution_count": 10,
     "metadata": {},
     "output_type": "execute_result"
    }
   ],
   "source": [
    "# проверим на неявные дубликаты по столбцу 'customer_id'\n",
    "df.duplicated(subset=['customer_id']).sum()"
   ]
  },
  {
   "cell_type": "markdown",
   "metadata": {},
   "source": [
    "Неявные дубликаты в столбце 'customer_id' отстуствуют."
   ]
  },
  {
   "cell_type": "code",
   "execution_count": 11,
   "metadata": {
    "scrolled": false
   },
   "outputs": [
    {
     "data": {
      "text/plain": [
       "row_number            0\n",
       "customer_id           0\n",
       "surname               0\n",
       "credit_score          0\n",
       "geography             0\n",
       "gender                0\n",
       "age                   0\n",
       "tenure              909\n",
       "balance               0\n",
       "num_of_products       0\n",
       "has_cr_card           0\n",
       "is_active_member      0\n",
       "estimated_salary      0\n",
       "exited                0\n",
       "dtype: int64"
      ]
     },
     "execution_count": 11,
     "metadata": {},
     "output_type": "execute_result"
    }
   ],
   "source": [
    "# проверим пропуски данных\n",
    "df.isna().sum()"
   ]
  },
  {
   "cell_type": "code",
   "execution_count": 12,
   "metadata": {
    "scrolled": true
   },
   "outputs": [
    {
     "data": {
      "text/plain": [
       "row_number          0.00\n",
       "customer_id         0.00\n",
       "surname             0.00\n",
       "credit_score        0.00\n",
       "geography           0.00\n",
       "gender              0.00\n",
       "age                 0.00\n",
       "tenure              9.09\n",
       "balance             0.00\n",
       "num_of_products     0.00\n",
       "has_cr_card         0.00\n",
       "is_active_member    0.00\n",
       "estimated_salary    0.00\n",
       "exited              0.00\n",
       "dtype: float64"
      ]
     },
     "execution_count": 12,
     "metadata": {},
     "output_type": "execute_result"
    }
   ],
   "source": [
    "# посмотрим сколько процентов составляют пропуски от общего количества данных\n",
    "100 * df.isna().sum() / df.shape[0]"
   ]
  },
  {
   "cell_type": "markdown",
   "metadata": {},
   "source": [
    "В столбце 'tenure' присуствую пропуски, в количестве 909 строк, порядка 9.1 %."
   ]
  },
  {
   "cell_type": "code",
   "execution_count": 13,
   "metadata": {
    "scrolled": true
   },
   "outputs": [
    {
     "data": {
      "text/plain": [
       "(4.997690023099769, 5.0)"
      ]
     },
     "execution_count": 13,
     "metadata": {},
     "output_type": "execute_result"
    }
   ],
   "source": [
    "# посмотрим среднее и медианное значения по столбцу 'tenure'\n",
    "df['tenure'].mean(), df['tenure'].median()"
   ]
  },
  {
   "cell_type": "markdown",
   "metadata": {},
   "source": [
    "Среднее и медиана практически совпадают."
   ]
  },
  {
   "cell_type": "code",
   "execution_count": 14,
   "metadata": {
    "scrolled": false
   },
   "outputs": [
    {
     "data": {
      "image/png": "[encoded data removed]",
      "text/plain": [
       "<Figure size 640x480 with 1 Axes>"
      ]
     },
     "metadata": {},
     "output_type": "display_data"
    }
   ],
   "source": [
    "# посмотри распределение значений по столбцу 'tenure'\n",
    "df['tenure'].value_counts().sort_index().plot.bar();"
   ]
  },
  {
   "cell_type": "markdown",
   "metadata": {},
   "source": [
    "По результатм изучения столбца 'tenure', можно сделать следующие выводы:\n",
    "\n",
    "\n",
    "- Возможно пропуски в данном столбце связанны с тем, что данное поле не было заполнено для новых клиентов банка, которые являются таковыми менее года, по такой логике пропуски можно заполнить значением 0. Тогда будем иметь смещение распределения данных слева;\n",
    "- Медиана и среднее практически совпадают по своим значениям, можно заполнить данные медианным значением. Тогда получим пик в середине распределения;\n",
    "- Процент данных с пропусками - чуть более 9%, можно удалить данные с пропусками.\n",
    "\n",
    "\n",
    "Предлагаю создать три выборки, для каждого озвученного механизма заполнения пропусков и протестировать данные выборки на моделях с фиксированными параметрами, после чего выбрать наилучшую выборку для последующей работы."
   ]
  },
  {
   "cell_type": "code",
   "execution_count": 15,
   "metadata": {},
   "outputs": [],
   "source": [
    "# скопируем исходный датафрейм в новые выборки\n",
    "df_zero = df.copy()\n",
    "df_median = df.copy()\n",
    "df_drop = df.copy()"
   ]
  },
  {
   "cell_type": "code",
   "execution_count": 16,
   "metadata": {
    "scrolled": false
   },
   "outputs": [
    {
     "name": "stdout",
     "output_type": "stream",
     "text": [
      "row_number          0\n",
      "customer_id         0\n",
      "surname             0\n",
      "credit_score        0\n",
      "geography           0\n",
      "gender              0\n",
      "age                 0\n",
      "tenure              0\n",
      "balance             0\n",
      "num_of_products     0\n",
      "has_cr_card         0\n",
      "is_active_member    0\n",
      "estimated_salary    0\n",
      "exited              0\n",
      "dtype: int64\n",
      "(10000, 14)\n"
     ]
    },
    {
     "data": {
      "image/png": "[encoded data removed]",
      "text/plain": [
       "<Figure size 640x480 with 1 Axes>"
      ]
     },
     "metadata": {},
     "output_type": "display_data"
    }
   ],
   "source": [
    "# заполним пропуски нулями\n",
    "df_zero['tenure'] = df_zero['tenure'].fillna(0)\n",
    "print(df_zero.isna().sum())\n",
    "print(df_zero.shape)\n",
    "df_zero['tenure'].value_counts().sort_index().plot.bar();"
   ]
  },
  {
   "cell_type": "code",
   "execution_count": 17,
   "metadata": {},
   "outputs": [
    {
     "name": "stdout",
     "output_type": "stream",
     "text": [
      "row_number          0\n",
      "customer_id         0\n",
      "surname             0\n",
      "credit_score        0\n",
      "geography           0\n",
      "gender              0\n",
      "age                 0\n",
      "tenure              0\n",
      "balance             0\n",
      "num_of_products     0\n",
      "has_cr_card         0\n",
      "is_active_member    0\n",
      "estimated_salary    0\n",
      "exited              0\n",
      "dtype: int64\n",
      "(10000, 14)\n"
     ]
    },
    {
     "data": {
      "image/png": "[encoded data removed]",
      "text/plain": [
       "<Figure size 640x480 with 1 Axes>"
      ]
     },
     "metadata": {},
     "output_type": "display_data"
    }
   ],
   "source": [
    "# заполним пропуски медианой\n",
    "df_median['tenure'] = df_median['tenure'].fillna(df_median['tenure'].median())\n",
    "print(df_median.isna().sum())\n",
    "print(df_median.shape)\n",
    "df_median['tenure'].value_counts().sort_index().plot.bar();"
   ]
  },
  {
   "cell_type": "code",
   "execution_count": 18,
   "metadata": {
    "scrolled": false
   },
   "outputs": [
    {
     "name": "stdout",
     "output_type": "stream",
     "text": [
      "row_number          0\n",
      "customer_id         0\n",
      "surname             0\n",
      "credit_score        0\n",
      "geography           0\n",
      "gender              0\n",
      "age                 0\n",
      "tenure              0\n",
      "balance             0\n",
      "num_of_products     0\n",
      "has_cr_card         0\n",
      "is_active_member    0\n",
      "estimated_salary    0\n",
      "exited              0\n",
      "dtype: int64\n",
      "(9091, 14)\n"
     ]
    },
    {
     "data": {
      "image/png": "[encoded data removed]",
      "text/plain": [
       "<Figure size 640x480 with 1 Axes>"
      ]
     },
     "metadata": {},
     "output_type": "display_data"
    }
   ],
   "source": [
    "# удалим пропуски\n",
    "df_drop = df_drop.dropna(subset='tenure')\n",
    "print(df_drop.isna().sum())\n",
    "print(df_drop.shape)\n",
    "df_drop['tenure'].value_counts().sort_index().plot.bar();"
   ]
  },
  {
   "cell_type": "markdown",
   "metadata": {},
   "source": [
    "### Выводы"
   ]
  },
  {
   "cell_type": "markdown",
   "metadata": {},
   "source": [
    "- Данные загружены без ошибок. Датафрейм имеет 14 столбцов и 10 000 строк;\n",
    "- Явные и неявные дубликаты отсутствуют;\n",
    "- название столбцов приведены к змеиному стилю;\n",
    "- присутсвует порядка 9.1 % пропусков в столбце 'tenure', для дальнейшей работы были созданы три датафрейма, в которых пропуски были обработаны по разным механизмам:\n",
    "  - заполнены нулевыми значениями;\n",
    "  - заполнены медианными значениями;\n",
    "  - пропуски удалены."
   ]
  },
  {
   "cell_type": "markdown",
   "metadata": {},
   "source": [
    "## Исследование задачи"
   ]
  },
  {
   "cell_type": "markdown",
   "metadata": {},
   "source": [
    "Целевой признак принимет значения 0 или 1, значит перед нами задача бинарной классификации."
   ]
  },
  {
   "cell_type": "markdown",
   "metadata": {},
   "source": [
    "### Преобразование полей"
   ]
  },
  {
   "cell_type": "markdown",
   "metadata": {},
   "source": [
    "Для дальнейшего обучения моделей часть столбцов не несут никакой полезной информации, а именно: 'row_number', 'customer_id', 'surname'. Удалим их из датафреймов."
   ]
  },
  {
   "cell_type": "code",
   "execution_count": 19,
   "metadata": {},
   "outputs": [],
   "source": [
    "# создадим функцию для обработка датафреймов\n",
    "def drop_columns(data, columns_list):\n",
    "    for column in columns_list:\n",
    "        data = data.drop([column], axis=1)\n",
    "    return data"
   ]
  },
  {
   "cell_type": "code",
   "execution_count": 20,
   "metadata": {},
   "outputs": [],
   "source": [
    "# создадим список столбцов для удаления\n",
    "columns_list = ['row_number', 'customer_id', 'surname']"
   ]
  },
  {
   "cell_type": "code",
   "execution_count": 21,
   "metadata": {},
   "outputs": [
    {
     "data": {
      "text/plain": [
       "((10000, 11), (10000, 11), (9091, 11))"
      ]
     },
     "execution_count": 21,
     "metadata": {},
     "output_type": "execute_result"
    }
   ],
   "source": [
    "# проведем удаление в наших датафреймах\n",
    "df_zero = drop_columns(df_zero, columns_list)\n",
    "df_median = drop_columns(df_median, columns_list)\n",
    "df_drop = drop_columns(df_drop, columns_list)\n",
    "\n",
    "# проверим\n",
    "df_zero.shape, df_median.shape, df_drop.shape"
   ]
  },
  {
   "cell_type": "markdown",
   "metadata": {},
   "source": [
    "Удаление прошло успешно"
   ]
  },
  {
   "cell_type": "code",
   "execution_count": 22,
   "metadata": {},
   "outputs": [],
   "source": [
    "# создадим функцию для прямого кодирования категориальных признаков, с учетом дамми-ловушки\n",
    "def ohe_transform(data):\n",
    "    data = pd.get_dummies(data, drop_first=True, dtype=int)\n",
    "    data = clean_columns(data)\n",
    "    return data"
   ]
  },
  {
   "cell_type": "code",
   "execution_count": 23,
   "metadata": {
    "scrolled": false
   },
   "outputs": [
    {
     "name": "stdout",
     "output_type": "stream",
     "text": [
      "(10000, 12) (10000, 12) (9091, 12)\n"
     ]
    },
    {
     "data": {
      "text/plain": [
       "(Index(['credit_score', 'age', 'tenure', 'balance', 'num_of_products',\n",
       "        'has_cr_card', 'is_active_member', 'estimated_salary', 'exited',\n",
       "        'geography_germany', 'geography_spain', 'gender_male'],\n",
       "       dtype='object'),\n",
       " Index(['credit_score', 'age', 'tenure', 'balance', 'num_of_products',\n",
       "        'has_cr_card', 'is_active_member', 'estimated_salary', 'exited',\n",
       "        'geography_germany', 'geography_spain', 'gender_male'],\n",
       "       dtype='object'),\n",
       " Index(['credit_score', 'age', 'tenure', 'balance', 'num_of_products',\n",
       "        'has_cr_card', 'is_active_member', 'estimated_salary', 'exited',\n",
       "        'geography_germany', 'geography_spain', 'gender_male'],\n",
       "       dtype='object'))"
      ]
     },
     "execution_count": 23,
     "metadata": {},
     "output_type": "execute_result"
    }
   ],
   "source": [
    "# проведем кодирование в датафреймах\n",
    "df_zero = ohe_transform(df_zero)\n",
    "df_median = ohe_transform(df_median)\n",
    "df_drop = ohe_transform(df_drop)\n",
    "\n",
    "# посмотри на результат\n",
    "print(df_zero.shape, df_median.shape, df_drop.shape)\n",
    "df_zero.columns, df_median.columns, df_drop.columns"
   ]
  },
  {
   "cell_type": "markdown",
   "metadata": {},
   "source": [
    "Кодирование категориальных признаков прошло успешно, дамми-ловушку избежали. Закодированные признаки - 'geography' и 'gender'"
   ]
  },
  {
   "cell_type": "markdown",
   "metadata": {},
   "source": [
    "### Сформируем выборки"
   ]
  },
  {
   "cell_type": "code",
   "execution_count": 24,
   "metadata": {},
   "outputs": [],
   "source": [
    "# создадим функцию для разделения для наших датафреймов на признаки и целевой признак, \n",
    "# разделим на обучающую и валидационную выбокри в пропорции 60/40\n",
    "def sample_split_60_40(data):\n",
    "    target_data = data['exited']\n",
    "    features_data = data.drop(['exited'], axis=1)\n",
    "    features_train, features_valid, target_train, target_valid = train_test_split(\n",
    "    features_data,target_data, test_size=0.40, random_state=12345)\n",
    "    return features_train, features_valid, target_train, target_valid"
   ]
  },
  {
   "cell_type": "code",
   "execution_count": 25,
   "metadata": {},
   "outputs": [],
   "source": [
    "# создадим функцию для разделения валидационной выборки на валидационную и тестовую\n",
    "def sample_split_60_20_20(feat_valid, targ_valid):\n",
    "    features_valid, features_test, target_valid, target_test = train_test_split(\n",
    "    feat_valid, targ_valid, test_size=0.50, random_state=12345)\n",
    "    return features_valid, features_test, target_valid, target_test"
   ]
  },
  {
   "cell_type": "code",
   "execution_count": 26,
   "metadata": {},
   "outputs": [
    {
     "name": "stdout",
     "output_type": "stream",
     "text": [
      "(6000, 11) (2000, 11) (2000, 11)\n"
     ]
    },
    {
     "data": {
      "text/plain": [
       "((6000,), (2000,), (2000,))"
      ]
     },
     "execution_count": 26,
     "metadata": {},
     "output_type": "execute_result"
    }
   ],
   "source": [
    "# сформируем выборки для df_zero\n",
    "features_train_zero, features_valid_zero, target_train_zero, target_valid_zero = sample_split_60_40(df_zero)\n",
    "features_valid_zero, features_test_zero, target_valid_zero, target_test_zero =\\\n",
    "sample_split_60_20_20(features_valid_zero, target_valid_zero)\n",
    "\n",
    "# проверим размерность\n",
    "print(features_train_zero.shape, features_valid_zero.shape, features_test_zero.shape)\n",
    "target_train_zero.shape, target_valid_zero.shape,target_test_zero.shape"
   ]
  },
  {
   "cell_type": "code",
   "execution_count": 27,
   "metadata": {},
   "outputs": [
    {
     "name": "stdout",
     "output_type": "stream",
     "text": [
      "(6000, 11) (2000, 11) (2000, 11)\n"
     ]
    },
    {
     "data": {
      "text/plain": [
       "((6000,), (2000,), (2000,))"
      ]
     },
     "execution_count": 27,
     "metadata": {},
     "output_type": "execute_result"
    }
   ],
   "source": [
    "# сформируем выборки для df_median\n",
    "features_train_median, features_valid_median, target_train_median, target_valid_median = sample_split_60_40(df_median)\n",
    "features_valid_median, features_test_median, target_valid_median, target_test_median =\\\n",
    "sample_split_60_20_20(features_valid_median, target_valid_median)\n",
    "\n",
    "# проверим размерность\n",
    "print(features_train_median.shape, features_valid_median.shape, features_test_median.shape)\n",
    "target_train_median.shape, target_valid_median.shape,target_test_median.shape"
   ]
  },
  {
   "cell_type": "code",
   "execution_count": 28,
   "metadata": {},
   "outputs": [
    {
     "name": "stdout",
     "output_type": "stream",
     "text": [
      "(5454, 11) (1818, 11) (1819, 11)\n"
     ]
    },
    {
     "data": {
      "text/plain": [
       "((5454,), (1818,), (1819,))"
      ]
     },
     "execution_count": 28,
     "metadata": {},
     "output_type": "execute_result"
    }
   ],
   "source": [
    "# сформируем выборки для df_drop\n",
    "features_train_drop, features_valid_drop, target_train_drop, target_valid_drop = sample_split_60_40(df_drop)\n",
    "features_valid_drop, features_test_drop, target_valid_drop, target_test_drop =\\\n",
    "sample_split_60_20_20(features_valid_drop, target_valid_drop)\n",
    "\n",
    "# проверим размерность\n",
    "print(features_train_drop.shape, features_valid_drop.shape, features_test_drop.shape)\n",
    "target_train_drop.shape, target_valid_drop.shape,target_test_drop.shape"
   ]
  },
  {
   "cell_type": "markdown",
   "metadata": {},
   "source": [
    "Создали выборки обучающая/валидационная/тестовая в пропорциях 60/20/20."
   ]
  },
  {
   "cell_type": "markdown",
   "metadata": {},
   "source": [
    "### Стандартизируем выборки"
   ]
  },
  {
   "cell_type": "markdown",
   "metadata": {},
   "source": [
    "Количественные признаки сильно различаются по своим масштабам от единиц для 'tenure' до сотен тысяч для финансовых столбцов. Проведем масштабирование данных, методом стандартизации."
   ]
  },
  {
   "cell_type": "code",
   "execution_count": 29,
   "metadata": {},
   "outputs": [],
   "source": [
    "# создадим список столбцов с количественными признаками\n",
    "numeric = ['credit_score', 'age', 'tenure', 'balance', 'estimated_salary']"
   ]
  },
  {
   "cell_type": "code",
   "execution_count": 30,
   "metadata": {},
   "outputs": [],
   "source": [
    "# создадим функцию для стандартизации количественных признаков\n",
    "def st_scaler(features_train, features_valid, features_test, numeric):\n",
    "    scaler = StandardScaler()\n",
    "    scaler.fit(features_train[numeric])\n",
    "    features_train[numeric] = scaler.transform(features_train[numeric])\n",
    "    features_valid[numeric] = scaler.transform(features_valid[numeric])\n",
    "    features_test[numeric] = scaler.transform(features_test[numeric])\n",
    "    return features_train, features_valid, features_test"
   ]
  },
  {
   "cell_type": "code",
   "execution_count": 31,
   "metadata": {
    "scrolled": false
   },
   "outputs": [
    {
     "data": {
      "text/html": [
       "<div>\n",
       "<style scoped>\n",
       "    .dataframe tbody tr th:only-of-type {\n",
       "        vertical-align: middle;\n",
       "    }\n",
       "\n",
       "    .dataframe tbody tr th {\n",
       "        vertical-align: top;\n",
       "    }\n",
       "\n",
       "    .dataframe thead th {\n",
       "        text-align: right;\n",
       "    }\n",
       "</style>\n",
       "<table border=\"1\" class=\"dataframe\">\n",
       "  <thead>\n",
       "    <tr style=\"text-align: right;\">\n",
       "      <th></th>\n",
       "      <th>credit_score</th>\n",
       "      <th>age</th>\n",
       "      <th>tenure</th>\n",
       "      <th>balance</th>\n",
       "      <th>num_of_products</th>\n",
       "      <th>has_cr_card</th>\n",
       "      <th>is_active_member</th>\n",
       "      <th>estimated_salary</th>\n",
       "      <th>geography_germany</th>\n",
       "      <th>geography_spain</th>\n",
       "      <th>gender_male</th>\n",
       "    </tr>\n",
       "  </thead>\n",
       "  <tbody>\n",
       "    <tr>\n",
       "      <th>7479</th>\n",
       "      <td>-0.886751</td>\n",
       "      <td>-0.373192</td>\n",
       "      <td>1.104696</td>\n",
       "      <td>1.232271</td>\n",
       "      <td>1</td>\n",
       "      <td>1</td>\n",
       "      <td>0</td>\n",
       "      <td>-0.187705</td>\n",
       "      <td>0</td>\n",
       "      <td>1</td>\n",
       "      <td>1</td>\n",
       "    </tr>\n",
       "    <tr>\n",
       "      <th>3411</th>\n",
       "      <td>0.608663</td>\n",
       "      <td>-0.183385</td>\n",
       "      <td>1.104696</td>\n",
       "      <td>0.600563</td>\n",
       "      <td>1</td>\n",
       "      <td>0</td>\n",
       "      <td>0</td>\n",
       "      <td>-0.333945</td>\n",
       "      <td>0</td>\n",
       "      <td>0</td>\n",
       "      <td>0</td>\n",
       "    </tr>\n",
       "    <tr>\n",
       "      <th>6027</th>\n",
       "      <td>2.052152</td>\n",
       "      <td>0.480939</td>\n",
       "      <td>-0.503694</td>\n",
       "      <td>1.027098</td>\n",
       "      <td>2</td>\n",
       "      <td>0</td>\n",
       "      <td>1</td>\n",
       "      <td>1.503095</td>\n",
       "      <td>1</td>\n",
       "      <td>0</td>\n",
       "      <td>1</td>\n",
       "    </tr>\n",
       "    <tr>\n",
       "      <th>1247</th>\n",
       "      <td>-1.457915</td>\n",
       "      <td>-1.417129</td>\n",
       "      <td>0.461340</td>\n",
       "      <td>-1.233163</td>\n",
       "      <td>2</td>\n",
       "      <td>1</td>\n",
       "      <td>0</td>\n",
       "      <td>-1.071061</td>\n",
       "      <td>0</td>\n",
       "      <td>0</td>\n",
       "      <td>1</td>\n",
       "    </tr>\n",
       "    <tr>\n",
       "      <th>3716</th>\n",
       "      <td>0.130961</td>\n",
       "      <td>-1.132419</td>\n",
       "      <td>-0.825373</td>\n",
       "      <td>1.140475</td>\n",
       "      <td>1</td>\n",
       "      <td>0</td>\n",
       "      <td>0</td>\n",
       "      <td>1.524268</td>\n",
       "      <td>1</td>\n",
       "      <td>0</td>\n",
       "      <td>0</td>\n",
       "    </tr>\n",
       "  </tbody>\n",
       "</table>\n",
       "</div>"
      ],
      "text/plain": [
       "      credit_score       age    tenure   balance  num_of_products  \\\n",
       "7479     -0.886751 -0.373192  1.104696  1.232271                1   \n",
       "3411      0.608663 -0.183385  1.104696  0.600563                1   \n",
       "6027      2.052152  0.480939 -0.503694  1.027098                2   \n",
       "1247     -1.457915 -1.417129  0.461340 -1.233163                2   \n",
       "3716      0.130961 -1.132419 -0.825373  1.140475                1   \n",
       "\n",
       "      has_cr_card  is_active_member  estimated_salary  geography_germany  \\\n",
       "7479            1                 0         -0.187705                  0   \n",
       "3411            0                 0         -0.333945                  0   \n",
       "6027            0                 1          1.503095                  1   \n",
       "1247            1                 0         -1.071061                  0   \n",
       "3716            0                 0          1.524268                  1   \n",
       "\n",
       "      geography_spain  gender_male  \n",
       "7479                1            1  \n",
       "3411                0            0  \n",
       "6027                0            1  \n",
       "1247                0            1  \n",
       "3716                0            0  "
      ]
     },
     "metadata": {},
     "output_type": "display_data"
    },
    {
     "data": {
      "text/html": [
       "<div>\n",
       "<style scoped>\n",
       "    .dataframe tbody tr th:only-of-type {\n",
       "        vertical-align: middle;\n",
       "    }\n",
       "\n",
       "    .dataframe tbody tr th {\n",
       "        vertical-align: top;\n",
       "    }\n",
       "\n",
       "    .dataframe thead th {\n",
       "        text-align: right;\n",
       "    }\n",
       "</style>\n",
       "<table border=\"1\" class=\"dataframe\">\n",
       "  <thead>\n",
       "    <tr style=\"text-align: right;\">\n",
       "      <th></th>\n",
       "      <th>credit_score</th>\n",
       "      <th>age</th>\n",
       "      <th>tenure</th>\n",
       "      <th>balance</th>\n",
       "      <th>num_of_products</th>\n",
       "      <th>has_cr_card</th>\n",
       "      <th>is_active_member</th>\n",
       "      <th>estimated_salary</th>\n",
       "      <th>geography_germany</th>\n",
       "      <th>geography_spain</th>\n",
       "      <th>gender_male</th>\n",
       "    </tr>\n",
       "  </thead>\n",
       "  <tbody>\n",
       "    <tr>\n",
       "      <th>8532</th>\n",
       "      <td>-0.699824</td>\n",
       "      <td>-0.373192</td>\n",
       "      <td>-0.825373</td>\n",
       "      <td>-1.233163</td>\n",
       "      <td>2</td>\n",
       "      <td>1</td>\n",
       "      <td>0</td>\n",
       "      <td>-0.015173</td>\n",
       "      <td>0</td>\n",
       "      <td>0</td>\n",
       "      <td>0</td>\n",
       "    </tr>\n",
       "    <tr>\n",
       "      <th>5799</th>\n",
       "      <td>-0.284431</td>\n",
       "      <td>0.575842</td>\n",
       "      <td>-0.503694</td>\n",
       "      <td>-1.233163</td>\n",
       "      <td>1</td>\n",
       "      <td>1</td>\n",
       "      <td>1</td>\n",
       "      <td>1.471724</td>\n",
       "      <td>0</td>\n",
       "      <td>0</td>\n",
       "      <td>0</td>\n",
       "    </tr>\n",
       "    <tr>\n",
       "      <th>5511</th>\n",
       "      <td>0.151731</td>\n",
       "      <td>-0.657902</td>\n",
       "      <td>-1.468729</td>\n",
       "      <td>0.438711</td>\n",
       "      <td>1</td>\n",
       "      <td>1</td>\n",
       "      <td>0</td>\n",
       "      <td>-1.367107</td>\n",
       "      <td>1</td>\n",
       "      <td>0</td>\n",
       "      <td>1</td>\n",
       "    </tr>\n",
       "    <tr>\n",
       "      <th>7365</th>\n",
       "      <td>-0.876366</td>\n",
       "      <td>-0.278288</td>\n",
       "      <td>1.748053</td>\n",
       "      <td>1.239884</td>\n",
       "      <td>1</td>\n",
       "      <td>1</td>\n",
       "      <td>1</td>\n",
       "      <td>-0.786517</td>\n",
       "      <td>0</td>\n",
       "      <td>1</td>\n",
       "      <td>0</td>\n",
       "    </tr>\n",
       "    <tr>\n",
       "      <th>7367</th>\n",
       "      <td>-0.481743</td>\n",
       "      <td>0.291132</td>\n",
       "      <td>1.748053</td>\n",
       "      <td>-1.233163</td>\n",
       "      <td>2</td>\n",
       "      <td>1</td>\n",
       "      <td>0</td>\n",
       "      <td>1.358533</td>\n",
       "      <td>0</td>\n",
       "      <td>1</td>\n",
       "      <td>1</td>\n",
       "    </tr>\n",
       "  </tbody>\n",
       "</table>\n",
       "</div>"
      ],
      "text/plain": [
       "      credit_score       age    tenure   balance  num_of_products  \\\n",
       "8532     -0.699824 -0.373192 -0.825373 -1.233163                2   \n",
       "5799     -0.284431  0.575842 -0.503694 -1.233163                1   \n",
       "5511      0.151731 -0.657902 -1.468729  0.438711                1   \n",
       "7365     -0.876366 -0.278288  1.748053  1.239884                1   \n",
       "7367     -0.481743  0.291132  1.748053 -1.233163                2   \n",
       "\n",
       "      has_cr_card  is_active_member  estimated_salary  geography_germany  \\\n",
       "8532            1                 0         -0.015173                  0   \n",
       "5799            1                 1          1.471724                  0   \n",
       "5511            1                 0         -1.367107                  1   \n",
       "7365            1                 1         -0.786517                  0   \n",
       "7367            1                 0          1.358533                  0   \n",
       "\n",
       "      geography_spain  gender_male  \n",
       "8532                0            0  \n",
       "5799                0            0  \n",
       "5511                0            1  \n",
       "7365                1            0  \n",
       "7367                1            1  "
      ]
     },
     "metadata": {},
     "output_type": "display_data"
    },
    {
     "data": {
      "text/html": [
       "<div>\n",
       "<style scoped>\n",
       "    .dataframe tbody tr th:only-of-type {\n",
       "        vertical-align: middle;\n",
       "    }\n",
       "\n",
       "    .dataframe tbody tr th {\n",
       "        vertical-align: top;\n",
       "    }\n",
       "\n",
       "    .dataframe thead th {\n",
       "        text-align: right;\n",
       "    }\n",
       "</style>\n",
       "<table border=\"1\" class=\"dataframe\">\n",
       "  <thead>\n",
       "    <tr style=\"text-align: right;\">\n",
       "      <th></th>\n",
       "      <th>credit_score</th>\n",
       "      <th>age</th>\n",
       "      <th>tenure</th>\n",
       "      <th>balance</th>\n",
       "      <th>num_of_products</th>\n",
       "      <th>has_cr_card</th>\n",
       "      <th>is_active_member</th>\n",
       "      <th>estimated_salary</th>\n",
       "      <th>geography_germany</th>\n",
       "      <th>geography_spain</th>\n",
       "      <th>gender_male</th>\n",
       "    </tr>\n",
       "  </thead>\n",
       "  <tbody>\n",
       "    <tr>\n",
       "      <th>7041</th>\n",
       "      <td>-2.226392</td>\n",
       "      <td>-0.088482</td>\n",
       "      <td>-0.825373</td>\n",
       "      <td>-1.233163</td>\n",
       "      <td>2</td>\n",
       "      <td>1</td>\n",
       "      <td>0</td>\n",
       "      <td>0.647083</td>\n",
       "      <td>0</td>\n",
       "      <td>0</td>\n",
       "      <td>1</td>\n",
       "    </tr>\n",
       "    <tr>\n",
       "      <th>5709</th>\n",
       "      <td>-0.087120</td>\n",
       "      <td>0.006422</td>\n",
       "      <td>1.426375</td>\n",
       "      <td>-1.233163</td>\n",
       "      <td>1</td>\n",
       "      <td>1</td>\n",
       "      <td>0</td>\n",
       "      <td>-1.658410</td>\n",
       "      <td>0</td>\n",
       "      <td>0</td>\n",
       "      <td>0</td>\n",
       "    </tr>\n",
       "    <tr>\n",
       "      <th>7117</th>\n",
       "      <td>-0.917905</td>\n",
       "      <td>-0.752805</td>\n",
       "      <td>0.139662</td>\n",
       "      <td>0.722307</td>\n",
       "      <td>1</td>\n",
       "      <td>1</td>\n",
       "      <td>1</td>\n",
       "      <td>-1.369334</td>\n",
       "      <td>0</td>\n",
       "      <td>1</td>\n",
       "      <td>1</td>\n",
       "    </tr>\n",
       "    <tr>\n",
       "      <th>7775</th>\n",
       "      <td>-0.253277</td>\n",
       "      <td>0.101325</td>\n",
       "      <td>1.748053</td>\n",
       "      <td>-1.233163</td>\n",
       "      <td>2</td>\n",
       "      <td>1</td>\n",
       "      <td>0</td>\n",
       "      <td>0.075086</td>\n",
       "      <td>0</td>\n",
       "      <td>1</td>\n",
       "      <td>1</td>\n",
       "    </tr>\n",
       "    <tr>\n",
       "      <th>8735</th>\n",
       "      <td>0.785204</td>\n",
       "      <td>-0.847708</td>\n",
       "      <td>1.748053</td>\n",
       "      <td>0.615625</td>\n",
       "      <td>1</td>\n",
       "      <td>0</td>\n",
       "      <td>1</td>\n",
       "      <td>-1.070919</td>\n",
       "      <td>0</td>\n",
       "      <td>0</td>\n",
       "      <td>1</td>\n",
       "    </tr>\n",
       "  </tbody>\n",
       "</table>\n",
       "</div>"
      ],
      "text/plain": [
       "      credit_score       age    tenure   balance  num_of_products  \\\n",
       "7041     -2.226392 -0.088482 -0.825373 -1.233163                2   \n",
       "5709     -0.087120  0.006422  1.426375 -1.233163                1   \n",
       "7117     -0.917905 -0.752805  0.139662  0.722307                1   \n",
       "7775     -0.253277  0.101325  1.748053 -1.233163                2   \n",
       "8735      0.785204 -0.847708  1.748053  0.615625                1   \n",
       "\n",
       "      has_cr_card  is_active_member  estimated_salary  geography_germany  \\\n",
       "7041            1                 0          0.647083                  0   \n",
       "5709            1                 0         -1.658410                  0   \n",
       "7117            1                 1         -1.369334                  0   \n",
       "7775            1                 0          0.075086                  0   \n",
       "8735            0                 1         -1.070919                  0   \n",
       "\n",
       "      geography_spain  gender_male  \n",
       "7041                0            1  \n",
       "5709                0            0  \n",
       "7117                1            1  \n",
       "7775                1            1  \n",
       "8735                0            1  "
      ]
     },
     "execution_count": 31,
     "metadata": {},
     "output_type": "execute_result"
    }
   ],
   "source": [
    "# проведем стандартизацию для набора zero\n",
    "features_train_zero, features_valid_zero, features_test_zero =\\\n",
    "st_scaler(features_train_zero, features_valid_zero, features_test_zero, numeric)\n",
    "\n",
    "# проверим что получилось\n",
    "display(features_train_zero.head())\n",
    "display(features_valid_zero.head())\n",
    "features_test_zero.head()"
   ]
  },
  {
   "cell_type": "code",
   "execution_count": 32,
   "metadata": {
    "scrolled": false
   },
   "outputs": [
    {
     "data": {
      "text/html": [
       "<div>\n",
       "<style scoped>\n",
       "    .dataframe tbody tr th:only-of-type {\n",
       "        vertical-align: middle;\n",
       "    }\n",
       "\n",
       "    .dataframe tbody tr th {\n",
       "        vertical-align: top;\n",
       "    }\n",
       "\n",
       "    .dataframe thead th {\n",
       "        text-align: right;\n",
       "    }\n",
       "</style>\n",
       "<table border=\"1\" class=\"dataframe\">\n",
       "  <thead>\n",
       "    <tr style=\"text-align: right;\">\n",
       "      <th></th>\n",
       "      <th>credit_score</th>\n",
       "      <th>age</th>\n",
       "      <th>tenure</th>\n",
       "      <th>balance</th>\n",
       "      <th>num_of_products</th>\n",
       "      <th>has_cr_card</th>\n",
       "      <th>is_active_member</th>\n",
       "      <th>estimated_salary</th>\n",
       "      <th>geography_germany</th>\n",
       "      <th>geography_spain</th>\n",
       "      <th>gender_male</th>\n",
       "    </tr>\n",
       "  </thead>\n",
       "  <tbody>\n",
       "    <tr>\n",
       "      <th>7479</th>\n",
       "      <td>-0.886751</td>\n",
       "      <td>-0.373192</td>\n",
       "      <td>1.082277</td>\n",
       "      <td>1.232271</td>\n",
       "      <td>1</td>\n",
       "      <td>1</td>\n",
       "      <td>0</td>\n",
       "      <td>-0.187705</td>\n",
       "      <td>0</td>\n",
       "      <td>1</td>\n",
       "      <td>1</td>\n",
       "    </tr>\n",
       "    <tr>\n",
       "      <th>3411</th>\n",
       "      <td>0.608663</td>\n",
       "      <td>-0.183385</td>\n",
       "      <td>1.082277</td>\n",
       "      <td>0.600563</td>\n",
       "      <td>1</td>\n",
       "      <td>0</td>\n",
       "      <td>0</td>\n",
       "      <td>-0.333945</td>\n",
       "      <td>0</td>\n",
       "      <td>0</td>\n",
       "      <td>0</td>\n",
       "    </tr>\n",
       "    <tr>\n",
       "      <th>6027</th>\n",
       "      <td>2.052152</td>\n",
       "      <td>0.480939</td>\n",
       "      <td>-0.737696</td>\n",
       "      <td>1.027098</td>\n",
       "      <td>2</td>\n",
       "      <td>0</td>\n",
       "      <td>1</td>\n",
       "      <td>1.503095</td>\n",
       "      <td>1</td>\n",
       "      <td>0</td>\n",
       "      <td>1</td>\n",
       "    </tr>\n",
       "    <tr>\n",
       "      <th>1247</th>\n",
       "      <td>-1.457915</td>\n",
       "      <td>-1.417129</td>\n",
       "      <td>0.354288</td>\n",
       "      <td>-1.233163</td>\n",
       "      <td>2</td>\n",
       "      <td>1</td>\n",
       "      <td>0</td>\n",
       "      <td>-1.071061</td>\n",
       "      <td>0</td>\n",
       "      <td>0</td>\n",
       "      <td>1</td>\n",
       "    </tr>\n",
       "    <tr>\n",
       "      <th>3716</th>\n",
       "      <td>0.130961</td>\n",
       "      <td>-1.132419</td>\n",
       "      <td>-1.101690</td>\n",
       "      <td>1.140475</td>\n",
       "      <td>1</td>\n",
       "      <td>0</td>\n",
       "      <td>0</td>\n",
       "      <td>1.524268</td>\n",
       "      <td>1</td>\n",
       "      <td>0</td>\n",
       "      <td>0</td>\n",
       "    </tr>\n",
       "  </tbody>\n",
       "</table>\n",
       "</div>"
      ],
      "text/plain": [
       "      credit_score       age    tenure   balance  num_of_products  \\\n",
       "7479     -0.886751 -0.373192  1.082277  1.232271                1   \n",
       "3411      0.608663 -0.183385  1.082277  0.600563                1   \n",
       "6027      2.052152  0.480939 -0.737696  1.027098                2   \n",
       "1247     -1.457915 -1.417129  0.354288 -1.233163                2   \n",
       "3716      0.130961 -1.132419 -1.101690  1.140475                1   \n",
       "\n",
       "      has_cr_card  is_active_member  estimated_salary  geography_germany  \\\n",
       "7479            1                 0         -0.187705                  0   \n",
       "3411            0                 0         -0.333945                  0   \n",
       "6027            0                 1          1.503095                  1   \n",
       "1247            1                 0         -1.071061                  0   \n",
       "3716            0                 0          1.524268                  1   \n",
       "\n",
       "      geography_spain  gender_male  \n",
       "7479                1            1  \n",
       "3411                0            0  \n",
       "6027                0            1  \n",
       "1247                0            1  \n",
       "3716                0            0  "
      ]
     },
     "metadata": {},
     "output_type": "display_data"
    },
    {
     "data": {
      "text/html": [
       "<div>\n",
       "<style scoped>\n",
       "    .dataframe tbody tr th:only-of-type {\n",
       "        vertical-align: middle;\n",
       "    }\n",
       "\n",
       "    .dataframe tbody tr th {\n",
       "        vertical-align: top;\n",
       "    }\n",
       "\n",
       "    .dataframe thead th {\n",
       "        text-align: right;\n",
       "    }\n",
       "</style>\n",
       "<table border=\"1\" class=\"dataframe\">\n",
       "  <thead>\n",
       "    <tr style=\"text-align: right;\">\n",
       "      <th></th>\n",
       "      <th>credit_score</th>\n",
       "      <th>age</th>\n",
       "      <th>tenure</th>\n",
       "      <th>balance</th>\n",
       "      <th>num_of_products</th>\n",
       "      <th>has_cr_card</th>\n",
       "      <th>is_active_member</th>\n",
       "      <th>estimated_salary</th>\n",
       "      <th>geography_germany</th>\n",
       "      <th>geography_spain</th>\n",
       "      <th>gender_male</th>\n",
       "    </tr>\n",
       "  </thead>\n",
       "  <tbody>\n",
       "    <tr>\n",
       "      <th>8532</th>\n",
       "      <td>-0.699824</td>\n",
       "      <td>-0.373192</td>\n",
       "      <td>-1.101690</td>\n",
       "      <td>-1.233163</td>\n",
       "      <td>2</td>\n",
       "      <td>1</td>\n",
       "      <td>0</td>\n",
       "      <td>-0.015173</td>\n",
       "      <td>0</td>\n",
       "      <td>0</td>\n",
       "      <td>0</td>\n",
       "    </tr>\n",
       "    <tr>\n",
       "      <th>5799</th>\n",
       "      <td>-0.284431</td>\n",
       "      <td>0.575842</td>\n",
       "      <td>-0.737696</td>\n",
       "      <td>-1.233163</td>\n",
       "      <td>1</td>\n",
       "      <td>1</td>\n",
       "      <td>1</td>\n",
       "      <td>1.471724</td>\n",
       "      <td>0</td>\n",
       "      <td>0</td>\n",
       "      <td>0</td>\n",
       "    </tr>\n",
       "    <tr>\n",
       "      <th>5511</th>\n",
       "      <td>0.151731</td>\n",
       "      <td>-0.657902</td>\n",
       "      <td>-1.829679</td>\n",
       "      <td>0.438711</td>\n",
       "      <td>1</td>\n",
       "      <td>1</td>\n",
       "      <td>0</td>\n",
       "      <td>-1.367107</td>\n",
       "      <td>1</td>\n",
       "      <td>0</td>\n",
       "      <td>1</td>\n",
       "    </tr>\n",
       "    <tr>\n",
       "      <th>7365</th>\n",
       "      <td>-0.876366</td>\n",
       "      <td>-0.278288</td>\n",
       "      <td>1.810266</td>\n",
       "      <td>1.239884</td>\n",
       "      <td>1</td>\n",
       "      <td>1</td>\n",
       "      <td>1</td>\n",
       "      <td>-0.786517</td>\n",
       "      <td>0</td>\n",
       "      <td>1</td>\n",
       "      <td>0</td>\n",
       "    </tr>\n",
       "    <tr>\n",
       "      <th>7367</th>\n",
       "      <td>-0.481743</td>\n",
       "      <td>0.291132</td>\n",
       "      <td>1.810266</td>\n",
       "      <td>-1.233163</td>\n",
       "      <td>2</td>\n",
       "      <td>1</td>\n",
       "      <td>0</td>\n",
       "      <td>1.358533</td>\n",
       "      <td>0</td>\n",
       "      <td>1</td>\n",
       "      <td>1</td>\n",
       "    </tr>\n",
       "  </tbody>\n",
       "</table>\n",
       "</div>"
      ],
      "text/plain": [
       "      credit_score       age    tenure   balance  num_of_products  \\\n",
       "8532     -0.699824 -0.373192 -1.101690 -1.233163                2   \n",
       "5799     -0.284431  0.575842 -0.737696 -1.233163                1   \n",
       "5511      0.151731 -0.657902 -1.829679  0.438711                1   \n",
       "7365     -0.876366 -0.278288  1.810266  1.239884                1   \n",
       "7367     -0.481743  0.291132  1.810266 -1.233163                2   \n",
       "\n",
       "      has_cr_card  is_active_member  estimated_salary  geography_germany  \\\n",
       "8532            1                 0         -0.015173                  0   \n",
       "5799            1                 1          1.471724                  0   \n",
       "5511            1                 0         -1.367107                  1   \n",
       "7365            1                 1         -0.786517                  0   \n",
       "7367            1                 0          1.358533                  0   \n",
       "\n",
       "      geography_spain  gender_male  \n",
       "8532                0            0  \n",
       "5799                0            0  \n",
       "5511                0            1  \n",
       "7365                1            0  \n",
       "7367                1            1  "
      ]
     },
     "metadata": {},
     "output_type": "display_data"
    },
    {
     "data": {
      "text/html": [
       "<div>\n",
       "<style scoped>\n",
       "    .dataframe tbody tr th:only-of-type {\n",
       "        vertical-align: middle;\n",
       "    }\n",
       "\n",
       "    .dataframe tbody tr th {\n",
       "        vertical-align: top;\n",
       "    }\n",
       "\n",
       "    .dataframe thead th {\n",
       "        text-align: right;\n",
       "    }\n",
       "</style>\n",
       "<table border=\"1\" class=\"dataframe\">\n",
       "  <thead>\n",
       "    <tr style=\"text-align: right;\">\n",
       "      <th></th>\n",
       "      <th>credit_score</th>\n",
       "      <th>age</th>\n",
       "      <th>tenure</th>\n",
       "      <th>balance</th>\n",
       "      <th>num_of_products</th>\n",
       "      <th>has_cr_card</th>\n",
       "      <th>is_active_member</th>\n",
       "      <th>estimated_salary</th>\n",
       "      <th>geography_germany</th>\n",
       "      <th>geography_spain</th>\n",
       "      <th>gender_male</th>\n",
       "    </tr>\n",
       "  </thead>\n",
       "  <tbody>\n",
       "    <tr>\n",
       "      <th>7041</th>\n",
       "      <td>-2.226392</td>\n",
       "      <td>-0.088482</td>\n",
       "      <td>-1.101690</td>\n",
       "      <td>-1.233163</td>\n",
       "      <td>2</td>\n",
       "      <td>1</td>\n",
       "      <td>0</td>\n",
       "      <td>0.647083</td>\n",
       "      <td>0</td>\n",
       "      <td>0</td>\n",
       "      <td>1</td>\n",
       "    </tr>\n",
       "    <tr>\n",
       "      <th>5709</th>\n",
       "      <td>-0.087120</td>\n",
       "      <td>0.006422</td>\n",
       "      <td>1.446272</td>\n",
       "      <td>-1.233163</td>\n",
       "      <td>1</td>\n",
       "      <td>1</td>\n",
       "      <td>0</td>\n",
       "      <td>-1.658410</td>\n",
       "      <td>0</td>\n",
       "      <td>0</td>\n",
       "      <td>0</td>\n",
       "    </tr>\n",
       "    <tr>\n",
       "      <th>7117</th>\n",
       "      <td>-0.917905</td>\n",
       "      <td>-0.752805</td>\n",
       "      <td>-0.009707</td>\n",
       "      <td>0.722307</td>\n",
       "      <td>1</td>\n",
       "      <td>1</td>\n",
       "      <td>1</td>\n",
       "      <td>-1.369334</td>\n",
       "      <td>0</td>\n",
       "      <td>1</td>\n",
       "      <td>1</td>\n",
       "    </tr>\n",
       "    <tr>\n",
       "      <th>7775</th>\n",
       "      <td>-0.253277</td>\n",
       "      <td>0.101325</td>\n",
       "      <td>1.810266</td>\n",
       "      <td>-1.233163</td>\n",
       "      <td>2</td>\n",
       "      <td>1</td>\n",
       "      <td>0</td>\n",
       "      <td>0.075086</td>\n",
       "      <td>0</td>\n",
       "      <td>1</td>\n",
       "      <td>1</td>\n",
       "    </tr>\n",
       "    <tr>\n",
       "      <th>8735</th>\n",
       "      <td>0.785204</td>\n",
       "      <td>-0.847708</td>\n",
       "      <td>1.810266</td>\n",
       "      <td>0.615625</td>\n",
       "      <td>1</td>\n",
       "      <td>0</td>\n",
       "      <td>1</td>\n",
       "      <td>-1.070919</td>\n",
       "      <td>0</td>\n",
       "      <td>0</td>\n",
       "      <td>1</td>\n",
       "    </tr>\n",
       "  </tbody>\n",
       "</table>\n",
       "</div>"
      ],
      "text/plain": [
       "      credit_score       age    tenure   balance  num_of_products  \\\n",
       "7041     -2.226392 -0.088482 -1.101690 -1.233163                2   \n",
       "5709     -0.087120  0.006422  1.446272 -1.233163                1   \n",
       "7117     -0.917905 -0.752805 -0.009707  0.722307                1   \n",
       "7775     -0.253277  0.101325  1.810266 -1.233163                2   \n",
       "8735      0.785204 -0.847708  1.810266  0.615625                1   \n",
       "\n",
       "      has_cr_card  is_active_member  estimated_salary  geography_germany  \\\n",
       "7041            1                 0          0.647083                  0   \n",
       "5709            1                 0         -1.658410                  0   \n",
       "7117            1                 1         -1.369334                  0   \n",
       "7775            1                 0          0.075086                  0   \n",
       "8735            0                 1         -1.070919                  0   \n",
       "\n",
       "      geography_spain  gender_male  \n",
       "7041                0            1  \n",
       "5709                0            0  \n",
       "7117                1            1  \n",
       "7775                1            1  \n",
       "8735                0            1  "
      ]
     },
     "execution_count": 32,
     "metadata": {},
     "output_type": "execute_result"
    }
   ],
   "source": [
    "# проведем стандартизацию для набора median\n",
    "features_train_median, features_valid_median, features_test_median =\\\n",
    "st_scaler(features_train_median, features_valid_median, features_test_median, numeric)\n",
    "\n",
    "# проверим что получилось\n",
    "display(features_train_median.head())\n",
    "display(features_valid_median.head())\n",
    "features_test_median.head()"
   ]
  },
  {
   "cell_type": "code",
   "execution_count": 33,
   "metadata": {
    "scrolled": false
   },
   "outputs": [
    {
     "data": {
      "text/html": [
       "<div>\n",
       "<style scoped>\n",
       "    .dataframe tbody tr th:only-of-type {\n",
       "        vertical-align: middle;\n",
       "    }\n",
       "\n",
       "    .dataframe tbody tr th {\n",
       "        vertical-align: top;\n",
       "    }\n",
       "\n",
       "    .dataframe thead th {\n",
       "        text-align: right;\n",
       "    }\n",
       "</style>\n",
       "<table border=\"1\" class=\"dataframe\">\n",
       "  <thead>\n",
       "    <tr style=\"text-align: right;\">\n",
       "      <th></th>\n",
       "      <th>credit_score</th>\n",
       "      <th>age</th>\n",
       "      <th>tenure</th>\n",
       "      <th>balance</th>\n",
       "      <th>num_of_products</th>\n",
       "      <th>has_cr_card</th>\n",
       "      <th>is_active_member</th>\n",
       "      <th>estimated_salary</th>\n",
       "      <th>geography_germany</th>\n",
       "      <th>geography_spain</th>\n",
       "      <th>gender_male</th>\n",
       "    </tr>\n",
       "  </thead>\n",
       "  <tbody>\n",
       "    <tr>\n",
       "      <th>9344</th>\n",
       "      <td>0.809075</td>\n",
       "      <td>-1.039327</td>\n",
       "      <td>-1.025995</td>\n",
       "      <td>0.554904</td>\n",
       "      <td>1</td>\n",
       "      <td>1</td>\n",
       "      <td>0</td>\n",
       "      <td>0.019508</td>\n",
       "      <td>0</td>\n",
       "      <td>0</td>\n",
       "      <td>0</td>\n",
       "    </tr>\n",
       "    <tr>\n",
       "      <th>3796</th>\n",
       "      <td>-1.152518</td>\n",
       "      <td>-1.227561</td>\n",
       "      <td>0.696524</td>\n",
       "      <td>0.480609</td>\n",
       "      <td>1</td>\n",
       "      <td>0</td>\n",
       "      <td>0</td>\n",
       "      <td>0.056167</td>\n",
       "      <td>0</td>\n",
       "      <td>0</td>\n",
       "      <td>1</td>\n",
       "    </tr>\n",
       "    <tr>\n",
       "      <th>7462</th>\n",
       "      <td>-0.398853</td>\n",
       "      <td>0.090079</td>\n",
       "      <td>1.385532</td>\n",
       "      <td>-1.237830</td>\n",
       "      <td>1</td>\n",
       "      <td>1</td>\n",
       "      <td>1</td>\n",
       "      <td>0.848738</td>\n",
       "      <td>0</td>\n",
       "      <td>0</td>\n",
       "      <td>1</td>\n",
       "    </tr>\n",
       "    <tr>\n",
       "      <th>1508</th>\n",
       "      <td>-0.749875</td>\n",
       "      <td>-0.286389</td>\n",
       "      <td>0.352020</td>\n",
       "      <td>-1.237830</td>\n",
       "      <td>2</td>\n",
       "      <td>1</td>\n",
       "      <td>1</td>\n",
       "      <td>-0.894953</td>\n",
       "      <td>0</td>\n",
       "      <td>0</td>\n",
       "      <td>1</td>\n",
       "    </tr>\n",
       "    <tr>\n",
       "      <th>4478</th>\n",
       "      <td>-1.028628</td>\n",
       "      <td>-0.756975</td>\n",
       "      <td>-0.336987</td>\n",
       "      <td>-1.237830</td>\n",
       "      <td>2</td>\n",
       "      <td>0</td>\n",
       "      <td>1</td>\n",
       "      <td>-1.284516</td>\n",
       "      <td>0</td>\n",
       "      <td>0</td>\n",
       "      <td>1</td>\n",
       "    </tr>\n",
       "  </tbody>\n",
       "</table>\n",
       "</div>"
      ],
      "text/plain": [
       "      credit_score       age    tenure   balance  num_of_products  \\\n",
       "9344      0.809075 -1.039327 -1.025995  0.554904                1   \n",
       "3796     -1.152518 -1.227561  0.696524  0.480609                1   \n",
       "7462     -0.398853  0.090079  1.385532 -1.237830                1   \n",
       "1508     -0.749875 -0.286389  0.352020 -1.237830                2   \n",
       "4478     -1.028628 -0.756975 -0.336987 -1.237830                2   \n",
       "\n",
       "      has_cr_card  is_active_member  estimated_salary  geography_germany  \\\n",
       "9344            1                 0          0.019508                  0   \n",
       "3796            0                 0          0.056167                  0   \n",
       "7462            1                 1          0.848738                  0   \n",
       "1508            1                 1         -0.894953                  0   \n",
       "4478            0                 1         -1.284516                  0   \n",
       "\n",
       "      geography_spain  gender_male  \n",
       "9344                0            0  \n",
       "3796                0            1  \n",
       "7462                0            1  \n",
       "1508                0            1  \n",
       "4478                0            1  "
      ]
     },
     "metadata": {},
     "output_type": "display_data"
    },
    {
     "data": {
      "text/html": [
       "<div>\n",
       "<style scoped>\n",
       "    .dataframe tbody tr th:only-of-type {\n",
       "        vertical-align: middle;\n",
       "    }\n",
       "\n",
       "    .dataframe tbody tr th {\n",
       "        vertical-align: top;\n",
       "    }\n",
       "\n",
       "    .dataframe thead th {\n",
       "        text-align: right;\n",
       "    }\n",
       "</style>\n",
       "<table border=\"1\" class=\"dataframe\">\n",
       "  <thead>\n",
       "    <tr style=\"text-align: right;\">\n",
       "      <th></th>\n",
       "      <th>credit_score</th>\n",
       "      <th>age</th>\n",
       "      <th>tenure</th>\n",
       "      <th>balance</th>\n",
       "      <th>num_of_products</th>\n",
       "      <th>has_cr_card</th>\n",
       "      <th>is_active_member</th>\n",
       "      <th>estimated_salary</th>\n",
       "      <th>geography_germany</th>\n",
       "      <th>geography_spain</th>\n",
       "      <th>gender_male</th>\n",
       "    </tr>\n",
       "  </thead>\n",
       "  <tbody>\n",
       "    <tr>\n",
       "      <th>7445</th>\n",
       "      <td>-1.369326</td>\n",
       "      <td>0.560665</td>\n",
       "      <td>-0.336987</td>\n",
       "      <td>-1.237830</td>\n",
       "      <td>1</td>\n",
       "      <td>1</td>\n",
       "      <td>0</td>\n",
       "      <td>-0.086537</td>\n",
       "      <td>0</td>\n",
       "      <td>0</td>\n",
       "      <td>0</td>\n",
       "    </tr>\n",
       "    <tr>\n",
       "      <th>8620</th>\n",
       "      <td>1.232367</td>\n",
       "      <td>0.090079</td>\n",
       "      <td>1.041028</td>\n",
       "      <td>-1.237830</td>\n",
       "      <td>2</td>\n",
       "      <td>0</td>\n",
       "      <td>1</td>\n",
       "      <td>-0.537457</td>\n",
       "      <td>0</td>\n",
       "      <td>0</td>\n",
       "      <td>0</td>\n",
       "    </tr>\n",
       "    <tr>\n",
       "      <th>1714</th>\n",
       "      <td>0.840048</td>\n",
       "      <td>0.560665</td>\n",
       "      <td>0.352020</td>\n",
       "      <td>1.231363</td>\n",
       "      <td>1</td>\n",
       "      <td>0</td>\n",
       "      <td>0</td>\n",
       "      <td>1.070393</td>\n",
       "      <td>1</td>\n",
       "      <td>0</td>\n",
       "      <td>1</td>\n",
       "    </tr>\n",
       "    <tr>\n",
       "      <th>5441</th>\n",
       "      <td>1.056856</td>\n",
       "      <td>-0.945210</td>\n",
       "      <td>-1.370498</td>\n",
       "      <td>0.951231</td>\n",
       "      <td>1</td>\n",
       "      <td>1</td>\n",
       "      <td>0</td>\n",
       "      <td>-0.576279</td>\n",
       "      <td>0</td>\n",
       "      <td>0</td>\n",
       "      <td>1</td>\n",
       "    </tr>\n",
       "    <tr>\n",
       "      <th>9001</th>\n",
       "      <td>0.406433</td>\n",
       "      <td>-0.662858</td>\n",
       "      <td>0.352020</td>\n",
       "      <td>0.767800</td>\n",
       "      <td>1</td>\n",
       "      <td>1</td>\n",
       "      <td>1</td>\n",
       "      <td>0.662068</td>\n",
       "      <td>0</td>\n",
       "      <td>1</td>\n",
       "      <td>1</td>\n",
       "    </tr>\n",
       "  </tbody>\n",
       "</table>\n",
       "</div>"
      ],
      "text/plain": [
       "      credit_score       age    tenure   balance  num_of_products  \\\n",
       "7445     -1.369326  0.560665 -0.336987 -1.237830                1   \n",
       "8620      1.232367  0.090079  1.041028 -1.237830                2   \n",
       "1714      0.840048  0.560665  0.352020  1.231363                1   \n",
       "5441      1.056856 -0.945210 -1.370498  0.951231                1   \n",
       "9001      0.406433 -0.662858  0.352020  0.767800                1   \n",
       "\n",
       "      has_cr_card  is_active_member  estimated_salary  geography_germany  \\\n",
       "7445            1                 0         -0.086537                  0   \n",
       "8620            0                 1         -0.537457                  0   \n",
       "1714            0                 0          1.070393                  1   \n",
       "5441            1                 0         -0.576279                  0   \n",
       "9001            1                 1          0.662068                  0   \n",
       "\n",
       "      geography_spain  gender_male  \n",
       "7445                0            0  \n",
       "8620                0            0  \n",
       "1714                0            1  \n",
       "5441                0            1  \n",
       "9001                1            1  "
      ]
     },
     "metadata": {},
     "output_type": "display_data"
    },
    {
     "data": {
      "text/html": [
       "<div>\n",
       "<style scoped>\n",
       "    .dataframe tbody tr th:only-of-type {\n",
       "        vertical-align: middle;\n",
       "    }\n",
       "\n",
       "    .dataframe tbody tr th {\n",
       "        vertical-align: top;\n",
       "    }\n",
       "\n",
       "    .dataframe thead th {\n",
       "        text-align: right;\n",
       "    }\n",
       "</style>\n",
       "<table border=\"1\" class=\"dataframe\">\n",
       "  <thead>\n",
       "    <tr style=\"text-align: right;\">\n",
       "      <th></th>\n",
       "      <th>credit_score</th>\n",
       "      <th>age</th>\n",
       "      <th>tenure</th>\n",
       "      <th>balance</th>\n",
       "      <th>num_of_products</th>\n",
       "      <th>has_cr_card</th>\n",
       "      <th>is_active_member</th>\n",
       "      <th>estimated_salary</th>\n",
       "      <th>geography_germany</th>\n",
       "      <th>geography_spain</th>\n",
       "      <th>gender_male</th>\n",
       "    </tr>\n",
       "  </thead>\n",
       "  <tbody>\n",
       "    <tr>\n",
       "      <th>5170</th>\n",
       "      <td>1.707279</td>\n",
       "      <td>-0.756975</td>\n",
       "      <td>-0.336987</td>\n",
       "      <td>-1.237830</td>\n",
       "      <td>2</td>\n",
       "      <td>1</td>\n",
       "      <td>1</td>\n",
       "      <td>0.718362</td>\n",
       "      <td>0</td>\n",
       "      <td>0</td>\n",
       "      <td>0</td>\n",
       "    </tr>\n",
       "    <tr>\n",
       "      <th>4180</th>\n",
       "      <td>-0.429826</td>\n",
       "      <td>-0.286389</td>\n",
       "      <td>1.730036</td>\n",
       "      <td>0.485538</td>\n",
       "      <td>2</td>\n",
       "      <td>0</td>\n",
       "      <td>0</td>\n",
       "      <td>1.687305</td>\n",
       "      <td>1</td>\n",
       "      <td>0</td>\n",
       "      <td>1</td>\n",
       "    </tr>\n",
       "    <tr>\n",
       "      <th>7349</th>\n",
       "      <td>-0.171721</td>\n",
       "      <td>0.278313</td>\n",
       "      <td>0.352020</td>\n",
       "      <td>-0.269213</td>\n",
       "      <td>2</td>\n",
       "      <td>0</td>\n",
       "      <td>1</td>\n",
       "      <td>0.824128</td>\n",
       "      <td>1</td>\n",
       "      <td>0</td>\n",
       "      <td>1</td>\n",
       "    </tr>\n",
       "    <tr>\n",
       "      <th>7469</th>\n",
       "      <td>0.385784</td>\n",
       "      <td>-0.380507</td>\n",
       "      <td>1.041028</td>\n",
       "      <td>0.464813</td>\n",
       "      <td>1</td>\n",
       "      <td>1</td>\n",
       "      <td>0</td>\n",
       "      <td>-1.118018</td>\n",
       "      <td>0</td>\n",
       "      <td>0</td>\n",
       "      <td>0</td>\n",
       "    </tr>\n",
       "    <tr>\n",
       "      <th>3467</th>\n",
       "      <td>-1.142194</td>\n",
       "      <td>0.278313</td>\n",
       "      <td>-1.370498</td>\n",
       "      <td>0.353837</td>\n",
       "      <td>2</td>\n",
       "      <td>0</td>\n",
       "      <td>1</td>\n",
       "      <td>-0.107642</td>\n",
       "      <td>1</td>\n",
       "      <td>0</td>\n",
       "      <td>0</td>\n",
       "    </tr>\n",
       "  </tbody>\n",
       "</table>\n",
       "</div>"
      ],
      "text/plain": [
       "      credit_score       age    tenure   balance  num_of_products  \\\n",
       "5170      1.707279 -0.756975 -0.336987 -1.237830                2   \n",
       "4180     -0.429826 -0.286389  1.730036  0.485538                2   \n",
       "7349     -0.171721  0.278313  0.352020 -0.269213                2   \n",
       "7469      0.385784 -0.380507  1.041028  0.464813                1   \n",
       "3467     -1.142194  0.278313 -1.370498  0.353837                2   \n",
       "\n",
       "      has_cr_card  is_active_member  estimated_salary  geography_germany  \\\n",
       "5170            1                 1          0.718362                  0   \n",
       "4180            0                 0          1.687305                  1   \n",
       "7349            0                 1          0.824128                  1   \n",
       "7469            1                 0         -1.118018                  0   \n",
       "3467            0                 1         -0.107642                  1   \n",
       "\n",
       "      geography_spain  gender_male  \n",
       "5170                0            0  \n",
       "4180                0            1  \n",
       "7349                0            1  \n",
       "7469                0            0  \n",
       "3467                0            0  "
      ]
     },
     "execution_count": 33,
     "metadata": {},
     "output_type": "execute_result"
    }
   ],
   "source": [
    "# проведем стандартизацию для набора drop\n",
    "features_train_drop, features_valid_drop, features_test_drop =\\\n",
    "st_scaler(features_train_drop, features_valid_drop, features_test_drop, numeric)\n",
    "\n",
    "# проверим что получилось\n",
    "display(features_train_drop.head())\n",
    "display(features_valid_drop.head())\n",
    "features_test_drop.head()"
   ]
  },
  {
   "cell_type": "markdown",
   "metadata": {},
   "source": [
    "Провели масштабирование количественных признаков методом стандартизации."
   ]
  },
  {
   "cell_type": "markdown",
   "metadata": {},
   "source": [
    "### Исследование моделей на несбалансированных данных"
   ]
  },
  {
   "cell_type": "markdown",
   "metadata": {},
   "source": [
    "Оценим дисбаланс в таргетных данных"
   ]
  },
  {
   "cell_type": "code",
   "execution_count": 34,
   "metadata": {},
   "outputs": [
    {
     "name": "stdout",
     "output_type": "stream",
     "text": [
      "--------------------\n",
      "exited\n",
      "0    0.800667\n",
      "1    0.199333\n",
      "Name: proportion, dtype: float64\n",
      "--------------------\n",
      "--------------------\n",
      "exited\n",
      "0    0.800667\n",
      "1    0.199333\n",
      "Name: proportion, dtype: float64\n",
      "--------------------\n",
      "--------------------\n",
      "exited\n",
      "0    0.793546\n",
      "1    0.206454\n",
      "Name: proportion, dtype: float64\n",
      "--------------------\n"
     ]
    }
   ],
   "source": [
    "target_list = [target_train_zero, target_train_median, target_train_drop]\n",
    "for targ in target_list:\n",
    "    print('-'*20)\n",
    "    print(targ.value_counts(normalize=1))\n",
    "    print('-'*20)"
   ]
  },
  {
   "cell_type": "markdown",
   "metadata": {},
   "source": [
    "Видим, что для всех выборок наблюдается дисбаланс положительных и отрицательных ответов (20 на 80 %). Это надо учесть."
   ]
  },
  {
   "cell_type": "markdown",
   "metadata": {},
   "source": [
    "Для начала исследуем работу моделей на несбалансированных данных."
   ]
  },
  {
   "cell_type": "code",
   "execution_count": 35,
   "metadata": {},
   "outputs": [],
   "source": [
    "# создадим функцию для исследования моделей, которая на выходе будет давать информацию о качестве модели по параметру F1\n",
    "# и лучшие подобранные гиперпараметры для конкретной модели\n",
    "def all_models_f1(features_train, target_train, features_valid, target_valid, class_w):\n",
    "    \n",
    "    # модель DecisionTreeClassifier\n",
    "    best_result_tree = 0\n",
    "    list_criterion = ['gini', 'entropy']\n",
    "    for depth_tree in range(1, 50):\n",
    "        for crit in list_criterion:\n",
    "\n",
    "            # инициализируем модель с настройкой по глубине, задаваемой в цикле\n",
    "            model_dt = DecisionTreeClassifier(criterion = crit, random_state=12345, max_depth = depth_tree, class_weight=class_w)\n",
    "            # обучим модель\n",
    "            model_dt.fit(features_train, target_train)\n",
    "            # подготовим прогноз\n",
    "            predict_dt = model_dt.predict(features_valid)\n",
    "            # посчитаем точность\n",
    "            result_dt = f1_score(target_valid, predict_dt)\n",
    "            # найдем лучшую модель DecisionTreeClassifier\n",
    "            if result_dt > best_result_tree:\n",
    "                best_result_tree = result_dt\n",
    "                best_model_dt = model_dt\n",
    "    probabilities_dt = best_model_dt.predict_proba(features_valid)\n",
    "    probabilities_one_test_dt = probabilities_dt[:, 1]\n",
    "    print('Значение F1 для модели DecisionTreeClassifier:', best_result_tree)\n",
    "    print('Значение ROC-AUC для модели DecisionTreeClassifier:',\n",
    "          roc_auc_score(target_valid, probabilities_one_test_dt))\n",
    "    print(best_model_dt)\n",
    "    print('-' * 70)\n",
    "    \n",
    "    # модель RandomForestClassifier\n",
    "    best_result_forest = 0\n",
    "    list_bootstrap = ['False', 'True']\n",
    "\n",
    "    for depth_forest in range(1, 10):\n",
    "        for estimator in range(5, 51, 5):\n",
    "            for sample in range(1, 5):\n",
    "                for boots in list_bootstrap:\n",
    "                    # инициализируем модель с настройками, задаваемыми в цикле\n",
    "                    model_rf = RandomForestClassifier(random_state=12345, max_depth = depth_forest,\\\n",
    "                                                  n_estimators = estimator,min_samples_leaf = sample, class_weight=class_w)\n",
    "                    # обучим модель\n",
    "                    model_rf.fit(features_train, target_train)\n",
    "                    # подготовим прогноз\n",
    "                    predict_rf = model_rf.predict(features_valid)\n",
    "                    # посчитаем точность\n",
    "                    result_rf = f1_score(target_valid, predict_rf)\n",
    "                    # найдем лучшую модель       \n",
    "                    if result_rf > best_result_forest:\n",
    "                        best_result_forest = result_rf\n",
    "                        best_model_rf = model_rf                     \n",
    "    probabilities_rf = best_model_rf.predict_proba(features_valid)\n",
    "    probabilities_one_test_rf = probabilities_rf[:, 1]\n",
    "    print('Значение F1 для модели RandomForestClassifier:', best_result_forest)\n",
    "    print('Значение ROC-AUC для модели DecisionTreeClassifier:',\n",
    "          roc_auc_score(target_valid, probabilities_one_test_rf))\n",
    "    print(best_model_rf)\n",
    "    print('-' * 70)\n",
    "    \n",
    "    # модель LogisticRegression\n",
    "    list_solv = ['newton-cg', 'lbfgs', 'liblinear']\n",
    "    best_result_lr = 0\n",
    "    for solv in list_solv:\n",
    "        for it in range(100, 1001, 50):\n",
    "            # инициализируем модель с настройками, задаваемыми в цикле\n",
    "            model_lr = LogisticRegression(random_state=12345, solver=solv, max_iter = it, class_weight=class_w)\n",
    "            # обучим модель\n",
    "            model_lr.fit(features_train, target_train)\n",
    "            # подготовим прогноз\n",
    "            predict_lr = model_lr.predict(features_valid)\n",
    "            # посчитаем точность\n",
    "            result_lr = f1_score(target_valid, predict_lr)            \n",
    "            # найдем лучшую модель \n",
    "            if result_lr > best_result_lr:\n",
    "                        best_result_lr = result_lr\n",
    "                        best_model_lr = model_lr\n",
    "    probabilities_lr = best_model_lr.predict_proba(features_valid)\n",
    "    probabilities_one_test_lr = probabilities_lr[:, 1]\n",
    "    print('Значение F1 для модели LogisticRegression:', best_result_lr)\n",
    "    print('Значение ROC-AUC-для модели DecisionTreeClassifier:',\n",
    "          roc_auc_score(target_valid, probabilities_one_test_lr))\n",
    "    print(best_model_lr)\n",
    "    print('-' * 70)"
   ]
  },
  {
   "cell_type": "code",
   "execution_count": 36,
   "metadata": {
    "scrolled": true
   },
   "outputs": [
    {
     "name": "stdout",
     "output_type": "stream",
     "text": [
      "Оценка качества моделей для данных где пропуски были заполнены нулевыми значениями\n",
      "**********************************************************************\n",
      "Значение F1 для модели DecisionTreeClassifier: 0.5786516853932585\n",
      "Значение ROC-AUC для модели DecisionTreeClassifier: 0.7899719632952051\n",
      "DecisionTreeClassifier(max_depth=9, random_state=12345)\n",
      "----------------------------------------------------------------------\n",
      "Значение F1 для модели RandomForestClassifier: 0.5818181818181819\n",
      "Значение ROC-AUC для модели DecisionTreeClassifier: 0.8442586756513166\n",
      "RandomForestClassifier(max_depth=8, min_samples_leaf=3, n_estimators=5,\n",
      "                       random_state=12345)\n",
      "----------------------------------------------------------------------\n",
      "Значение F1 для модели LogisticRegression: 0.33389544688026984\n",
      "Значение ROC-AUC-для модели DecisionTreeClassifier: 0.758730091520031\n",
      "LogisticRegression(random_state=12345, solver='newton-cg')\n",
      "----------------------------------------------------------------------\n"
     ]
    }
   ],
   "source": [
    "# рассмотрим набор данных где попуски были заполнены нулевыми значениями\n",
    "print('Оценка качества моделей для данных где пропуски были заполнены нулевыми значениями')\n",
    "print('*'*70)\n",
    "all_models_f1(features_train_zero, target_train_zero, features_valid_zero, target_valid_zero, None)"
   ]
  },
  {
   "cell_type": "code",
   "execution_count": 37,
   "metadata": {},
   "outputs": [
    {
     "name": "stdout",
     "output_type": "stream",
     "text": [
      "Оценка качества моделей для данных где пропуски были заполнены медианными значениями\n",
      "**********************************************************************\n",
      "Значение F1 для модели DecisionTreeClassifier: 0.5696969696969697\n",
      "Значение ROC-AUC для модели DecisionTreeClassifier: 0.8164631712023421\n",
      "DecisionTreeClassifier(max_depth=6, random_state=12345)\n",
      "----------------------------------------------------------------------\n",
      "Значение F1 для модели RandomForestClassifier: 0.6015037593984962\n",
      "Значение ROC-AUC для модели DecisionTreeClassifier: 0.8499181884719844\n",
      "RandomForestClassifier(max_depth=9, min_samples_leaf=2, n_estimators=10,\n",
      "                       random_state=12345)\n",
      "----------------------------------------------------------------------\n",
      "Значение F1 для модели LogisticRegression: 0.33108108108108103\n",
      "Значение ROC-AUC-для модели DecisionTreeClassifier: 0.75880872736951\n",
      "LogisticRegression(random_state=12345, solver='newton-cg')\n",
      "----------------------------------------------------------------------\n"
     ]
    }
   ],
   "source": [
    "# рассмотрим набор данных где попуски были заполнены медианными значениями\n",
    "print('Оценка качества моделей для данных где пропуски были заполнены медианными значениями')\n",
    "print('*'*70)\n",
    "all_models_f1(features_train_median, target_train_median, features_valid_median, target_valid_median, None)"
   ]
  },
  {
   "cell_type": "code",
   "execution_count": 38,
   "metadata": {},
   "outputs": [
    {
     "name": "stdout",
     "output_type": "stream",
     "text": [
      "Оценка качества моделей для данных где пропуски были удалены\n",
      "**********************************************************************\n",
      "Значение F1 для модели DecisionTreeClassifier: 0.5809682804674458\n",
      "Значение ROC-AUC для модели DecisionTreeClassifier: 0.8449380311712504\n",
      "DecisionTreeClassifier(criterion='entropy', max_depth=6, random_state=12345)\n",
      "----------------------------------------------------------------------\n",
      "Значение F1 для модели RandomForestClassifier: 0.5813148788927336\n",
      "Значение ROC-AUC для модели DecisionTreeClassifier: 0.8688815790684704\n",
      "RandomForestClassifier(max_depth=7, min_samples_leaf=3, n_estimators=40,\n",
      "                       random_state=12345)\n",
      "----------------------------------------------------------------------\n",
      "Значение F1 для модели LogisticRegression: 0.30400000000000005\n",
      "Значение ROC-AUC-для модели DecisionTreeClassifier: 0.7736632938001718\n",
      "LogisticRegression(random_state=12345, solver='newton-cg')\n",
      "----------------------------------------------------------------------\n"
     ]
    }
   ],
   "source": [
    "# рассмотрим набор данных где попуски были удалены\n",
    "print('Оценка качества моделей для данных где пропуски были удалены')\n",
    "print('*'*70)\n",
    "all_models_f1(features_train_drop, target_train_drop, features_valid_drop, target_valid_drop, None)"
   ]
  },
  {
   "attachments": {
    "1.JPG": {
     "image/jpeg": "[encoded data removed]"
    }
   },
   "cell_type": "markdown",
   "metadata": {},
   "source": [
    "Сводное значение F1, для несбалансированных выборок:\n",
    "\n",
    "![1.JPG](attachment:1.JPG)"
   ]
  },
  {
   "attachments": {
    "2.JPG": {
     "image/jpeg": "[encoded data removed]"
    }
   },
   "cell_type": "markdown",
   "metadata": {},
   "source": [
    "Сводное значение ROC-AUC, для несбалансированных выборок:\n",
    "\n",
    "![2.JPG](attachment:2.JPG)"
   ]
  },
  {
   "cell_type": "markdown",
   "metadata": {},
   "source": [
    "Лучший параметр F1 = 0.6015, при ROC-AUC = 0.84991,  для несбалансированных данных, был достигнут на выборке, для которой пропуски в исходном датафрейме были заполнены медианными значениями. \n",
    "\n",
    "\n",
    "Данные по лучшей  модели: RandomForestClassifier(max_depth=9, min_samples_leaf=2, n_estimators=10, random_state=12345)"
   ]
  },
  {
   "cell_type": "markdown",
   "metadata": {},
   "source": [
    "### Вывод"
   ]
  },
  {
   "cell_type": "markdown",
   "metadata": {},
   "source": [
    "- Задача представляет сосбой задачу бинарной классификации;\n",
    "- Данные имею дисбаланс: 80 % - отрицательные ответы;\n",
    "- Были удалены неиформативные признаки -столбцы: 'row_number', 'customer_id', 'surname';\n",
    "- Для всех датафреймов были созданы бучающая/валидационная/тестовая выборки (в пропорциях - 60/20/20);\n",
    "- Проведено масштабирование количественных признаков методом стандартизации;\n",
    "- Лучший параметр F1 = 0.6015, для несбалансированных данных, был достигнут на выборке, для которой пропуски в исходном датафрейме были заполнены медианными значениями. Данные по лучшей  модели: RandomForestClassifier(max_depth=9, min_samples_leaf=2, n_estimators=10, random_state=12345)"
   ]
  },
  {
   "cell_type": "markdown",
   "metadata": {},
   "source": [
    "## Борьба с дисбалансом"
   ]
  },
  {
   "cell_type": "markdown",
   "metadata": {},
   "source": [
    "### Взвешивание классов"
   ]
  },
  {
   "cell_type": "markdown",
   "metadata": {},
   "source": [
    "Проведем взвешивание классов при помощи встроенного в модели гиперпараметра class_weight."
   ]
  },
  {
   "cell_type": "code",
   "execution_count": 39,
   "metadata": {
    "scrolled": true
   },
   "outputs": [
    {
     "name": "stdout",
     "output_type": "stream",
     "text": [
      "Оценка качества моделей для данных, со взвешенными классами, где пропуски были заполнены нулевыми значениями\n",
      "**********************************************************************\n",
      "Значение F1 для модели DecisionTreeClassifier: 0.5984930032292788\n",
      "Значение ROC-AUC для модели DecisionTreeClassifier: 0.8307537246172549\n",
      "DecisionTreeClassifier(class_weight='balanced', criterion='entropy',\n",
      "                       max_depth=5, random_state=12345)\n",
      "----------------------------------------------------------------------\n",
      "Значение F1 для модели RandomForestClassifier: 0.6329386437029063\n",
      "Значение ROC-AUC для модели DecisionTreeClassifier: 0.8556729716487518\n",
      "RandomForestClassifier(class_weight='balanced', max_depth=8, min_samples_leaf=3,\n",
      "                       n_estimators=50, random_state=12345)\n",
      "----------------------------------------------------------------------\n",
      "Значение F1 для модели LogisticRegression: 0.4888888888888888\n",
      "Значение ROC-AUC-для модели DecisionTreeClassifier: 0.7634951215528766\n",
      "LogisticRegression(class_weight='balanced', random_state=12345,\n",
      "                   solver='newton-cg')\n",
      "----------------------------------------------------------------------\n"
     ]
    }
   ],
   "source": [
    "# рассмотрим набор данных где пропуски были заполнены нулевыми значениями\n",
    "print('Оценка качества моделей для данных, со взвешенными классами, где пропуски были заполнены нулевыми значениями')\n",
    "print('*'*70)\n",
    "all_models_f1(features_train_zero, target_train_zero, features_valid_zero, target_valid_zero, 'balanced')"
   ]
  },
  {
   "cell_type": "code",
   "execution_count": 40,
   "metadata": {
    "scrolled": true
   },
   "outputs": [
    {
     "name": "stdout",
     "output_type": "stream",
     "text": [
      "Оценка качества моделей для данных, со взвешенными классами, где пропуски были заполнены медианными значениями\n",
      "**********************************************************************\n",
      "Значение F1 для модели DecisionTreeClassifier: 0.5984930032292788\n",
      "Значение ROC-AUC для модели DecisionTreeClassifier: 0.8307537246172549\n",
      "DecisionTreeClassifier(class_weight='balanced', criterion='entropy',\n",
      "                       max_depth=5, random_state=12345)\n",
      "----------------------------------------------------------------------\n",
      "Значение F1 для модели RandomForestClassifier: 0.6342494714587738\n",
      "Значение ROC-AUC для модели DecisionTreeClassifier: 0.8576615513038428\n",
      "RandomForestClassifier(class_weight='balanced', max_depth=8, min_samples_leaf=4,\n",
      "                       n_estimators=50, random_state=12345)\n",
      "----------------------------------------------------------------------\n",
      "Значение F1 для модели LogisticRegression: 0.4888507718696398\n",
      "Значение ROC-AUC-для модели DecisionTreeClassifier: 0.7636811255814515\n",
      "LogisticRegression(class_weight='balanced', random_state=12345,\n",
      "                   solver='newton-cg')\n",
      "----------------------------------------------------------------------\n"
     ]
    }
   ],
   "source": [
    "# рассмотрим набор данных где попуски были заполнены медианными значениями\n",
    "print('Оценка качества моделей для данных, со взвешенными классами, где пропуски были заполнены медианными значениями')\n",
    "print('*'*70)\n",
    "all_models_f1(features_train_median, target_train_median, features_valid_median, target_valid_median, 'balanced')"
   ]
  },
  {
   "cell_type": "code",
   "execution_count": 41,
   "metadata": {
    "scrolled": true
   },
   "outputs": [
    {
     "name": "stdout",
     "output_type": "stream",
     "text": [
      "Оценка качества моделей для данных, со взвешенными классами, где пропуски были удалены\n",
      "**********************************************************************\n",
      "Значение F1 для модели DecisionTreeClassifier: 0.5735449735449736\n",
      "Значение ROC-AUC для модели DecisionTreeClassifier: 0.8396523192522141\n",
      "DecisionTreeClassifier(class_weight='balanced', max_depth=5, random_state=12345)\n",
      "----------------------------------------------------------------------\n",
      "Значение F1 для модели RandomForestClassifier: 0.6555819477434679\n",
      "Значение ROC-AUC для модели DecisionTreeClassifier: 0.870116721919828\n",
      "RandomForestClassifier(class_weight='balanced', max_depth=8, min_samples_leaf=3,\n",
      "                       n_estimators=40, random_state=12345)\n",
      "----------------------------------------------------------------------\n",
      "Значение F1 для модели LogisticRegression: 0.509731232622799\n",
      "Значение ROC-AUC-для модели DecisionTreeClassifier: 0.7777755279729484\n",
      "LogisticRegression(class_weight='balanced', random_state=12345,\n",
      "                   solver='newton-cg')\n",
      "----------------------------------------------------------------------\n"
     ]
    }
   ],
   "source": [
    "# рассмотрим набор данных где попуски были удалены\n",
    "print('Оценка качества моделей для данных, со взвешенными классами, где пропуски были удалены')\n",
    "print('*'*70)\n",
    "all_models_f1(features_train_drop, target_train_drop, features_valid_drop, target_valid_drop, 'balanced')"
   ]
  },
  {
   "attachments": {
    "3.JPG": {
     "image/jpeg": "[encoded data removed]"
    }
   },
   "cell_type": "markdown",
   "metadata": {},
   "source": [
    "Сводное значение F1, для сбалансированных выборок, методом взвешивания классов:\n",
    "\n",
    "\n",
    "![3.JPG](attachment:3.JPG)"
   ]
  },
  {
   "attachments": {
    "4.JPG": {
     "image/jpeg": "[encoded data removed]"
    }
   },
   "cell_type": "markdown",
   "metadata": {},
   "source": [
    "Сводное значение ROC-AUC, для сбалансированных выборок, методом взвешивания классов:\n",
    "\n",
    "\n",
    "![4.JPG](attachment:4.JPG)"
   ]
  },
  {
   "cell_type": "markdown",
   "metadata": {},
   "source": [
    "В целом качество моделей улучшилось, по сравнению с несбалансированными данными.\n",
    "\n",
    "\n",
    "Лучший параметр F1 = 0.65558, при ROC-AUC = 0.87011, для взвешенных классов, был достигнут на выборке, для которой пропуски в исходном датафрейме были удалены. \n",
    "\n",
    "\n",
    "Данные по лучшей  модели: RandomForestClassifier(class_weight='balanced', max_depth=8, min_samples_leaf=3, n_estimators=40, random_state=12345)"
   ]
  },
  {
   "cell_type": "markdown",
   "metadata": {},
   "source": [
    "### Увеличение выборки"
   ]
  },
  {
   "cell_type": "markdown",
   "metadata": {},
   "source": [
    "Увеличим долю положительных ответов в 4 раза, так как соотношение 0/1 у нас - 80/20"
   ]
  },
  {
   "cell_type": "code",
   "execution_count": 42,
   "metadata": {},
   "outputs": [],
   "source": [
    "# создадим функцию по увеличению выборки, не забудем про перемешивание\n",
    "def upsample(features, target, repeat):\n",
    "    features_zeros = features[target == 0]\n",
    "    features_ones = features[target == 1]\n",
    "    target_zeros = target[target == 0]\n",
    "    target_ones = target[target == 1]\n",
    "    \n",
    "    features_upsampled = pd.concat([features_zeros] + [features_ones] * repeat)\n",
    "    target_upsampled = pd.concat([target_zeros] + [target_ones] * repeat)\n",
    "    features_upsampled, target_upsampled = shuffle(\n",
    "    features_upsampled, target_upsampled, random_state=12345)\n",
    "    \n",
    "    return features_upsampled, target_upsampled"
   ]
  },
  {
   "cell_type": "code",
   "execution_count": 43,
   "metadata": {
    "scrolled": true
   },
   "outputs": [
    {
     "data": {
      "text/plain": [
       "exited\n",
       "0    0.501043\n",
       "1    0.498957\n",
       "Name: proportion, dtype: float64"
      ]
     },
     "execution_count": 43,
     "metadata": {},
     "output_type": "execute_result"
    }
   ],
   "source": [
    "# увеличим выборку для данных zero\n",
    "features_train_zero_up, target_train_zero_up = upsample(features_train_zero, target_train_zero, 4)\n",
    "\n",
    "# проверим соотношение\n",
    "target_train_zero_up.value_counts(normalize=1)"
   ]
  },
  {
   "cell_type": "code",
   "execution_count": 44,
   "metadata": {},
   "outputs": [
    {
     "data": {
      "text/plain": [
       "exited\n",
       "0    0.501043\n",
       "1    0.498957\n",
       "Name: proportion, dtype: float64"
      ]
     },
     "execution_count": 44,
     "metadata": {},
     "output_type": "execute_result"
    }
   ],
   "source": [
    "# увеличим выборку для данных median\n",
    "features_train_median_up, target_train_median_up = upsample(features_train_median, target_train_median, 4)\n",
    "\n",
    "# проверим соотношение\n",
    "target_train_median_up.value_counts(normalize=1)"
   ]
  },
  {
   "cell_type": "code",
   "execution_count": 45,
   "metadata": {
    "scrolled": true
   },
   "outputs": [
    {
     "data": {
      "text/plain": [
       "exited\n",
       "1    0.509964\n",
       "0    0.490036\n",
       "Name: proportion, dtype: float64"
      ]
     },
     "execution_count": 45,
     "metadata": {},
     "output_type": "execute_result"
    }
   ],
   "source": [
    "# увеличим выборку для данных drop\n",
    "features_train_drop_up, target_train_drop_up = upsample(features_train_drop, target_train_drop, 4)\n",
    "\n",
    "# проверим соотношение\n",
    "target_train_drop_up.value_counts(normalize=1)"
   ]
  },
  {
   "cell_type": "markdown",
   "metadata": {},
   "source": [
    "Исследуем модели"
   ]
  },
  {
   "cell_type": "code",
   "execution_count": 46,
   "metadata": {},
   "outputs": [
    {
     "name": "stdout",
     "output_type": "stream",
     "text": [
      "Оценка качества моделей для данных, с увеличенной выборкой, где пропуски были заполнены нулевыми значениями\n",
      "**********************************************************************\n",
      "Значение F1 для модели DecisionTreeClassifier: 0.5984930032292788\n",
      "Значение ROC-AUC для модели DecisionTreeClassifier: 0.8306108190831059\n",
      "DecisionTreeClassifier(criterion='entropy', max_depth=5, random_state=12345)\n",
      "----------------------------------------------------------------------\n",
      "Значение F1 для модели RandomForestClassifier: 0.6310483870967742\n",
      "Значение ROC-AUC для модели DecisionTreeClassifier: 0.8531770395417344\n",
      "RandomForestClassifier(max_depth=7, min_samples_leaf=2, n_estimators=25,\n",
      "                       random_state=12345)\n",
      "----------------------------------------------------------------------\n",
      "Значение F1 для модели LogisticRegression: 0.4888888888888888\n",
      "Значение ROC-AUC-для модели DecisionTreeClassifier: 0.7634361446657674\n",
      "LogisticRegression(random_state=12345, solver='newton-cg')\n",
      "----------------------------------------------------------------------\n"
     ]
    }
   ],
   "source": [
    "# рассмотрим набор данных где пропуски были заполнены нулевыми значениями\n",
    "print('Оценка качества моделей для данных, с увеличенной выборкой, где пропуски были заполнены нулевыми значениями')\n",
    "print('*'*70)\n",
    "all_models_f1(features_train_zero_up, target_train_zero_up, features_valid_zero, target_valid_zero, None)"
   ]
  },
  {
   "cell_type": "code",
   "execution_count": 47,
   "metadata": {},
   "outputs": [
    {
     "name": "stdout",
     "output_type": "stream",
     "text": [
      "Оценка качества моделей для данных, с увеличенной выборкой, где пропуски были заполнены медианными значениями\n",
      "**********************************************************************\n",
      "Значение F1 для модели DecisionTreeClassifier: 0.5984930032292788\n",
      "Значение ROC-AUC для модели DecisionTreeClassifier: 0.8306108190831059\n",
      "DecisionTreeClassifier(criterion='entropy', max_depth=5, random_state=12345)\n",
      "----------------------------------------------------------------------\n",
      "Значение F1 для модели RandomForestClassifier: 0.6270491803278689\n",
      "Значение ROC-AUC для модели DecisionTreeClassifier: 0.8536874164494099\n",
      "RandomForestClassifier(max_depth=7, min_samples_leaf=2, n_estimators=45,\n",
      "                       random_state=12345)\n",
      "----------------------------------------------------------------------\n",
      "Значение F1 для модели LogisticRegression: 0.4888507718696398\n",
      "Значение ROC-AUC-для модели DecisionTreeClassifier: 0.7636191242385932\n",
      "LogisticRegression(random_state=12345, solver='newton-cg')\n",
      "----------------------------------------------------------------------\n"
     ]
    }
   ],
   "source": [
    "# рассмотрим набор данных где попуски были заполнены медианными значениями\n",
    "print('Оценка качества моделей для данных, с увеличенной выборкой, где пропуски были заполнены медианными значениями')\n",
    "print('*'*70)\n",
    "all_models_f1(features_train_median_up, target_train_median_up, features_valid_median, target_valid_median, None)"
   ]
  },
  {
   "cell_type": "code",
   "execution_count": 48,
   "metadata": {
    "scrolled": true
   },
   "outputs": [
    {
     "name": "stdout",
     "output_type": "stream",
     "text": [
      "Оценка качества моделей для данных, с увеличенной выборкой, где пропуски были удалены\n",
      "**********************************************************************\n",
      "Значение F1 для модели DecisionTreeClassifier: 0.5735449735449736\n",
      "Значение ROC-AUC для модели DecisionTreeClassifier: 0.8396523192522141\n",
      "DecisionTreeClassifier(max_depth=5, random_state=12345)\n",
      "----------------------------------------------------------------------\n",
      "Значение F1 для модели RandomForestClassifier: 0.6307519640852974\n",
      "Значение ROC-AUC для модели DecisionTreeClassifier: 0.8679151856303737\n",
      "RandomForestClassifier(max_depth=9, min_samples_leaf=4, n_estimators=30,\n",
      "                       random_state=12345)\n",
      "----------------------------------------------------------------------\n",
      "Значение F1 для модели LogisticRegression: 0.5085972850678734\n",
      "Значение ROC-AUC-для модели DecisionTreeClassifier: 0.7778583616962137\n",
      "LogisticRegression(random_state=12345, solver='newton-cg')\n",
      "----------------------------------------------------------------------\n"
     ]
    }
   ],
   "source": [
    "# рассмотрим набор данных где попуски были удалены\n",
    "print('Оценка качества моделей для данных, с увеличенной выборкой, где пропуски были удалены')\n",
    "print('*'*70)\n",
    "all_models_f1(features_train_drop_up, target_train_drop_up, features_valid_drop, target_valid_drop, None)"
   ]
  },
  {
   "attachments": {
    "5.JPG": {
     "image/jpeg": "[encoded data removed]"
    }
   },
   "cell_type": "markdown",
   "metadata": {},
   "source": [
    "Сводное значение F1, для сбалансированных выборок, методом увеличения выборки:\n",
    "\n",
    "![5.JPG](attachment:5.JPG)"
   ]
  },
  {
   "attachments": {
    "6.JPG": {
     "image/jpeg": "[encoded data removed]"
    }
   },
   "cell_type": "markdown",
   "metadata": {},
   "source": [
    "Сводное значение ROC-AUC, для сбалансированных выборок, методом увеличения выборки:\n",
    "\n",
    "\n",
    "![6.JPG](attachment:6.JPG)"
   ]
  },
  {
   "cell_type": "markdown",
   "metadata": {},
   "source": [
    "В целом качество моделей улучшилось, по сравнению с несбалансированными данными, но немного хуже чем для сбалансированных класов, настройкой гиперпараметра.\n",
    "\n",
    "\n",
    "Лучший параметр F1 = 0.63104, при ROC-AUC = 0.85317, для увеличенных выборок, был достигнут на выборке, для которой пропуски в исходном датафрейме были заполнены нулевыми значениями. \n",
    "\n",
    "\n",
    "Данные по лучшей  модели: RandomForestClassifier(max_depth=7, min_samples_leaf=2, n_estimators=30, random_state=12345)"
   ]
  },
  {
   "cell_type": "markdown",
   "metadata": {},
   "source": [
    "### Уменьшение выборки"
   ]
  },
  {
   "cell_type": "markdown",
   "metadata": {},
   "source": [
    "Уменьшим долю отрицательных ответов в 4 раза, так как соотношение 0/1 у нас - 80/20"
   ]
  },
  {
   "cell_type": "code",
   "execution_count": 49,
   "metadata": {},
   "outputs": [],
   "source": [
    "# создадим функцию по уменьшению выборки, не забудем про перемешивание\n",
    "def downsample(features, target, fraction):\n",
    "    features_zeros = features[target == 0]\n",
    "    features_ones = features[target == 1]\n",
    "    target_zeros = target[target == 0]\n",
    "    target_ones = target[target == 1]\n",
    "    \n",
    "    features_downsampled = pd.concat(\n",
    "    [features_zeros.sample(frac=fraction, random_state=12345)] + [features_ones])\n",
    "    \n",
    "    target_downsampled = pd.concat(\n",
    "    [target_zeros.sample(frac=fraction, random_state=12345)] + [target_ones])\n",
    "    \n",
    "    features_downsampled, target_downsampled = shuffle(\n",
    "    features_downsampled, target_downsampled, random_state=12345)\n",
    "    \n",
    "    return features_downsampled, target_downsampled"
   ]
  },
  {
   "cell_type": "code",
   "execution_count": 50,
   "metadata": {},
   "outputs": [
    {
     "data": {
      "text/plain": [
       "exited\n",
       "0    0.501043\n",
       "1    0.498957\n",
       "Name: proportion, dtype: float64"
      ]
     },
     "execution_count": 50,
     "metadata": {},
     "output_type": "execute_result"
    }
   ],
   "source": [
    "# уменьшим выборку для данных zero\n",
    "features_train_zero_down, target_train_zero_down = downsample(features_train_zero, target_train_zero, 0.25)\n",
    "\n",
    "# проверим соотношение\n",
    "target_train_zero_down.value_counts(normalize=1)"
   ]
  },
  {
   "cell_type": "code",
   "execution_count": 51,
   "metadata": {},
   "outputs": [
    {
     "data": {
      "text/plain": [
       "exited\n",
       "0    0.501043\n",
       "1    0.498957\n",
       "Name: proportion, dtype: float64"
      ]
     },
     "execution_count": 51,
     "metadata": {},
     "output_type": "execute_result"
    }
   ],
   "source": [
    "# уменьшим выборку для данных median\n",
    "features_train_median_down, target_train_median_down = downsample(features_train_median, target_train_median, 0.25)\n",
    "\n",
    "# проверим соотношение\n",
    "target_train_median_down.value_counts(normalize=1)"
   ]
  },
  {
   "cell_type": "code",
   "execution_count": 52,
   "metadata": {},
   "outputs": [
    {
     "data": {
      "text/plain": [
       "exited\n",
       "1    0.509964\n",
       "0    0.490036\n",
       "Name: proportion, dtype: float64"
      ]
     },
     "execution_count": 52,
     "metadata": {},
     "output_type": "execute_result"
    }
   ],
   "source": [
    "# уменьшим выборку для данных drop\n",
    "features_train_drop_down, target_train_drop_down = downsample(features_train_drop, target_train_drop, 0.25)\n",
    "\n",
    "# проверим соотношение\n",
    "target_train_drop_down.value_counts(normalize=1)"
   ]
  },
  {
   "cell_type": "code",
   "execution_count": 53,
   "metadata": {
    "scrolled": true
   },
   "outputs": [
    {
     "name": "stdout",
     "output_type": "stream",
     "text": [
      "Оценка качества моделей для данных, с уменьшенной выборкой, где пропуски были заполнены нулевыми значениями\n",
      "**********************************************************************\n",
      "Значение F1 для модели DecisionTreeClassifier: 0.5973397823458283\n",
      "Значение ROC-AUC для модели DecisionTreeClassifier: 0.8044402034853828\n",
      "DecisionTreeClassifier(criterion='entropy', max_depth=3, random_state=12345)\n",
      "----------------------------------------------------------------------\n",
      "Значение F1 для модели RandomForestClassifier: 0.6095954844778928\n",
      "Значение ROC-AUC для модели DecisionTreeClassifier: 0.8550620315874159\n",
      "RandomForestClassifier(max_depth=9, min_samples_leaf=3, n_estimators=25,\n",
      "                       random_state=12345)\n",
      "----------------------------------------------------------------------\n",
      "Значение F1 для модели LogisticRegression: 0.4892703862660944\n",
      "Значение ROC-AUC-для модели DecisionTreeClassifier: 0.7626361761201071\n",
      "LogisticRegression(random_state=12345, solver='newton-cg')\n",
      "----------------------------------------------------------------------\n"
     ]
    }
   ],
   "source": [
    "# рассмотрим набор данных где пропуски были заполнены нулевыми значениями\n",
    "print('Оценка качества моделей для данных, с уменьшенной выборкой, где пропуски были заполнены нулевыми значениями')\n",
    "print('*'*70)\n",
    "all_models_f1(features_train_zero_down, target_train_zero_down, features_valid_zero, target_valid_zero, None)"
   ]
  },
  {
   "cell_type": "code",
   "execution_count": 54,
   "metadata": {
    "scrolled": true
   },
   "outputs": [
    {
     "name": "stdout",
     "output_type": "stream",
     "text": [
      "Оценка качества моделей для данных, с уменьшенной выборкой, где пропуски были заполнены медианными значениями\n",
      "**********************************************************************\n",
      "Значение F1 для модели DecisionTreeClassifier: 0.5973397823458283\n",
      "Значение ROC-AUC для модели DecisionTreeClassifier: 0.8044402034853828\n",
      "DecisionTreeClassifier(criterion='entropy', max_depth=3, random_state=12345)\n",
      "----------------------------------------------------------------------\n",
      "Значение F1 для модели RandomForestClassifier: 0.6092184368737475\n",
      "Значение ROC-AUC для модели DecisionTreeClassifier: 0.8354975834598564\n",
      "RandomForestClassifier(max_depth=4, n_estimators=10, random_state=12345)\n",
      "----------------------------------------------------------------------\n",
      "Значение F1 для модели LogisticRegression: 0.48406546080964685\n",
      "Значение ROC-AUC-для модели DecisionTreeClassifier: 0.7622263623660923\n",
      "LogisticRegression(random_state=12345, solver='newton-cg')\n",
      "----------------------------------------------------------------------\n"
     ]
    }
   ],
   "source": [
    "# рассмотрим набор данных где попуски были заполнены медианными значениями\n",
    "print('Оценка качества моделей для данных, с уменьшенной выборкой, где пропуски были заполнены медианными значениями')\n",
    "print('*'*70)\n",
    "all_models_f1(features_train_median_down, target_train_median_down, features_valid_median, target_valid_median, None)"
   ]
  },
  {
   "cell_type": "code",
   "execution_count": 55,
   "metadata": {
    "scrolled": true
   },
   "outputs": [
    {
     "name": "stdout",
     "output_type": "stream",
     "text": [
      "Оценка качества моделей для данных, с уменьшенной выборкой, где пропуски были удалены\n",
      "**********************************************************************\n",
      "Значение F1 для модели DecisionTreeClassifier: 0.5667574931880109\n",
      "Значение ROC-AUC для модели DecisionTreeClassifier: 0.8438142536589497\n",
      "DecisionTreeClassifier(criterion='entropy', max_depth=5, random_state=12345)\n",
      "----------------------------------------------------------------------\n",
      "Значение F1 для модели RandomForestClassifier: 0.6072874493927125\n",
      "Значение ROC-AUC для модели DecisionTreeClassifier: 0.8653234104668692\n",
      "RandomForestClassifier(max_depth=8, n_estimators=40, random_state=12345)\n",
      "----------------------------------------------------------------------\n",
      "Значение F1 для модели LogisticRegression: 0.5053763440860214\n",
      "Значение ROC-AUC-для модели DecisionTreeClassifier: 0.7771662399195961\n",
      "LogisticRegression(random_state=12345, solver='liblinear')\n",
      "----------------------------------------------------------------------\n"
     ]
    }
   ],
   "source": [
    "# рассмотрим набор данных где попуски были удалены\n",
    "print('Оценка качества моделей для данных, с уменьшенной выборкой, где пропуски были удалены')\n",
    "print('*'*70)\n",
    "all_models_f1(features_train_drop_down, target_train_drop_down, features_valid_drop, target_valid_drop, None)"
   ]
  },
  {
   "attachments": {
    "7.JPG": {
     "image/jpeg": "[encoded data removed]"
    }
   },
   "cell_type": "markdown",
   "metadata": {},
   "source": [
    "Сводное значение F1, для сбалансированных выборок, методом уменьшения выборки:\n",
    "\n",
    "\n",
    "![7.JPG](attachment:7.JPG)"
   ]
  },
  {
   "attachments": {
    "8.JPG": {
     "image/jpeg": "[encoded data removed]"
    }
   },
   "cell_type": "markdown",
   "metadata": {},
   "source": [
    "Сводное значение ROC-AUC, для сбалансированных выборок, методом уменьшения выборки:\n",
    "\n",
    "\n",
    "![8.JPG](attachment:8.JPG)"
   ]
  },
  {
   "cell_type": "markdown",
   "metadata": {},
   "source": [
    "В целом качество моделей улучшилось, по сравнению с несбалансированными данными, но немного хуже чем для сбалансированных класов, настройкой гиперпараметра и увеличением выборок.\n",
    "\n",
    "\n",
    "Лучший параметр F1 = 0.60959, для уменьшенных выборок, был достигнут на выборке, для которой пропуски в исходном датафрейме были заполнены нулевыми значениями. \n",
    "\n",
    "\n",
    "Данные по лучшей  модели: RandomForestClassifier(max_depth=9, min_samples_leaf=3, n_estimators=25, random_state=12345)"
   ]
  },
  {
   "cell_type": "markdown",
   "metadata": {},
   "source": [
    "### Вывод"
   ]
  },
  {
   "cell_type": "markdown",
   "metadata": {},
   "source": [
    "- применены три способа борьбы с дисбаласном признаков: настройка гиперпараметра взвешивания классов, увеличение выборок (увеличение доли положительных ответов), уменьшение выборок (уменьшение доли отрицательных ответов);\n",
    "\n",
    "\n",
    "- настройка гиперпараметра взвешивания классов: В целом качество моделей улучшилось, по сравнению с несбалансированными данными.\n",
    "  Лучший параметр F1 = 0.6532, для несбалансированных данных, был достигнут на выборке, для которой пропуски в исходном датафрейме были удалены. \n",
    "  Данные по лучшей  модели: RandomForestClassifier(class_weight='balanced', max_depth=8, min_samples_leaf=3, n_estimators=25, random_state=12345)\n",
    "\n",
    "\n",
    "- увеличение выборки: В целом качество моделей улучшилось, по сравнению с несбалансированными данными, но немного хуже чем для сбалансированных класов, настройкой гиперпараметра.\n",
    "  Лучший параметр F1 = 0.63104, для увеличенных выборок, был достигнут на выборке, для которой пропуски в исходном датафрейме были заполнены нулевыми значениями. \n",
    "  Данные по лучшей  модели: RandomForestClassifier(max_depth=7, min_samples_leaf=2, n_estimators=25, random_state=12345)\n",
    "  \n",
    "  \n",
    "-  уменьшение выборки: В целом качество моделей улучшилось, по сравнению с несбалансированными данными, но немного хуже чем для сбалансированных класов, настройкой гиперпараметра и увеличением выборок.\n",
    "   Лучший параметр F1 = 0.60959, для уменьшенных выборок, был достигнут на выборке, для которой пропуски в исходном датафрейме   были заполнены нулевыми значениями. \n",
    "   Данные по лучшей  модели: RandomForestClassifier(max_depth=9, min_samples_leaf=3, n_estimators=25, random_state=12345)\n",
    "   \n",
    "   \n",
    "-  **Для финального тестирования: выборки, где пропуски в начальном датафрейме были удалены, модель: RandomForestClassifier(class_weight='balanced', max_depth=8, min_samples_leaf=3, n_estimators=40, random_state=12345)**"
   ]
  },
  {
   "cell_type": "markdown",
   "metadata": {},
   "source": [
    "## Тестирование модели"
   ]
  },
  {
   "cell_type": "markdown",
   "metadata": {},
   "source": [
    "Проведем тестирование модели."
   ]
  },
  {
   "cell_type": "code",
   "execution_count": 56,
   "metadata": {},
   "outputs": [
    {
     "data": {
      "text/plain": [
       "0.6084788029925187"
      ]
     },
     "execution_count": 56,
     "metadata": {},
     "output_type": "execute_result"
    }
   ],
   "source": [
    "# инициализируем модель\n",
    "model_rf = RandomForestClassifier(class_weight='balanced', max_depth=8, min_samples_leaf=3,\n",
    "                                  n_estimators=40, random_state=12345)\n",
    "\n",
    "# обучим модель\n",
    "model_rf.fit(features_train_drop, target_train_drop)\n",
    "\n",
    "# получим предсказания модели\n",
    "predict_rf = model_rf.predict(features_test_drop)\n",
    "\n",
    "# оценим качество\n",
    "result_rf = f1_score(target_test_drop, predict_rf)\n",
    "result_rf"
   ]
  },
  {
   "cell_type": "markdown",
   "metadata": {},
   "source": [
    "Видим, что метрика F1 получилась выше целевого значения (0.59)."
   ]
  },
  {
   "cell_type": "markdown",
   "metadata": {},
   "source": [
    "Проверим адекватность модели на метрике accuracy. Для проверки адекватности нашей модели, будем сравнивать уё точность предсказаний с простейшей (dummy) моделью."
   ]
  },
  {
   "cell_type": "code",
   "execution_count": 57,
   "metadata": {
    "scrolled": true
   },
   "outputs": [
    {
     "name": "stdout",
     "output_type": "stream",
     "text": [
      "Точность f1 для простейшей модели: 0.5035733919736118\n",
      "Точность f1 для обученной модели: 0.6084788029925187\n"
     ]
    }
   ],
   "source": [
    "# импоритруем модель\n",
    "from sklearn.dummy  import  DummyClassifier\n",
    "\n",
    "# инициализируем модель\n",
    "dummy_clf = DummyClassifier(strategy = 'uniform', random_state = 12345)\n",
    "\n",
    "# обучим модель\n",
    "dummy_clf.fit(features_train_drop, target_train_drop)\n",
    "\n",
    "# проверим точность\n",
    "print('Точность f1 для простейшей модели:',dummy_clf.score(features_test_drop, target_test_drop))\n",
    "print('Точность f1 для обученной модели:', f1_score(target_test_drop, predict_rf))"
   ]
  },
  {
   "cell_type": "markdown",
   "metadata": {},
   "source": [
    "Доля правильных ответов в нашей модели выше, проверка на адекватность пройдена."
   ]
  },
  {
   "cell_type": "markdown",
   "metadata": {},
   "source": [
    "Теперь посмотрим на параметра AUC-ROC, как известно если 0,5 < AUC < 1, тогда высока вероятность, что классификатор сможет различить положительные и отрицательных значения класса."
   ]
  },
  {
   "cell_type": "code",
   "execution_count": 58,
   "metadata": {
    "scrolled": true
   },
   "outputs": [
    {
     "name": "stdout",
     "output_type": "stream",
     "text": [
      "AUC-ROC для обученной модели: 0.8617651396942949\n"
     ]
    }
   ],
   "source": [
    "probabilities = model_rf.predict_proba(features_test_drop)\n",
    "probabilities_one_test = probabilities[:, 1]\n",
    "print('AUC-ROC для обученной модели:', roc_auc_score(target_test_drop, probabilities_one_test))"
   ]
  },
  {
   "cell_type": "markdown",
   "metadata": {},
   "source": [
    "### Анализ важности признаков"
   ]
  },
  {
   "cell_type": "code",
   "execution_count": 59,
   "metadata": {},
   "outputs": [
    {
     "data": {
      "image/png": "[encoded data removed]",
      "text/plain": [
       "<Figure size 2000x700 with 1 Axes>"
      ]
     },
     "metadata": {},
     "output_type": "display_data"
    }
   ],
   "source": [
    "# визуализируем важность признаков\n",
    "plt.title('Важность признаков')\n",
    "plt.ylabel('Признак')\n",
    "pd.Series(model_rf.feature_importances_, index=model_rf.feature_names_in_)\\\n",
    "            .sort_values(ascending=True).plot.barh(figsize=(20,7), grid=True);\n",
    "plt.show()"
   ]
  },
  {
   "cell_type": "markdown",
   "metadata": {},
   "source": [
    "Наибольшее влияние оказывают следующие признаки: возраст, количество банковских продуктов и суммарный баланс клиента."
   ]
  },
  {
   "cell_type": "markdown",
   "metadata": {},
   "source": [
    "###  Вывод"
   ]
  },
  {
   "cell_type": "markdown",
   "metadata": {},
   "source": [
    "Тестирование на финальной модели показала метрику F1 = 0.608, AUC-ROC = 0.8617. Так же модель показала свою адекватность по сравнению с простейшей моделью."
   ]
  },
  {
   "cell_type": "markdown",
   "metadata": {},
   "source": [
    "## Общий вывод"
   ]
  },
  {
   "cell_type": "markdown",
   "metadata": {},
   "source": [
    "- Данные загружены без ошибок. Датафрейм имеет 14 столбцов и 10 000 строк;\n",
    "- Явные и неявные дубликаты отсутствуют;\n",
    "- название столбцов приведены к змеиному стилю;\n",
    "- присутсвует порядка 9.1 % пропусков в столбце 'tenure', для дальнейшей работы были созданы три датафрейма, в которых пропуски были обработаны по разным механизмам:\n",
    "  - заполнены нулевыми значениями;\n",
    "  - заполнены медианными значениями;\n",
    "  - пропуски удалены.\n",
    "  \n",
    "  \n",
    "- Задача представляет сосбой задачу бинарной классификации;\n",
    "- Данные имею дисбаланс: 80 % - отрицательные ответы;\n",
    "- Были удалены неиформативные признаки -столбцы: 'row_number', 'customer_id', 'surname';\n",
    "- Для всех датафреймов были созданы бучающая/валидационная/тестовая выборки (в пропорциях - 60/20/20);\n",
    "- Проведено масштабирование количественных признаков методом стандартизации;\n",
    "- Лучший параметр F1 = 0.6015, для несбалансированных данных, был достигнут на выборке, для которой пропуски в исходном датафрейме были заполнены медианными значениями. Данные по лучшей  модели: RandomForestClassifier(max_depth=9, min_samples_leaf=2, n_estimators=10, random_state=12345)\n",
    "\n",
    "\n",
    "\n",
    "- применены три способа борьбы с дисбаласном признаков: настройка гиперпараметра взвешивания классов, увеличение выборок (увеличение доли положительных ответов), уменьшение выборок (уменьшение доли отрицательных ответов);\n",
    "\n",
    "\n",
    "- настройка гиперпараметра взвешивания классов: В целом качество моделей улучшилось, по сравнению с несбалансированными данными.\n",
    "  Лучший параметр F1 = 0.65558, при ROC-AUC = 0.87011, для взвешенных классов, был достигнут на выборке, для которой пропуски в исходном датафрейме были удалены. \n",
    "  Данные по лучшей  модели: RandomForestClassifier(bootstrap='False', class_weight='balanced', max_depth=8, min_samples_leaf=3, n_estimators=40, random_state=12345)\n",
    "\n",
    "\n",
    "- увеличение выборки: В целом качество моделей улучшилось, по сравнению с несбалансированными данными, но немного хуже чем для сбалансированных класов, настройкой гиперпараметра.\n",
    "  Лучший параметр F1 = 0.63104, при ROC-AUC = 0.85317, для увеличенных выборок, был достигнут на выборке, для которой пропуски в исходном датафрейме были заполнены нулевыми значениями. \n",
    "  Данные по лучшей  модели: RandomForestClassifier(max_depth=7, min_samples_leaf=2, n_estimators=30, random_state=12345)\n",
    "  \n",
    "  \n",
    "-  уменьшение выборки: В целом качество моделей улучшилось, по сравнению с несбалансированными данными, но немного хуже чем для сбалансированных класов, настройкой гиперпараметра и увеличением выборок.\n",
    "   Лучший параметр F1 = 0.60959, для уменьшенных выборок, был достигнут на выборке, для которой пропуски в исходном датафрейме были заполнены нулевыми значениями. \n",
    "   Данные по лучшей  модели: RandomForestClassifier(max_depth=9, min_samples_leaf=3, n_estimators=25, random_state=12345)\n",
    "   \n",
    "-  **Для финального тестирования: выборки, где пропуски в начальном датафрейме были удалены, модель: RandomForestClassifier(class_weight='balanced', max_depth=8, min_samples_leaf=3, n_estimators=40, random_state=12345)**\n",
    "\n",
    "\n",
    "\n",
    "- Тестирование на финальной модели показала метрику F1 = 0.608, AUC-ROC = 0.8617. Так же модель показала свою адекватность по сравнению с простейшей моделью.\n",
    "\n",
    "Наибольшее влияние оказывают следующие признаки: возраст, количество банковских продуктов и суммарный баланс клиента."
   ]
  }
 ],
 "metadata": {
  "ExecuteTimeLog": [
   {
    "duration": 853,
    "start_time": "2024-05-19T14:30:35.012Z"
   },
   {
    "duration": 29894,
    "start_time": "2024-05-19T14:32:09.772Z"
   },
   {
    "duration": 450,
    "start_time": "2024-05-19T14:32:39.668Z"
   },
   {
    "duration": 53,
    "start_time": "2024-05-19T14:35:05.882Z"
   },
   {
    "duration": 53,
    "start_time": "2024-05-19T14:35:11.986Z"
   },
   {
    "duration": 2651,
    "start_time": "2024-05-19T14:35:21.530Z"
   },
   {
    "duration": 3,
    "start_time": "2024-05-19T14:35:34.029Z"
   },
   {
    "duration": 3,
    "start_time": "2024-05-19T15:05:36.894Z"
   },
   {
    "duration": 2907,
    "start_time": "2024-05-19T16:00:56.196Z"
   },
   {
    "duration": 392,
    "start_time": "2024-05-19T16:01:04.311Z"
   },
   {
    "duration": 20,
    "start_time": "2024-05-19T16:02:18.330Z"
   },
   {
    "duration": 2638,
    "start_time": "2024-05-19T16:02:24.790Z"
   },
   {
    "duration": 39,
    "start_time": "2024-05-19T16:02:29.758Z"
   },
   {
    "duration": 2624,
    "start_time": "2024-05-19T16:02:41.868Z"
   },
   {
    "duration": 36,
    "start_time": "2024-05-19T16:11:11.607Z"
   },
   {
    "duration": 23,
    "start_time": "2024-05-19T16:11:12.943Z"
   },
   {
    "duration": 2,
    "start_time": "2024-05-19T16:12:14.353Z"
   },
   {
    "duration": 20,
    "start_time": "2024-05-19T16:12:16.824Z"
   },
   {
    "duration": 4,
    "start_time": "2024-05-19T16:12:38.757Z"
   },
   {
    "duration": 1559,
    "start_time": "2024-05-19T16:12:38.764Z"
   },
   {
    "duration": 2554,
    "start_time": "2024-05-19T16:13:11.367Z"
   },
   {
    "duration": 488,
    "start_time": "2024-05-19T16:13:17.114Z"
   },
   {
    "duration": 4,
    "start_time": "2024-05-19T16:13:22.614Z"
   },
   {
    "duration": 5,
    "start_time": "2024-05-19T16:52:52.005Z"
   },
   {
    "duration": 179,
    "start_time": "2024-05-19T19:33:26.592Z"
   },
   {
    "duration": 7,
    "start_time": "2024-05-19T19:36:05.468Z"
   },
   {
    "duration": 14,
    "start_time": "2024-05-19T19:36:20.869Z"
   },
   {
    "duration": 14,
    "start_time": "2024-05-19T19:36:49.388Z"
   },
   {
    "duration": 60,
    "start_time": "2024-05-19T19:48:07.626Z"
   },
   {
    "duration": 183,
    "start_time": "2024-05-19T19:48:31.959Z"
   },
   {
    "duration": 45,
    "start_time": "2024-05-19T19:50:26.382Z"
   },
   {
    "duration": 52,
    "start_time": "2024-05-19T19:50:31.253Z"
   },
   {
    "duration": 136,
    "start_time": "2024-05-19T19:54:18.568Z"
   },
   {
    "duration": 42,
    "start_time": "2024-05-19T19:54:32.697Z"
   },
   {
    "duration": 20,
    "start_time": "2024-05-19T19:55:11.785Z"
   },
   {
    "duration": 5,
    "start_time": "2024-05-19T20:02:32.029Z"
   },
   {
    "duration": 8,
    "start_time": "2024-05-19T20:05:28.057Z"
   },
   {
    "duration": 8,
    "start_time": "2024-05-19T20:05:48.312Z"
   },
   {
    "duration": 16,
    "start_time": "2024-05-19T20:25:37.548Z"
   },
   {
    "duration": 12,
    "start_time": "2024-05-19T20:25:45.827Z"
   },
   {
    "duration": 7,
    "start_time": "2024-05-19T20:40:32.939Z"
   },
   {
    "duration": 6,
    "start_time": "2024-05-19T20:40:42.007Z"
   },
   {
    "duration": 9,
    "start_time": "2024-05-19T20:48:48.174Z"
   },
   {
    "duration": 18,
    "start_time": "2024-05-19T20:53:29.867Z"
   },
   {
    "duration": 11,
    "start_time": "2024-05-19T20:53:36.518Z"
   },
   {
    "duration": 27,
    "start_time": "2024-05-19T20:53:56.602Z"
   },
   {
    "duration": 8,
    "start_time": "2024-05-19T20:54:08.437Z"
   },
   {
    "duration": 5,
    "start_time": "2024-05-19T20:55:59.144Z"
   },
   {
    "duration": 6,
    "start_time": "2024-05-19T20:56:59.021Z"
   },
   {
    "duration": 129,
    "start_time": "2024-05-19T20:57:40.051Z"
   },
   {
    "duration": 208,
    "start_time": "2024-05-19T20:57:50.848Z"
   },
   {
    "duration": 5,
    "start_time": "2024-05-19T21:21:42.444Z"
   },
   {
    "duration": 15,
    "start_time": "2024-05-19T21:22:01.731Z"
   },
   {
    "duration": 8,
    "start_time": "2024-05-19T21:22:08.438Z"
   },
   {
    "duration": 6,
    "start_time": "2024-05-19T21:22:47.483Z"
   },
   {
    "duration": 6,
    "start_time": "2024-05-19T21:22:55.532Z"
   },
   {
    "duration": 6,
    "start_time": "2024-05-19T21:24:45.721Z"
   },
   {
    "duration": 17230,
    "start_time": "2024-05-20T08:26:40.947Z"
   },
   {
    "duration": 2522,
    "start_time": "2024-05-20T08:26:58.180Z"
   },
   {
    "duration": 99,
    "start_time": "2024-05-20T08:27:00.704Z"
   },
   {
    "duration": 143,
    "start_time": "2024-05-20T08:27:00.804Z"
   },
   {
    "duration": 91,
    "start_time": "2024-05-20T08:27:00.950Z"
   },
   {
    "duration": 76,
    "start_time": "2024-05-20T08:27:01.044Z"
   },
   {
    "duration": 128,
    "start_time": "2024-05-20T08:27:01.123Z"
   },
   {
    "duration": 77,
    "start_time": "2024-05-20T08:27:01.253Z"
   },
   {
    "duration": 515,
    "start_time": "2024-05-20T08:27:01.333Z"
   },
   {
    "duration": 47,
    "start_time": "2024-05-20T08:27:01.850Z"
   },
   {
    "duration": 40,
    "start_time": "2024-05-20T08:27:01.899Z"
   },
   {
    "duration": 98,
    "start_time": "2024-05-20T08:27:01.941Z"
   },
   {
    "duration": 84,
    "start_time": "2024-05-20T08:27:02.041Z"
   },
   {
    "duration": 288,
    "start_time": "2024-05-20T08:27:02.129Z"
   },
   {
    "duration": 7,
    "start_time": "2024-05-20T08:27:02.419Z"
   },
   {
    "duration": 6,
    "start_time": "2024-05-20T08:32:19.066Z"
   },
   {
    "duration": 144,
    "start_time": "2024-05-20T08:32:32.270Z"
   },
   {
    "duration": 11,
    "start_time": "2024-05-20T08:36:22.428Z"
   },
   {
    "duration": 11,
    "start_time": "2024-05-20T08:36:30.672Z"
   },
   {
    "duration": 10,
    "start_time": "2024-05-20T08:37:09.985Z"
   },
   {
    "duration": 127,
    "start_time": "2024-05-20T08:40:09.843Z"
   },
   {
    "duration": 2948,
    "start_time": "2024-05-20T08:41:53.772Z"
   },
   {
    "duration": 2400,
    "start_time": "2024-05-20T08:41:56.723Z"
   },
   {
    "duration": 48,
    "start_time": "2024-05-20T08:41:59.125Z"
   },
   {
    "duration": 6,
    "start_time": "2024-05-20T08:41:59.175Z"
   },
   {
    "duration": 23,
    "start_time": "2024-05-20T08:41:59.184Z"
   },
   {
    "duration": 82,
    "start_time": "2024-05-20T08:41:59.210Z"
   },
   {
    "duration": 8,
    "start_time": "2024-05-20T08:41:59.294Z"
   },
   {
    "duration": 25,
    "start_time": "2024-05-20T08:41:59.304Z"
   },
   {
    "duration": 20,
    "start_time": "2024-05-20T08:41:59.331Z"
   },
   {
    "duration": 22,
    "start_time": "2024-05-20T08:41:59.353Z"
   },
   {
    "duration": 20,
    "start_time": "2024-05-20T08:41:59.377Z"
   },
   {
    "duration": 22,
    "start_time": "2024-05-20T08:41:59.399Z"
   },
   {
    "duration": 37,
    "start_time": "2024-05-20T08:41:59.423Z"
   },
   {
    "duration": 224,
    "start_time": "2024-05-20T08:41:59.464Z"
   },
   {
    "duration": 7,
    "start_time": "2024-05-20T08:41:59.690Z"
   },
   {
    "duration": 150,
    "start_time": "2024-05-20T08:42:31.238Z"
   },
   {
    "duration": 132,
    "start_time": "2024-05-20T08:42:44.837Z"
   },
   {
    "duration": 131,
    "start_time": "2024-05-20T08:43:10.159Z"
   },
   {
    "duration": 131,
    "start_time": "2024-05-20T08:43:22.325Z"
   },
   {
    "duration": 144,
    "start_time": "2024-05-20T08:43:55.381Z"
   },
   {
    "duration": 12,
    "start_time": "2024-05-20T08:47:12.761Z"
   },
   {
    "duration": 2865,
    "start_time": "2024-05-20T08:47:29.236Z"
   },
   {
    "duration": 2227,
    "start_time": "2024-05-20T08:47:32.105Z"
   },
   {
    "duration": 49,
    "start_time": "2024-05-20T08:47:34.334Z"
   },
   {
    "duration": 6,
    "start_time": "2024-05-20T08:47:34.386Z"
   },
   {
    "duration": 45,
    "start_time": "2024-05-20T08:47:34.394Z"
   },
   {
    "duration": 55,
    "start_time": "2024-05-20T08:47:34.441Z"
   },
   {
    "duration": 5,
    "start_time": "2024-05-20T08:47:34.498Z"
   },
   {
    "duration": 33,
    "start_time": "2024-05-20T08:47:34.505Z"
   },
   {
    "duration": 16,
    "start_time": "2024-05-20T08:47:34.540Z"
   },
   {
    "duration": 17,
    "start_time": "2024-05-20T08:47:34.559Z"
   },
   {
    "duration": 16,
    "start_time": "2024-05-20T08:47:34.578Z"
   },
   {
    "duration": 12,
    "start_time": "2024-05-20T08:47:34.596Z"
   },
   {
    "duration": 37,
    "start_time": "2024-05-20T08:47:34.610Z"
   },
   {
    "duration": 251,
    "start_time": "2024-05-20T08:47:34.649Z"
   },
   {
    "duration": 0,
    "start_time": "2024-05-20T08:47:34.902Z"
   },
   {
    "duration": 7,
    "start_time": "2024-05-20T08:47:47.879Z"
   },
   {
    "duration": 13,
    "start_time": "2024-05-20T08:48:04.229Z"
   },
   {
    "duration": 7,
    "start_time": "2024-05-20T08:51:14.812Z"
   },
   {
    "duration": 6,
    "start_time": "2024-05-20T08:51:26.179Z"
   },
   {
    "duration": 139,
    "start_time": "2024-05-20T08:51:35.589Z"
   },
   {
    "duration": 131,
    "start_time": "2024-05-20T08:51:46.599Z"
   },
   {
    "duration": 7,
    "start_time": "2024-05-20T08:52:03.066Z"
   },
   {
    "duration": 132,
    "start_time": "2024-05-20T08:52:30.242Z"
   },
   {
    "duration": 115,
    "start_time": "2024-05-20T08:54:16.780Z"
   },
   {
    "duration": 11,
    "start_time": "2024-05-20T08:54:28.045Z"
   },
   {
    "duration": 118,
    "start_time": "2024-05-20T08:54:35.345Z"
   },
   {
    "duration": 7,
    "start_time": "2024-05-20T08:54:50.575Z"
   },
   {
    "duration": 131,
    "start_time": "2024-05-20T08:55:06.745Z"
   },
   {
    "duration": 22,
    "start_time": "2024-05-20T08:55:46.527Z"
   },
   {
    "duration": 12,
    "start_time": "2024-05-20T08:55:54.631Z"
   },
   {
    "duration": 7,
    "start_time": "2024-05-20T08:56:13.425Z"
   },
   {
    "duration": 706,
    "start_time": "2024-05-20T08:56:35.090Z"
   },
   {
    "duration": 599,
    "start_time": "2024-05-20T08:56:41.670Z"
   },
   {
    "duration": 19,
    "start_time": "2024-05-20T08:57:01.888Z"
   },
   {
    "duration": 127,
    "start_time": "2024-05-20T08:57:08.624Z"
   },
   {
    "duration": 15,
    "start_time": "2024-05-20T08:58:43.106Z"
   },
   {
    "duration": 5,
    "start_time": "2024-05-20T08:59:13.812Z"
   },
   {
    "duration": 140,
    "start_time": "2024-05-20T08:59:25.488Z"
   },
   {
    "duration": 13,
    "start_time": "2024-05-20T08:59:42.075Z"
   },
   {
    "duration": 80,
    "start_time": "2024-05-20T08:59:48.762Z"
   },
   {
    "duration": 13,
    "start_time": "2024-05-20T09:01:24.849Z"
   },
   {
    "duration": 12,
    "start_time": "2024-05-20T09:01:43.518Z"
   },
   {
    "duration": 16,
    "start_time": "2024-05-20T10:36:08.404Z"
   },
   {
    "duration": 12,
    "start_time": "2024-05-20T10:36:22.482Z"
   },
   {
    "duration": 166,
    "start_time": "2024-05-20T10:36:51.721Z"
   },
   {
    "duration": 150,
    "start_time": "2024-05-20T10:37:42.379Z"
   },
   {
    "duration": 145,
    "start_time": "2024-05-20T10:38:05.008Z"
   },
   {
    "duration": 150,
    "start_time": "2024-05-20T10:38:33.770Z"
   },
   {
    "duration": 149,
    "start_time": "2024-05-20T10:38:57.508Z"
   },
   {
    "duration": 403,
    "start_time": "2024-05-20T10:54:14.224Z"
   },
   {
    "duration": 817,
    "start_time": "2024-05-20T10:54:34.842Z"
   },
   {
    "duration": 136,
    "start_time": "2024-05-20T10:56:27.414Z"
   },
   {
    "duration": 3878,
    "start_time": "2024-05-20T10:57:06.141Z"
   },
   {
    "duration": 3865,
    "start_time": "2024-05-20T10:57:24.230Z"
   },
   {
    "duration": 641,
    "start_time": "2024-05-20T10:57:57.214Z"
   },
   {
    "duration": 10,
    "start_time": "2024-05-20T10:58:44.845Z"
   },
   {
    "duration": 25,
    "start_time": "2024-05-20T10:58:51.375Z"
   },
   {
    "duration": 136,
    "start_time": "2024-05-20T10:59:20.875Z"
   },
   {
    "duration": 122,
    "start_time": "2024-05-20T10:59:41.010Z"
   },
   {
    "duration": 13,
    "start_time": "2024-05-20T11:00:01.368Z"
   },
   {
    "duration": 5,
    "start_time": "2024-05-20T11:01:50.134Z"
   },
   {
    "duration": 973,
    "start_time": "2024-05-20T11:02:01.973Z"
   },
   {
    "duration": 130,
    "start_time": "2024-05-20T11:02:31.721Z"
   },
   {
    "duration": 157,
    "start_time": "2024-05-20T11:03:39.402Z"
   },
   {
    "duration": 12,
    "start_time": "2024-05-20T11:04:00.834Z"
   },
   {
    "duration": 4,
    "start_time": "2024-05-20T11:04:14.740Z"
   },
   {
    "duration": 10,
    "start_time": "2024-05-20T11:06:39.987Z"
   },
   {
    "duration": 14,
    "start_time": "2024-05-20T11:06:52.509Z"
   },
   {
    "duration": 23,
    "start_time": "2024-05-20T11:07:01.223Z"
   },
   {
    "duration": 16,
    "start_time": "2024-05-20T11:10:04.131Z"
   },
   {
    "duration": 5,
    "start_time": "2024-05-20T11:10:18.665Z"
   },
   {
    "duration": 9,
    "start_time": "2024-05-20T11:10:28.682Z"
   },
   {
    "duration": 11,
    "start_time": "2024-05-20T11:10:32.422Z"
   },
   {
    "duration": 12,
    "start_time": "2024-05-20T11:10:49.048Z"
   },
   {
    "duration": 20,
    "start_time": "2024-05-20T11:11:19.619Z"
   },
   {
    "duration": 734,
    "start_time": "2024-05-20T11:11:36.694Z"
   },
   {
    "duration": 593,
    "start_time": "2024-05-20T11:12:24.320Z"
   },
   {
    "duration": 19,
    "start_time": "2024-05-20T11:13:52.726Z"
   },
   {
    "duration": 40,
    "start_time": "2024-05-20T11:15:08.122Z"
   },
   {
    "duration": 8,
    "start_time": "2024-05-20T11:16:22.184Z"
   },
   {
    "duration": 8,
    "start_time": "2024-05-20T11:16:50.382Z"
   },
   {
    "duration": 19,
    "start_time": "2024-05-20T11:17:34.003Z"
   },
   {
    "duration": 11,
    "start_time": "2024-05-20T11:17:41.917Z"
   },
   {
    "duration": 10,
    "start_time": "2024-05-20T11:18:53.993Z"
   },
   {
    "duration": 8,
    "start_time": "2024-05-20T11:19:11.334Z"
   },
   {
    "duration": 8,
    "start_time": "2024-05-20T11:19:56.760Z"
   },
   {
    "duration": 62,
    "start_time": "2024-05-20T11:22:14.093Z"
   },
   {
    "duration": 9,
    "start_time": "2024-05-20T11:22:19.498Z"
   },
   {
    "duration": 8,
    "start_time": "2024-05-20T11:22:34.353Z"
   },
   {
    "duration": 16,
    "start_time": "2024-05-20T11:22:54.482Z"
   },
   {
    "duration": 8,
    "start_time": "2024-05-20T11:23:07.136Z"
   },
   {
    "duration": 7,
    "start_time": "2024-05-20T11:23:18.002Z"
   },
   {
    "duration": 8,
    "start_time": "2024-05-20T11:23:33.699Z"
   },
   {
    "duration": 8,
    "start_time": "2024-05-20T11:23:45.458Z"
   },
   {
    "duration": 8,
    "start_time": "2024-05-20T11:24:18.599Z"
   },
   {
    "duration": 13,
    "start_time": "2024-05-20T11:25:14.933Z"
   },
   {
    "duration": 19,
    "start_time": "2024-05-20T11:25:52.067Z"
   },
   {
    "duration": 8,
    "start_time": "2024-05-20T11:26:41.865Z"
   },
   {
    "duration": 10,
    "start_time": "2024-05-20T11:26:55.534Z"
   },
   {
    "duration": 10,
    "start_time": "2024-05-20T11:27:32.866Z"
   },
   {
    "duration": 10,
    "start_time": "2024-05-20T11:27:45.431Z"
   },
   {
    "duration": 8,
    "start_time": "2024-05-20T11:28:30.857Z"
   },
   {
    "duration": 9,
    "start_time": "2024-05-20T11:28:38.612Z"
   },
   {
    "duration": 9,
    "start_time": "2024-05-20T11:29:15.810Z"
   },
   {
    "duration": 9,
    "start_time": "2024-05-20T11:29:24.569Z"
   },
   {
    "duration": 10,
    "start_time": "2024-05-20T11:30:12.076Z"
   },
   {
    "duration": 14,
    "start_time": "2024-05-20T11:30:31.258Z"
   },
   {
    "duration": 10,
    "start_time": "2024-05-20T11:30:50.189Z"
   },
   {
    "duration": 9,
    "start_time": "2024-05-20T11:31:04.137Z"
   },
   {
    "duration": 8,
    "start_time": "2024-05-20T11:31:17.735Z"
   },
   {
    "duration": 11,
    "start_time": "2024-05-20T11:31:26.102Z"
   },
   {
    "duration": 10,
    "start_time": "2024-05-20T11:31:35.968Z"
   },
   {
    "duration": 11,
    "start_time": "2024-05-20T11:32:38.865Z"
   },
   {
    "duration": 9,
    "start_time": "2024-05-20T11:33:07.148Z"
   },
   {
    "duration": 9,
    "start_time": "2024-05-20T11:33:16.738Z"
   },
   {
    "duration": 9,
    "start_time": "2024-05-20T11:33:27.193Z"
   },
   {
    "duration": 8,
    "start_time": "2024-05-20T11:33:39.799Z"
   },
   {
    "duration": 8,
    "start_time": "2024-05-20T11:33:54.795Z"
   },
   {
    "duration": 9,
    "start_time": "2024-05-20T11:34:03.089Z"
   },
   {
    "duration": 8,
    "start_time": "2024-05-20T11:34:17.079Z"
   },
   {
    "duration": 8,
    "start_time": "2024-05-20T11:34:25.850Z"
   },
   {
    "duration": 10,
    "start_time": "2024-05-20T11:34:34.873Z"
   },
   {
    "duration": 9,
    "start_time": "2024-05-20T11:34:47.660Z"
   },
   {
    "duration": 9,
    "start_time": "2024-05-20T11:35:10.461Z"
   },
   {
    "duration": 13,
    "start_time": "2024-05-20T11:35:17.003Z"
   },
   {
    "duration": 9,
    "start_time": "2024-05-20T11:35:31.901Z"
   },
   {
    "duration": 10,
    "start_time": "2024-05-20T11:35:45.658Z"
   },
   {
    "duration": 11,
    "start_time": "2024-05-20T11:36:30.829Z"
   },
   {
    "duration": 10,
    "start_time": "2024-05-20T11:36:41.743Z"
   },
   {
    "duration": 10,
    "start_time": "2024-05-20T11:36:49.643Z"
   },
   {
    "duration": 12,
    "start_time": "2024-05-20T11:38:16.843Z"
   },
   {
    "duration": 9,
    "start_time": "2024-05-20T11:39:32.890Z"
   },
   {
    "duration": 9,
    "start_time": "2024-05-20T11:40:19.338Z"
   },
   {
    "duration": 36591,
    "start_time": "2024-05-20T15:04:57.262Z"
   },
   {
    "duration": 2588,
    "start_time": "2024-05-20T15:05:33.857Z"
   },
   {
    "duration": 190,
    "start_time": "2024-05-20T15:05:36.450Z"
   },
   {
    "duration": 6,
    "start_time": "2024-05-20T15:05:36.643Z"
   },
   {
    "duration": 22,
    "start_time": "2024-05-20T15:05:36.651Z"
   },
   {
    "duration": 16,
    "start_time": "2024-05-20T15:05:36.674Z"
   },
   {
    "duration": 4,
    "start_time": "2024-05-20T15:05:36.691Z"
   },
   {
    "duration": 29,
    "start_time": "2024-05-20T15:05:36.697Z"
   },
   {
    "duration": 16,
    "start_time": "2024-05-20T15:05:36.728Z"
   },
   {
    "duration": 6,
    "start_time": "2024-05-20T15:05:36.760Z"
   },
   {
    "duration": 14,
    "start_time": "2024-05-20T15:05:36.768Z"
   },
   {
    "duration": 36,
    "start_time": "2024-05-20T15:05:36.783Z"
   },
   {
    "duration": 18,
    "start_time": "2024-05-20T15:05:36.821Z"
   },
   {
    "duration": 8,
    "start_time": "2024-05-20T15:05:36.841Z"
   },
   {
    "duration": 18,
    "start_time": "2024-05-20T15:05:36.850Z"
   },
   {
    "duration": 6,
    "start_time": "2024-05-20T15:05:36.870Z"
   },
   {
    "duration": 2949,
    "start_time": "2024-05-20T15:05:47.769Z"
   },
   {
    "duration": 2398,
    "start_time": "2024-05-20T15:05:50.723Z"
   },
   {
    "duration": 51,
    "start_time": "2024-05-20T15:05:53.123Z"
   },
   {
    "duration": 34,
    "start_time": "2024-05-20T15:05:53.176Z"
   },
   {
    "duration": 23,
    "start_time": "2024-05-20T15:05:53.214Z"
   },
   {
    "duration": 26,
    "start_time": "2024-05-20T15:05:53.239Z"
   },
   {
    "duration": 8,
    "start_time": "2024-05-20T15:05:53.267Z"
   },
   {
    "duration": 36,
    "start_time": "2024-05-20T15:05:53.277Z"
   },
   {
    "duration": 15,
    "start_time": "2024-05-20T15:05:53.316Z"
   },
   {
    "duration": 7,
    "start_time": "2024-05-20T15:05:53.333Z"
   },
   {
    "duration": 82,
    "start_time": "2024-05-20T15:05:53.342Z"
   },
   {
    "duration": 104,
    "start_time": "2024-05-20T15:05:53.426Z"
   },
   {
    "duration": 865,
    "start_time": "2024-05-20T15:05:53.533Z"
   },
   {
    "duration": 649,
    "start_time": "2024-05-20T15:05:54.402Z"
   },
   {
    "duration": 1644,
    "start_time": "2024-05-20T15:05:55.053Z"
   },
   {
    "duration": 599,
    "start_time": "2024-05-20T15:05:56.699Z"
   },
   {
    "duration": 10,
    "start_time": "2024-05-20T15:10:41.645Z"
   },
   {
    "duration": 858,
    "start_time": "2024-05-20T15:11:26.450Z"
   },
   {
    "duration": 722,
    "start_time": "2024-05-20T15:11:50.772Z"
   },
   {
    "duration": 941,
    "start_time": "2024-05-20T15:12:17.569Z"
   },
   {
    "duration": 748,
    "start_time": "2024-05-20T15:12:34.604Z"
   },
   {
    "duration": 9,
    "start_time": "2024-05-20T15:12:56.808Z"
   },
   {
    "duration": 17,
    "start_time": "2024-05-20T15:13:16.250Z"
   },
   {
    "duration": 7,
    "start_time": "2024-05-20T15:13:22.151Z"
   },
   {
    "duration": 8,
    "start_time": "2024-05-20T15:13:34.419Z"
   },
   {
    "duration": 8,
    "start_time": "2024-05-20T15:13:52.005Z"
   },
   {
    "duration": 8,
    "start_time": "2024-05-20T15:14:08.009Z"
   },
   {
    "duration": 8,
    "start_time": "2024-05-20T15:14:20.431Z"
   },
   {
    "duration": 7,
    "start_time": "2024-05-20T15:14:31.606Z"
   },
   {
    "duration": 9,
    "start_time": "2024-05-20T15:15:20.569Z"
   },
   {
    "duration": 11,
    "start_time": "2024-05-20T15:15:47.313Z"
   },
   {
    "duration": 14,
    "start_time": "2024-05-20T15:17:26.025Z"
   },
   {
    "duration": 633,
    "start_time": "2024-05-20T15:23:03.237Z"
   },
   {
    "duration": 389,
    "start_time": "2024-05-20T15:23:22.640Z"
   },
   {
    "duration": 13,
    "start_time": "2024-05-20T15:24:27.261Z"
   },
   {
    "duration": 11,
    "start_time": "2024-05-20T15:25:04.840Z"
   },
   {
    "duration": 13,
    "start_time": "2024-05-20T15:25:16.704Z"
   },
   {
    "duration": 15,
    "start_time": "2024-05-20T15:26:48.614Z"
   },
   {
    "duration": 8,
    "start_time": "2024-05-20T15:27:02.990Z"
   },
   {
    "duration": 8,
    "start_time": "2024-05-20T15:28:54.997Z"
   },
   {
    "duration": 139,
    "start_time": "2024-05-20T15:29:00.563Z"
   },
   {
    "duration": 134,
    "start_time": "2024-05-20T15:31:02.891Z"
   },
   {
    "duration": 154,
    "start_time": "2024-05-20T15:31:44.219Z"
   },
   {
    "duration": 242,
    "start_time": "2024-05-20T15:32:38.498Z"
   },
   {
    "duration": 606,
    "start_time": "2024-05-20T15:41:17.600Z"
   },
   {
    "duration": 613,
    "start_time": "2024-05-20T15:41:45.057Z"
   },
   {
    "duration": 25,
    "start_time": "2024-05-20T15:42:15.845Z"
   },
   {
    "duration": 12,
    "start_time": "2024-05-20T15:43:03.540Z"
   },
   {
    "duration": 11,
    "start_time": "2024-05-20T15:43:08.792Z"
   },
   {
    "duration": 330707,
    "start_time": "2024-05-20T15:43:18.483Z"
   },
   {
    "duration": 74,
    "start_time": "2024-05-20T16:17:05.556Z"
   },
   {
    "duration": 10,
    "start_time": "2024-05-20T16:25:28.102Z"
   },
   {
    "duration": 12,
    "start_time": "2024-05-20T16:25:57.007Z"
   },
   {
    "duration": 19,
    "start_time": "2024-05-20T16:26:00.967Z"
   },
   {
    "duration": 9,
    "start_time": "2024-05-20T16:26:05.184Z"
   },
   {
    "duration": 8,
    "start_time": "2024-05-20T16:26:10.913Z"
   },
   {
    "duration": 10,
    "start_time": "2024-05-20T16:26:20.093Z"
   },
   {
    "duration": 10,
    "start_time": "2024-05-20T16:26:23.649Z"
   },
   {
    "duration": 9,
    "start_time": "2024-05-20T16:26:29.519Z"
   },
   {
    "duration": 10,
    "start_time": "2024-05-20T16:26:33.702Z"
   },
   {
    "duration": 13,
    "start_time": "2024-05-20T16:26:37.378Z"
   },
   {
    "duration": 10,
    "start_time": "2024-05-20T16:44:04.183Z"
   },
   {
    "duration": 15,
    "start_time": "2024-05-20T16:44:35.935Z"
   },
   {
    "duration": 9,
    "start_time": "2024-05-20T16:44:45.107Z"
   },
   {
    "duration": 6,
    "start_time": "2024-05-20T16:45:17.647Z"
   },
   {
    "duration": 9,
    "start_time": "2024-05-20T16:45:29.705Z"
   },
   {
    "duration": 13,
    "start_time": "2024-05-20T16:45:49.114Z"
   },
   {
    "duration": 728,
    "start_time": "2024-05-20T16:47:04.411Z"
   },
   {
    "duration": 6,
    "start_time": "2024-05-20T16:48:20.426Z"
   },
   {
    "duration": 19,
    "start_time": "2024-05-20T16:50:10.095Z"
   },
   {
    "duration": 13,
    "start_time": "2024-05-20T16:50:21.514Z"
   },
   {
    "duration": 152,
    "start_time": "2024-05-20T17:02:38.116Z"
   },
   {
    "duration": 178,
    "start_time": "2024-05-20T17:05:44.011Z"
   },
   {
    "duration": 164,
    "start_time": "2024-05-20T17:05:58.621Z"
   },
   {
    "duration": 157,
    "start_time": "2024-05-20T17:06:21.137Z"
   },
   {
    "duration": 144,
    "start_time": "2024-05-20T17:06:52.552Z"
   },
   {
    "duration": 13,
    "start_time": "2024-05-20T17:22:59.481Z"
   },
   {
    "duration": 4,
    "start_time": "2024-05-20T17:23:49.485Z"
   },
   {
    "duration": 7,
    "start_time": "2024-05-20T17:25:19.126Z"
   },
   {
    "duration": 13,
    "start_time": "2024-05-20T17:25:49.694Z"
   },
   {
    "duration": 14,
    "start_time": "2024-05-20T17:26:05.550Z"
   },
   {
    "duration": 9,
    "start_time": "2024-05-20T17:27:07.785Z"
   },
   {
    "duration": 10,
    "start_time": "2024-05-20T17:28:50.603Z"
   },
   {
    "duration": 181,
    "start_time": "2024-05-20T17:29:40.256Z"
   },
   {
    "duration": 184,
    "start_time": "2024-05-20T17:30:10.321Z"
   },
   {
    "duration": 168,
    "start_time": "2024-05-20T17:30:44.860Z"
   },
   {
    "duration": 5,
    "start_time": "2024-05-20T17:32:04.041Z"
   },
   {
    "duration": 199,
    "start_time": "2024-05-20T17:32:06.517Z"
   },
   {
    "duration": 233,
    "start_time": "2024-05-20T17:32:10.423Z"
   },
   {
    "duration": 13,
    "start_time": "2024-05-20T17:32:20.212Z"
   },
   {
    "duration": 15,
    "start_time": "2024-05-20T17:32:44.892Z"
   },
   {
    "duration": 18,
    "start_time": "2024-05-20T17:33:01.208Z"
   },
   {
    "duration": 18,
    "start_time": "2024-05-20T17:33:02.792Z"
   },
   {
    "duration": 11,
    "start_time": "2024-05-20T17:33:07.706Z"
   },
   {
    "duration": 23,
    "start_time": "2024-05-20T17:33:13.361Z"
   },
   {
    "duration": 16,
    "start_time": "2024-05-20T17:34:56.390Z"
   },
   {
    "duration": 146,
    "start_time": "2024-05-20T17:35:38.466Z"
   },
   {
    "duration": 167,
    "start_time": "2024-05-20T17:36:05.358Z"
   },
   {
    "duration": 153,
    "start_time": "2024-05-20T17:36:29.646Z"
   },
   {
    "duration": 14,
    "start_time": "2024-05-20T17:38:10.459Z"
   },
   {
    "duration": 11,
    "start_time": "2024-05-20T17:38:38.112Z"
   },
   {
    "duration": 16,
    "start_time": "2024-05-20T17:38:54.450Z"
   },
   {
    "duration": 20,
    "start_time": "2024-05-20T17:39:08.785Z"
   },
   {
    "duration": 12,
    "start_time": "2024-05-20T17:41:24.926Z"
   },
   {
    "duration": 14,
    "start_time": "2024-05-20T17:42:20.896Z"
   },
   {
    "duration": 11,
    "start_time": "2024-05-20T17:48:05.218Z"
   },
   {
    "duration": 14,
    "start_time": "2024-05-20T17:48:34.197Z"
   },
   {
    "duration": 26,
    "start_time": "2024-05-20T17:53:31.853Z"
   },
   {
    "duration": 19,
    "start_time": "2024-05-20T17:53:47.470Z"
   },
   {
    "duration": 5,
    "start_time": "2024-05-20T17:53:58.845Z"
   },
   {
    "duration": 17,
    "start_time": "2024-05-20T17:54:47.339Z"
   },
   {
    "duration": 153,
    "start_time": "2024-05-20T17:55:33.656Z"
   },
   {
    "duration": 157,
    "start_time": "2024-05-20T17:56:09.320Z"
   },
   {
    "duration": 157,
    "start_time": "2024-05-20T18:11:41.165Z"
   },
   {
    "duration": 5,
    "start_time": "2024-05-20T19:55:39.231Z"
   },
   {
    "duration": 18,
    "start_time": "2024-05-20T19:58:11.737Z"
   },
   {
    "duration": 4,
    "start_time": "2024-05-20T19:58:15.874Z"
   },
   {
    "duration": 18,
    "start_time": "2024-05-20T19:58:17.845Z"
   },
   {
    "duration": 4,
    "start_time": "2024-05-20T19:58:43.890Z"
   },
   {
    "duration": 10,
    "start_time": "2024-05-20T19:58:45.911Z"
   },
   {
    "duration": 24,
    "start_time": "2024-05-20T19:58:57.572Z"
   },
   {
    "duration": 10,
    "start_time": "2024-05-20T19:59:25.315Z"
   },
   {
    "duration": 10,
    "start_time": "2024-05-20T19:59:30.414Z"
   },
   {
    "duration": 18,
    "start_time": "2024-05-20T19:59:33.453Z"
   },
   {
    "duration": 3,
    "start_time": "2024-05-20T19:59:55.329Z"
   },
   {
    "duration": 17,
    "start_time": "2024-05-20T20:00:02.810Z"
   },
   {
    "duration": 3,
    "start_time": "2024-05-20T20:00:30.059Z"
   },
   {
    "duration": 18,
    "start_time": "2024-05-20T20:00:32.804Z"
   },
   {
    "duration": 11,
    "start_time": "2024-05-20T20:01:47.303Z"
   },
   {
    "duration": 4,
    "start_time": "2024-05-20T20:03:30.938Z"
   },
   {
    "duration": 3,
    "start_time": "2024-05-20T20:03:33.986Z"
   },
   {
    "duration": 11,
    "start_time": "2024-05-20T20:03:36.419Z"
   },
   {
    "duration": 19,
    "start_time": "2024-05-20T20:03:48.352Z"
   },
   {
    "duration": 4,
    "start_time": "2024-05-20T20:05:35.221Z"
   },
   {
    "duration": 17,
    "start_time": "2024-05-20T20:05:38.299Z"
   },
   {
    "duration": 3,
    "start_time": "2024-05-20T20:05:51.670Z"
   },
   {
    "duration": 3,
    "start_time": "2024-05-20T20:05:53.946Z"
   },
   {
    "duration": 17,
    "start_time": "2024-05-20T20:05:56.441Z"
   },
   {
    "duration": 4,
    "start_time": "2024-05-20T20:06:09.890Z"
   },
   {
    "duration": 17,
    "start_time": "2024-05-20T20:06:13.667Z"
   },
   {
    "duration": 4,
    "start_time": "2024-05-20T20:09:13.789Z"
   },
   {
    "duration": 20,
    "start_time": "2024-05-20T20:09:16.674Z"
   },
   {
    "duration": 3,
    "start_time": "2024-05-20T20:09:25.543Z"
   },
   {
    "duration": 17,
    "start_time": "2024-05-20T20:09:28.416Z"
   },
   {
    "duration": 4,
    "start_time": "2024-05-20T20:10:24.664Z"
   },
   {
    "duration": 18,
    "start_time": "2024-05-20T20:10:27.733Z"
   },
   {
    "duration": 16,
    "start_time": "2024-05-20T20:12:53.743Z"
   },
   {
    "duration": 2745,
    "start_time": "2024-05-20T20:13:27.872Z"
   },
   {
    "duration": 2244,
    "start_time": "2024-05-20T20:13:30.620Z"
   },
   {
    "duration": 48,
    "start_time": "2024-05-20T20:13:32.867Z"
   },
   {
    "duration": 5,
    "start_time": "2024-05-20T20:13:32.917Z"
   },
   {
    "duration": 12,
    "start_time": "2024-05-20T20:13:32.925Z"
   },
   {
    "duration": 15,
    "start_time": "2024-05-20T20:13:32.939Z"
   },
   {
    "duration": 7,
    "start_time": "2024-05-20T20:13:32.961Z"
   },
   {
    "duration": 9,
    "start_time": "2024-05-20T20:13:32.970Z"
   },
   {
    "duration": 19,
    "start_time": "2024-05-20T20:13:32.981Z"
   },
   {
    "duration": 5,
    "start_time": "2024-05-20T20:13:33.002Z"
   },
   {
    "duration": 8,
    "start_time": "2024-05-20T20:13:33.009Z"
   },
   {
    "duration": 10,
    "start_time": "2024-05-20T20:13:33.019Z"
   },
   {
    "duration": 6,
    "start_time": "2024-05-20T20:13:33.062Z"
   },
   {
    "duration": 156,
    "start_time": "2024-05-20T20:13:33.072Z"
   },
   {
    "duration": 6,
    "start_time": "2024-05-20T20:13:33.230Z"
   },
   {
    "duration": 157,
    "start_time": "2024-05-20T20:13:33.238Z"
   },
   {
    "duration": 166,
    "start_time": "2024-05-20T20:13:33.397Z"
   },
   {
    "duration": 151,
    "start_time": "2024-05-20T20:13:33.565Z"
   },
   {
    "duration": 4,
    "start_time": "2024-05-20T20:13:33.718Z"
   },
   {
    "duration": 19,
    "start_time": "2024-05-20T20:13:33.723Z"
   },
   {
    "duration": 29,
    "start_time": "2024-05-20T20:13:33.745Z"
   },
   {
    "duration": 4,
    "start_time": "2024-05-20T20:13:56.541Z"
   },
   {
    "duration": 157,
    "start_time": "2024-05-20T20:14:18.328Z"
   },
   {
    "duration": 2775,
    "start_time": "2024-05-20T20:14:32.121Z"
   },
   {
    "duration": 2084,
    "start_time": "2024-05-20T20:14:34.900Z"
   },
   {
    "duration": 51,
    "start_time": "2024-05-20T20:14:36.986Z"
   },
   {
    "duration": 5,
    "start_time": "2024-05-20T20:14:37.039Z"
   },
   {
    "duration": 20,
    "start_time": "2024-05-20T20:14:37.046Z"
   },
   {
    "duration": 21,
    "start_time": "2024-05-20T20:14:37.068Z"
   },
   {
    "duration": 26,
    "start_time": "2024-05-20T20:14:37.092Z"
   },
   {
    "duration": 25,
    "start_time": "2024-05-20T20:14:37.120Z"
   },
   {
    "duration": 30,
    "start_time": "2024-05-20T20:14:37.146Z"
   },
   {
    "duration": 5,
    "start_time": "2024-05-20T20:14:37.178Z"
   },
   {
    "duration": 16,
    "start_time": "2024-05-20T20:14:37.185Z"
   },
   {
    "duration": 8,
    "start_time": "2024-05-20T20:14:37.203Z"
   },
   {
    "duration": 7,
    "start_time": "2024-05-20T20:14:37.213Z"
   },
   {
    "duration": 149,
    "start_time": "2024-05-20T20:14:37.223Z"
   },
   {
    "duration": 5,
    "start_time": "2024-05-20T20:14:37.374Z"
   },
   {
    "duration": 151,
    "start_time": "2024-05-20T20:14:37.381Z"
   },
   {
    "duration": 158,
    "start_time": "2024-05-20T20:14:37.534Z"
   },
   {
    "duration": 150,
    "start_time": "2024-05-20T20:14:37.694Z"
   },
   {
    "duration": 3,
    "start_time": "2024-05-20T20:14:37.847Z"
   },
   {
    "duration": 10,
    "start_time": "2024-05-20T20:14:37.852Z"
   },
   {
    "duration": 18,
    "start_time": "2024-05-20T20:14:37.864Z"
   },
   {
    "duration": 139,
    "start_time": "2024-05-20T20:16:25.719Z"
   },
   {
    "duration": 2785,
    "start_time": "2024-05-20T20:16:32.794Z"
   },
   {
    "duration": 2148,
    "start_time": "2024-05-20T20:16:35.582Z"
   },
   {
    "duration": 47,
    "start_time": "2024-05-20T20:16:37.733Z"
   },
   {
    "duration": 6,
    "start_time": "2024-05-20T20:16:37.782Z"
   },
   {
    "duration": 13,
    "start_time": "2024-05-20T20:16:37.791Z"
   },
   {
    "duration": 17,
    "start_time": "2024-05-20T20:16:37.806Z"
   },
   {
    "duration": 36,
    "start_time": "2024-05-20T20:16:37.826Z"
   },
   {
    "duration": 44,
    "start_time": "2024-05-20T20:16:37.865Z"
   },
   {
    "duration": 36,
    "start_time": "2024-05-20T20:16:37.912Z"
   },
   {
    "duration": 8,
    "start_time": "2024-05-20T20:16:37.951Z"
   },
   {
    "duration": 17,
    "start_time": "2024-05-20T20:16:37.962Z"
   },
   {
    "duration": 12,
    "start_time": "2024-05-20T20:16:37.982Z"
   },
   {
    "duration": 7,
    "start_time": "2024-05-20T20:16:37.997Z"
   },
   {
    "duration": 186,
    "start_time": "2024-05-20T20:16:38.009Z"
   },
   {
    "duration": 6,
    "start_time": "2024-05-20T20:16:38.197Z"
   },
   {
    "duration": 157,
    "start_time": "2024-05-20T20:16:38.205Z"
   },
   {
    "duration": 189,
    "start_time": "2024-05-20T20:16:38.365Z"
   },
   {
    "duration": 157,
    "start_time": "2024-05-20T20:16:38.556Z"
   },
   {
    "duration": 4,
    "start_time": "2024-05-20T20:16:38.715Z"
   },
   {
    "duration": 16,
    "start_time": "2024-05-20T20:16:38.721Z"
   },
   {
    "duration": 18,
    "start_time": "2024-05-20T20:16:38.739Z"
   },
   {
    "duration": 2,
    "start_time": "2024-05-20T20:25:09.209Z"
   },
   {
    "duration": 3,
    "start_time": "2024-05-20T21:09:48.095Z"
   },
   {
    "duration": 19,
    "start_time": "2024-05-20T21:10:32.100Z"
   },
   {
    "duration": 20,
    "start_time": "2024-05-20T21:10:41.582Z"
   },
   {
    "duration": 3,
    "start_time": "2024-05-20T21:13:49.498Z"
   },
   {
    "duration": 19,
    "start_time": "2024-05-20T21:13:52.106Z"
   },
   {
    "duration": 2726,
    "start_time": "2024-05-20T21:13:59.970Z"
   },
   {
    "duration": 2140,
    "start_time": "2024-05-20T21:14:02.699Z"
   },
   {
    "duration": 47,
    "start_time": "2024-05-20T21:14:04.842Z"
   },
   {
    "duration": 5,
    "start_time": "2024-05-20T21:14:04.891Z"
   },
   {
    "duration": 16,
    "start_time": "2024-05-20T21:14:04.899Z"
   },
   {
    "duration": 14,
    "start_time": "2024-05-20T21:14:04.917Z"
   },
   {
    "duration": 4,
    "start_time": "2024-05-20T21:14:04.933Z"
   },
   {
    "duration": 16,
    "start_time": "2024-05-20T21:14:04.960Z"
   },
   {
    "duration": 10,
    "start_time": "2024-05-20T21:14:04.978Z"
   },
   {
    "duration": 5,
    "start_time": "2024-05-20T21:14:04.990Z"
   },
   {
    "duration": 8,
    "start_time": "2024-05-20T21:14:04.997Z"
   },
   {
    "duration": 10,
    "start_time": "2024-05-20T21:14:05.007Z"
   },
   {
    "duration": 18,
    "start_time": "2024-05-20T21:14:05.019Z"
   },
   {
    "duration": 170,
    "start_time": "2024-05-20T21:14:05.042Z"
   },
   {
    "duration": 6,
    "start_time": "2024-05-20T21:14:05.215Z"
   },
   {
    "duration": 148,
    "start_time": "2024-05-20T21:14:05.223Z"
   },
   {
    "duration": 154,
    "start_time": "2024-05-20T21:14:05.373Z"
   },
   {
    "duration": 142,
    "start_time": "2024-05-20T21:14:05.529Z"
   },
   {
    "duration": 3,
    "start_time": "2024-05-20T21:14:05.673Z"
   },
   {
    "duration": 40,
    "start_time": "2024-05-20T21:14:05.677Z"
   },
   {
    "duration": 18,
    "start_time": "2024-05-20T21:14:05.719Z"
   },
   {
    "duration": 6,
    "start_time": "2024-05-20T21:14:05.739Z"
   },
   {
    "duration": 28,
    "start_time": "2024-05-20T21:14:05.747Z"
   },
   {
    "duration": 9,
    "start_time": "2024-05-20T21:14:49.521Z"
   },
   {
    "duration": 18,
    "start_time": "2024-05-20T21:15:04.512Z"
   },
   {
    "duration": 8,
    "start_time": "2024-05-20T21:15:16.635Z"
   },
   {
    "duration": 44,
    "start_time": "2024-05-21T06:24:49.628Z"
   },
   {
    "duration": 30025,
    "start_time": "2024-05-21T06:25:07.412Z"
   },
   {
    "duration": 1945,
    "start_time": "2024-05-21T06:25:37.440Z"
   },
   {
    "duration": 171,
    "start_time": "2024-05-21T06:25:39.386Z"
   },
   {
    "duration": 5,
    "start_time": "2024-05-21T06:25:39.559Z"
   },
   {
    "duration": 12,
    "start_time": "2024-05-21T06:25:39.565Z"
   },
   {
    "duration": 11,
    "start_time": "2024-05-21T06:25:39.579Z"
   },
   {
    "duration": 3,
    "start_time": "2024-05-21T06:25:39.591Z"
   },
   {
    "duration": 8,
    "start_time": "2024-05-21T06:25:39.595Z"
   },
   {
    "duration": 11,
    "start_time": "2024-05-21T06:25:39.604Z"
   },
   {
    "duration": 3,
    "start_time": "2024-05-21T06:25:39.617Z"
   },
   {
    "duration": 7,
    "start_time": "2024-05-21T06:25:39.621Z"
   },
   {
    "duration": 7,
    "start_time": "2024-05-21T06:25:39.629Z"
   },
   {
    "duration": 4,
    "start_time": "2024-05-21T06:25:39.637Z"
   },
   {
    "duration": 141,
    "start_time": "2024-05-21T06:25:39.643Z"
   },
   {
    "duration": 5,
    "start_time": "2024-05-21T06:25:39.785Z"
   },
   {
    "duration": 114,
    "start_time": "2024-05-21T06:25:39.791Z"
   },
   {
    "duration": 121,
    "start_time": "2024-05-21T06:25:39.906Z"
   },
   {
    "duration": 109,
    "start_time": "2024-05-21T06:25:40.028Z"
   },
   {
    "duration": 2,
    "start_time": "2024-05-21T06:25:40.139Z"
   },
   {
    "duration": 38,
    "start_time": "2024-05-21T06:25:40.142Z"
   },
   {
    "duration": 34,
    "start_time": "2024-05-21T06:25:40.181Z"
   },
   {
    "duration": 16,
    "start_time": "2024-05-21T06:25:40.216Z"
   },
   {
    "duration": 16,
    "start_time": "2024-05-21T06:25:40.234Z"
   },
   {
    "duration": 52,
    "start_time": "2024-05-21T06:25:40.252Z"
   },
   {
    "duration": 15,
    "start_time": "2024-05-21T06:26:27.802Z"
   },
   {
    "duration": 7,
    "start_time": "2024-05-21T06:26:53.247Z"
   },
   {
    "duration": 3,
    "start_time": "2024-05-21T06:29:55.276Z"
   },
   {
    "duration": 11,
    "start_time": "2024-05-21T06:30:03.014Z"
   },
   {
    "duration": 17,
    "start_time": "2024-05-21T06:30:33.287Z"
   },
   {
    "duration": 4,
    "start_time": "2024-05-21T06:50:26.760Z"
   },
   {
    "duration": 2,
    "start_time": "2024-05-21T06:57:24.030Z"
   },
   {
    "duration": 2,
    "start_time": "2024-05-21T06:58:37.716Z"
   },
   {
    "duration": 107,
    "start_time": "2024-05-21T07:00:11.675Z"
   },
   {
    "duration": 2628,
    "start_time": "2024-05-21T07:00:27.927Z"
   },
   {
    "duration": 1803,
    "start_time": "2024-05-21T07:00:30.558Z"
   },
   {
    "duration": 43,
    "start_time": "2024-05-21T07:00:32.363Z"
   },
   {
    "duration": 19,
    "start_time": "2024-05-21T07:00:32.407Z"
   },
   {
    "duration": 13,
    "start_time": "2024-05-21T07:00:32.428Z"
   },
   {
    "duration": 39,
    "start_time": "2024-05-21T07:00:32.442Z"
   },
   {
    "duration": 4,
    "start_time": "2024-05-21T07:00:32.483Z"
   },
   {
    "duration": 33,
    "start_time": "2024-05-21T07:00:32.489Z"
   },
   {
    "duration": 22,
    "start_time": "2024-05-21T07:00:32.524Z"
   },
   {
    "duration": 17,
    "start_time": "2024-05-21T07:00:32.547Z"
   },
   {
    "duration": 40,
    "start_time": "2024-05-21T07:00:32.566Z"
   },
   {
    "duration": 22,
    "start_time": "2024-05-21T07:00:32.608Z"
   },
   {
    "duration": 15,
    "start_time": "2024-05-21T07:00:32.631Z"
   },
   {
    "duration": 143,
    "start_time": "2024-05-21T07:00:32.649Z"
   },
   {
    "duration": 7,
    "start_time": "2024-05-21T07:00:32.794Z"
   },
   {
    "duration": 128,
    "start_time": "2024-05-21T07:00:32.803Z"
   },
   {
    "duration": 113,
    "start_time": "2024-05-21T07:00:32.933Z"
   },
   {
    "duration": 115,
    "start_time": "2024-05-21T07:00:33.048Z"
   },
   {
    "duration": 3,
    "start_time": "2024-05-21T07:00:33.165Z"
   },
   {
    "duration": 45,
    "start_time": "2024-05-21T07:00:33.169Z"
   },
   {
    "duration": 39,
    "start_time": "2024-05-21T07:00:33.216Z"
   },
   {
    "duration": 3,
    "start_time": "2024-05-21T07:00:33.257Z"
   },
   {
    "duration": 54,
    "start_time": "2024-05-21T07:00:33.262Z"
   },
   {
    "duration": 25,
    "start_time": "2024-05-21T07:00:33.318Z"
   },
   {
    "duration": 79,
    "start_time": "2024-05-21T07:00:33.345Z"
   },
   {
    "duration": 139,
    "start_time": "2024-05-21T07:00:33.425Z"
   },
   {
    "duration": 4,
    "start_time": "2024-05-21T07:00:58.049Z"
   },
   {
    "duration": 6,
    "start_time": "2024-05-21T07:01:01.205Z"
   },
   {
    "duration": 7,
    "start_time": "2024-05-21T07:02:32.976Z"
   },
   {
    "duration": 7,
    "start_time": "2024-05-21T07:02:51.639Z"
   },
   {
    "duration": 10,
    "start_time": "2024-05-21T07:03:21.275Z"
   },
   {
    "duration": 11,
    "start_time": "2024-05-21T07:04:52.929Z"
   },
   {
    "duration": 7,
    "start_time": "2024-05-21T07:05:15.833Z"
   },
   {
    "duration": 8,
    "start_time": "2024-05-21T07:05:47.665Z"
   },
   {
    "duration": 10,
    "start_time": "2024-05-21T07:06:04.678Z"
   },
   {
    "duration": 9,
    "start_time": "2024-05-21T07:07:04.047Z"
   },
   {
    "duration": 9,
    "start_time": "2024-05-21T07:09:43.169Z"
   },
   {
    "duration": 9,
    "start_time": "2024-05-21T07:11:44.051Z"
   },
   {
    "duration": 12,
    "start_time": "2024-05-21T07:12:35.359Z"
   },
   {
    "duration": 11,
    "start_time": "2024-05-21T07:12:55.990Z"
   },
   {
    "duration": 106,
    "start_time": "2024-05-21T07:15:16.231Z"
   },
   {
    "duration": 113,
    "start_time": "2024-05-21T07:15:54.796Z"
   },
   {
    "duration": 118,
    "start_time": "2024-05-21T07:16:25.556Z"
   },
   {
    "duration": 103,
    "start_time": "2024-05-21T07:17:02.944Z"
   },
   {
    "duration": 20,
    "start_time": "2024-05-21T07:17:37.167Z"
   },
   {
    "duration": 15,
    "start_time": "2024-05-21T07:17:43.168Z"
   },
   {
    "duration": 2620,
    "start_time": "2024-05-21T07:18:01.664Z"
   },
   {
    "duration": 1898,
    "start_time": "2024-05-21T07:18:04.287Z"
   },
   {
    "duration": 43,
    "start_time": "2024-05-21T07:18:06.187Z"
   },
   {
    "duration": 4,
    "start_time": "2024-05-21T07:18:06.232Z"
   },
   {
    "duration": 32,
    "start_time": "2024-05-21T07:18:06.239Z"
   },
   {
    "duration": 17,
    "start_time": "2024-05-21T07:18:06.273Z"
   },
   {
    "duration": 17,
    "start_time": "2024-05-21T07:18:06.291Z"
   },
   {
    "duration": 36,
    "start_time": "2024-05-21T07:18:06.310Z"
   },
   {
    "duration": 9,
    "start_time": "2024-05-21T07:18:06.348Z"
   },
   {
    "duration": 23,
    "start_time": "2024-05-21T07:18:06.358Z"
   },
   {
    "duration": 26,
    "start_time": "2024-05-21T07:18:06.383Z"
   },
   {
    "duration": 9,
    "start_time": "2024-05-21T07:18:06.411Z"
   },
   {
    "duration": 38,
    "start_time": "2024-05-21T07:18:06.422Z"
   },
   {
    "duration": 122,
    "start_time": "2024-05-21T07:18:06.464Z"
   },
   {
    "duration": 4,
    "start_time": "2024-05-21T07:18:06.588Z"
   },
   {
    "duration": 129,
    "start_time": "2024-05-21T07:18:06.593Z"
   },
   {
    "duration": 129,
    "start_time": "2024-05-21T07:18:06.724Z"
   },
   {
    "duration": 111,
    "start_time": "2024-05-21T07:18:06.855Z"
   },
   {
    "duration": 2,
    "start_time": "2024-05-21T07:18:06.968Z"
   },
   {
    "duration": 10,
    "start_time": "2024-05-21T07:18:06.972Z"
   },
   {
    "duration": 18,
    "start_time": "2024-05-21T07:18:06.984Z"
   },
   {
    "duration": 3,
    "start_time": "2024-05-21T07:18:07.004Z"
   },
   {
    "duration": 38,
    "start_time": "2024-05-21T07:18:07.008Z"
   },
   {
    "duration": 9,
    "start_time": "2024-05-21T07:18:07.048Z"
   },
   {
    "duration": 12,
    "start_time": "2024-05-21T07:18:07.058Z"
   },
   {
    "duration": 17,
    "start_time": "2024-05-21T07:18:07.071Z"
   },
   {
    "duration": 8,
    "start_time": "2024-05-21T07:18:07.089Z"
   },
   {
    "duration": 28,
    "start_time": "2024-05-21T07:18:07.099Z"
   },
   {
    "duration": 13,
    "start_time": "2024-05-21T07:20:23.670Z"
   },
   {
    "duration": 13,
    "start_time": "2024-05-21T07:21:33.144Z"
   },
   {
    "duration": 2,
    "start_time": "2024-05-21T07:48:51.134Z"
   },
   {
    "duration": 4,
    "start_time": "2024-05-21T07:59:34.574Z"
   },
   {
    "duration": 11,
    "start_time": "2024-05-21T08:01:12.051Z"
   },
   {
    "duration": 16,
    "start_time": "2024-05-21T08:01:46.433Z"
   },
   {
    "duration": 23,
    "start_time": "2024-05-21T08:03:22.285Z"
   },
   {
    "duration": 24,
    "start_time": "2024-05-21T08:03:36.738Z"
   },
   {
    "duration": 33,
    "start_time": "2024-05-21T08:03:50.282Z"
   },
   {
    "duration": 29,
    "start_time": "2024-05-21T08:05:04.083Z"
   },
   {
    "duration": 29,
    "start_time": "2024-05-21T08:06:26.077Z"
   },
   {
    "duration": 2604,
    "start_time": "2024-05-21T08:16:06.887Z"
   },
   {
    "duration": 1893,
    "start_time": "2024-05-21T08:16:09.494Z"
   },
   {
    "duration": 43,
    "start_time": "2024-05-21T08:16:11.389Z"
   },
   {
    "duration": 5,
    "start_time": "2024-05-21T08:16:11.433Z"
   },
   {
    "duration": 15,
    "start_time": "2024-05-21T08:16:11.440Z"
   },
   {
    "duration": 16,
    "start_time": "2024-05-21T08:16:11.457Z"
   },
   {
    "duration": 3,
    "start_time": "2024-05-21T08:16:11.475Z"
   },
   {
    "duration": 19,
    "start_time": "2024-05-21T08:16:11.479Z"
   },
   {
    "duration": 8,
    "start_time": "2024-05-21T08:16:11.500Z"
   },
   {
    "duration": 15,
    "start_time": "2024-05-21T08:16:11.509Z"
   },
   {
    "duration": 17,
    "start_time": "2024-05-21T08:16:11.526Z"
   },
   {
    "duration": 18,
    "start_time": "2024-05-21T08:16:11.545Z"
   },
   {
    "duration": 9,
    "start_time": "2024-05-21T08:16:11.564Z"
   },
   {
    "duration": 109,
    "start_time": "2024-05-21T08:16:11.576Z"
   },
   {
    "duration": 5,
    "start_time": "2024-05-21T08:16:11.686Z"
   },
   {
    "duration": 116,
    "start_time": "2024-05-21T08:16:11.692Z"
   },
   {
    "duration": 116,
    "start_time": "2024-05-21T08:16:11.809Z"
   },
   {
    "duration": 109,
    "start_time": "2024-05-21T08:16:11.926Z"
   },
   {
    "duration": 3,
    "start_time": "2024-05-21T08:16:12.037Z"
   },
   {
    "duration": 12,
    "start_time": "2024-05-21T08:16:12.041Z"
   },
   {
    "duration": 19,
    "start_time": "2024-05-21T08:16:12.054Z"
   },
   {
    "duration": 3,
    "start_time": "2024-05-21T08:16:12.074Z"
   },
   {
    "duration": 28,
    "start_time": "2024-05-21T08:16:12.078Z"
   },
   {
    "duration": 3,
    "start_time": "2024-05-21T08:16:12.107Z"
   },
   {
    "duration": 11,
    "start_time": "2024-05-21T08:16:12.112Z"
   },
   {
    "duration": 14,
    "start_time": "2024-05-21T08:16:12.125Z"
   },
   {
    "duration": 7,
    "start_time": "2024-05-21T08:16:12.141Z"
   },
   {
    "duration": 12,
    "start_time": "2024-05-21T08:16:12.150Z"
   },
   {
    "duration": 4,
    "start_time": "2024-05-21T08:16:12.164Z"
   },
   {
    "duration": 10,
    "start_time": "2024-05-21T08:16:12.169Z"
   },
   {
    "duration": 42,
    "start_time": "2024-05-21T08:16:12.180Z"
   },
   {
    "duration": 26,
    "start_time": "2024-05-21T08:16:12.223Z"
   },
   {
    "duration": 27,
    "start_time": "2024-05-21T08:16:12.250Z"
   },
   {
    "duration": 5,
    "start_time": "2024-05-21T09:09:08.677Z"
   },
   {
    "duration": 405,
    "start_time": "2024-05-21T09:10:49.909Z"
   },
   {
    "duration": 391,
    "start_time": "2024-05-21T09:12:21.812Z"
   },
   {
    "duration": 640,
    "start_time": "2024-05-21T09:13:26.762Z"
   },
   {
    "duration": 7,
    "start_time": "2024-05-21T09:20:24.408Z"
   },
   {
    "duration": 385,
    "start_time": "2024-05-21T09:20:27.924Z"
   },
   {
    "duration": 363,
    "start_time": "2024-05-21T09:20:33.539Z"
   },
   {
    "duration": 614,
    "start_time": "2024-05-21T09:20:40.488Z"
   },
   {
    "duration": 4,
    "start_time": "2024-05-21T09:31:39.419Z"
   },
   {
    "duration": 624,
    "start_time": "2024-05-21T09:31:42.978Z"
   },
   {
    "duration": 629,
    "start_time": "2024-05-21T09:32:15.573Z"
   },
   {
    "duration": 6,
    "start_time": "2024-05-21T09:32:42.464Z"
   },
   {
    "duration": 434,
    "start_time": "2024-05-21T09:32:45.876Z"
   },
   {
    "duration": 410,
    "start_time": "2024-05-21T09:32:52.500Z"
   },
   {
    "duration": 450,
    "start_time": "2024-05-21T09:32:58.160Z"
   },
   {
    "duration": 5,
    "start_time": "2024-05-21T09:34:40.112Z"
   },
   {
    "duration": 281,
    "start_time": "2024-05-21T09:34:42.622Z"
   },
   {
    "duration": 292,
    "start_time": "2024-05-21T09:34:45.720Z"
   },
   {
    "duration": 331,
    "start_time": "2024-05-21T09:34:56.776Z"
   },
   {
    "duration": 6,
    "start_time": "2024-05-21T09:44:54.024Z"
   },
   {
    "duration": 1970,
    "start_time": "2024-05-21T09:45:00.745Z"
   },
   {
    "duration": 8,
    "start_time": "2024-05-21T09:45:22.736Z"
   },
   {
    "duration": 1792,
    "start_time": "2024-05-21T09:45:29.610Z"
   },
   {
    "duration": 1646,
    "start_time": "2024-05-21T09:45:38.356Z"
   },
   {
    "duration": 5,
    "start_time": "2024-05-21T09:46:44.334Z"
   },
   {
    "duration": 1537,
    "start_time": "2024-05-21T09:46:48.068Z"
   },
   {
    "duration": 5,
    "start_time": "2024-05-21T09:47:23.964Z"
   },
   {
    "duration": 1521,
    "start_time": "2024-05-21T09:47:26.593Z"
   },
   {
    "duration": 5,
    "start_time": "2024-05-21T09:47:37.997Z"
   },
   {
    "duration": 1716,
    "start_time": "2024-05-21T09:47:41.594Z"
   },
   {
    "duration": 1706,
    "start_time": "2024-05-21T09:48:01.808Z"
   },
   {
    "duration": 1675,
    "start_time": "2024-05-21T09:48:12.027Z"
   },
   {
    "duration": 8,
    "start_time": "2024-05-21T10:06:12.382Z"
   },
   {
    "duration": 293051,
    "start_time": "2024-05-21T10:06:16.770Z"
   },
   {
    "duration": 11,
    "start_time": "2024-05-21T10:11:33.010Z"
   },
   {
    "duration": 36924,
    "start_time": "2024-05-21T10:11:36.480Z"
   },
   {
    "duration": 37198,
    "start_time": "2024-05-21T10:12:47.406Z"
   },
   {
    "duration": 37324,
    "start_time": "2024-05-21T10:13:59.485Z"
   },
   {
    "duration": 6,
    "start_time": "2024-05-21T10:17:17.333Z"
   },
   {
    "duration": 51543,
    "start_time": "2024-05-21T10:18:05.473Z"
   },
   {
    "duration": 51401,
    "start_time": "2024-05-21T10:18:57.104Z"
   },
   {
    "duration": 52103,
    "start_time": "2024-05-21T10:19:48.507Z"
   },
   {
    "duration": 52039,
    "start_time": "2024-05-21T10:25:39.964Z"
   },
   {
    "duration": 51691,
    "start_time": "2024-05-21T10:28:46.719Z"
   },
   {
    "duration": 46934,
    "start_time": "2024-05-21T10:29:38.413Z"
   },
   {
    "duration": 0,
    "start_time": "2024-05-21T10:30:25.349Z"
   },
   {
    "duration": 7,
    "start_time": "2024-05-21T10:30:33.755Z"
   },
   {
    "duration": 37073,
    "start_time": "2024-05-21T10:30:36.730Z"
   },
   {
    "duration": 37097,
    "start_time": "2024-05-21T10:31:13.805Z"
   },
   {
    "duration": 37398,
    "start_time": "2024-05-21T10:31:50.904Z"
   },
   {
    "duration": 7834,
    "start_time": "2024-05-21T10:35:03.528Z"
   },
   {
    "duration": 37029,
    "start_time": "2024-05-21T10:35:35.685Z"
   },
   {
    "duration": 36691,
    "start_time": "2024-05-21T10:36:36.415Z"
   },
   {
    "duration": 37494,
    "start_time": "2024-05-21T10:37:13.109Z"
   },
   {
    "duration": 11,
    "start_time": "2024-05-21T11:56:36.895Z"
   },
   {
    "duration": 38236,
    "start_time": "2024-05-21T11:56:48.067Z"
   },
   {
    "duration": 7,
    "start_time": "2024-05-21T11:58:00.945Z"
   },
   {
    "duration": 7,
    "start_time": "2024-05-21T11:58:26.321Z"
   },
   {
    "duration": 37773,
    "start_time": "2024-05-21T11:58:29.036Z"
   },
   {
    "duration": 8,
    "start_time": "2024-05-21T11:59:32.083Z"
   },
   {
    "duration": 37792,
    "start_time": "2024-05-21T11:59:35.609Z"
   },
   {
    "duration": 37379,
    "start_time": "2024-05-21T12:00:28.529Z"
   },
   {
    "duration": 37898,
    "start_time": "2024-05-21T12:01:05.911Z"
   },
   {
    "duration": 9,
    "start_time": "2024-05-21T12:07:46.514Z"
   },
   {
    "duration": 4,
    "start_time": "2024-05-21T12:11:12.588Z"
   },
   {
    "duration": 6,
    "start_time": "2024-05-21T12:11:38.763Z"
   },
   {
    "duration": 9,
    "start_time": "2024-05-21T12:12:44.000Z"
   },
   {
    "duration": 57,
    "start_time": "2024-05-21T12:14:03.054Z"
   },
   {
    "duration": 8,
    "start_time": "2024-05-21T12:14:08.380Z"
   },
   {
    "duration": 7,
    "start_time": "2024-05-21T12:14:18.557Z"
   },
   {
    "duration": 7,
    "start_time": "2024-05-21T12:14:37.209Z"
   },
   {
    "duration": 9,
    "start_time": "2024-05-21T12:45:00.893Z"
   },
   {
    "duration": 10,
    "start_time": "2024-05-21T12:45:07.291Z"
   },
   {
    "duration": 38309,
    "start_time": "2024-05-21T12:45:10.300Z"
   },
   {
    "duration": 38003,
    "start_time": "2024-05-21T12:47:12.508Z"
   },
   {
    "duration": 37787,
    "start_time": "2024-05-21T12:48:41.422Z"
   },
   {
    "duration": 9,
    "start_time": "2024-05-21T13:13:19.245Z"
   },
   {
    "duration": 4,
    "start_time": "2024-05-21T13:13:26.257Z"
   },
   {
    "duration": 14,
    "start_time": "2024-05-21T13:13:28.893Z"
   },
   {
    "duration": 3,
    "start_time": "2024-05-21T13:14:59.047Z"
   },
   {
    "duration": 8,
    "start_time": "2024-05-21T13:15:10.623Z"
   },
   {
    "duration": 9,
    "start_time": "2024-05-21T13:15:39.065Z"
   },
   {
    "duration": 17,
    "start_time": "2024-05-21T13:16:12.747Z"
   },
   {
    "duration": 14,
    "start_time": "2024-05-21T13:16:18.527Z"
   },
   {
    "duration": 17,
    "start_time": "2024-05-21T13:16:54.896Z"
   },
   {
    "duration": 12,
    "start_time": "2024-05-21T13:17:29.276Z"
   },
   {
    "duration": 9,
    "start_time": "2024-05-21T13:19:38.028Z"
   },
   {
    "duration": 12,
    "start_time": "2024-05-21T13:20:18.897Z"
   },
   {
    "duration": 46936,
    "start_time": "2024-05-21T13:25:22.076Z"
   },
   {
    "duration": 46731,
    "start_time": "2024-05-21T13:29:12.476Z"
   },
   {
    "duration": 45399,
    "start_time": "2024-05-21T13:32:06.405Z"
   },
   {
    "duration": 10,
    "start_time": "2024-05-21T13:46:14.696Z"
   },
   {
    "duration": 9,
    "start_time": "2024-05-21T13:47:02.199Z"
   },
   {
    "duration": 9,
    "start_time": "2024-05-21T13:47:40.214Z"
   },
   {
    "duration": 46939,
    "start_time": "2024-05-21T13:48:45.871Z"
   },
   {
    "duration": 8,
    "start_time": "2024-05-21T13:54:21.668Z"
   },
   {
    "duration": 4,
    "start_time": "2024-05-21T13:54:39.412Z"
   },
   {
    "duration": 13,
    "start_time": "2024-05-21T13:54:43.408Z"
   },
   {
    "duration": 22331,
    "start_time": "2024-05-21T13:54:56.076Z"
   },
   {
    "duration": 9,
    "start_time": "2024-05-21T13:56:15.834Z"
   },
   {
    "duration": 9,
    "start_time": "2024-05-21T13:56:19.218Z"
   },
   {
    "duration": 21345,
    "start_time": "2024-05-21T13:58:45.761Z"
   },
   {
    "duration": 132,
    "start_time": "2024-05-21T15:31:06.850Z"
   },
   {
    "duration": 37163,
    "start_time": "2024-05-21T15:34:59.046Z"
   },
   {
    "duration": 37394,
    "start_time": "2024-05-21T15:35:36.211Z"
   },
   {
    "duration": 37503,
    "start_time": "2024-05-21T15:36:13.607Z"
   },
   {
    "duration": 7,
    "start_time": "2024-05-21T15:37:12.521Z"
   },
   {
    "duration": 37245,
    "start_time": "2024-05-21T15:37:20.164Z"
   },
   {
    "duration": 37091,
    "start_time": "2024-05-21T15:37:57.411Z"
   },
   {
    "duration": 37608,
    "start_time": "2024-05-21T15:38:34.504Z"
   },
   {
    "duration": 189,
    "start_time": "2024-05-21T15:39:12.114Z"
   },
   {
    "duration": 0,
    "start_time": "2024-05-21T15:39:12.305Z"
   },
   {
    "duration": 0,
    "start_time": "2024-05-21T15:39:12.306Z"
   },
   {
    "duration": 0,
    "start_time": "2024-05-21T15:39:12.307Z"
   },
   {
    "duration": 0,
    "start_time": "2024-05-21T15:39:12.308Z"
   },
   {
    "duration": 0,
    "start_time": "2024-05-21T15:39:12.309Z"
   },
   {
    "duration": 0,
    "start_time": "2024-05-21T15:39:12.311Z"
   },
   {
    "duration": 0,
    "start_time": "2024-05-21T15:39:12.312Z"
   },
   {
    "duration": 0,
    "start_time": "2024-05-21T15:39:12.313Z"
   },
   {
    "duration": 0,
    "start_time": "2024-05-21T15:39:12.314Z"
   },
   {
    "duration": 7,
    "start_time": "2024-05-21T15:39:44.024Z"
   },
   {
    "duration": 37543,
    "start_time": "2024-05-21T15:39:47.565Z"
   },
   {
    "duration": 37497,
    "start_time": "2024-05-21T15:40:25.110Z"
   },
   {
    "duration": 38993,
    "start_time": "2024-05-21T15:41:02.609Z"
   },
   {
    "duration": 47305,
    "start_time": "2024-05-21T15:41:41.605Z"
   },
   {
    "duration": 47290,
    "start_time": "2024-05-21T15:42:28.915Z"
   },
   {
    "duration": 44797,
    "start_time": "2024-05-21T15:43:16.208Z"
   },
   {
    "duration": 22496,
    "start_time": "2024-05-21T15:44:01.007Z"
   },
   {
    "duration": 22400,
    "start_time": "2024-05-21T15:44:23.507Z"
   },
   {
    "duration": 21998,
    "start_time": "2024-05-21T15:44:45.910Z"
   },
   {
    "duration": 7,
    "start_time": "2024-05-21T16:15:39.165Z"
   },
   {
    "duration": 30,
    "start_time": "2024-05-21T16:15:41.887Z"
   },
   {
    "duration": 8,
    "start_time": "2024-05-21T16:18:17.226Z"
   },
   {
    "duration": 38299,
    "start_time": "2024-05-21T16:18:19.807Z"
   },
   {
    "duration": 7,
    "start_time": "2024-05-21T19:39:28.698Z"
   },
   {
    "duration": 73796,
    "start_time": "2024-05-21T19:39:31.806Z"
   },
   {
    "duration": 73497,
    "start_time": "2024-05-21T19:40:45.605Z"
   },
   {
    "duration": 74106,
    "start_time": "2024-05-21T19:41:59.104Z"
   },
   {
    "duration": 8,
    "start_time": "2024-05-21T19:43:41.247Z"
   },
   {
    "duration": 84390,
    "start_time": "2024-05-21T19:43:45.323Z"
   },
   {
    "duration": 87513,
    "start_time": "2024-05-21T19:45:09.801Z"
   },
   {
    "duration": 107116,
    "start_time": "2024-05-21T19:46:37.403Z"
   },
   {
    "duration": 9,
    "start_time": "2024-05-21T19:58:28.094Z"
   },
   {
    "duration": 100693,
    "start_time": "2024-05-21T19:58:30.412Z"
   },
   {
    "duration": 83315,
    "start_time": "2024-05-21T20:00:11.108Z"
   },
   {
    "duration": 87812,
    "start_time": "2024-05-21T20:01:34.503Z"
   },
   {
    "duration": 136007,
    "start_time": "2024-05-21T20:03:02.404Z"
   },
   {
    "duration": 135510,
    "start_time": "2024-05-21T20:05:18.413Z"
   },
   {
    "duration": 128213,
    "start_time": "2024-05-21T20:07:34.002Z"
   },
   {
    "duration": 64698,
    "start_time": "2024-05-21T20:09:42.217Z"
   },
   {
    "duration": 51903,
    "start_time": "2024-05-21T20:10:46.916Z"
   },
   {
    "duration": 48803,
    "start_time": "2024-05-21T20:11:38.904Z"
   },
   {
    "duration": 312,
    "start_time": "2024-05-21T20:12:27.710Z"
   },
   {
    "duration": 124,
    "start_time": "2024-05-21T20:43:57.456Z"
   },
   {
    "duration": 55,
    "start_time": "2024-05-22T07:33:29.866Z"
   },
   {
    "duration": 33582,
    "start_time": "2024-05-22T07:33:52.397Z"
   },
   {
    "duration": 2421,
    "start_time": "2024-05-22T07:34:25.982Z"
   },
   {
    "duration": 97,
    "start_time": "2024-05-22T07:34:28.405Z"
   },
   {
    "duration": 5,
    "start_time": "2024-05-22T07:34:28.504Z"
   },
   {
    "duration": 21,
    "start_time": "2024-05-22T07:34:28.512Z"
   },
   {
    "duration": 40,
    "start_time": "2024-05-22T07:34:28.535Z"
   },
   {
    "duration": 14,
    "start_time": "2024-05-22T07:34:28.577Z"
   },
   {
    "duration": 24,
    "start_time": "2024-05-22T07:34:28.593Z"
   },
   {
    "duration": 26,
    "start_time": "2024-05-22T07:34:28.618Z"
   },
   {
    "duration": 6,
    "start_time": "2024-05-22T07:34:28.646Z"
   },
   {
    "duration": 21,
    "start_time": "2024-05-22T07:34:28.654Z"
   },
   {
    "duration": 16,
    "start_time": "2024-05-22T07:34:28.677Z"
   },
   {
    "duration": 8,
    "start_time": "2024-05-22T07:34:28.695Z"
   },
   {
    "duration": 169,
    "start_time": "2024-05-22T07:34:28.706Z"
   },
   {
    "duration": 11,
    "start_time": "2024-05-22T07:34:28.877Z"
   },
   {
    "duration": 165,
    "start_time": "2024-05-22T07:34:28.890Z"
   },
   {
    "duration": 154,
    "start_time": "2024-05-22T07:34:29.057Z"
   },
   {
    "duration": 151,
    "start_time": "2024-05-22T07:34:29.212Z"
   },
   {
    "duration": 3,
    "start_time": "2024-05-22T07:34:29.370Z"
   },
   {
    "duration": 11,
    "start_time": "2024-05-22T07:34:29.374Z"
   },
   {
    "duration": 37,
    "start_time": "2024-05-22T07:34:29.387Z"
   },
   {
    "duration": 3,
    "start_time": "2024-05-22T07:34:29.425Z"
   },
   {
    "duration": 56,
    "start_time": "2024-05-22T07:34:29.430Z"
   },
   {
    "duration": 11,
    "start_time": "2024-05-22T07:34:29.487Z"
   },
   {
    "duration": 18,
    "start_time": "2024-05-22T07:34:29.500Z"
   },
   {
    "duration": 47,
    "start_time": "2024-05-22T07:34:29.520Z"
   },
   {
    "duration": 17,
    "start_time": "2024-05-22T07:34:29.569Z"
   },
   {
    "duration": 11,
    "start_time": "2024-05-22T07:34:29.587Z"
   },
   {
    "duration": 2,
    "start_time": "2024-05-22T07:34:29.600Z"
   },
   {
    "duration": 13,
    "start_time": "2024-05-22T07:34:29.604Z"
   },
   {
    "duration": 55,
    "start_time": "2024-05-22T07:34:29.618Z"
   },
   {
    "duration": 51,
    "start_time": "2024-05-22T07:34:29.675Z"
   },
   {
    "duration": 56,
    "start_time": "2024-05-22T07:34:29.728Z"
   },
   {
    "duration": 9,
    "start_time": "2024-05-22T07:34:29.785Z"
   },
   {
    "duration": 101981,
    "start_time": "2024-05-22T07:34:29.796Z"
   },
   {
    "duration": 105991,
    "start_time": "2024-05-22T07:36:11.780Z"
   },
   {
    "duration": 102206,
    "start_time": "2024-05-22T07:37:57.774Z"
   },
   {
    "duration": 187,
    "start_time": "2024-05-22T07:39:39.982Z"
   },
   {
    "duration": 10,
    "start_time": "2024-05-22T07:39:40.171Z"
   },
   {
    "duration": 101689,
    "start_time": "2024-05-22T07:39:40.183Z"
   },
   {
    "duration": 99701,
    "start_time": "2024-05-22T07:41:21.970Z"
   },
   {
    "duration": 29672,
    "start_time": "2024-05-22T07:43:01.673Z"
   },
   {
    "duration": 0,
    "start_time": "2024-05-22T07:43:31.346Z"
   },
   {
    "duration": 0,
    "start_time": "2024-05-22T07:43:31.348Z"
   },
   {
    "duration": 0,
    "start_time": "2024-05-22T07:43:31.349Z"
   },
   {
    "duration": 0,
    "start_time": "2024-05-22T07:43:31.350Z"
   },
   {
    "duration": 0,
    "start_time": "2024-05-22T07:43:31.351Z"
   },
   {
    "duration": 0,
    "start_time": "2024-05-22T07:43:31.370Z"
   },
   {
    "duration": 0,
    "start_time": "2024-05-22T07:43:31.371Z"
   },
   {
    "duration": 0,
    "start_time": "2024-05-22T07:43:31.372Z"
   },
   {
    "duration": 0,
    "start_time": "2024-05-22T07:43:31.373Z"
   },
   {
    "duration": 0,
    "start_time": "2024-05-22T07:43:31.374Z"
   },
   {
    "duration": 0,
    "start_time": "2024-05-22T07:43:31.375Z"
   },
   {
    "duration": 0,
    "start_time": "2024-05-22T07:43:31.376Z"
   },
   {
    "duration": 0,
    "start_time": "2024-05-22T07:43:31.378Z"
   },
   {
    "duration": 0,
    "start_time": "2024-05-22T07:43:31.379Z"
   },
   {
    "duration": 0,
    "start_time": "2024-05-22T07:43:31.380Z"
   },
   {
    "duration": 0,
    "start_time": "2024-05-22T07:43:31.381Z"
   },
   {
    "duration": 66,
    "start_time": "2024-05-22T07:43:36.722Z"
   },
   {
    "duration": 4,
    "start_time": "2024-05-22T07:43:47.100Z"
   },
   {
    "duration": 14,
    "start_time": "2024-05-22T07:44:03.473Z"
   },
   {
    "duration": 12,
    "start_time": "2024-05-22T07:44:09.583Z"
   },
   {
    "duration": 8,
    "start_time": "2024-05-22T07:44:38.877Z"
   },
   {
    "duration": 9,
    "start_time": "2024-05-22T07:45:51.728Z"
   },
   {
    "duration": 17,
    "start_time": "2024-05-22T07:47:30.322Z"
   },
   {
    "duration": 22,
    "start_time": "2024-05-22T07:57:35.553Z"
   },
   {
    "duration": 3,
    "start_time": "2024-05-22T07:57:49.615Z"
   },
   {
    "duration": 3,
    "start_time": "2024-05-22T07:57:53.460Z"
   },
   {
    "duration": 23,
    "start_time": "2024-05-22T07:57:56.109Z"
   },
   {
    "duration": 2811,
    "start_time": "2024-05-22T07:58:07.147Z"
   },
   {
    "duration": 2289,
    "start_time": "2024-05-22T07:58:09.964Z"
   },
   {
    "duration": 49,
    "start_time": "2024-05-22T07:58:12.257Z"
   },
   {
    "duration": 6,
    "start_time": "2024-05-22T07:58:12.308Z"
   },
   {
    "duration": 32,
    "start_time": "2024-05-22T07:58:12.318Z"
   },
   {
    "duration": 18,
    "start_time": "2024-05-22T07:58:12.352Z"
   },
   {
    "duration": 8,
    "start_time": "2024-05-22T07:58:12.373Z"
   },
   {
    "duration": 22,
    "start_time": "2024-05-22T07:58:12.383Z"
   },
   {
    "duration": 36,
    "start_time": "2024-05-22T07:58:12.408Z"
   },
   {
    "duration": 44,
    "start_time": "2024-05-22T07:58:12.446Z"
   },
   {
    "duration": 10,
    "start_time": "2024-05-22T07:58:12.492Z"
   },
   {
    "duration": 12,
    "start_time": "2024-05-22T07:58:12.505Z"
   },
   {
    "duration": 7,
    "start_time": "2024-05-22T07:58:12.519Z"
   },
   {
    "duration": 166,
    "start_time": "2024-05-22T07:58:12.533Z"
   },
   {
    "duration": 7,
    "start_time": "2024-05-22T07:58:12.702Z"
   },
   {
    "duration": 203,
    "start_time": "2024-05-22T07:58:12.711Z"
   },
   {
    "duration": 255,
    "start_time": "2024-05-22T07:58:12.916Z"
   },
   {
    "duration": 206,
    "start_time": "2024-05-22T07:58:13.174Z"
   },
   {
    "duration": 3,
    "start_time": "2024-05-22T07:58:13.382Z"
   },
   {
    "duration": 4,
    "start_time": "2024-05-22T07:58:13.389Z"
   },
   {
    "duration": 31,
    "start_time": "2024-05-22T07:58:13.395Z"
   },
   {
    "duration": 4,
    "start_time": "2024-05-22T07:58:13.428Z"
   },
   {
    "duration": 39,
    "start_time": "2024-05-22T07:58:13.434Z"
   },
   {
    "duration": 3,
    "start_time": "2024-05-22T07:58:13.475Z"
   },
   {
    "duration": 18,
    "start_time": "2024-05-22T07:58:13.480Z"
   },
   {
    "duration": 22,
    "start_time": "2024-05-22T07:58:13.501Z"
   },
   {
    "duration": 13,
    "start_time": "2024-05-22T07:58:13.525Z"
   },
   {
    "duration": 32,
    "start_time": "2024-05-22T07:58:13.540Z"
   },
   {
    "duration": 14,
    "start_time": "2024-05-22T07:58:13.575Z"
   },
   {
    "duration": 12,
    "start_time": "2024-05-22T07:58:13.591Z"
   },
   {
    "duration": 44,
    "start_time": "2024-05-22T07:58:13.606Z"
   },
   {
    "duration": 44,
    "start_time": "2024-05-22T07:58:13.651Z"
   },
   {
    "duration": 44,
    "start_time": "2024-05-22T07:58:13.697Z"
   },
   {
    "duration": 31,
    "start_time": "2024-05-22T07:58:13.744Z"
   },
   {
    "duration": 103105,
    "start_time": "2024-05-22T07:58:13.777Z"
   },
   {
    "duration": 102786,
    "start_time": "2024-05-22T07:59:56.885Z"
   },
   {
    "duration": 100706,
    "start_time": "2024-05-22T08:01:39.674Z"
   },
   {
    "duration": 86,
    "start_time": "2024-05-22T08:03:20.384Z"
   },
   {
    "duration": 108,
    "start_time": "2024-05-22T08:03:20.474Z"
   },
   {
    "duration": 100995,
    "start_time": "2024-05-22T08:03:20.584Z"
   },
   {
    "duration": 101809,
    "start_time": "2024-05-22T08:05:01.671Z"
   },
   {
    "duration": 105487,
    "start_time": "2024-05-22T08:06:43.482Z"
   },
   {
    "duration": 5,
    "start_time": "2024-05-22T08:08:29.070Z"
   },
   {
    "duration": 27,
    "start_time": "2024-05-22T08:08:29.077Z"
   },
   {
    "duration": 11,
    "start_time": "2024-05-22T08:08:29.106Z"
   },
   {
    "duration": 12,
    "start_time": "2024-05-22T08:08:29.119Z"
   },
   {
    "duration": 131344,
    "start_time": "2024-05-22T08:08:29.134Z"
   },
   {
    "duration": 128900,
    "start_time": "2024-05-22T08:10:40.481Z"
   },
   {
    "duration": 123292,
    "start_time": "2024-05-22T08:12:49.385Z"
   },
   {
    "duration": 93,
    "start_time": "2024-05-22T08:14:52.680Z"
   },
   {
    "duration": 154,
    "start_time": "2024-05-22T08:14:52.776Z"
   },
   {
    "duration": 170,
    "start_time": "2024-05-22T08:14:52.932Z"
   },
   {
    "duration": 57,
    "start_time": "2024-05-22T08:14:53.104Z"
   },
   {
    "duration": 61908,
    "start_time": "2024-05-22T08:14:53.162Z"
   },
   {
    "duration": 63398,
    "start_time": "2024-05-22T08:15:55.078Z"
   },
   {
    "duration": 62396,
    "start_time": "2024-05-22T08:16:58.479Z"
   },
   {
    "duration": 238,
    "start_time": "2024-05-22T08:18:00.878Z"
   },
   {
    "duration": 9,
    "start_time": "2024-05-22T08:36:39.993Z"
   },
   {
    "duration": 10,
    "start_time": "2024-05-22T08:48:29.121Z"
   },
   {
    "duration": 104410,
    "start_time": "2024-05-22T08:48:33.361Z"
   },
   {
    "duration": 11,
    "start_time": "2024-05-22T08:53:41.329Z"
   },
   {
    "duration": 104535,
    "start_time": "2024-05-22T08:53:44.351Z"
   },
   {
    "duration": 130555,
    "start_time": "2024-05-22T09:05:49.424Z"
   },
   {
    "duration": 130308,
    "start_time": "2024-05-22T09:07:59.982Z"
   },
   {
    "duration": 122910,
    "start_time": "2024-05-22T09:10:10.369Z"
   },
   {
    "duration": 63493,
    "start_time": "2024-05-22T09:12:13.283Z"
   },
   {
    "duration": 63390,
    "start_time": "2024-05-22T09:13:16.779Z"
   },
   {
    "duration": 62997,
    "start_time": "2024-05-22T09:14:20.178Z"
   },
   {
    "duration": 14,
    "start_time": "2024-05-22T09:20:38.028Z"
   },
   {
    "duration": 152,
    "start_time": "2024-05-22T10:00:07.091Z"
   },
   {
    "duration": 7,
    "start_time": "2024-05-22T10:07:38.782Z"
   },
   {
    "duration": 166,
    "start_time": "2024-05-22T10:21:52.823Z"
   },
   {
    "duration": 7,
    "start_time": "2024-05-22T10:24:27.604Z"
   },
   {
    "duration": 15,
    "start_time": "2024-05-22T10:24:36.906Z"
   },
   {
    "duration": 21,
    "start_time": "2024-05-22T10:25:00.725Z"
   },
   {
    "duration": 15,
    "start_time": "2024-05-22T10:26:44.116Z"
   },
   {
    "duration": 5,
    "start_time": "2024-05-22T10:27:17.253Z"
   },
   {
    "duration": 7,
    "start_time": "2024-05-22T10:27:27.473Z"
   },
   {
    "duration": 12,
    "start_time": "2024-05-22T10:48:06.768Z"
   },
   {
    "duration": 30,
    "start_time": "2024-05-22T10:48:40.089Z"
   },
   {
    "duration": 30,
    "start_time": "2024-05-22T10:49:24.763Z"
   },
   {
    "duration": 44,
    "start_time": "2024-05-22T10:49:36.356Z"
   },
   {
    "duration": 43,
    "start_time": "2024-05-22T10:50:39.475Z"
   },
   {
    "duration": 33,
    "start_time": "2024-05-22T10:51:51.325Z"
   },
   {
    "duration": 48,
    "start_time": "2024-05-22T10:52:24.147Z"
   },
   {
    "duration": 37,
    "start_time": "2024-05-22T10:56:07.697Z"
   },
   {
    "duration": 25,
    "start_time": "2024-05-22T10:56:14.039Z"
   },
   {
    "duration": 25,
    "start_time": "2024-05-22T10:58:17.486Z"
   },
   {
    "duration": 17,
    "start_time": "2024-05-22T11:00:14.988Z"
   },
   {
    "duration": 2881,
    "start_time": "2024-05-22T11:08:47.485Z"
   },
   {
    "duration": 2279,
    "start_time": "2024-05-22T11:08:50.369Z"
   },
   {
    "duration": 50,
    "start_time": "2024-05-22T11:08:52.650Z"
   },
   {
    "duration": 6,
    "start_time": "2024-05-22T11:08:52.702Z"
   },
   {
    "duration": 28,
    "start_time": "2024-05-22T11:08:52.712Z"
   },
   {
    "duration": 19,
    "start_time": "2024-05-22T11:08:52.743Z"
   },
   {
    "duration": 8,
    "start_time": "2024-05-22T11:08:52.764Z"
   },
   {
    "duration": 25,
    "start_time": "2024-05-22T11:08:52.775Z"
   },
   {
    "duration": 24,
    "start_time": "2024-05-22T11:08:52.803Z"
   },
   {
    "duration": 25,
    "start_time": "2024-05-22T11:08:52.829Z"
   },
   {
    "duration": 10,
    "start_time": "2024-05-22T11:08:52.856Z"
   },
   {
    "duration": 12,
    "start_time": "2024-05-22T11:08:52.869Z"
   },
   {
    "duration": 21,
    "start_time": "2024-05-22T11:08:52.883Z"
   },
   {
    "duration": 192,
    "start_time": "2024-05-22T11:08:52.909Z"
   },
   {
    "duration": 6,
    "start_time": "2024-05-22T11:08:53.103Z"
   },
   {
    "duration": 163,
    "start_time": "2024-05-22T11:08:53.111Z"
   },
   {
    "duration": 171,
    "start_time": "2024-05-22T11:08:53.277Z"
   },
   {
    "duration": 201,
    "start_time": "2024-05-22T11:08:53.450Z"
   },
   {
    "duration": 4,
    "start_time": "2024-05-22T11:08:53.654Z"
   },
   {
    "duration": 20,
    "start_time": "2024-05-22T11:08:53.660Z"
   },
   {
    "duration": 16,
    "start_time": "2024-05-22T11:08:53.683Z"
   },
   {
    "duration": 5,
    "start_time": "2024-05-22T11:08:53.701Z"
   },
   {
    "duration": 45,
    "start_time": "2024-05-22T11:08:53.708Z"
   },
   {
    "duration": 4,
    "start_time": "2024-05-22T11:08:53.755Z"
   },
   {
    "duration": 5,
    "start_time": "2024-05-22T11:08:53.770Z"
   },
   {
    "duration": 11,
    "start_time": "2024-05-22T11:08:53.777Z"
   },
   {
    "duration": 12,
    "start_time": "2024-05-22T11:08:53.790Z"
   },
   {
    "duration": 14,
    "start_time": "2024-05-22T11:08:53.804Z"
   },
   {
    "duration": 3,
    "start_time": "2024-05-22T11:08:53.820Z"
   },
   {
    "duration": 19,
    "start_time": "2024-05-22T11:08:53.825Z"
   },
   {
    "duration": 64,
    "start_time": "2024-05-22T11:08:53.846Z"
   },
   {
    "duration": 58,
    "start_time": "2024-05-22T11:08:53.913Z"
   },
   {
    "duration": 41,
    "start_time": "2024-05-22T11:08:53.973Z"
   },
   {
    "duration": 60,
    "start_time": "2024-05-22T11:08:54.016Z"
   },
   {
    "duration": 0,
    "start_time": "2024-05-22T11:08:54.080Z"
   },
   {
    "duration": 0,
    "start_time": "2024-05-22T11:08:54.081Z"
   },
   {
    "duration": 0,
    "start_time": "2024-05-22T11:08:54.082Z"
   },
   {
    "duration": 0,
    "start_time": "2024-05-22T11:08:54.084Z"
   },
   {
    "duration": 0,
    "start_time": "2024-05-22T11:08:54.085Z"
   },
   {
    "duration": 0,
    "start_time": "2024-05-22T11:08:54.087Z"
   },
   {
    "duration": 0,
    "start_time": "2024-05-22T11:08:54.088Z"
   },
   {
    "duration": 0,
    "start_time": "2024-05-22T11:08:54.090Z"
   },
   {
    "duration": 0,
    "start_time": "2024-05-22T11:08:54.091Z"
   },
   {
    "duration": 0,
    "start_time": "2024-05-22T11:08:54.092Z"
   },
   {
    "duration": 0,
    "start_time": "2024-05-22T11:08:54.094Z"
   },
   {
    "duration": 0,
    "start_time": "2024-05-22T11:08:54.095Z"
   },
   {
    "duration": 0,
    "start_time": "2024-05-22T11:08:54.097Z"
   },
   {
    "duration": 0,
    "start_time": "2024-05-22T11:08:54.098Z"
   },
   {
    "duration": 0,
    "start_time": "2024-05-22T11:08:54.100Z"
   },
   {
    "duration": 0,
    "start_time": "2024-05-22T11:08:54.101Z"
   },
   {
    "duration": 0,
    "start_time": "2024-05-22T11:08:54.103Z"
   },
   {
    "duration": 0,
    "start_time": "2024-05-22T11:08:54.104Z"
   },
   {
    "duration": 0,
    "start_time": "2024-05-22T11:08:54.105Z"
   },
   {
    "duration": 0,
    "start_time": "2024-05-22T11:08:54.106Z"
   },
   {
    "duration": 0,
    "start_time": "2024-05-22T11:08:54.108Z"
   },
   {
    "duration": 0,
    "start_time": "2024-05-22T11:08:54.110Z"
   },
   {
    "duration": 0,
    "start_time": "2024-05-22T11:08:54.111Z"
   },
   {
    "duration": 0,
    "start_time": "2024-05-22T11:08:54.112Z"
   },
   {
    "duration": 0,
    "start_time": "2024-05-22T11:08:54.113Z"
   },
   {
    "duration": 0,
    "start_time": "2024-05-22T11:08:54.114Z"
   },
   {
    "duration": 0,
    "start_time": "2024-05-22T11:08:54.116Z"
   },
   {
    "duration": 2898,
    "start_time": "2024-05-22T11:10:34.158Z"
   },
   {
    "duration": 2220,
    "start_time": "2024-05-22T11:10:37.060Z"
   },
   {
    "duration": 51,
    "start_time": "2024-05-22T11:10:39.282Z"
   },
   {
    "duration": 6,
    "start_time": "2024-05-22T11:10:39.336Z"
   },
   {
    "duration": 25,
    "start_time": "2024-05-22T11:10:39.346Z"
   },
   {
    "duration": 20,
    "start_time": "2024-05-22T11:10:39.373Z"
   },
   {
    "duration": 4,
    "start_time": "2024-05-22T11:10:39.395Z"
   },
   {
    "duration": 30,
    "start_time": "2024-05-22T11:10:39.401Z"
   },
   {
    "duration": 35,
    "start_time": "2024-05-22T11:10:39.433Z"
   },
   {
    "duration": 13,
    "start_time": "2024-05-22T11:10:39.470Z"
   },
   {
    "duration": 12,
    "start_time": "2024-05-22T11:10:39.485Z"
   },
   {
    "duration": 14,
    "start_time": "2024-05-22T11:10:39.499Z"
   },
   {
    "duration": 6,
    "start_time": "2024-05-22T11:10:39.515Z"
   },
   {
    "duration": 153,
    "start_time": "2024-05-22T11:10:39.525Z"
   },
   {
    "duration": 6,
    "start_time": "2024-05-22T11:10:39.680Z"
   },
   {
    "duration": 182,
    "start_time": "2024-05-22T11:10:39.688Z"
   },
   {
    "duration": 190,
    "start_time": "2024-05-22T11:10:39.873Z"
   },
   {
    "duration": 156,
    "start_time": "2024-05-22T11:10:40.065Z"
   },
   {
    "duration": 3,
    "start_time": "2024-05-22T11:10:40.223Z"
   },
   {
    "duration": 9,
    "start_time": "2024-05-22T11:10:40.228Z"
   },
   {
    "duration": 16,
    "start_time": "2024-05-22T11:10:40.238Z"
   },
   {
    "duration": 14,
    "start_time": "2024-05-22T11:10:40.256Z"
   },
   {
    "duration": 40,
    "start_time": "2024-05-22T11:10:40.273Z"
   },
   {
    "duration": 4,
    "start_time": "2024-05-22T11:10:40.315Z"
   },
   {
    "duration": 21,
    "start_time": "2024-05-22T11:10:40.321Z"
   },
   {
    "duration": 20,
    "start_time": "2024-05-22T11:10:40.344Z"
   },
   {
    "duration": 16,
    "start_time": "2024-05-22T11:10:40.367Z"
   },
   {
    "duration": 16,
    "start_time": "2024-05-22T11:10:40.385Z"
   },
   {
    "duration": 4,
    "start_time": "2024-05-22T11:10:40.404Z"
   },
   {
    "duration": 19,
    "start_time": "2024-05-22T11:10:40.410Z"
   },
   {
    "duration": 65,
    "start_time": "2024-05-22T11:10:40.431Z"
   },
   {
    "duration": 47,
    "start_time": "2024-05-22T11:10:40.498Z"
   },
   {
    "duration": 75,
    "start_time": "2024-05-22T11:10:40.547Z"
   },
   {
    "duration": 8,
    "start_time": "2024-05-22T11:10:40.624Z"
   },
   {
    "duration": 18,
    "start_time": "2024-05-22T11:10:40.635Z"
   },
   {
    "duration": 106812,
    "start_time": "2024-05-22T11:10:40.670Z"
   },
   {
    "duration": 104303,
    "start_time": "2024-05-22T11:12:27.569Z"
   },
   {
    "duration": 105996,
    "start_time": "2024-05-22T11:14:11.875Z"
   },
   {
    "duration": 100,
    "start_time": "2024-05-22T11:15:57.874Z"
   },
   {
    "duration": 102807,
    "start_time": "2024-05-22T11:15:57.976Z"
   },
   {
    "duration": 104794,
    "start_time": "2024-05-22T11:17:40.876Z"
   },
   {
    "duration": 116502,
    "start_time": "2024-05-22T11:19:25.678Z"
   },
   {
    "duration": 91,
    "start_time": "2024-05-22T11:21:22.185Z"
   },
   {
    "duration": 112,
    "start_time": "2024-05-22T11:21:22.279Z"
   },
   {
    "duration": 33,
    "start_time": "2024-05-22T11:21:22.394Z"
   },
   {
    "duration": 15,
    "start_time": "2024-05-22T11:21:22.430Z"
   },
   {
    "duration": 141828,
    "start_time": "2024-05-22T11:21:22.448Z"
   },
   {
    "duration": 129099,
    "start_time": "2024-05-22T11:23:44.282Z"
   },
   {
    "duration": 122708,
    "start_time": "2024-05-22T11:25:53.472Z"
   },
   {
    "duration": 186,
    "start_time": "2024-05-22T11:27:56.186Z"
   },
   {
    "duration": 0,
    "start_time": "2024-05-22T11:27:56.373Z"
   },
   {
    "duration": 0,
    "start_time": "2024-05-22T11:27:56.375Z"
   },
   {
    "duration": 0,
    "start_time": "2024-05-22T11:27:56.377Z"
   },
   {
    "duration": 0,
    "start_time": "2024-05-22T11:27:56.379Z"
   },
   {
    "duration": 0,
    "start_time": "2024-05-22T11:27:56.382Z"
   },
   {
    "duration": 0,
    "start_time": "2024-05-22T11:27:56.384Z"
   },
   {
    "duration": 0,
    "start_time": "2024-05-22T11:27:56.386Z"
   },
   {
    "duration": 0,
    "start_time": "2024-05-22T11:27:56.387Z"
   },
   {
    "duration": 0,
    "start_time": "2024-05-22T11:27:56.389Z"
   },
   {
    "duration": 0,
    "start_time": "2024-05-22T11:27:56.391Z"
   },
   {
    "duration": 7,
    "start_time": "2024-05-22T11:29:18.852Z"
   },
   {
    "duration": 14,
    "start_time": "2024-05-22T11:29:25.504Z"
   },
   {
    "duration": 16,
    "start_time": "2024-05-22T11:29:28.585Z"
   },
   {
    "duration": 16,
    "start_time": "2024-05-22T11:29:32.778Z"
   },
   {
    "duration": 67083,
    "start_time": "2024-05-22T11:29:35.596Z"
   },
   {
    "duration": 62699,
    "start_time": "2024-05-22T11:30:42.683Z"
   },
   {
    "duration": 69691,
    "start_time": "2024-05-22T11:31:45.384Z"
   },
   {
    "duration": 283,
    "start_time": "2024-05-22T11:32:55.078Z"
   },
   {
    "duration": 13,
    "start_time": "2024-05-22T11:32:55.363Z"
   },
   {
    "duration": 24,
    "start_time": "2024-05-22T11:32:55.379Z"
   },
   {
    "duration": 79,
    "start_time": "2024-05-23T06:38:39.281Z"
   },
   {
    "duration": 6101,
    "start_time": "2024-05-23T06:40:56.034Z"
   },
   {
    "duration": 4398,
    "start_time": "2024-05-23T06:41:02.138Z"
   },
   {
    "duration": 92,
    "start_time": "2024-05-23T06:41:06.539Z"
   },
   {
    "duration": 6,
    "start_time": "2024-05-23T06:41:06.634Z"
   },
   {
    "duration": 5929,
    "start_time": "2024-05-23T06:41:06.729Z"
   },
   {
    "duration": 7,
    "start_time": "2024-05-23T06:41:12.663Z"
   },
   {
    "duration": 77,
    "start_time": "2024-05-23T06:41:12.672Z"
   },
   {
    "duration": 5,
    "start_time": "2024-05-23T06:41:12.752Z"
   },
   {
    "duration": 78,
    "start_time": "2024-05-23T06:41:12.760Z"
   },
   {
    "duration": 21,
    "start_time": "2024-05-23T06:41:12.841Z"
   },
   {
    "duration": 69,
    "start_time": "2024-05-23T06:41:12.865Z"
   },
   {
    "duration": 26,
    "start_time": "2024-05-23T06:41:12.937Z"
   },
   {
    "duration": 68,
    "start_time": "2024-05-23T06:41:12.967Z"
   },
   {
    "duration": 7,
    "start_time": "2024-05-23T06:41:13.038Z"
   },
   {
    "duration": 17,
    "start_time": "2024-05-23T06:41:13.048Z"
   },
   {
    "duration": 13,
    "start_time": "2024-05-23T06:41:13.129Z"
   },
   {
    "duration": 27,
    "start_time": "2024-05-23T06:41:13.145Z"
   },
   {
    "duration": 325,
    "start_time": "2024-05-23T06:41:13.232Z"
   },
   {
    "duration": 6,
    "start_time": "2024-05-23T06:41:13.560Z"
   },
   {
    "duration": 398,
    "start_time": "2024-05-23T06:41:13.569Z"
   },
   {
    "duration": 404,
    "start_time": "2024-05-23T06:41:13.969Z"
   },
   {
    "duration": 313,
    "start_time": "2024-05-23T06:41:14.428Z"
   },
   {
    "duration": 4,
    "start_time": "2024-05-23T06:41:14.743Z"
   },
   {
    "duration": 5,
    "start_time": "2024-05-23T06:41:14.749Z"
   },
   {
    "duration": 80,
    "start_time": "2024-05-23T06:41:14.757Z"
   },
   {
    "duration": 5,
    "start_time": "2024-05-23T06:41:14.839Z"
   },
   {
    "duration": 99,
    "start_time": "2024-05-23T06:41:14.846Z"
   },
   {
    "duration": 6,
    "start_time": "2024-05-23T06:41:14.947Z"
   },
   {
    "duration": 4,
    "start_time": "2024-05-23T06:41:14.955Z"
   },
   {
    "duration": 73,
    "start_time": "2024-05-23T06:41:14.961Z"
   },
   {
    "duration": 14,
    "start_time": "2024-05-23T06:41:15.036Z"
   },
   {
    "duration": 83,
    "start_time": "2024-05-23T06:41:15.052Z"
   },
   {
    "duration": 5,
    "start_time": "2024-05-23T06:41:15.138Z"
   },
   {
    "duration": 19,
    "start_time": "2024-05-23T06:41:15.145Z"
   },
   {
    "duration": 100,
    "start_time": "2024-05-23T06:41:15.167Z"
   },
   {
    "duration": 101,
    "start_time": "2024-05-23T06:41:15.269Z"
   },
   {
    "duration": 173,
    "start_time": "2024-05-23T06:41:15.372Z"
   },
   {
    "duration": 9,
    "start_time": "2024-05-23T06:41:15.548Z"
   },
   {
    "duration": 74,
    "start_time": "2024-05-23T06:41:15.559Z"
   },
   {
    "duration": 213206,
    "start_time": "2024-05-23T06:41:15.635Z"
   },
   {
    "duration": 228886,
    "start_time": "2024-05-23T06:44:48.844Z"
   },
   {
    "duration": 222406,
    "start_time": "2024-05-23T06:48:37.733Z"
   },
   {
    "duration": 18,
    "start_time": "2024-05-23T06:52:20.231Z"
   },
   {
    "duration": 232682,
    "start_time": "2024-05-23T06:52:20.252Z"
   },
   {
    "duration": 248408,
    "start_time": "2024-05-23T06:56:13.029Z"
   },
   {
    "duration": 213094,
    "start_time": "2024-05-23T07:00:21.440Z"
   },
   {
    "duration": 94,
    "start_time": "2024-05-23T07:03:54.537Z"
   },
   {
    "duration": 25,
    "start_time": "2024-05-23T07:03:54.633Z"
   },
   {
    "duration": 80,
    "start_time": "2024-05-23T07:03:54.660Z"
   },
   {
    "duration": 13,
    "start_time": "2024-05-23T07:03:54.743Z"
   },
   {
    "duration": 299378,
    "start_time": "2024-05-23T07:03:54.758Z"
   },
   {
    "duration": 282604,
    "start_time": "2024-05-23T07:08:54.141Z"
   },
   {
    "duration": 198590,
    "start_time": "2024-05-23T07:13:36.748Z"
   },
   {
    "duration": 99,
    "start_time": "2024-05-23T07:16:55.430Z"
   },
   {
    "duration": 16,
    "start_time": "2024-05-23T07:16:55.532Z"
   },
   {
    "duration": 14,
    "start_time": "2024-05-23T07:16:55.550Z"
   },
   {
    "duration": 19,
    "start_time": "2024-05-23T07:16:55.566Z"
   },
   {
    "duration": 63354,
    "start_time": "2024-05-23T07:16:55.588Z"
   },
   {
    "duration": 67899,
    "start_time": "2024-05-23T07:17:59.038Z"
   },
   {
    "duration": 63798,
    "start_time": "2024-05-23T07:19:06.940Z"
   },
   {
    "duration": 241,
    "start_time": "2024-05-23T07:20:10.743Z"
   },
   {
    "duration": 10,
    "start_time": "2024-05-23T07:20:10.987Z"
   },
   {
    "duration": 48,
    "start_time": "2024-05-23T07:20:11.000Z"
   },
   {
    "duration": 12,
    "start_time": "2024-05-23T12:40:22.128Z"
   },
   {
    "duration": 29614,
    "start_time": "2024-05-23T12:40:28.903Z"
   },
   {
    "duration": 13,
    "start_time": "2024-05-23T12:46:31.629Z"
   },
   {
    "duration": 86163,
    "start_time": "2024-05-23T12:46:34.936Z"
   },
   {
    "duration": 13,
    "start_time": "2024-05-23T12:49:29.515Z"
   },
   {
    "duration": 104155,
    "start_time": "2024-05-23T12:49:32.182Z"
   },
   {
    "duration": 91,
    "start_time": "2024-05-23T12:56:33.470Z"
   },
   {
    "duration": 13,
    "start_time": "2024-05-23T12:56:42.517Z"
   },
   {
    "duration": 103686,
    "start_time": "2024-05-23T12:57:24.345Z"
   },
   {
    "duration": 104304,
    "start_time": "2024-05-23T12:59:08.034Z"
   },
   {
    "duration": 21,
    "start_time": "2024-05-23T13:00:52.429Z"
   },
   {
    "duration": 103415,
    "start_time": "2024-05-23T13:00:52.529Z"
   },
   {
    "duration": 102408,
    "start_time": "2024-05-23T13:02:36.028Z"
   },
   {
    "duration": 106601,
    "start_time": "2024-05-23T13:04:18.529Z"
   },
   {
    "duration": 132497,
    "start_time": "2024-05-23T13:06:05.133Z"
   },
   {
    "duration": 130010,
    "start_time": "2024-05-23T13:08:17.633Z"
   },
   {
    "duration": 124502,
    "start_time": "2024-05-23T13:10:27.731Z"
   },
   {
    "duration": 65193,
    "start_time": "2024-05-23T13:12:32.237Z"
   },
   {
    "duration": 64404,
    "start_time": "2024-05-23T13:13:37.435Z"
   },
   {
    "duration": 63900,
    "start_time": "2024-05-23T13:14:41.929Z"
   },
   {
    "duration": 13,
    "start_time": "2024-05-23T13:27:53.102Z"
   },
   {
    "duration": 104013,
    "start_time": "2024-05-23T13:27:55.530Z"
   },
   {
    "duration": 104205,
    "start_time": "2024-05-23T13:29:39.634Z"
   },
   {
    "duration": 104200,
    "start_time": "2024-05-23T13:31:23.931Z"
   },
   {
    "duration": 13,
    "start_time": "2024-05-23T13:36:03.233Z"
   },
   {
    "duration": 107950,
    "start_time": "2024-05-23T13:36:25.582Z"
   },
   {
    "duration": 103112,
    "start_time": "2024-05-23T13:38:13.538Z"
   },
   {
    "duration": 107499,
    "start_time": "2024-05-23T13:39:56.731Z"
   },
   {
    "duration": 132597,
    "start_time": "2024-05-23T13:41:44.233Z"
   },
   {
    "duration": 63561,
    "start_time": "2024-05-23T13:49:43.172Z"
   },
   {
    "duration": 65393,
    "start_time": "2024-05-23T13:50:46.737Z"
   },
   {
    "duration": 62998,
    "start_time": "2024-05-23T13:51:52.133Z"
   },
   {
    "duration": 121,
    "start_time": "2024-05-23T13:52:55.134Z"
   }
  ],
  "kernelspec": {
   "display_name": "Python 3 (ipykernel)",
   "language": "python",
   "name": "python3"
  },
  "language_info": {
   "codemirror_mode": {
    "name": "ipython",
    "version": 3
   },
   "file_extension": ".py",
   "mimetype": "text/x-python",
   "name": "python",
   "nbconvert_exporter": "python",
   "pygments_lexer": "ipython3",
   "version": "3.11.7"
  },
  "toc": {
   "base_numbering": 1,
   "nav_menu": {},
   "number_sections": true,
   "sideBar": true,
   "skip_h1_title": true,
   "title_cell": "Содержание",
   "title_sidebar": "Contents",
   "toc_cell": true,
   "toc_position": {
    "height": "calc(100% - 180px)",
    "left": "10px",
    "top": "150px",
    "width": "307.2px"
   },
   "toc_section_display": true,
   "toc_window_display": true
  }
 },
 "nbformat": 4,
 "nbformat_minor": 2
}
