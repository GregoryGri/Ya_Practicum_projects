{
 "cells": [
  {
   "cell_type": "markdown",
   "id": "a1691911",
   "metadata": {},
   "source": [
    "# Исследование данных сервиса аренды самокатов GoFast."
   ]
  },
  {
   "cell_type": "markdown",
   "id": "5b1cc010",
   "metadata": {},
   "source": [
    "## Описание проекта"
   ]
  },
  {
   "cell_type": "markdown",
   "id": "22be1544",
   "metadata": {},
   "source": [
    "В нашем распоряжении данные популярного сервиса аренды самокатов GoFast. Данные о некоторых пользователях из нескольких городов, а также об их поездках. Необходимо проанализировать данные и проверьте некоторые гипотезы, которые могут помочь бизнесу вырасти.\n",
    "\n",
    "Чтобы совершать поездки по городу, пользователи сервиса GoFast пользуются мобильным приложением. Сервисом можно пользоваться:\n",
    "- без подписки\n",
    "  - абонентская плата отсутствует;\n",
    "  - стоимость одной минуты поездки — 8 рублей;\n",
    "  - стоимость старта (начала поездки) — 50 рублей;\n",
    "  \n",
    "  \n",
    "- с подпиской Ultra\n",
    "  - абонентская плата — 199 рублей в месяц;\n",
    "  - стоимость одной минуты поездки — 6 рублей;\n",
    "  - стоимость старта — бесплатно."
   ]
  },
  {
   "cell_type": "markdown",
   "id": "65b642f5",
   "metadata": {},
   "source": [
    "## Цель проекта"
   ]
  },
  {
   "cell_type": "markdown",
   "id": "4e8ba4b7",
   "metadata": {},
   "source": [
    "Необходимо проанализировать данные и проверить следующие гипотезы:\n",
    "- тратят ли пользователи с подпиской больше времени на поездки?\n",
    "- среднее расстояние, которое проезжают пользователи с подпиской за одну поездку, не превышает 3130 метров?\n",
    "- будет ли помесячная выручка от пользователей с подпиской по месяцам выше, чем выручка от пользователей без подписки?"
   ]
  },
  {
   "cell_type": "markdown",
   "id": "3f865e56",
   "metadata": {},
   "source": [
    "## План работы"
   ]
  },
  {
   "cell_type": "markdown",
   "id": "b78bd37d",
   "metadata": {},
   "source": [
    "1. Загрузка данных.\n",
    "2. Предварительная обработка.\n",
    "3. Исслдовательский анализ.\n",
    "4. Объединение данных.\n",
    "5. Подсчет помесячной выручки на каждого клиента.\n",
    "6. Проверка гипотез."
   ]
  },
  {
   "cell_type": "markdown",
   "id": "a512945d",
   "metadata": {},
   "source": [
    "## Описание данных"
   ]
  },
  {
   "cell_type": "markdown",
   "id": "4c366d15",
   "metadata": {},
   "source": [
    "Датафрейм **Пользователи**\n",
    "\n",
    "- **user_id** -\tуникальный идентификатор пользователя\n",
    "- **name** -\tимя пользователя\n",
    "- **age** -\tвозраст\n",
    "- **city** -\tгород\n",
    "- **subscription_type** -\tтип подписки (free, ultra)\n",
    "\n",
    "-------------------------------------------------------------------------\n",
    "Датафрейм **Поездки**\n",
    "\n",
    "- **user_id** -\tуникальный идентификатор пользователя\n",
    "- **distance** -\tрасстояние, которое пользователь проехал в текущей сессии (в метрах)\n",
    "- **duration** -\tпродолжительность сессии (в минутах) — время с того момента, как пользователь нажал кнопку «Начать поездку» до момента, как он нажал кнопку «Завершить поездку»\n",
    "- **date** -\tдата совершения поездки\n",
    "\n",
    "-------------------------------------------------------------------------\n",
    "Датафрейм **Подписки**\n",
    "\n",
    "- **subscription_type** -\tтип подписки\n",
    "- **minute_price** -\tстоимость одной минуты поездки по данной подписке\n",
    "- **start_ride_price** -\tстоимость начала поездки\n",
    "- **subscription_fee** -\tстоимость ежемесячного платежа"
   ]
  },
  {
   "cell_type": "markdown",
   "id": "069dd246",
   "metadata": {},
   "source": [
    "## Настройка окружения"
   ]
  },
  {
   "cell_type": "code",
   "execution_count": 1,
   "id": "72576667",
   "metadata": {},
   "outputs": [],
   "source": [
    "# импортируем необходимые библиотеки\n",
    "import pandas as pd\n",
    "import numpy as np\n",
    "import matplotlib.pyplot as plt\n",
    "import scipy.stats as st"
   ]
  },
  {
   "cell_type": "markdown",
   "id": "c42cbe00",
   "metadata": {},
   "source": [
    "## Загрузка данных"
   ]
  },
  {
   "cell_type": "markdown",
   "id": "11c01897",
   "metadata": {},
   "source": [
    "### Загрузка данных"
   ]
  },
  {
   "cell_type": "code",
   "execution_count": 2,
   "id": "eff9f206",
   "metadata": {},
   "outputs": [],
   "source": [
    "# создадим функцию вывода информации о датасетах\n",
    "def dataset_info(dataset):\n",
    "    print(dataset.info())\n",
    "    display(dataset.head(10))"
   ]
  },
  {
   "cell_type": "code",
   "execution_count": 3,
   "id": "9ea824d5",
   "metadata": {},
   "outputs": [],
   "source": [
    "# загрузим предоставленные датасеты\n",
    "try:\n",
    "    data_user = pd.read_csv('/datasets/users_go.csv')\n",
    "    data_rides = pd.read_csv('/datasets/rides_go.csv')\n",
    "    data_subs = pd.read_csv('', sep='\\t')\n",
    "except:\n",
    "    data_user = pd.read_csv('https://code.s3.yandex.net/datasets/users_go.csv')\n",
    "    data_rides = pd.read_csv('https://code.s3.yandex.net/datasets/rides_go.csv')\n",
    "    data_subs = pd.read_csv('https://code.s3.yandex.net/datasets/subscriptions_go.csv')"
   ]
  },
  {
   "cell_type": "code",
   "execution_count": 4,
   "id": "0f9072fc",
   "metadata": {},
   "outputs": [],
   "source": [
    "# настраиваем полное отображение таблиц\n",
    "pd.set_option('display.max_columns', None)"
   ]
  },
  {
   "cell_type": "markdown",
   "id": "a7a3f641",
   "metadata": {},
   "source": [
    "### Описание загруженных данных"
   ]
  },
  {
   "cell_type": "markdown",
   "id": "c7820263",
   "metadata": {},
   "source": [
    "#### Пользователи"
   ]
  },
  {
   "cell_type": "code",
   "execution_count": 5,
   "id": "36086616",
   "metadata": {
    "scrolled": false
   },
   "outputs": [
    {
     "name": "stdout",
     "output_type": "stream",
     "text": [
      "<class 'pandas.core.frame.DataFrame'>\n",
      "RangeIndex: 1565 entries, 0 to 1564\n",
      "Data columns (total 5 columns):\n",
      " #   Column             Non-Null Count  Dtype \n",
      "---  ------             --------------  ----- \n",
      " 0   user_id            1565 non-null   int64 \n",
      " 1   name               1565 non-null   object\n",
      " 2   age                1565 non-null   int64 \n",
      " 3   city               1565 non-null   object\n",
      " 4   subscription_type  1565 non-null   object\n",
      "dtypes: int64(2), object(3)\n",
      "memory usage: 61.3+ KB\n",
      "None\n"
     ]
    },
    {
     "data": {
      "text/html": [
       "<div>\n",
       "<style scoped>\n",
       "    .dataframe tbody tr th:only-of-type {\n",
       "        vertical-align: middle;\n",
       "    }\n",
       "\n",
       "    .dataframe tbody tr th {\n",
       "        vertical-align: top;\n",
       "    }\n",
       "\n",
       "    .dataframe thead th {\n",
       "        text-align: right;\n",
       "    }\n",
       "</style>\n",
       "<table border=\"1\" class=\"dataframe\">\n",
       "  <thead>\n",
       "    <tr style=\"text-align: right;\">\n",
       "      <th></th>\n",
       "      <th>user_id</th>\n",
       "      <th>name</th>\n",
       "      <th>age</th>\n",
       "      <th>city</th>\n",
       "      <th>subscription_type</th>\n",
       "    </tr>\n",
       "  </thead>\n",
       "  <tbody>\n",
       "    <tr>\n",
       "      <th>0</th>\n",
       "      <td>1</td>\n",
       "      <td>Кира</td>\n",
       "      <td>22</td>\n",
       "      <td>Тюмень</td>\n",
       "      <td>ultra</td>\n",
       "    </tr>\n",
       "    <tr>\n",
       "      <th>1</th>\n",
       "      <td>2</td>\n",
       "      <td>Станислав</td>\n",
       "      <td>31</td>\n",
       "      <td>Омск</td>\n",
       "      <td>ultra</td>\n",
       "    </tr>\n",
       "    <tr>\n",
       "      <th>2</th>\n",
       "      <td>3</td>\n",
       "      <td>Алексей</td>\n",
       "      <td>20</td>\n",
       "      <td>Москва</td>\n",
       "      <td>ultra</td>\n",
       "    </tr>\n",
       "    <tr>\n",
       "      <th>3</th>\n",
       "      <td>4</td>\n",
       "      <td>Константин</td>\n",
       "      <td>26</td>\n",
       "      <td>Ростов-на-Дону</td>\n",
       "      <td>ultra</td>\n",
       "    </tr>\n",
       "    <tr>\n",
       "      <th>4</th>\n",
       "      <td>5</td>\n",
       "      <td>Адель</td>\n",
       "      <td>28</td>\n",
       "      <td>Омск</td>\n",
       "      <td>ultra</td>\n",
       "    </tr>\n",
       "    <tr>\n",
       "      <th>5</th>\n",
       "      <td>6</td>\n",
       "      <td>Регина</td>\n",
       "      <td>25</td>\n",
       "      <td>Краснодар</td>\n",
       "      <td>ultra</td>\n",
       "    </tr>\n",
       "    <tr>\n",
       "      <th>6</th>\n",
       "      <td>7</td>\n",
       "      <td>Игорь</td>\n",
       "      <td>23</td>\n",
       "      <td>Омск</td>\n",
       "      <td>ultra</td>\n",
       "    </tr>\n",
       "    <tr>\n",
       "      <th>7</th>\n",
       "      <td>8</td>\n",
       "      <td>Юрий</td>\n",
       "      <td>23</td>\n",
       "      <td>Краснодар</td>\n",
       "      <td>ultra</td>\n",
       "    </tr>\n",
       "    <tr>\n",
       "      <th>8</th>\n",
       "      <td>9</td>\n",
       "      <td>Ян</td>\n",
       "      <td>21</td>\n",
       "      <td>Пятигорск</td>\n",
       "      <td>ultra</td>\n",
       "    </tr>\n",
       "    <tr>\n",
       "      <th>9</th>\n",
       "      <td>10</td>\n",
       "      <td>Валерий</td>\n",
       "      <td>18</td>\n",
       "      <td>Екатеринбург</td>\n",
       "      <td>ultra</td>\n",
       "    </tr>\n",
       "  </tbody>\n",
       "</table>\n",
       "</div>"
      ],
      "text/plain": [
       "   user_id        name  age            city subscription_type\n",
       "0        1        Кира   22          Тюмень             ultra\n",
       "1        2   Станислав   31            Омск             ultra\n",
       "2        3     Алексей   20          Москва             ultra\n",
       "3        4  Константин   26  Ростов-на-Дону             ultra\n",
       "4        5       Адель   28            Омск             ultra\n",
       "5        6      Регина   25       Краснодар             ultra\n",
       "6        7       Игорь   23            Омск             ultra\n",
       "7        8        Юрий   23       Краснодар             ultra\n",
       "8        9          Ян   21       Пятигорск             ultra\n",
       "9       10     Валерий   18    Екатеринбург             ultra"
      ]
     },
     "metadata": {},
     "output_type": "display_data"
    }
   ],
   "source": [
    "# выводим таблицу и данные по ней\n",
    "dataset_info(data_user)"
   ]
  },
  {
   "cell_type": "code",
   "execution_count": 6,
   "id": "57ed7380",
   "metadata": {
    "scrolled": true
   },
   "outputs": [
    {
     "data": {
      "text/plain": [
       "array(['Тюмень', 'Омск', 'Москва', 'Ростов-на-Дону', 'Краснодар',\n",
       "       'Пятигорск', 'Екатеринбург', 'Сочи'], dtype=object)"
      ]
     },
     "execution_count": 6,
     "metadata": {},
     "output_type": "execute_result"
    }
   ],
   "source": [
    "data_user['city'].unique()"
   ]
  },
  {
   "cell_type": "markdown",
   "id": "8976e94b",
   "metadata": {},
   "source": [
    "Данные загрузились корректно. Всего в датафрейме 5 столбцов и 1565 строк. Данные представлены по следующим городам: 'Тюмень', 'Омск', 'Москва', 'Ростов-на-Дону', 'Краснодар', 'Пятигорск', 'Екатеринбург', 'Сочи'. Типы данных корректны."
   ]
  },
  {
   "cell_type": "markdown",
   "id": "238e59c8",
   "metadata": {},
   "source": [
    "#### Поездки"
   ]
  },
  {
   "cell_type": "code",
   "execution_count": 7,
   "id": "799ae87d",
   "metadata": {
    "scrolled": false
   },
   "outputs": [
    {
     "name": "stdout",
     "output_type": "stream",
     "text": [
      "<class 'pandas.core.frame.DataFrame'>\n",
      "RangeIndex: 18068 entries, 0 to 18067\n",
      "Data columns (total 4 columns):\n",
      " #   Column    Non-Null Count  Dtype  \n",
      "---  ------    --------------  -----  \n",
      " 0   user_id   18068 non-null  int64  \n",
      " 1   distance  18068 non-null  float64\n",
      " 2   duration  18068 non-null  float64\n",
      " 3   date      18068 non-null  object \n",
      "dtypes: float64(2), int64(1), object(1)\n",
      "memory usage: 564.8+ KB\n",
      "None\n"
     ]
    },
    {
     "data": {
      "text/html": [
       "<div>\n",
       "<style scoped>\n",
       "    .dataframe tbody tr th:only-of-type {\n",
       "        vertical-align: middle;\n",
       "    }\n",
       "\n",
       "    .dataframe tbody tr th {\n",
       "        vertical-align: top;\n",
       "    }\n",
       "\n",
       "    .dataframe thead th {\n",
       "        text-align: right;\n",
       "    }\n",
       "</style>\n",
       "<table border=\"1\" class=\"dataframe\">\n",
       "  <thead>\n",
       "    <tr style=\"text-align: right;\">\n",
       "      <th></th>\n",
       "      <th>user_id</th>\n",
       "      <th>distance</th>\n",
       "      <th>duration</th>\n",
       "      <th>date</th>\n",
       "    </tr>\n",
       "  </thead>\n",
       "  <tbody>\n",
       "    <tr>\n",
       "      <th>0</th>\n",
       "      <td>1</td>\n",
       "      <td>4409.919140</td>\n",
       "      <td>25.599769</td>\n",
       "      <td>2021-01-01</td>\n",
       "    </tr>\n",
       "    <tr>\n",
       "      <th>1</th>\n",
       "      <td>1</td>\n",
       "      <td>2617.592153</td>\n",
       "      <td>15.816871</td>\n",
       "      <td>2021-01-18</td>\n",
       "    </tr>\n",
       "    <tr>\n",
       "      <th>2</th>\n",
       "      <td>1</td>\n",
       "      <td>754.159807</td>\n",
       "      <td>6.232113</td>\n",
       "      <td>2021-04-20</td>\n",
       "    </tr>\n",
       "    <tr>\n",
       "      <th>3</th>\n",
       "      <td>1</td>\n",
       "      <td>2694.783254</td>\n",
       "      <td>18.511000</td>\n",
       "      <td>2021-08-11</td>\n",
       "    </tr>\n",
       "    <tr>\n",
       "      <th>4</th>\n",
       "      <td>1</td>\n",
       "      <td>4028.687306</td>\n",
       "      <td>26.265803</td>\n",
       "      <td>2021-08-28</td>\n",
       "    </tr>\n",
       "    <tr>\n",
       "      <th>5</th>\n",
       "      <td>1</td>\n",
       "      <td>2770.890808</td>\n",
       "      <td>16.650138</td>\n",
       "      <td>2021-10-09</td>\n",
       "    </tr>\n",
       "    <tr>\n",
       "      <th>6</th>\n",
       "      <td>1</td>\n",
       "      <td>3039.020292</td>\n",
       "      <td>14.927879</td>\n",
       "      <td>2021-10-19</td>\n",
       "    </tr>\n",
       "    <tr>\n",
       "      <th>7</th>\n",
       "      <td>1</td>\n",
       "      <td>2842.118050</td>\n",
       "      <td>23.117468</td>\n",
       "      <td>2021-11-06</td>\n",
       "    </tr>\n",
       "    <tr>\n",
       "      <th>8</th>\n",
       "      <td>1</td>\n",
       "      <td>3412.690668</td>\n",
       "      <td>15.238072</td>\n",
       "      <td>2021-11-14</td>\n",
       "    </tr>\n",
       "    <tr>\n",
       "      <th>9</th>\n",
       "      <td>1</td>\n",
       "      <td>748.690645</td>\n",
       "      <td>15.041884</td>\n",
       "      <td>2021-11-22</td>\n",
       "    </tr>\n",
       "  </tbody>\n",
       "</table>\n",
       "</div>"
      ],
      "text/plain": [
       "   user_id     distance   duration        date\n",
       "0        1  4409.919140  25.599769  2021-01-01\n",
       "1        1  2617.592153  15.816871  2021-01-18\n",
       "2        1   754.159807   6.232113  2021-04-20\n",
       "3        1  2694.783254  18.511000  2021-08-11\n",
       "4        1  4028.687306  26.265803  2021-08-28\n",
       "5        1  2770.890808  16.650138  2021-10-09\n",
       "6        1  3039.020292  14.927879  2021-10-19\n",
       "7        1  2842.118050  23.117468  2021-11-06\n",
       "8        1  3412.690668  15.238072  2021-11-14\n",
       "9        1   748.690645  15.041884  2021-11-22"
      ]
     },
     "metadata": {},
     "output_type": "display_data"
    }
   ],
   "source": [
    "# выводим таблицу и данные по ней\n",
    "dataset_info(data_rides)"
   ]
  },
  {
   "cell_type": "markdown",
   "id": "7bfb0ac4",
   "metadata": {},
   "source": [
    "Данные загрузились корректно. Всего в датафрейме 4 столбца и 18078 строк. Данные в столбце дат имеют тип object, типы данных в остальных столбцах корркетны."
   ]
  },
  {
   "cell_type": "markdown",
   "id": "db484594",
   "metadata": {},
   "source": [
    "#### Подписки"
   ]
  },
  {
   "cell_type": "code",
   "execution_count": 8,
   "id": "17b4cb7f",
   "metadata": {},
   "outputs": [
    {
     "name": "stdout",
     "output_type": "stream",
     "text": [
      "<class 'pandas.core.frame.DataFrame'>\n",
      "RangeIndex: 2 entries, 0 to 1\n",
      "Data columns (total 4 columns):\n",
      " #   Column             Non-Null Count  Dtype \n",
      "---  ------             --------------  ----- \n",
      " 0   subscription_type  2 non-null      object\n",
      " 1   minute_price       2 non-null      int64 \n",
      " 2   start_ride_price   2 non-null      int64 \n",
      " 3   subscription_fee   2 non-null      int64 \n",
      "dtypes: int64(3), object(1)\n",
      "memory usage: 196.0+ bytes\n",
      "None\n"
     ]
    },
    {
     "data": {
      "text/html": [
       "<div>\n",
       "<style scoped>\n",
       "    .dataframe tbody tr th:only-of-type {\n",
       "        vertical-align: middle;\n",
       "    }\n",
       "\n",
       "    .dataframe tbody tr th {\n",
       "        vertical-align: top;\n",
       "    }\n",
       "\n",
       "    .dataframe thead th {\n",
       "        text-align: right;\n",
       "    }\n",
       "</style>\n",
       "<table border=\"1\" class=\"dataframe\">\n",
       "  <thead>\n",
       "    <tr style=\"text-align: right;\">\n",
       "      <th></th>\n",
       "      <th>subscription_type</th>\n",
       "      <th>minute_price</th>\n",
       "      <th>start_ride_price</th>\n",
       "      <th>subscription_fee</th>\n",
       "    </tr>\n",
       "  </thead>\n",
       "  <tbody>\n",
       "    <tr>\n",
       "      <th>0</th>\n",
       "      <td>free</td>\n",
       "      <td>8</td>\n",
       "      <td>50</td>\n",
       "      <td>0</td>\n",
       "    </tr>\n",
       "    <tr>\n",
       "      <th>1</th>\n",
       "      <td>ultra</td>\n",
       "      <td>6</td>\n",
       "      <td>0</td>\n",
       "      <td>199</td>\n",
       "    </tr>\n",
       "  </tbody>\n",
       "</table>\n",
       "</div>"
      ],
      "text/plain": [
       "  subscription_type  minute_price  start_ride_price  subscription_fee\n",
       "0              free             8                50                 0\n",
       "1             ultra             6                 0               199"
      ]
     },
     "metadata": {},
     "output_type": "display_data"
    }
   ],
   "source": [
    "# выводим таблицу и данные по ней\n",
    "dataset_info(data_subs)"
   ]
  },
  {
   "cell_type": "markdown",
   "id": "fb53f278",
   "metadata": {},
   "source": [
    "Данные загрузились корректно. Всего в датафрейме 4 столбца и 2 строки. Типы данных корректны."
   ]
  },
  {
   "cell_type": "markdown",
   "id": "ead16d93",
   "metadata": {},
   "source": [
    "### ВЫВОД\n",
    "Заказчиком предоставлены данные сервиса аренды самокатов GoFast. Данные представляют из себя три датасета. Все данные были загружены без ошибок. Информация о полученных датафреймах:\n",
    "\n",
    "- *Пользователи.* Всего в датафрейме 5 столбцов и 1565 строк. Данные представлены по следующим городам: 'Тюмень', 'Омск', 'Москва', 'Ростов-на-Дону', 'Краснодар', 'Пятигорск', 'Екатеринбург', 'Сочи'. Типы данных корректны;\n",
    "\n",
    "\n",
    "- *Поездки.* Всего в датафрейме 4 столбца и 18078 строк. Данные в столбце дат имеют тип object, типы данных в остальных столбцах корркетны;\n",
    "\n",
    "\n",
    "- *Подписки.* Всего в датафрейме 4 столбца и 2 строки. Типы данных корректны."
   ]
  },
  {
   "cell_type": "markdown",
   "id": "e95ebca7",
   "metadata": {},
   "source": [
    "## Предобработка данных"
   ]
  },
  {
   "cell_type": "code",
   "execution_count": 9,
   "id": "af6d202c",
   "metadata": {},
   "outputs": [],
   "source": [
    "# создаем функцию для проверки на дубликаты и пропуски\n",
    "def dataset_dub_null(dataset):\n",
    "    print('Количество явных дубликатов:', dataset.duplicated().sum())\n",
    "    print('Количество пропусков:', dataset.isnull().sum())"
   ]
  },
  {
   "cell_type": "markdown",
   "id": "a64372f8",
   "metadata": {},
   "source": [
    "### Пользователи"
   ]
  },
  {
   "cell_type": "code",
   "execution_count": 10,
   "id": "abe4934d",
   "metadata": {},
   "outputs": [
    {
     "name": "stdout",
     "output_type": "stream",
     "text": [
      "Количество явных дубликатов: 31\n",
      "Количество пропусков: user_id              0\n",
      "name                 0\n",
      "age                  0\n",
      "city                 0\n",
      "subscription_type    0\n",
      "dtype: int64\n"
     ]
    }
   ],
   "source": [
    "# проверяем на дубликаты и пропуски\n",
    "dataset_dub_null(data_user)"
   ]
  },
  {
   "cell_type": "markdown",
   "id": "f8184b56",
   "metadata": {},
   "source": [
    "Явных дубликатов - 31, пропуски отстутсвуют. Удалим явные дубликатыэ"
   ]
  },
  {
   "cell_type": "code",
   "execution_count": 11,
   "id": "3707c7ae",
   "metadata": {
    "scrolled": true
   },
   "outputs": [
    {
     "name": "stdout",
     "output_type": "stream",
     "text": [
      "Количество явных дубликатов: 0\n",
      "Количество пропусков: user_id              0\n",
      "name                 0\n",
      "age                  0\n",
      "city                 0\n",
      "subscription_type    0\n",
      "dtype: int64\n"
     ]
    }
   ],
   "source": [
    "# Удаляем явные дубликаты\n",
    "data_user.drop_duplicates(inplace=True)\n",
    "# убедимся, что дубликаты удалены\n",
    "dataset_dub_null(data_user)"
   ]
  },
  {
   "cell_type": "markdown",
   "id": "7445c35c",
   "metadata": {},
   "source": [
    "Удаление прошло успешно. Проверим данные на неявные дубликаты в столбцах с типом 'object'. Это имеет смысл для столбцов с данными по городам и типу подписки. По имени пользователя - смысла не имеет."
   ]
  },
  {
   "cell_type": "code",
   "execution_count": 12,
   "id": "58d57cc3",
   "metadata": {},
   "outputs": [
    {
     "data": {
      "text/plain": [
       "array(['Тюмень', 'Омск', 'Москва', 'Ростов-на-Дону', 'Краснодар',\n",
       "       'Пятигорск', 'Екатеринбург', 'Сочи'], dtype=object)"
      ]
     },
     "execution_count": 12,
     "metadata": {},
     "output_type": "execute_result"
    }
   ],
   "source": [
    "data_user['city'].unique()"
   ]
  },
  {
   "cell_type": "markdown",
   "id": "4f40fec4",
   "metadata": {},
   "source": [
    "В данном столбце неявные дубликаты отстутствуют."
   ]
  },
  {
   "cell_type": "code",
   "execution_count": 13,
   "id": "ba7abb58",
   "metadata": {
    "scrolled": true
   },
   "outputs": [
    {
     "data": {
      "text/plain": [
       "array(['ultra', 'free'], dtype=object)"
      ]
     },
     "execution_count": 13,
     "metadata": {},
     "output_type": "execute_result"
    }
   ],
   "source": [
    "data_user['subscription_type'].unique()"
   ]
  },
  {
   "cell_type": "markdown",
   "id": "5faea6d7",
   "metadata": {},
   "source": [
    "В данном столбце неявные дубликаты отстутствуют."
   ]
  },
  {
   "cell_type": "markdown",
   "id": "2f1b4f00",
   "metadata": {},
   "source": [
    "### Поездки"
   ]
  },
  {
   "cell_type": "code",
   "execution_count": 14,
   "id": "e0398d2f",
   "metadata": {},
   "outputs": [
    {
     "name": "stdout",
     "output_type": "stream",
     "text": [
      "Количество явных дубликатов: 0\n",
      "Количество пропусков: user_id     0\n",
      "distance    0\n",
      "duration    0\n",
      "date        0\n",
      "dtype: int64\n"
     ]
    }
   ],
   "source": [
    "# проверяем на дубликаты и пропуски\n",
    "dataset_dub_null(data_rides)"
   ]
  },
  {
   "cell_type": "markdown",
   "id": "e3e71854",
   "metadata": {},
   "source": [
    "Явные дубликаты и пропуски отстутствуют. Приведем тип данных в столбце date к DataTime"
   ]
  },
  {
   "cell_type": "code",
   "execution_count": 15,
   "id": "178d02d8",
   "metadata": {},
   "outputs": [
    {
     "name": "stdout",
     "output_type": "stream",
     "text": [
      "<class 'pandas.core.frame.DataFrame'>\n",
      "RangeIndex: 18068 entries, 0 to 18067\n",
      "Data columns (total 4 columns):\n",
      " #   Column    Non-Null Count  Dtype         \n",
      "---  ------    --------------  -----         \n",
      " 0   user_id   18068 non-null  int64         \n",
      " 1   distance  18068 non-null  float64       \n",
      " 2   duration  18068 non-null  float64       \n",
      " 3   date      18068 non-null  datetime64[ns]\n",
      "dtypes: datetime64[ns](1), float64(2), int64(1)\n",
      "memory usage: 564.8 KB\n"
     ]
    }
   ],
   "source": [
    "data_rides['date'] = pd.to_datetime(data_rides['date'], format='%Y-%m-%d')\n",
    "data_rides.info()"
   ]
  },
  {
   "cell_type": "code",
   "execution_count": 16,
   "id": "1c089521",
   "metadata": {},
   "outputs": [
    {
     "name": "stdout",
     "output_type": "stream",
     "text": [
      "Первый день из выборки: 2021-01-01 00:00:00\n",
      "Последний день из выборки: 2021-12-30 00:00:00\n"
     ]
    }
   ],
   "source": [
    "# оценим период за который представленны данные\n",
    "print('Первый день из выборки:', data_rides['date'].min())\n",
    "print('Последний день из выборки:', data_rides['date'].max())"
   ]
  },
  {
   "cell_type": "markdown",
   "id": "2a83c664",
   "metadata": {},
   "source": [
    "Рассматриваемый период с 1 января по 30 марта 2021 года."
   ]
  },
  {
   "cell_type": "code",
   "execution_count": 17,
   "id": "9d86c41f",
   "metadata": {
    "scrolled": true
   },
   "outputs": [
    {
     "data": {
      "text/html": [
       "<div>\n",
       "<style scoped>\n",
       "    .dataframe tbody tr th:only-of-type {\n",
       "        vertical-align: middle;\n",
       "    }\n",
       "\n",
       "    .dataframe tbody tr th {\n",
       "        vertical-align: top;\n",
       "    }\n",
       "\n",
       "    .dataframe thead th {\n",
       "        text-align: right;\n",
       "    }\n",
       "</style>\n",
       "<table border=\"1\" class=\"dataframe\">\n",
       "  <thead>\n",
       "    <tr style=\"text-align: right;\">\n",
       "      <th></th>\n",
       "      <th>user_id</th>\n",
       "      <th>distance</th>\n",
       "      <th>duration</th>\n",
       "      <th>date</th>\n",
       "      <th>month</th>\n",
       "    </tr>\n",
       "  </thead>\n",
       "  <tbody>\n",
       "    <tr>\n",
       "      <th>0</th>\n",
       "      <td>1</td>\n",
       "      <td>4409.919140</td>\n",
       "      <td>25.599769</td>\n",
       "      <td>2021-01-01</td>\n",
       "      <td>1</td>\n",
       "    </tr>\n",
       "    <tr>\n",
       "      <th>1</th>\n",
       "      <td>1</td>\n",
       "      <td>2617.592153</td>\n",
       "      <td>15.816871</td>\n",
       "      <td>2021-01-18</td>\n",
       "      <td>1</td>\n",
       "    </tr>\n",
       "    <tr>\n",
       "      <th>2</th>\n",
       "      <td>1</td>\n",
       "      <td>754.159807</td>\n",
       "      <td>6.232113</td>\n",
       "      <td>2021-04-20</td>\n",
       "      <td>4</td>\n",
       "    </tr>\n",
       "    <tr>\n",
       "      <th>3</th>\n",
       "      <td>1</td>\n",
       "      <td>2694.783254</td>\n",
       "      <td>18.511000</td>\n",
       "      <td>2021-08-11</td>\n",
       "      <td>8</td>\n",
       "    </tr>\n",
       "    <tr>\n",
       "      <th>4</th>\n",
       "      <td>1</td>\n",
       "      <td>4028.687306</td>\n",
       "      <td>26.265803</td>\n",
       "      <td>2021-08-28</td>\n",
       "      <td>8</td>\n",
       "    </tr>\n",
       "  </tbody>\n",
       "</table>\n",
       "</div>"
      ],
      "text/plain": [
       "   user_id     distance   duration       date  month\n",
       "0        1  4409.919140  25.599769 2021-01-01      1\n",
       "1        1  2617.592153  15.816871 2021-01-18      1\n",
       "2        1   754.159807   6.232113 2021-04-20      4\n",
       "3        1  2694.783254  18.511000 2021-08-11      8\n",
       "4        1  4028.687306  26.265803 2021-08-28      8"
      ]
     },
     "execution_count": 17,
     "metadata": {},
     "output_type": "execute_result"
    }
   ],
   "source": [
    "# Добавим столбец с номером месяца\n",
    "data_rides['month'] = data_rides['date'].dt.month\n",
    "data_rides.head()"
   ]
  },
  {
   "cell_type": "markdown",
   "id": "320832ff",
   "metadata": {},
   "source": [
    "### Подписики"
   ]
  },
  {
   "cell_type": "code",
   "execution_count": 18,
   "id": "cce1b3f6",
   "metadata": {
    "scrolled": true
   },
   "outputs": [
    {
     "name": "stdout",
     "output_type": "stream",
     "text": [
      "Количество явных дубликатов: 0\n",
      "Количество пропусков: subscription_type    0\n",
      "minute_price         0\n",
      "start_ride_price     0\n",
      "subscription_fee     0\n",
      "dtype: int64\n"
     ]
    }
   ],
   "source": [
    "# проверяем на дубликаты и пропуски\n",
    "dataset_dub_null(data_subs)"
   ]
  },
  {
   "cell_type": "markdown",
   "id": "2f08daf0",
   "metadata": {},
   "source": [
    "Явные дубликаты и пропуски отстутствуют. Проверим на неявные дубликаты стобец с типом подписки."
   ]
  },
  {
   "cell_type": "code",
   "execution_count": 19,
   "id": "c9f9bc0f",
   "metadata": {},
   "outputs": [
    {
     "data": {
      "text/plain": [
       "array(['free', 'ultra'], dtype=object)"
      ]
     },
     "execution_count": 19,
     "metadata": {},
     "output_type": "execute_result"
    }
   ],
   "source": [
    "data_subs['subscription_type'].unique()"
   ]
  },
  {
   "cell_type": "markdown",
   "id": "1ec9af61",
   "metadata": {},
   "source": [
    "Неявные дубликаты отстутствуют."
   ]
  },
  {
   "cell_type": "markdown",
   "id": "ba229140",
   "metadata": {},
   "source": [
    "### ВЫВОД\n",
    "Была проведена предварительная обработка данных:\n",
    "\n",
    "- *Пользователи.* Пропуски отсутствуют, удалено 31 явных дубликатов, неяные дубликаты отстуствуют;\n",
    "\n",
    "\n",
    "- *Поездки.* Пропуски отсутствуют, явные дубликаты отсутствуют, изменен тип данных в столбце со значнием дат на  DataTime. Определено, что данные предоставлены за период с 1 января по 30 марта 2021 года.;\n",
    "\n",
    "\n",
    "- *Подписки.* Пропуски отсутствуют, явные и неявные дубликаты отсутствуют."
   ]
  },
  {
   "cell_type": "markdown",
   "id": "212593c7",
   "metadata": {},
   "source": [
    "## Исследовательский анализ данных"
   ]
  },
  {
   "cell_type": "markdown",
   "id": "219bf188",
   "metadata": {},
   "source": [
    "### Частота встречаемости городов"
   ]
  },
  {
   "cell_type": "code",
   "execution_count": 20,
   "id": "61dec2d4",
   "metadata": {
    "scrolled": false
   },
   "outputs": [
    {
     "data": {
      "image/png": "[encoded data removed]",
      "text/plain": [
       "<Figure size 640x480 with 1 Axes>"
      ]
     },
     "metadata": {},
     "output_type": "display_data"
    },
    {
     "data": {
      "text/plain": [
       "city\n",
       "Пятигорск         219\n",
       "Екатеринбург      204\n",
       "Ростов-на-Дону    198\n",
       "Краснодар         193\n",
       "Сочи              189\n",
       "Омск              183\n",
       "Тюмень            180\n",
       "Москва            168\n",
       "Name: count, dtype: int64"
      ]
     },
     "metadata": {},
     "output_type": "display_data"
    }
   ],
   "source": [
    "# определим частоту встречаемости городов, выведем в табличном виде и построим барплот\n",
    "data_user['city'].value_counts().sort_values(ascending=True).plot(kind='barh', grid=True);\n",
    "plt.title('Частота встречаемости городов')\n",
    "plt.xlabel('Количество пользователей')\n",
    "plt.ylabel('Города')\n",
    "plt.show()\n",
    "display(data_user['city'].value_counts().sort_values(ascending=False))"
   ]
  },
  {
   "cell_type": "markdown",
   "id": "88831cf4",
   "metadata": {},
   "source": [
    "- данные представлены по 8 городам;\n",
    "- в представленной выборке больше всего пользователей в Пятигоске - 219 человек, меньше всего в Москве - 168 человек;\n",
    "- аномальные значения отсутствуют."
   ]
  },
  {
   "cell_type": "markdown",
   "id": "12acfec1",
   "metadata": {},
   "source": [
    "### Соотношение пользователей с подпиской и без неё"
   ]
  },
  {
   "cell_type": "code",
   "execution_count": 21,
   "id": "401e3596",
   "metadata": {},
   "outputs": [
    {
     "data": {
      "image/png": "[encoded data removed]",
      "text/plain": [
       "<Figure size 500x500 with 1 Axes>"
      ]
     },
     "metadata": {},
     "output_type": "display_data"
    },
    {
     "data": {
      "text/plain": [
       "subscription_type\n",
       "free     835\n",
       "ultra    699\n",
       "Name: count, dtype: int64"
      ]
     },
     "metadata": {},
     "output_type": "display_data"
    }
   ],
   "source": [
    "# определим частоту количество пользователей с подпиской и без, выведем в табличном виде и построим барплот\n",
    "data_user['subscription_type'].value_counts().plot(kind='pie', autopct='%.2f', figsize=(5, 5), legend=True);\n",
    "plt.title('Соотношение пользователе по типу подписки')\n",
    "plt.show()\n",
    "display(data_user['subscription_type'].value_counts().sort_values(ascending=False))"
   ]
  },
  {
   "cell_type": "markdown",
   "id": "b4240ed0",
   "metadata": {},
   "source": [
    "Пользователей без подписки больше чем пользователей с подпиской: 54 и 46 %, соотвественно."
   ]
  },
  {
   "cell_type": "markdown",
   "id": "42c6dbc5",
   "metadata": {},
   "source": [
    "### Возраст пользователей"
   ]
  },
  {
   "cell_type": "code",
   "execution_count": 22,
   "id": "a087e092",
   "metadata": {},
   "outputs": [
    {
     "data": {
      "image/png": "[encoded data removed]",
      "text/plain": [
       "<Figure size 700x500 with 1 Axes>"
      ]
     },
     "metadata": {},
     "output_type": "display_data"
    },
    {
     "data": {
      "text/plain": [
       "count    1534.000000\n",
       "mean       24.903520\n",
       "std         4.572367\n",
       "min        12.000000\n",
       "25%        22.000000\n",
       "50%        25.000000\n",
       "75%        28.000000\n",
       "max        43.000000\n",
       "Name: age, dtype: float64"
      ]
     },
     "execution_count": 22,
     "metadata": {},
     "output_type": "execute_result"
    }
   ],
   "source": [
    "# определим количество пользователей по возрасту построим гистограмму\n",
    "data_user['age'].plot(kind='hist', grid=True, bins=30, figsize=(7, 5));\n",
    "plt.title('Распределение возраста пользователей')\n",
    "plt.xlabel('Возраст')\n",
    "plt.ylabel('Количество пользоваталей')\n",
    "plt.show()\n",
    "data_user['age'].describe()"
   ]
  },
  {
   "cell_type": "markdown",
   "id": "4d401c37",
   "metadata": {},
   "source": [
    "Выборка имеет нормальное распределение, медиана и среднее практически совпадают, и составляют 25 лет. Явных выбросов нет, максимальное значение - 43 года. Основная часть данных сосредоточена в интервале 18-34 лет."
   ]
  },
  {
   "cell_type": "markdown",
   "id": "e2451da4",
   "metadata": {},
   "source": [
    "### Расстояние, которое пользователь преодолел за одну поездку."
   ]
  },
  {
   "cell_type": "code",
   "execution_count": 23,
   "id": "27e8bc7d",
   "metadata": {},
   "outputs": [
    {
     "data": {
      "image/png": "[encoded data removed]",
      "text/plain": [
       "<Figure size 700x500 with 1 Axes>"
      ]
     },
     "metadata": {},
     "output_type": "display_data"
    },
    {
     "data": {
      "text/plain": [
       "count    18068.000000\n",
       "mean      3070.659976\n",
       "std       1116.831209\n",
       "min          0.855683\n",
       "25%       2543.226360\n",
       "50%       3133.609994\n",
       "75%       3776.222735\n",
       "max       7211.007745\n",
       "Name: distance, dtype: float64"
      ]
     },
     "execution_count": 23,
     "metadata": {},
     "output_type": "execute_result"
    }
   ],
   "source": [
    "# определим количество пользователей по преодоленному расстоянию построим гистограмму\n",
    "data_rides['distance'].plot(kind='hist', grid=True, bins=30, figsize=(7, 5));\n",
    "plt.title('Расстояние одной поездки')\n",
    "plt.xlabel('расстояние, м')\n",
    "plt.ylabel('Количество пользоваталей')\n",
    "plt.show()\n",
    "data_rides['distance'].describe()"
   ]
  },
  {
   "cell_type": "markdown",
   "id": "be2ebc6d",
   "metadata": {},
   "source": [
    "Медианное значение большинства поездок порядка 3.1 км., явных выбросов нет. Основная часть данных лежит в интервале 2.2 - 4.4 км. Есть небольшой всплеск значений в интервале 250 - 1200 метров, то может быть связанно с поездками до/от остановок общественного траспорта."
   ]
  },
  {
   "cell_type": "markdown",
   "id": "e66fb11a",
   "metadata": {},
   "source": [
    "### Продолжительность поездок"
   ]
  },
  {
   "cell_type": "code",
   "execution_count": 24,
   "id": "e333a0c1",
   "metadata": {},
   "outputs": [
    {
     "data": {
      "image/png": "[encoded data removed]",
      "text/plain": [
       "<Figure size 700x500 with 1 Axes>"
      ]
     },
     "metadata": {},
     "output_type": "display_data"
    },
    {
     "data": {
      "text/plain": [
       "count    18068.000000\n",
       "mean        17.805011\n",
       "std          6.091051\n",
       "min          0.500000\n",
       "25%         13.597563\n",
       "50%         17.678395\n",
       "75%         21.724800\n",
       "max         40.823963\n",
       "Name: duration, dtype: float64"
      ]
     },
     "execution_count": 24,
     "metadata": {},
     "output_type": "execute_result"
    }
   ],
   "source": [
    "# определим количество пользователей по продолжительности поездок и построим гистограмму\n",
    "data_rides['duration'].plot(kind='hist', grid=True, bins=30, figsize=(7, 5));\n",
    "plt.title('Продолжительность одной поездки')\n",
    "plt.xlabel('время, мин')\n",
    "plt.ylabel('Количество пользоваталей')\n",
    "plt.show()\n",
    "data_rides['duration'].describe()"
   ]
  },
  {
   "cell_type": "markdown",
   "id": "60b6b25b",
   "metadata": {},
   "source": [
    "Данные имеют нормальное распределение, явные выбросы отстутствуют. Среднее время поездки - 17.8 мин. "
   ]
  },
  {
   "cell_type": "markdown",
   "id": "51df0258",
   "metadata": {},
   "source": [
    "### Вывод\n",
    "Был проведен исследовательский анализ данных. Установлены следующие факты:\n",
    "- *Частота встречаемости городов:*\n",
    "  - данные представлены по 8 городам;\n",
    "  - в представленной выборке больше всего пользователей в Пятигоске - 219 человек, меньше всего в Москве - 168 человек;\n",
    "  - аномальные значения отсутствуют.\n",
    "  \n",
    "  \n",
    "- *Соотношение пользователей с подпиской и без неё:*\n",
    "  - Пользователей без подписки больше чем пользователей с подпиской: 54 и 46 %, соотвественно.\n",
    "\n",
    "\n",
    "- *Возраст пользователей:*\n",
    "  - Выборка имеет нормальное распределение, медиана и среднее практически совпадают, и составляют 25 лет. Явных выбросов нет, максимальное значение - 43 года. Основная часть данных сосредоточена в интервале 18-34 лет.\n",
    "  \n",
    "  \n",
    "- *Расстояние, которое пользователь преодолел за одну поездку:*\n",
    "  - Медианное значение большинства поездок порядка 3.1 км., явных выбросов нет. Основная часть данных лежит в интервале 2.2 - 4.4 км. Есть небольшой всплеск значений в интервале 250 - 1200 метров, то может быть связанно с поездками до/от остановок общественного траспорта.\n",
    "  \n",
    "  \n",
    "- *Продолжительность поездок:*\n",
    "  - Данные имеют нормальное распределение, явные выбросы отстутствуют. Среднее время поездки - 17.8 мин."
   ]
  },
  {
   "cell_type": "markdown",
   "id": "4ef51331",
   "metadata": {},
   "source": [
    "## Объединение данных"
   ]
  },
  {
   "cell_type": "markdown",
   "id": "5a71a40b",
   "metadata": {},
   "source": [
    "### Объединие данные о пользователях, поездках и подписках."
   ]
  },
  {
   "cell_type": "code",
   "execution_count": 25,
   "id": "b0e4c4c4",
   "metadata": {
    "scrolled": false
   },
   "outputs": [
    {
     "data": {
      "text/html": [
       "<div>\n",
       "<style scoped>\n",
       "    .dataframe tbody tr th:only-of-type {\n",
       "        vertical-align: middle;\n",
       "    }\n",
       "\n",
       "    .dataframe tbody tr th {\n",
       "        vertical-align: top;\n",
       "    }\n",
       "\n",
       "    .dataframe thead th {\n",
       "        text-align: right;\n",
       "    }\n",
       "</style>\n",
       "<table border=\"1\" class=\"dataframe\">\n",
       "  <thead>\n",
       "    <tr style=\"text-align: right;\">\n",
       "      <th></th>\n",
       "      <th>user_id</th>\n",
       "      <th>distance</th>\n",
       "      <th>duration</th>\n",
       "      <th>date</th>\n",
       "      <th>month</th>\n",
       "      <th>name</th>\n",
       "      <th>age</th>\n",
       "      <th>city</th>\n",
       "      <th>subscription_type</th>\n",
       "      <th>minute_price</th>\n",
       "      <th>start_ride_price</th>\n",
       "      <th>subscription_fee</th>\n",
       "    </tr>\n",
       "  </thead>\n",
       "  <tbody>\n",
       "    <tr>\n",
       "      <th>0</th>\n",
       "      <td>1</td>\n",
       "      <td>4409.919140</td>\n",
       "      <td>25.599769</td>\n",
       "      <td>2021-01-01</td>\n",
       "      <td>1</td>\n",
       "      <td>Кира</td>\n",
       "      <td>22</td>\n",
       "      <td>Тюмень</td>\n",
       "      <td>ultra</td>\n",
       "      <td>6</td>\n",
       "      <td>0</td>\n",
       "      <td>199</td>\n",
       "    </tr>\n",
       "    <tr>\n",
       "      <th>1</th>\n",
       "      <td>1</td>\n",
       "      <td>2617.592153</td>\n",
       "      <td>15.816871</td>\n",
       "      <td>2021-01-18</td>\n",
       "      <td>1</td>\n",
       "      <td>Кира</td>\n",
       "      <td>22</td>\n",
       "      <td>Тюмень</td>\n",
       "      <td>ultra</td>\n",
       "      <td>6</td>\n",
       "      <td>0</td>\n",
       "      <td>199</td>\n",
       "    </tr>\n",
       "    <tr>\n",
       "      <th>2</th>\n",
       "      <td>1</td>\n",
       "      <td>754.159807</td>\n",
       "      <td>6.232113</td>\n",
       "      <td>2021-04-20</td>\n",
       "      <td>4</td>\n",
       "      <td>Кира</td>\n",
       "      <td>22</td>\n",
       "      <td>Тюмень</td>\n",
       "      <td>ultra</td>\n",
       "      <td>6</td>\n",
       "      <td>0</td>\n",
       "      <td>199</td>\n",
       "    </tr>\n",
       "    <tr>\n",
       "      <th>3</th>\n",
       "      <td>1</td>\n",
       "      <td>2694.783254</td>\n",
       "      <td>18.511000</td>\n",
       "      <td>2021-08-11</td>\n",
       "      <td>8</td>\n",
       "      <td>Кира</td>\n",
       "      <td>22</td>\n",
       "      <td>Тюмень</td>\n",
       "      <td>ultra</td>\n",
       "      <td>6</td>\n",
       "      <td>0</td>\n",
       "      <td>199</td>\n",
       "    </tr>\n",
       "    <tr>\n",
       "      <th>4</th>\n",
       "      <td>1</td>\n",
       "      <td>4028.687306</td>\n",
       "      <td>26.265803</td>\n",
       "      <td>2021-08-28</td>\n",
       "      <td>8</td>\n",
       "      <td>Кира</td>\n",
       "      <td>22</td>\n",
       "      <td>Тюмень</td>\n",
       "      <td>ultra</td>\n",
       "      <td>6</td>\n",
       "      <td>0</td>\n",
       "      <td>199</td>\n",
       "    </tr>\n",
       "    <tr>\n",
       "      <th>...</th>\n",
       "      <td>...</td>\n",
       "      <td>...</td>\n",
       "      <td>...</td>\n",
       "      <td>...</td>\n",
       "      <td>...</td>\n",
       "      <td>...</td>\n",
       "      <td>...</td>\n",
       "      <td>...</td>\n",
       "      <td>...</td>\n",
       "      <td>...</td>\n",
       "      <td>...</td>\n",
       "      <td>...</td>\n",
       "    </tr>\n",
       "    <tr>\n",
       "      <th>18063</th>\n",
       "      <td>1534</td>\n",
       "      <td>3781.098080</td>\n",
       "      <td>19.822962</td>\n",
       "      <td>2021-11-04</td>\n",
       "      <td>11</td>\n",
       "      <td>Альберт</td>\n",
       "      <td>25</td>\n",
       "      <td>Краснодар</td>\n",
       "      <td>free</td>\n",
       "      <td>8</td>\n",
       "      <td>50</td>\n",
       "      <td>0</td>\n",
       "    </tr>\n",
       "    <tr>\n",
       "      <th>18064</th>\n",
       "      <td>1534</td>\n",
       "      <td>2840.423057</td>\n",
       "      <td>21.409799</td>\n",
       "      <td>2021-11-16</td>\n",
       "      <td>11</td>\n",
       "      <td>Альберт</td>\n",
       "      <td>25</td>\n",
       "      <td>Краснодар</td>\n",
       "      <td>free</td>\n",
       "      <td>8</td>\n",
       "      <td>50</td>\n",
       "      <td>0</td>\n",
       "    </tr>\n",
       "    <tr>\n",
       "      <th>18065</th>\n",
       "      <td>1534</td>\n",
       "      <td>3826.185507</td>\n",
       "      <td>18.435051</td>\n",
       "      <td>2021-11-18</td>\n",
       "      <td>11</td>\n",
       "      <td>Альберт</td>\n",
       "      <td>25</td>\n",
       "      <td>Краснодар</td>\n",
       "      <td>free</td>\n",
       "      <td>8</td>\n",
       "      <td>50</td>\n",
       "      <td>0</td>\n",
       "    </tr>\n",
       "    <tr>\n",
       "      <th>18066</th>\n",
       "      <td>1534</td>\n",
       "      <td>2902.308661</td>\n",
       "      <td>16.674362</td>\n",
       "      <td>2021-11-27</td>\n",
       "      <td>11</td>\n",
       "      <td>Альберт</td>\n",
       "      <td>25</td>\n",
       "      <td>Краснодар</td>\n",
       "      <td>free</td>\n",
       "      <td>8</td>\n",
       "      <td>50</td>\n",
       "      <td>0</td>\n",
       "    </tr>\n",
       "    <tr>\n",
       "      <th>18067</th>\n",
       "      <td>1534</td>\n",
       "      <td>2371.711192</td>\n",
       "      <td>15.893917</td>\n",
       "      <td>2021-12-29</td>\n",
       "      <td>12</td>\n",
       "      <td>Альберт</td>\n",
       "      <td>25</td>\n",
       "      <td>Краснодар</td>\n",
       "      <td>free</td>\n",
       "      <td>8</td>\n",
       "      <td>50</td>\n",
       "      <td>0</td>\n",
       "    </tr>\n",
       "  </tbody>\n",
       "</table>\n",
       "<p>18068 rows × 12 columns</p>\n",
       "</div>"
      ],
      "text/plain": [
       "       user_id     distance   duration       date  month     name  age  \\\n",
       "0            1  4409.919140  25.599769 2021-01-01      1     Кира   22   \n",
       "1            1  2617.592153  15.816871 2021-01-18      1     Кира   22   \n",
       "2            1   754.159807   6.232113 2021-04-20      4     Кира   22   \n",
       "3            1  2694.783254  18.511000 2021-08-11      8     Кира   22   \n",
       "4            1  4028.687306  26.265803 2021-08-28      8     Кира   22   \n",
       "...        ...          ...        ...        ...    ...      ...  ...   \n",
       "18063     1534  3781.098080  19.822962 2021-11-04     11  Альберт   25   \n",
       "18064     1534  2840.423057  21.409799 2021-11-16     11  Альберт   25   \n",
       "18065     1534  3826.185507  18.435051 2021-11-18     11  Альберт   25   \n",
       "18066     1534  2902.308661  16.674362 2021-11-27     11  Альберт   25   \n",
       "18067     1534  2371.711192  15.893917 2021-12-29     12  Альберт   25   \n",
       "\n",
       "            city subscription_type  minute_price  start_ride_price  \\\n",
       "0         Тюмень             ultra             6                 0   \n",
       "1         Тюмень             ultra             6                 0   \n",
       "2         Тюмень             ultra             6                 0   \n",
       "3         Тюмень             ultra             6                 0   \n",
       "4         Тюмень             ultra             6                 0   \n",
       "...          ...               ...           ...               ...   \n",
       "18063  Краснодар              free             8                50   \n",
       "18064  Краснодар              free             8                50   \n",
       "18065  Краснодар              free             8                50   \n",
       "18066  Краснодар              free             8                50   \n",
       "18067  Краснодар              free             8                50   \n",
       "\n",
       "       subscription_fee  \n",
       "0                   199  \n",
       "1                   199  \n",
       "2                   199  \n",
       "3                   199  \n",
       "4                   199  \n",
       "...                 ...  \n",
       "18063                 0  \n",
       "18064                 0  \n",
       "18065                 0  \n",
       "18066                 0  \n",
       "18067                 0  \n",
       "\n",
       "[18068 rows x 12 columns]"
      ]
     },
     "execution_count": 25,
     "metadata": {},
     "output_type": "execute_result"
    }
   ],
   "source": [
    "# создаем объединенную таблицу\n",
    "data_mrg = data_rides.merge(data_user, on='user_id', how='left')\n",
    "data_mrg = data_mrg.merge(data_subs, on='subscription_type', how='left')\n",
    "data_mrg"
   ]
  },
  {
   "cell_type": "code",
   "execution_count": 26,
   "id": "0514a2fa",
   "metadata": {},
   "outputs": [
    {
     "name": "stdout",
     "output_type": "stream",
     "text": [
      "Количество явных дубликатов: 0\n",
      "Количество пропусков: user_id              0\n",
      "distance             0\n",
      "duration             0\n",
      "date                 0\n",
      "month                0\n",
      "name                 0\n",
      "age                  0\n",
      "city                 0\n",
      "subscription_type    0\n",
      "minute_price         0\n",
      "start_ride_price     0\n",
      "subscription_fee     0\n",
      "dtype: int64\n"
     ]
    }
   ],
   "source": [
    "# проверим на дубликаты и пропуски\n",
    "dataset_dub_null(data_mrg)"
   ]
  },
  {
   "cell_type": "markdown",
   "id": "3791ca84",
   "metadata": {},
   "source": [
    "### Создание датафрейма с данными о пользователях без подписки."
   ]
  },
  {
   "cell_type": "code",
   "execution_count": 27,
   "id": "82322e74",
   "metadata": {
    "scrolled": true
   },
   "outputs": [
    {
     "data": {
      "text/html": [
       "<div>\n",
       "<style scoped>\n",
       "    .dataframe tbody tr th:only-of-type {\n",
       "        vertical-align: middle;\n",
       "    }\n",
       "\n",
       "    .dataframe tbody tr th {\n",
       "        vertical-align: top;\n",
       "    }\n",
       "\n",
       "    .dataframe thead th {\n",
       "        text-align: right;\n",
       "    }\n",
       "</style>\n",
       "<table border=\"1\" class=\"dataframe\">\n",
       "  <thead>\n",
       "    <tr style=\"text-align: right;\">\n",
       "      <th></th>\n",
       "      <th>user_id</th>\n",
       "      <th>distance</th>\n",
       "      <th>duration</th>\n",
       "      <th>date</th>\n",
       "      <th>month</th>\n",
       "      <th>name</th>\n",
       "      <th>age</th>\n",
       "      <th>city</th>\n",
       "      <th>subscription_type</th>\n",
       "      <th>minute_price</th>\n",
       "      <th>start_ride_price</th>\n",
       "      <th>subscription_fee</th>\n",
       "    </tr>\n",
       "  </thead>\n",
       "  <tbody>\n",
       "    <tr>\n",
       "      <th>6500</th>\n",
       "      <td>700</td>\n",
       "      <td>2515.690719</td>\n",
       "      <td>14.944286</td>\n",
       "      <td>2021-01-02</td>\n",
       "      <td>1</td>\n",
       "      <td>Айдар</td>\n",
       "      <td>22</td>\n",
       "      <td>Омск</td>\n",
       "      <td>free</td>\n",
       "      <td>8</td>\n",
       "      <td>50</td>\n",
       "      <td>0</td>\n",
       "    </tr>\n",
       "    <tr>\n",
       "      <th>6501</th>\n",
       "      <td>700</td>\n",
       "      <td>846.932642</td>\n",
       "      <td>16.234663</td>\n",
       "      <td>2021-02-01</td>\n",
       "      <td>2</td>\n",
       "      <td>Айдар</td>\n",
       "      <td>22</td>\n",
       "      <td>Омск</td>\n",
       "      <td>free</td>\n",
       "      <td>8</td>\n",
       "      <td>50</td>\n",
       "      <td>0</td>\n",
       "    </tr>\n",
       "    <tr>\n",
       "      <th>6502</th>\n",
       "      <td>700</td>\n",
       "      <td>4004.434142</td>\n",
       "      <td>20.016628</td>\n",
       "      <td>2021-02-04</td>\n",
       "      <td>2</td>\n",
       "      <td>Айдар</td>\n",
       "      <td>22</td>\n",
       "      <td>Омск</td>\n",
       "      <td>free</td>\n",
       "      <td>8</td>\n",
       "      <td>50</td>\n",
       "      <td>0</td>\n",
       "    </tr>\n",
       "    <tr>\n",
       "      <th>6503</th>\n",
       "      <td>700</td>\n",
       "      <td>1205.911290</td>\n",
       "      <td>9.782872</td>\n",
       "      <td>2021-02-10</td>\n",
       "      <td>2</td>\n",
       "      <td>Айдар</td>\n",
       "      <td>22</td>\n",
       "      <td>Омск</td>\n",
       "      <td>free</td>\n",
       "      <td>8</td>\n",
       "      <td>50</td>\n",
       "      <td>0</td>\n",
       "    </tr>\n",
       "    <tr>\n",
       "      <th>6504</th>\n",
       "      <td>700</td>\n",
       "      <td>3047.379435</td>\n",
       "      <td>17.427673</td>\n",
       "      <td>2021-02-14</td>\n",
       "      <td>2</td>\n",
       "      <td>Айдар</td>\n",
       "      <td>22</td>\n",
       "      <td>Омск</td>\n",
       "      <td>free</td>\n",
       "      <td>8</td>\n",
       "      <td>50</td>\n",
       "      <td>0</td>\n",
       "    </tr>\n",
       "  </tbody>\n",
       "</table>\n",
       "</div>"
      ],
      "text/plain": [
       "      user_id     distance   duration       date  month   name  age  city  \\\n",
       "6500      700  2515.690719  14.944286 2021-01-02      1  Айдар   22  Омск   \n",
       "6501      700   846.932642  16.234663 2021-02-01      2  Айдар   22  Омск   \n",
       "6502      700  4004.434142  20.016628 2021-02-04      2  Айдар   22  Омск   \n",
       "6503      700  1205.911290   9.782872 2021-02-10      2  Айдар   22  Омск   \n",
       "6504      700  3047.379435  17.427673 2021-02-14      2  Айдар   22  Омск   \n",
       "\n",
       "     subscription_type  minute_price  start_ride_price  subscription_fee  \n",
       "6500              free             8                50                 0  \n",
       "6501              free             8                50                 0  \n",
       "6502              free             8                50                 0  \n",
       "6503              free             8                50                 0  \n",
       "6504              free             8                50                 0  "
      ]
     },
     "execution_count": 27,
     "metadata": {},
     "output_type": "execute_result"
    }
   ],
   "source": [
    "# отфильтруем общую таблицу по пользователям без подписки и содадим отдельный датафрейм\n",
    "data_free_subs = data_mrg.loc[data_mrg['subscription_type'] == 'free']\n",
    "data_free_subs.head()"
   ]
  },
  {
   "cell_type": "markdown",
   "id": "eb71189f",
   "metadata": {},
   "source": [
    "### Создание датафрейма с данными о пользователях с подпиской."
   ]
  },
  {
   "cell_type": "code",
   "execution_count": 28,
   "id": "8927cac5",
   "metadata": {
    "scrolled": true
   },
   "outputs": [
    {
     "data": {
      "text/html": [
       "<div>\n",
       "<style scoped>\n",
       "    .dataframe tbody tr th:only-of-type {\n",
       "        vertical-align: middle;\n",
       "    }\n",
       "\n",
       "    .dataframe tbody tr th {\n",
       "        vertical-align: top;\n",
       "    }\n",
       "\n",
       "    .dataframe thead th {\n",
       "        text-align: right;\n",
       "    }\n",
       "</style>\n",
       "<table border=\"1\" class=\"dataframe\">\n",
       "  <thead>\n",
       "    <tr style=\"text-align: right;\">\n",
       "      <th></th>\n",
       "      <th>user_id</th>\n",
       "      <th>distance</th>\n",
       "      <th>duration</th>\n",
       "      <th>date</th>\n",
       "      <th>month</th>\n",
       "      <th>name</th>\n",
       "      <th>age</th>\n",
       "      <th>city</th>\n",
       "      <th>subscription_type</th>\n",
       "      <th>minute_price</th>\n",
       "      <th>start_ride_price</th>\n",
       "      <th>subscription_fee</th>\n",
       "    </tr>\n",
       "  </thead>\n",
       "  <tbody>\n",
       "    <tr>\n",
       "      <th>0</th>\n",
       "      <td>1</td>\n",
       "      <td>4409.919140</td>\n",
       "      <td>25.599769</td>\n",
       "      <td>2021-01-01</td>\n",
       "      <td>1</td>\n",
       "      <td>Кира</td>\n",
       "      <td>22</td>\n",
       "      <td>Тюмень</td>\n",
       "      <td>ultra</td>\n",
       "      <td>6</td>\n",
       "      <td>0</td>\n",
       "      <td>199</td>\n",
       "    </tr>\n",
       "    <tr>\n",
       "      <th>1</th>\n",
       "      <td>1</td>\n",
       "      <td>2617.592153</td>\n",
       "      <td>15.816871</td>\n",
       "      <td>2021-01-18</td>\n",
       "      <td>1</td>\n",
       "      <td>Кира</td>\n",
       "      <td>22</td>\n",
       "      <td>Тюмень</td>\n",
       "      <td>ultra</td>\n",
       "      <td>6</td>\n",
       "      <td>0</td>\n",
       "      <td>199</td>\n",
       "    </tr>\n",
       "    <tr>\n",
       "      <th>2</th>\n",
       "      <td>1</td>\n",
       "      <td>754.159807</td>\n",
       "      <td>6.232113</td>\n",
       "      <td>2021-04-20</td>\n",
       "      <td>4</td>\n",
       "      <td>Кира</td>\n",
       "      <td>22</td>\n",
       "      <td>Тюмень</td>\n",
       "      <td>ultra</td>\n",
       "      <td>6</td>\n",
       "      <td>0</td>\n",
       "      <td>199</td>\n",
       "    </tr>\n",
       "    <tr>\n",
       "      <th>3</th>\n",
       "      <td>1</td>\n",
       "      <td>2694.783254</td>\n",
       "      <td>18.511000</td>\n",
       "      <td>2021-08-11</td>\n",
       "      <td>8</td>\n",
       "      <td>Кира</td>\n",
       "      <td>22</td>\n",
       "      <td>Тюмень</td>\n",
       "      <td>ultra</td>\n",
       "      <td>6</td>\n",
       "      <td>0</td>\n",
       "      <td>199</td>\n",
       "    </tr>\n",
       "    <tr>\n",
       "      <th>4</th>\n",
       "      <td>1</td>\n",
       "      <td>4028.687306</td>\n",
       "      <td>26.265803</td>\n",
       "      <td>2021-08-28</td>\n",
       "      <td>8</td>\n",
       "      <td>Кира</td>\n",
       "      <td>22</td>\n",
       "      <td>Тюмень</td>\n",
       "      <td>ultra</td>\n",
       "      <td>6</td>\n",
       "      <td>0</td>\n",
       "      <td>199</td>\n",
       "    </tr>\n",
       "  </tbody>\n",
       "</table>\n",
       "</div>"
      ],
      "text/plain": [
       "   user_id     distance   duration       date  month  name  age    city  \\\n",
       "0        1  4409.919140  25.599769 2021-01-01      1  Кира   22  Тюмень   \n",
       "1        1  2617.592153  15.816871 2021-01-18      1  Кира   22  Тюмень   \n",
       "2        1   754.159807   6.232113 2021-04-20      4  Кира   22  Тюмень   \n",
       "3        1  2694.783254  18.511000 2021-08-11      8  Кира   22  Тюмень   \n",
       "4        1  4028.687306  26.265803 2021-08-28      8  Кира   22  Тюмень   \n",
       "\n",
       "  subscription_type  minute_price  start_ride_price  subscription_fee  \n",
       "0             ultra             6                 0               199  \n",
       "1             ultra             6                 0               199  \n",
       "2             ultra             6                 0               199  \n",
       "3             ultra             6                 0               199  \n",
       "4             ultra             6                 0               199  "
      ]
     },
     "execution_count": 28,
     "metadata": {},
     "output_type": "execute_result"
    }
   ],
   "source": [
    "# отфильтруем общую таблицу по пользователям с подпиской и содадим отдельный датафрейм\n",
    "data_ultra_subs = data_mrg.loc[data_mrg['subscription_type'] == 'ultra']\n",
    "data_ultra_subs.head()"
   ]
  },
  {
   "cell_type": "code",
   "execution_count": 29,
   "id": "a543f2c2",
   "metadata": {},
   "outputs": [
    {
     "data": {
      "text/plain": [
       "0"
      ]
     },
     "execution_count": 29,
     "metadata": {},
     "output_type": "execute_result"
    }
   ],
   "source": [
    "# проверяем, что все строки попали в оба датафрейма\n",
    "data_mrg.shape[0] - data_free_subs.shape[0] - data_ultra_subs.shape[0]"
   ]
  },
  {
   "cell_type": "markdown",
   "id": "4521d285",
   "metadata": {},
   "source": [
    "### Визуализация информации о расстоянии и времени поездок для пользователей обеих категорий (с подпиской и без)"
   ]
  },
  {
   "cell_type": "markdown",
   "id": "a19f5af7",
   "metadata": {},
   "source": [
    "#### Расстояние поездки"
   ]
  },
  {
   "cell_type": "code",
   "execution_count": 30,
   "id": "36446345",
   "metadata": {},
   "outputs": [
    {
     "data": {
      "image/png": "[encoded data removed]",
      "text/plain": [
       "<Figure size 700x500 with 1 Axes>"
      ]
     },
     "metadata": {},
     "output_type": "display_data"
    }
   ],
   "source": [
    "data_free_subs['distance'].plot(kind='hist', grid=True, figsize=(7, 5), bins=30, label='без подписики')\n",
    "data_ultra_subs['distance'].plot(kind='hist', grid=True, figsize=(7, 5), bins=30, label='с подпиской')\n",
    "plt.title('Расстояние одной поездки')\n",
    "plt.xlabel('расстояние, м')\n",
    "plt.ylabel('количество пользователей')\n",
    "plt.legend(loc='upper right')\n",
    "plt.show()"
   ]
  },
  {
   "cell_type": "markdown",
   "id": "320e240f",
   "metadata": {},
   "source": [
    "Из визуализации видно, что расстояние одной поездки пользователей без подписки большем чем пользователей с подпиской."
   ]
  },
  {
   "cell_type": "markdown",
   "id": "6626b6d1",
   "metadata": {},
   "source": [
    "#### Время поездки"
   ]
  },
  {
   "cell_type": "code",
   "execution_count": 31,
   "id": "76452822",
   "metadata": {
    "scrolled": false
   },
   "outputs": [
    {
     "data": {
      "image/png": "[encoded data removed]",
      "text/plain": [
       "<Figure size 700x500 with 1 Axes>"
      ]
     },
     "metadata": {},
     "output_type": "display_data"
    }
   ],
   "source": [
    "data_free_subs['duration'].plot(kind='hist', grid=True, figsize=(7, 5), bins=30, label='без подписики')\n",
    "data_ultra_subs['duration'].plot(kind='hist', grid=True, figsize=(7, 5), bins=30, label='с подпиской')\n",
    "plt.title('Продолжительность одной поездки')\n",
    "plt.xlabel('время, мин')\n",
    "plt.ylabel('количество пользователей')\n",
    "plt.legend(loc='upper right')\n",
    "plt.show()"
   ]
  },
  {
   "cell_type": "markdown",
   "id": "e0bb162a",
   "metadata": {},
   "source": [
    "Из визуализации видно, что время одной поездки пользователей без подписки большем чем пользователей с подпиской."
   ]
  },
  {
   "cell_type": "markdown",
   "id": "12728f28",
   "metadata": {},
   "source": [
    "### Вывод\n",
    "На данном этапе была проделаны следующие работы:\n",
    "- Создан общий датафрейм на основе трех первоначальных;\n",
    "\n",
    "\n",
    "- Созданы два датафрейма с данными о пользователях с подпиской и без подписки;\n",
    "\n",
    "\n",
    "- Построены визуализации данных из датафреймов о пользователях с подпиской и без подписки, отмечено что:\n",
    "  - расстояние одной поездки пользователей без подписки большем чем пользователей с подпиской;\n",
    "  - время одной поездки пользователей без подписки большем чем пользователей с подпиской."
   ]
  },
  {
   "cell_type": "markdown",
   "id": "402d620f",
   "metadata": {},
   "source": [
    "##  Подсчёт выручки"
   ]
  },
  {
   "cell_type": "markdown",
   "id": "ee7a30e1",
   "metadata": {},
   "source": [
    "Создаем датафрейм с агрегированными данными о поездках на основе датафрейма data_mrg: находим суммарное расстояние, количество поездок и суммарное время для каждого пользователя за каждый месяц."
   ]
  },
  {
   "cell_type": "code",
   "execution_count": 32,
   "id": "1ee6cee7",
   "metadata": {},
   "outputs": [
    {
     "data": {
      "text/html": [
       "<div>\n",
       "<style scoped>\n",
       "    .dataframe tbody tr th:only-of-type {\n",
       "        vertical-align: middle;\n",
       "    }\n",
       "\n",
       "    .dataframe tbody tr th {\n",
       "        vertical-align: top;\n",
       "    }\n",
       "\n",
       "    .dataframe thead th {\n",
       "        text-align: right;\n",
       "    }\n",
       "</style>\n",
       "<table border=\"1\" class=\"dataframe\">\n",
       "  <thead>\n",
       "    <tr style=\"text-align: right;\">\n",
       "      <th></th>\n",
       "      <th>user_id</th>\n",
       "      <th>month</th>\n",
       "      <th>subscription_type</th>\n",
       "      <th>distance_sum</th>\n",
       "      <th>duration_sum</th>\n",
       "      <th>rides_count</th>\n",
       "    </tr>\n",
       "  </thead>\n",
       "  <tbody>\n",
       "    <tr>\n",
       "      <th>0</th>\n",
       "      <td>1</td>\n",
       "      <td>1</td>\n",
       "      <td>ultra</td>\n",
       "      <td>7027.511294</td>\n",
       "      <td>41.416640</td>\n",
       "      <td>2</td>\n",
       "    </tr>\n",
       "    <tr>\n",
       "      <th>1</th>\n",
       "      <td>1</td>\n",
       "      <td>4</td>\n",
       "      <td>ultra</td>\n",
       "      <td>754.159807</td>\n",
       "      <td>6.232113</td>\n",
       "      <td>1</td>\n",
       "    </tr>\n",
       "    <tr>\n",
       "      <th>2</th>\n",
       "      <td>1</td>\n",
       "      <td>8</td>\n",
       "      <td>ultra</td>\n",
       "      <td>6723.470560</td>\n",
       "      <td>44.776802</td>\n",
       "      <td>2</td>\n",
       "    </tr>\n",
       "    <tr>\n",
       "      <th>3</th>\n",
       "      <td>1</td>\n",
       "      <td>10</td>\n",
       "      <td>ultra</td>\n",
       "      <td>5809.911100</td>\n",
       "      <td>31.578017</td>\n",
       "      <td>2</td>\n",
       "    </tr>\n",
       "    <tr>\n",
       "      <th>4</th>\n",
       "      <td>1</td>\n",
       "      <td>11</td>\n",
       "      <td>ultra</td>\n",
       "      <td>7003.499363</td>\n",
       "      <td>53.397424</td>\n",
       "      <td>3</td>\n",
       "    </tr>\n",
       "    <tr>\n",
       "      <th>...</th>\n",
       "      <td>...</td>\n",
       "      <td>...</td>\n",
       "      <td>...</td>\n",
       "      <td>...</td>\n",
       "      <td>...</td>\n",
       "      <td>...</td>\n",
       "    </tr>\n",
       "    <tr>\n",
       "      <th>11326</th>\n",
       "      <td>1534</td>\n",
       "      <td>6</td>\n",
       "      <td>free</td>\n",
       "      <td>3409.468534</td>\n",
       "      <td>24.812678</td>\n",
       "      <td>2</td>\n",
       "    </tr>\n",
       "    <tr>\n",
       "      <th>11327</th>\n",
       "      <td>1534</td>\n",
       "      <td>8</td>\n",
       "      <td>free</td>\n",
       "      <td>7622.453034</td>\n",
       "      <td>47.205960</td>\n",
       "      <td>2</td>\n",
       "    </tr>\n",
       "    <tr>\n",
       "      <th>11328</th>\n",
       "      <td>1534</td>\n",
       "      <td>9</td>\n",
       "      <td>free</td>\n",
       "      <td>4928.173852</td>\n",
       "      <td>22.560373</td>\n",
       "      <td>1</td>\n",
       "    </tr>\n",
       "    <tr>\n",
       "      <th>11329</th>\n",
       "      <td>1534</td>\n",
       "      <td>11</td>\n",
       "      <td>free</td>\n",
       "      <td>13350.015305</td>\n",
       "      <td>76.342174</td>\n",
       "      <td>4</td>\n",
       "    </tr>\n",
       "    <tr>\n",
       "      <th>11330</th>\n",
       "      <td>1534</td>\n",
       "      <td>12</td>\n",
       "      <td>free</td>\n",
       "      <td>2371.711192</td>\n",
       "      <td>15.893917</td>\n",
       "      <td>1</td>\n",
       "    </tr>\n",
       "  </tbody>\n",
       "</table>\n",
       "<p>11331 rows × 6 columns</p>\n",
       "</div>"
      ],
      "text/plain": [
       "       user_id  month subscription_type  distance_sum  duration_sum  \\\n",
       "0            1      1             ultra   7027.511294     41.416640   \n",
       "1            1      4             ultra    754.159807      6.232113   \n",
       "2            1      8             ultra   6723.470560     44.776802   \n",
       "3            1     10             ultra   5809.911100     31.578017   \n",
       "4            1     11             ultra   7003.499363     53.397424   \n",
       "...        ...    ...               ...           ...           ...   \n",
       "11326     1534      6              free   3409.468534     24.812678   \n",
       "11327     1534      8              free   7622.453034     47.205960   \n",
       "11328     1534      9              free   4928.173852     22.560373   \n",
       "11329     1534     11              free  13350.015305     76.342174   \n",
       "11330     1534     12              free   2371.711192     15.893917   \n",
       "\n",
       "       rides_count  \n",
       "0                2  \n",
       "1                1  \n",
       "2                2  \n",
       "3                2  \n",
       "4                3  \n",
       "...            ...  \n",
       "11326            2  \n",
       "11327            2  \n",
       "11328            1  \n",
       "11329            4  \n",
       "11330            1  \n",
       "\n",
       "[11331 rows x 6 columns]"
      ]
     },
     "execution_count": 32,
     "metadata": {},
     "output_type": "execute_result"
    }
   ],
   "source": [
    "# делаем сводную таблицу по интересующим величинам, суммируем\n",
    "data_mrg_agg = data_mrg.pivot_table(index=['user_id', 'month', 'subscription_type'], values=('duration', 'distance'), aggfunc='sum')\n",
    "# добавляем столбец с количеством поездок\n",
    "data_mrg_agg['rides_count'] = data_mrg.pivot_table(index=['user_id', 'month'], values='distance', aggfunc='count')\n",
    "# переименовываем столбцы\n",
    "data_mrg_agg = data_mrg_agg.rename(columns={'distance':'distance_sum', 'duration':'duration_sum'})\n",
    "# перезаписываем индексы в полученной таблице\n",
    "data_mrg_agg = data_mrg_agg.reset_index()\n",
    "data_mrg_agg"
   ]
  },
  {
   "cell_type": "markdown",
   "id": "a4bb6abc",
   "metadata": {},
   "source": [
    "**Добавляем столбец с помесячной выручкой, которую принёс каждый пользователь**\n"
   ]
  },
  {
   "cell_type": "code",
   "execution_count": 33,
   "id": "3d8d9fa1",
   "metadata": {
    "scrolled": false
   },
   "outputs": [
    {
     "data": {
      "text/html": [
       "<div>\n",
       "<style scoped>\n",
       "    .dataframe tbody tr th:only-of-type {\n",
       "        vertical-align: middle;\n",
       "    }\n",
       "\n",
       "    .dataframe tbody tr th {\n",
       "        vertical-align: top;\n",
       "    }\n",
       "\n",
       "    .dataframe thead th {\n",
       "        text-align: right;\n",
       "    }\n",
       "</style>\n",
       "<table border=\"1\" class=\"dataframe\">\n",
       "  <thead>\n",
       "    <tr style=\"text-align: right;\">\n",
       "      <th></th>\n",
       "      <th>user_id</th>\n",
       "      <th>month</th>\n",
       "      <th>minute_price</th>\n",
       "      <th>start_ride_price</th>\n",
       "      <th>subscription_fee</th>\n",
       "    </tr>\n",
       "  </thead>\n",
       "  <tbody>\n",
       "    <tr>\n",
       "      <th>0</th>\n",
       "      <td>1</td>\n",
       "      <td>1</td>\n",
       "      <td>6.0</td>\n",
       "      <td>0.0</td>\n",
       "      <td>199.0</td>\n",
       "    </tr>\n",
       "    <tr>\n",
       "      <th>1</th>\n",
       "      <td>1</td>\n",
       "      <td>4</td>\n",
       "      <td>6.0</td>\n",
       "      <td>0.0</td>\n",
       "      <td>199.0</td>\n",
       "    </tr>\n",
       "    <tr>\n",
       "      <th>2</th>\n",
       "      <td>1</td>\n",
       "      <td>8</td>\n",
       "      <td>6.0</td>\n",
       "      <td>0.0</td>\n",
       "      <td>199.0</td>\n",
       "    </tr>\n",
       "    <tr>\n",
       "      <th>3</th>\n",
       "      <td>1</td>\n",
       "      <td>10</td>\n",
       "      <td>6.0</td>\n",
       "      <td>0.0</td>\n",
       "      <td>199.0</td>\n",
       "    </tr>\n",
       "    <tr>\n",
       "      <th>4</th>\n",
       "      <td>1</td>\n",
       "      <td>11</td>\n",
       "      <td>6.0</td>\n",
       "      <td>0.0</td>\n",
       "      <td>199.0</td>\n",
       "    </tr>\n",
       "    <tr>\n",
       "      <th>...</th>\n",
       "      <td>...</td>\n",
       "      <td>...</td>\n",
       "      <td>...</td>\n",
       "      <td>...</td>\n",
       "      <td>...</td>\n",
       "    </tr>\n",
       "    <tr>\n",
       "      <th>11326</th>\n",
       "      <td>1534</td>\n",
       "      <td>6</td>\n",
       "      <td>8.0</td>\n",
       "      <td>50.0</td>\n",
       "      <td>0.0</td>\n",
       "    </tr>\n",
       "    <tr>\n",
       "      <th>11327</th>\n",
       "      <td>1534</td>\n",
       "      <td>8</td>\n",
       "      <td>8.0</td>\n",
       "      <td>50.0</td>\n",
       "      <td>0.0</td>\n",
       "    </tr>\n",
       "    <tr>\n",
       "      <th>11328</th>\n",
       "      <td>1534</td>\n",
       "      <td>9</td>\n",
       "      <td>8.0</td>\n",
       "      <td>50.0</td>\n",
       "      <td>0.0</td>\n",
       "    </tr>\n",
       "    <tr>\n",
       "      <th>11329</th>\n",
       "      <td>1534</td>\n",
       "      <td>11</td>\n",
       "      <td>8.0</td>\n",
       "      <td>50.0</td>\n",
       "      <td>0.0</td>\n",
       "    </tr>\n",
       "    <tr>\n",
       "      <th>11330</th>\n",
       "      <td>1534</td>\n",
       "      <td>12</td>\n",
       "      <td>8.0</td>\n",
       "      <td>50.0</td>\n",
       "      <td>0.0</td>\n",
       "    </tr>\n",
       "  </tbody>\n",
       "</table>\n",
       "<p>11331 rows × 5 columns</p>\n",
       "</div>"
      ],
      "text/plain": [
       "       user_id  month  minute_price  start_ride_price  subscription_fee\n",
       "0            1      1           6.0               0.0             199.0\n",
       "1            1      4           6.0               0.0             199.0\n",
       "2            1      8           6.0               0.0             199.0\n",
       "3            1     10           6.0               0.0             199.0\n",
       "4            1     11           6.0               0.0             199.0\n",
       "...        ...    ...           ...               ...               ...\n",
       "11326     1534      6           8.0              50.0               0.0\n",
       "11327     1534      8           8.0              50.0               0.0\n",
       "11328     1534      9           8.0              50.0               0.0\n",
       "11329     1534     11           8.0              50.0               0.0\n",
       "11330     1534     12           8.0              50.0               0.0\n",
       "\n",
       "[11331 rows x 5 columns]"
      ]
     },
     "execution_count": 33,
     "metadata": {},
     "output_type": "execute_result"
    }
   ],
   "source": [
    "# округляем время поездки до ближайшего целого\n",
    "data_mrg_agg['duration_sum'] = np.ceil(data_mrg_agg['duration_sum'])\n",
    "# создаем вспомогательную таблицу для рассчетов\n",
    "data_mrg_agg1 = data_mrg.pivot_table(index=['user_id', 'month'], values=('minute_price', 'start_ride_price','subscription_fee'))\n",
    "# перезаписываем индексы в спомогательной таблице\n",
    "data_mrg_agg1 = data_mrg_agg1.reset_index()\n",
    "data_mrg_agg1"
   ]
  },
  {
   "cell_type": "code",
   "execution_count": 34,
   "id": "c033b414",
   "metadata": {},
   "outputs": [
    {
     "data": {
      "text/html": [
       "<div>\n",
       "<style scoped>\n",
       "    .dataframe tbody tr th:only-of-type {\n",
       "        vertical-align: middle;\n",
       "    }\n",
       "\n",
       "    .dataframe tbody tr th {\n",
       "        vertical-align: top;\n",
       "    }\n",
       "\n",
       "    .dataframe thead th {\n",
       "        text-align: right;\n",
       "    }\n",
       "</style>\n",
       "<table border=\"1\" class=\"dataframe\">\n",
       "  <thead>\n",
       "    <tr style=\"text-align: right;\">\n",
       "      <th></th>\n",
       "      <th>user_id</th>\n",
       "      <th>month</th>\n",
       "      <th>subscription_type</th>\n",
       "      <th>distance_sum</th>\n",
       "      <th>duration_sum</th>\n",
       "      <th>rides_count</th>\n",
       "      <th>income</th>\n",
       "    </tr>\n",
       "  </thead>\n",
       "  <tbody>\n",
       "    <tr>\n",
       "      <th>0</th>\n",
       "      <td>1</td>\n",
       "      <td>1</td>\n",
       "      <td>ultra</td>\n",
       "      <td>7027.511294</td>\n",
       "      <td>42.0</td>\n",
       "      <td>2</td>\n",
       "      <td>451.0</td>\n",
       "    </tr>\n",
       "    <tr>\n",
       "      <th>1</th>\n",
       "      <td>1</td>\n",
       "      <td>4</td>\n",
       "      <td>ultra</td>\n",
       "      <td>754.159807</td>\n",
       "      <td>7.0</td>\n",
       "      <td>1</td>\n",
       "      <td>241.0</td>\n",
       "    </tr>\n",
       "    <tr>\n",
       "      <th>2</th>\n",
       "      <td>1</td>\n",
       "      <td>8</td>\n",
       "      <td>ultra</td>\n",
       "      <td>6723.470560</td>\n",
       "      <td>45.0</td>\n",
       "      <td>2</td>\n",
       "      <td>469.0</td>\n",
       "    </tr>\n",
       "    <tr>\n",
       "      <th>3</th>\n",
       "      <td>1</td>\n",
       "      <td>10</td>\n",
       "      <td>ultra</td>\n",
       "      <td>5809.911100</td>\n",
       "      <td>32.0</td>\n",
       "      <td>2</td>\n",
       "      <td>391.0</td>\n",
       "    </tr>\n",
       "    <tr>\n",
       "      <th>4</th>\n",
       "      <td>1</td>\n",
       "      <td>11</td>\n",
       "      <td>ultra</td>\n",
       "      <td>7003.499363</td>\n",
       "      <td>54.0</td>\n",
       "      <td>3</td>\n",
       "      <td>523.0</td>\n",
       "    </tr>\n",
       "    <tr>\n",
       "      <th>...</th>\n",
       "      <td>...</td>\n",
       "      <td>...</td>\n",
       "      <td>...</td>\n",
       "      <td>...</td>\n",
       "      <td>...</td>\n",
       "      <td>...</td>\n",
       "      <td>...</td>\n",
       "    </tr>\n",
       "    <tr>\n",
       "      <th>11326</th>\n",
       "      <td>1534</td>\n",
       "      <td>6</td>\n",
       "      <td>free</td>\n",
       "      <td>3409.468534</td>\n",
       "      <td>25.0</td>\n",
       "      <td>2</td>\n",
       "      <td>300.0</td>\n",
       "    </tr>\n",
       "    <tr>\n",
       "      <th>11327</th>\n",
       "      <td>1534</td>\n",
       "      <td>8</td>\n",
       "      <td>free</td>\n",
       "      <td>7622.453034</td>\n",
       "      <td>48.0</td>\n",
       "      <td>2</td>\n",
       "      <td>484.0</td>\n",
       "    </tr>\n",
       "    <tr>\n",
       "      <th>11328</th>\n",
       "      <td>1534</td>\n",
       "      <td>9</td>\n",
       "      <td>free</td>\n",
       "      <td>4928.173852</td>\n",
       "      <td>23.0</td>\n",
       "      <td>1</td>\n",
       "      <td>234.0</td>\n",
       "    </tr>\n",
       "    <tr>\n",
       "      <th>11329</th>\n",
       "      <td>1534</td>\n",
       "      <td>11</td>\n",
       "      <td>free</td>\n",
       "      <td>13350.015305</td>\n",
       "      <td>77.0</td>\n",
       "      <td>4</td>\n",
       "      <td>816.0</td>\n",
       "    </tr>\n",
       "    <tr>\n",
       "      <th>11330</th>\n",
       "      <td>1534</td>\n",
       "      <td>12</td>\n",
       "      <td>free</td>\n",
       "      <td>2371.711192</td>\n",
       "      <td>16.0</td>\n",
       "      <td>1</td>\n",
       "      <td>178.0</td>\n",
       "    </tr>\n",
       "  </tbody>\n",
       "</table>\n",
       "<p>11331 rows × 7 columns</p>\n",
       "</div>"
      ],
      "text/plain": [
       "       user_id  month subscription_type  distance_sum  duration_sum  \\\n",
       "0            1      1             ultra   7027.511294          42.0   \n",
       "1            1      4             ultra    754.159807           7.0   \n",
       "2            1      8             ultra   6723.470560          45.0   \n",
       "3            1     10             ultra   5809.911100          32.0   \n",
       "4            1     11             ultra   7003.499363          54.0   \n",
       "...        ...    ...               ...           ...           ...   \n",
       "11326     1534      6              free   3409.468534          25.0   \n",
       "11327     1534      8              free   7622.453034          48.0   \n",
       "11328     1534      9              free   4928.173852          23.0   \n",
       "11329     1534     11              free  13350.015305          77.0   \n",
       "11330     1534     12              free   2371.711192          16.0   \n",
       "\n",
       "       rides_count  income  \n",
       "0                2   451.0  \n",
       "1                1   241.0  \n",
       "2                2   469.0  \n",
       "3                2   391.0  \n",
       "4                3   523.0  \n",
       "...            ...     ...  \n",
       "11326            2   300.0  \n",
       "11327            2   484.0  \n",
       "11328            1   234.0  \n",
       "11329            4   816.0  \n",
       "11330            1   178.0  \n",
       "\n",
       "[11331 rows x 7 columns]"
      ]
     },
     "execution_count": 34,
     "metadata": {},
     "output_type": "execute_result"
    }
   ],
   "source": [
    "# добавляем в основную таблицу столбец выручки, с использованием данных \n",
    "data_mrg_agg['income'] = data_mrg_agg1['start_ride_price'] * data_mrg_agg['rides_count'] + \\\n",
    "data_mrg_agg1['minute_price'] * data_mrg_agg['duration_sum'] + data_mrg_agg1['subscription_fee']\n",
    "data_mrg_agg"
   ]
  },
  {
   "cell_type": "markdown",
   "id": "41545ac0",
   "metadata": {},
   "source": [
    "## Проверка гипотез"
   ]
  },
  {
   "cell_type": "markdown",
   "id": "e38037da",
   "metadata": {},
   "source": [
    "### Тратят ли пользователи с подпиской больше времени на поездки"
   ]
  },
  {
   "cell_type": "markdown",
   "id": "8f4017db",
   "metadata": {},
   "source": [
    "Важно понять, тратят ли пользователи с подпиской больше времени на поездки? Если да, то пользователи с подпиской могут быть «выгоднее» для компании. "
   ]
  },
  {
   "cell_type": "markdown",
   "id": "1fed80a9",
   "metadata": {},
   "source": [
    "Сравним две выборки data_ultra_subs и data_free_subs для проверки гипотезы. Две независимые выборки. Будем использовать метод st.ttest_ind()\n",
    "\n",
    "\n",
    "- Нулевая гипотеза:среднее время одной поездки одинаково для пользователей с подпиской и без неё;\n",
    "- Альтернативная гипотеза: пользователи с подпиской тратят больше времени на поездку."
   ]
  },
  {
   "cell_type": "code",
   "execution_count": 35,
   "id": "caa8c0f1",
   "metadata": {},
   "outputs": [
    {
     "name": "stdout",
     "output_type": "stream",
     "text": [
      "p-value: 1.2804098316645618e-34\n",
      "Отвергаем нулевую гипотезу.\n",
      "Среднее время поездки пользователей с подпиской: 18.54\n",
      "Среднее время поездки без подписки: 17.39\n"
     ]
    }
   ],
   "source": [
    "# задаем уровень статистической значимости\n",
    "alpha = 0.05\n",
    "# так как у нас правосторонняя альтернативная гипотеза, используем соотвествующий аргумент метода st.ttest_ind\n",
    "results = st.ttest_ind(data_ultra_subs['duration'], data_free_subs['duration'], alternative='greater')\n",
    "\n",
    "print('p-value:', results.pvalue)\n",
    "\n",
    "if results.pvalue < alpha:\n",
    "    print('Отвергаем нулевую гипотезу.')\n",
    "else:\n",
    "    print('Нулевую гипотезу отвергнуть нельзя.')\n",
    "    \n",
    "# выведем средние значения для обеих категорий пользователей    \n",
    "print('Среднее время поездки пользователей с подпиской:', round(data_ultra_subs['duration'].mean(), 2))\n",
    "print('Среднее время поездки без подписки:', round(data_free_subs['duration'].mean(), 2))"
   ]
  },
  {
   "cell_type": "markdown",
   "id": "87c7b477",
   "metadata": {},
   "source": [
    "По результатам проведенного теста можно сказать, что нулевая гипотеза о равенстве среднего времени одной поездки для пользователей с подпиской и без подписки - отвергнута. Следовательно принимаем алтернативную - пользователи с подпиской тратят больше времени на поездку. "
   ]
  },
  {
   "cell_type": "markdown",
   "id": "8c3e57da",
   "metadata": {},
   "source": [
    "### Можно ли сказать, что среднее расстояние, которое проезжают пользователи с подпиской за одну поездку, не превышает 3130 метров? "
   ]
  },
  {
   "cell_type": "markdown",
   "id": "f527fc92",
   "metadata": {},
   "source": [
    "Расстояние одной поездки в 3130 метров — оптимальное с точки зрения износа самоката. Можно ли сказать, что среднее расстояние, которое проезжают пользователи с подпиской за одну поездку, не превышает 3130 метров? "
   ]
  },
  {
   "cell_type": "markdown",
   "id": "13912fc5",
   "metadata": {},
   "source": [
    "Одна выборка, сравниваем среднего с заданным числом. Будем использовать метод st.ttest_1samp()\n",
    "\n",
    "\n",
    "- Нулевая гипотеза:среднее расстояние поездки пользователя с подпиской равно 3130 метрам;\n",
    "- Альтернативная гипотеза: среднее расстояние поездки пользователя с подпиской больше 3130 метров."
   ]
  },
  {
   "cell_type": "code",
   "execution_count": 36,
   "id": "366bc082",
   "metadata": {},
   "outputs": [
    {
     "name": "stdout",
     "output_type": "stream",
     "text": [
      "p-value: 0.9195368847849785\n",
      "Нулевую гипотезу отвергнуть нельзя.\n",
      "Средняя дистанция поездки пользователей с подпиской: 3115.0\n"
     ]
    }
   ],
   "source": [
    "# интересующее значение\n",
    "interested_value = 3130\n",
    "# уровень статистичекой значимости\n",
    "alpha = 0.05\n",
    "\n",
    "# так как у нас правосторонняя альтернативная гипотеза, используем соотвествующий аргумент метода st.ttest_1samp\n",
    "results = st.ttest_1samp(data_ultra_subs['distance'], interested_value, alternative='greater')\n",
    "\n",
    "print('p-value:', results.pvalue)\n",
    "\n",
    "if results.pvalue < alpha:\n",
    "    print('Отвергаем нулевую гипотезу.')\n",
    "else:\n",
    "    print('Нулевую гипотезу отвергнуть нельзя.')\n",
    "# выведем среднее значение параметра\n",
    "print('Средняя дистанция поездки пользователей с подпиской:', round(data_ultra_subs['distance'].mean(), 0))"
   ]
  },
  {
   "cell_type": "markdown",
   "id": "5067dadf",
   "metadata": {},
   "source": [
    "По результатам проведенного теста можно сказать, что нулевую гипотезу о равенстве среднего расстояния поездки пользователя с подпиской 3130 метрам - отвергнуть нельзя."
   ]
  },
  {
   "cell_type": "markdown",
   "id": "aa3affad",
   "metadata": {},
   "source": [
    "###  Будет ли помесячная выручка от пользователей с подпиской по месяцам выше, чем выручка от пользователей без подписки."
   ]
  },
  {
   "cell_type": "markdown",
   "id": "277c7678",
   "metadata": {},
   "source": [
    "Будем сравнивать две независимые выборки. Используем метод st.ttest_ind()\n",
    "\n",
    "- Нулевая гипотеза: помесячная выручка пользователей с подпиской и без неё одинакова;\n",
    "- Альтернативная гипотеза: помесячная выручка пользователей с подпиской больше."
   ]
  },
  {
   "cell_type": "code",
   "execution_count": 37,
   "id": "0b6859d5",
   "metadata": {},
   "outputs": [
    {
     "data": {
      "text/html": [
       "<div>\n",
       "<style scoped>\n",
       "    .dataframe tbody tr th:only-of-type {\n",
       "        vertical-align: middle;\n",
       "    }\n",
       "\n",
       "    .dataframe tbody tr th {\n",
       "        vertical-align: top;\n",
       "    }\n",
       "\n",
       "    .dataframe thead th {\n",
       "        text-align: right;\n",
       "    }\n",
       "</style>\n",
       "<table border=\"1\" class=\"dataframe\">\n",
       "  <thead>\n",
       "    <tr style=\"text-align: right;\">\n",
       "      <th></th>\n",
       "      <th>user_id</th>\n",
       "      <th>month</th>\n",
       "      <th>subscription_type</th>\n",
       "      <th>distance_sum</th>\n",
       "      <th>duration_sum</th>\n",
       "      <th>rides_count</th>\n",
       "      <th>income</th>\n",
       "    </tr>\n",
       "  </thead>\n",
       "  <tbody>\n",
       "    <tr>\n",
       "      <th>0</th>\n",
       "      <td>1</td>\n",
       "      <td>1</td>\n",
       "      <td>ultra</td>\n",
       "      <td>7027.511294</td>\n",
       "      <td>42.0</td>\n",
       "      <td>2</td>\n",
       "      <td>451.0</td>\n",
       "    </tr>\n",
       "    <tr>\n",
       "      <th>1</th>\n",
       "      <td>1</td>\n",
       "      <td>4</td>\n",
       "      <td>ultra</td>\n",
       "      <td>754.159807</td>\n",
       "      <td>7.0</td>\n",
       "      <td>1</td>\n",
       "      <td>241.0</td>\n",
       "    </tr>\n",
       "    <tr>\n",
       "      <th>2</th>\n",
       "      <td>1</td>\n",
       "      <td>8</td>\n",
       "      <td>ultra</td>\n",
       "      <td>6723.470560</td>\n",
       "      <td>45.0</td>\n",
       "      <td>2</td>\n",
       "      <td>469.0</td>\n",
       "    </tr>\n",
       "    <tr>\n",
       "      <th>3</th>\n",
       "      <td>1</td>\n",
       "      <td>10</td>\n",
       "      <td>ultra</td>\n",
       "      <td>5809.911100</td>\n",
       "      <td>32.0</td>\n",
       "      <td>2</td>\n",
       "      <td>391.0</td>\n",
       "    </tr>\n",
       "    <tr>\n",
       "      <th>4</th>\n",
       "      <td>1</td>\n",
       "      <td>11</td>\n",
       "      <td>ultra</td>\n",
       "      <td>7003.499363</td>\n",
       "      <td>54.0</td>\n",
       "      <td>3</td>\n",
       "      <td>523.0</td>\n",
       "    </tr>\n",
       "    <tr>\n",
       "      <th>...</th>\n",
       "      <td>...</td>\n",
       "      <td>...</td>\n",
       "      <td>...</td>\n",
       "      <td>...</td>\n",
       "      <td>...</td>\n",
       "      <td>...</td>\n",
       "      <td>...</td>\n",
       "    </tr>\n",
       "    <tr>\n",
       "      <th>4528</th>\n",
       "      <td>699</td>\n",
       "      <td>6</td>\n",
       "      <td>ultra</td>\n",
       "      <td>4072.797406</td>\n",
       "      <td>17.0</td>\n",
       "      <td>1</td>\n",
       "      <td>301.0</td>\n",
       "    </tr>\n",
       "    <tr>\n",
       "      <th>4529</th>\n",
       "      <td>699</td>\n",
       "      <td>8</td>\n",
       "      <td>ultra</td>\n",
       "      <td>7018.324143</td>\n",
       "      <td>45.0</td>\n",
       "      <td>2</td>\n",
       "      <td>469.0</td>\n",
       "    </tr>\n",
       "    <tr>\n",
       "      <th>4530</th>\n",
       "      <td>699</td>\n",
       "      <td>9</td>\n",
       "      <td>ultra</td>\n",
       "      <td>6364.861911</td>\n",
       "      <td>31.0</td>\n",
       "      <td>2</td>\n",
       "      <td>385.0</td>\n",
       "    </tr>\n",
       "    <tr>\n",
       "      <th>4531</th>\n",
       "      <td>699</td>\n",
       "      <td>10</td>\n",
       "      <td>ultra</td>\n",
       "      <td>4707.845501</td>\n",
       "      <td>16.0</td>\n",
       "      <td>1</td>\n",
       "      <td>295.0</td>\n",
       "    </tr>\n",
       "    <tr>\n",
       "      <th>4532</th>\n",
       "      <td>699</td>\n",
       "      <td>12</td>\n",
       "      <td>ultra</td>\n",
       "      <td>3202.890770</td>\n",
       "      <td>26.0</td>\n",
       "      <td>1</td>\n",
       "      <td>355.0</td>\n",
       "    </tr>\n",
       "  </tbody>\n",
       "</table>\n",
       "<p>4533 rows × 7 columns</p>\n",
       "</div>"
      ],
      "text/plain": [
       "      user_id  month subscription_type  distance_sum  duration_sum  \\\n",
       "0           1      1             ultra   7027.511294          42.0   \n",
       "1           1      4             ultra    754.159807           7.0   \n",
       "2           1      8             ultra   6723.470560          45.0   \n",
       "3           1     10             ultra   5809.911100          32.0   \n",
       "4           1     11             ultra   7003.499363          54.0   \n",
       "...       ...    ...               ...           ...           ...   \n",
       "4528      699      6             ultra   4072.797406          17.0   \n",
       "4529      699      8             ultra   7018.324143          45.0   \n",
       "4530      699      9             ultra   6364.861911          31.0   \n",
       "4531      699     10             ultra   4707.845501          16.0   \n",
       "4532      699     12             ultra   3202.890770          26.0   \n",
       "\n",
       "      rides_count  income  \n",
       "0               2   451.0  \n",
       "1               1   241.0  \n",
       "2               2   469.0  \n",
       "3               2   391.0  \n",
       "4               3   523.0  \n",
       "...           ...     ...  \n",
       "4528            1   301.0  \n",
       "4529            2   469.0  \n",
       "4530            2   385.0  \n",
       "4531            1   295.0  \n",
       "4532            1   355.0  \n",
       "\n",
       "[4533 rows x 7 columns]"
      ]
     },
     "execution_count": 37,
     "metadata": {},
     "output_type": "execute_result"
    }
   ],
   "source": [
    "# создадим датафрейм с информацией по пользователям с подпиской\n",
    "data_mrg_agg_ultra = data_mrg_agg[data_mrg_agg['subscription_type'] == 'ultra']\n",
    "data_mrg_agg_ultra"
   ]
  },
  {
   "cell_type": "code",
   "execution_count": 38,
   "id": "53977dcb",
   "metadata": {
    "scrolled": false
   },
   "outputs": [
    {
     "data": {
      "text/html": [
       "<div>\n",
       "<style scoped>\n",
       "    .dataframe tbody tr th:only-of-type {\n",
       "        vertical-align: middle;\n",
       "    }\n",
       "\n",
       "    .dataframe tbody tr th {\n",
       "        vertical-align: top;\n",
       "    }\n",
       "\n",
       "    .dataframe thead th {\n",
       "        text-align: right;\n",
       "    }\n",
       "</style>\n",
       "<table border=\"1\" class=\"dataframe\">\n",
       "  <thead>\n",
       "    <tr style=\"text-align: right;\">\n",
       "      <th></th>\n",
       "      <th>user_id</th>\n",
       "      <th>month</th>\n",
       "      <th>subscription_type</th>\n",
       "      <th>distance_sum</th>\n",
       "      <th>duration_sum</th>\n",
       "      <th>rides_count</th>\n",
       "      <th>income</th>\n",
       "    </tr>\n",
       "  </thead>\n",
       "  <tbody>\n",
       "    <tr>\n",
       "      <th>4533</th>\n",
       "      <td>700</td>\n",
       "      <td>1</td>\n",
       "      <td>free</td>\n",
       "      <td>2515.690719</td>\n",
       "      <td>15.0</td>\n",
       "      <td>1</td>\n",
       "      <td>170.0</td>\n",
       "    </tr>\n",
       "    <tr>\n",
       "      <th>4534</th>\n",
       "      <td>700</td>\n",
       "      <td>2</td>\n",
       "      <td>free</td>\n",
       "      <td>13446.659764</td>\n",
       "      <td>86.0</td>\n",
       "      <td>5</td>\n",
       "      <td>938.0</td>\n",
       "    </tr>\n",
       "    <tr>\n",
       "      <th>4535</th>\n",
       "      <td>700</td>\n",
       "      <td>3</td>\n",
       "      <td>free</td>\n",
       "      <td>3798.334905</td>\n",
       "      <td>19.0</td>\n",
       "      <td>1</td>\n",
       "      <td>202.0</td>\n",
       "    </tr>\n",
       "    <tr>\n",
       "      <th>4536</th>\n",
       "      <td>700</td>\n",
       "      <td>4</td>\n",
       "      <td>free</td>\n",
       "      <td>2984.551206</td>\n",
       "      <td>16.0</td>\n",
       "      <td>1</td>\n",
       "      <td>178.0</td>\n",
       "    </tr>\n",
       "    <tr>\n",
       "      <th>4537</th>\n",
       "      <td>700</td>\n",
       "      <td>6</td>\n",
       "      <td>free</td>\n",
       "      <td>5927.650988</td>\n",
       "      <td>29.0</td>\n",
       "      <td>2</td>\n",
       "      <td>332.0</td>\n",
       "    </tr>\n",
       "    <tr>\n",
       "      <th>...</th>\n",
       "      <td>...</td>\n",
       "      <td>...</td>\n",
       "      <td>...</td>\n",
       "      <td>...</td>\n",
       "      <td>...</td>\n",
       "      <td>...</td>\n",
       "      <td>...</td>\n",
       "    </tr>\n",
       "    <tr>\n",
       "      <th>11326</th>\n",
       "      <td>1534</td>\n",
       "      <td>6</td>\n",
       "      <td>free</td>\n",
       "      <td>3409.468534</td>\n",
       "      <td>25.0</td>\n",
       "      <td>2</td>\n",
       "      <td>300.0</td>\n",
       "    </tr>\n",
       "    <tr>\n",
       "      <th>11327</th>\n",
       "      <td>1534</td>\n",
       "      <td>8</td>\n",
       "      <td>free</td>\n",
       "      <td>7622.453034</td>\n",
       "      <td>48.0</td>\n",
       "      <td>2</td>\n",
       "      <td>484.0</td>\n",
       "    </tr>\n",
       "    <tr>\n",
       "      <th>11328</th>\n",
       "      <td>1534</td>\n",
       "      <td>9</td>\n",
       "      <td>free</td>\n",
       "      <td>4928.173852</td>\n",
       "      <td>23.0</td>\n",
       "      <td>1</td>\n",
       "      <td>234.0</td>\n",
       "    </tr>\n",
       "    <tr>\n",
       "      <th>11329</th>\n",
       "      <td>1534</td>\n",
       "      <td>11</td>\n",
       "      <td>free</td>\n",
       "      <td>13350.015305</td>\n",
       "      <td>77.0</td>\n",
       "      <td>4</td>\n",
       "      <td>816.0</td>\n",
       "    </tr>\n",
       "    <tr>\n",
       "      <th>11330</th>\n",
       "      <td>1534</td>\n",
       "      <td>12</td>\n",
       "      <td>free</td>\n",
       "      <td>2371.711192</td>\n",
       "      <td>16.0</td>\n",
       "      <td>1</td>\n",
       "      <td>178.0</td>\n",
       "    </tr>\n",
       "  </tbody>\n",
       "</table>\n",
       "<p>6798 rows × 7 columns</p>\n",
       "</div>"
      ],
      "text/plain": [
       "       user_id  month subscription_type  distance_sum  duration_sum  \\\n",
       "4533       700      1              free   2515.690719          15.0   \n",
       "4534       700      2              free  13446.659764          86.0   \n",
       "4535       700      3              free   3798.334905          19.0   \n",
       "4536       700      4              free   2984.551206          16.0   \n",
       "4537       700      6              free   5927.650988          29.0   \n",
       "...        ...    ...               ...           ...           ...   \n",
       "11326     1534      6              free   3409.468534          25.0   \n",
       "11327     1534      8              free   7622.453034          48.0   \n",
       "11328     1534      9              free   4928.173852          23.0   \n",
       "11329     1534     11              free  13350.015305          77.0   \n",
       "11330     1534     12              free   2371.711192          16.0   \n",
       "\n",
       "       rides_count  income  \n",
       "4533             1   170.0  \n",
       "4534             5   938.0  \n",
       "4535             1   202.0  \n",
       "4536             1   178.0  \n",
       "4537             2   332.0  \n",
       "...            ...     ...  \n",
       "11326            2   300.0  \n",
       "11327            2   484.0  \n",
       "11328            1   234.0  \n",
       "11329            4   816.0  \n",
       "11330            1   178.0  \n",
       "\n",
       "[6798 rows x 7 columns]"
      ]
     },
     "execution_count": 38,
     "metadata": {},
     "output_type": "execute_result"
    }
   ],
   "source": [
    "# создадим датафрейм с информацией по пользователям без подписки\n",
    "data_mrg_agg_free = data_mrg_agg[data_mrg_agg['subscription_type'] == 'free']\n",
    "data_mrg_agg_free"
   ]
  },
  {
   "cell_type": "code",
   "execution_count": 39,
   "id": "46d6e9d2",
   "metadata": {},
   "outputs": [
    {
     "data": {
      "text/plain": [
       "0"
      ]
     },
     "execution_count": 39,
     "metadata": {},
     "output_type": "execute_result"
    }
   ],
   "source": [
    "# проверим что не потеряли строки\n",
    "data_mrg_agg.shape[0] - data_mrg_agg_ultra.shape[0] - data_mrg_agg_free.shape[0]"
   ]
  },
  {
   "cell_type": "code",
   "execution_count": 40,
   "id": "4730baf7",
   "metadata": {},
   "outputs": [
    {
     "name": "stdout",
     "output_type": "stream",
     "text": [
      "p-value: 2.8130926188487286e-35\n",
      "Отвергаем нулевую гипотезу.\n",
      "Средняя помесячная прибыль пользователей с подпиской: 361.48\n",
      "Среднее помесячная прибыль пользователей без подписки: 325.84\n"
     ]
    }
   ],
   "source": [
    "# уровень статистической значимости\n",
    "alpha = 0.05\n",
    "\n",
    "results = st.ttest_ind(data_mrg_agg_ultra['income'], data_mrg_agg_free['income'], alternative='greater')\n",
    "\n",
    "print('p-value:', results.pvalue)\n",
    "\n",
    "if results.pvalue < alpha:\n",
    "    print('Отвергаем нулевую гипотезу.')\n",
    "else:\n",
    "    print('Нулевую гипотезу отвергнуть нельзя.')\n",
    "    \n",
    "# выведем средние значения    \n",
    "print('Средняя помесячная прибыль пользователей с подпиской:', round(data_mrg_agg_ultra['income'].mean(), 2))\n",
    "print('Среднее помесячная прибыль пользователей без подписки:', round(data_mrg_agg_free['income'].mean(), 2))"
   ]
  },
  {
   "cell_type": "markdown",
   "id": "a7dc1b0a",
   "metadata": {},
   "source": [
    "По результатам проведенного теста можно сказать, что нулевая гипотеза о равенстве помесячной выручки пользователей с подпиской и без - отвергнута. Следовательно принимаем алтернативную - помесячная выручка пользователей с подпиской больше. "
   ]
  },
  {
   "cell_type": "markdown",
   "id": "0c471f14",
   "metadata": {},
   "source": [
    "### Количество обращений в техподдержку"
   ]
  },
  {
   "cell_type": "markdown",
   "id": "007ce97b",
   "metadata": {},
   "source": [
    "Представьте такую ситуацию: техническая команда сервиса обновила сервера, с которыми взаимодействует мобильное приложение. Она надеется, что из-за этого количество обращений в техподдержку значимо снизилось. Некоторый файл содержит для каждого пользователя данные о количестве обращений до обновления и после него. Какой тест вам понадобился бы для проверки этой гипотезы?"
   ]
  },
  {
   "cell_type": "markdown",
   "id": "ca54aead",
   "metadata": {},
   "source": [
    "***Ответ:*** В данном случае нужно применить тест проверки гипотез о равенстве средних для зависимых парных выборок. В метод scipy.stats.ttest_rel() передать наборы данных до и после обновления сервера."
   ]
  },
  {
   "cell_type": "markdown",
   "id": "dc58686b",
   "metadata": {},
   "source": [
    "### Вывод\n",
    "В результате проверки гипотез можно отметить следующее:\n",
    "- Гипотеза о том, что пользователи с подпиской тратят в среднем больше времени на поездку подтвердилась.\n",
    "Среднее время поездки пользователей с подпиской: 18.54\n",
    "Среднее время поездки без подписки: 17.39\n",
    "\n",
    "\n",
    "- Гипотеза о том, что среднее расстояние поездки пользователей с подпиской не превышает3130 м, подттвердилась\n",
    "Средняя дистанция поездки пользователей с подпиской: 3115.0\n",
    "\n",
    "\n",
    "- Гипотеза о том, что средняя помесячная выручка пользователей с подпиской выше, чем пользователей без подписки подтверждается.\n",
    "Средняя помесячная прибыль пользователей с подпиской: 361.48\n",
    "Среднее помесячная прибыль пользователей без подписки: 325.84"
   ]
  },
  {
   "cell_type": "markdown",
   "id": "ee9c2a7d",
   "metadata": {},
   "source": [
    "## Общий вывод"
   ]
  },
  {
   "cell_type": "markdown",
   "id": "053a7ae7",
   "metadata": {},
   "source": [
    "### Информация о данных и предварительной обработке"
   ]
  },
  {
   "cell_type": "markdown",
   "id": "80e8bfa6",
   "metadata": {},
   "source": [
    "Заказчиком предоставлены данные сервиса аренды самокатов GoFast. Данные представляют из себя три датасета. Все данные были загружены без ошибок. Информация о полученных датафреймах:\n",
    "\n",
    "- *Пользователи.* Всего в датафрейме 5 столбцов и 1565 строк. Данные представлены по следующим городам: 'Тюмень', 'Омск', 'Москва', 'Ростов-на-Дону', 'Краснодар', 'Пятигорск', 'Екатеринбург', 'Сочи'. Типы данных корректны;\n",
    "\n",
    "\n",
    "- *Поездки.* Всего в датафрейме 4 столбца и 18078 строк. Данные в столбце дат имеют тип object, типы данных в остальных столбцах корркетны;\n",
    "\n",
    "\n",
    "- *Подписки.* Всего в датафрейме 4 столбца и 2 строки. Типы данных корректны.\n",
    "\n",
    "\n",
    "Была проведена предварительная обработка данных:\n",
    "\n",
    "- *Пользователи.* Пропуски отсутствуют, удалено 31 явных дубликатов, неяные дубликаты отстуствуют;\n",
    "\n",
    "\n",
    "- *Поездки.* Пропуски отсутствуют, явные дубликаты отсутствуют, изменен тип данных в столбце со значнием дат на  DataTime. Определено, что данные предоставлены за период с 1 января по 30 марта 2021 года.;\n",
    "\n",
    "\n",
    "- *Подписки.* Пропуски отсутствуют, явные и неявные дубликаты отсутствуют.\n",
    "\n",
    "\n"
   ]
  },
  {
   "cell_type": "markdown",
   "id": "7dc59631",
   "metadata": {},
   "source": [
    "### Исследование данных"
   ]
  },
  {
   "cell_type": "markdown",
   "id": "841c63e5",
   "metadata": {},
   "source": [
    "Был проведен исследовательский анализ данных. Установлены следующие факты:\n",
    "- *Частота встречаемости городов:*\n",
    "  - данные представлены по 8 городам;\n",
    "  - в представленной выборке больше всего пользователей в Пятигоске - 219 человек, меньше всего в Москве - 168 человек;\n",
    "  - аномальные значения отсутствуют.\n",
    "  \n",
    "  \n",
    "- *Соотношение пользователей с подпиской и без неё:*\n",
    "  - Пользователей без подписки больше чем пользователей с подпиской: 54 и 46 %, соотвественно.\n",
    "\n",
    "\n",
    "- *Возраст пользователей:*\n",
    "  - Выборка имеет нормальное распределение, медиана и среднее практически совпадают, и составляют 25 лет. Явных выбросов нет, максимальное значение - 43 года. Основная часть данных сосредоточена в интервале 18-34 лет.\n",
    "  \n",
    "  \n",
    "- *Расстояние, которое пользователь преодолел за одну поездку:*\n",
    "  - Медианное значение большинства поездок порядка 3.1 км., явных выбросов нет. Основная часть данных лежит в интервале 2.2 - 4.4 км. Есть небольшой всплеск значений в интервале 250 - 1200 метров, то может быть связанно с поездками до/от остановок общественного траспорта.\n",
    "  \n",
    "  \n",
    "- *Продолжительность поездок:*\n",
    "  - Данные имеют нормальное распределение, явные выбросы отстутствуют. Среднее время поездки - 17.8 мин."
   ]
  },
  {
   "cell_type": "markdown",
   "id": "fbe2ecda",
   "metadata": {},
   "source": [
    "### Объединение данных"
   ]
  },
  {
   "cell_type": "markdown",
   "id": "ea61be69",
   "metadata": {},
   "source": [
    "На данном этапе была проделаны следующие работы:\n",
    "- Создан общий датафрейм на основе трех первоначальных;\n",
    "\n",
    "\n",
    "- Созданы два датафрейма с данными о пользователях с подпиской и без подписки;\n",
    "\n",
    "\n",
    "- Построены визуализации данных из датафреймов о пользователях с подпиской и без подписки, отмечено что:\n",
    "  - расстояние одной поездки пользователей без подписки большем чем пользователей с подпиской;\n",
    "  - время одной поездки пользователей без подписки большем чем пользователей с подпиской."
   ]
  },
  {
   "cell_type": "markdown",
   "id": "e799d2a4",
   "metadata": {},
   "source": [
    "### Подсчет выручки"
   ]
  },
  {
   "cell_type": "markdown",
   "id": "9e86bec2",
   "metadata": {},
   "source": [
    "Создан датафрейм со столбцом помесячной выручки для каждого пользователя."
   ]
  },
  {
   "cell_type": "markdown",
   "id": "1f0ed861",
   "metadata": {},
   "source": [
    "### Проверка гипотез"
   ]
  },
  {
   "cell_type": "markdown",
   "id": "141daa80",
   "metadata": {},
   "source": [
    "В результате проверки гипотез можно отметить следующее:\n",
    "- По результатам проведенного  нулевая гипотеза о равенстве среднего времени одной поездки для пользователей с подпиской и без подписки - отвергнута. Приняли алтернативную - пользователи с подпиской тратят больше времени на поездку. \n",
    "Среднее время поездки пользователей с подпиской: 18.54\n",
    "Среднее время поездки без подписки: 17.39\n",
    "\n",
    "\n",
    "- По результатам проведенного теста нулевую гипотезу о равенстве среднего расстояния поездки пользователя с подпиской 3130 метрам - отвергнуть нельзя.\n",
    "Средняя дистанция поездки пользователей с подпиской: 3115.0\n",
    "\n",
    "\n",
    "- По результатам проведенного теста нулевая гипотеза о равенстве помесячной выручки пользователей с подпиской и без - отвергнута. Следовательно принимаем алтернативную - помесячная выручка пользователей с подпиской больше. \n",
    "Средняя помесячная прибыль пользователей с подпиской: 361.48\n",
    "Среднее помесячная прибыль пользователей без подписки: 325.84"
   ]
  },
  {
   "cell_type": "markdown",
   "id": "e2f3cea6",
   "metadata": {},
   "source": [
    "### Рекомедации"
   ]
  },
  {
   "cell_type": "markdown",
   "id": "70727ee3",
   "metadata": {},
   "source": [
    "Рекомендую обратить внимание на привлечение пользователей к оформлению подписки на сервис."
   ]
  }
 ],
 "metadata": {
  "ExecuteTimeLog": [
   {
    "duration": 8,
    "start_time": "2024-04-21T14:34:25.901Z"
   },
   {
    "duration": 47,
    "start_time": "2024-04-21T14:57:37.551Z"
   },
   {
    "duration": 12,
    "start_time": "2024-04-21T15:00:36.002Z"
   },
   {
    "duration": 408,
    "start_time": "2024-04-21T15:00:53.934Z"
   },
   {
    "duration": 3,
    "start_time": "2024-04-21T15:00:54.343Z"
   },
   {
    "duration": 488,
    "start_time": "2024-04-21T15:00:54.347Z"
   },
   {
    "duration": 62,
    "start_time": "2024-04-21T16:37:34.927Z"
   },
   {
    "duration": 10,
    "start_time": "2024-04-21T16:38:00.620Z"
   },
   {
    "duration": 24,
    "start_time": "2024-04-21T16:38:12.131Z"
   },
   {
    "duration": 15,
    "start_time": "2024-04-21T16:38:26.533Z"
   },
   {
    "duration": 431,
    "start_time": "2024-04-21T16:38:35.081Z"
   },
   {
    "duration": 3,
    "start_time": "2024-04-21T16:38:35.514Z"
   },
   {
    "duration": 433,
    "start_time": "2024-04-21T16:38:35.518Z"
   },
   {
    "duration": 20,
    "start_time": "2024-04-21T16:38:35.953Z"
   },
   {
    "duration": 14,
    "start_time": "2024-04-21T16:39:02.445Z"
   },
   {
    "duration": 406,
    "start_time": "2024-04-21T16:39:08.765Z"
   },
   {
    "duration": 3,
    "start_time": "2024-04-21T16:39:09.173Z"
   },
   {
    "duration": 85,
    "start_time": "2024-04-21T16:39:09.177Z"
   },
   {
    "duration": 0,
    "start_time": "2024-04-21T16:39:09.264Z"
   },
   {
    "duration": 190,
    "start_time": "2024-04-21T16:39:15.565Z"
   },
   {
    "duration": 19,
    "start_time": "2024-04-21T16:39:18.177Z"
   },
   {
    "duration": 214,
    "start_time": "2024-04-21T16:41:34.133Z"
   },
   {
    "duration": 174,
    "start_time": "2024-04-21T16:41:37.992Z"
   },
   {
    "duration": 16,
    "start_time": "2024-04-21T16:41:41.689Z"
   },
   {
    "duration": 191,
    "start_time": "2024-04-21T16:41:59.220Z"
   },
   {
    "duration": 17,
    "start_time": "2024-04-21T16:42:04.988Z"
   },
   {
    "duration": 30,
    "start_time": "2024-04-21T16:42:36.098Z"
   },
   {
    "duration": 15,
    "start_time": "2024-04-21T16:43:07.682Z"
   },
   {
    "duration": 419,
    "start_time": "2024-04-21T16:43:46.065Z"
   },
   {
    "duration": 3,
    "start_time": "2024-04-21T16:43:46.485Z"
   },
   {
    "duration": 246,
    "start_time": "2024-04-21T16:43:46.490Z"
   },
   {
    "duration": 26,
    "start_time": "2024-04-21T16:43:46.738Z"
   },
   {
    "duration": 19,
    "start_time": "2024-04-21T16:43:46.767Z"
   },
   {
    "duration": 17,
    "start_time": "2024-04-21T16:43:46.787Z"
   },
   {
    "duration": 402,
    "start_time": "2024-04-21T19:26:09.679Z"
   },
   {
    "duration": 3,
    "start_time": "2024-04-21T19:26:10.083Z"
   },
   {
    "duration": 295,
    "start_time": "2024-04-21T19:26:10.087Z"
   },
   {
    "duration": 2,
    "start_time": "2024-04-21T19:26:10.384Z"
   },
   {
    "duration": 26,
    "start_time": "2024-04-21T19:26:10.388Z"
   },
   {
    "duration": 17,
    "start_time": "2024-04-21T19:26:10.415Z"
   },
   {
    "duration": 14,
    "start_time": "2024-04-21T19:26:10.433Z"
   },
   {
    "duration": 107,
    "start_time": "2024-04-21T19:47:44.548Z"
   },
   {
    "duration": 49,
    "start_time": "2024-04-22T07:59:34.785Z"
   },
   {
    "duration": 8,
    "start_time": "2024-04-22T08:00:23.056Z"
   },
   {
    "duration": 413,
    "start_time": "2024-04-22T08:00:34.857Z"
   },
   {
    "duration": 3,
    "start_time": "2024-04-22T08:00:35.272Z"
   },
   {
    "duration": 602,
    "start_time": "2024-04-22T08:00:35.279Z"
   },
   {
    "duration": 3,
    "start_time": "2024-04-22T08:00:35.883Z"
   },
   {
    "duration": 49,
    "start_time": "2024-04-22T08:00:35.887Z"
   },
   {
    "duration": 24,
    "start_time": "2024-04-22T08:00:35.938Z"
   },
   {
    "duration": 26,
    "start_time": "2024-04-22T08:00:35.964Z"
   },
   {
    "duration": 13,
    "start_time": "2024-04-22T08:00:35.991Z"
   },
   {
    "duration": 75,
    "start_time": "2024-04-22T08:00:36.005Z"
   },
   {
    "duration": 7,
    "start_time": "2024-04-22T08:04:32.515Z"
   },
   {
    "duration": 5,
    "start_time": "2024-04-22T08:10:52.112Z"
   },
   {
    "duration": 18,
    "start_time": "2024-04-22T08:15:11.425Z"
   },
   {
    "duration": 3,
    "start_time": "2024-04-22T08:21:11.584Z"
   },
   {
    "duration": 8,
    "start_time": "2024-04-22T08:23:46.527Z"
   },
   {
    "duration": 4,
    "start_time": "2024-04-22T08:26:30.410Z"
   },
   {
    "duration": 8,
    "start_time": "2024-04-22T08:26:54.546Z"
   },
   {
    "duration": 4,
    "start_time": "2024-04-22T08:29:41.347Z"
   },
   {
    "duration": 4,
    "start_time": "2024-04-22T08:30:10.996Z"
   },
   {
    "duration": 4,
    "start_time": "2024-04-22T08:32:58.024Z"
   },
   {
    "duration": 4,
    "start_time": "2024-04-22T08:33:48.125Z"
   },
   {
    "duration": 60,
    "start_time": "2024-04-22T08:34:48.147Z"
   },
   {
    "duration": 12,
    "start_time": "2024-04-22T08:34:51.833Z"
   },
   {
    "duration": 13,
    "start_time": "2024-04-22T08:39:57.926Z"
   },
   {
    "duration": 7,
    "start_time": "2024-04-22T08:40:16.844Z"
   },
   {
    "duration": 6,
    "start_time": "2024-04-22T08:40:46.894Z"
   },
   {
    "duration": 53,
    "start_time": "2024-04-22T08:41:04.729Z"
   },
   {
    "duration": 19,
    "start_time": "2024-04-22T08:41:15.498Z"
   },
   {
    "duration": 5,
    "start_time": "2024-04-22T08:44:11.387Z"
   },
   {
    "duration": 15,
    "start_time": "2024-04-22T08:57:21.773Z"
   },
   {
    "duration": 12,
    "start_time": "2024-04-22T08:57:53.164Z"
   },
   {
    "duration": 6,
    "start_time": "2024-04-22T09:05:57.854Z"
   },
   {
    "duration": 64,
    "start_time": "2024-04-22T09:06:46.325Z"
   },
   {
    "duration": 4,
    "start_time": "2024-04-22T09:08:20.412Z"
   },
   {
    "duration": 18,
    "start_time": "2024-04-22T09:10:03.409Z"
   },
   {
    "duration": 362,
    "start_time": "2024-04-22T09:12:22.395Z"
   },
   {
    "duration": 2,
    "start_time": "2024-04-22T09:12:22.760Z"
   },
   {
    "duration": 796,
    "start_time": "2024-04-22T09:12:22.764Z"
   },
   {
    "duration": 3,
    "start_time": "2024-04-22T09:12:23.561Z"
   },
   {
    "duration": 52,
    "start_time": "2024-04-22T09:12:23.565Z"
   },
   {
    "duration": 14,
    "start_time": "2024-04-22T09:12:23.618Z"
   },
   {
    "duration": 26,
    "start_time": "2024-04-22T09:12:23.633Z"
   },
   {
    "duration": 14,
    "start_time": "2024-04-22T09:12:23.660Z"
   },
   {
    "duration": 9,
    "start_time": "2024-04-22T09:12:23.676Z"
   },
   {
    "duration": 20,
    "start_time": "2024-04-22T09:12:23.686Z"
   },
   {
    "duration": 11,
    "start_time": "2024-04-22T09:12:23.708Z"
   },
   {
    "duration": 3,
    "start_time": "2024-04-22T09:12:23.721Z"
   },
   {
    "duration": 14,
    "start_time": "2024-04-22T09:12:23.726Z"
   },
   {
    "duration": 53,
    "start_time": "2024-04-22T09:12:23.742Z"
   },
   {
    "duration": 0,
    "start_time": "2024-04-22T09:12:23.797Z"
   },
   {
    "duration": 0,
    "start_time": "2024-04-22T09:12:23.798Z"
   },
   {
    "duration": 0,
    "start_time": "2024-04-22T09:12:23.799Z"
   },
   {
    "duration": 0,
    "start_time": "2024-04-22T09:12:23.800Z"
   },
   {
    "duration": 0,
    "start_time": "2024-04-22T09:12:23.801Z"
   },
   {
    "duration": 0,
    "start_time": "2024-04-22T09:12:23.802Z"
   },
   {
    "duration": 0,
    "start_time": "2024-04-22T09:12:23.803Z"
   },
   {
    "duration": 367,
    "start_time": "2024-04-22T09:12:42.929Z"
   },
   {
    "duration": 2,
    "start_time": "2024-04-22T09:12:43.298Z"
   },
   {
    "duration": 181,
    "start_time": "2024-04-22T09:12:43.302Z"
   },
   {
    "duration": 2,
    "start_time": "2024-04-22T09:12:43.485Z"
   },
   {
    "duration": 24,
    "start_time": "2024-04-22T09:12:43.488Z"
   },
   {
    "duration": 4,
    "start_time": "2024-04-22T09:12:43.514Z"
   },
   {
    "duration": 17,
    "start_time": "2024-04-22T09:12:43.519Z"
   },
   {
    "duration": 29,
    "start_time": "2024-04-22T09:12:43.537Z"
   },
   {
    "duration": 3,
    "start_time": "2024-04-22T09:12:43.567Z"
   },
   {
    "duration": 13,
    "start_time": "2024-04-22T09:12:43.572Z"
   },
   {
    "duration": 14,
    "start_time": "2024-04-22T09:12:43.586Z"
   },
   {
    "duration": 4,
    "start_time": "2024-04-22T09:12:43.602Z"
   },
   {
    "duration": 6,
    "start_time": "2024-04-22T09:12:43.607Z"
   },
   {
    "duration": 10,
    "start_time": "2024-04-22T09:12:43.615Z"
   },
   {
    "duration": 43,
    "start_time": "2024-04-22T09:12:43.626Z"
   },
   {
    "duration": 4,
    "start_time": "2024-04-22T09:12:43.670Z"
   },
   {
    "duration": 12,
    "start_time": "2024-04-22T09:12:43.676Z"
   },
   {
    "duration": 8,
    "start_time": "2024-04-22T09:12:43.689Z"
   },
   {
    "duration": 12,
    "start_time": "2024-04-22T09:12:43.698Z"
   },
   {
    "duration": 56,
    "start_time": "2024-04-22T09:12:43.712Z"
   },
   {
    "duration": 413,
    "start_time": "2024-04-22T09:12:55.060Z"
   },
   {
    "duration": 3,
    "start_time": "2024-04-22T09:12:55.475Z"
   },
   {
    "duration": 190,
    "start_time": "2024-04-22T09:12:55.479Z"
   },
   {
    "duration": 2,
    "start_time": "2024-04-22T09:12:55.671Z"
   },
   {
    "duration": 29,
    "start_time": "2024-04-22T09:12:55.676Z"
   },
   {
    "duration": 9,
    "start_time": "2024-04-22T09:12:55.706Z"
   },
   {
    "duration": 39,
    "start_time": "2024-04-22T09:12:55.717Z"
   },
   {
    "duration": 15,
    "start_time": "2024-04-22T09:12:55.758Z"
   },
   {
    "duration": 3,
    "start_time": "2024-04-22T09:12:55.775Z"
   },
   {
    "duration": 19,
    "start_time": "2024-04-22T09:12:55.780Z"
   },
   {
    "duration": 8,
    "start_time": "2024-04-22T09:12:55.800Z"
   },
   {
    "duration": 4,
    "start_time": "2024-04-22T09:12:55.810Z"
   },
   {
    "duration": 6,
    "start_time": "2024-04-22T09:12:55.815Z"
   },
   {
    "duration": 14,
    "start_time": "2024-04-22T09:12:55.824Z"
   },
   {
    "duration": 36,
    "start_time": "2024-04-22T09:12:55.839Z"
   },
   {
    "duration": 11,
    "start_time": "2024-04-22T09:12:55.877Z"
   },
   {
    "duration": 24,
    "start_time": "2024-04-22T09:12:55.889Z"
   },
   {
    "duration": 15,
    "start_time": "2024-04-22T09:12:55.915Z"
   },
   {
    "duration": 6,
    "start_time": "2024-04-22T09:12:55.931Z"
   },
   {
    "duration": 4,
    "start_time": "2024-04-22T09:23:30.797Z"
   },
   {
    "duration": 4,
    "start_time": "2024-04-22T09:23:37.530Z"
   },
   {
    "duration": 7,
    "start_time": "2024-04-22T09:23:54.531Z"
   },
   {
    "duration": 6,
    "start_time": "2024-04-22T09:24:24.692Z"
   },
   {
    "duration": 5,
    "start_time": "2024-04-22T09:24:48.711Z"
   },
   {
    "duration": 6,
    "start_time": "2024-04-22T09:24:56.754Z"
   },
   {
    "duration": 614,
    "start_time": "2024-04-22T09:25:10.414Z"
   },
   {
    "duration": 136,
    "start_time": "2024-04-22T09:25:54.820Z"
   },
   {
    "duration": 125,
    "start_time": "2024-04-22T09:26:07.400Z"
   },
   {
    "duration": 216,
    "start_time": "2024-04-22T09:26:23.658Z"
   },
   {
    "duration": 180,
    "start_time": "2024-04-22T09:26:37.116Z"
   },
   {
    "duration": 112,
    "start_time": "2024-04-22T09:28:02.225Z"
   },
   {
    "duration": 118,
    "start_time": "2024-04-22T09:28:42.440Z"
   },
   {
    "duration": 126,
    "start_time": "2024-04-22T09:29:34.328Z"
   },
   {
    "duration": 9,
    "start_time": "2024-04-22T09:38:36.550Z"
   },
   {
    "duration": 3,
    "start_time": "2024-04-22T09:39:25.680Z"
   },
   {
    "duration": 651,
    "start_time": "2024-04-22T09:39:31.279Z"
   },
   {
    "duration": 3,
    "start_time": "2024-04-22T09:39:31.932Z"
   },
   {
    "duration": 329,
    "start_time": "2024-04-22T09:39:31.936Z"
   },
   {
    "duration": 2,
    "start_time": "2024-04-22T09:39:32.267Z"
   },
   {
    "duration": 31,
    "start_time": "2024-04-22T09:39:32.272Z"
   },
   {
    "duration": 16,
    "start_time": "2024-04-22T09:39:32.304Z"
   },
   {
    "duration": 52,
    "start_time": "2024-04-22T09:39:32.322Z"
   },
   {
    "duration": 22,
    "start_time": "2024-04-22T09:39:32.376Z"
   },
   {
    "duration": 19,
    "start_time": "2024-04-22T09:39:32.400Z"
   },
   {
    "duration": 12,
    "start_time": "2024-04-22T09:39:32.420Z"
   },
   {
    "duration": 29,
    "start_time": "2024-04-22T09:39:32.434Z"
   },
   {
    "duration": 18,
    "start_time": "2024-04-22T09:39:32.465Z"
   },
   {
    "duration": 13,
    "start_time": "2024-04-22T09:39:32.485Z"
   },
   {
    "duration": 17,
    "start_time": "2024-04-22T09:39:32.501Z"
   },
   {
    "duration": 19,
    "start_time": "2024-04-22T09:39:32.519Z"
   },
   {
    "duration": 6,
    "start_time": "2024-04-22T09:39:32.540Z"
   },
   {
    "duration": 28,
    "start_time": "2024-04-22T09:39:32.548Z"
   },
   {
    "duration": 31,
    "start_time": "2024-04-22T09:39:32.578Z"
   },
   {
    "duration": 6,
    "start_time": "2024-04-22T09:39:32.611Z"
   },
   {
    "duration": 72,
    "start_time": "2024-04-22T09:39:32.618Z"
   },
   {
    "duration": 155,
    "start_time": "2024-04-22T09:40:11.151Z"
   },
   {
    "duration": 150,
    "start_time": "2024-04-22T09:40:59.932Z"
   },
   {
    "duration": 138,
    "start_time": "2024-04-22T09:41:11.328Z"
   },
   {
    "duration": 141,
    "start_time": "2024-04-22T09:41:42.071Z"
   },
   {
    "duration": 625,
    "start_time": "2024-04-22T09:43:20.393Z"
   },
   {
    "duration": 3,
    "start_time": "2024-04-22T09:43:21.020Z"
   },
   {
    "duration": 210,
    "start_time": "2024-04-22T09:43:21.024Z"
   },
   {
    "duration": 2,
    "start_time": "2024-04-22T09:43:21.236Z"
   },
   {
    "duration": 23,
    "start_time": "2024-04-22T09:43:21.240Z"
   },
   {
    "duration": 8,
    "start_time": "2024-04-22T09:43:21.265Z"
   },
   {
    "duration": 24,
    "start_time": "2024-04-22T09:43:21.274Z"
   },
   {
    "duration": 13,
    "start_time": "2024-04-22T09:43:21.299Z"
   },
   {
    "duration": 13,
    "start_time": "2024-04-22T09:43:21.313Z"
   },
   {
    "duration": 33,
    "start_time": "2024-04-22T09:43:21.328Z"
   },
   {
    "duration": 10,
    "start_time": "2024-04-22T09:43:21.363Z"
   },
   {
    "duration": 4,
    "start_time": "2024-04-22T09:43:21.375Z"
   },
   {
    "duration": 13,
    "start_time": "2024-04-22T09:43:21.380Z"
   },
   {
    "duration": 14,
    "start_time": "2024-04-22T09:43:21.395Z"
   },
   {
    "duration": 13,
    "start_time": "2024-04-22T09:43:21.411Z"
   },
   {
    "duration": 8,
    "start_time": "2024-04-22T09:43:21.425Z"
   },
   {
    "duration": 33,
    "start_time": "2024-04-22T09:43:21.434Z"
   },
   {
    "duration": 5,
    "start_time": "2024-04-22T09:43:21.469Z"
   },
   {
    "duration": 36,
    "start_time": "2024-04-22T09:43:21.476Z"
   },
   {
    "duration": 174,
    "start_time": "2024-04-22T09:43:21.514Z"
   },
   {
    "duration": 122,
    "start_time": "2024-04-22T09:48:48.251Z"
   },
   {
    "duration": 130,
    "start_time": "2024-04-22T09:50:09.223Z"
   },
   {
    "duration": 116,
    "start_time": "2024-04-22T09:50:16.281Z"
   },
   {
    "duration": 164,
    "start_time": "2024-04-22T09:50:39.355Z"
   },
   {
    "duration": 151,
    "start_time": "2024-04-22T09:58:52.601Z"
   },
   {
    "duration": 153,
    "start_time": "2024-04-22T10:00:10.783Z"
   },
   {
    "duration": 145,
    "start_time": "2024-04-22T10:00:55.228Z"
   },
   {
    "duration": 125,
    "start_time": "2024-04-22T10:01:14.674Z"
   },
   {
    "duration": 148,
    "start_time": "2024-04-22T10:01:32.945Z"
   },
   {
    "duration": 79,
    "start_time": "2024-04-22T10:01:59.931Z"
   },
   {
    "duration": 152,
    "start_time": "2024-04-22T10:02:10.098Z"
   },
   {
    "duration": 197,
    "start_time": "2024-04-22T10:03:00.645Z"
   },
   {
    "duration": 163,
    "start_time": "2024-04-22T10:03:10.685Z"
   },
   {
    "duration": 1424,
    "start_time": "2024-04-22T10:06:02.750Z"
   },
   {
    "duration": 2,
    "start_time": "2024-04-22T10:06:04.176Z"
   },
   {
    "duration": 210,
    "start_time": "2024-04-22T10:06:04.180Z"
   },
   {
    "duration": 2,
    "start_time": "2024-04-22T10:06:04.392Z"
   },
   {
    "duration": 24,
    "start_time": "2024-04-22T10:06:04.395Z"
   },
   {
    "duration": 9,
    "start_time": "2024-04-22T10:06:04.421Z"
   },
   {
    "duration": 29,
    "start_time": "2024-04-22T10:06:04.432Z"
   },
   {
    "duration": 13,
    "start_time": "2024-04-22T10:06:04.463Z"
   },
   {
    "duration": 12,
    "start_time": "2024-04-22T10:06:04.477Z"
   },
   {
    "duration": 17,
    "start_time": "2024-04-22T10:06:04.491Z"
   },
   {
    "duration": 9,
    "start_time": "2024-04-22T10:06:04.510Z"
   },
   {
    "duration": 4,
    "start_time": "2024-04-22T10:06:04.520Z"
   },
   {
    "duration": 10,
    "start_time": "2024-04-22T10:06:04.525Z"
   },
   {
    "duration": 13,
    "start_time": "2024-04-22T10:06:04.536Z"
   },
   {
    "duration": 22,
    "start_time": "2024-04-22T10:06:04.551Z"
   },
   {
    "duration": 4,
    "start_time": "2024-04-22T10:06:04.574Z"
   },
   {
    "duration": 19,
    "start_time": "2024-04-22T10:06:04.579Z"
   },
   {
    "duration": 6,
    "start_time": "2024-04-22T10:06:04.599Z"
   },
   {
    "duration": 5,
    "start_time": "2024-04-22T10:06:04.606Z"
   },
   {
    "duration": 192,
    "start_time": "2024-04-22T10:06:04.612Z"
   },
   {
    "duration": 140,
    "start_time": "2024-04-22T10:06:04.805Z"
   },
   {
    "duration": 194,
    "start_time": "2024-04-22T10:06:04.947Z"
   },
   {
    "duration": 177,
    "start_time": "2024-04-22T10:14:39.855Z"
   },
   {
    "duration": 1951,
    "start_time": "2024-04-22T10:16:08.514Z"
   },
   {
    "duration": 176,
    "start_time": "2024-04-22T10:16:56.853Z"
   },
   {
    "duration": 179,
    "start_time": "2024-04-22T10:17:56.611Z"
   },
   {
    "duration": 190,
    "start_time": "2024-04-22T10:21:55.624Z"
   },
   {
    "duration": 190,
    "start_time": "2024-04-22T10:29:14.579Z"
   },
   {
    "duration": 650,
    "start_time": "2024-04-22T10:31:21.526Z"
   },
   {
    "duration": 4,
    "start_time": "2024-04-22T10:31:22.178Z"
   },
   {
    "duration": 312,
    "start_time": "2024-04-22T10:31:22.183Z"
   },
   {
    "duration": 2,
    "start_time": "2024-04-22T10:31:22.497Z"
   },
   {
    "duration": 44,
    "start_time": "2024-04-22T10:31:22.501Z"
   },
   {
    "duration": 5,
    "start_time": "2024-04-22T10:31:22.546Z"
   },
   {
    "duration": 25,
    "start_time": "2024-04-22T10:31:22.552Z"
   },
   {
    "duration": 38,
    "start_time": "2024-04-22T10:31:22.578Z"
   },
   {
    "duration": 5,
    "start_time": "2024-04-22T10:31:22.617Z"
   },
   {
    "duration": 29,
    "start_time": "2024-04-22T10:31:22.623Z"
   },
   {
    "duration": 8,
    "start_time": "2024-04-22T10:31:22.654Z"
   },
   {
    "duration": 4,
    "start_time": "2024-04-22T10:31:22.663Z"
   },
   {
    "duration": 7,
    "start_time": "2024-04-22T10:31:22.668Z"
   },
   {
    "duration": 9,
    "start_time": "2024-04-22T10:31:22.677Z"
   },
   {
    "duration": 13,
    "start_time": "2024-04-22T10:31:22.687Z"
   },
   {
    "duration": 4,
    "start_time": "2024-04-22T10:31:22.701Z"
   },
   {
    "duration": 16,
    "start_time": "2024-04-22T10:31:22.706Z"
   },
   {
    "duration": 25,
    "start_time": "2024-04-22T10:31:22.723Z"
   },
   {
    "duration": 4,
    "start_time": "2024-04-22T10:31:22.750Z"
   },
   {
    "duration": 160,
    "start_time": "2024-04-22T10:31:22.765Z"
   },
   {
    "duration": 119,
    "start_time": "2024-04-22T10:31:22.927Z"
   },
   {
    "duration": 177,
    "start_time": "2024-04-22T10:31:23.047Z"
   },
   {
    "duration": 192,
    "start_time": "2024-04-22T10:31:23.225Z"
   },
   {
    "duration": 266,
    "start_time": "2024-04-22T10:31:23.418Z"
   },
   {
    "duration": 671,
    "start_time": "2024-04-22T10:31:34.548Z"
   },
   {
    "duration": 3,
    "start_time": "2024-04-22T10:31:35.221Z"
   },
   {
    "duration": 237,
    "start_time": "2024-04-22T10:31:35.226Z"
   },
   {
    "duration": 2,
    "start_time": "2024-04-22T10:31:35.465Z"
   },
   {
    "duration": 58,
    "start_time": "2024-04-22T10:31:35.469Z"
   },
   {
    "duration": 49,
    "start_time": "2024-04-22T10:31:35.533Z"
   },
   {
    "duration": 56,
    "start_time": "2024-04-22T10:31:35.584Z"
   },
   {
    "duration": 61,
    "start_time": "2024-04-22T10:31:35.641Z"
   },
   {
    "duration": 27,
    "start_time": "2024-04-22T10:31:35.704Z"
   },
   {
    "duration": 32,
    "start_time": "2024-04-22T10:31:35.733Z"
   },
   {
    "duration": 41,
    "start_time": "2024-04-22T10:31:35.767Z"
   },
   {
    "duration": 4,
    "start_time": "2024-04-22T10:31:35.810Z"
   },
   {
    "duration": 18,
    "start_time": "2024-04-22T10:31:35.815Z"
   },
   {
    "duration": 14,
    "start_time": "2024-04-22T10:31:35.836Z"
   },
   {
    "duration": 15,
    "start_time": "2024-04-22T10:31:35.851Z"
   },
   {
    "duration": 4,
    "start_time": "2024-04-22T10:31:35.868Z"
   },
   {
    "duration": 29,
    "start_time": "2024-04-22T10:31:35.874Z"
   },
   {
    "duration": 8,
    "start_time": "2024-04-22T10:31:35.905Z"
   },
   {
    "duration": 25,
    "start_time": "2024-04-22T10:31:35.915Z"
   },
   {
    "duration": 171,
    "start_time": "2024-04-22T10:31:35.942Z"
   },
   {
    "duration": 142,
    "start_time": "2024-04-22T10:31:36.115Z"
   },
   {
    "duration": 185,
    "start_time": "2024-04-22T10:31:36.259Z"
   },
   {
    "duration": 196,
    "start_time": "2024-04-22T10:31:36.445Z"
   },
   {
    "duration": 267,
    "start_time": "2024-04-22T10:31:36.642Z"
   },
   {
    "duration": 571,
    "start_time": "2024-04-22T11:13:34.126Z"
   },
   {
    "duration": 3,
    "start_time": "2024-04-22T11:13:34.699Z"
   },
   {
    "duration": 228,
    "start_time": "2024-04-22T11:13:34.703Z"
   },
   {
    "duration": 3,
    "start_time": "2024-04-22T11:13:34.932Z"
   },
   {
    "duration": 32,
    "start_time": "2024-04-22T11:13:34.937Z"
   },
   {
    "duration": 33,
    "start_time": "2024-04-22T11:13:34.971Z"
   },
   {
    "duration": 60,
    "start_time": "2024-04-22T11:13:35.005Z"
   },
   {
    "duration": 44,
    "start_time": "2024-04-22T11:13:35.066Z"
   },
   {
    "duration": 32,
    "start_time": "2024-04-22T11:13:35.112Z"
   },
   {
    "duration": 46,
    "start_time": "2024-04-22T11:13:35.146Z"
   },
   {
    "duration": 14,
    "start_time": "2024-04-22T11:13:35.193Z"
   },
   {
    "duration": 26,
    "start_time": "2024-04-22T11:13:35.208Z"
   },
   {
    "duration": 32,
    "start_time": "2024-04-22T11:13:35.236Z"
   },
   {
    "duration": 37,
    "start_time": "2024-04-22T11:13:35.271Z"
   },
   {
    "duration": 32,
    "start_time": "2024-04-22T11:13:35.310Z"
   },
   {
    "duration": 34,
    "start_time": "2024-04-22T11:13:35.344Z"
   },
   {
    "duration": 20,
    "start_time": "2024-04-22T11:13:35.380Z"
   },
   {
    "duration": 21,
    "start_time": "2024-04-22T11:13:35.401Z"
   },
   {
    "duration": 35,
    "start_time": "2024-04-22T11:13:35.424Z"
   },
   {
    "duration": 171,
    "start_time": "2024-04-22T11:13:35.461Z"
   },
   {
    "duration": 138,
    "start_time": "2024-04-22T11:13:35.634Z"
   },
   {
    "duration": 185,
    "start_time": "2024-04-22T11:13:35.773Z"
   },
   {
    "duration": 191,
    "start_time": "2024-04-22T11:13:35.960Z"
   },
   {
    "duration": 247,
    "start_time": "2024-04-22T11:13:36.153Z"
   },
   {
    "duration": 62,
    "start_time": "2024-04-22T11:13:36.402Z"
   },
   {
    "duration": 21,
    "start_time": "2024-04-22T11:20:05.075Z"
   },
   {
    "duration": 29,
    "start_time": "2024-04-22T11:23:01.308Z"
   },
   {
    "duration": 19,
    "start_time": "2024-04-22T11:24:09.771Z"
   },
   {
    "duration": 59,
    "start_time": "2024-04-22T11:31:47.414Z"
   },
   {
    "duration": 7,
    "start_time": "2024-04-22T11:31:59.206Z"
   },
   {
    "duration": 14,
    "start_time": "2024-04-22T11:32:18.320Z"
   },
   {
    "duration": 13,
    "start_time": "2024-04-22T11:33:16.477Z"
   },
   {
    "duration": 601,
    "start_time": "2024-04-22T11:34:42.727Z"
   },
   {
    "duration": 3,
    "start_time": "2024-04-22T11:34:43.330Z"
   },
   {
    "duration": 350,
    "start_time": "2024-04-22T11:34:43.335Z"
   },
   {
    "duration": 2,
    "start_time": "2024-04-22T11:34:43.687Z"
   },
   {
    "duration": 42,
    "start_time": "2024-04-22T11:34:43.692Z"
   },
   {
    "duration": 4,
    "start_time": "2024-04-22T11:34:43.736Z"
   },
   {
    "duration": 32,
    "start_time": "2024-04-22T11:34:43.742Z"
   },
   {
    "duration": 14,
    "start_time": "2024-04-22T11:34:43.775Z"
   },
   {
    "duration": 3,
    "start_time": "2024-04-22T11:34:43.791Z"
   },
   {
    "duration": 16,
    "start_time": "2024-04-22T11:34:43.795Z"
   },
   {
    "duration": 9,
    "start_time": "2024-04-22T11:34:43.813Z"
   },
   {
    "duration": 4,
    "start_time": "2024-04-22T11:34:43.823Z"
   },
   {
    "duration": 30,
    "start_time": "2024-04-22T11:34:43.828Z"
   },
   {
    "duration": 29,
    "start_time": "2024-04-22T11:34:43.860Z"
   },
   {
    "duration": 14,
    "start_time": "2024-04-22T11:34:43.891Z"
   },
   {
    "duration": 5,
    "start_time": "2024-04-22T11:34:43.906Z"
   },
   {
    "duration": 27,
    "start_time": "2024-04-22T11:34:43.912Z"
   },
   {
    "duration": 17,
    "start_time": "2024-04-22T11:34:43.940Z"
   },
   {
    "duration": 9,
    "start_time": "2024-04-22T11:34:43.959Z"
   },
   {
    "duration": 152,
    "start_time": "2024-04-22T11:34:43.969Z"
   },
   {
    "duration": 133,
    "start_time": "2024-04-22T11:34:44.123Z"
   },
   {
    "duration": 171,
    "start_time": "2024-04-22T11:34:44.257Z"
   },
   {
    "duration": 190,
    "start_time": "2024-04-22T11:34:44.429Z"
   },
   {
    "duration": 249,
    "start_time": "2024-04-22T11:34:44.620Z"
   },
   {
    "duration": 29,
    "start_time": "2024-04-22T11:34:44.870Z"
   },
   {
    "duration": 17,
    "start_time": "2024-04-22T11:34:44.900Z"
   },
   {
    "duration": 18,
    "start_time": "2024-04-22T11:34:44.918Z"
   },
   {
    "duration": 36,
    "start_time": "2024-04-22T11:34:44.937Z"
   },
   {
    "duration": 14,
    "start_time": "2024-04-22T11:36:08.075Z"
   },
   {
    "duration": 110,
    "start_time": "2024-04-22T11:36:14.255Z"
   },
   {
    "duration": 4,
    "start_time": "2024-04-22T11:37:06.432Z"
   },
   {
    "duration": 86,
    "start_time": "2024-04-22T11:38:09.974Z"
   },
   {
    "duration": 101,
    "start_time": "2024-04-22T12:08:38.006Z"
   },
   {
    "duration": 59,
    "start_time": "2024-04-22T12:09:56.457Z"
   },
   {
    "duration": 79,
    "start_time": "2024-04-22T12:10:49.288Z"
   },
   {
    "duration": 108,
    "start_time": "2024-04-22T12:11:29.571Z"
   },
   {
    "duration": 74,
    "start_time": "2024-04-22T12:12:42.471Z"
   },
   {
    "duration": 55,
    "start_time": "2024-04-22T12:13:24.111Z"
   },
   {
    "duration": 615,
    "start_time": "2024-04-22T12:13:33.616Z"
   },
   {
    "duration": 3,
    "start_time": "2024-04-22T12:13:34.233Z"
   },
   {
    "duration": 204,
    "start_time": "2024-04-22T12:13:34.237Z"
   },
   {
    "duration": 3,
    "start_time": "2024-04-22T12:13:34.443Z"
   },
   {
    "duration": 34,
    "start_time": "2024-04-22T12:13:34.448Z"
   },
   {
    "duration": 5,
    "start_time": "2024-04-22T12:13:34.484Z"
   },
   {
    "duration": 31,
    "start_time": "2024-04-22T12:13:34.490Z"
   },
   {
    "duration": 18,
    "start_time": "2024-04-22T12:13:34.523Z"
   },
   {
    "duration": 4,
    "start_time": "2024-04-22T12:13:34.543Z"
   },
   {
    "duration": 16,
    "start_time": "2024-04-22T12:13:34.549Z"
   },
   {
    "duration": 8,
    "start_time": "2024-04-22T12:13:34.566Z"
   },
   {
    "duration": 4,
    "start_time": "2024-04-22T12:13:34.576Z"
   },
   {
    "duration": 8,
    "start_time": "2024-04-22T12:13:34.581Z"
   },
   {
    "duration": 16,
    "start_time": "2024-04-22T12:13:34.591Z"
   },
   {
    "duration": 13,
    "start_time": "2024-04-22T12:13:34.609Z"
   },
   {
    "duration": 14,
    "start_time": "2024-04-22T12:13:34.623Z"
   },
   {
    "duration": 29,
    "start_time": "2024-04-22T12:13:34.638Z"
   },
   {
    "duration": 5,
    "start_time": "2024-04-22T12:13:34.669Z"
   },
   {
    "duration": 22,
    "start_time": "2024-04-22T12:13:34.675Z"
   },
   {
    "duration": 155,
    "start_time": "2024-04-22T12:13:34.698Z"
   },
   {
    "duration": 135,
    "start_time": "2024-04-22T12:13:34.855Z"
   },
   {
    "duration": 177,
    "start_time": "2024-04-22T12:13:34.992Z"
   },
   {
    "duration": 196,
    "start_time": "2024-04-22T12:13:35.170Z"
   },
   {
    "duration": 245,
    "start_time": "2024-04-22T12:13:35.367Z"
   },
   {
    "duration": 32,
    "start_time": "2024-04-22T12:13:35.613Z"
   },
   {
    "duration": 38,
    "start_time": "2024-04-22T12:13:35.647Z"
   },
   {
    "duration": 28,
    "start_time": "2024-04-22T12:13:35.687Z"
   },
   {
    "duration": 30,
    "start_time": "2024-04-22T12:13:35.719Z"
   },
   {
    "duration": 14,
    "start_time": "2024-04-22T12:13:35.751Z"
   },
   {
    "duration": 84,
    "start_time": "2024-04-22T12:13:35.767Z"
   },
   {
    "duration": 289,
    "start_time": "2024-04-22T12:14:59.946Z"
   },
   {
    "duration": 268,
    "start_time": "2024-04-22T12:15:24.759Z"
   },
   {
    "duration": 249,
    "start_time": "2024-04-22T12:15:37.823Z"
   },
   {
    "duration": 236,
    "start_time": "2024-04-22T12:19:21.180Z"
   },
   {
    "duration": 244,
    "start_time": "2024-04-22T12:26:23.541Z"
   },
   {
    "duration": 303,
    "start_time": "2024-04-22T12:35:59.230Z"
   },
   {
    "duration": 178,
    "start_time": "2024-04-22T12:36:23.422Z"
   },
   {
    "duration": 176,
    "start_time": "2024-04-22T12:36:46.217Z"
   },
   {
    "duration": 182,
    "start_time": "2024-04-22T12:36:59.521Z"
   },
   {
    "duration": 126,
    "start_time": "2024-04-22T12:37:12.662Z"
   },
   {
    "duration": 140,
    "start_time": "2024-04-22T12:37:25.358Z"
   },
   {
    "duration": 146,
    "start_time": "2024-04-22T12:37:29.517Z"
   },
   {
    "duration": 625,
    "start_time": "2024-04-22T12:37:46.919Z"
   },
   {
    "duration": 3,
    "start_time": "2024-04-22T12:37:47.546Z"
   },
   {
    "duration": 360,
    "start_time": "2024-04-22T12:37:47.551Z"
   },
   {
    "duration": 2,
    "start_time": "2024-04-22T12:37:47.913Z"
   },
   {
    "duration": 26,
    "start_time": "2024-04-22T12:37:47.918Z"
   },
   {
    "duration": 5,
    "start_time": "2024-04-22T12:37:47.946Z"
   },
   {
    "duration": 19,
    "start_time": "2024-04-22T12:37:47.952Z"
   },
   {
    "duration": 14,
    "start_time": "2024-04-22T12:37:47.972Z"
   },
   {
    "duration": 8,
    "start_time": "2024-04-22T12:37:47.987Z"
   },
   {
    "duration": 8,
    "start_time": "2024-04-22T12:37:47.996Z"
   },
   {
    "duration": 10,
    "start_time": "2024-04-22T12:37:48.005Z"
   },
   {
    "duration": 5,
    "start_time": "2024-04-22T12:37:48.016Z"
   },
   {
    "duration": 5,
    "start_time": "2024-04-22T12:37:48.022Z"
   },
   {
    "duration": 10,
    "start_time": "2024-04-22T12:37:48.065Z"
   },
   {
    "duration": 14,
    "start_time": "2024-04-22T12:37:48.076Z"
   },
   {
    "duration": 4,
    "start_time": "2024-04-22T12:37:48.091Z"
   },
   {
    "duration": 13,
    "start_time": "2024-04-22T12:37:48.097Z"
   },
   {
    "duration": 5,
    "start_time": "2024-04-22T12:37:48.111Z"
   },
   {
    "duration": 5,
    "start_time": "2024-04-22T12:37:48.118Z"
   },
   {
    "duration": 167,
    "start_time": "2024-04-22T12:37:48.165Z"
   },
   {
    "duration": 142,
    "start_time": "2024-04-22T12:37:48.334Z"
   },
   {
    "duration": 237,
    "start_time": "2024-04-22T12:37:48.477Z"
   },
   {
    "duration": 213,
    "start_time": "2024-04-22T12:37:48.716Z"
   },
   {
    "duration": 261,
    "start_time": "2024-04-22T12:37:48.930Z"
   },
   {
    "duration": 29,
    "start_time": "2024-04-22T12:37:49.193Z"
   },
   {
    "duration": 18,
    "start_time": "2024-04-22T12:37:49.224Z"
   },
   {
    "duration": 15,
    "start_time": "2024-04-22T12:37:49.266Z"
   },
   {
    "duration": 13,
    "start_time": "2024-04-22T12:37:49.283Z"
   },
   {
    "duration": 5,
    "start_time": "2024-04-22T12:37:49.297Z"
   },
   {
    "duration": 252,
    "start_time": "2024-04-22T12:37:49.303Z"
   },
   {
    "duration": 276,
    "start_time": "2024-04-22T12:37:49.557Z"
   },
   {
    "duration": 641,
    "start_time": "2024-04-22T18:47:47.827Z"
   },
   {
    "duration": 4,
    "start_time": "2024-04-22T18:47:48.471Z"
   },
   {
    "duration": 298,
    "start_time": "2024-04-22T18:47:48.478Z"
   },
   {
    "duration": 3,
    "start_time": "2024-04-22T18:47:48.778Z"
   },
   {
    "duration": 47,
    "start_time": "2024-04-22T18:47:48.783Z"
   },
   {
    "duration": 5,
    "start_time": "2024-04-22T18:47:48.831Z"
   },
   {
    "duration": 29,
    "start_time": "2024-04-22T18:47:48.837Z"
   },
   {
    "duration": 22,
    "start_time": "2024-04-22T18:47:48.867Z"
   },
   {
    "duration": 5,
    "start_time": "2024-04-22T18:47:48.890Z"
   },
   {
    "duration": 11,
    "start_time": "2024-04-22T18:47:48.896Z"
   },
   {
    "duration": 21,
    "start_time": "2024-04-22T18:47:48.909Z"
   },
   {
    "duration": 5,
    "start_time": "2024-04-22T18:47:48.932Z"
   },
   {
    "duration": 31,
    "start_time": "2024-04-22T18:47:48.939Z"
   },
   {
    "duration": 22,
    "start_time": "2024-04-22T18:47:48.975Z"
   },
   {
    "duration": 18,
    "start_time": "2024-04-22T18:47:49.000Z"
   },
   {
    "duration": 11,
    "start_time": "2024-04-22T18:47:49.020Z"
   },
   {
    "duration": 19,
    "start_time": "2024-04-22T18:47:49.033Z"
   },
   {
    "duration": 9,
    "start_time": "2024-04-22T18:47:49.066Z"
   },
   {
    "duration": 17,
    "start_time": "2024-04-22T18:47:49.077Z"
   },
   {
    "duration": 183,
    "start_time": "2024-04-22T18:47:49.095Z"
   },
   {
    "duration": 168,
    "start_time": "2024-04-22T18:47:49.279Z"
   },
   {
    "duration": 235,
    "start_time": "2024-04-22T18:47:49.449Z"
   },
   {
    "duration": 221,
    "start_time": "2024-04-22T18:47:49.686Z"
   },
   {
    "duration": 268,
    "start_time": "2024-04-22T18:47:49.908Z"
   },
   {
    "duration": 31,
    "start_time": "2024-04-22T18:47:50.179Z"
   },
   {
    "duration": 17,
    "start_time": "2024-04-22T18:47:50.212Z"
   },
   {
    "duration": 52,
    "start_time": "2024-04-22T18:47:50.231Z"
   },
   {
    "duration": 20,
    "start_time": "2024-04-22T18:47:50.285Z"
   },
   {
    "duration": 4,
    "start_time": "2024-04-22T18:47:50.307Z"
   },
   {
    "duration": 268,
    "start_time": "2024-04-22T18:47:50.313Z"
   },
   {
    "duration": 266,
    "start_time": "2024-04-22T18:47:50.583Z"
   },
   {
    "duration": 2,
    "start_time": "2024-04-22T18:47:50.851Z"
   },
   {
    "duration": 24,
    "start_time": "2024-04-22T18:54:55.107Z"
   },
   {
    "duration": 41,
    "start_time": "2024-04-22T18:55:04.645Z"
   },
   {
    "duration": 21,
    "start_time": "2024-04-22T18:56:14.442Z"
   },
   {
    "duration": 94,
    "start_time": "2024-04-22T19:00:15.850Z"
   },
   {
    "duration": 22,
    "start_time": "2024-04-22T19:00:22.783Z"
   },
   {
    "duration": 44,
    "start_time": "2024-04-22T19:00:37.236Z"
   },
   {
    "duration": 30,
    "start_time": "2024-04-22T19:04:01.277Z"
   },
   {
    "duration": 35,
    "start_time": "2024-04-22T19:13:55.795Z"
   },
   {
    "duration": 109,
    "start_time": "2024-04-22T19:14:11.391Z"
   },
   {
    "duration": 38,
    "start_time": "2024-04-22T19:15:06.876Z"
   },
   {
    "duration": 21,
    "start_time": "2024-04-22T19:16:03.319Z"
   },
   {
    "duration": 30,
    "start_time": "2024-04-22T19:16:12.920Z"
   },
   {
    "duration": 3,
    "start_time": "2024-04-22T19:17:21.749Z"
   },
   {
    "duration": 4,
    "start_time": "2024-04-22T19:18:45.400Z"
   },
   {
    "duration": 1083,
    "start_time": "2024-04-22T20:10:39.585Z"
   },
   {
    "duration": 11,
    "start_time": "2024-04-22T20:11:32.499Z"
   },
   {
    "duration": 955,
    "start_time": "2024-04-22T20:11:52.015Z"
   },
   {
    "duration": 754,
    "start_time": "2024-04-22T20:12:27.999Z"
   },
   {
    "duration": 5,
    "start_time": "2024-04-22T21:11:54.644Z"
   },
   {
    "duration": 110,
    "start_time": "2024-04-22T21:12:13.514Z"
   },
   {
    "duration": 817,
    "start_time": "2024-04-22T21:12:19.167Z"
   },
   {
    "duration": 1372,
    "start_time": "2024-04-22T21:13:08.649Z"
   },
   {
    "duration": 28,
    "start_time": "2024-04-22T21:17:26.237Z"
   },
   {
    "duration": 637,
    "start_time": "2024-04-22T21:17:34.871Z"
   },
   {
    "duration": 4,
    "start_time": "2024-04-22T21:17:35.510Z"
   },
   {
    "duration": 294,
    "start_time": "2024-04-22T21:17:35.515Z"
   },
   {
    "duration": 3,
    "start_time": "2024-04-22T21:17:35.810Z"
   },
   {
    "duration": 33,
    "start_time": "2024-04-22T21:17:35.815Z"
   },
   {
    "duration": 7,
    "start_time": "2024-04-22T21:17:35.850Z"
   },
   {
    "duration": 55,
    "start_time": "2024-04-22T21:17:35.859Z"
   },
   {
    "duration": 29,
    "start_time": "2024-04-22T21:17:35.915Z"
   },
   {
    "duration": 18,
    "start_time": "2024-04-22T21:17:35.946Z"
   },
   {
    "duration": 23,
    "start_time": "2024-04-22T21:17:35.966Z"
   },
   {
    "duration": 18,
    "start_time": "2024-04-22T21:17:35.991Z"
   },
   {
    "duration": 14,
    "start_time": "2024-04-22T21:17:36.011Z"
   },
   {
    "duration": 14,
    "start_time": "2024-04-22T21:17:36.027Z"
   },
   {
    "duration": 33,
    "start_time": "2024-04-22T21:17:36.044Z"
   },
   {
    "duration": 22,
    "start_time": "2024-04-22T21:17:36.079Z"
   },
   {
    "duration": 4,
    "start_time": "2024-04-22T21:17:36.103Z"
   },
   {
    "duration": 22,
    "start_time": "2024-04-22T21:17:36.109Z"
   },
   {
    "duration": 12,
    "start_time": "2024-04-22T21:17:36.133Z"
   },
   {
    "duration": 20,
    "start_time": "2024-04-22T21:17:36.146Z"
   },
   {
    "duration": 158,
    "start_time": "2024-04-22T21:17:36.167Z"
   },
   {
    "duration": 135,
    "start_time": "2024-04-22T21:17:36.327Z"
   },
   {
    "duration": 183,
    "start_time": "2024-04-22T21:17:36.465Z"
   },
   {
    "duration": 207,
    "start_time": "2024-04-22T21:17:36.650Z"
   },
   {
    "duration": 238,
    "start_time": "2024-04-22T21:17:36.865Z"
   },
   {
    "duration": 30,
    "start_time": "2024-04-22T21:17:37.104Z"
   },
   {
    "duration": 30,
    "start_time": "2024-04-22T21:17:37.136Z"
   },
   {
    "duration": 21,
    "start_time": "2024-04-22T21:17:37.167Z"
   },
   {
    "duration": 27,
    "start_time": "2024-04-22T21:17:37.189Z"
   },
   {
    "duration": 6,
    "start_time": "2024-04-22T21:17:37.218Z"
   },
   {
    "duration": 242,
    "start_time": "2024-04-22T21:17:37.226Z"
   },
   {
    "duration": 244,
    "start_time": "2024-04-22T21:17:37.470Z"
   },
   {
    "duration": 88,
    "start_time": "2024-04-22T21:17:37.716Z"
   },
   {
    "duration": 0,
    "start_time": "2024-04-22T21:17:37.806Z"
   },
   {
    "duration": 22,
    "start_time": "2024-04-22T21:18:32.305Z"
   },
   {
    "duration": 25,
    "start_time": "2024-04-22T21:21:06.943Z"
   },
   {
    "duration": 27,
    "start_time": "2024-04-22T21:21:17.431Z"
   },
   {
    "duration": 31,
    "start_time": "2024-04-22T21:21:25.256Z"
   },
   {
    "duration": 24,
    "start_time": "2024-04-22T21:21:53.929Z"
   },
   {
    "duration": 22,
    "start_time": "2024-04-22T21:24:16.864Z"
   },
   {
    "duration": 1098,
    "start_time": "2024-04-22T21:25:34.439Z"
   },
   {
    "duration": 56,
    "start_time": "2024-04-22T21:25:45.313Z"
   },
   {
    "duration": 1007,
    "start_time": "2024-04-22T21:25:53.600Z"
   },
   {
    "duration": 53,
    "start_time": "2024-04-23T13:02:07.923Z"
   },
   {
    "duration": 9,
    "start_time": "2024-04-23T13:02:31.031Z"
   },
   {
    "duration": 827,
    "start_time": "2024-04-23T13:02:52.356Z"
   },
   {
    "duration": 3,
    "start_time": "2024-04-23T13:02:53.185Z"
   },
   {
    "duration": 526,
    "start_time": "2024-04-23T13:02:53.189Z"
   },
   {
    "duration": 3,
    "start_time": "2024-04-23T13:02:53.717Z"
   },
   {
    "duration": 37,
    "start_time": "2024-04-23T13:02:53.722Z"
   },
   {
    "duration": 38,
    "start_time": "2024-04-23T13:02:53.761Z"
   },
   {
    "duration": 24,
    "start_time": "2024-04-23T13:02:53.800Z"
   },
   {
    "duration": 27,
    "start_time": "2024-04-23T13:02:53.826Z"
   },
   {
    "duration": 16,
    "start_time": "2024-04-23T13:02:53.855Z"
   },
   {
    "duration": 13,
    "start_time": "2024-04-23T13:02:53.873Z"
   },
   {
    "duration": 10,
    "start_time": "2024-04-23T13:02:53.887Z"
   },
   {
    "duration": 12,
    "start_time": "2024-04-23T13:02:53.898Z"
   },
   {
    "duration": 18,
    "start_time": "2024-04-23T13:02:53.912Z"
   },
   {
    "duration": 25,
    "start_time": "2024-04-23T13:02:53.932Z"
   },
   {
    "duration": 17,
    "start_time": "2024-04-23T13:02:53.959Z"
   },
   {
    "duration": 4,
    "start_time": "2024-04-23T13:02:53.978Z"
   },
   {
    "duration": 56,
    "start_time": "2024-04-23T13:02:53.983Z"
   },
   {
    "duration": 15,
    "start_time": "2024-04-23T13:02:54.041Z"
   },
   {
    "duration": 16,
    "start_time": "2024-04-23T13:02:54.058Z"
   },
   {
    "duration": 174,
    "start_time": "2024-04-23T13:02:54.076Z"
   },
   {
    "duration": 141,
    "start_time": "2024-04-23T13:02:54.251Z"
   },
   {
    "duration": 186,
    "start_time": "2024-04-23T13:02:54.394Z"
   },
   {
    "duration": 214,
    "start_time": "2024-04-23T13:02:54.581Z"
   },
   {
    "duration": 266,
    "start_time": "2024-04-23T13:02:54.796Z"
   },
   {
    "duration": 43,
    "start_time": "2024-04-23T13:02:55.065Z"
   },
   {
    "duration": 19,
    "start_time": "2024-04-23T13:02:55.110Z"
   },
   {
    "duration": 16,
    "start_time": "2024-04-23T13:02:55.130Z"
   },
   {
    "duration": 13,
    "start_time": "2024-04-23T13:02:55.149Z"
   },
   {
    "duration": 29,
    "start_time": "2024-04-23T13:02:55.164Z"
   },
   {
    "duration": 254,
    "start_time": "2024-04-23T13:02:55.195Z"
   },
   {
    "duration": 273,
    "start_time": "2024-04-23T13:02:55.451Z"
   },
   {
    "duration": 32,
    "start_time": "2024-04-23T13:02:55.726Z"
   },
   {
    "duration": 1532,
    "start_time": "2024-04-23T13:02:55.760Z"
   },
   {
    "duration": 14,
    "start_time": "2024-04-23T13:03:30.905Z"
   },
   {
    "duration": 14,
    "start_time": "2024-04-23T13:29:34.864Z"
   },
   {
    "duration": 23,
    "start_time": "2024-04-23T13:46:43.240Z"
   },
   {
    "duration": 25,
    "start_time": "2024-04-23T14:13:32.708Z"
   },
   {
    "duration": 23,
    "start_time": "2024-04-23T14:13:53.704Z"
   },
   {
    "duration": 22,
    "start_time": "2024-04-23T14:15:43.392Z"
   },
   {
    "duration": 6,
    "start_time": "2024-04-23T14:27:22.843Z"
   },
   {
    "duration": 16,
    "start_time": "2024-04-23T14:27:40.279Z"
   },
   {
    "duration": 1614,
    "start_time": "2024-04-23T14:37:41.126Z"
   },
   {
    "duration": 23,
    "start_time": "2024-04-23T14:38:04.216Z"
   },
   {
    "duration": 16,
    "start_time": "2024-04-23T14:38:09.286Z"
   },
   {
    "duration": 16,
    "start_time": "2024-04-23T14:38:48.929Z"
   },
   {
    "duration": 22,
    "start_time": "2024-04-23T14:39:05.382Z"
   },
   {
    "duration": 24,
    "start_time": "2024-04-23T14:39:10.610Z"
   },
   {
    "duration": 10,
    "start_time": "2024-04-23T14:40:01.553Z"
   },
   {
    "duration": 685,
    "start_time": "2024-04-23T14:40:53.583Z"
   },
   {
    "duration": 3,
    "start_time": "2024-04-23T14:40:54.269Z"
   },
   {
    "duration": 471,
    "start_time": "2024-04-23T14:40:54.274Z"
   },
   {
    "duration": 2,
    "start_time": "2024-04-23T14:40:54.748Z"
   },
   {
    "duration": 26,
    "start_time": "2024-04-23T14:40:54.752Z"
   },
   {
    "duration": 5,
    "start_time": "2024-04-23T14:40:54.780Z"
   },
   {
    "duration": 21,
    "start_time": "2024-04-23T14:40:54.786Z"
   },
   {
    "duration": 15,
    "start_time": "2024-04-23T14:40:54.808Z"
   },
   {
    "duration": 10,
    "start_time": "2024-04-23T14:40:54.825Z"
   },
   {
    "duration": 7,
    "start_time": "2024-04-23T14:40:54.838Z"
   },
   {
    "duration": 10,
    "start_time": "2024-04-23T14:40:54.847Z"
   },
   {
    "duration": 33,
    "start_time": "2024-04-23T14:40:54.858Z"
   },
   {
    "duration": 5,
    "start_time": "2024-04-23T14:40:54.893Z"
   },
   {
    "duration": 14,
    "start_time": "2024-04-23T14:40:54.899Z"
   },
   {
    "duration": 16,
    "start_time": "2024-04-23T14:40:54.916Z"
   },
   {
    "duration": 5,
    "start_time": "2024-04-23T14:40:54.934Z"
   },
   {
    "duration": 18,
    "start_time": "2024-04-23T14:40:54.941Z"
   },
   {
    "duration": 7,
    "start_time": "2024-04-23T14:40:54.991Z"
   },
   {
    "duration": 9,
    "start_time": "2024-04-23T14:40:55.000Z"
   },
   {
    "duration": 195,
    "start_time": "2024-04-23T14:40:55.010Z"
   },
   {
    "duration": 141,
    "start_time": "2024-04-23T14:40:55.206Z"
   },
   {
    "duration": 205,
    "start_time": "2024-04-23T14:40:55.348Z"
   },
   {
    "duration": 213,
    "start_time": "2024-04-23T14:40:55.555Z"
   },
   {
    "duration": 274,
    "start_time": "2024-04-23T14:40:55.770Z"
   },
   {
    "duration": 32,
    "start_time": "2024-04-23T14:40:56.046Z"
   },
   {
    "duration": 30,
    "start_time": "2024-04-23T14:40:56.079Z"
   },
   {
    "duration": 16,
    "start_time": "2024-04-23T14:40:56.111Z"
   },
   {
    "duration": 14,
    "start_time": "2024-04-23T14:40:56.132Z"
   },
   {
    "duration": 5,
    "start_time": "2024-04-23T14:40:56.148Z"
   },
   {
    "duration": 274,
    "start_time": "2024-04-23T14:40:56.154Z"
   },
   {
    "duration": 271,
    "start_time": "2024-04-23T14:40:56.430Z"
   },
   {
    "duration": 35,
    "start_time": "2024-04-23T14:40:56.703Z"
   },
   {
    "duration": 25,
    "start_time": "2024-04-23T14:40:56.740Z"
   },
   {
    "duration": 39,
    "start_time": "2024-04-23T14:40:56.767Z"
   },
   {
    "duration": 412,
    "start_time": "2024-04-23T15:56:02.133Z"
   },
   {
    "duration": 98,
    "start_time": "2024-04-23T16:04:30.896Z"
   },
   {
    "duration": 7,
    "start_time": "2024-04-23T16:04:42.692Z"
   },
   {
    "duration": 9,
    "start_time": "2024-04-23T16:10:57.151Z"
   },
   {
    "duration": 6,
    "start_time": "2024-04-23T16:34:03.240Z"
   },
   {
    "duration": 7,
    "start_time": "2024-04-23T16:35:18.885Z"
   },
   {
    "duration": 8,
    "start_time": "2024-04-23T16:35:53.792Z"
   },
   {
    "duration": 27,
    "start_time": "2024-04-23T16:44:42.731Z"
   },
   {
    "duration": 1208,
    "start_time": "2024-04-23T16:44:47.957Z"
   },
   {
    "duration": 3,
    "start_time": "2024-04-23T16:44:49.167Z"
   },
   {
    "duration": 351,
    "start_time": "2024-04-23T16:44:49.171Z"
   },
   {
    "duration": 2,
    "start_time": "2024-04-23T16:44:49.524Z"
   },
   {
    "duration": 43,
    "start_time": "2024-04-23T16:44:49.528Z"
   },
   {
    "duration": 4,
    "start_time": "2024-04-23T16:44:49.572Z"
   },
   {
    "duration": 29,
    "start_time": "2024-04-23T16:44:49.578Z"
   },
   {
    "duration": 15,
    "start_time": "2024-04-23T16:44:49.608Z"
   },
   {
    "duration": 13,
    "start_time": "2024-04-23T16:44:49.625Z"
   },
   {
    "duration": 16,
    "start_time": "2024-04-23T16:44:49.640Z"
   },
   {
    "duration": 25,
    "start_time": "2024-04-23T16:44:49.658Z"
   },
   {
    "duration": 23,
    "start_time": "2024-04-23T16:44:49.685Z"
   },
   {
    "duration": 36,
    "start_time": "2024-04-23T16:44:49.710Z"
   },
   {
    "duration": 55,
    "start_time": "2024-04-23T16:44:49.750Z"
   },
   {
    "duration": 16,
    "start_time": "2024-04-23T16:44:49.807Z"
   },
   {
    "duration": 5,
    "start_time": "2024-04-23T16:44:49.825Z"
   },
   {
    "duration": 28,
    "start_time": "2024-04-23T16:44:49.831Z"
   },
   {
    "duration": 10,
    "start_time": "2024-04-23T16:44:49.861Z"
   },
   {
    "duration": 19,
    "start_time": "2024-04-23T16:44:49.873Z"
   },
   {
    "duration": 199,
    "start_time": "2024-04-23T16:44:49.894Z"
   },
   {
    "duration": 131,
    "start_time": "2024-04-23T16:44:50.094Z"
   },
   {
    "duration": 195,
    "start_time": "2024-04-23T16:44:50.226Z"
   },
   {
    "duration": 206,
    "start_time": "2024-04-23T16:44:50.423Z"
   },
   {
    "duration": 216,
    "start_time": "2024-04-23T16:44:50.631Z"
   },
   {
    "duration": 32,
    "start_time": "2024-04-23T16:44:50.848Z"
   },
   {
    "duration": 19,
    "start_time": "2024-04-23T16:44:50.892Z"
   },
   {
    "duration": 18,
    "start_time": "2024-04-23T16:44:50.912Z"
   },
   {
    "duration": 57,
    "start_time": "2024-04-23T16:44:50.933Z"
   },
   {
    "duration": 15,
    "start_time": "2024-04-23T16:44:50.992Z"
   },
   {
    "duration": 315,
    "start_time": "2024-04-23T16:44:51.009Z"
   },
   {
    "duration": 254,
    "start_time": "2024-04-23T16:44:51.326Z"
   },
   {
    "duration": 40,
    "start_time": "2024-04-23T16:44:51.581Z"
   },
   {
    "duration": 110,
    "start_time": "2024-04-23T16:44:51.623Z"
   },
   {
    "duration": 16,
    "start_time": "2024-04-23T16:44:51.735Z"
   },
   {
    "duration": 33,
    "start_time": "2024-04-23T16:44:51.753Z"
   },
   {
    "duration": 16,
    "start_time": "2024-04-23T16:44:51.788Z"
   },
   {
    "duration": 8,
    "start_time": "2024-04-23T16:44:51.805Z"
   },
   {
    "duration": 1259,
    "start_time": "2024-04-23T19:33:42.122Z"
   },
   {
    "duration": 3,
    "start_time": "2024-04-23T19:33:43.383Z"
   },
   {
    "duration": 283,
    "start_time": "2024-04-23T19:33:43.392Z"
   },
   {
    "duration": 3,
    "start_time": "2024-04-23T19:33:43.677Z"
   },
   {
    "duration": 36,
    "start_time": "2024-04-23T19:33:43.682Z"
   },
   {
    "duration": 5,
    "start_time": "2024-04-23T19:33:43.720Z"
   },
   {
    "duration": 19,
    "start_time": "2024-04-23T19:33:43.727Z"
   },
   {
    "duration": 14,
    "start_time": "2024-04-23T19:33:43.748Z"
   },
   {
    "duration": 12,
    "start_time": "2024-04-23T19:33:43.764Z"
   },
   {
    "duration": 8,
    "start_time": "2024-04-23T19:33:43.793Z"
   },
   {
    "duration": 25,
    "start_time": "2024-04-23T19:33:43.802Z"
   },
   {
    "duration": 4,
    "start_time": "2024-04-23T19:33:43.829Z"
   },
   {
    "duration": 16,
    "start_time": "2024-04-23T19:33:43.835Z"
   },
   {
    "duration": 12,
    "start_time": "2024-04-23T19:33:43.853Z"
   },
   {
    "duration": 35,
    "start_time": "2024-04-23T19:33:43.866Z"
   },
   {
    "duration": 5,
    "start_time": "2024-04-23T19:33:43.902Z"
   },
   {
    "duration": 20,
    "start_time": "2024-04-23T19:33:43.908Z"
   },
   {
    "duration": 6,
    "start_time": "2024-04-23T19:33:43.929Z"
   },
   {
    "duration": 26,
    "start_time": "2024-04-23T19:33:43.937Z"
   },
   {
    "duration": 192,
    "start_time": "2024-04-23T19:33:43.965Z"
   },
   {
    "duration": 180,
    "start_time": "2024-04-23T19:33:44.158Z"
   },
   {
    "duration": 216,
    "start_time": "2024-04-23T19:33:44.340Z"
   },
   {
    "duration": 237,
    "start_time": "2024-04-23T19:33:44.558Z"
   },
   {
    "duration": 219,
    "start_time": "2024-04-23T19:33:44.796Z"
   },
   {
    "duration": 33,
    "start_time": "2024-04-23T19:33:45.017Z"
   },
   {
    "duration": 374,
    "start_time": "2024-04-23T19:33:45.052Z"
   },
   {
    "duration": 190,
    "start_time": "2024-04-23T19:33:45.428Z"
   },
   {
    "duration": 42,
    "start_time": "2024-04-23T19:33:45.621Z"
   },
   {
    "duration": 16,
    "start_time": "2024-04-23T19:33:45.665Z"
   },
   {
    "duration": 296,
    "start_time": "2024-04-23T19:33:45.682Z"
   },
   {
    "duration": 294,
    "start_time": "2024-04-23T19:33:45.980Z"
   },
   {
    "duration": 43,
    "start_time": "2024-04-23T19:33:46.276Z"
   },
   {
    "duration": 116,
    "start_time": "2024-04-23T19:33:46.321Z"
   },
   {
    "duration": 18,
    "start_time": "2024-04-23T19:33:46.438Z"
   },
   {
    "duration": 17,
    "start_time": "2024-04-23T19:33:46.458Z"
   },
   {
    "duration": 15,
    "start_time": "2024-04-23T19:33:46.477Z"
   },
   {
    "duration": 91,
    "start_time": "2024-04-23T19:33:46.494Z"
   },
   {
    "duration": 24,
    "start_time": "2024-04-23T19:36:57.617Z"
   },
   {
    "duration": 10,
    "start_time": "2024-04-23T21:03:59.962Z"
   },
   {
    "duration": 45,
    "start_time": "2024-04-24T06:40:25.098Z"
   },
   {
    "duration": 1212,
    "start_time": "2024-04-24T06:40:34.384Z"
   },
   {
    "duration": 3,
    "start_time": "2024-04-24T06:40:35.598Z"
   },
   {
    "duration": 374,
    "start_time": "2024-04-24T06:40:35.603Z"
   },
   {
    "duration": 3,
    "start_time": "2024-04-24T06:40:35.978Z"
   },
   {
    "duration": 21,
    "start_time": "2024-04-24T06:40:35.984Z"
   },
   {
    "duration": 8,
    "start_time": "2024-04-24T06:40:36.006Z"
   },
   {
    "duration": 19,
    "start_time": "2024-04-24T06:40:36.015Z"
   },
   {
    "duration": 14,
    "start_time": "2024-04-24T06:40:36.035Z"
   },
   {
    "duration": 4,
    "start_time": "2024-04-24T06:40:36.051Z"
   },
   {
    "duration": 9,
    "start_time": "2024-04-24T06:40:36.056Z"
   },
   {
    "duration": 9,
    "start_time": "2024-04-24T06:40:36.066Z"
   },
   {
    "duration": 8,
    "start_time": "2024-04-24T06:40:36.076Z"
   },
   {
    "duration": 11,
    "start_time": "2024-04-24T06:40:36.085Z"
   },
   {
    "duration": 9,
    "start_time": "2024-04-24T06:40:36.099Z"
   },
   {
    "duration": 14,
    "start_time": "2024-04-24T06:40:36.109Z"
   },
   {
    "duration": 22,
    "start_time": "2024-04-24T06:40:36.125Z"
   },
   {
    "duration": 14,
    "start_time": "2024-04-24T06:40:36.149Z"
   },
   {
    "duration": 5,
    "start_time": "2024-04-24T06:40:36.164Z"
   },
   {
    "duration": 6,
    "start_time": "2024-04-24T06:40:36.171Z"
   },
   {
    "duration": 175,
    "start_time": "2024-04-24T06:40:36.178Z"
   },
   {
    "duration": 134,
    "start_time": "2024-04-24T06:40:36.354Z"
   },
   {
    "duration": 177,
    "start_time": "2024-04-24T06:40:36.490Z"
   },
   {
    "duration": 188,
    "start_time": "2024-04-24T06:40:36.669Z"
   },
   {
    "duration": 186,
    "start_time": "2024-04-24T06:40:36.859Z"
   },
   {
    "duration": 27,
    "start_time": "2024-04-24T06:40:37.047Z"
   },
   {
    "duration": 17,
    "start_time": "2024-04-24T06:40:37.075Z"
   },
   {
    "duration": 16,
    "start_time": "2024-04-24T06:40:37.094Z"
   },
   {
    "duration": 42,
    "start_time": "2024-04-24T06:40:37.111Z"
   },
   {
    "duration": 4,
    "start_time": "2024-04-24T06:40:37.155Z"
   },
   {
    "duration": 240,
    "start_time": "2024-04-24T06:40:37.161Z"
   },
   {
    "duration": 316,
    "start_time": "2024-04-24T06:40:37.403Z"
   },
   {
    "duration": 45,
    "start_time": "2024-04-24T06:40:37.720Z"
   },
   {
    "duration": 105,
    "start_time": "2024-04-24T06:40:37.767Z"
   },
   {
    "duration": 19,
    "start_time": "2024-04-24T06:40:37.874Z"
   },
   {
    "duration": 7,
    "start_time": "2024-04-24T06:40:37.894Z"
   },
   {
    "duration": 6,
    "start_time": "2024-04-24T06:40:37.903Z"
   },
   {
    "duration": 112,
    "start_time": "2024-04-24T06:40:37.910Z"
   },
   {
    "duration": 0,
    "start_time": "2024-04-24T06:40:38.024Z"
   },
   {
    "duration": 17,
    "start_time": "2024-04-24T06:40:57.041Z"
   },
   {
    "duration": 32,
    "start_time": "2024-04-24T06:41:07.140Z"
   },
   {
    "duration": 103,
    "start_time": "2024-04-24T06:44:33.975Z"
   },
   {
    "duration": 3,
    "start_time": "2024-04-24T06:45:20.642Z"
   },
   {
    "duration": 4,
    "start_time": "2024-04-24T06:45:25.861Z"
   },
   {
    "duration": 28,
    "start_time": "2024-04-24T06:45:28.985Z"
   },
   {
    "duration": 30,
    "start_time": "2024-04-24T06:45:51.566Z"
   },
   {
    "duration": 48,
    "start_time": "2024-04-24T06:48:36.704Z"
   },
   {
    "duration": 51,
    "start_time": "2024-04-24T06:49:06.579Z"
   },
   {
    "duration": 16,
    "start_time": "2024-04-24T06:49:30.696Z"
   },
   {
    "duration": 28,
    "start_time": "2024-04-24T06:49:43.590Z"
   },
   {
    "duration": 27,
    "start_time": "2024-04-24T06:50:29.903Z"
   },
   {
    "duration": 29,
    "start_time": "2024-04-24T07:18:28.521Z"
   },
   {
    "duration": 34,
    "start_time": "2024-04-24T07:26:45.622Z"
   },
   {
    "duration": 23,
    "start_time": "2024-04-24T07:26:54.648Z"
   },
   {
    "duration": 23,
    "start_time": "2024-04-24T07:27:03.936Z"
   },
   {
    "duration": 22,
    "start_time": "2024-04-24T07:27:16.758Z"
   },
   {
    "duration": 35,
    "start_time": "2024-04-24T07:27:29.368Z"
   },
   {
    "duration": 34,
    "start_time": "2024-04-24T07:27:34.652Z"
   },
   {
    "duration": 23,
    "start_time": "2024-04-24T07:27:38.545Z"
   },
   {
    "duration": 22,
    "start_time": "2024-04-24T07:27:44.475Z"
   },
   {
    "duration": 34,
    "start_time": "2024-04-24T07:29:55.784Z"
   },
   {
    "duration": 43,
    "start_time": "2024-04-24T07:30:08.294Z"
   },
   {
    "duration": 26,
    "start_time": "2024-04-24T07:31:42.135Z"
   },
   {
    "duration": 44,
    "start_time": "2024-04-24T07:31:51.713Z"
   },
   {
    "duration": 31,
    "start_time": "2024-04-24T07:35:44.935Z"
   },
   {
    "duration": 16,
    "start_time": "2024-04-24T07:39:01.266Z"
   },
   {
    "duration": 22,
    "start_time": "2024-04-24T07:40:14.941Z"
   },
   {
    "duration": 7,
    "start_time": "2024-04-24T07:43:25.652Z"
   },
   {
    "duration": 7,
    "start_time": "2024-04-24T07:51:08.250Z"
   },
   {
    "duration": 1145,
    "start_time": "2024-04-24T07:57:49.813Z"
   },
   {
    "duration": 3,
    "start_time": "2024-04-24T07:57:50.960Z"
   },
   {
    "duration": 362,
    "start_time": "2024-04-24T07:57:50.965Z"
   },
   {
    "duration": 3,
    "start_time": "2024-04-24T07:57:51.329Z"
   },
   {
    "duration": 48,
    "start_time": "2024-04-24T07:57:51.333Z"
   },
   {
    "duration": 4,
    "start_time": "2024-04-24T07:57:51.383Z"
   },
   {
    "duration": 31,
    "start_time": "2024-04-24T07:57:51.388Z"
   },
   {
    "duration": 17,
    "start_time": "2024-04-24T07:57:51.420Z"
   },
   {
    "duration": 9,
    "start_time": "2024-04-24T07:57:51.439Z"
   },
   {
    "duration": 14,
    "start_time": "2024-04-24T07:57:51.458Z"
   },
   {
    "duration": 8,
    "start_time": "2024-04-24T07:57:51.474Z"
   },
   {
    "duration": 17,
    "start_time": "2024-04-24T07:57:51.484Z"
   },
   {
    "duration": 11,
    "start_time": "2024-04-24T07:57:51.503Z"
   },
   {
    "duration": 13,
    "start_time": "2024-04-24T07:57:51.516Z"
   },
   {
    "duration": 46,
    "start_time": "2024-04-24T07:57:51.531Z"
   },
   {
    "duration": 4,
    "start_time": "2024-04-24T07:57:51.579Z"
   },
   {
    "duration": 26,
    "start_time": "2024-04-24T07:57:51.585Z"
   },
   {
    "duration": 5,
    "start_time": "2024-04-24T07:57:51.613Z"
   },
   {
    "duration": 7,
    "start_time": "2024-04-24T07:57:51.619Z"
   },
   {
    "duration": 165,
    "start_time": "2024-04-24T07:57:51.627Z"
   },
   {
    "duration": 140,
    "start_time": "2024-04-24T07:57:51.794Z"
   },
   {
    "duration": 181,
    "start_time": "2024-04-24T07:57:51.935Z"
   },
   {
    "duration": 193,
    "start_time": "2024-04-24T07:57:52.117Z"
   },
   {
    "duration": 194,
    "start_time": "2024-04-24T07:57:52.311Z"
   },
   {
    "duration": 27,
    "start_time": "2024-04-24T07:57:52.507Z"
   },
   {
    "duration": 28,
    "start_time": "2024-04-24T07:57:52.545Z"
   },
   {
    "duration": 15,
    "start_time": "2024-04-24T07:57:52.575Z"
   },
   {
    "duration": 44,
    "start_time": "2024-04-24T07:57:52.593Z"
   },
   {
    "duration": 25,
    "start_time": "2024-04-24T07:57:52.638Z"
   },
   {
    "duration": 348,
    "start_time": "2024-04-24T07:57:52.665Z"
   },
   {
    "duration": 255,
    "start_time": "2024-04-24T07:57:53.015Z"
   },
   {
    "duration": 29,
    "start_time": "2024-04-24T07:57:53.271Z"
   },
   {
    "duration": 109,
    "start_time": "2024-04-24T07:57:53.301Z"
   },
   {
    "duration": 21,
    "start_time": "2024-04-24T07:57:53.411Z"
   },
   {
    "duration": 28,
    "start_time": "2024-04-24T07:57:53.434Z"
   },
   {
    "duration": 36,
    "start_time": "2024-04-24T07:57:53.463Z"
   },
   {
    "duration": 60,
    "start_time": "2024-04-24T07:57:53.501Z"
   },
   {
    "duration": 15,
    "start_time": "2024-04-24T07:57:53.564Z"
   },
   {
    "duration": 30,
    "start_time": "2024-04-24T07:57:53.580Z"
   },
   {
    "duration": 7,
    "start_time": "2024-04-24T07:57:53.611Z"
   },
   {
    "duration": 18,
    "start_time": "2024-04-24T09:12:04.377Z"
   },
   {
    "duration": 17,
    "start_time": "2024-04-24T09:14:41.845Z"
   },
   {
    "duration": 1127,
    "start_time": "2024-04-24T09:15:08.006Z"
   },
   {
    "duration": 2,
    "start_time": "2024-04-24T09:15:09.135Z"
   },
   {
    "duration": 313,
    "start_time": "2024-04-24T09:15:09.145Z"
   },
   {
    "duration": 3,
    "start_time": "2024-04-24T09:15:09.461Z"
   },
   {
    "duration": 40,
    "start_time": "2024-04-24T09:15:09.466Z"
   },
   {
    "duration": 6,
    "start_time": "2024-04-24T09:15:09.507Z"
   },
   {
    "duration": 38,
    "start_time": "2024-04-24T09:15:09.515Z"
   },
   {
    "duration": 14,
    "start_time": "2024-04-24T09:15:09.555Z"
   },
   {
    "duration": 28,
    "start_time": "2024-04-24T09:15:09.571Z"
   },
   {
    "duration": 23,
    "start_time": "2024-04-24T09:15:09.602Z"
   },
   {
    "duration": 26,
    "start_time": "2024-04-24T09:15:09.627Z"
   },
   {
    "duration": 36,
    "start_time": "2024-04-24T09:15:09.654Z"
   },
   {
    "duration": 21,
    "start_time": "2024-04-24T09:15:09.691Z"
   },
   {
    "duration": 19,
    "start_time": "2024-04-24T09:15:09.713Z"
   },
   {
    "duration": 27,
    "start_time": "2024-04-24T09:15:09.734Z"
   },
   {
    "duration": 14,
    "start_time": "2024-04-24T09:15:09.763Z"
   },
   {
    "duration": 35,
    "start_time": "2024-04-24T09:15:09.778Z"
   },
   {
    "duration": 24,
    "start_time": "2024-04-24T09:15:09.815Z"
   },
   {
    "duration": 28,
    "start_time": "2024-04-24T09:15:09.840Z"
   },
   {
    "duration": 169,
    "start_time": "2024-04-24T09:15:09.869Z"
   },
   {
    "duration": 134,
    "start_time": "2024-04-24T09:15:10.039Z"
   },
   {
    "duration": 180,
    "start_time": "2024-04-24T09:15:10.174Z"
   },
   {
    "duration": 202,
    "start_time": "2024-04-24T09:15:10.355Z"
   },
   {
    "duration": 199,
    "start_time": "2024-04-24T09:15:10.558Z"
   },
   {
    "duration": 30,
    "start_time": "2024-04-24T09:15:10.759Z"
   },
   {
    "duration": 27,
    "start_time": "2024-04-24T09:15:10.790Z"
   },
   {
    "duration": 38,
    "start_time": "2024-04-24T09:15:10.819Z"
   },
   {
    "duration": 19,
    "start_time": "2024-04-24T09:15:10.861Z"
   },
   {
    "duration": 11,
    "start_time": "2024-04-24T09:15:10.882Z"
   },
   {
    "duration": 258,
    "start_time": "2024-04-24T09:15:10.895Z"
   },
   {
    "duration": 248,
    "start_time": "2024-04-24T09:15:11.154Z"
   },
   {
    "duration": 41,
    "start_time": "2024-04-24T09:15:11.404Z"
   },
   {
    "duration": 112,
    "start_time": "2024-04-24T09:15:11.446Z"
   },
   {
    "duration": 16,
    "start_time": "2024-04-24T09:15:11.560Z"
   },
   {
    "duration": 22,
    "start_time": "2024-04-24T09:15:11.577Z"
   },
   {
    "duration": 26,
    "start_time": "2024-04-24T09:15:11.600Z"
   },
   {
    "duration": 38,
    "start_time": "2024-04-24T09:15:11.627Z"
   },
   {
    "duration": 15,
    "start_time": "2024-04-24T09:15:11.666Z"
   },
   {
    "duration": 14,
    "start_time": "2024-04-24T09:15:11.682Z"
   },
   {
    "duration": 16,
    "start_time": "2024-04-24T09:15:11.697Z"
   },
   {
    "duration": 95,
    "start_time": "2024-04-24T09:46:04.154Z"
   },
   {
    "duration": 4,
    "start_time": "2024-04-24T09:46:12.642Z"
   },
   {
    "duration": 1142,
    "start_time": "2024-04-24T09:57:27.355Z"
   },
   {
    "duration": 2,
    "start_time": "2024-04-24T09:57:28.500Z"
   },
   {
    "duration": 197,
    "start_time": "2024-04-24T09:57:28.504Z"
   },
   {
    "duration": 3,
    "start_time": "2024-04-24T09:57:28.702Z"
   },
   {
    "duration": 23,
    "start_time": "2024-04-24T09:57:28.707Z"
   },
   {
    "duration": 4,
    "start_time": "2024-04-24T09:57:28.732Z"
   },
   {
    "duration": 24,
    "start_time": "2024-04-24T09:57:28.737Z"
   },
   {
    "duration": 14,
    "start_time": "2024-04-24T09:57:28.763Z"
   },
   {
    "duration": 7,
    "start_time": "2024-04-24T09:57:28.779Z"
   },
   {
    "duration": 18,
    "start_time": "2024-04-24T09:57:28.788Z"
   },
   {
    "duration": 16,
    "start_time": "2024-04-24T09:57:28.808Z"
   },
   {
    "duration": 20,
    "start_time": "2024-04-24T09:57:28.825Z"
   },
   {
    "duration": 4,
    "start_time": "2024-04-24T09:57:28.847Z"
   },
   {
    "duration": 10,
    "start_time": "2024-04-24T09:57:28.854Z"
   },
   {
    "duration": 14,
    "start_time": "2024-04-24T09:57:28.866Z"
   },
   {
    "duration": 4,
    "start_time": "2024-04-24T09:57:28.882Z"
   },
   {
    "duration": 11,
    "start_time": "2024-04-24T09:57:28.888Z"
   },
   {
    "duration": 49,
    "start_time": "2024-04-24T09:57:28.900Z"
   },
   {
    "duration": 7,
    "start_time": "2024-04-24T09:57:28.951Z"
   },
   {
    "duration": 198,
    "start_time": "2024-04-24T09:57:28.960Z"
   },
   {
    "duration": 168,
    "start_time": "2024-04-24T09:57:29.160Z"
   },
   {
    "duration": 218,
    "start_time": "2024-04-24T09:57:29.329Z"
   },
   {
    "duration": 217,
    "start_time": "2024-04-24T09:57:29.549Z"
   },
   {
    "duration": 211,
    "start_time": "2024-04-24T09:57:29.767Z"
   },
   {
    "duration": 32,
    "start_time": "2024-04-24T09:57:29.980Z"
   },
   {
    "duration": 43,
    "start_time": "2024-04-24T09:57:30.014Z"
   },
   {
    "duration": 25,
    "start_time": "2024-04-24T09:57:30.059Z"
   },
   {
    "duration": 58,
    "start_time": "2024-04-24T09:57:30.085Z"
   },
   {
    "duration": 28,
    "start_time": "2024-04-24T09:57:30.145Z"
   },
   {
    "duration": 330,
    "start_time": "2024-04-24T09:57:30.175Z"
   },
   {
    "duration": 270,
    "start_time": "2024-04-24T09:57:30.507Z"
   },
   {
    "duration": 32,
    "start_time": "2024-04-24T09:57:30.779Z"
   },
   {
    "duration": 117,
    "start_time": "2024-04-24T09:57:30.813Z"
   },
   {
    "duration": 24,
    "start_time": "2024-04-24T09:57:30.932Z"
   },
   {
    "duration": 25,
    "start_time": "2024-04-24T09:57:30.958Z"
   },
   {
    "duration": 122,
    "start_time": "2024-04-24T09:57:30.985Z"
   },
   {
    "duration": 0,
    "start_time": "2024-04-24T09:57:31.109Z"
   },
   {
    "duration": 0,
    "start_time": "2024-04-24T09:57:31.111Z"
   },
   {
    "duration": 0,
    "start_time": "2024-04-24T09:57:31.112Z"
   },
   {
    "duration": 0,
    "start_time": "2024-04-24T09:57:31.114Z"
   },
   {
    "duration": 0,
    "start_time": "2024-04-24T09:57:31.115Z"
   },
   {
    "duration": 0,
    "start_time": "2024-04-24T09:57:31.116Z"
   },
   {
    "duration": 0,
    "start_time": "2024-04-24T09:57:31.118Z"
   },
   {
    "duration": 1149,
    "start_time": "2024-04-24T10:04:26.390Z"
   },
   {
    "duration": 4,
    "start_time": "2024-04-24T10:04:27.541Z"
   },
   {
    "duration": 216,
    "start_time": "2024-04-24T10:04:27.546Z"
   },
   {
    "duration": 3,
    "start_time": "2024-04-24T10:04:27.764Z"
   },
   {
    "duration": 47,
    "start_time": "2024-04-24T10:04:27.768Z"
   },
   {
    "duration": 16,
    "start_time": "2024-04-24T10:04:27.817Z"
   },
   {
    "duration": 32,
    "start_time": "2024-04-24T10:04:27.835Z"
   },
   {
    "duration": 14,
    "start_time": "2024-04-24T10:04:27.869Z"
   },
   {
    "duration": 32,
    "start_time": "2024-04-24T10:04:27.885Z"
   },
   {
    "duration": 15,
    "start_time": "2024-04-24T10:04:27.920Z"
   },
   {
    "duration": 15,
    "start_time": "2024-04-24T10:04:27.936Z"
   },
   {
    "duration": 33,
    "start_time": "2024-04-24T10:04:27.952Z"
   },
   {
    "duration": 24,
    "start_time": "2024-04-24T10:04:27.987Z"
   },
   {
    "duration": 36,
    "start_time": "2024-04-24T10:04:28.012Z"
   },
   {
    "duration": 42,
    "start_time": "2024-04-24T10:04:28.049Z"
   },
   {
    "duration": 3,
    "start_time": "2024-04-24T10:04:28.093Z"
   },
   {
    "duration": 15,
    "start_time": "2024-04-24T10:04:28.098Z"
   },
   {
    "duration": 6,
    "start_time": "2024-04-24T10:04:28.114Z"
   },
   {
    "duration": 5,
    "start_time": "2024-04-24T10:04:28.122Z"
   },
   {
    "duration": 210,
    "start_time": "2024-04-24T10:04:28.128Z"
   },
   {
    "duration": 135,
    "start_time": "2024-04-24T10:04:28.339Z"
   },
   {
    "duration": 204,
    "start_time": "2024-04-24T10:04:28.476Z"
   },
   {
    "duration": 212,
    "start_time": "2024-04-24T10:04:28.681Z"
   },
   {
    "duration": 197,
    "start_time": "2024-04-24T10:04:28.895Z"
   },
   {
    "duration": 29,
    "start_time": "2024-04-24T10:04:29.093Z"
   },
   {
    "duration": 36,
    "start_time": "2024-04-24T10:04:29.123Z"
   },
   {
    "duration": 14,
    "start_time": "2024-04-24T10:04:29.161Z"
   },
   {
    "duration": 16,
    "start_time": "2024-04-24T10:04:29.178Z"
   },
   {
    "duration": 29,
    "start_time": "2024-04-24T10:04:29.196Z"
   },
   {
    "duration": 247,
    "start_time": "2024-04-24T10:04:29.226Z"
   },
   {
    "duration": 260,
    "start_time": "2024-04-24T10:04:29.475Z"
   },
   {
    "duration": 38,
    "start_time": "2024-04-24T10:04:29.737Z"
   },
   {
    "duration": 127,
    "start_time": "2024-04-24T10:04:29.777Z"
   },
   {
    "duration": 16,
    "start_time": "2024-04-24T10:04:29.906Z"
   },
   {
    "duration": 25,
    "start_time": "2024-04-24T10:04:29.923Z"
   },
   {
    "duration": 54,
    "start_time": "2024-04-24T10:04:29.949Z"
   },
   {
    "duration": 0,
    "start_time": "2024-04-24T10:04:30.005Z"
   },
   {
    "duration": 0,
    "start_time": "2024-04-24T10:04:30.007Z"
   },
   {
    "duration": 0,
    "start_time": "2024-04-24T10:04:30.008Z"
   },
   {
    "duration": 0,
    "start_time": "2024-04-24T10:04:30.010Z"
   },
   {
    "duration": 0,
    "start_time": "2024-04-24T10:04:30.011Z"
   },
   {
    "duration": 0,
    "start_time": "2024-04-24T10:04:30.013Z"
   },
   {
    "duration": 0,
    "start_time": "2024-04-24T10:04:30.014Z"
   },
   {
    "duration": 1109,
    "start_time": "2024-04-24T10:15:02.386Z"
   },
   {
    "duration": 2,
    "start_time": "2024-04-24T10:15:03.497Z"
   },
   {
    "duration": 200,
    "start_time": "2024-04-24T10:15:03.503Z"
   },
   {
    "duration": 3,
    "start_time": "2024-04-24T10:15:03.704Z"
   },
   {
    "duration": 46,
    "start_time": "2024-04-24T10:15:03.708Z"
   },
   {
    "duration": 11,
    "start_time": "2024-04-24T10:15:03.755Z"
   },
   {
    "duration": 25,
    "start_time": "2024-04-24T10:15:03.767Z"
   },
   {
    "duration": 14,
    "start_time": "2024-04-24T10:15:03.793Z"
   },
   {
    "duration": 17,
    "start_time": "2024-04-24T10:15:03.810Z"
   },
   {
    "duration": 20,
    "start_time": "2024-04-24T10:15:03.829Z"
   },
   {
    "duration": 23,
    "start_time": "2024-04-24T10:15:03.850Z"
   },
   {
    "duration": 14,
    "start_time": "2024-04-24T10:15:03.875Z"
   },
   {
    "duration": 8,
    "start_time": "2024-04-24T10:15:03.891Z"
   },
   {
    "duration": 41,
    "start_time": "2024-04-24T10:15:03.901Z"
   },
   {
    "duration": 23,
    "start_time": "2024-04-24T10:15:03.943Z"
   },
   {
    "duration": 9,
    "start_time": "2024-04-24T10:15:03.968Z"
   },
   {
    "duration": 38,
    "start_time": "2024-04-24T10:15:03.978Z"
   },
   {
    "duration": 6,
    "start_time": "2024-04-24T10:15:04.018Z"
   },
   {
    "duration": 19,
    "start_time": "2024-04-24T10:15:04.025Z"
   },
   {
    "duration": 161,
    "start_time": "2024-04-24T10:15:04.045Z"
   },
   {
    "duration": 132,
    "start_time": "2024-04-24T10:15:04.207Z"
   },
   {
    "duration": 183,
    "start_time": "2024-04-24T10:15:04.341Z"
   },
   {
    "duration": 208,
    "start_time": "2024-04-24T10:15:04.525Z"
   },
   {
    "duration": 203,
    "start_time": "2024-04-24T10:15:04.735Z"
   },
   {
    "duration": 33,
    "start_time": "2024-04-24T10:15:04.940Z"
   },
   {
    "duration": 22,
    "start_time": "2024-04-24T10:15:04.975Z"
   },
   {
    "duration": 25,
    "start_time": "2024-04-24T10:15:05.000Z"
   },
   {
    "duration": 30,
    "start_time": "2024-04-24T10:15:05.027Z"
   },
   {
    "duration": 24,
    "start_time": "2024-04-24T10:15:05.059Z"
   },
   {
    "duration": 253,
    "start_time": "2024-04-24T10:15:05.085Z"
   },
   {
    "duration": 283,
    "start_time": "2024-04-24T10:15:05.339Z"
   },
   {
    "duration": 41,
    "start_time": "2024-04-24T10:15:05.624Z"
   },
   {
    "duration": 107,
    "start_time": "2024-04-24T10:15:05.666Z"
   },
   {
    "duration": 16,
    "start_time": "2024-04-24T10:15:05.775Z"
   },
   {
    "duration": 40,
    "start_time": "2024-04-24T10:15:05.793Z"
   },
   {
    "duration": 8,
    "start_time": "2024-04-24T10:15:05.835Z"
   },
   {
    "duration": 46,
    "start_time": "2024-04-24T10:15:05.846Z"
   },
   {
    "duration": 19,
    "start_time": "2024-04-24T10:15:05.894Z"
   },
   {
    "duration": 45,
    "start_time": "2024-04-24T10:15:05.914Z"
   },
   {
    "duration": 20,
    "start_time": "2024-04-24T10:15:05.960Z"
   },
   {
    "duration": 39,
    "start_time": "2024-04-24T10:15:05.981Z"
   },
   {
    "duration": 67,
    "start_time": "2024-04-24T10:15:06.021Z"
   },
   {
    "duration": 1161,
    "start_time": "2024-04-24T10:15:39.735Z"
   },
   {
    "duration": 4,
    "start_time": "2024-04-24T10:15:40.898Z"
   },
   {
    "duration": 338,
    "start_time": "2024-04-24T10:15:40.904Z"
   },
   {
    "duration": 2,
    "start_time": "2024-04-24T10:15:41.244Z"
   },
   {
    "duration": 34,
    "start_time": "2024-04-24T10:15:41.248Z"
   },
   {
    "duration": 24,
    "start_time": "2024-04-24T10:15:41.283Z"
   },
   {
    "duration": 42,
    "start_time": "2024-04-24T10:15:41.308Z"
   },
   {
    "duration": 29,
    "start_time": "2024-04-24T10:15:41.351Z"
   },
   {
    "duration": 20,
    "start_time": "2024-04-24T10:15:41.382Z"
   },
   {
    "duration": 17,
    "start_time": "2024-04-24T10:15:41.404Z"
   },
   {
    "duration": 15,
    "start_time": "2024-04-24T10:15:41.423Z"
   },
   {
    "duration": 31,
    "start_time": "2024-04-24T10:15:41.440Z"
   },
   {
    "duration": 31,
    "start_time": "2024-04-24T10:15:41.473Z"
   },
   {
    "duration": 32,
    "start_time": "2024-04-24T10:15:41.507Z"
   },
   {
    "duration": 26,
    "start_time": "2024-04-24T10:15:41.541Z"
   },
   {
    "duration": 16,
    "start_time": "2024-04-24T10:15:41.569Z"
   },
   {
    "duration": 31,
    "start_time": "2024-04-24T10:15:41.587Z"
   },
   {
    "duration": 27,
    "start_time": "2024-04-24T10:15:41.619Z"
   },
   {
    "duration": 19,
    "start_time": "2024-04-24T10:15:41.648Z"
   },
   {
    "duration": 165,
    "start_time": "2024-04-24T10:15:41.669Z"
   },
   {
    "duration": 135,
    "start_time": "2024-04-24T10:15:41.836Z"
   },
   {
    "duration": 192,
    "start_time": "2024-04-24T10:15:41.973Z"
   },
   {
    "duration": 196,
    "start_time": "2024-04-24T10:15:42.167Z"
   },
   {
    "duration": 202,
    "start_time": "2024-04-24T10:15:42.364Z"
   },
   {
    "duration": 29,
    "start_time": "2024-04-24T10:15:42.568Z"
   },
   {
    "duration": 34,
    "start_time": "2024-04-24T10:15:42.598Z"
   },
   {
    "duration": 24,
    "start_time": "2024-04-24T10:15:42.634Z"
   },
   {
    "duration": 16,
    "start_time": "2024-04-24T10:15:42.659Z"
   },
   {
    "duration": 26,
    "start_time": "2024-04-24T10:15:42.676Z"
   },
   {
    "duration": 249,
    "start_time": "2024-04-24T10:15:42.703Z"
   },
   {
    "duration": 258,
    "start_time": "2024-04-24T10:15:42.953Z"
   },
   {
    "duration": 46,
    "start_time": "2024-04-24T10:15:43.212Z"
   },
   {
    "duration": 110,
    "start_time": "2024-04-24T10:15:43.260Z"
   },
   {
    "duration": 17,
    "start_time": "2024-04-24T10:15:43.371Z"
   },
   {
    "duration": 7,
    "start_time": "2024-04-24T10:15:43.389Z"
   },
   {
    "duration": 6,
    "start_time": "2024-04-24T10:15:43.397Z"
   },
   {
    "duration": 65,
    "start_time": "2024-04-24T10:15:43.404Z"
   },
   {
    "duration": 16,
    "start_time": "2024-04-24T10:15:43.470Z"
   },
   {
    "duration": 17,
    "start_time": "2024-04-24T10:15:43.488Z"
   },
   {
    "duration": 13,
    "start_time": "2024-04-24T10:15:43.506Z"
   },
   {
    "duration": 20,
    "start_time": "2024-04-24T10:15:43.546Z"
   },
   {
    "duration": 1026,
    "start_time": "2024-04-24T10:32:12.167Z"
   },
   {
    "duration": 3,
    "start_time": "2024-04-24T10:32:13.196Z"
   },
   {
    "duration": 179,
    "start_time": "2024-04-24T10:32:13.200Z"
   },
   {
    "duration": 3,
    "start_time": "2024-04-24T10:32:13.380Z"
   },
   {
    "duration": 34,
    "start_time": "2024-04-24T10:32:13.385Z"
   },
   {
    "duration": 5,
    "start_time": "2024-04-24T10:32:13.420Z"
   },
   {
    "duration": 24,
    "start_time": "2024-04-24T10:32:13.426Z"
   },
   {
    "duration": 13,
    "start_time": "2024-04-24T10:32:13.452Z"
   },
   {
    "duration": 3,
    "start_time": "2024-04-24T10:32:13.467Z"
   },
   {
    "duration": 16,
    "start_time": "2024-04-24T10:32:13.471Z"
   },
   {
    "duration": 18,
    "start_time": "2024-04-24T10:32:13.489Z"
   },
   {
    "duration": 4,
    "start_time": "2024-04-24T10:32:13.508Z"
   },
   {
    "duration": 10,
    "start_time": "2024-04-24T10:32:13.514Z"
   },
   {
    "duration": 10,
    "start_time": "2024-04-24T10:32:13.546Z"
   },
   {
    "duration": 14,
    "start_time": "2024-04-24T10:32:13.557Z"
   },
   {
    "duration": 15,
    "start_time": "2024-04-24T10:32:13.572Z"
   },
   {
    "duration": 21,
    "start_time": "2024-04-24T10:32:13.589Z"
   },
   {
    "duration": 5,
    "start_time": "2024-04-24T10:32:13.612Z"
   },
   {
    "duration": 7,
    "start_time": "2024-04-24T10:32:13.618Z"
   },
   {
    "duration": 185,
    "start_time": "2024-04-24T10:32:13.626Z"
   },
   {
    "duration": 266,
    "start_time": "2024-04-24T10:32:13.813Z"
   },
   {
    "duration": 239,
    "start_time": "2024-04-24T10:32:14.080Z"
   },
   {
    "duration": 197,
    "start_time": "2024-04-24T10:32:14.320Z"
   },
   {
    "duration": 196,
    "start_time": "2024-04-24T10:32:14.518Z"
   },
   {
    "duration": 41,
    "start_time": "2024-04-24T10:32:14.716Z"
   },
   {
    "duration": 17,
    "start_time": "2024-04-24T10:32:14.758Z"
   },
   {
    "duration": 14,
    "start_time": "2024-04-24T10:32:14.776Z"
   },
   {
    "duration": 17,
    "start_time": "2024-04-24T10:32:14.791Z"
   },
   {
    "duration": 36,
    "start_time": "2024-04-24T10:32:14.810Z"
   },
   {
    "duration": 254,
    "start_time": "2024-04-24T10:32:14.848Z"
   },
   {
    "duration": 259,
    "start_time": "2024-04-24T10:32:15.104Z"
   },
   {
    "duration": 32,
    "start_time": "2024-04-24T10:32:15.364Z"
   },
   {
    "duration": 121,
    "start_time": "2024-04-24T10:32:15.397Z"
   },
   {
    "duration": 27,
    "start_time": "2024-04-24T10:32:15.520Z"
   },
   {
    "duration": 8,
    "start_time": "2024-04-24T10:32:15.549Z"
   },
   {
    "duration": 38,
    "start_time": "2024-04-24T10:32:15.559Z"
   },
   {
    "duration": 34,
    "start_time": "2024-04-24T10:32:15.599Z"
   },
   {
    "duration": 19,
    "start_time": "2024-04-24T10:32:15.634Z"
   },
   {
    "duration": 16,
    "start_time": "2024-04-24T10:32:15.654Z"
   },
   {
    "duration": 3,
    "start_time": "2024-04-24T10:32:15.672Z"
   },
   {
    "duration": 13,
    "start_time": "2024-04-24T10:32:15.678Z"
   },
   {
    "duration": 1113,
    "start_time": "2024-04-24T10:44:43.744Z"
   },
   {
    "duration": 3,
    "start_time": "2024-04-24T10:44:44.859Z"
   },
   {
    "duration": 202,
    "start_time": "2024-04-24T10:44:44.863Z"
   },
   {
    "duration": 3,
    "start_time": "2024-04-24T10:44:45.067Z"
   },
   {
    "duration": 51,
    "start_time": "2024-04-24T10:44:45.071Z"
   },
   {
    "duration": 5,
    "start_time": "2024-04-24T10:44:45.123Z"
   },
   {
    "duration": 26,
    "start_time": "2024-04-24T10:44:45.129Z"
   },
   {
    "duration": 18,
    "start_time": "2024-04-24T10:44:45.156Z"
   },
   {
    "duration": 30,
    "start_time": "2024-04-24T10:44:45.176Z"
   },
   {
    "duration": 28,
    "start_time": "2024-04-24T10:44:45.209Z"
   },
   {
    "duration": 9,
    "start_time": "2024-04-24T10:44:45.239Z"
   },
   {
    "duration": 11,
    "start_time": "2024-04-24T10:44:45.250Z"
   },
   {
    "duration": 11,
    "start_time": "2024-04-24T10:44:45.263Z"
   },
   {
    "duration": 20,
    "start_time": "2024-04-24T10:44:45.275Z"
   },
   {
    "duration": 17,
    "start_time": "2024-04-24T10:44:45.296Z"
   },
   {
    "duration": 5,
    "start_time": "2024-04-24T10:44:45.314Z"
   },
   {
    "duration": 18,
    "start_time": "2024-04-24T10:44:45.320Z"
   },
   {
    "duration": 5,
    "start_time": "2024-04-24T10:44:45.339Z"
   },
   {
    "duration": 4,
    "start_time": "2024-04-24T10:44:45.346Z"
   },
   {
    "duration": 185,
    "start_time": "2024-04-24T10:44:45.352Z"
   },
   {
    "duration": 139,
    "start_time": "2024-04-24T10:44:45.539Z"
   },
   {
    "duration": 203,
    "start_time": "2024-04-24T10:44:45.682Z"
   },
   {
    "duration": 226,
    "start_time": "2024-04-24T10:44:45.887Z"
   },
   {
    "duration": 237,
    "start_time": "2024-04-24T10:44:46.115Z"
   },
   {
    "duration": 43,
    "start_time": "2024-04-24T10:44:46.353Z"
   },
   {
    "duration": 20,
    "start_time": "2024-04-24T10:44:46.398Z"
   },
   {
    "duration": 17,
    "start_time": "2024-04-24T10:44:46.420Z"
   },
   {
    "duration": 41,
    "start_time": "2024-04-24T10:44:46.441Z"
   },
   {
    "duration": 5,
    "start_time": "2024-04-24T10:44:46.484Z"
   },
   {
    "duration": 267,
    "start_time": "2024-04-24T10:44:46.491Z"
   },
   {
    "duration": 270,
    "start_time": "2024-04-24T10:44:46.760Z"
   },
   {
    "duration": 34,
    "start_time": "2024-04-24T10:44:47.032Z"
   },
   {
    "duration": 102,
    "start_time": "2024-04-24T10:44:47.081Z"
   },
   {
    "duration": 16,
    "start_time": "2024-04-24T10:44:47.184Z"
   },
   {
    "duration": 7,
    "start_time": "2024-04-24T10:44:47.202Z"
   },
   {
    "duration": 6,
    "start_time": "2024-04-24T10:44:47.211Z"
   },
   {
    "duration": 34,
    "start_time": "2024-04-24T10:44:47.218Z"
   },
   {
    "duration": 46,
    "start_time": "2024-04-24T10:44:47.254Z"
   },
   {
    "duration": 20,
    "start_time": "2024-04-24T10:44:47.302Z"
   },
   {
    "duration": 4,
    "start_time": "2024-04-24T10:44:47.323Z"
   },
   {
    "duration": 22,
    "start_time": "2024-04-24T10:44:47.329Z"
   },
   {
    "duration": 91,
    "start_time": "2024-04-24T11:36:40.499Z"
   },
   {
    "duration": 152,
    "start_time": "2024-04-24T11:38:21.552Z"
   },
   {
    "duration": 52,
    "start_time": "2024-04-24T11:47:28.220Z"
   },
   {
    "duration": 21,
    "start_time": "2024-04-24T11:47:40.214Z"
   },
   {
    "duration": 22,
    "start_time": "2024-04-24T11:48:28.042Z"
   },
   {
    "duration": 18,
    "start_time": "2024-04-24T11:48:34.311Z"
   },
   {
    "duration": 7,
    "start_time": "2024-04-24T12:08:05.805Z"
   },
   {
    "duration": 34,
    "start_time": "2024-04-24T12:17:18.902Z"
   },
   {
    "duration": 15,
    "start_time": "2024-04-24T12:17:27.047Z"
   },
   {
    "duration": 17,
    "start_time": "2024-04-24T12:17:32.222Z"
   },
   {
    "duration": 4,
    "start_time": "2024-04-24T12:17:37.632Z"
   },
   {
    "duration": 57,
    "start_time": "2024-04-24T12:19:48.678Z"
   },
   {
    "duration": 1157,
    "start_time": "2024-04-24T12:25:57.136Z"
   },
   {
    "duration": 3,
    "start_time": "2024-04-24T12:25:58.295Z"
   },
   {
    "duration": 316,
    "start_time": "2024-04-24T12:25:58.300Z"
   },
   {
    "duration": 2,
    "start_time": "2024-04-24T12:25:58.618Z"
   },
   {
    "duration": 21,
    "start_time": "2024-04-24T12:25:58.622Z"
   },
   {
    "duration": 4,
    "start_time": "2024-04-24T12:25:58.645Z"
   },
   {
    "duration": 19,
    "start_time": "2024-04-24T12:25:58.650Z"
   },
   {
    "duration": 13,
    "start_time": "2024-04-24T12:25:58.671Z"
   },
   {
    "duration": 5,
    "start_time": "2024-04-24T12:25:58.686Z"
   },
   {
    "duration": 10,
    "start_time": "2024-04-24T12:25:58.693Z"
   },
   {
    "duration": 44,
    "start_time": "2024-04-24T12:25:58.704Z"
   },
   {
    "duration": 4,
    "start_time": "2024-04-24T12:25:58.749Z"
   },
   {
    "duration": 9,
    "start_time": "2024-04-24T12:25:58.755Z"
   },
   {
    "duration": 13,
    "start_time": "2024-04-24T12:25:58.766Z"
   },
   {
    "duration": 13,
    "start_time": "2024-04-24T12:25:58.780Z"
   },
   {
    "duration": 4,
    "start_time": "2024-04-24T12:25:58.795Z"
   },
   {
    "duration": 45,
    "start_time": "2024-04-24T12:25:58.801Z"
   },
   {
    "duration": 5,
    "start_time": "2024-04-24T12:25:58.848Z"
   },
   {
    "duration": 15,
    "start_time": "2024-04-24T12:25:58.854Z"
   },
   {
    "duration": 174,
    "start_time": "2024-04-24T12:25:58.870Z"
   },
   {
    "duration": 150,
    "start_time": "2024-04-24T12:25:59.045Z"
   },
   {
    "duration": 205,
    "start_time": "2024-04-24T12:25:59.198Z"
   },
   {
    "duration": 202,
    "start_time": "2024-04-24T12:25:59.405Z"
   },
   {
    "duration": 196,
    "start_time": "2024-04-24T12:25:59.609Z"
   },
   {
    "duration": 41,
    "start_time": "2024-04-24T12:25:59.806Z"
   },
   {
    "duration": 18,
    "start_time": "2024-04-24T12:25:59.848Z"
   },
   {
    "duration": 15,
    "start_time": "2024-04-24T12:25:59.867Z"
   },
   {
    "duration": 12,
    "start_time": "2024-04-24T12:25:59.885Z"
   },
   {
    "duration": 4,
    "start_time": "2024-04-24T12:25:59.899Z"
   },
   {
    "duration": 276,
    "start_time": "2024-04-24T12:25:59.905Z"
   },
   {
    "duration": 250,
    "start_time": "2024-04-24T12:26:00.182Z"
   },
   {
    "duration": 127,
    "start_time": "2024-04-24T12:26:00.433Z"
   },
   {
    "duration": 20,
    "start_time": "2024-04-24T12:26:00.562Z"
   },
   {
    "duration": 18,
    "start_time": "2024-04-24T12:26:00.584Z"
   },
   {
    "duration": 7,
    "start_time": "2024-04-24T12:26:00.604Z"
   },
   {
    "duration": 36,
    "start_time": "2024-04-24T12:26:00.613Z"
   },
   {
    "duration": 52,
    "start_time": "2024-04-24T12:26:00.651Z"
   },
   {
    "duration": 20,
    "start_time": "2024-04-24T12:26:00.705Z"
   },
   {
    "duration": 32,
    "start_time": "2024-04-24T12:26:00.728Z"
   },
   {
    "duration": 45,
    "start_time": "2024-04-24T12:26:00.761Z"
   },
   {
    "duration": 40,
    "start_time": "2024-04-24T12:26:00.808Z"
   },
   {
    "duration": 1005,
    "start_time": "2024-04-24T12:28:45.292Z"
   },
   {
    "duration": 3,
    "start_time": "2024-04-24T12:28:46.299Z"
   },
   {
    "duration": 263,
    "start_time": "2024-04-24T12:28:46.303Z"
   },
   {
    "duration": 3,
    "start_time": "2024-04-24T12:28:46.568Z"
   },
   {
    "duration": 26,
    "start_time": "2024-04-24T12:28:46.572Z"
   },
   {
    "duration": 5,
    "start_time": "2024-04-24T12:28:46.599Z"
   },
   {
    "duration": 21,
    "start_time": "2024-04-24T12:28:46.605Z"
   },
   {
    "duration": 18,
    "start_time": "2024-04-24T12:28:46.628Z"
   },
   {
    "duration": 3,
    "start_time": "2024-04-24T12:28:46.647Z"
   },
   {
    "duration": 7,
    "start_time": "2024-04-24T12:28:46.652Z"
   },
   {
    "duration": 8,
    "start_time": "2024-04-24T12:28:46.660Z"
   },
   {
    "duration": 10,
    "start_time": "2024-04-24T12:28:46.669Z"
   },
   {
    "duration": 4,
    "start_time": "2024-04-24T12:28:46.680Z"
   },
   {
    "duration": 10,
    "start_time": "2024-04-24T12:28:46.685Z"
   },
   {
    "duration": 53,
    "start_time": "2024-04-24T12:28:46.697Z"
   },
   {
    "duration": 4,
    "start_time": "2024-04-24T12:28:46.751Z"
   },
   {
    "duration": 15,
    "start_time": "2024-04-24T12:28:46.757Z"
   },
   {
    "duration": 5,
    "start_time": "2024-04-24T12:28:46.773Z"
   },
   {
    "duration": 5,
    "start_time": "2024-04-24T12:28:46.779Z"
   },
   {
    "duration": 181,
    "start_time": "2024-04-24T12:28:46.785Z"
   },
   {
    "duration": 149,
    "start_time": "2024-04-24T12:28:46.968Z"
   },
   {
    "duration": 185,
    "start_time": "2024-04-24T12:28:47.118Z"
   },
   {
    "duration": 192,
    "start_time": "2024-04-24T12:28:47.305Z"
   },
   {
    "duration": 216,
    "start_time": "2024-04-24T12:28:47.499Z"
   },
   {
    "duration": 43,
    "start_time": "2024-04-24T12:28:47.716Z"
   },
   {
    "duration": 18,
    "start_time": "2024-04-24T12:28:47.761Z"
   },
   {
    "duration": 15,
    "start_time": "2024-04-24T12:28:47.780Z"
   },
   {
    "duration": 46,
    "start_time": "2024-04-24T12:28:47.800Z"
   },
   {
    "duration": 4,
    "start_time": "2024-04-24T12:28:47.847Z"
   },
   {
    "duration": 238,
    "start_time": "2024-04-24T12:28:47.853Z"
   },
   {
    "duration": 243,
    "start_time": "2024-04-24T12:28:48.093Z"
   },
   {
    "duration": 128,
    "start_time": "2024-04-24T12:28:48.338Z"
   },
   {
    "duration": 20,
    "start_time": "2024-04-24T12:28:48.467Z"
   },
   {
    "duration": 16,
    "start_time": "2024-04-24T12:28:48.489Z"
   },
   {
    "duration": 11,
    "start_time": "2024-04-24T12:28:48.506Z"
   },
   {
    "duration": 31,
    "start_time": "2024-04-24T12:28:48.518Z"
   },
   {
    "duration": 43,
    "start_time": "2024-04-24T12:28:48.550Z"
   },
   {
    "duration": 15,
    "start_time": "2024-04-24T12:28:48.595Z"
   },
   {
    "duration": 35,
    "start_time": "2024-04-24T12:28:48.611Z"
   },
   {
    "duration": 4,
    "start_time": "2024-04-24T12:28:48.647Z"
   },
   {
    "duration": 12,
    "start_time": "2024-04-24T12:28:48.653Z"
   },
   {
    "duration": 1069,
    "start_time": "2024-04-24T12:30:12.467Z"
   },
   {
    "duration": 7,
    "start_time": "2024-04-24T12:30:13.538Z"
   },
   {
    "duration": 190,
    "start_time": "2024-04-24T12:30:13.547Z"
   },
   {
    "duration": 3,
    "start_time": "2024-04-24T12:30:13.739Z"
   },
   {
    "duration": 26,
    "start_time": "2024-04-24T12:30:13.744Z"
   },
   {
    "duration": 4,
    "start_time": "2024-04-24T12:30:13.771Z"
   },
   {
    "duration": 22,
    "start_time": "2024-04-24T12:30:13.776Z"
   },
   {
    "duration": 13,
    "start_time": "2024-04-24T12:30:13.800Z"
   },
   {
    "duration": 32,
    "start_time": "2024-04-24T12:30:13.814Z"
   },
   {
    "duration": 15,
    "start_time": "2024-04-24T12:30:13.848Z"
   },
   {
    "duration": 9,
    "start_time": "2024-04-24T12:30:13.864Z"
   },
   {
    "duration": 4,
    "start_time": "2024-04-24T12:30:13.874Z"
   },
   {
    "duration": 16,
    "start_time": "2024-04-24T12:30:13.880Z"
   },
   {
    "duration": 24,
    "start_time": "2024-04-24T12:30:13.898Z"
   },
   {
    "duration": 34,
    "start_time": "2024-04-24T12:30:13.924Z"
   },
   {
    "duration": 5,
    "start_time": "2024-04-24T12:30:13.959Z"
   },
   {
    "duration": 11,
    "start_time": "2024-04-24T12:30:13.965Z"
   },
   {
    "duration": 5,
    "start_time": "2024-04-24T12:30:13.978Z"
   },
   {
    "duration": 25,
    "start_time": "2024-04-24T12:30:13.984Z"
   },
   {
    "duration": 209,
    "start_time": "2024-04-24T12:30:14.011Z"
   },
   {
    "duration": 160,
    "start_time": "2024-04-24T12:30:14.221Z"
   },
   {
    "duration": 177,
    "start_time": "2024-04-24T12:30:14.383Z"
   },
   {
    "duration": 192,
    "start_time": "2024-04-24T12:30:14.562Z"
   },
   {
    "duration": 193,
    "start_time": "2024-04-24T12:30:14.755Z"
   },
   {
    "duration": 31,
    "start_time": "2024-04-24T12:30:14.950Z"
   },
   {
    "duration": 19,
    "start_time": "2024-04-24T12:30:14.983Z"
   },
   {
    "duration": 49,
    "start_time": "2024-04-24T12:30:15.004Z"
   },
   {
    "duration": 25,
    "start_time": "2024-04-24T12:30:15.057Z"
   },
   {
    "duration": 48,
    "start_time": "2024-04-24T12:30:15.084Z"
   },
   {
    "duration": 270,
    "start_time": "2024-04-24T12:30:15.134Z"
   },
   {
    "duration": 282,
    "start_time": "2024-04-24T12:30:15.406Z"
   },
   {
    "duration": 131,
    "start_time": "2024-04-24T12:30:15.690Z"
   },
   {
    "duration": 34,
    "start_time": "2024-04-24T12:30:15.823Z"
   },
   {
    "duration": 18,
    "start_time": "2024-04-24T12:30:15.859Z"
   },
   {
    "duration": 8,
    "start_time": "2024-04-24T12:30:15.879Z"
   },
   {
    "duration": 11,
    "start_time": "2024-04-24T12:30:15.889Z"
   },
   {
    "duration": 68,
    "start_time": "2024-04-24T12:30:15.901Z"
   },
   {
    "duration": 16,
    "start_time": "2024-04-24T12:30:15.971Z"
   },
   {
    "duration": 17,
    "start_time": "2024-04-24T12:30:15.989Z"
   },
   {
    "duration": 4,
    "start_time": "2024-04-24T12:30:16.008Z"
   },
   {
    "duration": 36,
    "start_time": "2024-04-24T12:30:16.014Z"
   },
   {
    "duration": 1413,
    "start_time": "2024-04-24T12:56:34.652Z"
   },
   {
    "duration": 3,
    "start_time": "2024-04-24T12:56:36.067Z"
   },
   {
    "duration": 480,
    "start_time": "2024-04-24T12:56:36.072Z"
   },
   {
    "duration": 2,
    "start_time": "2024-04-24T12:56:36.555Z"
   },
   {
    "duration": 40,
    "start_time": "2024-04-24T12:56:36.559Z"
   },
   {
    "duration": 30,
    "start_time": "2024-04-24T12:56:36.600Z"
   },
   {
    "duration": 51,
    "start_time": "2024-04-24T12:56:36.632Z"
   },
   {
    "duration": 14,
    "start_time": "2024-04-24T12:56:36.684Z"
   },
   {
    "duration": 11,
    "start_time": "2024-04-24T12:56:36.699Z"
   },
   {
    "duration": 13,
    "start_time": "2024-04-24T12:56:36.713Z"
   },
   {
    "duration": 12,
    "start_time": "2024-04-24T12:56:36.727Z"
   },
   {
    "duration": 4,
    "start_time": "2024-04-24T12:56:36.741Z"
   },
   {
    "duration": 4,
    "start_time": "2024-04-24T12:56:36.759Z"
   },
   {
    "duration": 19,
    "start_time": "2024-04-24T12:56:36.765Z"
   },
   {
    "duration": 15,
    "start_time": "2024-04-24T12:56:36.785Z"
   },
   {
    "duration": 39,
    "start_time": "2024-04-24T12:56:36.801Z"
   },
   {
    "duration": 18,
    "start_time": "2024-04-24T12:56:36.842Z"
   },
   {
    "duration": 31,
    "start_time": "2024-04-24T12:56:36.862Z"
   },
   {
    "duration": 7,
    "start_time": "2024-04-24T12:56:36.894Z"
   },
   {
    "duration": 170,
    "start_time": "2024-04-24T12:56:36.903Z"
   },
   {
    "duration": 142,
    "start_time": "2024-04-24T12:56:37.075Z"
   },
   {
    "duration": 201,
    "start_time": "2024-04-24T12:56:37.218Z"
   },
   {
    "duration": 260,
    "start_time": "2024-04-24T12:56:37.421Z"
   },
   {
    "duration": 221,
    "start_time": "2024-04-24T12:56:37.683Z"
   },
   {
    "duration": 33,
    "start_time": "2024-04-24T12:56:37.905Z"
   },
   {
    "duration": 32,
    "start_time": "2024-04-24T12:56:37.939Z"
   },
   {
    "duration": 16,
    "start_time": "2024-04-24T12:56:37.973Z"
   },
   {
    "duration": 15,
    "start_time": "2024-04-24T12:56:37.993Z"
   },
   {
    "duration": 34,
    "start_time": "2024-04-24T12:56:38.010Z"
   },
   {
    "duration": 256,
    "start_time": "2024-04-24T12:56:38.046Z"
   },
   {
    "duration": 276,
    "start_time": "2024-04-24T12:56:38.304Z"
   },
   {
    "duration": 131,
    "start_time": "2024-04-24T12:56:38.582Z"
   },
   {
    "duration": 23,
    "start_time": "2024-04-24T12:56:38.714Z"
   },
   {
    "duration": 36,
    "start_time": "2024-04-24T12:56:38.739Z"
   },
   {
    "duration": 7,
    "start_time": "2024-04-24T12:56:38.777Z"
   },
   {
    "duration": 32,
    "start_time": "2024-04-24T12:56:38.786Z"
   },
   {
    "duration": 37,
    "start_time": "2024-04-24T12:56:38.820Z"
   },
   {
    "duration": 16,
    "start_time": "2024-04-24T12:56:38.859Z"
   },
   {
    "duration": 18,
    "start_time": "2024-04-24T12:56:38.877Z"
   },
   {
    "duration": 4,
    "start_time": "2024-04-24T12:56:38.897Z"
   },
   {
    "duration": 7,
    "start_time": "2024-04-24T12:56:38.903Z"
   }
  ],
  "kernelspec": {
   "display_name": "Python 3 (ipykernel)",
   "language": "python",
   "name": "python3"
  },
  "language_info": {
   "codemirror_mode": {
    "name": "ipython",
    "version": 3
   },
   "file_extension": ".py",
   "mimetype": "text/x-python",
   "name": "python",
   "nbconvert_exporter": "python",
   "pygments_lexer": "ipython3",
   "version": "3.11.7"
  },
  "toc": {
   "base_numbering": 1,
   "nav_menu": {},
   "number_sections": true,
   "sideBar": true,
   "skip_h1_title": true,
   "title_cell": "Table of Contents",
   "title_sidebar": "Contents",
   "toc_cell": false,
   "toc_position": {},
   "toc_section_display": true,
   "toc_window_display": true
  }
 },
 "nbformat": 4,
 "nbformat_minor": 5
}
