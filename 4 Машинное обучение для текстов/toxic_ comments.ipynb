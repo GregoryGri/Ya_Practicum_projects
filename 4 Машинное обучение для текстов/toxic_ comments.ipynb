{
 "cells": [
  {
   "cell_type": "markdown",
   "id": "cf7ee79f",
   "metadata": {},
   "source": [
    "## Описание проекта"
   ]
  },
  {
   "cell_type": "markdown",
   "id": "c2daec01",
   "metadata": {},
   "source": [
    "Проект для «Викишоп»\n",
    "Интернет-магазин «Викишоп» запускает новый сервис. Теперь пользователи могут редактировать и дополнять описания товаров, как в вики-сообществах. То есть клиенты предлагают свои правки и комментируют изменения других. Магазину нужен инструмент, который будет искать токсичные комментарии и отправлять их на модерацию.\n",
    "\n"
   ]
  },
  {
   "cell_type": "markdown",
   "id": "1bc55b33",
   "metadata": {},
   "source": [
    "## Цель проекта"
   ]
  },
  {
   "cell_type": "markdown",
   "id": "fd841e60",
   "metadata": {},
   "source": [
    "Необходимо обучить модель, способну. классифицировать комментарии на позитивные и негативные. Метрика качества модели - *F1*, значение не меньше 0.75.\n"
   ]
  },
  {
   "cell_type": "markdown",
   "id": "e41f276b",
   "metadata": {},
   "source": [
    "## План работы"
   ]
  },
  {
   "cell_type": "markdown",
   "id": "9f864ae4",
   "metadata": {},
   "source": [
    "1. Загрузка данных.\n",
    "2. Предварительная обработка, очистка тектса и лемматизация.\n",
    "3. Подготовка выборок для машинного обучения.\n",
    "4. Векторизация.\n",
    "5. Обучение моделей.\n",
    "6. Проверка лучшей модели на тестовой выборке."
   ]
  },
  {
   "cell_type": "markdown",
   "id": "34079262",
   "metadata": {},
   "source": [
    "## Описание данных"
   ]
  },
  {
   "cell_type": "markdown",
   "id": "29001535",
   "metadata": {},
   "source": [
    "В нашем распоряжении набор данных с разметкой о токсичности правок.\n",
    "\n",
    "Данные находятся в файле `toxic_comments.csv` Столбец **text** в нём содержит текст комментария, а **toxic** — целевой признак."
   ]
  },
  {
   "cell_type": "markdown",
   "id": "1313023e",
   "metadata": {},
   "source": [
    "## Подготовка"
   ]
  },
  {
   "cell_type": "markdown",
   "id": "3ac64cbb-fb6e-418f-8521-4c8dbfbdf35c",
   "metadata": {},
   "source": [
    "### Настройка окружения"
   ]
  },
  {
   "cell_type": "code",
   "execution_count": 1,
   "id": "312e39bd-234f-4cab-bfd5-e1bc9ae25212",
   "metadata": {
    "scrolled": true
   },
   "outputs": [
    {
     "name": "stderr",
     "output_type": "stream",
     "text": [
      "[nltk_data] Downloading package stopwords to\n",
      "[nltk_data]     C:\\Users\\user\\AppData\\Roaming\\nltk_data...\n",
      "[nltk_data]   Package stopwords is already up-to-date!\n",
      "[nltk_data] Downloading package wordnet to\n",
      "[nltk_data]     C:\\Users\\user\\AppData\\Roaming\\nltk_data...\n",
      "[nltk_data]   Package wordnet is already up-to-date!\n",
      "[nltk_data] Downloading package punkt to\n",
      "[nltk_data]     C:\\Users\\user\\AppData\\Roaming\\nltk_data...\n",
      "[nltk_data]   Package punkt is already up-to-date!\n"
     ]
    },
    {
     "name": "stdout",
     "output_type": "stream",
     "text": [
      "INFO: Pandarallel will run on 6 workers.\n",
      "INFO: Pandarallel will use standard multiprocessing data transfer (pipe) to transfer data between the main process and workers.\n",
      "\n",
      "WARNING: You are on Windows. If you detect any issue with pandarallel, be sure you checked out the Troubleshooting page:\n",
      "https://nalepae.github.io/pandarallel/troubleshooting/\n"
     ]
    }
   ],
   "source": [
    "import matplotlib.pyplot as plt\n",
    "import numpy as np\n",
    "import pandas as pd\n",
    "import re\n",
    "from pymystem3 import Mystem\n",
    "import nltk\n",
    "from nltk.stem import WordNetLemmatizer \n",
    "nltk.download('stopwords')\n",
    "nltk.download('wordnet')\n",
    "nltk.download('punkt')\n",
    "from nltk.corpus import stopwords as nltk_stopwords\n",
    "from nltk.corpus import wordnet\n",
    "from nltk.tokenize import word_tokenize\n",
    "from sklearn.feature_extraction.text import TfidfVectorizer\n",
    "from sklearn.model_selection import train_test_split, cross_val_score, GridSearchCV\n",
    "from sklearn.linear_model import LogisticRegression\n",
    "from lightgbm import LGBMClassifier\n",
    "from sklearn.metrics import f1_score\n",
    "from sklearn.utils import shuffle\n",
    "from sklearn.dummy import DummyClassifier\n",
    "from tqdm.notebook import tqdm\n",
    "tqdm.pandas()\n",
    "import numba\n",
    "from sklearn.pipeline import Pipeline\n",
    "from joblib import parallel_backend, Parallel, delayed\n",
    "from pandarallel import pandarallel\n",
    "import multiprocessing\n",
    "pandarallel.initialize()\n",
    "import warnings\n",
    "warnings.filterwarnings('ignore')"
   ]
  },
  {
   "cell_type": "markdown",
   "id": "32a262f4",
   "metadata": {},
   "source": [
    "### Загрузка и изучение данных"
   ]
  },
  {
   "cell_type": "code",
   "execution_count": 2,
   "id": "f14a6de5-ec7c-4eed-a074-3be6e17a25c9",
   "metadata": {},
   "outputs": [],
   "source": [
    "# загрузим данные\n",
    "try:\n",
    "    data = pd.read_csv('https://code.s3.yandex.net/datasets/toxic_comments.csv')\n",
    "except:\n",
    "    data = pd.read_csv('/datasets/toxic_comments.csv')"
   ]
  },
  {
   "cell_type": "code",
   "execution_count": 3,
   "id": "e4dadfef-298e-421c-b7a8-2fb77d733e9d",
   "metadata": {},
   "outputs": [
    {
     "data": {
      "text/html": [
       "<div>\n",
       "<style scoped>\n",
       "    .dataframe tbody tr th:only-of-type {\n",
       "        vertical-align: middle;\n",
       "    }\n",
       "\n",
       "    .dataframe tbody tr th {\n",
       "        vertical-align: top;\n",
       "    }\n",
       "\n",
       "    .dataframe thead th {\n",
       "        text-align: right;\n",
       "    }\n",
       "</style>\n",
       "<table border=\"1\" class=\"dataframe\">\n",
       "  <thead>\n",
       "    <tr style=\"text-align: right;\">\n",
       "      <th></th>\n",
       "      <th>Unnamed: 0</th>\n",
       "      <th>text</th>\n",
       "      <th>toxic</th>\n",
       "    </tr>\n",
       "  </thead>\n",
       "  <tbody>\n",
       "    <tr>\n",
       "      <th>0</th>\n",
       "      <td>0</td>\n",
       "      <td>Explanation\\nWhy the edits made under my usern...</td>\n",
       "      <td>0</td>\n",
       "    </tr>\n",
       "    <tr>\n",
       "      <th>1</th>\n",
       "      <td>1</td>\n",
       "      <td>D'aww! He matches this background colour I'm s...</td>\n",
       "      <td>0</td>\n",
       "    </tr>\n",
       "    <tr>\n",
       "      <th>2</th>\n",
       "      <td>2</td>\n",
       "      <td>Hey man, I'm really not trying to edit war. It...</td>\n",
       "      <td>0</td>\n",
       "    </tr>\n",
       "    <tr>\n",
       "      <th>3</th>\n",
       "      <td>3</td>\n",
       "      <td>\"\\nMore\\nI can't make any real suggestions on ...</td>\n",
       "      <td>0</td>\n",
       "    </tr>\n",
       "    <tr>\n",
       "      <th>4</th>\n",
       "      <td>4</td>\n",
       "      <td>You, sir, are my hero. Any chance you remember...</td>\n",
       "      <td>0</td>\n",
       "    </tr>\n",
       "  </tbody>\n",
       "</table>\n",
       "</div>"
      ],
      "text/plain": [
       "   Unnamed: 0                                               text  toxic\n",
       "0           0  Explanation\\nWhy the edits made under my usern...      0\n",
       "1           1  D'aww! He matches this background colour I'm s...      0\n",
       "2           2  Hey man, I'm really not trying to edit war. It...      0\n",
       "3           3  \"\\nMore\\nI can't make any real suggestions on ...      0\n",
       "4           4  You, sir, are my hero. Any chance you remember...      0"
      ]
     },
     "execution_count": 3,
     "metadata": {},
     "output_type": "execute_result"
    }
   ],
   "source": [
    "# посмотрим данные\n",
    "data.head()"
   ]
  },
  {
   "cell_type": "code",
   "execution_count": 4,
   "id": "9ab2d458-32c2-4d61-b31d-d3106d3a8399",
   "metadata": {},
   "outputs": [
    {
     "name": "stdout",
     "output_type": "stream",
     "text": [
      "<class 'pandas.core.frame.DataFrame'>\n",
      "RangeIndex: 159292 entries, 0 to 159291\n",
      "Data columns (total 3 columns):\n",
      " #   Column      Non-Null Count   Dtype \n",
      "---  ------      --------------   ----- \n",
      " 0   Unnamed: 0  159292 non-null  int64 \n",
      " 1   text        159292 non-null  object\n",
      " 2   toxic       159292 non-null  int64 \n",
      "dtypes: int64(2), object(1)\n",
      "memory usage: 3.6+ MB\n"
     ]
    }
   ],
   "source": [
    "# посмотрим основную информацию\n",
    "data.info()"
   ]
  },
  {
   "cell_type": "code",
   "execution_count": 5,
   "id": "cfb7dfb5-23e6-470a-9d7d-63dd512e2444",
   "metadata": {},
   "outputs": [
    {
     "data": {
      "text/plain": [
       "Unnamed: 0    0\n",
       "text          0\n",
       "toxic         0\n",
       "dtype: int64"
      ]
     },
     "execution_count": 5,
     "metadata": {},
     "output_type": "execute_result"
    }
   ],
   "source": [
    "# проверим прпуски\n",
    "data.isna().sum()"
   ]
  },
  {
   "cell_type": "code",
   "execution_count": 6,
   "id": "a0fce83c-bd00-498c-b832-8c3f23fa8814",
   "metadata": {},
   "outputs": [
    {
     "data": {
      "text/plain": [
       "0"
      ]
     },
     "execution_count": 6,
     "metadata": {},
     "output_type": "execute_result"
    }
   ],
   "source": [
    "# проверим на явные дубликаты\n",
    "data.duplicated().sum()"
   ]
  },
  {
   "cell_type": "code",
   "execution_count": 7,
   "id": "bf64d8f1-d476-41c3-b1d9-0c3c74a5b888",
   "metadata": {},
   "outputs": [
    {
     "data": {
      "image/png": "[encoded data removed]",
      "text/plain": [
       "<Figure size 640x480 with 1 Axes>"
      ]
     },
     "metadata": {},
     "output_type": "display_data"
    }
   ],
   "source": [
    "# посмотрим распределение целевого признака\n",
    "data['toxic'].value_counts().plot(kind='bar');\n",
    "plt.title('Распределение целевого признака.')\n",
    "plt.xlabel('значение целевого признака')\n",
    "plt.ylabel('количество твитов, шт')\n",
    "plt.show()"
   ]
  },
  {
   "cell_type": "code",
   "execution_count": 8,
   "id": "5d9dc530-42b3-4d3b-8308-c60111ed1865",
   "metadata": {},
   "outputs": [
    {
     "name": "stdout",
     "output_type": "stream",
     "text": [
      "(16186, 3) (143106, 3)\n"
     ]
    }
   ],
   "source": [
    "# посмотрим распределение целевого признака в цифрах\n",
    "print(data[data['toxic'] == 1].shape, data[data['toxic'] != 1].shape)"
   ]
  },
  {
   "cell_type": "markdown",
   "id": "7f7135a3",
   "metadata": {},
   "source": [
    "Наблдюдаем дисбаланс целевого признака, соотношение токсичных комментариев к нетоксичным порядка 1:9. Наблюдаемые дисбаланс, но такое распределение может иметь органическую природу в данных. В линейной модели нужно будет учесть это при подборе гиперпараметров."
   ]
  },
  {
   "cell_type": "markdown",
   "id": "03ceb735",
   "metadata": {},
   "source": [
    "### Очистка текста"
   ]
  },
  {
   "cell_type": "code",
   "execution_count": 9,
   "id": "a3135bc3",
   "metadata": {},
   "outputs": [
    {
     "data": {
      "text/html": [
       "<div>\n",
       "<style scoped>\n",
       "    .dataframe tbody tr th:only-of-type {\n",
       "        vertical-align: middle;\n",
       "    }\n",
       "\n",
       "    .dataframe tbody tr th {\n",
       "        vertical-align: top;\n",
       "    }\n",
       "\n",
       "    .dataframe thead th {\n",
       "        text-align: right;\n",
       "    }\n",
       "</style>\n",
       "<table border=\"1\" class=\"dataframe\">\n",
       "  <thead>\n",
       "    <tr style=\"text-align: right;\">\n",
       "      <th></th>\n",
       "      <th>Unnamed: 0</th>\n",
       "      <th>text</th>\n",
       "      <th>toxic</th>\n",
       "    </tr>\n",
       "  </thead>\n",
       "  <tbody>\n",
       "    <tr>\n",
       "      <th>0</th>\n",
       "      <td>0</td>\n",
       "      <td>explanation\\nwhy the edits made under my usern...</td>\n",
       "      <td>0</td>\n",
       "    </tr>\n",
       "    <tr>\n",
       "      <th>1</th>\n",
       "      <td>1</td>\n",
       "      <td>d'aww! he matches this background colour i'm s...</td>\n",
       "      <td>0</td>\n",
       "    </tr>\n",
       "    <tr>\n",
       "      <th>2</th>\n",
       "      <td>2</td>\n",
       "      <td>hey man, i'm really not trying to edit war. it...</td>\n",
       "      <td>0</td>\n",
       "    </tr>\n",
       "    <tr>\n",
       "      <th>3</th>\n",
       "      <td>3</td>\n",
       "      <td>\"\\nmore\\ni can't make any real suggestions on ...</td>\n",
       "      <td>0</td>\n",
       "    </tr>\n",
       "    <tr>\n",
       "      <th>4</th>\n",
       "      <td>4</td>\n",
       "      <td>you, sir, are my hero. any chance you remember...</td>\n",
       "      <td>0</td>\n",
       "    </tr>\n",
       "  </tbody>\n",
       "</table>\n",
       "</div>"
      ],
      "text/plain": [
       "   Unnamed: 0                                               text  toxic\n",
       "0           0  explanation\\nwhy the edits made under my usern...      0\n",
       "1           1  d'aww! he matches this background colour i'm s...      0\n",
       "2           2  hey man, i'm really not trying to edit war. it...      0\n",
       "3           3  \"\\nmore\\ni can't make any real suggestions on ...      0\n",
       "4           4  you, sir, are my hero. any chance you remember...      0"
      ]
     },
     "execution_count": 9,
     "metadata": {},
     "output_type": "execute_result"
    }
   ],
   "source": [
    "# переведем текст в нижний регистр\n",
    "data['text'] = data['text'].str.lower()\n",
    "data.head(5)"
   ]
  },
  {
   "cell_type": "code",
   "execution_count": 10,
   "id": "4df17df8",
   "metadata": {},
   "outputs": [],
   "source": [
    "# с помощью регулярных выражений избавимся от ссылок на сайты, имен пользователей и тегов, \n",
    "# методом strip удалим возможные пробелы в начале и конце строк\n",
    "data['text'] = data['text']\\\n",
    "    .str.replace(r\"\\b(?:https?://)?(?:www\\.)?\\S+?\\.(?:com|net|org|edu|gov|mil|info|me)(?:\\S*)?\", \"\", regex = True)\\\n",
    "    .str.replace(r\"[@#]\\w+\", \"\", regex = True)\\\n",
    "    .str.replace(r'\\s+', ' ', regex = True)\\\n",
    "    .str.strip()"
   ]
  },
  {
   "cell_type": "code",
   "execution_count": 11,
   "id": "c7993aaa-8069-41f2-b4d0-f568c54d2145",
   "metadata": {},
   "outputs": [],
   "source": [
    "# оставим в тексте только английские буквы и пробелы\n",
    "def clear_text(text):\n",
    "    pre_clean_text = re.sub(r'[^a-z ]', ' ', text).split()\n",
    "    clean_text = \" \".join(pre_clean_text)\n",
    "    return(clean_text)"
   ]
  },
  {
   "cell_type": "code",
   "execution_count": 12,
   "id": "dd89b619",
   "metadata": {},
   "outputs": [
    {
     "data": {
      "application/vnd.jupyter.widget-view+json": {
       "model_id": "bad66dc5981142128f2bebc85e29b414",
       "version_major": 2,
       "version_minor": 0
      },
      "text/plain": [
       "  0%|          | 0/159292 [00:00<?, ?it/s]"
      ]
     },
     "metadata": {},
     "output_type": "display_data"
    },
    {
     "name": "stdout",
     "output_type": "stream",
     "text": [
      "CPU times: total: 2.16 s\n",
      "Wall time: 2.19 s\n"
     ]
    },
    {
     "data": {
      "text/html": [
       "<div>\n",
       "<style scoped>\n",
       "    .dataframe tbody tr th:only-of-type {\n",
       "        vertical-align: middle;\n",
       "    }\n",
       "\n",
       "    .dataframe tbody tr th {\n",
       "        vertical-align: top;\n",
       "    }\n",
       "\n",
       "    .dataframe thead th {\n",
       "        text-align: right;\n",
       "    }\n",
       "</style>\n",
       "<table border=\"1\" class=\"dataframe\">\n",
       "  <thead>\n",
       "    <tr style=\"text-align: right;\">\n",
       "      <th></th>\n",
       "      <th>Unnamed: 0</th>\n",
       "      <th>text</th>\n",
       "      <th>toxic</th>\n",
       "    </tr>\n",
       "  </thead>\n",
       "  <tbody>\n",
       "    <tr>\n",
       "      <th>0</th>\n",
       "      <td>0</td>\n",
       "      <td>explanation why the edits made under my userna...</td>\n",
       "      <td>0</td>\n",
       "    </tr>\n",
       "    <tr>\n",
       "      <th>1</th>\n",
       "      <td>1</td>\n",
       "      <td>d aww he matches this background colour i m se...</td>\n",
       "      <td>0</td>\n",
       "    </tr>\n",
       "    <tr>\n",
       "      <th>2</th>\n",
       "      <td>2</td>\n",
       "      <td>hey man i m really not trying to edit war it s...</td>\n",
       "      <td>0</td>\n",
       "    </tr>\n",
       "    <tr>\n",
       "      <th>3</th>\n",
       "      <td>3</td>\n",
       "      <td>more i can t make any real suggestions on impr...</td>\n",
       "      <td>0</td>\n",
       "    </tr>\n",
       "    <tr>\n",
       "      <th>4</th>\n",
       "      <td>4</td>\n",
       "      <td>you sir are my hero any chance you remember wh...</td>\n",
       "      <td>0</td>\n",
       "    </tr>\n",
       "  </tbody>\n",
       "</table>\n",
       "</div>"
      ],
      "text/plain": [
       "   Unnamed: 0                                               text  toxic\n",
       "0           0  explanation why the edits made under my userna...      0\n",
       "1           1  d aww he matches this background colour i m se...      0\n",
       "2           2  hey man i m really not trying to edit war it s...      0\n",
       "3           3  more i can t make any real suggestions on impr...      0\n",
       "4           4  you sir are my hero any chance you remember wh...      0"
      ]
     },
     "execution_count": 12,
     "metadata": {},
     "output_type": "execute_result"
    }
   ],
   "source": [
    "%%time\n",
    "data['text'] = data['text'].progress_apply(clear_text)\n",
    "data.head(5)"
   ]
  },
  {
   "cell_type": "markdown",
   "id": "255b13fd",
   "metadata": {},
   "source": [
    "### Лемматизация"
   ]
  },
  {
   "cell_type": "code",
   "execution_count": 13,
   "id": "1a61156c-52b1-4b46-beb3-cd8eb4e37715",
   "metadata": {},
   "outputs": [],
   "source": [
    "# объявим лемматизатор\n",
    "lemmatizer = WordNetLemmatizer()\n",
    "\n",
    "# создадим функцию лемматизации\n",
    "def lemmatize(text):\n",
    "    # ТАК КАК РАБОТУ ДАННОЙ ФУНКЦИИ ПРЕДПОЛАГАЕТСЯ РАСПАРАЛЛЕЛИТЬ ПРИ ПОМОЩИ pandarallel И ПРИ ЭТОМ РАБОТА ВЕДЕТСЯ НА WINOWS\\\n",
    "    # ТО НЕОБХОДИМО СДЕЛАТЬ ФУНКЦИЮ САМОДОСТАТОЧНОЙ, ПОЭТОМУ СДЕЛАЕМ НЕОБХОДИМЫЕ ИМПОРТЫ ВНУТРИ ФУНКЦИИ И ЗАДАДИМ ФУНКЦИЮ\\\n",
    "    # ОПРЕДЕЛЕНИЯ ЧАСТИ РЕЧИ\n",
    "    import nltk\n",
    "    from nltk.stem import WordNetLemmatizer\n",
    "    from nltk.corpus import wordnet\n",
    "    lemmatizer = WordNetLemmatizer()\n",
    "    # создадим функцию применения POS-тегов для определения части речи\n",
    "    def get_wordnet_pos(text):\n",
    "        # из полученного методом pos_tag списка поочередно применяем индекс, \n",
    "        # чтобы вытащить первую букву тега интересующей части речи\n",
    "        tag = nltk.pos_tag([text])[0][1][0].upper() \n",
    "        # создаем словарь \n",
    "        tag_dict = {\"J\": wordnet.ADJ,   # прилагательные\n",
    "                    \"N\": wordnet.NOUN,  # существительные\n",
    "                    \"V\": wordnet.VERB,  # глаголы \n",
    "                    \"R\": wordnet.ADV}   # наречия\n",
    "        # возвращаем обозначение определенной части речи, в случае отстуствия тега в нашем словаре, по умолчанию возвращаем существиетльное\n",
    "        return tag_dict.get(tag, wordnet.NOUN)\n",
    "    # создаем список лемматизированых слов(токенизируем по словам, определяем какая это часть речи и леммитизируем)\n",
    "    lemm_list = [lemmatizer.lemmatize(w, get_wordnet_pos(w)) for w in nltk.word_tokenize(text)]\n",
    "    # склеиваем обратно в строку через пробелы\n",
    "    lemm_text = \" \".join(lemm_list)\n",
    "    \n",
    "    return lemm_text"
   ]
  },
  {
   "cell_type": "code",
   "execution_count": 14,
   "id": "a04daa21",
   "metadata": {},
   "outputs": [
    {
     "name": "stdout",
     "output_type": "stream",
     "text": [
      "INFO: Pandarallel will run on 6 workers.\n",
      "INFO: Pandarallel will use standard multiprocessing data transfer (pipe) to transfer data between the main process and workers.\n",
      "\n",
      "WARNING: You are on Windows. If you detect any issue with pandarallel, be sure you checked out the Troubleshooting page:\n",
      "https://nalepae.github.io/pandarallel/troubleshooting/\n"
     ]
    },
    {
     "data": {
      "application/vnd.jupyter.widget-view+json": {
       "model_id": "f2af4156ccba44d18cd9cfb2a72ca745",
       "version_major": 2,
       "version_minor": 0
      },
      "text/plain": [
       "VBox(children=(HBox(children=(IntProgress(value=0, description='0.00%', max=26549), Label(value='0 / 26549')))…"
      ]
     },
     "metadata": {},
     "output_type": "display_data"
    },
    {
     "name": "stdout",
     "output_type": "stream",
     "text": [
      "CPU times: total: 28.8 s\n",
      "Wall time: 28min 56s\n"
     ]
    }
   ],
   "source": [
    "%%time\n",
    "pandarallel.initialize(progress_bar=True)\n",
    "data['lemm_text'] = data['text'].parallel_apply(lemmatize)"
   ]
  },
  {
   "cell_type": "markdown",
   "id": "12ef81dd",
   "metadata": {},
   "source": [
    "### Создание выборок"
   ]
  },
  {
   "cell_type": "code",
   "execution_count": 15,
   "id": "fcf57119-70b3-4898-9ea6-fa0086f49044",
   "metadata": {},
   "outputs": [
    {
     "data": {
      "text/html": [
       "<div>\n",
       "<style scoped>\n",
       "    .dataframe tbody tr th:only-of-type {\n",
       "        vertical-align: middle;\n",
       "    }\n",
       "\n",
       "    .dataframe tbody tr th {\n",
       "        vertical-align: top;\n",
       "    }\n",
       "\n",
       "    .dataframe thead th {\n",
       "        text-align: right;\n",
       "    }\n",
       "</style>\n",
       "<table border=\"1\" class=\"dataframe\">\n",
       "  <thead>\n",
       "    <tr style=\"text-align: right;\">\n",
       "      <th></th>\n",
       "      <th>toxic</th>\n",
       "      <th>lemm_text</th>\n",
       "    </tr>\n",
       "  </thead>\n",
       "  <tbody>\n",
       "    <tr>\n",
       "      <th>0</th>\n",
       "      <td>0</td>\n",
       "      <td>explanation why the edits make under my userna...</td>\n",
       "    </tr>\n",
       "    <tr>\n",
       "      <th>1</th>\n",
       "      <td>0</td>\n",
       "      <td>d aww he match this background colour i m seem...</td>\n",
       "    </tr>\n",
       "    <tr>\n",
       "      <th>2</th>\n",
       "      <td>0</td>\n",
       "      <td>hey man i m really not try to edit war it s ju...</td>\n",
       "    </tr>\n",
       "    <tr>\n",
       "      <th>3</th>\n",
       "      <td>0</td>\n",
       "      <td>more i can t make any real suggestion on impro...</td>\n",
       "    </tr>\n",
       "    <tr>\n",
       "      <th>4</th>\n",
       "      <td>0</td>\n",
       "      <td>you sir be my hero any chance you remember wha...</td>\n",
       "    </tr>\n",
       "  </tbody>\n",
       "</table>\n",
       "</div>"
      ],
      "text/plain": [
       "   toxic                                          lemm_text\n",
       "0      0  explanation why the edits make under my userna...\n",
       "1      0  d aww he match this background colour i m seem...\n",
       "2      0  hey man i m really not try to edit war it s ju...\n",
       "3      0  more i can t make any real suggestion on impro...\n",
       "4      0  you sir be my hero any chance you remember wha..."
      ]
     },
     "execution_count": 15,
     "metadata": {},
     "output_type": "execute_result"
    }
   ],
   "source": [
    "# удалим ненужные столбцы и проверим\n",
    "df = data.drop(['Unnamed: 0', 'text'], axis=1)\n",
    "df.head(5)"
   ]
  },
  {
   "cell_type": "code",
   "execution_count": 16,
   "id": "8230ae96-b766-48f2-bac4-c52244dec0f3",
   "metadata": {},
   "outputs": [
    {
     "name": "stdout",
     "output_type": "stream",
     "text": [
      "(159292,) (159292,)\n"
     ]
    }
   ],
   "source": [
    "# разделим данные на признаки и таргет\n",
    "target = df['toxic']\n",
    "features = df['lemm_text']\n",
    "print(target.shape, features.shape)"
   ]
  },
  {
   "cell_type": "code",
   "execution_count": 17,
   "id": "0ae1fd2c-9935-419b-afa0-d4acc01941d9",
   "metadata": {},
   "outputs": [
    {
     "name": "stdout",
     "output_type": "stream",
     "text": [
      "(143362,) (15930,)\n",
      "(143362,) (15930,)\n"
     ]
    }
   ],
   "source": [
    "# выделим обучающие и тестовые выборки\n",
    "features_train, features_test, target_train, target_test = train_test_split(features, \n",
    "                                                                              target, \n",
    "                                                                              test_size=0.1, \n",
    "                                                                              random_state=123245)\n",
    "print(features_train.shape, features_test.shape)\n",
    "print(target_train.shape, target_test.shape)"
   ]
  },
  {
   "cell_type": "markdown",
   "id": "78f9ed65",
   "metadata": {},
   "source": [
    "### Векторизация"
   ]
  },
  {
   "cell_type": "code",
   "execution_count": 18,
   "id": "19422bee-d979-4cd3-8463-59a006f53375",
   "metadata": {},
   "outputs": [],
   "source": [
    "# определим набор стоп-слов и векторизатор\n",
    "stopwords = set(nltk_stopwords.words('english'))\n",
    "count_tf_idf = TfidfVectorizer(stop_words=list(stopwords))"
   ]
  },
  {
   "cell_type": "markdown",
   "id": "ecaaee73",
   "metadata": {},
   "source": [
    "Таким образом можно сказать следующее:\n",
    "- данные загрузились корректно;\n",
    "- данные содержат 3 столбца и 159292 строки;\n",
    "- столбец 'Unnamed: 0' не несет никакого функционального смысла и дублирует индекс, поэтому был удален из датафрейма;\n",
    "- пропуски и дубликаты отстуствуют;\n",
    "- наблюдается дисбаланс целевого признака, соотношение токсичных комментариев к нетоксичным порядка 1:9. Наблюдаемый дисбаланс, но такое распределение может иметь органическую природу в данных. В линейной модели нужно будет учесть это при подборе гиперпараметров;\n",
    "- текстовые данные в столбце 'text' были переведены в нижний регистр, очищены от ссылок на сайты, имен пользователей и тегов, оставили только английские символы;\n",
    "- была проведена лемматизация с применение библиотеки WordNetLemmatizer, при лемитизации учитывалось, то к какой части речи принадлежит рассмтриваемое слово;\n",
    "- были подготовлены обучающие и тестовые выборки, для признаков и таргета;"
   ]
  },
  {
   "cell_type": "markdown",
   "id": "cf9714b7",
   "metadata": {},
   "source": [
    "## Обучение"
   ]
  },
  {
   "cell_type": "markdown",
   "id": "47d8fc46",
   "metadata": {},
   "source": [
    "### LogisticRegression"
   ]
  },
  {
   "cell_type": "code",
   "execution_count": 19,
   "id": "5bcaa168-db8c-4fe1-a717-ea4b486d7cac",
   "metadata": {},
   "outputs": [],
   "source": [
    "# построим пайплайн для модели и векторизации\n",
    "regression = Pipeline([    \n",
    "    ('tfidf', TfidfVectorizer(stop_words=list(stopwords))),\n",
    "    ('model_lr', LogisticRegression(random_state=12345) )\n",
    "])"
   ]
  },
  {
   "cell_type": "code",
   "execution_count": 20,
   "id": "740b5b9f-548d-4868-94ff-52e4fca7dfa9",
   "metadata": {
    "scrolled": false
   },
   "outputs": [
    {
     "name": "stdout",
     "output_type": "stream",
     "text": [
      "Лучшие параметры модели:  {'model_lr__C': 10, 'model_lr__n_jobs': -1, 'model_lr__penalty': 'l2', 'model_lr__solver': 'liblinear'}\n",
      "Лучший результат f1_score на кросс-валидации:  0.7631724293825415\n",
      "CPU times: total: 2min 20s\n",
      "Wall time: 1min 46s\n"
     ]
    }
   ],
   "source": [
    "%%time\n",
    "\n",
    "# словарь гиперпараметров\n",
    "param_lr = {'model_lr__solver': ['liblinear'],\n",
    "            'model_lr__C':[0.1, 1, 10],\n",
    "            'model_lr__penalty':['l1', 'l2', None],\n",
    "            'model_lr__n_jobs': [-1]\n",
    "           }\n",
    "# оценщик\n",
    "tuning_model_lr=GridSearchCV(regression,\n",
    "                             param_grid=param_lr,\n",
    "                             scoring='f1',\n",
    "                             cv=2,\n",
    "                             )\n",
    "\n",
    "# приступим к обучению с определением лучших параметров и F1\n",
    "tuning_model_lr.fit(features_train, target_train)\n",
    "f1_lr = tuning_model_lr.best_score_\n",
    "best_model_lr = tuning_model_lr.best_params_\n",
    "print('Лучшие параметры модели: ', best_model_lr)\n",
    "print('Лучший результат f1_score на кросс-валидации: ', f1_lr)"
   ]
  },
  {
   "cell_type": "markdown",
   "id": "e50dcaf7",
   "metadata": {},
   "source": [
    "### LGBMClassifier"
   ]
  },
  {
   "cell_type": "code",
   "execution_count": 21,
   "id": "fd693514-585a-47b4-8285-f1b236453219",
   "metadata": {},
   "outputs": [],
   "source": [
    "# построим пайплайн для модели и векторизации\n",
    "grad_bust = Pipeline([    \n",
    "    ('tfidf', TfidfVectorizer(stop_words=list(stopwords))),\n",
    "    ('model_gb', LGBMClassifier(random_state=12345, verbose=-1))\n",
    "])"
   ]
  },
  {
   "cell_type": "code",
   "execution_count": 22,
   "id": "43f2fb07-28e6-45be-8d02-aecaed03585e",
   "metadata": {
    "scrolled": true
   },
   "outputs": [
    {
     "name": "stdout",
     "output_type": "stream",
     "text": [
      "Лучшие параметры модели:  {'model_gb__learning_rate': 0.1, 'model_gb__n_estimators': 300, 'model_gb__n_jobs': -1, 'model_gb__num_leaves': 100}\n",
      "Лучший результат f1_score на кросс-валидации:  0.7631559195927424\n",
      "CPU times: total: 1h 47min 38s\n",
      "Wall time: 11min 20s\n"
     ]
    }
   ],
   "source": [
    "%%time\n",
    "\n",
    "# словарь гиперпараметров\n",
    "param_gb = {'model_gb__learning_rate' : [0.1, 1.0],\n",
    "            'model_gb__num_leaves': [100, 200],\n",
    "            'model_gb__n_estimators': [300],\n",
    "            'model_gb__n_jobs': [-1]\n",
    "           }\n",
    "# оцещик\n",
    "tuning_model_gb=GridSearchCV(grad_bust,\n",
    "                             param_grid=param_gb,\n",
    "                             scoring='f1',\n",
    "                             cv=2,\n",
    "                             verbose=-1)\n",
    "\n",
    "# приступим к обучению с определением лучших параметров и F1\n",
    "tuning_model_gb.fit(features_train, target_train)\n",
    "f1_gb = tuning_model_gb.best_score_\n",
    "best_model_gb = tuning_model_gb.best_params_\n",
    "print('Лучшие параметры модели: ', best_model_gb)\n",
    "print('Лучший результат f1_score на кросс-валидации: ', f1_gb)"
   ]
  },
  {
   "cell_type": "markdown",
   "id": "3a0ea905",
   "metadata": {},
   "source": [
    "## Выводы"
   ]
  },
  {
   "cell_type": "markdown",
   "id": "bce9e42c",
   "metadata": {},
   "source": [
    "### Сводные данные по моделям"
   ]
  },
  {
   "cell_type": "code",
   "execution_count": 23,
   "id": "e7ae359b",
   "metadata": {},
   "outputs": [
    {
     "data": {
      "text/html": [
       "<div>\n",
       "<style scoped>\n",
       "    .dataframe tbody tr th:only-of-type {\n",
       "        vertical-align: middle;\n",
       "    }\n",
       "\n",
       "    .dataframe tbody tr th {\n",
       "        vertical-align: top;\n",
       "    }\n",
       "\n",
       "    .dataframe thead th {\n",
       "        text-align: right;\n",
       "    }\n",
       "</style>\n",
       "<table border=\"1\" class=\"dataframe\">\n",
       "  <thead>\n",
       "    <tr style=\"text-align: right;\">\n",
       "      <th></th>\n",
       "      <th>LogisticRegression</th>\n",
       "      <th>LGBMClassifier</th>\n",
       "    </tr>\n",
       "  </thead>\n",
       "  <tbody>\n",
       "    <tr>\n",
       "      <th>Результаты F1 на кросс-валидации</th>\n",
       "      <td>0.763172</td>\n",
       "      <td>0.763156</td>\n",
       "    </tr>\n",
       "  </tbody>\n",
       "</table>\n",
       "</div>"
      ],
      "text/plain": [
       "                                  LogisticRegression  LGBMClassifier\n",
       "Результаты F1 на кросс-валидации            0.763172        0.763156"
      ]
     },
     "execution_count": 23,
     "metadata": {},
     "output_type": "execute_result"
    }
   ],
   "source": [
    "# сформируем сводную таблицу с результатми\n",
    "result = pd.DataFrame(\n",
    "                      [[f1_lr, f1_gb]],\n",
    "                      index=['Результаты F1 на кросс-валидации'],\n",
    "                      columns=['LogisticRegression', 'LGBMClassifier']\n",
    ")\n",
    "result"
   ]
  },
  {
   "cell_type": "markdown",
   "id": "76d1bb64",
   "metadata": {},
   "source": [
    "Таким образом видим, что на кросс-валидации лучше себя показала модель LogisticRegression. Выберем её для окночательного тестирования."
   ]
  },
  {
   "cell_type": "markdown",
   "id": "c603f0ff",
   "metadata": {},
   "source": [
    "### Тестирование модели"
   ]
  },
  {
   "cell_type": "code",
   "execution_count": 24,
   "id": "50aaa080-c362-4bc0-8a1c-83f9f5d76e12",
   "metadata": {},
   "outputs": [],
   "source": [
    "# обучим и трансформируем векторизацией трейн\n",
    "features_train = count_tf_idf.fit_transform(features_train.values)\n",
    "\n",
    "# трансформируем векторизацией тест\n",
    "features_test = count_tf_idf.transform(features_test.values)"
   ]
  },
  {
   "cell_type": "code",
   "execution_count": 25,
   "id": "86472f9d",
   "metadata": {
    "scrolled": false
   },
   "outputs": [
    {
     "data": {
      "text/html": [
       "<style>#sk-container-id-1 {color: black;background-color: white;}#sk-container-id-1 pre{padding: 0;}#sk-container-id-1 div.sk-toggleable {background-color: white;}#sk-container-id-1 label.sk-toggleable__label {cursor: pointer;display: block;width: 100%;margin-bottom: 0;padding: 0.3em;box-sizing: border-box;text-align: center;}#sk-container-id-1 label.sk-toggleable__label-arrow:before {content: \"▸\";float: left;margin-right: 0.25em;color: #696969;}#sk-container-id-1 label.sk-toggleable__label-arrow:hover:before {color: black;}#sk-container-id-1 div.sk-estimator:hover label.sk-toggleable__label-arrow:before {color: black;}#sk-container-id-1 div.sk-toggleable__content {max-height: 0;max-width: 0;overflow: hidden;text-align: left;background-color: #f0f8ff;}#sk-container-id-1 div.sk-toggleable__content pre {margin: 0.2em;color: black;border-radius: 0.25em;background-color: #f0f8ff;}#sk-container-id-1 input.sk-toggleable__control:checked~div.sk-toggleable__content {max-height: 200px;max-width: 100%;overflow: auto;}#sk-container-id-1 input.sk-toggleable__control:checked~label.sk-toggleable__label-arrow:before {content: \"▾\";}#sk-container-id-1 div.sk-estimator input.sk-toggleable__control:checked~label.sk-toggleable__label {background-color: #d4ebff;}#sk-container-id-1 div.sk-label input.sk-toggleable__control:checked~label.sk-toggleable__label {background-color: #d4ebff;}#sk-container-id-1 input.sk-hidden--visually {border: 0;clip: rect(1px 1px 1px 1px);clip: rect(1px, 1px, 1px, 1px);height: 1px;margin: -1px;overflow: hidden;padding: 0;position: absolute;width: 1px;}#sk-container-id-1 div.sk-estimator {font-family: monospace;background-color: #f0f8ff;border: 1px dotted black;border-radius: 0.25em;box-sizing: border-box;margin-bottom: 0.5em;}#sk-container-id-1 div.sk-estimator:hover {background-color: #d4ebff;}#sk-container-id-1 div.sk-parallel-item::after {content: \"\";width: 100%;border-bottom: 1px solid gray;flex-grow: 1;}#sk-container-id-1 div.sk-label:hover label.sk-toggleable__label {background-color: #d4ebff;}#sk-container-id-1 div.sk-serial::before {content: \"\";position: absolute;border-left: 1px solid gray;box-sizing: border-box;top: 0;bottom: 0;left: 50%;z-index: 0;}#sk-container-id-1 div.sk-serial {display: flex;flex-direction: column;align-items: center;background-color: white;padding-right: 0.2em;padding-left: 0.2em;position: relative;}#sk-container-id-1 div.sk-item {position: relative;z-index: 1;}#sk-container-id-1 div.sk-parallel {display: flex;align-items: stretch;justify-content: center;background-color: white;position: relative;}#sk-container-id-1 div.sk-item::before, #sk-container-id-1 div.sk-parallel-item::before {content: \"\";position: absolute;border-left: 1px solid gray;box-sizing: border-box;top: 0;bottom: 0;left: 50%;z-index: -1;}#sk-container-id-1 div.sk-parallel-item {display: flex;flex-direction: column;z-index: 1;position: relative;background-color: white;}#sk-container-id-1 div.sk-parallel-item:first-child::after {align-self: flex-end;width: 50%;}#sk-container-id-1 div.sk-parallel-item:last-child::after {align-self: flex-start;width: 50%;}#sk-container-id-1 div.sk-parallel-item:only-child::after {width: 0;}#sk-container-id-1 div.sk-dashed-wrapped {border: 1px dashed gray;margin: 0 0.4em 0.5em 0.4em;box-sizing: border-box;padding-bottom: 0.4em;background-color: white;}#sk-container-id-1 div.sk-label label {font-family: monospace;font-weight: bold;display: inline-block;line-height: 1.2em;}#sk-container-id-1 div.sk-label-container {text-align: center;}#sk-container-id-1 div.sk-container {/* jupyter's `normalize.less` sets `[hidden] { display: none; }` but bootstrap.min.css set `[hidden] { display: none !important; }` so we also need the `!important` here to be able to override the default hidden behavior on the sphinx rendered scikit-learn.org. See: https://github.com/scikit-learn/scikit-learn/issues/21755 */display: inline-block !important;position: relative;}#sk-container-id-1 div.sk-text-repr-fallback {display: none;}</style><div id=\"sk-container-id-1\" class=\"sk-top-container\"><div class=\"sk-text-repr-fallback\"><pre>LogisticRegression(C=10, n_jobs=-1, penalty=&#x27;l1&#x27;, random_state=12345,\n",
       "                   solver=&#x27;liblinear&#x27;)</pre><b>In a Jupyter environment, please rerun this cell to show the HTML representation or trust the notebook. <br />On GitHub, the HTML representation is unable to render, please try loading this page with nbviewer.org.</b></div><div class=\"sk-container\" hidden><div class=\"sk-item\"><div class=\"sk-estimator sk-toggleable\"><input class=\"sk-toggleable__control sk-hidden--visually\" id=\"sk-estimator-id-1\" type=\"checkbox\" checked><label for=\"sk-estimator-id-1\" class=\"sk-toggleable__label sk-toggleable__label-arrow\">LogisticRegression</label><div class=\"sk-toggleable__content\"><pre>LogisticRegression(C=10, n_jobs=-1, penalty=&#x27;l1&#x27;, random_state=12345,\n",
       "                   solver=&#x27;liblinear&#x27;)</pre></div></div></div></div></div>"
      ],
      "text/plain": [
       "LogisticRegression(C=10, n_jobs=-1, penalty='l1', random_state=12345,\n",
       "                   solver='liblinear')"
      ]
     },
     "execution_count": 25,
     "metadata": {},
     "output_type": "execute_result"
    }
   ],
   "source": [
    "# обучим модель на лучших параметрах\n",
    "model_lr = LogisticRegression(random_state=12345, C=10, n_jobs=-1, penalty='l1', solver='liblinear')\n",
    "model_lr.fit(features_train, target_train)"
   ]
  },
  {
   "cell_type": "code",
   "execution_count": 26,
   "id": "09476a81",
   "metadata": {},
   "outputs": [
    {
     "data": {
      "text/plain": [
       "0.7743216412971542"
      ]
     },
     "execution_count": 26,
     "metadata": {},
     "output_type": "execute_result"
    }
   ],
   "source": [
    "# найдем метрику качества\n",
    "target_predict = model_lr.predict(features_test)\n",
    "f1 = f1_score(target_test, target_predict)\n",
    "f1"
   ]
  },
  {
   "cell_type": "markdown",
   "id": "9e802151",
   "metadata": {},
   "source": [
    "### Проверка модели на адекватность"
   ]
  },
  {
   "cell_type": "code",
   "execution_count": 27,
   "id": "68a0535d",
   "metadata": {},
   "outputs": [
    {
     "name": "stdout",
     "output_type": "stream",
     "text": [
      "Результат f1_score для модели Дамми составляет: 0.17628304021392574\n"
     ]
    }
   ],
   "source": [
    "dummy_class = DummyClassifier(strategy='uniform')\n",
    "dummy_class.fit(features_train, target_train)\n",
    "DummyClassifier()\n",
    "dummy_class_predict = dummy_class.predict(features_test)\n",
    "f1 = f1_score(target_test,dummy_class_predict)\n",
    "print('Результат f1_score для модели Дамми составляет:', f1)"
   ]
  },
  {
   "cell_type": "markdown",
   "id": "51a15291",
   "metadata": {},
   "source": [
    "### Итоговый вывод"
   ]
  },
  {
   "cell_type": "markdown",
   "id": "301fb4c7",
   "metadata": {},
   "source": [
    "**Таким образом можно по проделанной работе можно сказать следующее:**\n",
    "\n",
    "---------------------------------------------------------------------------------------------------------\n",
    "- данные загрузились корректно;\n",
    "- данные содержат 3 столбца и 159292 строки;\n",
    "- столбец 'Unnamed: 0' не несет никакого функционального смысла и дублирует индекс, поэтому был удален из датафрейма;\n",
    "- пропуски и дубликаты отстуствуют;\n",
    "- наблюдается дисбаланс целевого признака, соотношение токсичных комментариев к нетоксичным порядка 1:9. Наблюдаемый дисбаланс, но такое распределение может иметь органическую природу в данных. В линейной модели нужно будет учесть это при подборе гиперпараметров;\n",
    "- текстовые данные в столбце 'text' были переведены в нижний регистр, очищены от ссылок на сайты, имен пользователей и тегов, оставили только английские символы;\n",
    "- была проведена лемматизация с применение библиотеки WordNetLemmatizer, при лемитизации учитывалось, то к какой части речи принадлежит рассмтриваемое слово;\n",
    "- были подготовлены обучающие и тестовые выборки, для признаков и таргета;\n",
    "\n",
    "\n",
    "---------------------------------------------------------------------------------------------------------\n",
    "- были обучены следующие модели: LogisticRegression и LGBMClassifier;\n",
    "- лучшее значение метрики F1 = 0.763172\t, при кросс-валидации на трейне, была получена на модели LogisticRegression с лучшими параметрами (random_state=12345, C=10, n_jobs=-1, penalty='l1', solver='liblinear');\n",
    "\n",
    "---------------------------------------------------------------------------------------------------------\n",
    "- выборки признаков были векторизированы с использованием TfidfVectorizer.\n",
    "- лучшая модель была обучена на оптимальных параметрах и проверена на тестовых данных;\n",
    "- на тестовых данных метрика F1 = 0.7743216412971542, что соответствует требованиям заказчика;\n",
    "- модель была проверена на адекватность простейшей моделью DummyClassifier, выбранная в ходе работы модель показала свою адекватность.\n",
    "\n",
    "---------------------------------------------------------------------------------------------------------\n",
    "\n",
    "**Таким образом заказчику реомендована модель LogisticRegression с параметрами (random_state=12345, C=10, n_jobs=-1, penalty='l1', solver='liblinear')**"
   ]
  }
 ],
 "metadata": {
  "ExecuteTimeLog": [
   {
    "duration": 51,
    "start_time": "2024-09-09T07:01:37.352Z"
   },
   {
    "duration": 2006,
    "start_time": "2024-09-09T07:01:44.045Z"
   },
   {
    "duration": 53,
    "start_time": "2024-09-10T14:18:22.087Z"
   },
   {
    "duration": 124,
    "start_time": "2024-09-10T19:02:25.052Z"
   },
   {
    "duration": 2213,
    "start_time": "2024-09-10T19:02:31.819Z"
   },
   {
    "duration": 0,
    "start_time": "2024-09-10T19:02:34.035Z"
   },
   {
    "duration": 0,
    "start_time": "2024-09-10T19:02:34.037Z"
   },
   {
    "duration": 1,
    "start_time": "2024-09-10T19:02:34.038Z"
   },
   {
    "duration": 0,
    "start_time": "2024-09-10T19:02:34.040Z"
   },
   {
    "duration": 0,
    "start_time": "2024-09-10T19:02:34.040Z"
   },
   {
    "duration": 0,
    "start_time": "2024-09-10T19:02:34.041Z"
   },
   {
    "duration": 0,
    "start_time": "2024-09-10T19:02:34.042Z"
   },
   {
    "duration": 0,
    "start_time": "2024-09-10T19:02:34.056Z"
   },
   {
    "duration": 0,
    "start_time": "2024-09-10T19:02:34.057Z"
   },
   {
    "duration": 0,
    "start_time": "2024-09-10T19:02:34.059Z"
   },
   {
    "duration": 0,
    "start_time": "2024-09-10T19:02:34.061Z"
   },
   {
    "duration": 0,
    "start_time": "2024-09-10T19:02:34.062Z"
   },
   {
    "duration": 0,
    "start_time": "2024-09-10T19:02:34.064Z"
   },
   {
    "duration": 0,
    "start_time": "2024-09-10T19:02:34.065Z"
   },
   {
    "duration": 0,
    "start_time": "2024-09-10T19:02:34.066Z"
   },
   {
    "duration": 1,
    "start_time": "2024-09-10T19:02:34.067Z"
   },
   {
    "duration": 0,
    "start_time": "2024-09-10T19:02:34.068Z"
   },
   {
    "duration": 0,
    "start_time": "2024-09-10T19:02:34.070Z"
   },
   {
    "duration": 0,
    "start_time": "2024-09-10T19:02:34.071Z"
   },
   {
    "duration": 0,
    "start_time": "2024-09-10T19:02:34.072Z"
   },
   {
    "duration": 0,
    "start_time": "2024-09-10T19:02:34.073Z"
   },
   {
    "duration": 0,
    "start_time": "2024-09-10T19:02:34.074Z"
   },
   {
    "duration": 0,
    "start_time": "2024-09-10T19:02:34.076Z"
   },
   {
    "duration": 0,
    "start_time": "2024-09-10T19:02:34.077Z"
   },
   {
    "duration": 0,
    "start_time": "2024-09-10T19:02:34.078Z"
   },
   {
    "duration": 0,
    "start_time": "2024-09-10T19:02:34.079Z"
   },
   {
    "duration": 0,
    "start_time": "2024-09-10T19:02:34.080Z"
   },
   {
    "duration": 0,
    "start_time": "2024-09-10T19:02:34.081Z"
   },
   {
    "duration": 301,
    "start_time": "2024-09-10T19:03:10.597Z"
   },
   {
    "duration": 16,
    "start_time": "2024-09-10T19:03:22.695Z"
   }
  ],
  "kernelspec": {
   "display_name": "Python 3 (ipykernel)",
   "language": "python",
   "name": "python3"
  },
  "language_info": {
   "codemirror_mode": {
    "name": "ipython",
    "version": 3
   },
   "file_extension": ".py",
   "mimetype": "text/x-python",
   "name": "python",
   "nbconvert_exporter": "python",
   "pygments_lexer": "ipython3",
   "version": "3.11.7"
  },
  "toc": {
   "base_numbering": 1,
   "nav_menu": {},
   "number_sections": true,
   "sideBar": true,
   "skip_h1_title": true,
   "title_cell": "Содержание",
   "title_sidebar": "Contents",
   "toc_cell": true,
   "toc_position": {
    "height": "calc(100% - 180px)",
    "left": "10px",
    "top": "150px",
    "width": "271.4px"
   },
   "toc_section_display": true,
   "toc_window_display": true
  },
  "widgets": {
   "application/vnd.jupyter.widget-state+json": {
    "state": {
     "132d6a5b1ac1450eab9296892dffc989": {
      "model_module": "@jupyter-widgets/base",
      "model_module_version": "2.0.0",
      "model_name": "LayoutModel",
      "state": {}
     },
     "2107ded8aa6f4785a25ccde7adcbcb34": {
      "model_module": "@jupyter-widgets/controls",
      "model_module_version": "2.0.0",
      "model_name": "FloatProgressModel",
      "state": {
       "bar_style": "success",
       "layout": "IPY_MODEL_bdbe585e215a40a9b75d3040b686056d",
       "max": 159292,
       "style": "IPY_MODEL_67488003d7934547a4af9b3c1d19da15",
       "value": 159292
      }
     },
     "2481986cb15b4b9ea07c095359d9451f": {
      "model_module": "@jupyter-widgets/controls",
      "model_module_version": "2.0.0",
      "model_name": "HTMLModel",
      "state": {
       "layout": "IPY_MODEL_56bb486ddf05434f96cd0661461c8ae5",
       "style": "IPY_MODEL_effe9c76b6da4ca58cc7b3a0aa078a9d",
       "value": "100%"
      }
     },
     "27678dd26b814b12a6ea5cfc3d01a1a4": {
      "model_module": "@jupyter-widgets/controls",
      "model_module_version": "2.0.0",
      "model_name": "FloatProgressModel",
      "state": {
       "bar_style": "success",
       "layout": "IPY_MODEL_e76b887de7734c7bba6506803109f64f",
       "max": 159292,
       "style": "IPY_MODEL_dacab44b833648c2a9db7efdb94c3a05",
       "value": 159292
      }
     },
     "28ce5e268a8a4fc69bbf35c0d6a0eec0": {
      "model_module": "@jupyter-widgets/controls",
      "model_module_version": "2.0.0",
      "model_name": "HTMLStyleModel",
      "state": {
       "description_width": "",
       "font_size": null,
       "text_color": null
      }
     },
     "3603e8a69ddd48edb37b68c5e3f17552": {
      "model_module": "@jupyter-widgets/base",
      "model_module_version": "2.0.0",
      "model_name": "LayoutModel",
      "state": {}
     },
     "40df5881ded54350b92bb747b33827aa": {
      "model_module": "@jupyter-widgets/controls",
      "model_module_version": "2.0.0",
      "model_name": "HTMLModel",
      "state": {
       "layout": "IPY_MODEL_132d6a5b1ac1450eab9296892dffc989",
       "style": "IPY_MODEL_cbd248c6b83345ae9c64e6a5799c58cd",
       "value": " 159292/159292 [1:39:41&lt;00:00, 27.04it/s]"
      }
     },
     "41382c680f4c4a1593abcbdf62f81709": {
      "model_module": "@jupyter-widgets/controls",
      "model_module_version": "2.0.0",
      "model_name": "HTMLModel",
      "state": {
       "layout": "IPY_MODEL_e3d34b21b8634c0ca6feb48e7680a17f",
       "style": "IPY_MODEL_28ce5e268a8a4fc69bbf35c0d6a0eec0",
       "value": " 159292/159292 [00:02&lt;00:00, 73551.83it/s]"
      }
     },
     "484489bae54f485ebb3d05619351491d": {
      "model_module": "@jupyter-widgets/controls",
      "model_module_version": "2.0.0",
      "model_name": "HBoxModel",
      "state": {
       "children": [
        "IPY_MODEL_2481986cb15b4b9ea07c095359d9451f",
        "IPY_MODEL_27678dd26b814b12a6ea5cfc3d01a1a4",
        "IPY_MODEL_40df5881ded54350b92bb747b33827aa"
       ],
       "layout": "IPY_MODEL_3603e8a69ddd48edb37b68c5e3f17552"
      }
     },
     "56bb486ddf05434f96cd0661461c8ae5": {
      "model_module": "@jupyter-widgets/base",
      "model_module_version": "2.0.0",
      "model_name": "LayoutModel",
      "state": {}
     },
     "6503557936c64393aa551b3994481bfe": {
      "model_module": "@jupyter-widgets/controls",
      "model_module_version": "2.0.0",
      "model_name": "HTMLStyleModel",
      "state": {
       "description_width": "",
       "font_size": null,
       "text_color": null
      }
     },
     "67488003d7934547a4af9b3c1d19da15": {
      "model_module": "@jupyter-widgets/controls",
      "model_module_version": "2.0.0",
      "model_name": "ProgressStyleModel",
      "state": {
       "description_width": ""
      }
     },
     "831ec36432824d72a10d4015c47152be": {
      "model_module": "@jupyter-widgets/controls",
      "model_module_version": "2.0.0",
      "model_name": "HTMLModel",
      "state": {
       "layout": "IPY_MODEL_d016c46b9c1b44ffb4d25b1f940aa3dd",
       "style": "IPY_MODEL_6503557936c64393aa551b3994481bfe",
       "value": "100%"
      }
     },
     "98a88bac3e594851b310837c428892db": {
      "model_module": "@jupyter-widgets/base",
      "model_module_version": "2.0.0",
      "model_name": "LayoutModel",
      "state": {}
     },
     "bdbe585e215a40a9b75d3040b686056d": {
      "model_module": "@jupyter-widgets/base",
      "model_module_version": "2.0.0",
      "model_name": "LayoutModel",
      "state": {}
     },
     "cbd248c6b83345ae9c64e6a5799c58cd": {
      "model_module": "@jupyter-widgets/controls",
      "model_module_version": "2.0.0",
      "model_name": "HTMLStyleModel",
      "state": {
       "description_width": "",
       "font_size": null,
       "text_color": null
      }
     },
     "d016c46b9c1b44ffb4d25b1f940aa3dd": {
      "model_module": "@jupyter-widgets/base",
      "model_module_version": "2.0.0",
      "model_name": "LayoutModel",
      "state": {}
     },
     "dacab44b833648c2a9db7efdb94c3a05": {
      "model_module": "@jupyter-widgets/controls",
      "model_module_version": "2.0.0",
      "model_name": "ProgressStyleModel",
      "state": {
       "description_width": ""
      }
     },
     "e3d34b21b8634c0ca6feb48e7680a17f": {
      "model_module": "@jupyter-widgets/base",
      "model_module_version": "2.0.0",
      "model_name": "LayoutModel",
      "state": {}
     },
     "e76b887de7734c7bba6506803109f64f": {
      "model_module": "@jupyter-widgets/base",
      "model_module_version": "2.0.0",
      "model_name": "LayoutModel",
      "state": {}
     },
     "effe9c76b6da4ca58cc7b3a0aa078a9d": {
      "model_module": "@jupyter-widgets/controls",
      "model_module_version": "2.0.0",
      "model_name": "HTMLStyleModel",
      "state": {
       "description_width": "",
       "font_size": null,
       "text_color": null
      }
     },
     "fc08a710fad743cd913a0bf19deb04f4": {
      "model_module": "@jupyter-widgets/controls",
      "model_module_version": "2.0.0",
      "model_name": "HBoxModel",
      "state": {
       "children": [
        "IPY_MODEL_831ec36432824d72a10d4015c47152be",
        "IPY_MODEL_2107ded8aa6f4785a25ccde7adcbcb34",
        "IPY_MODEL_41382c680f4c4a1593abcbdf62f81709"
       ],
       "layout": "IPY_MODEL_98a88bac3e594851b310837c428892db"
      }
     }
    },
    "version_major": 2,
    "version_minor": 0
   }
  }
 },
 "nbformat": 4,
 "nbformat_minor": 5
}
