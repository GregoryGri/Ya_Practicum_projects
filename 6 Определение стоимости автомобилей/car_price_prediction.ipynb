{
 "cells": [
  {
   "cell_type": "markdown",
   "metadata": {},
   "source": [
    "# Определение стоимости автомобилей"
   ]
  },
  {
   "cell_type": "markdown",
   "metadata": {},
   "source": [
    "## Описание проекта"
   ]
  },
  {
   "cell_type": "markdown",
   "metadata": {},
   "source": [
    "Сервис по продаже автомобилей с пробегом «Не бит, не крашен» разрабатывает приложение для привлечения новых клиентов. В нём можно быстро узнать рыночную стоимость своего автомобиля. В вашем распоряжении исторические данные: технические характеристики, комплектации и цены автомобилей.\n",
    "\n",
    "Заказчику важны:\n",
    "\n",
    "- качество предсказания;\n",
    "- скорость предсказания;\n",
    "- время обучения."
   ]
  },
  {
   "cell_type": "markdown",
   "metadata": {},
   "source": [
    "## Цель проекта"
   ]
  },
  {
   "cell_type": "markdown",
   "metadata": {},
   "source": [
    "Необходимо пострить модель, которая будет предсказывать рыночную стоимость автомобиля. Оценка качества модели определяется метрикой RMSE. Значение метрики должно быть меньше 2500. При заявленном качестве по метрике, модель должна быть максимально быстродейственной."
   ]
  },
  {
   "cell_type": "markdown",
   "metadata": {},
   "source": [
    "## План работы"
   ]
  },
  {
   "cell_type": "markdown",
   "metadata": {},
   "source": [
    "1. Загрузка данных.\n",
    "2. Изучение и предобработка данных.\n",
    "3. Подготовка выборки для машинного обучения.\n",
    "4. Обучение моделей.\n",
    "5. Оценка качества предсказания и время обучения моделей.\n",
    "6. Выбор лучшей модели, по праматерам качество/время обучения, проверка на тестовой выборке."
   ]
  },
  {
   "cell_type": "markdown",
   "metadata": {},
   "source": [
    "## Описание данных"
   ]
  },
  {
   "cell_type": "markdown",
   "metadata": {},
   "source": [
    "Признаки\n",
    "- **DateCrawled** — дата скачивания анкеты из базы\n",
    "- **VehicleType** — тип автомобильного кузова\n",
    "- **RegistrationYear** — год регистрации автомобиля\n",
    "- **Gearbox** — тип коробки передач\n",
    "- **Power** — мощность (л. с.)\n",
    "- **Model** — модель автомобиля\n",
    "- **Kilometer** — пробег (км)\n",
    "- **RegistrationMonth** — месяц регистрации автомобиля\n",
    "- **FuelType** — тип топлива\n",
    "- **Brand** — марка автомобиля\n",
    "- **Repaired** — была машина в ремонте или нет\n",
    "- **DateCreated** — дата создания анкеты\n",
    "- **NumberOfPictures** — количество фотографий автомобиля\n",
    "- **PostalCode** — почтовый индекс владельца анкеты (пользователя)\n",
    "- **LastSeen** — дата последней активности пользователя\n",
    "\n",
    "\n",
    "Целевой признак\n",
    "- **Price** — цена (евро)"
   ]
  },
  {
   "cell_type": "markdown",
   "metadata": {},
   "source": [
    "## Настройка окружения"
   ]
  },
  {
   "cell_type": "markdown",
   "metadata": {},
   "source": [
    "### Библиотеки"
   ]
  },
  {
   "cell_type": "code",
   "execution_count": 1,
   "metadata": {},
   "outputs": [
    {
     "name": "stdout",
     "output_type": "stream",
     "text": [
      "Requirement already satisfied: lightgbm in c:\\users\\user\\anaconda3\\lib\\site-packages (4.5.0)\n",
      "Requirement already satisfied: numpy>=1.17.0 in c:\\users\\user\\anaconda3\\lib\\site-packages (from lightgbm) (1.26.4)\n",
      "Requirement already satisfied: scipy in c:\\users\\user\\anaconda3\\lib\\site-packages (from lightgbm) (1.11.4)\n"
     ]
    }
   ],
   "source": [
    "import pandas as pd\n",
    "import numpy as np\n",
    "from matplotlib import pyplot as plt\n",
    "import seaborn as sns\n",
    "from sklearn.linear_model import LinearRegression\n",
    "from sklearn.ensemble import RandomForestRegressor\n",
    "from sklearn.dummy import DummyRegressor\n",
    "from sklearn.model_selection import train_test_split\n",
    "from sklearn.preprocessing import StandardScaler\n",
    "from sklearn.metrics import mean_squared_error\n",
    "from sklearn.preprocessing import OrdinalEncoder\n",
    "from sklearn.preprocessing import OneHotEncoder\n",
    "from sklearn.tree import DecisionTreeRegressor\n",
    "from sklearn.ensemble import RandomForestRegressor\n",
    "from sklearn.model_selection import GridSearchCV\n",
    "import lightgbm as lgb\n",
    "!pip install lightgbm\n",
    "from time import time\n",
    "import warnings\n",
    "warnings.filterwarnings('ignore')"
   ]
  },
  {
   "cell_type": "markdown",
   "metadata": {},
   "source": [
    "### Функции"
   ]
  },
  {
   "cell_type": "code",
   "execution_count": 2,
   "metadata": {},
   "outputs": [],
   "source": [
    "# функция изучения общих сведений по датафрейму\n",
    "def data_exam(df):\n",
    "    df.info()\n",
    "    print('*' * 70)\n",
    "    print('Размерность таблицы:' + '\\n', df.shape)\n",
    "    print('*' * 70)\n",
    "    display(df.head(5))\n",
    "    print('*' * 70)\n",
    "    print('Количество пропусков:' + '\\n', df.isna().sum())\n",
    "    print('*' * 70)\n",
    "    print('Названия столбцов:' + '\\n', df.columns)\n",
    "    print('*' * 70)\n",
    "    print('Количество явных дубликатов:' + '\\n', df.duplicated().sum())\n",
    "    print('*' * 70)\n",
    "    print('Уникальные значения в категориальных столбцах')\n",
    "    print('-' * 70)\n",
    "    list_object = []\n",
    "    list_num = []\n",
    "    for column in df.columns:\n",
    "        if df[column].dtype == 'object':\n",
    "            list_object.append(column)\n",
    "        else:\n",
    "            list_num.append(column)\n",
    "    list_object.remove('DateCrawled')\n",
    "    list_object.remove('DateCreated')\n",
    "    list_object.remove('LastSeen')\n",
    "    for value in list_object:\n",
    "        print('Столбец', value, ':', df[value].unique())\n",
    "        print('-' * 70)\n",
    "    list_num.remove('NumberOfPictures')\n",
    "\n",
    "    list_num.remove('PostalCode')\n",
    "    print('*' * 70)\n",
    "    print('Числовые столбцы')\n",
    "    for i in list_num:\n",
    "        fig, (ax1, ax2) = plt.subplots(1, 2, figsize=(15,5))\n",
    "        ax1.hist(df[i], bins=10);\n",
    "        ax1.set_title(i)\n",
    "        ax1.set_xlabel('Значения')\n",
    "        ax1.set_ylabel('Частота')\n",
    "        ax2.boxplot(df[i]);\n",
    "        ax2.set_title(i)\n",
    "        plt.show()"
   ]
  },
  {
   "cell_type": "markdown",
   "metadata": {},
   "source": [
    "## Подготовка данных"
   ]
  },
  {
   "cell_type": "markdown",
   "metadata": {},
   "source": [
    "### Загрузка и изучение данных"
   ]
  },
  {
   "cell_type": "code",
   "execution_count": 3,
   "metadata": {},
   "outputs": [],
   "source": [
    "# загрузим данные\n",
    "try:\n",
    "    df = pd.read_csv('/datasets/autos.csv')\n",
    "\n",
    "except:\n",
    "    df = pd.read_csv('https://code.s3.yandex.net/datasets/autos.csv')"
   ]
  },
  {
   "cell_type": "code",
   "execution_count": 4,
   "metadata": {
    "scrolled": false
   },
   "outputs": [
    {
     "name": "stdout",
     "output_type": "stream",
     "text": [
      "<class 'pandas.core.frame.DataFrame'>\n",
      "RangeIndex: 354369 entries, 0 to 354368\n",
      "Data columns (total 16 columns):\n",
      " #   Column             Non-Null Count   Dtype \n",
      "---  ------             --------------   ----- \n",
      " 0   DateCrawled        354369 non-null  object\n",
      " 1   Price              354369 non-null  int64 \n",
      " 2   VehicleType        316879 non-null  object\n",
      " 3   RegistrationYear   354369 non-null  int64 \n",
      " 4   Gearbox            334536 non-null  object\n",
      " 5   Power              354369 non-null  int64 \n",
      " 6   Model              334664 non-null  object\n",
      " 7   Kilometer          354369 non-null  int64 \n",
      " 8   RegistrationMonth  354369 non-null  int64 \n",
      " 9   FuelType           321474 non-null  object\n",
      " 10  Brand              354369 non-null  object\n",
      " 11  Repaired           283215 non-null  object\n",
      " 12  DateCreated        354369 non-null  object\n",
      " 13  NumberOfPictures   354369 non-null  int64 \n",
      " 14  PostalCode         354369 non-null  int64 \n",
      " 15  LastSeen           354369 non-null  object\n",
      "dtypes: int64(7), object(9)\n",
      "memory usage: 43.3+ MB\n",
      "**********************************************************************\n",
      "Размерность таблицы:\n",
      " (354369, 16)\n",
      "**********************************************************************\n"
     ]
    },
    {
     "data": {
      "text/html": [
       "<div>\n",
       "<style scoped>\n",
       "    .dataframe tbody tr th:only-of-type {\n",
       "        vertical-align: middle;\n",
       "    }\n",
       "\n",
       "    .dataframe tbody tr th {\n",
       "        vertical-align: top;\n",
       "    }\n",
       "\n",
       "    .dataframe thead th {\n",
       "        text-align: right;\n",
       "    }\n",
       "</style>\n",
       "<table border=\"1\" class=\"dataframe\">\n",
       "  <thead>\n",
       "    <tr style=\"text-align: right;\">\n",
       "      <th></th>\n",
       "      <th>DateCrawled</th>\n",
       "      <th>Price</th>\n",
       "      <th>VehicleType</th>\n",
       "      <th>RegistrationYear</th>\n",
       "      <th>Gearbox</th>\n",
       "      <th>Power</th>\n",
       "      <th>Model</th>\n",
       "      <th>Kilometer</th>\n",
       "      <th>RegistrationMonth</th>\n",
       "      <th>FuelType</th>\n",
       "      <th>Brand</th>\n",
       "      <th>Repaired</th>\n",
       "      <th>DateCreated</th>\n",
       "      <th>NumberOfPictures</th>\n",
       "      <th>PostalCode</th>\n",
       "      <th>LastSeen</th>\n",
       "    </tr>\n",
       "  </thead>\n",
       "  <tbody>\n",
       "    <tr>\n",
       "      <th>0</th>\n",
       "      <td>2016-03-24 11:52:17</td>\n",
       "      <td>480</td>\n",
       "      <td>NaN</td>\n",
       "      <td>1993</td>\n",
       "      <td>manual</td>\n",
       "      <td>0</td>\n",
       "      <td>golf</td>\n",
       "      <td>150000</td>\n",
       "      <td>0</td>\n",
       "      <td>petrol</td>\n",
       "      <td>volkswagen</td>\n",
       "      <td>NaN</td>\n",
       "      <td>2016-03-24 00:00:00</td>\n",
       "      <td>0</td>\n",
       "      <td>70435</td>\n",
       "      <td>2016-04-07 03:16:57</td>\n",
       "    </tr>\n",
       "    <tr>\n",
       "      <th>1</th>\n",
       "      <td>2016-03-24 10:58:45</td>\n",
       "      <td>18300</td>\n",
       "      <td>coupe</td>\n",
       "      <td>2011</td>\n",
       "      <td>manual</td>\n",
       "      <td>190</td>\n",
       "      <td>NaN</td>\n",
       "      <td>125000</td>\n",
       "      <td>5</td>\n",
       "      <td>gasoline</td>\n",
       "      <td>audi</td>\n",
       "      <td>yes</td>\n",
       "      <td>2016-03-24 00:00:00</td>\n",
       "      <td>0</td>\n",
       "      <td>66954</td>\n",
       "      <td>2016-04-07 01:46:50</td>\n",
       "    </tr>\n",
       "    <tr>\n",
       "      <th>2</th>\n",
       "      <td>2016-03-14 12:52:21</td>\n",
       "      <td>9800</td>\n",
       "      <td>suv</td>\n",
       "      <td>2004</td>\n",
       "      <td>auto</td>\n",
       "      <td>163</td>\n",
       "      <td>grand</td>\n",
       "      <td>125000</td>\n",
       "      <td>8</td>\n",
       "      <td>gasoline</td>\n",
       "      <td>jeep</td>\n",
       "      <td>NaN</td>\n",
       "      <td>2016-03-14 00:00:00</td>\n",
       "      <td>0</td>\n",
       "      <td>90480</td>\n",
       "      <td>2016-04-05 12:47:46</td>\n",
       "    </tr>\n",
       "    <tr>\n",
       "      <th>3</th>\n",
       "      <td>2016-03-17 16:54:04</td>\n",
       "      <td>1500</td>\n",
       "      <td>small</td>\n",
       "      <td>2001</td>\n",
       "      <td>manual</td>\n",
       "      <td>75</td>\n",
       "      <td>golf</td>\n",
       "      <td>150000</td>\n",
       "      <td>6</td>\n",
       "      <td>petrol</td>\n",
       "      <td>volkswagen</td>\n",
       "      <td>no</td>\n",
       "      <td>2016-03-17 00:00:00</td>\n",
       "      <td>0</td>\n",
       "      <td>91074</td>\n",
       "      <td>2016-03-17 17:40:17</td>\n",
       "    </tr>\n",
       "    <tr>\n",
       "      <th>4</th>\n",
       "      <td>2016-03-31 17:25:20</td>\n",
       "      <td>3600</td>\n",
       "      <td>small</td>\n",
       "      <td>2008</td>\n",
       "      <td>manual</td>\n",
       "      <td>69</td>\n",
       "      <td>fabia</td>\n",
       "      <td>90000</td>\n",
       "      <td>7</td>\n",
       "      <td>gasoline</td>\n",
       "      <td>skoda</td>\n",
       "      <td>no</td>\n",
       "      <td>2016-03-31 00:00:00</td>\n",
       "      <td>0</td>\n",
       "      <td>60437</td>\n",
       "      <td>2016-04-06 10:17:21</td>\n",
       "    </tr>\n",
       "  </tbody>\n",
       "</table>\n",
       "</div>"
      ],
      "text/plain": [
       "           DateCrawled  Price VehicleType  RegistrationYear Gearbox  Power  \\\n",
       "0  2016-03-24 11:52:17    480         NaN              1993  manual      0   \n",
       "1  2016-03-24 10:58:45  18300       coupe              2011  manual    190   \n",
       "2  2016-03-14 12:52:21   9800         suv              2004    auto    163   \n",
       "3  2016-03-17 16:54:04   1500       small              2001  manual     75   \n",
       "4  2016-03-31 17:25:20   3600       small              2008  manual     69   \n",
       "\n",
       "   Model  Kilometer  RegistrationMonth  FuelType       Brand Repaired  \\\n",
       "0   golf     150000                  0    petrol  volkswagen      NaN   \n",
       "1    NaN     125000                  5  gasoline        audi      yes   \n",
       "2  grand     125000                  8  gasoline        jeep      NaN   \n",
       "3   golf     150000                  6    petrol  volkswagen       no   \n",
       "4  fabia      90000                  7  gasoline       skoda       no   \n",
       "\n",
       "           DateCreated  NumberOfPictures  PostalCode             LastSeen  \n",
       "0  2016-03-24 00:00:00                 0       70435  2016-04-07 03:16:57  \n",
       "1  2016-03-24 00:00:00                 0       66954  2016-04-07 01:46:50  \n",
       "2  2016-03-14 00:00:00                 0       90480  2016-04-05 12:47:46  \n",
       "3  2016-03-17 00:00:00                 0       91074  2016-03-17 17:40:17  \n",
       "4  2016-03-31 00:00:00                 0       60437  2016-04-06 10:17:21  "
      ]
     },
     "metadata": {},
     "output_type": "display_data"
    },
    {
     "name": "stdout",
     "output_type": "stream",
     "text": [
      "**********************************************************************\n",
      "Количество пропусков:\n",
      " DateCrawled              0\n",
      "Price                    0\n",
      "VehicleType          37490\n",
      "RegistrationYear         0\n",
      "Gearbox              19833\n",
      "Power                    0\n",
      "Model                19705\n",
      "Kilometer                0\n",
      "RegistrationMonth        0\n",
      "FuelType             32895\n",
      "Brand                    0\n",
      "Repaired             71154\n",
      "DateCreated              0\n",
      "NumberOfPictures         0\n",
      "PostalCode               0\n",
      "LastSeen                 0\n",
      "dtype: int64\n",
      "**********************************************************************\n",
      "Названия столбцов:\n",
      " Index(['DateCrawled', 'Price', 'VehicleType', 'RegistrationYear', 'Gearbox',\n",
      "       'Power', 'Model', 'Kilometer', 'RegistrationMonth', 'FuelType', 'Brand',\n",
      "       'Repaired', 'DateCreated', 'NumberOfPictures', 'PostalCode',\n",
      "       'LastSeen'],\n",
      "      dtype='object')\n",
      "**********************************************************************\n",
      "Количество явных дубликатов:\n",
      " 4\n",
      "**********************************************************************\n",
      "Уникальные значения в категориальных столбцах\n",
      "----------------------------------------------------------------------\n",
      "Столбец VehicleType : [nan 'coupe' 'suv' 'small' 'sedan' 'convertible' 'bus' 'wagon' 'other']\n",
      "----------------------------------------------------------------------\n",
      "Столбец Gearbox : ['manual' 'auto' nan]\n",
      "----------------------------------------------------------------------\n",
      "Столбец Model : ['golf' nan 'grand' 'fabia' '3er' '2_reihe' 'other' 'c_max' '3_reihe'\n",
      " 'passat' 'navara' 'ka' 'polo' 'twingo' 'a_klasse' 'scirocco' '5er'\n",
      " 'meriva' 'arosa' 'c4' 'civic' 'transporter' 'punto' 'e_klasse' 'clio'\n",
      " 'kadett' 'kangoo' 'corsa' 'one' 'fortwo' '1er' 'b_klasse' 'signum'\n",
      " 'astra' 'a8' 'jetta' 'fiesta' 'c_klasse' 'micra' 'vito' 'sprinter' '156'\n",
      " 'escort' 'forester' 'xc_reihe' 'scenic' 'a4' 'a1' 'insignia' 'combo'\n",
      " 'focus' 'tt' 'a6' 'jazz' 'omega' 'slk' '7er' '80' '147' '100' 'z_reihe'\n",
      " 'sportage' 'sorento' 'v40' 'ibiza' 'mustang' 'eos' 'touran' 'getz' 'a3'\n",
      " 'almera' 'megane' 'lupo' 'r19' 'zafira' 'caddy' 'mondeo' 'cordoba' 'colt'\n",
      " 'impreza' 'vectra' 'berlingo' 'tiguan' 'i_reihe' 'espace' 'sharan'\n",
      " '6_reihe' 'panda' 'up' 'seicento' 'ceed' '5_reihe' 'yeti' 'octavia' 'mii'\n",
      " 'rx_reihe' '6er' 'modus' 'fox' 'matiz' 'beetle' 'c1' 'rio' 'touareg'\n",
      " 'logan' 'spider' 'cuore' 's_max' 'a2' 'galaxy' 'c3' 'viano' 's_klasse'\n",
      " '1_reihe' 'avensis' 'roomster' 'sl' 'kaefer' 'santa' 'cooper' 'leon'\n",
      " '4_reihe' 'a5' '500' 'laguna' 'ptcruiser' 'clk' 'primera' 'x_reihe'\n",
      " 'exeo' '159' 'transit' 'juke' 'qashqai' 'carisma' 'accord' 'corolla'\n",
      " 'lanos' 'phaeton' 'verso' 'swift' 'rav' 'picanto' 'boxster' 'kalos'\n",
      " 'superb' 'stilo' 'alhambra' 'mx_reihe' 'roadster' 'ypsilon' 'cayenne'\n",
      " 'galant' 'justy' '90' 'sirion' 'crossfire' 'agila' 'duster' 'cr_reihe'\n",
      " 'v50' 'c_reihe' 'v_klasse' 'm_klasse' 'yaris' 'c5' 'aygo' 'cc' 'carnival'\n",
      " 'fusion' '911' 'bora' 'forfour' 'm_reihe' 'cl' 'tigra' '300c' 'spark'\n",
      " 'v70' 'kuga' 'x_type' 'ducato' 's_type' 'x_trail' 'toledo' 'altea'\n",
      " 'voyager' 'calibra' 'bravo' 'antara' 'tucson' 'citigo' 'jimny' 'wrangler'\n",
      " 'lybra' 'q7' 'lancer' 'captiva' 'c2' 'discovery' 'freelander' 'sandero'\n",
      " 'note' '900' 'cherokee' 'clubman' 'samara' 'defender' '601' 'cx_reihe'\n",
      " 'legacy' 'pajero' 'auris' 'niva' 's60' 'nubira' 'vivaro' 'g_klasse'\n",
      " 'lodgy' '850' 'range_rover' 'q3' 'serie_2' 'glk' 'charade' 'croma'\n",
      " 'outlander' 'doblo' 'musa' 'move' '9000' 'v60' '145' 'aveo' '200' 'b_max'\n",
      " 'range_rover_sport' 'terios' 'rangerover' 'q5' 'range_rover_evoque'\n",
      " 'materia' 'delta' 'gl' 'kalina' 'amarok' 'elefantino' 'i3' 'kappa'\n",
      " 'serie_3' 'serie_1']\n",
      "----------------------------------------------------------------------\n",
      "Столбец FuelType : ['petrol' 'gasoline' nan 'lpg' 'other' 'hybrid' 'cng' 'electric']\n",
      "----------------------------------------------------------------------\n",
      "Столбец Brand : ['volkswagen' 'audi' 'jeep' 'skoda' 'bmw' 'peugeot' 'ford' 'mazda'\n",
      " 'nissan' 'renault' 'mercedes_benz' 'opel' 'seat' 'citroen' 'honda' 'fiat'\n",
      " 'mini' 'smart' 'hyundai' 'sonstige_autos' 'alfa_romeo' 'subaru' 'volvo'\n",
      " 'mitsubishi' 'kia' 'suzuki' 'lancia' 'toyota' 'chevrolet' 'dacia'\n",
      " 'daihatsu' 'trabant' 'saab' 'chrysler' 'jaguar' 'daewoo' 'porsche'\n",
      " 'rover' 'land_rover' 'lada']\n",
      "----------------------------------------------------------------------\n",
      "Столбец Repaired : [nan 'yes' 'no']\n",
      "----------------------------------------------------------------------\n",
      "**********************************************************************\n",
      "Числовые столбцы\n"
     ]
    },
    {
     "data": {
      "image/png": "[encoded data removed]",
      "text/plain": [
       "<Figure size 1500x500 with 2 Axes>"
      ]
     },
     "metadata": {},
     "output_type": "display_data"
    },
    {
     "data": {
      "image/png": "[encoded data removed]",
      "text/plain": [
       "<Figure size 1500x500 with 2 Axes>"
      ]
     },
     "metadata": {},
     "output_type": "display_data"
    },
    {
     "data": {
      "image/png": "[encoded data removed]",
      "text/plain": [
       "<Figure size 1500x500 with 2 Axes>"
      ]
     },
     "metadata": {},
     "output_type": "display_data"
    },
    {
     "data": {
      "image/png": "[encoded data removed]",
      "text/plain": [
       "<Figure size 1500x500 with 2 Axes>"
      ]
     },
     "metadata": {},
     "output_type": "display_data"
    },
    {
     "data": {
      "image/png": "[encoded data removed]",
      "text/plain": [
       "<Figure size 1500x500 with 2 Axes>"
      ]
     },
     "metadata": {},
     "output_type": "display_data"
    }
   ],
   "source": [
    "# исследуем данные\n",
    "data_exam(df)"
   ]
  },
  {
   "cell_type": "markdown",
   "metadata": {},
   "source": [
    "Загрузив и проведя первичный осмотр данных можно сделать следующие выводы:\n",
    "  - данные загрузились корректно;\n",
    "  - датафрейм содержит 354369 строк и 16 столбцов;\n",
    "  - названия столбцов представлены в \"верблюжьем\" стиле, необходимо будет перевести в \"змеиный\";\n",
    "  - в данных есть явные дубликаты, необходимо будет их удалить;\n",
    "  - в данных незначимые для машинного обучения столбцы, а именно: DateCrawled, RegistrationMonth, DateCreated, NumberOfPictures, PostalCode, LastSeen, необходимо будет их удалить;\n",
    "  - в некоторых значимых столбцах есть пропуски данных, необходимо будет их обработать;\n",
    "  - в категориальных столбцах наблюдается неявное дублирование в названии категорий: в столбце FuelType встречается разное название одного и того же вида топлива - бензина ('petrol' и 'gasoline'); в столбце Model - разное написание одной модели rangerover и range_rover. это нужно будет учесть в предобработке данных;\n",
    "  - во всех значимых числовых столбцах присутствуют выбросы, необходимо будет проработать и этот момент;\n",
    "  - данные в столбце с годом регистрации автомобиля RegistrationYear, имеют целочисленный тип, что не является помехой для наших целей, данные имеют неправдоподобные выбросы из далекого прошлого и далекого будующего, необходимо будет поработать с этими выбросами;\n",
    "  - данные в столбце с годом регистрации автомобиля RegistrationMonth имеют нулевые значения, при этом основная нумерация от 1 до 12, необходимо будет поработать с этими аномальными значениями;\n",
    "  - данные в столбце с пробегом так же имеют выбросы в направлении малых пробегов, но это может быть вполне реальной картиной, даже для старых автомобилей, так не редкость, что машина может просто простоять в гараже, поэтому этот столбнц оставим как есть."
   ]
  },
  {
   "cell_type": "markdown",
   "metadata": {},
   "source": [
    "### Предобработка данных"
   ]
  },
  {
   "cell_type": "markdown",
   "metadata": {},
   "source": [
    "#### Изменение стиля названий столбцов"
   ]
  },
  {
   "cell_type": "code",
   "execution_count": 5,
   "metadata": {},
   "outputs": [],
   "source": [
    "#произведем приведение названий столбцов к змеиному стилю\n",
    "df = df.rename(columns={'DateCrawled':'date_crawled', 'Price':'price', 'VehicleType':'vehicle_type',\\\n",
    "                        'RegistrationYear':'registration_year', 'Gearbox':'gearbox','Power':'power',\\\n",
    "                        'Model':'model', 'Kilometer':'kilometer', 'RegistrationMonth':'registration_month',\\\n",
    "                        'FuelType':'fuel_type', 'Brand':'brand', 'Repaired':'repaired', 'DateCreated':'date_created',\\\n",
    "                        'NumberOfPictures':'number_of_pictures', 'PostalCode':'postal_code', 'LastSeen':'last_seen'})"
   ]
  },
  {
   "cell_type": "code",
   "execution_count": 6,
   "metadata": {
    "scrolled": true
   },
   "outputs": [
    {
     "data": {
      "text/plain": [
       "Index(['date_crawled', 'price', 'vehicle_type', 'registration_year', 'gearbox',\n",
       "       'power', 'model', 'kilometer', 'registration_month', 'fuel_type',\n",
       "       'brand', 'repaired', 'date_created', 'number_of_pictures',\n",
       "       'postal_code', 'last_seen'],\n",
       "      dtype='object')"
      ]
     },
     "execution_count": 6,
     "metadata": {},
     "output_type": "execute_result"
    }
   ],
   "source": [
    "# проверим\n",
    "df.columns"
   ]
  },
  {
   "cell_type": "markdown",
   "metadata": {},
   "source": [
    "#### Удаление явных дубликатов"
   ]
  },
  {
   "cell_type": "code",
   "execution_count": 7,
   "metadata": {},
   "outputs": [],
   "source": [
    "# скопируем изначальный датафрейм для последующего определения количества удаленных данных\n",
    "df_old = df.copy()"
   ]
  },
  {
   "cell_type": "code",
   "execution_count": 8,
   "metadata": {},
   "outputs": [
    {
     "name": "stdout",
     "output_type": "stream",
     "text": [
      "(354365, 16) (354369, 16)\n"
     ]
    }
   ],
   "source": [
    "# произведем удаление явных дубликатов и проверим\n",
    "df = df.drop_duplicates()\n",
    "print(df.shape, df_old.shape)"
   ]
  },
  {
   "cell_type": "markdown",
   "metadata": {},
   "source": [
    "#### Удаление незначимых столбцов"
   ]
  },
  {
   "cell_type": "code",
   "execution_count": 9,
   "metadata": {
    "scrolled": true
   },
   "outputs": [],
   "source": [
    "# удалим незначимые для наших целей столбцы\n",
    "df = df.drop(['number_of_pictures', 'postal_code', 'date_created', 'last_seen', 'date_crawled'], axis=1)"
   ]
  },
  {
   "cell_type": "code",
   "execution_count": 10,
   "metadata": {},
   "outputs": [
    {
     "data": {
      "text/html": [
       "<div>\n",
       "<style scoped>\n",
       "    .dataframe tbody tr th:only-of-type {\n",
       "        vertical-align: middle;\n",
       "    }\n",
       "\n",
       "    .dataframe tbody tr th {\n",
       "        vertical-align: top;\n",
       "    }\n",
       "\n",
       "    .dataframe thead th {\n",
       "        text-align: right;\n",
       "    }\n",
       "</style>\n",
       "<table border=\"1\" class=\"dataframe\">\n",
       "  <thead>\n",
       "    <tr style=\"text-align: right;\">\n",
       "      <th></th>\n",
       "      <th>price</th>\n",
       "      <th>vehicle_type</th>\n",
       "      <th>registration_year</th>\n",
       "      <th>gearbox</th>\n",
       "      <th>power</th>\n",
       "      <th>model</th>\n",
       "      <th>kilometer</th>\n",
       "      <th>registration_month</th>\n",
       "      <th>fuel_type</th>\n",
       "      <th>brand</th>\n",
       "      <th>repaired</th>\n",
       "    </tr>\n",
       "  </thead>\n",
       "  <tbody>\n",
       "    <tr>\n",
       "      <th>0</th>\n",
       "      <td>480</td>\n",
       "      <td>NaN</td>\n",
       "      <td>1993</td>\n",
       "      <td>manual</td>\n",
       "      <td>0</td>\n",
       "      <td>golf</td>\n",
       "      <td>150000</td>\n",
       "      <td>0</td>\n",
       "      <td>petrol</td>\n",
       "      <td>volkswagen</td>\n",
       "      <td>NaN</td>\n",
       "    </tr>\n",
       "    <tr>\n",
       "      <th>1</th>\n",
       "      <td>18300</td>\n",
       "      <td>coupe</td>\n",
       "      <td>2011</td>\n",
       "      <td>manual</td>\n",
       "      <td>190</td>\n",
       "      <td>NaN</td>\n",
       "      <td>125000</td>\n",
       "      <td>5</td>\n",
       "      <td>gasoline</td>\n",
       "      <td>audi</td>\n",
       "      <td>yes</td>\n",
       "    </tr>\n",
       "    <tr>\n",
       "      <th>2</th>\n",
       "      <td>9800</td>\n",
       "      <td>suv</td>\n",
       "      <td>2004</td>\n",
       "      <td>auto</td>\n",
       "      <td>163</td>\n",
       "      <td>grand</td>\n",
       "      <td>125000</td>\n",
       "      <td>8</td>\n",
       "      <td>gasoline</td>\n",
       "      <td>jeep</td>\n",
       "      <td>NaN</td>\n",
       "    </tr>\n",
       "    <tr>\n",
       "      <th>3</th>\n",
       "      <td>1500</td>\n",
       "      <td>small</td>\n",
       "      <td>2001</td>\n",
       "      <td>manual</td>\n",
       "      <td>75</td>\n",
       "      <td>golf</td>\n",
       "      <td>150000</td>\n",
       "      <td>6</td>\n",
       "      <td>petrol</td>\n",
       "      <td>volkswagen</td>\n",
       "      <td>no</td>\n",
       "    </tr>\n",
       "    <tr>\n",
       "      <th>4</th>\n",
       "      <td>3600</td>\n",
       "      <td>small</td>\n",
       "      <td>2008</td>\n",
       "      <td>manual</td>\n",
       "      <td>69</td>\n",
       "      <td>fabia</td>\n",
       "      <td>90000</td>\n",
       "      <td>7</td>\n",
       "      <td>gasoline</td>\n",
       "      <td>skoda</td>\n",
       "      <td>no</td>\n",
       "    </tr>\n",
       "  </tbody>\n",
       "</table>\n",
       "</div>"
      ],
      "text/plain": [
       "   price vehicle_type  registration_year gearbox  power  model  kilometer  \\\n",
       "0    480          NaN               1993  manual      0   golf     150000   \n",
       "1  18300        coupe               2011  manual    190    NaN     125000   \n",
       "2   9800          suv               2004    auto    163  grand     125000   \n",
       "3   1500        small               2001  manual     75   golf     150000   \n",
       "4   3600        small               2008  manual     69  fabia      90000   \n",
       "\n",
       "   registration_month fuel_type       brand repaired  \n",
       "0                   0    petrol  volkswagen      NaN  \n",
       "1                   5  gasoline        audi      yes  \n",
       "2                   8  gasoline        jeep      NaN  \n",
       "3                   6    petrol  volkswagen       no  \n",
       "4                   7  gasoline       skoda       no  "
      ]
     },
     "execution_count": 10,
     "metadata": {},
     "output_type": "execute_result"
    }
   ],
   "source": [
    "# проверим\n",
    "df.head()"
   ]
  },
  {
   "cell_type": "markdown",
   "metadata": {},
   "source": [
    "#### Обработка аномалий в столбце 'registration_year'"
   ]
  },
  {
   "cell_type": "markdown",
   "metadata": {},
   "source": [
    "При первичном осмотре данных, было определено, что в данном столбце присутствуют значения не соотвествующие действительности, взглянем подробнее."
   ]
  },
  {
   "cell_type": "code",
   "execution_count": 11,
   "metadata": {},
   "outputs": [
    {
     "data": {
      "text/plain": [
       "registration_year\n",
       "1000    37\n",
       "1001     1\n",
       "1039     1\n",
       "1111     3\n",
       "1200     1\n",
       "        ..\n",
       "9000     3\n",
       "9229     1\n",
       "9450     1\n",
       "9996     1\n",
       "9999    26\n",
       "Name: count, Length: 151, dtype: int64"
      ]
     },
     "execution_count": 11,
     "metadata": {},
     "output_type": "execute_result"
    }
   ],
   "source": [
    "# посмотрим крайние значения по столбцу\n",
    "df['registration_year'].value_counts().sort_index()"
   ]
  },
  {
   "cell_type": "markdown",
   "metadata": {},
   "source": [
    "Действительно, данные некорректны - некоторые автомобили зарегестрированы еще до начала эпохи автомобилестроения, а некотрые в далеком будущем. Очевидно, что некоторые данные были либо некорректно заполнены, либо произошли сбои при выгрузке базы. Какой-либо механизм исправления этих значений на корректные я не вижу. Остается вариант удалить их. Ограничим выборку 1960-м годом слева, так как машины данного года могут быть еще вполне на ходу и относительно массово продаваться, более старые машины уже будут относиться к раритеным автомобилям - данный рынок уже работает по другим законам, данный факт может исказить картину. Справа ограничим данные актуальной датой выгрузки базы данных. Определим год ограничения справа и проверим какй процент данных потенциально можем потерять, от первоначальной выборки."
   ]
  },
  {
   "cell_type": "code",
   "execution_count": 12,
   "metadata": {},
   "outputs": [
    {
     "data": {
      "text/plain": [
       "Timestamp('2016-04-07 14:36:58')"
      ]
     },
     "execution_count": 12,
     "metadata": {},
     "output_type": "execute_result"
    }
   ],
   "source": [
    "pd.to_datetime(df_old['date_crawled']).max()"
   ]
  },
  {
   "cell_type": "markdown",
   "metadata": {},
   "source": [
    "Последняя выгрузка была 7 апреля 2016 года. Поэтому предлагаю справа ограничить мартом 2016"
   ]
  },
  {
   "cell_type": "code",
   "execution_count": 13,
   "metadata": {
    "scrolled": true
   },
   "outputs": [
    {
     "data": {
      "text/plain": [
       "(353943, 11)"
      ]
     },
     "execution_count": 13,
     "metadata": {},
     "output_type": "execute_result"
    }
   ],
   "source": [
    "# удалим выбросы слева и проверим\n",
    "df = df.query('1960 <= registration_year')\n",
    "df.shape"
   ]
  },
  {
   "cell_type": "code",
   "execution_count": 14,
   "metadata": {},
   "outputs": [
    {
     "data": {
      "text/plain": [
       "(348581, 11)"
      ]
     },
     "execution_count": 14,
     "metadata": {},
     "output_type": "execute_result"
    }
   ],
   "source": [
    "# удалим выбросы справа и проверим\n",
    "df1 = df.query('registration_year == 2016 and registration_month >= 4')\n",
    "df = df[~df.index.isin(df1.index)]\n",
    "df.shape"
   ]
  },
  {
   "cell_type": "markdown",
   "metadata": {},
   "source": [
    "#### Обработка аномалий в столбце 'registration_month'"
   ]
  },
  {
   "cell_type": "markdown",
   "metadata": {},
   "source": [
    "При первичном осмотре было замечено, что значения месяца регистрации лежит в интервале от 0 до 12, удалим из датафрейма данные с нулевыми значениями месяцов."
   ]
  },
  {
   "cell_type": "code",
   "execution_count": 15,
   "metadata": {},
   "outputs": [
    {
     "data": {
      "text/plain": [
       "array([ 5,  8,  6,  7, 10, 12, 11,  2,  3,  1,  4,  9], dtype=int64)"
      ]
     },
     "execution_count": 15,
     "metadata": {},
     "output_type": "execute_result"
    }
   ],
   "source": [
    "# удалим и прверим\n",
    "df = df.query('registration_month != 0')\n",
    "df['registration_month'].unique()"
   ]
  },
  {
   "cell_type": "code",
   "execution_count": 16,
   "metadata": {},
   "outputs": [
    {
     "data": {
      "text/plain": [
       "Index(['price', 'vehicle_type', 'registration_year', 'gearbox', 'power',\n",
       "       'model', 'kilometer', 'fuel_type', 'brand', 'repaired'],\n",
       "      dtype='object')"
      ]
     },
     "execution_count": 16,
     "metadata": {},
     "output_type": "execute_result"
    }
   ],
   "source": [
    "# теперь можно удалить столбец с месяцом регистрации\n",
    "df = df.drop(['registration_month'], axis=1)\n",
    "df.columns"
   ]
  },
  {
   "cell_type": "markdown",
   "metadata": {},
   "source": [
    "#### Обработка аномалий в столбце 'power'"
   ]
  },
  {
   "cell_type": "markdown",
   "metadata": {},
   "source": [
    "При первичном осмотре данных, было определено, что в данном столбце присутствуют значения не соотвествующие действительности, взглянем подробнее."
   ]
  },
  {
   "cell_type": "code",
   "execution_count": 17,
   "metadata": {},
   "outputs": [
    {
     "data": {
      "text/plain": [
       "power\n",
       "0        23499\n",
       "1           26\n",
       "2            7\n",
       "3            9\n",
       "4           28\n",
       "         ...  \n",
       "17700        1\n",
       "17932        1\n",
       "19208        1\n",
       "19312        1\n",
       "20000        1\n",
       "Name: count, Length: 670, dtype: int64"
      ]
     },
     "execution_count": 17,
     "metadata": {},
     "output_type": "execute_result"
    }
   ],
   "source": [
    "# посмотрим крайние значения по столбцу\n",
    "df['power'].value_counts().sort_index()"
   ]
  },
  {
   "cell_type": "markdown",
   "metadata": {},
   "source": [
    "Действительно, данные некорректны - большое количество автомобилей имеют нулевую мощность, а некотрые мощность которой нет даже у современных спорткаров. Очевидно, что некоторые данные были либо некорректно заполнены, либо произошли сбои при выгрузке базы. Попробуем ограничить выборку слева мощностью 10 л.с. -минимальная мощность малолтражек, слева же ограничим мощностью 1000 л.с., свыше данной мощности встречаются только очень редкие спорткары."
   ]
  },
  {
   "cell_type": "code",
   "execution_count": 18,
   "metadata": {},
   "outputs": [
    {
     "data": {
      "text/plain": [
       "power\n",
       "10      12\n",
       "11      27\n",
       "12      13\n",
       "13       6\n",
       "14      17\n",
       "        ..\n",
       "953      1\n",
       "960      1\n",
       "998      1\n",
       "999      4\n",
       "1000     2\n",
       "Name: count, Length: 463, dtype: int64"
      ]
     },
     "execution_count": 18,
     "metadata": {},
     "output_type": "execute_result"
    }
   ],
   "source": [
    "# ограничим справа мощностью 1000 л.с. слева 10 л.с. и проверим\n",
    "df = df.query('10<=power <= 1000')\n",
    "df['power'].value_counts().sort_index()"
   ]
  },
  {
   "cell_type": "markdown",
   "metadata": {},
   "source": [
    "#### Обработка аномалий в столбце 'price'"
   ]
  },
  {
   "cell_type": "markdown",
   "metadata": {},
   "source": [
    "При первичном осмотре данных, было определено, что в данном столбце присутствуют аномальные значения. Посмторим подробнее."
   ]
  },
  {
   "cell_type": "code",
   "execution_count": 19,
   "metadata": {},
   "outputs": [
    {
     "data": {
      "text/plain": [
       "price\n",
       "0        4770\n",
       "1         475\n",
       "2           5\n",
       "3           4\n",
       "5           7\n",
       "         ... \n",
       "19995      10\n",
       "19997       1\n",
       "19998       6\n",
       "19999     265\n",
       "20000     239\n",
       "Name: count, Length: 3564, dtype: int64"
      ]
     },
     "execution_count": 19,
     "metadata": {},
     "output_type": "execute_result"
    }
   ],
   "source": [
    "# посмотрим крайние значения по столбцу\n",
    "df['price'].value_counts().sort_index()"
   ]
  },
  {
   "cell_type": "code",
   "execution_count": 20,
   "metadata": {},
   "outputs": [
    {
     "data": {
      "text/plain": [
       "count    287461.000000\n",
       "mean       4925.219456\n",
       "std        4644.215797\n",
       "min           0.000000\n",
       "25%        1399.000000\n",
       "50%        3290.000000\n",
       "75%        7000.000000\n",
       "max       20000.000000\n",
       "Name: price, dtype: float64"
      ]
     },
     "execution_count": 20,
     "metadata": {},
     "output_type": "execute_result"
    }
   ],
   "source": [
    "# посмотрим чесленную статистику\n",
    "df['price'].describe()"
   ]
  },
  {
   "cell_type": "code",
   "execution_count": 21,
   "metadata": {},
   "outputs": [
    {
     "data": {
      "image/png": "[encoded data removed]",
      "text/plain": [
       "<Figure size 1200x900 with 1 Axes>"
      ]
     },
     "metadata": {},
     "output_type": "display_data"
    }
   ],
   "source": [
    "# визуаализируем\n",
    "df['price'].hist(bins=100, figsize=(12,9))\n",
    "plt.xlabel('Цена, евро')\n",
    "plt.ylabel('Частота')\n",
    "plt.title('Распределение цены');"
   ]
  },
  {
   "cell_type": "markdown",
   "metadata": {},
   "source": [
    "Действительно, данные некорректны - большое количество автомобилей имеют нулевую и околонулевую стоимость, а некотрые стоят десятки тысяч евро. Очевидно, что некоторые данные были либо некорректно заполнены, либо произошли сбои при выгрузке базы. Попробуем ограничить выборку слева стоимостбю в 500 евро, справа же ограничим стоимостью в 14 000 евро. Оценим потерю данных, при таком способе выборки."
   ]
  },
  {
   "cell_type": "code",
   "execution_count": 22,
   "metadata": {},
   "outputs": [
    {
     "data": {
      "text/plain": [
       "price\n",
       "501        2\n",
       "510       11\n",
       "514        1\n",
       "515        1\n",
       "517        1\n",
       "        ... \n",
       "13989      3\n",
       "13990    261\n",
       "13995     13\n",
       "13998     12\n",
       "13999    336\n",
       "Name: count, Length: 2779, dtype: int64"
      ]
     },
     "execution_count": 22,
     "metadata": {},
     "output_type": "execute_result"
    }
   ],
   "source": [
    "# проведем удаление аномалий и проверим\n",
    "df = df.query('500 < price < 14000')\n",
    "df['price'].value_counts().sort_index()"
   ]
  },
  {
   "cell_type": "markdown",
   "metadata": {},
   "source": [
    "#### Обработка пропусков в столбце 'repaired'"
   ]
  },
  {
   "cell_type": "markdown",
   "metadata": {},
   "source": [
    "Первичный осмотр показал, что имеются пропуски. Чтобы не терять данные введем новую категорию 'unknown'."
   ]
  },
  {
   "cell_type": "code",
   "execution_count": 23,
   "metadata": {},
   "outputs": [
    {
     "name": "stdout",
     "output_type": "stream",
     "text": [
      "['unknown' 'no' 'yes']\n"
     ]
    },
    {
     "data": {
      "text/plain": [
       "0"
      ]
     },
     "execution_count": 23,
     "metadata": {},
     "output_type": "execute_result"
    }
   ],
   "source": [
    "# заменим пропуски новой категорией 'unknown' и проверим\n",
    "df['repaired'] = df['repaired'].fillna('unknown')\n",
    "print(df['repaired'].unique())\n",
    "df['repaired'].isna().sum()"
   ]
  },
  {
   "cell_type": "code",
   "execution_count": 24,
   "metadata": {
    "scrolled": true
   },
   "outputs": [
    {
     "name": "stdout",
     "output_type": "stream",
     "text": [
      "['auto' 'manual' 'other']\n"
     ]
    },
    {
     "data": {
      "text/plain": [
       "0"
      ]
     },
     "execution_count": 24,
     "metadata": {},
     "output_type": "execute_result"
    }
   ],
   "source": [
    "df['gearbox'] = df['gearbox'].fillna('other')\n",
    "print(df['gearbox'].unique())\n",
    "df['gearbox'].isna().sum()"
   ]
  },
  {
   "cell_type": "markdown",
   "metadata": {},
   "source": [
    "#### Обработка пропусков в столбце 'fuel_type'"
   ]
  },
  {
   "cell_type": "markdown",
   "metadata": {},
   "source": [
    "Первичный осмотр показал, что имеются пропуски и неявные дубликаты. Сначала заменим значение gasoline на petrol, так как это разные названия бензина (в США и в Европе). Затем заполним пропущенные значения значением other."
   ]
  },
  {
   "cell_type": "code",
   "execution_count": 25,
   "metadata": {},
   "outputs": [
    {
     "data": {
      "text/plain": [
       "fuel_type\n",
       "petrol      156073\n",
       "gasoline     74939\n",
       "lpg           4235\n",
       "cng            462\n",
       "hybrid         150\n",
       "other           65\n",
       "electric        53\n",
       "Name: count, dtype: int64"
      ]
     },
     "execution_count": 25,
     "metadata": {},
     "output_type": "execute_result"
    }
   ],
   "source": [
    "# предварительная информация по значениям столбца\n",
    "df['fuel_type'].value_counts()"
   ]
  },
  {
   "cell_type": "code",
   "execution_count": 26,
   "metadata": {},
   "outputs": [
    {
     "data": {
      "text/plain": [
       "fuel_type\n",
       "petrol      231012\n",
       "lpg           4235\n",
       "cng            462\n",
       "hybrid         150\n",
       "other           65\n",
       "electric        53\n",
       "Name: count, dtype: int64"
      ]
     },
     "execution_count": 26,
     "metadata": {},
     "output_type": "execute_result"
    }
   ],
   "source": [
    "# заменяем 'gasoline' на 'petrol' и проверяем\n",
    "df['fuel_type'] = df['fuel_type'].replace('gasoline', 'petrol')\n",
    "df['fuel_type'].value_counts()"
   ]
  },
  {
   "cell_type": "code",
   "execution_count": 27,
   "metadata": {},
   "outputs": [
    {
     "name": "stdout",
     "output_type": "stream",
     "text": [
      "fuel_type\n",
      "petrol      231012\n",
      "other        10799\n",
      "lpg           4235\n",
      "cng            462\n",
      "hybrid         150\n",
      "electric        53\n",
      "Name: count, dtype: int64\n"
     ]
    },
    {
     "data": {
      "text/plain": [
       "0"
      ]
     },
     "execution_count": 27,
     "metadata": {},
     "output_type": "execute_result"
    }
   ],
   "source": [
    "# заменяем пропуски на 'other' и проверяем\n",
    "df['fuel_type'] = df['fuel_type'].fillna('other')\n",
    "print(df['fuel_type'].value_counts())\n",
    "df['fuel_type'].isna().sum()"
   ]
  },
  {
   "cell_type": "markdown",
   "metadata": {},
   "source": [
    "#### Обработка  столбца 'model'"
   ]
  },
  {
   "cell_type": "markdown",
   "metadata": {},
   "source": [
    "Заменим неявные дубликаты rangerover на range_rover"
   ]
  },
  {
   "cell_type": "code",
   "execution_count": 28,
   "metadata": {},
   "outputs": [
    {
     "data": {
      "text/html": [
       "<div>\n",
       "<style scoped>\n",
       "    .dataframe tbody tr th:only-of-type {\n",
       "        vertical-align: middle;\n",
       "    }\n",
       "\n",
       "    .dataframe tbody tr th {\n",
       "        vertical-align: top;\n",
       "    }\n",
       "\n",
       "    .dataframe thead th {\n",
       "        text-align: right;\n",
       "    }\n",
       "</style>\n",
       "<table border=\"1\" class=\"dataframe\">\n",
       "  <thead>\n",
       "    <tr style=\"text-align: right;\">\n",
       "      <th></th>\n",
       "      <th>price</th>\n",
       "      <th>vehicle_type</th>\n",
       "      <th>registration_year</th>\n",
       "      <th>gearbox</th>\n",
       "      <th>power</th>\n",
       "      <th>model</th>\n",
       "      <th>kilometer</th>\n",
       "      <th>fuel_type</th>\n",
       "      <th>brand</th>\n",
       "      <th>repaired</th>\n",
       "    </tr>\n",
       "  </thead>\n",
       "  <tbody>\n",
       "    <tr>\n",
       "      <th>27949</th>\n",
       "      <td>1050</td>\n",
       "      <td>small</td>\n",
       "      <td>1998</td>\n",
       "      <td>manual</td>\n",
       "      <td>103</td>\n",
       "      <td>rangerover</td>\n",
       "      <td>150000</td>\n",
       "      <td>petrol</td>\n",
       "      <td>rover</td>\n",
       "      <td>unknown</td>\n",
       "    </tr>\n",
       "    <tr>\n",
       "      <th>279463</th>\n",
       "      <td>3300</td>\n",
       "      <td>NaN</td>\n",
       "      <td>2017</td>\n",
       "      <td>manual</td>\n",
       "      <td>135</td>\n",
       "      <td>rangerover</td>\n",
       "      <td>150000</td>\n",
       "      <td>petrol</td>\n",
       "      <td>rover</td>\n",
       "      <td>no</td>\n",
       "    </tr>\n",
       "  </tbody>\n",
       "</table>\n",
       "</div>"
      ],
      "text/plain": [
       "        price vehicle_type  registration_year gearbox  power       model  \\\n",
       "27949    1050        small               1998  manual    103  rangerover   \n",
       "279463   3300          NaN               2017  manual    135  rangerover   \n",
       "\n",
       "        kilometer fuel_type  brand repaired  \n",
       "27949      150000    petrol  rover  unknown  \n",
       "279463     150000    petrol  rover       no  "
      ]
     },
     "execution_count": 28,
     "metadata": {},
     "output_type": "execute_result"
    }
   ],
   "source": [
    "df[df['model'] == 'rangerover']"
   ]
  },
  {
   "cell_type": "code",
   "execution_count": 29,
   "metadata": {},
   "outputs": [],
   "source": [
    "df['model'] = df['model'].replace('rangerover', 'range_rover')"
   ]
  },
  {
   "cell_type": "markdown",
   "metadata": {},
   "source": [
    "Заменим пропущенные значения на 'other'"
   ]
  },
  {
   "cell_type": "code",
   "execution_count": 30,
   "metadata": {},
   "outputs": [
    {
     "data": {
      "text/plain": [
       "model\n",
       "golf                  20504\n",
       "other                 16719\n",
       "3er                   14725\n",
       "polo                   8622\n",
       "corsa                  7948\n",
       "                      ...  \n",
       "samara                    2\n",
       "range_rover_evoque        2\n",
       "serie_3                   2\n",
       "amarok                    2\n",
       "q3                        1\n",
       "Name: count, Length: 247, dtype: int64"
      ]
     },
     "execution_count": 30,
     "metadata": {},
     "output_type": "execute_result"
    }
   ],
   "source": [
    "# предварительная информация по значениям столбца\n",
    "df['model'].value_counts()"
   ]
  },
  {
   "cell_type": "code",
   "execution_count": 31,
   "metadata": {},
   "outputs": [
    {
     "name": "stdout",
     "output_type": "stream",
     "text": [
      "model\n",
      "other                 24457\n",
      "golf                  20504\n",
      "3er                   14725\n",
      "polo                   8622\n",
      "corsa                  7948\n",
      "                      ...  \n",
      "samara                    2\n",
      "range_rover_evoque        2\n",
      "serie_3                   2\n",
      "amarok                    2\n",
      "q3                        1\n",
      "Name: count, Length: 247, dtype: int64\n"
     ]
    },
    {
     "data": {
      "text/plain": [
       "0"
      ]
     },
     "execution_count": 31,
     "metadata": {},
     "output_type": "execute_result"
    }
   ],
   "source": [
    "# заменяем пропуски на 'other' и проверяем\n",
    "df['model'] = df['model'].fillna('other')\n",
    "print(df['model'].value_counts())\n",
    "df['model'].isna().sum()"
   ]
  },
  {
   "cell_type": "markdown",
   "metadata": {},
   "source": [
    "#### Обработка пропусков в столбце 'vehicle_type'"
   ]
  },
  {
   "cell_type": "markdown",
   "metadata": {},
   "source": [
    "Проведем замену пропусков по следующей логике: для каждой модели автомобиля найдем наиболее часто встречающийся тип кузова, заменим пропуски на найденное значение. согласно конкретной модели автомобиля."
   ]
  },
  {
   "cell_type": "code",
   "execution_count": 32,
   "metadata": {},
   "outputs": [
    {
     "name": "stdout",
     "output_type": "stream",
     "text": [
      "vehicle_type\n",
      "sedan          70207\n",
      "small          57273\n",
      "wagon          49706\n",
      "bus            23128\n",
      "convertible    15306\n",
      "coupe          10970\n",
      "suv             7993\n",
      "other           1853\n",
      "Name: count, dtype: int64\n"
     ]
    },
    {
     "data": {
      "text/plain": [
       "10275"
      ]
     },
     "execution_count": 32,
     "metadata": {},
     "output_type": "execute_result"
    }
   ],
   "source": [
    "# предварительная информация по значениям столбца\n",
    "print(df['vehicle_type'].value_counts())\n",
    "df['vehicle_type'].isna().sum()"
   ]
  },
  {
   "cell_type": "code",
   "execution_count": 33,
   "metadata": {},
   "outputs": [],
   "source": [
    "# функция нахождения наиболее часто встречающегося типа кузова для конкретной модели автомобиля\n",
    "def mode_vehicle_type(model,df):\n",
    "    res = df.query('model == @model and vehicle_type != \"NaN\"')['vehicle_type'].value_counts().index[0]\n",
    "    return res"
   ]
  },
  {
   "cell_type": "code",
   "execution_count": 34,
   "metadata": {},
   "outputs": [
    {
     "name": "stdout",
     "output_type": "stream",
     "text": [
      "vehicle_type\n",
      "sedan          75703\n",
      "small          59620\n",
      "wagon          50697\n",
      "bus            24262\n",
      "convertible    15374\n",
      "coupe          11079\n",
      "suv             8121\n",
      "other           1855\n",
      "Name: count, dtype: int64\n"
     ]
    },
    {
     "data": {
      "text/plain": [
       "0"
      ]
     },
     "execution_count": 34,
     "metadata": {},
     "output_type": "execute_result"
    }
   ],
   "source": [
    "# произведем замену пропусков самой популярной конфигурацие кузова для каждой модели и проверим\n",
    "for model in list(df['model'].unique()):\n",
    "    df.loc[df['model'] == model, 'vehicle_type'] = df['vehicle_type'].fillna(mode_vehicle_type(model,df))\n",
    "print(df['vehicle_type'].value_counts())\n",
    "df['vehicle_type'].isna().sum()"
   ]
  },
  {
   "cell_type": "markdown",
   "metadata": {},
   "source": [
    "**Проверим весь датафрейм на пропуски**"
   ]
  },
  {
   "cell_type": "code",
   "execution_count": 35,
   "metadata": {
    "scrolled": true
   },
   "outputs": [
    {
     "data": {
      "text/plain": [
       "price                0\n",
       "vehicle_type         0\n",
       "registration_year    0\n",
       "gearbox              0\n",
       "power                0\n",
       "model                0\n",
       "kilometer            0\n",
       "fuel_type            0\n",
       "brand                0\n",
       "repaired             0\n",
       "dtype: int64"
      ]
     },
     "execution_count": 35,
     "metadata": {},
     "output_type": "execute_result"
    }
   ],
   "source": [
    "# проверка\n",
    "df.isna().sum()"
   ]
  },
  {
   "cell_type": "markdown",
   "metadata": {},
   "source": [
    "Таким образом в результате предобработки данных была проведена следующая работа:\n",
    "\n",
    "- названия столбцов приведины к \"змеиному стилю\";\n",
    "- удалены явные дубликаты;\n",
    "- удалены незначимые для машинного обучения столбцы:'number_of_pictures', 'postal_code', 'date_created', 'last_seen', 'registration_month', 'date_crawled';\n",
    "- выбросы в столбце 'registration_year' были удалены, рассматриевамый период регистрации автомобилей с 1960 по март 2016 года;\n",
    "- обработаны аномальные значения в столбце 'power': данные по автомобилям с мощностью более 1000 л.с. и менее 10 л.с. были удалены, \n",
    "- выбросы в столбце 'price' были удалены, рассматриевамый рассматриваемый диапазон цен от 500 до 14000 евро;\n",
    "- пропуски в столбце 'repaired' заменены новой категорией 'unknown';\n",
    "- в столбце 'fuel_type' значения  gasoline были перезаписаны как petrol, пропуски заменены на'other';\n",
    "- в столбце 'model' проработы неявные дубликаты, пропуски заменены на'other';\n",
    "- в столбце 'vehicle_type' пропуски были заменены на самый популярный тип кузова для конкретной модели автомобиля;"
   ]
  },
  {
   "cell_type": "markdown",
   "metadata": {},
   "source": [
    "## Обучение моделей"
   ]
  },
  {
   "cell_type": "markdown",
   "metadata": {},
   "source": [
    "Целевой признак у нас количественный, непрерывный. Тогда для обучения будем использовать модели регресии: LinearRegression, DecisionTreeRegressor и LGBMRegressor. В качестве метрики будем использовать RMSE."
   ]
  },
  {
   "cell_type": "markdown",
   "metadata": {},
   "source": [
    "### Подготовка выборок"
   ]
  },
  {
   "cell_type": "markdown",
   "metadata": {},
   "source": [
    "#### Деление на тренировочную и тестовую выборки"
   ]
  },
  {
   "cell_type": "code",
   "execution_count": 36,
   "metadata": {},
   "outputs": [],
   "source": [
    "# создадим копию датафрейма\n",
    "data = df.copy()\n",
    "data.reset_index(drop= True , inplace= True)"
   ]
  },
  {
   "cell_type": "code",
   "execution_count": 37,
   "metadata": {},
   "outputs": [
    {
     "name": "stdout",
     "output_type": "stream",
     "text": [
      "(185033, 9) (61678, 9)\n",
      "(185033,) (61678,)\n"
     ]
    }
   ],
   "source": [
    "# отделим признаки от целевого признака\n",
    "target = data['price']\n",
    "features = data.drop('price', axis=1)\n",
    "\n",
    "# разделим выборки на тренировочные и тестовые в соотношении 75/25\n",
    "features_train, features_test, target_train, target_test\\\n",
    "= train_test_split(features, target, test_size=0.25, random_state=12345) \n",
    "\n",
    "print(features_train.shape, features_test.shape)\n",
    "print(target_train.shape, target_test.shape)"
   ]
  },
  {
   "cell_type": "markdown",
   "metadata": {},
   "source": [
    "#### Подготовка данных для LinearRegression"
   ]
  },
  {
   "cell_type": "code",
   "execution_count": 38,
   "metadata": {},
   "outputs": [],
   "source": [
    "# определим списки столбцов по типам\n",
    "cat_columns = ['vehicle_type', 'gearbox', 'fuel_type', 'repaired', 'model', 'brand'] # категориальные столбцы \n",
    "num_columns = ['registration_year', 'power', 'kilometer'] # числовые столбцы \n"
   ]
  },
  {
   "cell_type": "code",
   "execution_count": 39,
   "metadata": {},
   "outputs": [],
   "source": [
    "# скопируем признаки для OHE кодирования\n",
    "features_train_ohe = features_train.copy() \n",
    "features_test_ohe = features_test.copy()"
   ]
  },
  {
   "cell_type": "code",
   "execution_count": 40,
   "metadata": {},
   "outputs": [],
   "source": [
    "# проведем OHE кодирование категориальных признаков на трейне\n",
    "encoder_ohe = OneHotEncoder(drop='first', handle_unknown='ignore', sparse=False)\n",
    "encoder_ohe.fit(features_train_ohe[cat_columns])\n",
    "features_train_ohe[\n",
    "    encoder_ohe.get_feature_names_out()\n",
    "] = encoder_ohe.transform(features_train_ohe[cat_columns])\n",
    "features_train_ohe = features_train_ohe.drop(cat_columns, axis=1)\n",
    "\n",
    "# проведем OHE кодирование категориальных признаков на тесте\n",
    "features_test_ohe[\n",
    "    encoder_ohe.get_feature_names_out()\n",
    "] = encoder_ohe.transform(features_test_ohe[cat_columns])\n",
    "features_test_ohe = features_test_ohe.drop(cat_columns, axis=1)"
   ]
  },
  {
   "cell_type": "code",
   "execution_count": 41,
   "metadata": {},
   "outputs": [],
   "source": [
    "# масштабируем числовые признаки на трейне\n",
    "scaler = StandardScaler()\n",
    "scaler.fit(features_train_ohe[num_columns])\n",
    "features_train_ohe[num_columns] = scaler.transform(features_train_ohe[num_columns])\n",
    "\n",
    "# масщтабируем числовые признаки на тесте\n",
    "features_test_ohe[num_columns] = scaler.transform(features_test_ohe[num_columns])"
   ]
  },
  {
   "cell_type": "code",
   "execution_count": 42,
   "metadata": {},
   "outputs": [
    {
     "name": "stdout",
     "output_type": "stream",
     "text": [
      "(185033, 304) (61678, 304)\n"
     ]
    }
   ],
   "source": [
    "# сравним размерности полученных выборок\n",
    "print(features_train_ohe.shape, features_test_ohe.shape)"
   ]
  },
  {
   "cell_type": "markdown",
   "metadata": {},
   "source": [
    "#### Подготовка данных для DecisionTreeRegressor"
   ]
  },
  {
   "cell_type": "code",
   "execution_count": 43,
   "metadata": {},
   "outputs": [],
   "source": [
    "# скопируем признаки для ORD кодирования\n",
    "features_train_ord = features_train.copy() \n",
    "features_test_ord = features_test.copy()"
   ]
  },
  {
   "cell_type": "code",
   "execution_count": 44,
   "metadata": {},
   "outputs": [],
   "source": [
    "# проведем ORD кодирование\n",
    "encoder = OrdinalEncoder(handle_unknown='use_encoded_value', unknown_value = -1)"
   ]
  },
  {
   "cell_type": "code",
   "execution_count": 45,
   "metadata": {
    "scrolled": true
   },
   "outputs": [],
   "source": [
    "# проведем кодирование ORD на трейне\n",
    "cat_features_ord = features_train_ord[cat_columns]\n",
    "cat_features_ord = pd.DataFrame(encoder.fit_transform(cat_features_ord),\n",
    "                                columns=cat_features_ord.columns, \n",
    "                                index=cat_features_ord.index)\n",
    "for column in cat_columns:\n",
    "    features_train_ord[column] = cat_features_ord[column]\n",
    "\n",
    "# проведем кодирование ORD на тесте\n",
    "cat_features_ord = features_test_ord[cat_columns]\n",
    "cat_features_ord = pd.DataFrame(encoder.transform(cat_features_ord),\n",
    "                                columns=cat_features_ord.columns, \n",
    "                                index=cat_features_ord.index)\n",
    "for column in cat_columns:\n",
    "    features_test_ord[column] = cat_features_ord[column]"
   ]
  },
  {
   "cell_type": "code",
   "execution_count": 46,
   "metadata": {},
   "outputs": [],
   "source": [
    "# масштабируем числовые признаки на трейне\n",
    "scaler = StandardScaler()\n",
    "scaler.fit(features_train_ord[num_columns])\n",
    "features_train_ord[num_columns] = scaler.transform(features_train_ord[num_columns])\n",
    "\n",
    "# масщтабируем числовые признаки на тесте\n",
    "features_test_ord[num_columns] = scaler.transform(features_test_ord[num_columns])"
   ]
  },
  {
   "cell_type": "code",
   "execution_count": 47,
   "metadata": {},
   "outputs": [
    {
     "data": {
      "text/html": [
       "<div>\n",
       "<style scoped>\n",
       "    .dataframe tbody tr th:only-of-type {\n",
       "        vertical-align: middle;\n",
       "    }\n",
       "\n",
       "    .dataframe tbody tr th {\n",
       "        vertical-align: top;\n",
       "    }\n",
       "\n",
       "    .dataframe thead th {\n",
       "        text-align: right;\n",
       "    }\n",
       "</style>\n",
       "<table border=\"1\" class=\"dataframe\">\n",
       "  <thead>\n",
       "    <tr style=\"text-align: right;\">\n",
       "      <th></th>\n",
       "      <th>vehicle_type</th>\n",
       "      <th>registration_year</th>\n",
       "      <th>gearbox</th>\n",
       "      <th>power</th>\n",
       "      <th>model</th>\n",
       "      <th>kilometer</th>\n",
       "      <th>fuel_type</th>\n",
       "      <th>brand</th>\n",
       "      <th>repaired</th>\n",
       "    </tr>\n",
       "  </thead>\n",
       "  <tbody>\n",
       "    <tr>\n",
       "      <th>106062</th>\n",
       "      <td>7.0</td>\n",
       "      <td>0.490547</td>\n",
       "      <td>1.0</td>\n",
       "      <td>-0.637167</td>\n",
       "      <td>141.0</td>\n",
       "      <td>-0.140180</td>\n",
       "      <td>5.0</td>\n",
       "      <td>6.0</td>\n",
       "      <td>0.0</td>\n",
       "    </tr>\n",
       "    <tr>\n",
       "      <th>154879</th>\n",
       "      <td>0.0</td>\n",
       "      <td>-0.121726</td>\n",
       "      <td>1.0</td>\n",
       "      <td>0.111754</td>\n",
       "      <td>246.0</td>\n",
       "      <td>-1.430034</td>\n",
       "      <td>5.0</td>\n",
       "      <td>24.0</td>\n",
       "      <td>2.0</td>\n",
       "    </tr>\n",
       "    <tr>\n",
       "      <th>73707</th>\n",
       "      <td>5.0</td>\n",
       "      <td>0.388502</td>\n",
       "      <td>1.0</td>\n",
       "      <td>-0.873669</td>\n",
       "      <td>83.0</td>\n",
       "      <td>-0.140180</td>\n",
       "      <td>5.0</td>\n",
       "      <td>24.0</td>\n",
       "      <td>0.0</td>\n",
       "    </tr>\n",
       "    <tr>\n",
       "      <th>201284</th>\n",
       "      <td>7.0</td>\n",
       "      <td>-0.223771</td>\n",
       "      <td>0.0</td>\n",
       "      <td>1.668721</td>\n",
       "      <td>95.0</td>\n",
       "      <td>0.576405</td>\n",
       "      <td>5.0</td>\n",
       "      <td>20.0</td>\n",
       "      <td>0.0</td>\n",
       "    </tr>\n",
       "    <tr>\n",
       "      <th>143631</th>\n",
       "      <td>4.0</td>\n",
       "      <td>0.592593</td>\n",
       "      <td>1.0</td>\n",
       "      <td>0.466506</td>\n",
       "      <td>6.0</td>\n",
       "      <td>0.576405</td>\n",
       "      <td>5.0</td>\n",
       "      <td>2.0</td>\n",
       "      <td>0.0</td>\n",
       "    </tr>\n",
       "  </tbody>\n",
       "</table>\n",
       "</div>"
      ],
      "text/plain": [
       "        vehicle_type  registration_year  gearbox     power  model  kilometer  \\\n",
       "106062           7.0           0.490547      1.0 -0.637167  141.0  -0.140180   \n",
       "154879           0.0          -0.121726      1.0  0.111754  246.0  -1.430034   \n",
       "73707            5.0           0.388502      1.0 -0.873669   83.0  -0.140180   \n",
       "201284           7.0          -0.223771      0.0  1.668721   95.0   0.576405   \n",
       "143631           4.0           0.592593      1.0  0.466506    6.0   0.576405   \n",
       "\n",
       "        fuel_type  brand  repaired  \n",
       "106062        5.0    6.0       0.0  \n",
       "154879        5.0   24.0       2.0  \n",
       "73707         5.0   24.0       0.0  \n",
       "201284        5.0   20.0       0.0  \n",
       "143631        5.0    2.0       0.0  "
      ]
     },
     "execution_count": 47,
     "metadata": {},
     "output_type": "execute_result"
    }
   ],
   "source": [
    "features_test_ord.head()"
   ]
  },
  {
   "cell_type": "code",
   "execution_count": 48,
   "metadata": {},
   "outputs": [
    {
     "name": "stdout",
     "output_type": "stream",
     "text": [
      "(185033, 9) (61678, 9)\n"
     ]
    }
   ],
   "source": [
    "# сравним размерности полученных выборок\n",
    "print(features_train_ord.shape, features_test_ord.shape)"
   ]
  },
  {
   "cell_type": "markdown",
   "metadata": {},
   "source": [
    "В ходе подготовки данных для обучения моделей были проделаны следующие работы:\n",
    "- признаки отделены от целевого признака, проведено разделение выборок на тренировочную и тестовую в соттношении 75/25;\n",
    "- проведено ОНЕ кодирование для линейных моделей;\n",
    "- проведено ОRD кодирование для нелинейных моделей;\n",
    "- проведено масштабирование числовых признаков."
   ]
  },
  {
   "cell_type": "markdown",
   "metadata": {},
   "source": [
    "### Обучение моделей"
   ]
  },
  {
   "cell_type": "markdown",
   "metadata": {},
   "source": [
    "#### Модель LinearRegression"
   ]
  },
  {
   "cell_type": "code",
   "execution_count": 49,
   "metadata": {
    "scrolled": true
   },
   "outputs": [
    {
     "name": "stdout",
     "output_type": "stream",
     "text": [
      "2546.0138386614003\n"
     ]
    }
   ],
   "source": [
    "# пустой словар для кросс-валидации\n",
    "param_lr = {}\n",
    "# инициализируем модель и подбор параметров\n",
    "model_lr = LinearRegression()\n",
    "tuning_model_lr=GridSearchCV(estimator=model_lr,\n",
    "                          param_grid=param_lr,\n",
    "                          scoring='neg_root_mean_squared_error',\n",
    "                          cv=3,\n",
    "                          verbose=-1)\n",
    "\n",
    "# приступим к обучению с определением лучших параметров и RSME\n",
    "tuning_model_lr.fit(features_train_ohe, target_train)\n",
    "rmse_lr = tuning_model_lr.best_score_*-1\n",
    "print(rmse_lr)"
   ]
  },
  {
   "cell_type": "markdown",
   "metadata": {},
   "source": [
    "Лучшее значение метрики RMSE на кросс-валидации: 2546.013838661401"
   ]
  },
  {
   "cell_type": "markdown",
   "metadata": {},
   "source": [
    "#### Модель DecisionTreeRegressor"
   ]
  },
  {
   "cell_type": "code",
   "execution_count": 50,
   "metadata": {
    "scrolled": true
   },
   "outputs": [
    {
     "data": {
      "text/plain": [
       "{'max_depth': 19,\n",
       " 'min_samples_leaf': 9,\n",
       " 'min_samples_split': 2,\n",
       " 'splitter': 'best'}"
      ]
     },
     "metadata": {},
     "output_type": "display_data"
    },
    {
     "name": "stdout",
     "output_type": "stream",
     "text": [
      "1482.413255366253\n"
     ]
    }
   ],
   "source": [
    "# зададим список варьируемых параметров\n",
    "param_dt= { \n",
    "            \"splitter\":(\"best\", \"random\"), \n",
    "            \"max_depth\":(list(range(1, 20, 2))), \n",
    "            \"min_samples_split\":[2, 3, 4], \n",
    "            \"min_samples_leaf\":list(range(1, 20, 2)), \n",
    "           }\n",
    "    \n",
    "\n",
    "# инициализируем модель и подбор параметров\n",
    "model_dt = DecisionTreeRegressor(random_state=12345)\n",
    "tuning_model_dt=GridSearchCV(estimator=model_dt,\n",
    "                          param_grid=param_dt,\n",
    "                          scoring='neg_root_mean_squared_error',\n",
    "                          cv=3,\n",
    "                          verbose=-1)\n",
    "\n",
    "# приступим к обучению с определением лучших параметров и RSME\n",
    "tuning_model_dt.fit(features_train_ord, target_train)\n",
    "best_model_dt = tuning_model_dt.best_params_\n",
    "display(best_model_dt)\n",
    "rmse_dt = tuning_model_dt.best_score_*-1\n",
    "print(rmse_dt)"
   ]
  },
  {
   "cell_type": "markdown",
   "metadata": {},
   "source": [
    "Лучшее значение метрики RMSE: 1482.413255366253  \n",
    "Параметры для лучшей модели: {'max_depth': 19, 'min_samples_leaf': 9, 'min_samples_split': 2, 'splitter': 'best'}"
   ]
  },
  {
   "cell_type": "markdown",
   "metadata": {},
   "source": [
    "#### Модель LGBMRegressor"
   ]
  },
  {
   "cell_type": "code",
   "execution_count": 51,
   "metadata": {},
   "outputs": [],
   "source": [
    "# так как в данной модели кодировка происходит по иному принципу, то нам понадобится датафрейм, полученный после предобработки\n",
    "df_gb = df.copy()"
   ]
  },
  {
   "cell_type": "code",
   "execution_count": 52,
   "metadata": {},
   "outputs": [],
   "source": [
    "# захделяем признаки и целевой признак\n",
    "target_gb = df_gb['price']\n",
    "features_gb = df_gb.drop('price', axis=1)"
   ]
  },
  {
   "cell_type": "code",
   "execution_count": 54,
   "metadata": {},
   "outputs": [
    {
     "name": "stdout",
     "output_type": "stream",
     "text": [
      "(185033, 9)\n",
      "(61678, 9)\n"
     ]
    }
   ],
   "source": [
    "# переведем категориальные признаки в тип category, который требуется для LightGBM\n",
    "for c in features_gb.columns:\n",
    "    col_type = features_gb[c].dtype\n",
    "    if col_type == 'object':\n",
    "        features_gb[c] = features_gb[c].astype('category')\n",
    "\n",
    "#разделим выборки на обучающую и тестовую\n",
    "features_train_gb, features_test_gb, target_train_gb, target_test_gb\\\n",
    "= train_test_split(features_gb, target_gb, test_size=0.25, random_state=12345) \n",
    "\n",
    "# проверим размер выборок\n",
    "print(features_train_gb.shape)\n",
    "print(features_test_gb.shape)"
   ]
  },
  {
   "cell_type": "code",
   "execution_count": 55,
   "metadata": {},
   "outputs": [],
   "source": [
    "# зададим список варьируемых параметров\n",
    "param_grid = {'n_estimators': [100, 500, 1000], 'num_leaves': [n for n in range(20, 300, 50)]}"
   ]
  },
  {
   "cell_type": "code",
   "execution_count": 56,
   "metadata": {
    "scrolled": true
   },
   "outputs": [
    {
     "data": {
      "text/plain": [
       "{'n_estimators': 500, 'num_leaves': 170}"
      ]
     },
     "metadata": {},
     "output_type": "display_data"
    },
    {
     "name": "stdout",
     "output_type": "stream",
     "text": [
      "1286.624461444039\n"
     ]
    }
   ],
   "source": [
    "# инициализируем модель и подбор параметров\n",
    "model = lgb.LGBMRegressor(random_state=12345, verbose=-1)\n",
    "\n",
    "tuning_model_gb=GridSearchCV(estimator=model,\n",
    "                          param_grid=param_grid,\n",
    "                          scoring='neg_root_mean_squared_error',\n",
    "                          cv=3,\n",
    "                          verbose=-1)\n",
    "\n",
    "# приступим к обучению с определением лучших параметров и RSME\n",
    "tuning_model_gb.fit(features_train_gb, target_train_gb)\n",
    "best_model_gb = tuning_model_gb.best_params_\n",
    "display(tuning_model_gb.best_params_)\n",
    "rsme_gb = tuning_model_gb.best_score_*-1\n",
    "print(rsme_gb)"
   ]
  },
  {
   "cell_type": "code",
   "execution_count": 57,
   "metadata": {},
   "outputs": [
    {
     "data": {
      "text/plain": [
       "{'n_estimators': 500, 'num_leaves': 170}"
      ]
     },
     "metadata": {},
     "output_type": "display_data"
    },
    {
     "name": "stdout",
     "output_type": "stream",
     "text": [
      "1286.624461444039\n"
     ]
    }
   ],
   "source": [
    "best_model_gb = tuning_model_gb.best_params_\n",
    "display(tuning_model_gb.best_params_)\n",
    "rsme_gb = tuning_model_gb.best_score_*-1\n",
    "print(rsme_gb)"
   ]
  },
  {
   "cell_type": "markdown",
   "metadata": {},
   "source": [
    "Лучшее значение метрики RMSE: 1286.624461444039\n",
    "Параметры для лучшей модели: {'n_estimators': 500, 'num_leaves': 170}"
   ]
  },
  {
   "cell_type": "markdown",
   "metadata": {},
   "source": [
    "По результату обучения моделей можно сказать следующее:\n",
    "- обучены 3 модели: LinearRegression, DecisionTreeRegressor и LGBMRegressor;\n",
    "- для каждой модели проведен подбор наилучших параметров с помощью оценщика;\n",
    "- на тренировочных данных лучшее значение RMSE = 1286.624461444039 достигнуто для модели LGBMRegressor;"
   ]
  },
  {
   "cell_type": "markdown",
   "metadata": {},
   "source": [
    "## Анализ моделей"
   ]
  },
  {
   "cell_type": "markdown",
   "metadata": {},
   "source": [
    "Проведем обучение моделей на лучших параметрах."
   ]
  },
  {
   "cell_type": "markdown",
   "metadata": {},
   "source": [
    "### Модель LinearRegression"
   ]
  },
  {
   "cell_type": "code",
   "execution_count": 58,
   "metadata": {},
   "outputs": [
    {
     "data": {
      "text/plain": [
       "0.06594296296437581"
      ]
     },
     "execution_count": 58,
     "metadata": {},
     "output_type": "execute_result"
    }
   ],
   "source": [
    "# найдем время обучения модели линейной регрессии\n",
    "start = time()\n",
    "\n",
    "model_lr = LinearRegression()\n",
    "model_lr.fit(features_train_ohe, target_train)\n",
    "\n",
    "end = time()\n",
    "\n",
    "model_time_fit_lr = (end-start)/60 \n",
    "model_time_fit_lr"
   ]
  },
  {
   "cell_type": "code",
   "execution_count": 59,
   "metadata": {},
   "outputs": [
    {
     "data": {
      "text/plain": [
       "0.0036502718925476075"
      ]
     },
     "execution_count": 59,
     "metadata": {},
     "output_type": "execute_result"
    }
   ],
   "source": [
    "# найдем время предсказания на  трейне\n",
    "start = time()\n",
    "\n",
    "target_predict_lr = model_lr.predict(features_train_ohe)\n",
    "\n",
    "end = time()\n",
    "\n",
    "model_time_pred_lr = (end-start)/60 \n",
    "model_time_pred_lr"
   ]
  },
  {
   "cell_type": "markdown",
   "metadata": {},
   "source": [
    "### Модель DecisionTreeRegressor"
   ]
  },
  {
   "cell_type": "code",
   "execution_count": 60,
   "metadata": {},
   "outputs": [
    {
     "data": {
      "text/plain": [
       "0.007569603125254313"
      ]
     },
     "execution_count": 60,
     "metadata": {},
     "output_type": "execute_result"
    }
   ],
   "source": [
    "# найдем время обучения модели решающего дерева\n",
    "start = time()\n",
    "\n",
    "model_dt = DecisionTreeRegressor(random_state=12345, **best_model_dt)\n",
    "model_dt.fit(features_train_ord, target_train)\n",
    "\n",
    "end = time()\n",
    "\n",
    "model_time_fit_dt = (end-start)/60\n",
    "model_time_fit_dt"
   ]
  },
  {
   "cell_type": "code",
   "execution_count": 61,
   "metadata": {},
   "outputs": [
    {
     "data": {
      "text/plain": [
       "0.0007863998413085938"
      ]
     },
     "execution_count": 61,
     "metadata": {},
     "output_type": "execute_result"
    }
   ],
   "source": [
    "# найдем время предсказания на трейне\n",
    "start = time()\n",
    "target_predict = model_dt.predict(features_train_ord)\n",
    "\n",
    "end = time()\n",
    "\n",
    "model_time_pred_dt = (end-start)/60\n",
    "model_time_pred_dt"
   ]
  },
  {
   "cell_type": "markdown",
   "metadata": {},
   "source": [
    "### Модель LGBMRegressor"
   ]
  },
  {
   "cell_type": "code",
   "execution_count": 62,
   "metadata": {},
   "outputs": [
    {
     "data": {
      "text/plain": [
       "0.06692416270573934"
      ]
     },
     "execution_count": 62,
     "metadata": {},
     "output_type": "execute_result"
    }
   ],
   "source": [
    "# найдем время обучения градиентного бустинга\n",
    "start = time()\n",
    "\n",
    "model_gb = lgb.LGBMRegressor(random_state=12345, **best_model_gb)\n",
    "model_gb.fit(features_train_gb, target_train_gb)\n",
    "\n",
    "end = time()\n",
    "\n",
    "model_time_fit_gb = (end-start)/60\n",
    "model_time_fit_gb"
   ]
  },
  {
   "cell_type": "code",
   "execution_count": 63,
   "metadata": {},
   "outputs": [
    {
     "data": {
      "text/plain": [
       "0.037005690733591716"
      ]
     },
     "execution_count": 63,
     "metadata": {},
     "output_type": "execute_result"
    }
   ],
   "source": [
    "# найдем время предсказания на трейне\n",
    "start = time()\n",
    "\n",
    "target_predict_gb = model_gb.predict(features_train_gb)\n",
    "\n",
    "end = time()\n",
    "\n",
    "model_time_pred_gb = (end-start)/60\n",
    "model_time_pred_gb"
   ]
  },
  {
   "cell_type": "code",
   "execution_count": 64,
   "metadata": {},
   "outputs": [
    {
     "data": {
      "image/png": "[encoded data removed]",
      "text/plain": [
       "<Figure size 900x500 with 1 Axes>"
      ]
     },
     "metadata": {},
     "output_type": "display_data"
    }
   ],
   "source": [
    "# посмотрим на то, какие признаки влияют больше всего\n",
    "lgb.plot_importance(model_gb, height=.5, xlabel ='важность признаков', ylabel ='признаки', title='Важность признаков',\\\n",
    "                    figsize=(9,5));"
   ]
  },
  {
   "cell_type": "markdown",
   "metadata": {},
   "source": [
    "В большей степени на цену автомобиля влияют мощность и возраст автомобиля."
   ]
  },
  {
   "cell_type": "markdown",
   "metadata": {},
   "source": [
    "### Сводные данные по моделям"
   ]
  },
  {
   "cell_type": "code",
   "execution_count": 65,
   "metadata": {},
   "outputs": [
    {
     "data": {
      "text/html": [
       "<div>\n",
       "<style scoped>\n",
       "    .dataframe tbody tr th:only-of-type {\n",
       "        vertical-align: middle;\n",
       "    }\n",
       "\n",
       "    .dataframe tbody tr th {\n",
       "        vertical-align: top;\n",
       "    }\n",
       "\n",
       "    .dataframe thead th {\n",
       "        text-align: right;\n",
       "    }\n",
       "</style>\n",
       "<table border=\"1\" class=\"dataframe\">\n",
       "  <thead>\n",
       "    <tr style=\"text-align: right;\">\n",
       "      <th></th>\n",
       "      <th>LinearRegression</th>\n",
       "      <th>DecisionTreeRegressor</th>\n",
       "      <th>LGBMRegressor</th>\n",
       "    </tr>\n",
       "  </thead>\n",
       "  <tbody>\n",
       "    <tr>\n",
       "      <th>Результаты RMSE</th>\n",
       "      <td>2546.013839</td>\n",
       "      <td>1482.413255</td>\n",
       "      <td>1286.624461</td>\n",
       "    </tr>\n",
       "    <tr>\n",
       "      <th>Время обучения модели, мин</th>\n",
       "      <td>0.065943</td>\n",
       "      <td>0.007570</td>\n",
       "      <td>0.066924</td>\n",
       "    </tr>\n",
       "    <tr>\n",
       "      <th>Время предсказания, мин</th>\n",
       "      <td>0.003650</td>\n",
       "      <td>0.000786</td>\n",
       "      <td>0.037006</td>\n",
       "    </tr>\n",
       "    <tr>\n",
       "      <th>Суммарное время модели, мин</th>\n",
       "      <td>0.069593</td>\n",
       "      <td>0.008356</td>\n",
       "      <td>0.103930</td>\n",
       "    </tr>\n",
       "  </tbody>\n",
       "</table>\n",
       "</div>"
      ],
      "text/plain": [
       "                             LinearRegression  DecisionTreeRegressor  \\\n",
       "Результаты RMSE                   2546.013839            1482.413255   \n",
       "Время обучения модели, мин           0.065943               0.007570   \n",
       "Время предсказания, мин              0.003650               0.000786   \n",
       "Суммарное время модели, мин          0.069593               0.008356   \n",
       "\n",
       "                             LGBMRegressor  \n",
       "Результаты RMSE                1286.624461  \n",
       "Время обучения модели, мин        0.066924  \n",
       "Время предсказания, мин           0.037006  \n",
       "Суммарное время модели, мин       0.103930  "
      ]
     },
     "execution_count": 65,
     "metadata": {},
     "output_type": "execute_result"
    }
   ],
   "source": [
    "# сформируем сводную таблицу с результатми\n",
    "result = pd.DataFrame(\n",
    "    [\n",
    "        [rmse_lr, rmse_dt, rsme_gb],\n",
    "        [model_time_fit_lr, model_time_fit_dt, model_time_fit_gb],\n",
    "        [model_time_pred_lr, model_time_pred_dt, model_time_pred_gb],\n",
    "        [model_time_fit_lr + model_time_pred_lr, model_time_fit_dt + model_time_pred_dt, model_time_fit_gb + model_time_pred_gb]\n",
    "    ],\n",
    "    index=['Результаты RMSE', 'Время обучения модели, мин', 'Время предсказания, мин', 'Суммарное время модели, мин'], \n",
    "    columns=['LinearRegression', 'DecisionTreeRegressor', 'LGBMRegressor']\n",
    ")\n",
    "result"
   ]
  },
  {
   "cell_type": "markdown",
   "metadata": {},
   "source": [
    "Таким образом, все модели были обучены на своих лучших параметрах на трейне, получены предсказания на трейне, замерены время обучения и предсказания, вычислена метрика качества RMSE на кросс-валидации.\n",
    "Из таблицы видно, что наибольшей точностью обладает модель LGBMRegressor, но она же и самая медленная и в обучении, и в предсказании. Модель DecisionTreeRegressor так же обладает достаточно высокой точностью (немногим меньшей чем предыдущая модель), при этом быстрота вычислений на несколько порядков выше. Модель LinearRegression обладает наименьшей точностью, при среднем быстродействии. Поэтому, исходя из требований заказчика, оптимальной по показателю точность/время является DecisionTreeRegressor."
   ]
  },
  {
   "cell_type": "markdown",
   "metadata": {},
   "source": [
    "#### Тестирование выбранной модели"
   ]
  },
  {
   "cell_type": "code",
   "execution_count": 66,
   "metadata": {},
   "outputs": [
    {
     "data": {
      "text/plain": [
       "1454.33073911314"
      ]
     },
     "execution_count": 66,
     "metadata": {},
     "output_type": "execute_result"
    }
   ],
   "source": [
    "# проверим лучшую модель на тестовой выборке\n",
    "target_predict = model_dt.predict(features_test_ord)\n",
    "\n",
    "# определим метрику качества \n",
    "final_RMSE = mean_squared_error(target_test, target_predict) ** 0.5\n",
    "final_RMSE"
   ]
  },
  {
   "cell_type": "markdown",
   "metadata": {},
   "source": [
    "На тестовой выборке метрика качества RMSE 1454.33073911314. "
   ]
  },
  {
   "cell_type": "markdown",
   "metadata": {},
   "source": [
    "#### Проверка адекватности модели"
   ]
  },
  {
   "cell_type": "code",
   "execution_count": 67,
   "metadata": {},
   "outputs": [
    {
     "name": "stdout",
     "output_type": "stream",
     "text": [
      "Среднеквадратическая ошибка для модели Дамми составляет: 3449.5508067104433\n"
     ]
    }
   ],
   "source": [
    "dummy_regr = DummyRegressor(strategy=\"mean\")\n",
    "dummy_regr.fit(features_train_ord, target_train)\n",
    "DummyRegressor()\n",
    "dummy_regr_predict = dummy_regr.predict(features_test_ord)\n",
    "rmse = mean_squared_error(target_test,dummy_regr_predict)**0.5\n",
    "print('Среднеквадратическая ошибка для модели Дамми составляет:', rmse)"
   ]
  },
  {
   "cell_type": "markdown",
   "metadata": {},
   "source": [
    "Модель адекватна."
   ]
  },
  {
   "cell_type": "markdown",
   "metadata": {},
   "source": [
    "## Итоговый вывод."
   ]
  },
  {
   "cell_type": "markdown",
   "metadata": {},
   "source": [
    "**По результатам проделанной работы можно сказать следующее:**\n",
    "\n",
    "-------------------------------------------------------------------------------------------------------------------------------\n",
    "Загрузив и проведя первичный осмотр данных можно сделать следующие выводы:\n",
    "  - данные загрузились корректно;\n",
    "  - датафрейм содержит 354369 строк и 16 столбцов;\n",
    "  - названия столбцов представлены в \"верблюжьем\" стиле, необходимо будет перевести в \"змеиный\";\n",
    "  - в данных есть явные дубликаты, необходимо будет их удалить;\n",
    "  - в данных незначимые для машинного обучения столбцы, а именно: DateCrawled, RegistrationMonth, DateCreated, NumberOfPictures, PostalCode, LastSeen, необходимо будет их удалить;\n",
    "  - в некоторых значимых столбцах есть пропуски данных, необходимо будет их обработать;\n",
    "  - в категориальных столбцах наблюдается неявное дублирование в названии категорий: в столбце FuelType встречается разное название одного и того же вида топлива - бензина ('petrol' и 'gasoline'); в столбце Model - разное написание одной модели rangerover и range_rover. это нужно будет учесть в предобработке данных;\n",
    "  - во всех значимых числовых столбцах присутствуют выбросы, необходимо будет проработать и этот момент;\n",
    "  - данные в столбце с годом регистрации автомобиля RegistrationYear, имеют целочисленный тип, что не является помехой для наших целей, данные имеют неправдоподобные выбросы из далекого прошлого и далекого будующего, необходимо будет поработать с этими выбросами;\n",
    "  - данные в столбце с годом регистрации автомобиля RegistrationMonth имеют нулевые значения, при этом основная нумерация от 1 до 12, необходимо будет поработать с этими аномальными значениями;\n",
    "  - данные в столбце с пробегом так же имеют выбросы в направлении малых пробегов, но это может быть вполне реальной картиной, даже для старых автомобилей, так не редкость, что машина может просто простоять в гараже, поэтому этот столбнц оставим как есть.\n",
    "-------------------------------------------------------------------------------------------------------------------------------\n",
    "\n",
    "В результате предобработки данных была проведена следующая работа:\n",
    "\n",
    "- названия столбцов приведины к \"змеиному стилю\";\n",
    "- удалены явные дубликаты;\n",
    "- удалены незначимые для машинного обучения столбцы:'number_of_pictures', 'postal_code', 'date_created', 'last_seen', 'registration_month', 'date_crawled';\n",
    "- выбросы в столбце 'registration_year' были удалены, рассматриевамый период регистрации автомобилей с 1960 по март 2016 года;\n",
    "- обработаны аномальные значения в столбце 'power': данные по автомобилям с мощностью более 1000 л.с. и менее 10 л.с. были удалены, \n",
    "- выбросы в столбце 'price' были удалены, рассматриевамый рассматриваемый диапазон цен от 500 до 14000 евро;\n",
    "- пропуски в столбце 'repaired' заменены новой категорией 'unknown';\n",
    "- в столбце 'fuel_type' значения  gasoline были перезаписаны как petrol, пропуски заменены на'other';\n",
    "- в столбце 'model' проработы неявные дубликаты, пропуски заменены на'other';\n",
    "- в столбце 'vehicle_type' пропуски были заменены на самый популярный тип кузова для конкретной модели автомобиля;\n",
    "-------------------------------------------------------------------------------------------------------------------------------\n",
    "\n",
    "В ходе подготовки данных для обучения моделей были проделаны следующие работы:\n",
    "- признаки отделены от целевого признака, проведено разделение выборок на тренировочную и тестовую в соттношении 75/25;\n",
    "- проведено ОНЕ кодирование для линейных моделей;\n",
    "- проведено ОRD кодирование для нелинейных моделей;\n",
    "- проведено масштабирование числовых признаков.\n",
    "-------------------------------------------------------------------------------------------------------------------------------\n",
    "\n",
    "По результату обучения моделей можно сказать следующее:\n",
    "- обучены 3 модели: LinearRegression, DecisionTreeRegressor и LGBMRegressor;\n",
    "- для каждой модели проведен подбор наилучших параметров с помощью оценщика;\n",
    "- на тренировочных данных лучшее значение RMSE = 1286.6244614440392 достигнуто для модели LGBMRegressor;\n",
    "-------------------------------------------------------------------------------------------------------------------------------\n",
    "\n",
    "Таким образом, все модели были обучены на своих лучших параметрах на трейне, получены предсказания на трейне, замерены время обучения и предсказания, вычислена метрика качества RMSE на кросс-валидации.\n",
    "\n",
    "\n",
    "||LinearRegression|\tDecisionTreeRegressor|\tLGBMRegressor|\n",
    "|-|----------------|-----------------------|---------------|\n",
    "Результаты  RMSE|\t2546.015817|\t1482.411836|1286.62446|\n",
    "Время обучения модели, мин|0.265134|0.007601|0.675052\n",
    "Время предсказания, мин|\t0.002279|\t0.000663|\t0.321410|\n",
    "Суммарное время модели, мин|0.267413|0.008263|0.996462|\n",
    "\n",
    "\n",
    "\n",
    "\n",
    "Из таблицы видно, что наибольшей точностью обладает модель LGBMRegressor, но она же и самая медленная и в обучении, и в предсказании.Модель DecisionTreeRegressor так же обладает достаточно высокой точностью (немногим меньшей чем предыдущая модель), при этом быстрота вычислений на несколько порядков выше. Модель LinearRegression обладает наименьшей точностью, при среднем быстродействии. \n",
    "\n",
    "Поэтому, исходя из требований заказчика, оптимальной по показателю точность/время является DecisionTreeRegressor.\n",
    "Выбранная модель на тестовых данных показала метрику RMSE = 1454.33073911314.\n",
    "Модель была проверена на адекватность, модель адекватна.\n",
    "\n",
    "-------------------------------------------------------------------------------------------------------------------------------\n",
    "**Таким образом заказчику можно порекомендовать  модель DecisionTreeRegressor.**"
   ]
  }
 ],
 "metadata": {
  "ExecuteTimeLog": [
   {
    "duration": 1848,
    "start_time": "2024-08-20T09:38:01.157Z"
   },
   {
    "duration": 32620,
    "start_time": "2024-08-20T09:40:24.901Z"
   },
   {
    "duration": 210,
    "start_time": "2024-08-20T09:41:17.834Z"
   },
   {
    "duration": 4,
    "start_time": "2024-08-20T09:53:02.072Z"
   },
   {
    "duration": 2864,
    "start_time": "2024-08-20T09:55:46.017Z"
   },
   {
    "duration": 8,
    "start_time": "2024-08-20T09:57:20.349Z"
   },
   {
    "duration": 1171,
    "start_time": "2024-08-20T09:58:14.851Z"
   },
   {
    "duration": 8,
    "start_time": "2024-08-20T10:04:15.585Z"
   },
   {
    "duration": 1046,
    "start_time": "2024-08-20T10:04:17.602Z"
   },
   {
    "duration": 6,
    "start_time": "2024-08-20T10:07:47.644Z"
   },
   {
    "duration": 9,
    "start_time": "2024-08-20T10:07:49.373Z"
   },
   {
    "duration": 7,
    "start_time": "2024-08-20T10:07:51.349Z"
   },
   {
    "duration": 2638,
    "start_time": "2024-08-20T10:07:56.003Z"
   },
   {
    "duration": 7,
    "start_time": "2024-08-20T10:11:13.050Z"
   },
   {
    "duration": 1085,
    "start_time": "2024-08-20T10:11:16.549Z"
   },
   {
    "duration": 7,
    "start_time": "2024-08-20T10:12:25.569Z"
   },
   {
    "duration": 1096,
    "start_time": "2024-08-20T10:12:27.488Z"
   },
   {
    "duration": 8,
    "start_time": "2024-08-20T10:12:47.251Z"
   },
   {
    "duration": 8,
    "start_time": "2024-08-20T10:13:04.336Z"
   },
   {
    "duration": 2219,
    "start_time": "2024-08-20T10:13:08.124Z"
   },
   {
    "duration": 8,
    "start_time": "2024-08-20T10:14:40.505Z"
   },
   {
    "duration": 2475,
    "start_time": "2024-08-20T10:14:43.129Z"
   },
   {
    "duration": 19,
    "start_time": "2024-08-20T10:27:05.175Z"
   },
   {
    "duration": 18,
    "start_time": "2024-08-20T10:27:43.781Z"
   },
   {
    "duration": 27,
    "start_time": "2024-08-20T10:28:16.397Z"
   },
   {
    "duration": 23,
    "start_time": "2024-08-20T10:29:23.826Z"
   },
   {
    "duration": 59,
    "start_time": "2024-08-20T10:49:36.346Z"
   },
   {
    "duration": 63,
    "start_time": "2024-08-20T10:49:40.952Z"
   },
   {
    "duration": 29,
    "start_time": "2024-08-20T10:50:05.676Z"
   },
   {
    "duration": 36,
    "start_time": "2024-08-20T10:50:37.396Z"
   },
   {
    "duration": 46,
    "start_time": "2024-08-20T10:50:41.117Z"
   },
   {
    "duration": 27,
    "start_time": "2024-08-20T10:50:50.197Z"
   },
   {
    "duration": 30,
    "start_time": "2024-08-20T10:50:57.093Z"
   },
   {
    "duration": 30,
    "start_time": "2024-08-20T10:51:03.931Z"
   },
   {
    "duration": 32,
    "start_time": "2024-08-20T10:53:20.701Z"
   },
   {
    "duration": 37,
    "start_time": "2024-08-20T10:58:18.513Z"
   },
   {
    "duration": 37,
    "start_time": "2024-08-20T11:00:34.447Z"
   },
   {
    "duration": 44,
    "start_time": "2024-08-20T11:01:35.598Z"
   },
   {
    "duration": 12,
    "start_time": "2024-08-20T11:06:53.413Z"
   },
   {
    "duration": 2287,
    "start_time": "2024-08-20T11:06:56.079Z"
   },
   {
    "duration": 44,
    "start_time": "2024-08-20T11:07:37.821Z"
   },
   {
    "duration": 28,
    "start_time": "2024-08-20T11:08:11.985Z"
   },
   {
    "duration": 18,
    "start_time": "2024-08-20T11:18:34.824Z"
   },
   {
    "duration": 5,
    "start_time": "2024-08-20T11:19:19.378Z"
   },
   {
    "duration": 28,
    "start_time": "2024-08-20T11:19:38.613Z"
   },
   {
    "duration": 5,
    "start_time": "2024-08-20T11:20:29.074Z"
   },
   {
    "duration": 8,
    "start_time": "2024-08-20T11:23:16.209Z"
   },
   {
    "duration": 534,
    "start_time": "2024-08-20T11:23:18.607Z"
   },
   {
    "duration": 2053,
    "start_time": "2024-08-20T11:23:48.361Z"
   },
   {
    "duration": 1132,
    "start_time": "2024-08-20T11:23:50.417Z"
   },
   {
    "duration": 8,
    "start_time": "2024-08-20T11:23:51.551Z"
   },
   {
    "duration": 2618,
    "start_time": "2024-08-20T11:23:51.562Z"
   },
   {
    "duration": 5,
    "start_time": "2024-08-20T11:23:54.183Z"
   },
   {
    "duration": 37,
    "start_time": "2024-08-20T11:23:54.190Z"
   },
   {
    "duration": 171,
    "start_time": "2024-08-20T11:23:54.228Z"
   },
   {
    "duration": 1982,
    "start_time": "2024-08-20T11:26:35.718Z"
   },
   {
    "duration": 1080,
    "start_time": "2024-08-20T11:26:37.703Z"
   },
   {
    "duration": 9,
    "start_time": "2024-08-20T11:26:38.785Z"
   },
   {
    "duration": 2527,
    "start_time": "2024-08-20T11:26:38.796Z"
   },
   {
    "duration": 5,
    "start_time": "2024-08-20T11:26:41.326Z"
   },
   {
    "duration": 12,
    "start_time": "2024-08-20T11:26:41.333Z"
   },
   {
    "duration": 173,
    "start_time": "2024-08-20T11:26:41.347Z"
   },
   {
    "duration": 2039,
    "start_time": "2024-08-20T11:31:21.921Z"
   },
   {
    "duration": 1107,
    "start_time": "2024-08-20T11:31:23.964Z"
   },
   {
    "duration": 12,
    "start_time": "2024-08-20T11:31:25.078Z"
   },
   {
    "duration": 2731,
    "start_time": "2024-08-20T11:31:25.092Z"
   },
   {
    "duration": 6,
    "start_time": "2024-08-20T11:31:27.827Z"
   },
   {
    "duration": 15,
    "start_time": "2024-08-20T11:31:27.836Z"
   },
   {
    "duration": 251,
    "start_time": "2024-08-20T11:31:27.853Z"
   },
   {
    "duration": 1947,
    "start_time": "2024-08-20T11:32:30.548Z"
   },
   {
    "duration": 1122,
    "start_time": "2024-08-20T11:32:32.498Z"
   },
   {
    "duration": 8,
    "start_time": "2024-08-20T11:32:33.622Z"
   },
   {
    "duration": 2510,
    "start_time": "2024-08-20T11:32:33.632Z"
   },
   {
    "duration": 5,
    "start_time": "2024-08-20T11:32:36.144Z"
   },
   {
    "duration": 28,
    "start_time": "2024-08-20T11:32:36.151Z"
   },
   {
    "duration": 180,
    "start_time": "2024-08-20T11:32:36.182Z"
   },
   {
    "duration": 1774,
    "start_time": "2024-08-20T11:34:24.935Z"
   },
   {
    "duration": 1033,
    "start_time": "2024-08-20T11:34:26.712Z"
   },
   {
    "duration": 9,
    "start_time": "2024-08-20T11:34:27.747Z"
   },
   {
    "duration": 2311,
    "start_time": "2024-08-20T11:34:27.758Z"
   },
   {
    "duration": 5,
    "start_time": "2024-08-20T11:34:30.073Z"
   },
   {
    "duration": 83,
    "start_time": "2024-08-20T11:34:30.080Z"
   },
   {
    "duration": 239,
    "start_time": "2024-08-20T11:34:30.165Z"
   },
   {
    "duration": 1423,
    "start_time": "2024-08-20T11:36:12.402Z"
   },
   {
    "duration": 121719,
    "start_time": "2024-08-20T11:55:01.376Z"
   },
   {
    "duration": 1696,
    "start_time": "2024-08-20T11:57:43.738Z"
   },
   {
    "duration": 1011,
    "start_time": "2024-08-20T11:57:45.436Z"
   },
   {
    "duration": 8,
    "start_time": "2024-08-20T11:57:46.449Z"
   },
   {
    "duration": 2523,
    "start_time": "2024-08-20T11:57:46.471Z"
   },
   {
    "duration": 8,
    "start_time": "2024-08-20T11:57:48.997Z"
   },
   {
    "duration": 6,
    "start_time": "2024-08-20T11:57:49.007Z"
   },
   {
    "duration": 164,
    "start_time": "2024-08-20T11:57:49.016Z"
   },
   {
    "duration": 6,
    "start_time": "2024-08-20T11:58:40.028Z"
   },
   {
    "duration": 1666,
    "start_time": "2024-08-20T11:58:54.010Z"
   },
   {
    "duration": 1047,
    "start_time": "2024-08-20T11:58:55.679Z"
   },
   {
    "duration": 8,
    "start_time": "2024-08-20T11:58:56.728Z"
   },
   {
    "duration": 2652,
    "start_time": "2024-08-20T11:58:56.738Z"
   },
   {
    "duration": 6,
    "start_time": "2024-08-20T11:58:59.393Z"
   },
   {
    "duration": 6,
    "start_time": "2024-08-20T11:58:59.401Z"
   },
   {
    "duration": 72,
    "start_time": "2024-08-20T11:58:59.409Z"
   },
   {
    "duration": 14,
    "start_time": "2024-08-20T11:59:42.942Z"
   },
   {
    "duration": 8,
    "start_time": "2024-08-20T12:00:20.133Z"
   },
   {
    "duration": 10,
    "start_time": "2024-08-20T12:00:23.936Z"
   },
   {
    "duration": 707,
    "start_time": "2024-08-20T12:00:26.290Z"
   },
   {
    "duration": 19,
    "start_time": "2024-08-20T12:00:56.158Z"
   },
   {
    "duration": 601,
    "start_time": "2024-08-20T12:00:59.276Z"
   },
   {
    "duration": 1722,
    "start_time": "2024-08-20T12:01:09.858Z"
   },
   {
    "duration": 1078,
    "start_time": "2024-08-20T12:01:11.583Z"
   },
   {
    "duration": 18,
    "start_time": "2024-08-20T12:01:12.663Z"
   },
   {
    "duration": 2774,
    "start_time": "2024-08-20T12:01:12.683Z"
   },
   {
    "duration": 16,
    "start_time": "2024-08-20T12:01:15.460Z"
   },
   {
    "duration": 62,
    "start_time": "2024-08-20T12:01:15.481Z"
   },
   {
    "duration": 82,
    "start_time": "2024-08-20T12:01:15.545Z"
   },
   {
    "duration": 22,
    "start_time": "2024-08-20T12:01:15.629Z"
   },
   {
    "duration": 1381,
    "start_time": "2024-08-20T12:02:37.421Z"
   },
   {
    "duration": 18,
    "start_time": "2024-08-20T12:11:02.138Z"
   },
   {
    "duration": 1449,
    "start_time": "2024-08-20T12:40:01.780Z"
   },
   {
    "duration": 41,
    "start_time": "2024-08-20T12:40:41.062Z"
   },
   {
    "duration": 8,
    "start_time": "2024-08-20T12:41:10.396Z"
   },
   {
    "duration": 15,
    "start_time": "2024-08-20T12:43:22.545Z"
   },
   {
    "duration": 191,
    "start_time": "2024-08-20T12:45:40.525Z"
   },
   {
    "duration": 288,
    "start_time": "2024-08-20T12:46:02.253Z"
   },
   {
    "duration": 441,
    "start_time": "2024-08-20T12:46:33.106Z"
   },
   {
    "duration": 321,
    "start_time": "2024-08-20T12:46:49.494Z"
   },
   {
    "duration": 15,
    "start_time": "2024-08-20T12:49:26.248Z"
   },
   {
    "duration": 23,
    "start_time": "2024-08-20T12:50:24.684Z"
   },
   {
    "duration": 15,
    "start_time": "2024-08-20T12:51:08.417Z"
   },
   {
    "duration": 120,
    "start_time": "2024-08-20T12:52:06.756Z"
   },
   {
    "duration": 65,
    "start_time": "2024-08-20T12:52:33.275Z"
   },
   {
    "duration": 58,
    "start_time": "2024-08-20T12:52:56.076Z"
   },
   {
    "duration": 43,
    "start_time": "2024-08-20T12:53:19.795Z"
   },
   {
    "duration": 45,
    "start_time": "2024-08-20T12:53:32.735Z"
   },
   {
    "duration": 38,
    "start_time": "2024-08-20T12:53:37.223Z"
   },
   {
    "duration": 36,
    "start_time": "2024-08-20T12:54:04.388Z"
   },
   {
    "duration": 38,
    "start_time": "2024-08-20T12:54:13.291Z"
   },
   {
    "duration": 38,
    "start_time": "2024-08-20T12:54:39.931Z"
   },
   {
    "duration": 45,
    "start_time": "2024-08-20T12:54:54.043Z"
   },
   {
    "duration": 37,
    "start_time": "2024-08-20T12:55:09.251Z"
   },
   {
    "duration": 39,
    "start_time": "2024-08-20T12:55:23.239Z"
   },
   {
    "duration": 47,
    "start_time": "2024-08-20T12:55:57.935Z"
   },
   {
    "duration": 50,
    "start_time": "2024-08-20T12:56:36.464Z"
   },
   {
    "duration": 34,
    "start_time": "2024-08-20T12:57:10.804Z"
   },
   {
    "duration": 33,
    "start_time": "2024-08-20T12:57:56.475Z"
   },
   {
    "duration": 44,
    "start_time": "2024-08-20T12:58:18.791Z"
   },
   {
    "duration": 39,
    "start_time": "2024-08-20T12:58:38.713Z"
   },
   {
    "duration": 13,
    "start_time": "2024-08-20T13:03:12.631Z"
   },
   {
    "duration": 43,
    "start_time": "2024-08-20T13:04:17.313Z"
   },
   {
    "duration": 40,
    "start_time": "2024-08-20T13:04:48.067Z"
   },
   {
    "duration": 39,
    "start_time": "2024-08-20T13:05:05.810Z"
   },
   {
    "duration": 34,
    "start_time": "2024-08-20T13:05:10.579Z"
   },
   {
    "duration": 36,
    "start_time": "2024-08-20T13:05:22.960Z"
   },
   {
    "duration": 35,
    "start_time": "2024-08-20T13:05:49.397Z"
   },
   {
    "duration": 37,
    "start_time": "2024-08-20T13:06:04.320Z"
   },
   {
    "duration": 203,
    "start_time": "2024-08-20T13:10:38.256Z"
   },
   {
    "duration": 52,
    "start_time": "2024-08-20T13:10:53.835Z"
   },
   {
    "duration": 54,
    "start_time": "2024-08-20T13:11:43.657Z"
   },
   {
    "duration": 40,
    "start_time": "2024-08-20T13:13:03.942Z"
   },
   {
    "duration": 52,
    "start_time": "2024-08-20T13:13:47.465Z"
   },
   {
    "duration": 105,
    "start_time": "2024-08-20T13:14:33.254Z"
   },
   {
    "duration": 33,
    "start_time": "2024-08-20T13:14:38.547Z"
   },
   {
    "duration": 318,
    "start_time": "2024-08-20T13:15:01.108Z"
   },
   {
    "duration": 170,
    "start_time": "2024-08-20T13:15:09.993Z"
   },
   {
    "duration": 34,
    "start_time": "2024-08-20T13:15:31.616Z"
   },
   {
    "duration": 169,
    "start_time": "2024-08-20T13:15:40.401Z"
   },
   {
    "duration": 15,
    "start_time": "2024-08-20T13:41:46.400Z"
   },
   {
    "duration": 5,
    "start_time": "2024-08-20T13:42:19.536Z"
   },
   {
    "duration": 221,
    "start_time": "2024-08-20T13:42:57.802Z"
   },
   {
    "duration": 1313,
    "start_time": "2024-08-20T13:43:17.615Z"
   },
   {
    "duration": 1626,
    "start_time": "2024-08-20T13:43:18.930Z"
   },
   {
    "duration": 962,
    "start_time": "2024-08-20T13:43:20.559Z"
   },
   {
    "duration": 8,
    "start_time": "2024-08-20T13:43:21.524Z"
   },
   {
    "duration": 2419,
    "start_time": "2024-08-20T13:43:21.535Z"
   },
   {
    "duration": 12,
    "start_time": "2024-08-20T13:43:23.957Z"
   },
   {
    "duration": 25,
    "start_time": "2024-08-20T13:43:23.972Z"
   },
   {
    "duration": 550,
    "start_time": "2024-08-20T13:43:23.999Z"
   },
   {
    "duration": 54,
    "start_time": "2024-08-20T13:43:24.552Z"
   },
   {
    "duration": 70,
    "start_time": "2024-08-20T13:43:24.609Z"
   },
   {
    "duration": 268,
    "start_time": "2024-08-20T13:43:24.682Z"
   },
   {
    "duration": 53,
    "start_time": "2024-08-20T13:43:24.953Z"
   },
   {
    "duration": 170,
    "start_time": "2024-08-20T13:43:25.008Z"
   },
   {
    "duration": 197,
    "start_time": "2024-08-20T13:44:57.811Z"
   },
   {
    "duration": 5,
    "start_time": "2024-08-20T13:45:38.745Z"
   },
   {
    "duration": 1011,
    "start_time": "2024-08-20T13:45:38.752Z"
   },
   {
    "duration": 9,
    "start_time": "2024-08-20T13:45:39.765Z"
   },
   {
    "duration": 2639,
    "start_time": "2024-08-20T13:45:39.783Z"
   },
   {
    "duration": 5,
    "start_time": "2024-08-20T13:45:42.424Z"
   },
   {
    "duration": 20,
    "start_time": "2024-08-20T13:45:42.431Z"
   },
   {
    "duration": 509,
    "start_time": "2024-08-20T13:45:42.454Z"
   },
   {
    "duration": 48,
    "start_time": "2024-08-20T13:45:42.965Z"
   },
   {
    "duration": 17,
    "start_time": "2024-08-20T13:45:43.015Z"
   },
   {
    "duration": 297,
    "start_time": "2024-08-20T13:45:43.034Z"
   },
   {
    "duration": 41,
    "start_time": "2024-08-20T13:45:43.333Z"
   },
   {
    "duration": 190,
    "start_time": "2024-08-20T13:45:43.378Z"
   },
   {
    "duration": 12,
    "start_time": "2024-08-20T13:46:32.689Z"
   },
   {
    "duration": 8,
    "start_time": "2024-08-20T13:57:09.561Z"
   },
   {
    "duration": 174,
    "start_time": "2024-08-20T13:57:41.549Z"
   },
   {
    "duration": 12,
    "start_time": "2024-08-20T13:57:49.429Z"
   },
   {
    "duration": 17,
    "start_time": "2024-08-20T13:58:07.209Z"
   },
   {
    "duration": 11,
    "start_time": "2024-08-20T13:58:15.303Z"
   },
   {
    "duration": 11,
    "start_time": "2024-08-20T13:58:34.803Z"
   },
   {
    "duration": 13,
    "start_time": "2024-08-20T13:58:59.074Z"
   },
   {
    "duration": 13,
    "start_time": "2024-08-20T13:59:40.375Z"
   },
   {
    "duration": 11,
    "start_time": "2024-08-20T14:00:08.645Z"
   },
   {
    "duration": 24,
    "start_time": "2024-08-20T14:01:06.068Z"
   },
   {
    "duration": 141,
    "start_time": "2024-08-20T14:01:30.447Z"
   },
   {
    "duration": 11,
    "start_time": "2024-08-20T14:02:01.497Z"
   },
   {
    "duration": 21,
    "start_time": "2024-08-20T14:02:20.749Z"
   },
   {
    "duration": 15,
    "start_time": "2024-08-20T14:02:27.121Z"
   },
   {
    "duration": 12,
    "start_time": "2024-08-20T14:05:08.543Z"
   },
   {
    "duration": 10,
    "start_time": "2024-08-20T14:05:21.350Z"
   },
   {
    "duration": 8,
    "start_time": "2024-08-20T14:05:43.327Z"
   },
   {
    "duration": 9,
    "start_time": "2024-08-20T14:05:56.057Z"
   },
   {
    "duration": 12,
    "start_time": "2024-08-20T14:06:52.274Z"
   },
   {
    "duration": 172,
    "start_time": "2024-08-20T14:08:35.356Z"
   },
   {
    "duration": 14,
    "start_time": "2024-08-20T14:09:49.224Z"
   },
   {
    "duration": 199,
    "start_time": "2024-08-20T14:10:50.311Z"
   },
   {
    "duration": 1766,
    "start_time": "2024-08-20T14:10:59.474Z"
   },
   {
    "duration": 968,
    "start_time": "2024-08-20T14:11:01.243Z"
   },
   {
    "duration": 12,
    "start_time": "2024-08-20T14:11:02.214Z"
   },
   {
    "duration": 2477,
    "start_time": "2024-08-20T14:11:02.230Z"
   },
   {
    "duration": 7,
    "start_time": "2024-08-20T14:11:04.709Z"
   },
   {
    "duration": 28,
    "start_time": "2024-08-20T14:11:04.719Z"
   },
   {
    "duration": 376,
    "start_time": "2024-08-20T14:11:04.749Z"
   },
   {
    "duration": 804,
    "start_time": "2024-08-20T14:11:05.128Z"
   },
   {
    "duration": 69,
    "start_time": "2024-08-20T14:11:05.936Z"
   },
   {
    "duration": 21,
    "start_time": "2024-08-20T14:11:06.010Z"
   },
   {
    "duration": 63,
    "start_time": "2024-08-20T14:11:06.034Z"
   },
   {
    "duration": 60,
    "start_time": "2024-08-20T14:11:06.101Z"
   },
   {
    "duration": 218,
    "start_time": "2024-08-20T14:11:06.164Z"
   },
   {
    "duration": 223,
    "start_time": "2024-08-20T14:11:06.386Z"
   },
   {
    "duration": 32,
    "start_time": "2024-08-20T14:12:35.214Z"
   },
   {
    "duration": 41,
    "start_time": "2024-08-20T14:14:05.258Z"
   },
   {
    "duration": 41,
    "start_time": "2024-08-20T14:14:20.023Z"
   },
   {
    "duration": 15,
    "start_time": "2024-08-20T14:23:29.265Z"
   },
   {
    "duration": 11,
    "start_time": "2024-08-20T14:33:22.609Z"
   },
   {
    "duration": 10,
    "start_time": "2024-08-20T14:33:33.064Z"
   },
   {
    "duration": 9,
    "start_time": "2024-08-20T14:33:53.041Z"
   },
   {
    "duration": 8,
    "start_time": "2024-08-20T14:35:12.151Z"
   },
   {
    "duration": 1863,
    "start_time": "2024-08-20T14:35:24.939Z"
   },
   {
    "duration": 901,
    "start_time": "2024-08-20T14:35:26.805Z"
   },
   {
    "duration": 11,
    "start_time": "2024-08-20T14:35:27.709Z"
   },
   {
    "duration": 2607,
    "start_time": "2024-08-20T14:35:27.723Z"
   },
   {
    "duration": 6,
    "start_time": "2024-08-20T14:35:30.333Z"
   },
   {
    "duration": 36,
    "start_time": "2024-08-20T14:35:30.341Z"
   },
   {
    "duration": 100,
    "start_time": "2024-08-20T14:35:30.379Z"
   },
   {
    "duration": 544,
    "start_time": "2024-08-20T14:35:30.481Z"
   },
   {
    "duration": 44,
    "start_time": "2024-08-20T14:35:31.027Z"
   },
   {
    "duration": 17,
    "start_time": "2024-08-20T14:35:31.074Z"
   },
   {
    "duration": 20,
    "start_time": "2024-08-20T14:35:31.094Z"
   },
   {
    "duration": 68,
    "start_time": "2024-08-20T14:35:31.116Z"
   },
   {
    "duration": 187,
    "start_time": "2024-08-20T14:35:31.187Z"
   },
   {
    "duration": 28,
    "start_time": "2024-08-20T14:35:31.379Z"
   },
   {
    "duration": 17,
    "start_time": "2024-08-20T14:35:31.409Z"
   },
   {
    "duration": 48,
    "start_time": "2024-08-20T14:39:16.967Z"
   },
   {
    "duration": 33,
    "start_time": "2024-08-20T14:40:22.354Z"
   },
   {
    "duration": 49,
    "start_time": "2024-08-20T14:41:45.759Z"
   },
   {
    "duration": 1844,
    "start_time": "2024-08-20T14:41:52.541Z"
   },
   {
    "duration": 1098,
    "start_time": "2024-08-20T14:41:54.389Z"
   },
   {
    "duration": 12,
    "start_time": "2024-08-20T14:41:55.490Z"
   },
   {
    "duration": 2808,
    "start_time": "2024-08-20T14:41:55.505Z"
   },
   {
    "duration": 7,
    "start_time": "2024-08-20T14:41:58.317Z"
   },
   {
    "duration": 15,
    "start_time": "2024-08-20T14:41:58.326Z"
   },
   {
    "duration": 62,
    "start_time": "2024-08-20T14:41:58.343Z"
   },
   {
    "duration": 644,
    "start_time": "2024-08-20T14:41:58.408Z"
   },
   {
    "duration": 51,
    "start_time": "2024-08-20T14:41:59.055Z"
   },
   {
    "duration": 12,
    "start_time": "2024-08-20T14:41:59.109Z"
   },
   {
    "duration": 19,
    "start_time": "2024-08-20T14:41:59.123Z"
   },
   {
    "duration": 73,
    "start_time": "2024-08-20T14:41:59.144Z"
   },
   {
    "duration": 200,
    "start_time": "2024-08-20T14:41:59.219Z"
   },
   {
    "duration": 27,
    "start_time": "2024-08-20T14:41:59.422Z"
   },
   {
    "duration": 19,
    "start_time": "2024-08-20T14:41:59.465Z"
   },
   {
    "duration": 45,
    "start_time": "2024-08-20T14:41:59.488Z"
   },
   {
    "duration": 37,
    "start_time": "2024-08-20T14:42:40.243Z"
   },
   {
    "duration": 332,
    "start_time": "2024-08-20T14:42:50.027Z"
   },
   {
    "duration": 48,
    "start_time": "2024-08-20T14:43:36.651Z"
   },
   {
    "duration": 37,
    "start_time": "2024-08-20T14:43:59.040Z"
   },
   {
    "duration": 32,
    "start_time": "2024-08-20T14:44:06.601Z"
   },
   {
    "duration": 36,
    "start_time": "2024-08-20T14:44:22.886Z"
   },
   {
    "duration": 39,
    "start_time": "2024-08-20T14:45:40.061Z"
   },
   {
    "duration": 32,
    "start_time": "2024-08-20T14:46:27.826Z"
   },
   {
    "duration": 44,
    "start_time": "2024-08-20T14:46:40.943Z"
   },
   {
    "duration": 149,
    "start_time": "2024-08-20T15:51:47.890Z"
   },
   {
    "duration": 77,
    "start_time": "2024-08-20T15:52:02.032Z"
   },
   {
    "duration": 98,
    "start_time": "2024-08-20T15:52:14.725Z"
   },
   {
    "duration": 94,
    "start_time": "2024-08-20T15:52:43.338Z"
   },
   {
    "duration": 86,
    "start_time": "2024-08-20T15:53:04.872Z"
   },
   {
    "duration": 86,
    "start_time": "2024-08-20T15:55:48.677Z"
   },
   {
    "duration": 22,
    "start_time": "2024-08-20T15:56:12.285Z"
   },
   {
    "duration": 120,
    "start_time": "2024-08-20T15:56:30.665Z"
   },
   {
    "duration": 134,
    "start_time": "2024-08-20T15:57:14.956Z"
   },
   {
    "duration": 15,
    "start_time": "2024-08-20T16:05:08.080Z"
   },
   {
    "duration": 193,
    "start_time": "2024-08-20T16:06:08.877Z"
   },
   {
    "duration": 104,
    "start_time": "2024-08-20T16:07:34.917Z"
   },
   {
    "duration": 10,
    "start_time": "2024-08-20T16:07:58.766Z"
   },
   {
    "duration": 106,
    "start_time": "2024-08-20T16:08:04.752Z"
   },
   {
    "duration": 199,
    "start_time": "2024-08-20T16:09:05.836Z"
   },
   {
    "duration": 184,
    "start_time": "2024-08-20T16:10:17.800Z"
   },
   {
    "duration": 31,
    "start_time": "2024-08-20T16:19:26.847Z"
   },
   {
    "duration": 17,
    "start_time": "2024-08-20T16:20:25.585Z"
   },
   {
    "duration": 156,
    "start_time": "2024-08-20T16:20:36.135Z"
   },
   {
    "duration": 15,
    "start_time": "2024-08-20T16:20:47.776Z"
   },
   {
    "duration": 24,
    "start_time": "2024-08-20T16:20:59.914Z"
   },
   {
    "duration": 153,
    "start_time": "2024-08-20T16:27:53.994Z"
   },
   {
    "duration": 164,
    "start_time": "2024-08-20T16:28:18.776Z"
   },
   {
    "duration": 72,
    "start_time": "2024-08-20T16:31:54.049Z"
   },
   {
    "duration": 28,
    "start_time": "2024-08-20T16:34:58.200Z"
   },
   {
    "duration": 52,
    "start_time": "2024-08-20T16:35:09.612Z"
   },
   {
    "duration": 1194,
    "start_time": "2024-08-20T16:43:30.680Z"
   },
   {
    "duration": 933,
    "start_time": "2024-08-20T16:44:06.656Z"
   },
   {
    "duration": 2648,
    "start_time": "2024-08-20T16:44:25.954Z"
   },
   {
    "duration": 1092,
    "start_time": "2024-08-20T16:44:35.924Z"
   },
   {
    "duration": 1028,
    "start_time": "2024-08-20T16:45:02.842Z"
   },
   {
    "duration": 902,
    "start_time": "2024-08-20T16:45:45.214Z"
   },
   {
    "duration": 998,
    "start_time": "2024-08-20T16:46:18.345Z"
   },
   {
    "duration": 12,
    "start_time": "2024-08-20T16:51:45.097Z"
   },
   {
    "duration": 54,
    "start_time": "2024-08-20T16:55:22.696Z"
   },
   {
    "duration": 60,
    "start_time": "2024-08-20T16:55:29.070Z"
   },
   {
    "duration": 53,
    "start_time": "2024-08-20T16:55:44.415Z"
   },
   {
    "duration": 14,
    "start_time": "2024-08-20T16:55:49.955Z"
   },
   {
    "duration": 12,
    "start_time": "2024-08-20T16:56:14.580Z"
   },
   {
    "duration": 11,
    "start_time": "2024-08-20T16:57:20.802Z"
   },
   {
    "duration": 12,
    "start_time": "2024-08-20T16:58:21.263Z"
   },
   {
    "duration": 7,
    "start_time": "2024-08-20T16:59:12.122Z"
   },
   {
    "duration": 61,
    "start_time": "2024-08-20T17:12:02.874Z"
   },
   {
    "duration": 13,
    "start_time": "2024-08-20T17:12:06.655Z"
   },
   {
    "duration": 49,
    "start_time": "2024-08-20T17:12:18.611Z"
   },
   {
    "duration": 12,
    "start_time": "2024-08-20T17:12:23.270Z"
   },
   {
    "duration": 15,
    "start_time": "2024-08-20T17:13:31.700Z"
   },
   {
    "duration": 49,
    "start_time": "2024-08-20T17:13:48.283Z"
   },
   {
    "duration": 11,
    "start_time": "2024-08-20T17:14:06.751Z"
   },
   {
    "duration": 15,
    "start_time": "2024-08-20T17:36:35.463Z"
   },
   {
    "duration": 6,
    "start_time": "2024-08-20T17:36:47.964Z"
   },
   {
    "duration": 5,
    "start_time": "2024-08-20T17:37:35.275Z"
   },
   {
    "duration": 5,
    "start_time": "2024-08-20T17:37:43.159Z"
   },
   {
    "duration": 12,
    "start_time": "2024-08-20T17:38:49.319Z"
   },
   {
    "duration": 8,
    "start_time": "2024-08-20T17:39:01.113Z"
   },
   {
    "duration": 933,
    "start_time": "2024-08-20T17:39:14.684Z"
   },
   {
    "duration": 15,
    "start_time": "2024-08-20T17:40:45.928Z"
   },
   {
    "duration": 57,
    "start_time": "2024-08-20T17:41:49.772Z"
   },
   {
    "duration": 12,
    "start_time": "2024-08-20T17:41:52.814Z"
   },
   {
    "duration": 8,
    "start_time": "2024-08-20T17:41:56.232Z"
   },
   {
    "duration": 15,
    "start_time": "2024-08-20T17:42:07.551Z"
   },
   {
    "duration": 11,
    "start_time": "2024-08-20T17:42:11.909Z"
   },
   {
    "duration": 5,
    "start_time": "2024-08-20T17:42:25.989Z"
   },
   {
    "duration": 11,
    "start_time": "2024-08-20T17:43:22.908Z"
   },
   {
    "duration": 12,
    "start_time": "2024-08-20T17:43:28.849Z"
   },
   {
    "duration": 16,
    "start_time": "2024-08-20T17:43:59.788Z"
   },
   {
    "duration": 13,
    "start_time": "2024-08-20T17:52:59.796Z"
   },
   {
    "duration": 12,
    "start_time": "2024-08-20T17:53:09.398Z"
   },
   {
    "duration": 7,
    "start_time": "2024-08-20T17:54:41.489Z"
   },
   {
    "duration": 4,
    "start_time": "2024-08-20T17:55:24.644Z"
   },
   {
    "duration": 13,
    "start_time": "2024-08-20T17:56:16.749Z"
   },
   {
    "duration": 15,
    "start_time": "2024-08-20T17:56:44.155Z"
   },
   {
    "duration": 13,
    "start_time": "2024-08-20T18:16:43.385Z"
   },
   {
    "duration": 19,
    "start_time": "2024-08-20T18:18:10.496Z"
   },
   {
    "duration": 114,
    "start_time": "2024-08-20T18:28:37.960Z"
   },
   {
    "duration": 56,
    "start_time": "2024-08-20T18:36:53.241Z"
   },
   {
    "duration": 127,
    "start_time": "2024-08-20T18:37:03.038Z"
   },
   {
    "duration": 109,
    "start_time": "2024-08-20T18:38:00.013Z"
   },
   {
    "duration": 61,
    "start_time": "2024-08-20T18:38:32.491Z"
   },
   {
    "duration": 110,
    "start_time": "2024-08-20T18:38:51.952Z"
   },
   {
    "duration": 47017,
    "start_time": "2024-08-20T18:39:06.812Z"
   },
   {
    "duration": 10898,
    "start_time": "2024-08-20T18:40:11.309Z"
   },
   {
    "duration": 85981,
    "start_time": "2024-08-20T18:40:34.974Z"
   },
   {
    "duration": 0,
    "start_time": "2024-08-20T18:42:00.965Z"
   },
   {
    "duration": 10,
    "start_time": "2024-08-20T18:42:06.574Z"
   },
   {
    "duration": 7,
    "start_time": "2024-08-20T18:42:15.589Z"
   },
   {
    "duration": 7,
    "start_time": "2024-08-20T18:42:43.316Z"
   },
   {
    "duration": 12,
    "start_time": "2024-08-20T18:47:31.285Z"
   },
   {
    "duration": 12,
    "start_time": "2024-08-20T18:48:11.154Z"
   },
   {
    "duration": 22,
    "start_time": "2024-08-20T18:48:53.247Z"
   },
   {
    "duration": 16,
    "start_time": "2024-08-20T18:49:42.040Z"
   },
   {
    "duration": 13,
    "start_time": "2024-08-20T18:53:21.944Z"
   },
   {
    "duration": 15,
    "start_time": "2024-08-20T18:54:04.307Z"
   },
   {
    "duration": 21,
    "start_time": "2024-08-20T18:54:29.394Z"
   },
   {
    "duration": 191,
    "start_time": "2024-08-20T18:55:18.123Z"
   },
   {
    "duration": 553,
    "start_time": "2024-08-20T18:55:28.857Z"
   },
   {
    "duration": 102,
    "start_time": "2024-08-20T18:57:55.364Z"
   },
   {
    "duration": 9,
    "start_time": "2024-08-20T18:58:27.720Z"
   },
   {
    "duration": 1691,
    "start_time": "2024-08-20T18:58:47.483Z"
   },
   {
    "duration": 907,
    "start_time": "2024-08-20T18:58:49.177Z"
   },
   {
    "duration": 8,
    "start_time": "2024-08-20T18:58:50.086Z"
   },
   {
    "duration": 2330,
    "start_time": "2024-08-20T18:58:50.096Z"
   },
   {
    "duration": 5,
    "start_time": "2024-08-20T18:58:52.429Z"
   },
   {
    "duration": 6,
    "start_time": "2024-08-20T18:58:52.436Z"
   },
   {
    "duration": 55,
    "start_time": "2024-08-20T18:58:52.444Z"
   },
   {
    "duration": 526,
    "start_time": "2024-08-20T18:58:52.501Z"
   },
   {
    "duration": 43,
    "start_time": "2024-08-20T18:58:53.029Z"
   },
   {
    "duration": 12,
    "start_time": "2024-08-20T18:58:53.075Z"
   },
   {
    "duration": 12,
    "start_time": "2024-08-20T18:58:53.088Z"
   },
   {
    "duration": 66,
    "start_time": "2024-08-20T18:58:53.101Z"
   },
   {
    "duration": 165,
    "start_time": "2024-08-20T18:58:53.169Z"
   },
   {
    "duration": 36,
    "start_time": "2024-08-20T18:58:53.337Z"
   },
   {
    "duration": 11,
    "start_time": "2024-08-20T18:58:53.375Z"
   },
   {
    "duration": 38,
    "start_time": "2024-08-20T18:58:53.388Z"
   },
   {
    "duration": 55,
    "start_time": "2024-08-20T18:58:53.428Z"
   },
   {
    "duration": 5,
    "start_time": "2024-08-20T18:58:53.485Z"
   },
   {
    "duration": 81,
    "start_time": "2024-08-20T18:58:53.492Z"
   },
   {
    "duration": 26,
    "start_time": "2024-08-20T18:58:53.575Z"
   },
   {
    "duration": 149,
    "start_time": "2024-08-20T18:58:53.603Z"
   },
   {
    "duration": 0,
    "start_time": "2024-08-20T18:58:53.756Z"
   },
   {
    "duration": 787,
    "start_time": "2024-08-20T18:59:44.527Z"
   },
   {
    "duration": 14,
    "start_time": "2024-08-20T18:59:56.882Z"
   },
   {
    "duration": 25,
    "start_time": "2024-08-20T19:02:59.115Z"
   },
   {
    "duration": 19,
    "start_time": "2024-08-20T19:03:32.423Z"
   },
   {
    "duration": 1026,
    "start_time": "2024-08-20T19:03:42.065Z"
   },
   {
    "duration": 1013,
    "start_time": "2024-08-20T19:03:56.011Z"
   },
   {
    "duration": 62,
    "start_time": "2024-08-20T19:05:10.133Z"
   },
   {
    "duration": 2177,
    "start_time": "2024-08-20T19:05:18.507Z"
   },
   {
    "duration": 42,
    "start_time": "2024-08-20T19:07:08.463Z"
   },
   {
    "duration": 7,
    "start_time": "2024-08-20T19:07:12.108Z"
   },
   {
    "duration": 18,
    "start_time": "2024-08-20T19:07:22.148Z"
   },
   {
    "duration": 6,
    "start_time": "2024-08-20T19:07:43.669Z"
   },
   {
    "duration": 6,
    "start_time": "2024-08-20T19:07:51.719Z"
   },
   {
    "duration": 18,
    "start_time": "2024-08-20T19:08:00.385Z"
   },
   {
    "duration": 19,
    "start_time": "2024-08-20T19:09:28.150Z"
   },
   {
    "duration": 18,
    "start_time": "2024-08-20T19:10:11.843Z"
   },
   {
    "duration": 10,
    "start_time": "2024-08-20T19:11:20.539Z"
   },
   {
    "duration": 22,
    "start_time": "2024-08-20T19:26:17.220Z"
   },
   {
    "duration": 21,
    "start_time": "2024-08-20T19:44:48.519Z"
   },
   {
    "duration": 18,
    "start_time": "2024-08-20T19:45:16.444Z"
   },
   {
    "duration": 5,
    "start_time": "2024-08-20T19:45:27.210Z"
   },
   {
    "duration": 27,
    "start_time": "2024-08-20T19:48:11.189Z"
   },
   {
    "duration": 15,
    "start_time": "2024-08-20T19:49:43.666Z"
   },
   {
    "duration": 19,
    "start_time": "2024-08-20T19:49:53.478Z"
   },
   {
    "duration": 15,
    "start_time": "2024-08-20T19:53:01.705Z"
   },
   {
    "duration": 15,
    "start_time": "2024-08-20T19:53:51.345Z"
   },
   {
    "duration": 17,
    "start_time": "2024-08-20T19:57:06.316Z"
   },
   {
    "duration": 15,
    "start_time": "2024-08-20T19:57:32.945Z"
   },
   {
    "duration": 53,
    "start_time": "2024-08-20T19:59:29.708Z"
   },
   {
    "duration": 58,
    "start_time": "2024-08-20T19:59:44.120Z"
   },
   {
    "duration": 13,
    "start_time": "2024-08-20T19:59:58.096Z"
   },
   {
    "duration": 43,
    "start_time": "2024-08-20T20:00:33.652Z"
   },
   {
    "duration": 63,
    "start_time": "2024-08-20T20:00:58.882Z"
   },
   {
    "duration": 62,
    "start_time": "2024-08-20T20:01:26.325Z"
   },
   {
    "duration": 63,
    "start_time": "2024-08-20T20:01:40.116Z"
   },
   {
    "duration": 1707,
    "start_time": "2024-08-20T20:01:56.853Z"
   },
   {
    "duration": 1008,
    "start_time": "2024-08-20T20:01:58.562Z"
   },
   {
    "duration": 8,
    "start_time": "2024-08-20T20:01:59.572Z"
   },
   {
    "duration": 2603,
    "start_time": "2024-08-20T20:01:59.582Z"
   },
   {
    "duration": 5,
    "start_time": "2024-08-20T20:02:02.191Z"
   },
   {
    "duration": 5,
    "start_time": "2024-08-20T20:02:02.199Z"
   },
   {
    "duration": 67,
    "start_time": "2024-08-20T20:02:02.206Z"
   },
   {
    "duration": 583,
    "start_time": "2024-08-20T20:02:02.277Z"
   },
   {
    "duration": 47,
    "start_time": "2024-08-20T20:02:02.862Z"
   },
   {
    "duration": 12,
    "start_time": "2024-08-20T20:02:02.911Z"
   },
   {
    "duration": 11,
    "start_time": "2024-08-20T20:02:02.925Z"
   },
   {
    "duration": 79,
    "start_time": "2024-08-20T20:02:02.938Z"
   },
   {
    "duration": 212,
    "start_time": "2024-08-20T20:02:03.019Z"
   },
   {
    "duration": 33,
    "start_time": "2024-08-20T20:02:03.235Z"
   },
   {
    "duration": 21,
    "start_time": "2024-08-20T20:02:03.271Z"
   },
   {
    "duration": 46,
    "start_time": "2024-08-20T20:02:03.294Z"
   },
   {
    "duration": 58,
    "start_time": "2024-08-20T20:02:03.342Z"
   },
   {
    "duration": 6,
    "start_time": "2024-08-20T20:02:03.402Z"
   },
   {
    "duration": 92,
    "start_time": "2024-08-20T20:02:03.410Z"
   },
   {
    "duration": 61,
    "start_time": "2024-08-20T20:02:03.507Z"
   },
   {
    "duration": 150,
    "start_time": "2024-08-20T20:02:03.571Z"
   },
   {
    "duration": 0,
    "start_time": "2024-08-20T20:02:03.723Z"
   },
   {
    "duration": 7,
    "start_time": "2024-08-20T20:05:01.509Z"
   },
   {
    "duration": 8,
    "start_time": "2024-08-20T20:05:27.881Z"
   },
   {
    "duration": 14,
    "start_time": "2024-08-20T20:05:42.642Z"
   },
   {
    "duration": 14,
    "start_time": "2024-08-20T20:08:36.477Z"
   },
   {
    "duration": 18,
    "start_time": "2024-08-20T20:08:52.936Z"
   },
   {
    "duration": 1566,
    "start_time": "2024-08-20T20:09:39.582Z"
   },
   {
    "duration": 900,
    "start_time": "2024-08-20T20:09:41.152Z"
   },
   {
    "duration": 10,
    "start_time": "2024-08-20T20:09:42.054Z"
   },
   {
    "duration": 2357,
    "start_time": "2024-08-20T20:09:42.068Z"
   },
   {
    "duration": 6,
    "start_time": "2024-08-20T20:09:44.427Z"
   },
   {
    "duration": 18,
    "start_time": "2024-08-20T20:09:44.434Z"
   },
   {
    "duration": 46,
    "start_time": "2024-08-20T20:09:44.454Z"
   },
   {
    "duration": 514,
    "start_time": "2024-08-20T20:09:44.502Z"
   },
   {
    "duration": 39,
    "start_time": "2024-08-20T20:09:45.018Z"
   },
   {
    "duration": 40,
    "start_time": "2024-08-20T20:09:45.067Z"
   },
   {
    "duration": 25,
    "start_time": "2024-08-20T20:09:45.109Z"
   },
   {
    "duration": 75,
    "start_time": "2024-08-20T20:09:45.136Z"
   },
   {
    "duration": 171,
    "start_time": "2024-08-20T20:09:45.213Z"
   },
   {
    "duration": 28,
    "start_time": "2024-08-20T20:09:45.386Z"
   },
   {
    "duration": 15,
    "start_time": "2024-08-20T20:09:45.416Z"
   },
   {
    "duration": 57,
    "start_time": "2024-08-20T20:09:45.433Z"
   },
   {
    "duration": 32,
    "start_time": "2024-08-20T20:09:45.493Z"
   },
   {
    "duration": 5,
    "start_time": "2024-08-20T20:09:45.528Z"
   },
   {
    "duration": 80,
    "start_time": "2024-08-20T20:09:45.534Z"
   },
   {
    "duration": 133,
    "start_time": "2024-08-20T20:09:45.616Z"
   },
   {
    "duration": 0,
    "start_time": "2024-08-20T20:09:45.751Z"
   },
   {
    "duration": 0,
    "start_time": "2024-08-20T20:09:45.753Z"
   },
   {
    "duration": 8,
    "start_time": "2024-08-20T20:10:22.344Z"
   },
   {
    "duration": 106,
    "start_time": "2024-08-20T20:11:20.613Z"
   },
   {
    "duration": 20,
    "start_time": "2024-08-20T20:13:23.874Z"
   },
   {
    "duration": 22,
    "start_time": "2024-08-20T20:13:37.429Z"
   },
   {
    "duration": 28,
    "start_time": "2024-08-20T20:13:56.277Z"
   },
   {
    "duration": 1565,
    "start_time": "2024-08-20T20:14:02.088Z"
   },
   {
    "duration": 950,
    "start_time": "2024-08-20T20:14:03.656Z"
   },
   {
    "duration": 8,
    "start_time": "2024-08-20T20:14:04.610Z"
   },
   {
    "duration": 2411,
    "start_time": "2024-08-20T20:14:04.621Z"
   },
   {
    "duration": 5,
    "start_time": "2024-08-20T20:14:07.034Z"
   },
   {
    "duration": 57,
    "start_time": "2024-08-20T20:14:07.041Z"
   },
   {
    "duration": 41,
    "start_time": "2024-08-20T20:14:07.100Z"
   },
   {
    "duration": 520,
    "start_time": "2024-08-20T20:14:07.143Z"
   },
   {
    "duration": 39,
    "start_time": "2024-08-20T20:14:07.666Z"
   },
   {
    "duration": 13,
    "start_time": "2024-08-20T20:14:07.707Z"
   },
   {
    "duration": 13,
    "start_time": "2024-08-20T20:14:07.722Z"
   },
   {
    "duration": 79,
    "start_time": "2024-08-20T20:14:07.737Z"
   },
   {
    "duration": 182,
    "start_time": "2024-08-20T20:14:07.820Z"
   },
   {
    "duration": 27,
    "start_time": "2024-08-20T20:14:08.004Z"
   },
   {
    "duration": 11,
    "start_time": "2024-08-20T20:14:08.033Z"
   },
   {
    "duration": 53,
    "start_time": "2024-08-20T20:14:08.046Z"
   },
   {
    "duration": 27,
    "start_time": "2024-08-20T20:14:08.101Z"
   },
   {
    "duration": 4,
    "start_time": "2024-08-20T20:14:08.130Z"
   },
   {
    "duration": 129,
    "start_time": "2024-08-20T20:14:08.136Z"
   },
   {
    "duration": 29,
    "start_time": "2024-08-20T20:14:08.267Z"
   },
   {
    "duration": 138,
    "start_time": "2024-08-20T20:14:08.298Z"
   },
   {
    "duration": 0,
    "start_time": "2024-08-20T20:14:08.438Z"
   },
   {
    "duration": 0,
    "start_time": "2024-08-20T20:14:08.440Z"
   },
   {
    "duration": 26,
    "start_time": "2024-08-20T20:14:41.697Z"
   },
   {
    "duration": 9,
    "start_time": "2024-08-20T20:15:02.305Z"
   },
   {
    "duration": 9,
    "start_time": "2024-08-20T20:15:14.369Z"
   },
   {
    "duration": 10,
    "start_time": "2024-08-20T20:15:44.156Z"
   },
   {
    "duration": 84,
    "start_time": "2024-08-20T20:17:26.812Z"
   },
   {
    "duration": 13,
    "start_time": "2024-08-20T20:18:34.066Z"
   },
   {
    "duration": 13,
    "start_time": "2024-08-20T20:19:04.900Z"
   },
   {
    "duration": 16,
    "start_time": "2024-08-20T20:19:51.802Z"
   },
   {
    "duration": 13,
    "start_time": "2024-08-20T20:20:30.515Z"
   },
   {
    "duration": 12,
    "start_time": "2024-08-20T20:21:23.085Z"
   },
   {
    "duration": 13,
    "start_time": "2024-08-20T20:24:00.359Z"
   },
   {
    "duration": 1537,
    "start_time": "2024-08-20T20:24:08.169Z"
   },
   {
    "duration": 920,
    "start_time": "2024-08-20T20:24:09.708Z"
   },
   {
    "duration": 8,
    "start_time": "2024-08-20T20:24:10.631Z"
   },
   {
    "duration": 2443,
    "start_time": "2024-08-20T20:24:10.641Z"
   },
   {
    "duration": 6,
    "start_time": "2024-08-20T20:24:13.087Z"
   },
   {
    "duration": 33,
    "start_time": "2024-08-20T20:24:13.096Z"
   },
   {
    "duration": 55,
    "start_time": "2024-08-20T20:24:13.131Z"
   },
   {
    "duration": 539,
    "start_time": "2024-08-20T20:24:13.188Z"
   },
   {
    "duration": 40,
    "start_time": "2024-08-20T20:24:13.728Z"
   },
   {
    "duration": 17,
    "start_time": "2024-08-20T20:24:13.771Z"
   },
   {
    "duration": 14,
    "start_time": "2024-08-20T20:24:13.791Z"
   },
   {
    "duration": 74,
    "start_time": "2024-08-20T20:24:13.807Z"
   },
   {
    "duration": 170,
    "start_time": "2024-08-20T20:24:13.884Z"
   },
   {
    "duration": 28,
    "start_time": "2024-08-20T20:24:14.068Z"
   },
   {
    "duration": 13,
    "start_time": "2024-08-20T20:24:14.098Z"
   },
   {
    "duration": 62,
    "start_time": "2024-08-20T20:24:14.113Z"
   },
   {
    "duration": 29,
    "start_time": "2024-08-20T20:24:14.178Z"
   },
   {
    "duration": 6,
    "start_time": "2024-08-20T20:24:14.209Z"
   },
   {
    "duration": 85,
    "start_time": "2024-08-20T20:24:14.217Z"
   },
   {
    "duration": 129,
    "start_time": "2024-08-20T20:24:14.305Z"
   },
   {
    "duration": 0,
    "start_time": "2024-08-20T20:24:14.437Z"
   },
   {
    "duration": 0,
    "start_time": "2024-08-20T20:24:14.438Z"
   },
   {
    "duration": 0,
    "start_time": "2024-08-20T20:24:14.440Z"
   },
   {
    "duration": 10,
    "start_time": "2024-08-20T20:24:35.350Z"
   },
   {
    "duration": 7,
    "start_time": "2024-08-20T20:24:39.854Z"
   },
   {
    "duration": 10,
    "start_time": "2024-08-20T20:24:47.328Z"
   },
   {
    "duration": 239,
    "start_time": "2024-08-20T20:25:28.463Z"
   },
   {
    "duration": 9,
    "start_time": "2024-08-20T20:28:34.108Z"
   },
   {
    "duration": 13,
    "start_time": "2024-08-20T20:28:41.365Z"
   },
   {
    "duration": 14,
    "start_time": "2024-08-20T20:28:45.836Z"
   },
   {
    "duration": 14,
    "start_time": "2024-08-20T20:29:23.228Z"
   },
   {
    "duration": 16,
    "start_time": "2024-08-20T20:29:37.781Z"
   },
   {
    "duration": 12,
    "start_time": "2024-08-20T20:29:41.474Z"
   },
   {
    "duration": 14,
    "start_time": "2024-08-20T20:30:11.187Z"
   },
   {
    "duration": 410,
    "start_time": "2024-08-20T20:30:42.374Z"
   },
   {
    "duration": 13,
    "start_time": "2024-08-20T20:31:08.115Z"
   },
   {
    "duration": 1490,
    "start_time": "2024-08-20T20:32:45.508Z"
   },
   {
    "duration": 924,
    "start_time": "2024-08-20T20:32:47.001Z"
   },
   {
    "duration": 7,
    "start_time": "2024-08-20T20:32:47.928Z"
   },
   {
    "duration": 2365,
    "start_time": "2024-08-20T20:32:47.937Z"
   },
   {
    "duration": 5,
    "start_time": "2024-08-20T20:32:50.305Z"
   },
   {
    "duration": 46,
    "start_time": "2024-08-20T20:32:50.313Z"
   },
   {
    "duration": 45,
    "start_time": "2024-08-20T20:32:50.360Z"
   },
   {
    "duration": 532,
    "start_time": "2024-08-20T20:32:50.407Z"
   },
   {
    "duration": 43,
    "start_time": "2024-08-20T20:32:50.941Z"
   },
   {
    "duration": 14,
    "start_time": "2024-08-20T20:32:50.986Z"
   },
   {
    "duration": 19,
    "start_time": "2024-08-20T20:32:51.002Z"
   },
   {
    "duration": 50,
    "start_time": "2024-08-20T20:32:51.023Z"
   },
   {
    "duration": 171,
    "start_time": "2024-08-20T20:32:51.075Z"
   },
   {
    "duration": 37,
    "start_time": "2024-08-20T20:32:51.249Z"
   },
   {
    "duration": 12,
    "start_time": "2024-08-20T20:32:51.289Z"
   },
   {
    "duration": 36,
    "start_time": "2024-08-20T20:32:51.303Z"
   },
   {
    "duration": 45,
    "start_time": "2024-08-20T20:32:51.342Z"
   },
   {
    "duration": 6,
    "start_time": "2024-08-20T20:32:51.389Z"
   },
   {
    "duration": 78,
    "start_time": "2024-08-20T20:32:51.396Z"
   },
   {
    "duration": 132,
    "start_time": "2024-08-20T20:32:51.476Z"
   },
   {
    "duration": 0,
    "start_time": "2024-08-20T20:32:51.610Z"
   },
   {
    "duration": 0,
    "start_time": "2024-08-20T20:32:51.612Z"
   },
   {
    "duration": 0,
    "start_time": "2024-08-20T20:32:51.614Z"
   },
   {
    "duration": 54796,
    "start_time": "2024-08-20T20:33:04.528Z"
   },
   {
    "duration": 13,
    "start_time": "2024-08-20T20:34:18.383Z"
   },
   {
    "duration": 343,
    "start_time": "2024-08-20T20:34:25.857Z"
   },
   {
    "duration": 14,
    "start_time": "2024-08-20T20:34:48.996Z"
   },
   {
    "duration": 5498,
    "start_time": "2024-08-20T20:34:52.552Z"
   },
   {
    "duration": 10,
    "start_time": "2024-08-20T20:35:10.438Z"
   },
   {
    "duration": 210260,
    "start_time": "2024-08-20T20:35:17.114Z"
   },
   {
    "duration": 102,
    "start_time": "2024-08-20T20:40:36.295Z"
   },
   {
    "duration": 14,
    "start_time": "2024-08-20T20:40:57.843Z"
   },
   {
    "duration": 1544,
    "start_time": "2024-08-20T20:41:28.769Z"
   },
   {
    "duration": 935,
    "start_time": "2024-08-20T20:41:30.317Z"
   },
   {
    "duration": 14,
    "start_time": "2024-08-20T20:41:31.256Z"
   },
   {
    "duration": 2373,
    "start_time": "2024-08-20T20:41:31.273Z"
   },
   {
    "duration": 5,
    "start_time": "2024-08-20T20:41:33.648Z"
   },
   {
    "duration": 12,
    "start_time": "2024-08-20T20:41:33.664Z"
   },
   {
    "duration": 77,
    "start_time": "2024-08-20T20:41:33.678Z"
   },
   {
    "duration": 541,
    "start_time": "2024-08-20T20:41:33.757Z"
   },
   {
    "duration": 37,
    "start_time": "2024-08-20T20:41:34.300Z"
   },
   {
    "duration": 46,
    "start_time": "2024-08-20T20:41:34.340Z"
   },
   {
    "duration": 11,
    "start_time": "2024-08-20T20:41:34.388Z"
   },
   {
    "duration": 56,
    "start_time": "2024-08-20T20:41:34.401Z"
   },
   {
    "duration": 181,
    "start_time": "2024-08-20T20:41:34.467Z"
   },
   {
    "duration": 36,
    "start_time": "2024-08-20T20:41:34.650Z"
   },
   {
    "duration": 13,
    "start_time": "2024-08-20T20:41:34.688Z"
   },
   {
    "duration": 37,
    "start_time": "2024-08-20T20:41:34.703Z"
   },
   {
    "duration": 49,
    "start_time": "2024-08-20T20:41:34.742Z"
   },
   {
    "duration": 5,
    "start_time": "2024-08-20T20:41:34.794Z"
   },
   {
    "duration": 73,
    "start_time": "2024-08-20T20:41:34.801Z"
   },
   {
    "duration": 138,
    "start_time": "2024-08-20T20:41:34.876Z"
   },
   {
    "duration": 0,
    "start_time": "2024-08-20T20:41:35.016Z"
   },
   {
    "duration": 0,
    "start_time": "2024-08-20T20:41:35.017Z"
   },
   {
    "duration": 0,
    "start_time": "2024-08-20T20:41:35.018Z"
   },
   {
    "duration": 13,
    "start_time": "2024-08-20T20:43:13.729Z"
   },
   {
    "duration": 538,
    "start_time": "2024-08-20T20:43:49.848Z"
   },
   {
    "duration": 7,
    "start_time": "2024-08-20T20:44:22.301Z"
   },
   {
    "duration": 9,
    "start_time": "2024-08-20T20:44:38.524Z"
   },
   {
    "duration": 1491,
    "start_time": "2024-08-20T20:45:56.488Z"
   },
   {
    "duration": 872,
    "start_time": "2024-08-20T20:45:57.982Z"
   },
   {
    "duration": 9,
    "start_time": "2024-08-20T20:45:58.857Z"
   },
   {
    "duration": 2404,
    "start_time": "2024-08-20T20:45:58.868Z"
   },
   {
    "duration": 5,
    "start_time": "2024-08-20T20:46:01.275Z"
   },
   {
    "duration": 19,
    "start_time": "2024-08-20T20:46:01.282Z"
   },
   {
    "duration": 49,
    "start_time": "2024-08-20T20:46:01.303Z"
   },
   {
    "duration": 519,
    "start_time": "2024-08-20T20:46:01.354Z"
   },
   {
    "duration": 38,
    "start_time": "2024-08-20T20:46:01.875Z"
   },
   {
    "duration": 28,
    "start_time": "2024-08-20T20:46:01.915Z"
   },
   {
    "duration": 16,
    "start_time": "2024-08-20T20:46:01.945Z"
   },
   {
    "duration": 53,
    "start_time": "2024-08-20T20:46:01.965Z"
   },
   {
    "duration": 175,
    "start_time": "2024-08-20T20:46:02.021Z"
   },
   {
    "duration": 27,
    "start_time": "2024-08-20T20:46:02.200Z"
   },
   {
    "duration": 13,
    "start_time": "2024-08-20T20:46:02.229Z"
   },
   {
    "duration": 38,
    "start_time": "2024-08-20T20:46:02.264Z"
   },
   {
    "duration": 27,
    "start_time": "2024-08-20T20:46:02.305Z"
   },
   {
    "duration": 33,
    "start_time": "2024-08-20T20:46:02.334Z"
   },
   {
    "duration": 95,
    "start_time": "2024-08-20T20:46:02.369Z"
   },
   {
    "duration": 129,
    "start_time": "2024-08-20T20:46:02.466Z"
   },
   {
    "duration": 0,
    "start_time": "2024-08-20T20:46:02.596Z"
   },
   {
    "duration": 0,
    "start_time": "2024-08-20T20:46:02.597Z"
   },
   {
    "duration": 0,
    "start_time": "2024-08-20T20:46:02.599Z"
   },
   {
    "duration": 1,
    "start_time": "2024-08-20T20:46:02.600Z"
   },
   {
    "duration": 8,
    "start_time": "2024-08-20T20:46:16.249Z"
   },
   {
    "duration": 567,
    "start_time": "2024-08-20T20:46:42.348Z"
   },
   {
    "duration": 8,
    "start_time": "2024-08-20T20:46:44.985Z"
   },
   {
    "duration": 3,
    "start_time": "2024-08-20T20:47:44.761Z"
   },
   {
    "duration": 11,
    "start_time": "2024-08-20T20:48:04.214Z"
   },
   {
    "duration": 23,
    "start_time": "2024-08-20T20:48:50.828Z"
   },
   {
    "duration": 11,
    "start_time": "2024-08-20T20:48:58.875Z"
   },
   {
    "duration": 34,
    "start_time": "2024-08-20T20:49:37.189Z"
   },
   {
    "duration": 12,
    "start_time": "2024-08-20T20:54:10.707Z"
   },
   {
    "duration": 10,
    "start_time": "2024-08-20T20:54:18.801Z"
   },
   {
    "duration": 64,
    "start_time": "2024-08-20T20:54:25.406Z"
   },
   {
    "duration": 1626,
    "start_time": "2024-08-20T20:54:39.965Z"
   },
   {
    "duration": 899,
    "start_time": "2024-08-20T20:54:41.594Z"
   },
   {
    "duration": 8,
    "start_time": "2024-08-20T20:54:42.495Z"
   },
   {
    "duration": 2415,
    "start_time": "2024-08-20T20:54:42.505Z"
   },
   {
    "duration": 6,
    "start_time": "2024-08-20T20:54:44.923Z"
   },
   {
    "duration": 9,
    "start_time": "2024-08-20T20:54:44.931Z"
   },
   {
    "duration": 50,
    "start_time": "2024-08-20T20:54:44.942Z"
   },
   {
    "duration": 534,
    "start_time": "2024-08-20T20:54:44.994Z"
   },
   {
    "duration": 45,
    "start_time": "2024-08-20T20:54:45.530Z"
   },
   {
    "duration": 13,
    "start_time": "2024-08-20T20:54:45.576Z"
   },
   {
    "duration": 17,
    "start_time": "2024-08-20T20:54:45.590Z"
   },
   {
    "duration": 59,
    "start_time": "2024-08-20T20:54:45.609Z"
   },
   {
    "duration": 172,
    "start_time": "2024-08-20T20:54:45.671Z"
   },
   {
    "duration": 38,
    "start_time": "2024-08-20T20:54:45.848Z"
   },
   {
    "duration": 12,
    "start_time": "2024-08-20T20:54:45.888Z"
   },
   {
    "duration": 37,
    "start_time": "2024-08-20T20:54:45.902Z"
   },
   {
    "duration": 47,
    "start_time": "2024-08-20T20:54:45.942Z"
   },
   {
    "duration": 5,
    "start_time": "2024-08-20T20:54:45.991Z"
   },
   {
    "duration": 74,
    "start_time": "2024-08-20T20:54:45.998Z"
   },
   {
    "duration": 11,
    "start_time": "2024-08-20T20:54:46.074Z"
   },
   {
    "duration": 6,
    "start_time": "2024-08-20T20:54:46.087Z"
   },
   {
    "duration": 617,
    "start_time": "2024-08-20T20:54:46.095Z"
   },
   {
    "duration": 8,
    "start_time": "2024-08-20T20:54:46.714Z"
   },
   {
    "duration": 10,
    "start_time": "2024-08-20T20:54:46.724Z"
   },
   {
    "duration": 11,
    "start_time": "2024-08-20T20:57:58.662Z"
   },
   {
    "duration": 1603,
    "start_time": "2024-08-20T20:58:07.990Z"
   },
   {
    "duration": 931,
    "start_time": "2024-08-20T20:58:09.595Z"
   },
   {
    "duration": 9,
    "start_time": "2024-08-20T20:58:10.528Z"
   },
   {
    "duration": 2376,
    "start_time": "2024-08-20T20:58:10.539Z"
   },
   {
    "duration": 5,
    "start_time": "2024-08-20T20:58:12.918Z"
   },
   {
    "duration": 5,
    "start_time": "2024-08-20T20:58:12.925Z"
   },
   {
    "duration": 59,
    "start_time": "2024-08-20T20:58:12.932Z"
   },
   {
    "duration": 531,
    "start_time": "2024-08-20T20:58:12.993Z"
   },
   {
    "duration": 44,
    "start_time": "2024-08-20T20:58:13.527Z"
   },
   {
    "duration": 13,
    "start_time": "2024-08-20T20:58:13.573Z"
   },
   {
    "duration": 14,
    "start_time": "2024-08-20T20:58:13.588Z"
   },
   {
    "duration": 62,
    "start_time": "2024-08-20T20:58:13.604Z"
   },
   {
    "duration": 172,
    "start_time": "2024-08-20T20:58:13.668Z"
   },
   {
    "duration": 36,
    "start_time": "2024-08-20T20:58:13.843Z"
   },
   {
    "duration": 11,
    "start_time": "2024-08-20T20:58:13.881Z"
   },
   {
    "duration": 40,
    "start_time": "2024-08-20T20:58:13.894Z"
   },
   {
    "duration": 41,
    "start_time": "2024-08-20T20:58:13.936Z"
   },
   {
    "duration": 6,
    "start_time": "2024-08-20T20:58:13.979Z"
   },
   {
    "duration": 68,
    "start_time": "2024-08-20T20:58:13.987Z"
   },
   {
    "duration": 17,
    "start_time": "2024-08-20T20:58:14.057Z"
   },
   {
    "duration": 20,
    "start_time": "2024-08-20T20:58:14.076Z"
   },
   {
    "duration": 539,
    "start_time": "2024-08-20T20:58:14.098Z"
   },
   {
    "duration": 7,
    "start_time": "2024-08-20T20:58:14.640Z"
   },
   {
    "duration": 20,
    "start_time": "2024-08-20T20:58:14.649Z"
   },
   {
    "duration": 9,
    "start_time": "2024-08-20T20:59:46.113Z"
   },
   {
    "duration": 8,
    "start_time": "2024-08-20T20:59:57.444Z"
   },
   {
    "duration": 11,
    "start_time": "2024-08-20T21:00:17.011Z"
   },
   {
    "duration": 1564,
    "start_time": "2024-08-20T21:00:36.351Z"
   },
   {
    "duration": 885,
    "start_time": "2024-08-20T21:00:37.918Z"
   },
   {
    "duration": 7,
    "start_time": "2024-08-20T21:00:38.806Z"
   },
   {
    "duration": 2436,
    "start_time": "2024-08-20T21:00:38.815Z"
   },
   {
    "duration": 13,
    "start_time": "2024-08-20T21:00:41.255Z"
   },
   {
    "duration": 14,
    "start_time": "2024-08-20T21:00:41.270Z"
   },
   {
    "duration": 47,
    "start_time": "2024-08-20T21:00:41.287Z"
   },
   {
    "duration": 560,
    "start_time": "2024-08-20T21:00:41.336Z"
   },
   {
    "duration": 37,
    "start_time": "2024-08-20T21:00:41.899Z"
   },
   {
    "duration": 27,
    "start_time": "2024-08-20T21:00:41.939Z"
   },
   {
    "duration": 11,
    "start_time": "2024-08-20T21:00:41.968Z"
   },
   {
    "duration": 46,
    "start_time": "2024-08-20T21:00:41.981Z"
   },
   {
    "duration": 185,
    "start_time": "2024-08-20T21:00:42.028Z"
   },
   {
    "duration": 26,
    "start_time": "2024-08-20T21:00:42.217Z"
   },
   {
    "duration": 26,
    "start_time": "2024-08-20T21:00:42.245Z"
   },
   {
    "duration": 39,
    "start_time": "2024-08-20T21:00:42.273Z"
   },
   {
    "duration": 28,
    "start_time": "2024-08-20T21:00:42.313Z"
   },
   {
    "duration": 24,
    "start_time": "2024-08-20T21:00:42.343Z"
   },
   {
    "duration": 80,
    "start_time": "2024-08-20T21:00:42.369Z"
   },
   {
    "duration": 9,
    "start_time": "2024-08-20T21:00:42.452Z"
   },
   {
    "duration": 7,
    "start_time": "2024-08-20T21:00:42.463Z"
   },
   {
    "duration": 579,
    "start_time": "2024-08-20T21:00:42.472Z"
   },
   {
    "duration": 14,
    "start_time": "2024-08-20T21:00:43.053Z"
   },
   {
    "duration": 17,
    "start_time": "2024-08-20T21:00:43.069Z"
   },
   {
    "duration": 12,
    "start_time": "2024-08-20T21:01:14.171Z"
   },
   {
    "duration": 8,
    "start_time": "2024-08-20T21:01:43.052Z"
   },
   {
    "duration": 1512,
    "start_time": "2024-08-20T21:01:51.590Z"
   },
   {
    "duration": 902,
    "start_time": "2024-08-20T21:01:53.104Z"
   },
   {
    "duration": 8,
    "start_time": "2024-08-20T21:01:54.008Z"
   },
   {
    "duration": 2422,
    "start_time": "2024-08-20T21:01:54.018Z"
   },
   {
    "duration": 5,
    "start_time": "2024-08-20T21:01:56.443Z"
   },
   {
    "duration": 44,
    "start_time": "2024-08-20T21:01:56.449Z"
   },
   {
    "duration": 69,
    "start_time": "2024-08-20T21:01:56.495Z"
   },
   {
    "duration": 523,
    "start_time": "2024-08-20T21:01:56.567Z"
   },
   {
    "duration": 37,
    "start_time": "2024-08-20T21:01:57.093Z"
   },
   {
    "duration": 11,
    "start_time": "2024-08-20T21:01:57.132Z"
   },
   {
    "duration": 76,
    "start_time": "2024-08-20T21:01:57.145Z"
   },
   {
    "duration": 44,
    "start_time": "2024-08-20T21:01:57.223Z"
   },
   {
    "duration": 156,
    "start_time": "2024-08-20T21:01:57.268Z"
   },
   {
    "duration": 25,
    "start_time": "2024-08-20T21:01:57.428Z"
   },
   {
    "duration": 17,
    "start_time": "2024-08-20T21:01:57.454Z"
   },
   {
    "duration": 37,
    "start_time": "2024-08-20T21:01:57.473Z"
   },
   {
    "duration": 26,
    "start_time": "2024-08-20T21:01:57.511Z"
   },
   {
    "duration": 28,
    "start_time": "2024-08-20T21:01:57.539Z"
   },
   {
    "duration": 58,
    "start_time": "2024-08-20T21:01:57.569Z"
   },
   {
    "duration": 9,
    "start_time": "2024-08-20T21:01:57.629Z"
   },
   {
    "duration": 29,
    "start_time": "2024-08-20T21:01:57.640Z"
   },
   {
    "duration": 560,
    "start_time": "2024-08-20T21:01:57.671Z"
   },
   {
    "duration": 9,
    "start_time": "2024-08-20T21:01:58.233Z"
   },
   {
    "duration": 22,
    "start_time": "2024-08-20T21:01:58.244Z"
   },
   {
    "duration": 6,
    "start_time": "2024-08-20T21:03:09.316Z"
   },
   {
    "duration": 1538,
    "start_time": "2024-08-20T21:04:04.022Z"
   },
   {
    "duration": 926,
    "start_time": "2024-08-20T21:04:05.562Z"
   },
   {
    "duration": 7,
    "start_time": "2024-08-20T21:04:06.490Z"
   },
   {
    "duration": 2347,
    "start_time": "2024-08-20T21:04:06.500Z"
   },
   {
    "duration": 7,
    "start_time": "2024-08-20T21:04:08.849Z"
   },
   {
    "duration": 5,
    "start_time": "2024-08-20T21:04:08.866Z"
   },
   {
    "duration": 40,
    "start_time": "2024-08-20T21:04:08.872Z"
   },
   {
    "duration": 535,
    "start_time": "2024-08-20T21:04:08.914Z"
   },
   {
    "duration": 39,
    "start_time": "2024-08-20T21:04:09.451Z"
   },
   {
    "duration": 12,
    "start_time": "2024-08-20T21:04:09.494Z"
   },
   {
    "duration": 12,
    "start_time": "2024-08-20T21:04:09.508Z"
   },
   {
    "duration": 60,
    "start_time": "2024-08-20T21:04:09.522Z"
   },
   {
    "duration": 172,
    "start_time": "2024-08-20T21:04:09.584Z"
   },
   {
    "duration": 33,
    "start_time": "2024-08-20T21:04:09.759Z"
   },
   {
    "duration": 47,
    "start_time": "2024-08-20T21:04:09.794Z"
   },
   {
    "duration": 41,
    "start_time": "2024-08-20T21:04:09.843Z"
   },
   {
    "duration": 33,
    "start_time": "2024-08-20T21:04:09.887Z"
   },
   {
    "duration": 7,
    "start_time": "2024-08-20T21:04:09.923Z"
   },
   {
    "duration": 84,
    "start_time": "2024-08-20T21:04:09.931Z"
   },
   {
    "duration": 10,
    "start_time": "2024-08-20T21:04:10.017Z"
   },
   {
    "duration": 24,
    "start_time": "2024-08-20T21:04:10.028Z"
   },
   {
    "duration": 570,
    "start_time": "2024-08-20T21:04:10.054Z"
   },
   {
    "duration": 7,
    "start_time": "2024-08-20T21:04:10.626Z"
   },
   {
    "duration": 11,
    "start_time": "2024-08-20T21:04:10.635Z"
   },
   {
    "duration": 1520,
    "start_time": "2024-08-20T21:04:35.750Z"
   },
   {
    "duration": 952,
    "start_time": "2024-08-20T21:04:37.272Z"
   },
   {
    "duration": 9,
    "start_time": "2024-08-20T21:04:38.226Z"
   },
   {
    "duration": 2368,
    "start_time": "2024-08-20T21:04:38.237Z"
   },
   {
    "duration": 6,
    "start_time": "2024-08-20T21:04:40.607Z"
   },
   {
    "duration": 10,
    "start_time": "2024-08-20T21:04:40.615Z"
   },
   {
    "duration": 59,
    "start_time": "2024-08-20T21:04:40.627Z"
   },
   {
    "duration": 563,
    "start_time": "2024-08-20T21:04:40.688Z"
   },
   {
    "duration": 39,
    "start_time": "2024-08-20T21:04:41.253Z"
   },
   {
    "duration": 12,
    "start_time": "2024-08-20T21:04:41.294Z"
   },
   {
    "duration": 43,
    "start_time": "2024-08-20T21:04:41.308Z"
   },
   {
    "duration": 60,
    "start_time": "2024-08-20T21:04:41.353Z"
   },
   {
    "duration": 157,
    "start_time": "2024-08-20T21:04:41.415Z"
   },
   {
    "duration": 27,
    "start_time": "2024-08-20T21:04:41.577Z"
   },
   {
    "duration": 12,
    "start_time": "2024-08-20T21:04:41.607Z"
   },
   {
    "duration": 69,
    "start_time": "2024-08-20T21:04:41.622Z"
   },
   {
    "duration": 29,
    "start_time": "2024-08-20T21:04:41.693Z"
   },
   {
    "duration": 6,
    "start_time": "2024-08-20T21:04:41.724Z"
   },
   {
    "duration": 96,
    "start_time": "2024-08-20T21:04:41.731Z"
   },
   {
    "duration": 27,
    "start_time": "2024-08-20T21:04:41.829Z"
   },
   {
    "duration": 6,
    "start_time": "2024-08-20T21:04:41.858Z"
   },
   {
    "duration": 580,
    "start_time": "2024-08-20T21:04:41.866Z"
   },
   {
    "duration": 16,
    "start_time": "2024-08-20T21:04:42.449Z"
   },
   {
    "duration": 6,
    "start_time": "2024-08-20T21:04:42.467Z"
   },
   {
    "duration": 665,
    "start_time": "2024-08-20T21:06:12.010Z"
   },
   {
    "duration": 9,
    "start_time": "2024-08-20T21:06:33.519Z"
   },
   {
    "duration": 1586,
    "start_time": "2024-08-20T21:06:40.372Z"
   },
   {
    "duration": 902,
    "start_time": "2024-08-20T21:06:41.960Z"
   },
   {
    "duration": 8,
    "start_time": "2024-08-20T21:06:42.864Z"
   },
   {
    "duration": 2301,
    "start_time": "2024-08-20T21:06:42.874Z"
   },
   {
    "duration": 5,
    "start_time": "2024-08-20T21:06:45.179Z"
   },
   {
    "duration": 32,
    "start_time": "2024-08-20T21:06:45.186Z"
   },
   {
    "duration": 52,
    "start_time": "2024-08-20T21:06:45.220Z"
   },
   {
    "duration": 526,
    "start_time": "2024-08-20T21:06:45.274Z"
   },
   {
    "duration": 46,
    "start_time": "2024-08-20T21:06:45.803Z"
   },
   {
    "duration": 22,
    "start_time": "2024-08-20T21:06:45.851Z"
   },
   {
    "duration": 11,
    "start_time": "2024-08-20T21:06:45.875Z"
   },
   {
    "duration": 42,
    "start_time": "2024-08-20T21:06:45.888Z"
   },
   {
    "duration": 183,
    "start_time": "2024-08-20T21:06:45.933Z"
   },
   {
    "duration": 25,
    "start_time": "2024-08-20T21:06:46.120Z"
   },
   {
    "duration": 28,
    "start_time": "2024-08-20T21:06:46.147Z"
   },
   {
    "duration": 45,
    "start_time": "2024-08-20T21:06:46.178Z"
   },
   {
    "duration": 50,
    "start_time": "2024-08-20T21:06:46.224Z"
   },
   {
    "duration": 6,
    "start_time": "2024-08-20T21:06:46.276Z"
   },
   {
    "duration": 55,
    "start_time": "2024-08-20T21:06:46.284Z"
   },
   {
    "duration": 32,
    "start_time": "2024-08-20T21:06:46.341Z"
   },
   {
    "duration": 8,
    "start_time": "2024-08-20T21:06:46.375Z"
   },
   {
    "duration": 4989,
    "start_time": "2024-08-20T21:06:46.385Z"
   },
   {
    "duration": 7,
    "start_time": "2024-08-20T21:06:51.376Z"
   },
   {
    "duration": 7,
    "start_time": "2024-08-20T21:06:51.385Z"
   },
   {
    "duration": 59,
    "start_time": "2024-08-20T21:13:55.544Z"
   },
   {
    "duration": 58,
    "start_time": "2024-08-20T21:14:09.480Z"
   },
   {
    "duration": 333,
    "start_time": "2024-08-20T21:14:14.257Z"
   },
   {
    "duration": 17784,
    "start_time": "2024-08-20T21:15:50.948Z"
   },
   {
    "duration": 538,
    "start_time": "2024-08-20T21:16:34.627Z"
   },
   {
    "duration": 636,
    "start_time": "2024-08-20T21:16:46.761Z"
   },
   {
    "duration": 605,
    "start_time": "2024-08-20T21:23:43.091Z"
   },
   {
    "duration": 8,
    "start_time": "2024-08-20T21:23:49.783Z"
   },
   {
    "duration": 1540,
    "start_time": "2024-08-20T21:24:11.638Z"
   },
   {
    "duration": 916,
    "start_time": "2024-08-20T21:24:13.180Z"
   },
   {
    "duration": 7,
    "start_time": "2024-08-20T21:24:14.098Z"
   },
   {
    "duration": 2332,
    "start_time": "2024-08-20T21:24:14.107Z"
   },
   {
    "duration": 6,
    "start_time": "2024-08-20T21:24:16.442Z"
   },
   {
    "duration": 17,
    "start_time": "2024-08-20T21:24:16.449Z"
   },
   {
    "duration": 62,
    "start_time": "2024-08-20T21:24:16.467Z"
   },
   {
    "duration": 517,
    "start_time": "2024-08-20T21:24:16.531Z"
   },
   {
    "duration": 38,
    "start_time": "2024-08-20T21:24:17.049Z"
   },
   {
    "duration": 30,
    "start_time": "2024-08-20T21:24:17.089Z"
   },
   {
    "duration": 17,
    "start_time": "2024-08-20T21:24:17.120Z"
   },
   {
    "duration": 70,
    "start_time": "2024-08-20T21:24:17.139Z"
   },
   {
    "duration": 162,
    "start_time": "2024-08-20T21:24:17.211Z"
   },
   {
    "duration": 25,
    "start_time": "2024-08-20T21:24:17.377Z"
   },
   {
    "duration": 11,
    "start_time": "2024-08-20T21:24:17.404Z"
   },
   {
    "duration": 58,
    "start_time": "2024-08-20T21:24:17.417Z"
   },
   {
    "duration": 26,
    "start_time": "2024-08-20T21:24:17.477Z"
   },
   {
    "duration": 5,
    "start_time": "2024-08-20T21:24:17.505Z"
   },
   {
    "duration": 89,
    "start_time": "2024-08-20T21:24:17.512Z"
   },
   {
    "duration": 10,
    "start_time": "2024-08-20T21:24:17.603Z"
   },
   {
    "duration": 18,
    "start_time": "2024-08-20T21:24:17.615Z"
   },
   {
    "duration": 745,
    "start_time": "2024-08-20T21:24:17.634Z"
   },
   {
    "duration": 8,
    "start_time": "2024-08-20T21:24:18.382Z"
   },
   {
    "duration": 5,
    "start_time": "2024-08-20T21:24:18.392Z"
   },
   {
    "duration": 1464,
    "start_time": "2024-08-20T21:25:05.718Z"
   },
   {
    "duration": 919,
    "start_time": "2024-08-20T21:25:07.184Z"
   },
   {
    "duration": 8,
    "start_time": "2024-08-20T21:25:08.105Z"
   },
   {
    "duration": 2419,
    "start_time": "2024-08-20T21:25:08.115Z"
   },
   {
    "duration": 7,
    "start_time": "2024-08-20T21:25:10.537Z"
   },
   {
    "duration": 19,
    "start_time": "2024-08-20T21:25:10.546Z"
   },
   {
    "duration": 42,
    "start_time": "2024-08-20T21:25:10.567Z"
   },
   {
    "duration": 605,
    "start_time": "2024-08-20T21:25:10.611Z"
   },
   {
    "duration": 47,
    "start_time": "2024-08-20T21:25:11.218Z"
   },
   {
    "duration": 13,
    "start_time": "2024-08-20T21:25:11.267Z"
   },
   {
    "duration": 26,
    "start_time": "2024-08-20T21:25:11.282Z"
   },
   {
    "duration": 57,
    "start_time": "2024-08-20T21:25:11.311Z"
   },
   {
    "duration": 173,
    "start_time": "2024-08-20T21:25:11.370Z"
   },
   {
    "duration": 34,
    "start_time": "2024-08-20T21:25:11.547Z"
   },
   {
    "duration": 12,
    "start_time": "2024-08-20T21:25:11.583Z"
   },
   {
    "duration": 38,
    "start_time": "2024-08-20T21:25:11.596Z"
   },
   {
    "duration": 50,
    "start_time": "2024-08-20T21:25:11.636Z"
   },
   {
    "duration": 5,
    "start_time": "2024-08-20T21:25:11.688Z"
   },
   {
    "duration": 76,
    "start_time": "2024-08-20T21:25:11.695Z"
   },
   {
    "duration": 11,
    "start_time": "2024-08-20T21:25:11.773Z"
   },
   {
    "duration": 7,
    "start_time": "2024-08-20T21:25:11.786Z"
   },
   {
    "duration": 742,
    "start_time": "2024-08-20T21:25:11.796Z"
   },
   {
    "duration": 10,
    "start_time": "2024-08-20T21:25:12.540Z"
   },
   {
    "duration": 5,
    "start_time": "2024-08-20T21:25:12.564Z"
   },
   {
    "duration": 5,
    "start_time": "2024-08-20T21:26:31.237Z"
   },
   {
    "duration": 598,
    "start_time": "2024-08-20T21:27:18.635Z"
   },
   {
    "duration": 1494,
    "start_time": "2024-08-20T21:27:25.668Z"
   },
   {
    "duration": 874,
    "start_time": "2024-08-20T21:27:27.164Z"
   },
   {
    "duration": 8,
    "start_time": "2024-08-20T21:27:28.040Z"
   },
   {
    "duration": 2355,
    "start_time": "2024-08-20T21:27:28.050Z"
   },
   {
    "duration": 6,
    "start_time": "2024-08-20T21:27:30.408Z"
   },
   {
    "duration": 17,
    "start_time": "2024-08-20T21:27:30.417Z"
   },
   {
    "duration": 49,
    "start_time": "2024-08-20T21:27:30.436Z"
   },
   {
    "duration": 544,
    "start_time": "2024-08-20T21:27:30.487Z"
   },
   {
    "duration": 43,
    "start_time": "2024-08-20T21:27:31.033Z"
   },
   {
    "duration": 12,
    "start_time": "2024-08-20T21:27:31.079Z"
   },
   {
    "duration": 9,
    "start_time": "2024-08-20T21:27:31.094Z"
   },
   {
    "duration": 63,
    "start_time": "2024-08-20T21:27:31.104Z"
   },
   {
    "duration": 165,
    "start_time": "2024-08-20T21:27:31.169Z"
   },
   {
    "duration": 34,
    "start_time": "2024-08-20T21:27:31.336Z"
   },
   {
    "duration": 11,
    "start_time": "2024-08-20T21:27:31.372Z"
   },
   {
    "duration": 35,
    "start_time": "2024-08-20T21:27:31.385Z"
   },
   {
    "duration": 47,
    "start_time": "2024-08-20T21:27:31.422Z"
   },
   {
    "duration": 5,
    "start_time": "2024-08-20T21:27:31.471Z"
   },
   {
    "duration": 53,
    "start_time": "2024-08-20T21:27:31.478Z"
   },
   {
    "duration": 9,
    "start_time": "2024-08-20T21:27:31.533Z"
   },
   {
    "duration": 26,
    "start_time": "2024-08-20T21:27:31.544Z"
   },
   {
    "duration": 732,
    "start_time": "2024-08-20T21:27:31.571Z"
   },
   {
    "duration": 10,
    "start_time": "2024-08-20T21:27:32.305Z"
   },
   {
    "duration": 6,
    "start_time": "2024-08-20T21:27:32.318Z"
   },
   {
    "duration": 3,
    "start_time": "2024-08-20T21:28:21.229Z"
   },
   {
    "duration": 5,
    "start_time": "2024-08-20T21:29:52.197Z"
   },
   {
    "duration": 179,
    "start_time": "2024-08-20T21:32:36.187Z"
   },
   {
    "duration": 48,
    "start_time": "2024-08-21T04:25:08.428Z"
   },
   {
    "duration": 1612,
    "start_time": "2024-08-21T04:25:15.659Z"
   },
   {
    "duration": 1217,
    "start_time": "2024-08-21T04:25:17.273Z"
   },
   {
    "duration": 9,
    "start_time": "2024-08-21T04:25:18.492Z"
   },
   {
    "duration": 2445,
    "start_time": "2024-08-21T04:25:18.503Z"
   },
   {
    "duration": 5,
    "start_time": "2024-08-21T04:25:20.951Z"
   },
   {
    "duration": 13,
    "start_time": "2024-08-21T04:25:20.957Z"
   },
   {
    "duration": 58,
    "start_time": "2024-08-21T04:25:20.971Z"
   },
   {
    "duration": 544,
    "start_time": "2024-08-21T04:25:21.031Z"
   },
   {
    "duration": 35,
    "start_time": "2024-08-21T04:25:21.577Z"
   },
   {
    "duration": 12,
    "start_time": "2024-08-21T04:25:21.613Z"
   },
   {
    "duration": 31,
    "start_time": "2024-08-21T04:25:21.626Z"
   },
   {
    "duration": 43,
    "start_time": "2024-08-21T04:25:21.658Z"
   },
   {
    "duration": 182,
    "start_time": "2024-08-21T04:25:21.703Z"
   },
   {
    "duration": 25,
    "start_time": "2024-08-21T04:25:21.887Z"
   },
   {
    "duration": 12,
    "start_time": "2024-08-21T04:25:21.913Z"
   },
   {
    "duration": 55,
    "start_time": "2024-08-21T04:25:21.926Z"
   },
   {
    "duration": 24,
    "start_time": "2024-08-21T04:25:21.982Z"
   },
   {
    "duration": 3,
    "start_time": "2024-08-21T04:25:22.007Z"
   },
   {
    "duration": 737,
    "start_time": "2024-08-21T04:25:22.011Z"
   },
   {
    "duration": 12,
    "start_time": "2024-08-21T04:25:22.752Z"
   },
   {
    "duration": 5,
    "start_time": "2024-08-21T04:25:22.765Z"
   },
   {
    "duration": 9,
    "start_time": "2024-08-21T04:27:22.298Z"
   },
   {
    "duration": 9,
    "start_time": "2024-08-21T04:27:22.443Z"
   },
   {
    "duration": 17,
    "start_time": "2024-08-21T04:30:01.713Z"
   },
   {
    "duration": 33,
    "start_time": "2024-08-21T04:36:13.311Z"
   },
   {
    "duration": 41,
    "start_time": "2024-08-21T04:43:21.534Z"
   },
   {
    "duration": 25,
    "start_time": "2024-08-21T04:43:29.285Z"
   },
   {
    "duration": 27,
    "start_time": "2024-08-21T04:43:43.804Z"
   },
   {
    "duration": 283,
    "start_time": "2024-08-21T04:45:00.064Z"
   },
   {
    "duration": 312,
    "start_time": "2024-08-21T04:46:15.547Z"
   },
   {
    "duration": 27,
    "start_time": "2024-08-21T04:46:46.371Z"
   },
   {
    "duration": 28,
    "start_time": "2024-08-21T04:46:57.050Z"
   },
   {
    "duration": 25,
    "start_time": "2024-08-21T04:47:02.108Z"
   },
   {
    "duration": 329,
    "start_time": "2024-08-21T04:47:13.038Z"
   },
   {
    "duration": 316,
    "start_time": "2024-08-21T04:53:46.261Z"
   },
   {
    "duration": 403,
    "start_time": "2024-08-21T04:54:06.713Z"
   },
   {
    "duration": 9,
    "start_time": "2024-08-21T04:55:00.791Z"
   },
   {
    "duration": 26,
    "start_time": "2024-08-21T04:55:32.476Z"
   },
   {
    "duration": 258,
    "start_time": "2024-08-21T04:55:48.454Z"
   },
   {
    "duration": 286,
    "start_time": "2024-08-21T04:58:15.398Z"
   },
   {
    "duration": 32,
    "start_time": "2024-08-21T05:03:56.029Z"
   },
   {
    "duration": 1580,
    "start_time": "2024-08-21T05:04:02.829Z"
   },
   {
    "duration": 958,
    "start_time": "2024-08-21T05:04:04.412Z"
   },
   {
    "duration": 9,
    "start_time": "2024-08-21T05:04:05.372Z"
   },
   {
    "duration": 2621,
    "start_time": "2024-08-21T05:04:05.383Z"
   },
   {
    "duration": 6,
    "start_time": "2024-08-21T05:04:08.006Z"
   },
   {
    "duration": 6,
    "start_time": "2024-08-21T05:04:08.013Z"
   },
   {
    "duration": 77,
    "start_time": "2024-08-21T05:04:08.020Z"
   },
   {
    "duration": 577,
    "start_time": "2024-08-21T05:04:08.099Z"
   },
   {
    "duration": 45,
    "start_time": "2024-08-21T05:04:08.678Z"
   },
   {
    "duration": 12,
    "start_time": "2024-08-21T05:04:08.725Z"
   },
   {
    "duration": 10,
    "start_time": "2024-08-21T05:04:08.752Z"
   },
   {
    "duration": 42,
    "start_time": "2024-08-21T05:04:08.764Z"
   },
   {
    "duration": 191,
    "start_time": "2024-08-21T05:04:08.807Z"
   },
   {
    "duration": 24,
    "start_time": "2024-08-21T05:04:09.002Z"
   },
   {
    "duration": 32,
    "start_time": "2024-08-21T05:04:09.028Z"
   },
   {
    "duration": 38,
    "start_time": "2024-08-21T05:04:09.062Z"
   },
   {
    "duration": 28,
    "start_time": "2024-08-21T05:04:09.102Z"
   },
   {
    "duration": 4,
    "start_time": "2024-08-21T05:04:09.151Z"
   },
   {
    "duration": 793,
    "start_time": "2024-08-21T05:04:09.157Z"
   },
   {
    "duration": 11,
    "start_time": "2024-08-21T05:04:09.952Z"
   },
   {
    "duration": 3,
    "start_time": "2024-08-21T05:04:09.965Z"
   },
   {
    "duration": 15,
    "start_time": "2024-08-21T05:04:09.970Z"
   },
   {
    "duration": 18,
    "start_time": "2024-08-21T05:04:09.987Z"
   },
   {
    "duration": 312,
    "start_time": "2024-08-21T05:04:10.006Z"
   },
   {
    "duration": 37,
    "start_time": "2024-08-21T05:04:10.319Z"
   },
   {
    "duration": 28,
    "start_time": "2024-08-21T05:09:10.294Z"
   },
   {
    "duration": 1485,
    "start_time": "2024-08-21T05:09:41.740Z"
   },
   {
    "duration": 969,
    "start_time": "2024-08-21T05:09:43.227Z"
   },
   {
    "duration": 8,
    "start_time": "2024-08-21T05:09:44.198Z"
   },
   {
    "duration": 2561,
    "start_time": "2024-08-21T05:09:44.207Z"
   },
   {
    "duration": 5,
    "start_time": "2024-08-21T05:09:46.770Z"
   },
   {
    "duration": 4,
    "start_time": "2024-08-21T05:09:46.777Z"
   },
   {
    "duration": 79,
    "start_time": "2024-08-21T05:09:46.783Z"
   },
   {
    "duration": 552,
    "start_time": "2024-08-21T05:09:46.863Z"
   },
   {
    "duration": 41,
    "start_time": "2024-08-21T05:09:47.417Z"
   },
   {
    "duration": 13,
    "start_time": "2024-08-21T05:09:47.459Z"
   },
   {
    "duration": 10,
    "start_time": "2024-08-21T05:09:47.473Z"
   },
   {
    "duration": 69,
    "start_time": "2024-08-21T05:09:47.484Z"
   },
   {
    "duration": 177,
    "start_time": "2024-08-21T05:09:47.555Z"
   },
   {
    "duration": 32,
    "start_time": "2024-08-21T05:09:47.734Z"
   },
   {
    "duration": 11,
    "start_time": "2024-08-21T05:09:47.768Z"
   },
   {
    "duration": 36,
    "start_time": "2024-08-21T05:09:47.780Z"
   },
   {
    "duration": 50,
    "start_time": "2024-08-21T05:09:47.817Z"
   },
   {
    "duration": 35,
    "start_time": "2024-08-21T05:09:47.869Z"
   },
   {
    "duration": 3,
    "start_time": "2024-08-21T05:09:47.905Z"
   },
   {
    "duration": 748,
    "start_time": "2024-08-21T05:09:47.909Z"
   },
   {
    "duration": 12,
    "start_time": "2024-08-21T05:09:48.658Z"
   },
   {
    "duration": 5,
    "start_time": "2024-08-21T05:09:48.672Z"
   },
   {
    "duration": 13,
    "start_time": "2024-08-21T05:09:48.678Z"
   },
   {
    "duration": 16,
    "start_time": "2024-08-21T05:09:48.693Z"
   },
   {
    "duration": 313,
    "start_time": "2024-08-21T05:09:48.710Z"
   },
   {
    "duration": 39,
    "start_time": "2024-08-21T05:09:49.025Z"
   },
   {
    "duration": 1559,
    "start_time": "2024-08-21T05:11:51.925Z"
   },
   {
    "duration": 974,
    "start_time": "2024-08-21T05:11:53.486Z"
   },
   {
    "duration": 9,
    "start_time": "2024-08-21T05:11:54.462Z"
   },
   {
    "duration": 2562,
    "start_time": "2024-08-21T05:11:54.473Z"
   },
   {
    "duration": 15,
    "start_time": "2024-08-21T05:11:57.038Z"
   },
   {
    "duration": 5,
    "start_time": "2024-08-21T05:11:57.056Z"
   },
   {
    "duration": 57,
    "start_time": "2024-08-21T05:11:57.062Z"
   },
   {
    "duration": 563,
    "start_time": "2024-08-21T05:11:57.121Z"
   },
   {
    "duration": 36,
    "start_time": "2024-08-21T05:11:57.685Z"
   },
   {
    "duration": 12,
    "start_time": "2024-08-21T05:11:57.724Z"
   },
   {
    "duration": 11,
    "start_time": "2024-08-21T05:11:57.752Z"
   },
   {
    "duration": 42,
    "start_time": "2024-08-21T05:11:57.764Z"
   },
   {
    "duration": 187,
    "start_time": "2024-08-21T05:11:57.807Z"
   },
   {
    "duration": 24,
    "start_time": "2024-08-21T05:11:57.996Z"
   },
   {
    "duration": 31,
    "start_time": "2024-08-21T05:11:58.022Z"
   },
   {
    "duration": 36,
    "start_time": "2024-08-21T05:11:58.055Z"
   },
   {
    "duration": 26,
    "start_time": "2024-08-21T05:11:58.093Z"
   },
   {
    "duration": 62,
    "start_time": "2024-08-21T05:11:58.121Z"
   },
   {
    "duration": 9,
    "start_time": "2024-08-21T05:11:58.185Z"
   },
   {
    "duration": 742,
    "start_time": "2024-08-21T05:11:58.195Z"
   },
   {
    "duration": 19,
    "start_time": "2024-08-21T05:11:58.939Z"
   },
   {
    "duration": 44,
    "start_time": "2024-08-21T05:11:58.960Z"
   },
   {
    "duration": 10,
    "start_time": "2024-08-21T05:11:59.006Z"
   },
   {
    "duration": 15,
    "start_time": "2024-08-21T05:11:59.017Z"
   },
   {
    "duration": 273,
    "start_time": "2024-08-21T05:11:59.033Z"
   },
   {
    "duration": 30,
    "start_time": "2024-08-21T05:11:59.308Z"
   },
   {
    "duration": 26,
    "start_time": "2024-08-21T05:13:01.393Z"
   },
   {
    "duration": 25,
    "start_time": "2024-08-21T05:15:10.221Z"
   },
   {
    "duration": 1448,
    "start_time": "2024-08-21T05:15:15.809Z"
   },
   {
    "duration": 921,
    "start_time": "2024-08-21T05:15:17.259Z"
   },
   {
    "duration": 8,
    "start_time": "2024-08-21T05:15:18.181Z"
   },
   {
    "duration": 2456,
    "start_time": "2024-08-21T05:15:18.191Z"
   },
   {
    "duration": 5,
    "start_time": "2024-08-21T05:15:20.651Z"
   },
   {
    "duration": 5,
    "start_time": "2024-08-21T05:15:20.657Z"
   },
   {
    "duration": 61,
    "start_time": "2024-08-21T05:15:20.663Z"
   },
   {
    "duration": 534,
    "start_time": "2024-08-21T05:15:20.725Z"
   },
   {
    "duration": 34,
    "start_time": "2024-08-21T05:15:21.260Z"
   },
   {
    "duration": 12,
    "start_time": "2024-08-21T05:15:21.295Z"
   },
   {
    "duration": 12,
    "start_time": "2024-08-21T05:15:21.308Z"
   },
   {
    "duration": 65,
    "start_time": "2024-08-21T05:15:21.322Z"
   },
   {
    "duration": 173,
    "start_time": "2024-08-21T05:15:21.388Z"
   },
   {
    "duration": 24,
    "start_time": "2024-08-21T05:15:21.563Z"
   },
   {
    "duration": 11,
    "start_time": "2024-08-21T05:15:21.589Z"
   },
   {
    "duration": 59,
    "start_time": "2024-08-21T05:15:21.601Z"
   },
   {
    "duration": 26,
    "start_time": "2024-08-21T05:15:21.661Z"
   },
   {
    "duration": 40,
    "start_time": "2024-08-21T05:15:21.688Z"
   },
   {
    "duration": 9,
    "start_time": "2024-08-21T05:15:21.730Z"
   },
   {
    "duration": 716,
    "start_time": "2024-08-21T05:15:21.752Z"
   },
   {
    "duration": 12,
    "start_time": "2024-08-21T05:15:22.469Z"
   },
   {
    "duration": 4,
    "start_time": "2024-08-21T05:15:22.482Z"
   },
   {
    "duration": 10,
    "start_time": "2024-08-21T05:15:22.487Z"
   },
   {
    "duration": 16,
    "start_time": "2024-08-21T05:15:22.498Z"
   },
   {
    "duration": 300,
    "start_time": "2024-08-21T05:15:22.515Z"
   },
   {
    "duration": 38,
    "start_time": "2024-08-21T05:15:22.816Z"
   },
   {
    "duration": 9,
    "start_time": "2024-08-21T05:16:02.700Z"
   },
   {
    "duration": 31,
    "start_time": "2024-08-21T05:20:09.538Z"
   },
   {
    "duration": 13,
    "start_time": "2024-08-21T05:20:23.947Z"
   },
   {
    "duration": 16,
    "start_time": "2024-08-21T05:20:35.247Z"
   },
   {
    "duration": 294,
    "start_time": "2024-08-21T05:20:39.673Z"
   },
   {
    "duration": 24,
    "start_time": "2024-08-21T05:20:47.419Z"
   },
   {
    "duration": 16,
    "start_time": "2024-08-21T05:21:12.890Z"
   },
   {
    "duration": 9,
    "start_time": "2024-08-21T05:21:19.481Z"
   },
   {
    "duration": 32,
    "start_time": "2024-08-21T05:21:36.744Z"
   },
   {
    "duration": 24,
    "start_time": "2024-08-21T05:21:43.503Z"
   },
   {
    "duration": 1490,
    "start_time": "2024-08-21T05:21:58.570Z"
   },
   {
    "duration": 941,
    "start_time": "2024-08-21T05:22:00.062Z"
   },
   {
    "duration": 7,
    "start_time": "2024-08-21T05:22:01.005Z"
   },
   {
    "duration": 2599,
    "start_time": "2024-08-21T05:22:01.014Z"
   },
   {
    "duration": 4,
    "start_time": "2024-08-21T05:22:03.615Z"
   },
   {
    "duration": 14,
    "start_time": "2024-08-21T05:22:03.621Z"
   },
   {
    "duration": 60,
    "start_time": "2024-08-21T05:22:03.636Z"
   },
   {
    "duration": 625,
    "start_time": "2024-08-21T05:22:03.697Z"
   },
   {
    "duration": 45,
    "start_time": "2024-08-21T05:22:04.323Z"
   },
   {
    "duration": 11,
    "start_time": "2024-08-21T05:22:04.370Z"
   },
   {
    "duration": 16,
    "start_time": "2024-08-21T05:22:04.383Z"
   },
   {
    "duration": 54,
    "start_time": "2024-08-21T05:22:04.401Z"
   },
   {
    "duration": 177,
    "start_time": "2024-08-21T05:22:04.457Z"
   },
   {
    "duration": 28,
    "start_time": "2024-08-21T05:22:04.637Z"
   },
   {
    "duration": 11,
    "start_time": "2024-08-21T05:22:04.667Z"
   },
   {
    "duration": 35,
    "start_time": "2024-08-21T05:22:04.679Z"
   },
   {
    "duration": 61,
    "start_time": "2024-08-21T05:22:04.716Z"
   },
   {
    "duration": 35,
    "start_time": "2024-08-21T05:22:04.778Z"
   },
   {
    "duration": 8,
    "start_time": "2024-08-21T05:22:04.815Z"
   },
   {
    "duration": 727,
    "start_time": "2024-08-21T05:22:04.825Z"
   },
   {
    "duration": 12,
    "start_time": "2024-08-21T05:22:05.554Z"
   },
   {
    "duration": 8,
    "start_time": "2024-08-21T05:22:05.567Z"
   },
   {
    "duration": 10,
    "start_time": "2024-08-21T05:22:05.577Z"
   },
   {
    "duration": 16,
    "start_time": "2024-08-21T05:22:05.588Z"
   },
   {
    "duration": 319,
    "start_time": "2024-08-21T05:22:05.605Z"
   },
   {
    "duration": 45,
    "start_time": "2024-08-21T05:22:05.925Z"
   },
   {
    "duration": 9,
    "start_time": "2024-08-21T05:22:38.765Z"
   },
   {
    "duration": 1381,
    "start_time": "2024-08-21T05:23:08.241Z"
   },
   {
    "duration": 897,
    "start_time": "2024-08-21T05:23:09.624Z"
   },
   {
    "duration": 7,
    "start_time": "2024-08-21T05:23:10.523Z"
   },
   {
    "duration": 2508,
    "start_time": "2024-08-21T05:23:10.533Z"
   },
   {
    "duration": 5,
    "start_time": "2024-08-21T05:23:13.051Z"
   },
   {
    "duration": 9,
    "start_time": "2024-08-21T05:23:13.058Z"
   },
   {
    "duration": 56,
    "start_time": "2024-08-21T05:23:13.069Z"
   },
   {
    "duration": 546,
    "start_time": "2024-08-21T05:23:13.127Z"
   },
   {
    "duration": 36,
    "start_time": "2024-08-21T05:23:13.675Z"
   },
   {
    "duration": 12,
    "start_time": "2024-08-21T05:23:13.713Z"
   },
   {
    "duration": 28,
    "start_time": "2024-08-21T05:23:13.727Z"
   },
   {
    "duration": 42,
    "start_time": "2024-08-21T05:23:13.757Z"
   },
   {
    "duration": 224,
    "start_time": "2024-08-21T05:23:13.801Z"
   },
   {
    "duration": 32,
    "start_time": "2024-08-21T05:23:14.029Z"
   },
   {
    "duration": 13,
    "start_time": "2024-08-21T05:23:14.063Z"
   },
   {
    "duration": 34,
    "start_time": "2024-08-21T05:23:14.078Z"
   },
   {
    "duration": 55,
    "start_time": "2024-08-21T05:23:14.114Z"
   },
   {
    "duration": 34,
    "start_time": "2024-08-21T05:23:14.171Z"
   },
   {
    "duration": 9,
    "start_time": "2024-08-21T05:23:14.206Z"
   },
   {
    "duration": 707,
    "start_time": "2024-08-21T05:23:14.217Z"
   },
   {
    "duration": 13,
    "start_time": "2024-08-21T05:23:14.926Z"
   },
   {
    "duration": 13,
    "start_time": "2024-08-21T05:23:14.940Z"
   },
   {
    "duration": 10,
    "start_time": "2024-08-21T05:23:14.954Z"
   },
   {
    "duration": 18,
    "start_time": "2024-08-21T05:23:14.965Z"
   },
   {
    "duration": 313,
    "start_time": "2024-08-21T05:23:14.984Z"
   },
   {
    "duration": 30,
    "start_time": "2024-08-21T05:23:15.298Z"
   },
   {
    "duration": 10,
    "start_time": "2024-08-21T05:24:48.780Z"
   },
   {
    "duration": 31,
    "start_time": "2024-08-21T05:24:55.805Z"
   },
   {
    "duration": 1528,
    "start_time": "2024-08-21T05:25:02.862Z"
   },
   {
    "duration": 898,
    "start_time": "2024-08-21T05:25:04.392Z"
   },
   {
    "duration": 8,
    "start_time": "2024-08-21T05:25:05.291Z"
   },
   {
    "duration": 2517,
    "start_time": "2024-08-21T05:25:05.300Z"
   },
   {
    "duration": 5,
    "start_time": "2024-08-21T05:25:07.819Z"
   },
   {
    "duration": 48,
    "start_time": "2024-08-21T05:25:07.825Z"
   },
   {
    "duration": 85,
    "start_time": "2024-08-21T05:25:07.874Z"
   },
   {
    "duration": 552,
    "start_time": "2024-08-21T05:25:07.961Z"
   },
   {
    "duration": 48,
    "start_time": "2024-08-21T05:25:08.515Z"
   },
   {
    "duration": 13,
    "start_time": "2024-08-21T05:25:08.564Z"
   },
   {
    "duration": 10,
    "start_time": "2024-08-21T05:25:08.579Z"
   },
   {
    "duration": 64,
    "start_time": "2024-08-21T05:25:08.591Z"
   },
   {
    "duration": 197,
    "start_time": "2024-08-21T05:25:08.657Z"
   },
   {
    "duration": 24,
    "start_time": "2024-08-21T05:25:08.857Z"
   },
   {
    "duration": 12,
    "start_time": "2024-08-21T05:25:08.883Z"
   },
   {
    "duration": 36,
    "start_time": "2024-08-21T05:25:08.896Z"
   },
   {
    "duration": 41,
    "start_time": "2024-08-21T05:25:08.934Z"
   },
   {
    "duration": 90,
    "start_time": "2024-08-21T05:25:08.977Z"
   },
   {
    "duration": 9,
    "start_time": "2024-08-21T05:25:09.069Z"
   },
   {
    "duration": 3,
    "start_time": "2024-08-21T05:25:09.079Z"
   },
   {
    "duration": 847,
    "start_time": "2024-08-21T05:25:09.084Z"
   },
   {
    "duration": 20,
    "start_time": "2024-08-21T05:25:09.933Z"
   },
   {
    "duration": 4,
    "start_time": "2024-08-21T05:25:09.954Z"
   },
   {
    "duration": 17,
    "start_time": "2024-08-21T05:25:09.959Z"
   },
   {
    "duration": 15,
    "start_time": "2024-08-21T05:25:09.978Z"
   },
   {
    "duration": 296,
    "start_time": "2024-08-21T05:25:09.995Z"
   },
   {
    "duration": 30,
    "start_time": "2024-08-21T05:25:10.293Z"
   },
   {
    "duration": 13,
    "start_time": "2024-08-21T05:25:39.831Z"
   },
   {
    "duration": 1487,
    "start_time": "2024-08-21T05:25:47.517Z"
   },
   {
    "duration": 926,
    "start_time": "2024-08-21T05:25:49.006Z"
   },
   {
    "duration": 7,
    "start_time": "2024-08-21T05:25:49.934Z"
   },
   {
    "duration": 2587,
    "start_time": "2024-08-21T05:25:49.943Z"
   },
   {
    "duration": 5,
    "start_time": "2024-08-21T05:25:52.532Z"
   },
   {
    "duration": 21,
    "start_time": "2024-08-21T05:25:52.538Z"
   },
   {
    "duration": 70,
    "start_time": "2024-08-21T05:25:52.561Z"
   },
   {
    "duration": 546,
    "start_time": "2024-08-21T05:25:52.632Z"
   },
   {
    "duration": 42,
    "start_time": "2024-08-21T05:25:53.180Z"
   },
   {
    "duration": 10,
    "start_time": "2024-08-21T05:25:53.225Z"
   },
   {
    "duration": 10,
    "start_time": "2024-08-21T05:25:53.253Z"
   },
   {
    "duration": 41,
    "start_time": "2024-08-21T05:25:53.264Z"
   },
   {
    "duration": 198,
    "start_time": "2024-08-21T05:25:53.306Z"
   },
   {
    "duration": 24,
    "start_time": "2024-08-21T05:25:53.506Z"
   },
   {
    "duration": 28,
    "start_time": "2024-08-21T05:25:53.531Z"
   },
   {
    "duration": 36,
    "start_time": "2024-08-21T05:25:53.560Z"
   },
   {
    "duration": 35,
    "start_time": "2024-08-21T05:25:53.597Z"
   },
   {
    "duration": 33,
    "start_time": "2024-08-21T05:25:53.633Z"
   },
   {
    "duration": 48,
    "start_time": "2024-08-21T05:25:53.667Z"
   },
   {
    "duration": 3,
    "start_time": "2024-08-21T05:25:53.716Z"
   },
   {
    "duration": 803,
    "start_time": "2024-08-21T05:25:53.721Z"
   },
   {
    "duration": 11,
    "start_time": "2024-08-21T05:25:54.526Z"
   },
   {
    "duration": 14,
    "start_time": "2024-08-21T05:25:54.539Z"
   },
   {
    "duration": 10,
    "start_time": "2024-08-21T05:25:54.554Z"
   },
   {
    "duration": 17,
    "start_time": "2024-08-21T05:25:54.565Z"
   },
   {
    "duration": 316,
    "start_time": "2024-08-21T05:25:54.584Z"
   },
   {
    "duration": 34,
    "start_time": "2024-08-21T05:25:54.902Z"
   },
   {
    "duration": 15,
    "start_time": "2024-08-21T05:27:14.951Z"
   },
   {
    "duration": 1499,
    "start_time": "2024-08-21T05:27:23.003Z"
   },
   {
    "duration": 933,
    "start_time": "2024-08-21T05:27:24.504Z"
   },
   {
    "duration": 8,
    "start_time": "2024-08-21T05:27:25.438Z"
   },
   {
    "duration": 2473,
    "start_time": "2024-08-21T05:27:25.453Z"
   },
   {
    "duration": 4,
    "start_time": "2024-08-21T05:27:27.928Z"
   },
   {
    "duration": 11,
    "start_time": "2024-08-21T05:27:27.934Z"
   },
   {
    "duration": 57,
    "start_time": "2024-08-21T05:27:27.952Z"
   },
   {
    "duration": 547,
    "start_time": "2024-08-21T05:27:28.010Z"
   },
   {
    "duration": 37,
    "start_time": "2024-08-21T05:27:28.559Z"
   },
   {
    "duration": 11,
    "start_time": "2024-08-21T05:27:28.599Z"
   },
   {
    "duration": 10,
    "start_time": "2024-08-21T05:27:28.611Z"
   },
   {
    "duration": 66,
    "start_time": "2024-08-21T05:27:28.623Z"
   },
   {
    "duration": 175,
    "start_time": "2024-08-21T05:27:28.690Z"
   },
   {
    "duration": 24,
    "start_time": "2024-08-21T05:27:28.867Z"
   },
   {
    "duration": 11,
    "start_time": "2024-08-21T05:27:28.892Z"
   },
   {
    "duration": 57,
    "start_time": "2024-08-21T05:27:28.904Z"
   },
   {
    "duration": 37,
    "start_time": "2024-08-21T05:27:28.963Z"
   },
   {
    "duration": 16,
    "start_time": "2024-08-21T05:27:29.002Z"
   },
   {
    "duration": 35,
    "start_time": "2024-08-21T05:27:29.019Z"
   },
   {
    "duration": 2,
    "start_time": "2024-08-21T05:27:29.055Z"
   },
   {
    "duration": 742,
    "start_time": "2024-08-21T05:27:29.059Z"
   },
   {
    "duration": 12,
    "start_time": "2024-08-21T05:27:29.802Z"
   },
   {
    "duration": 4,
    "start_time": "2024-08-21T05:27:29.815Z"
   },
   {
    "duration": 10,
    "start_time": "2024-08-21T05:27:29.820Z"
   },
   {
    "duration": 17,
    "start_time": "2024-08-21T05:27:29.852Z"
   },
   {
    "duration": 326,
    "start_time": "2024-08-21T05:27:29.870Z"
   },
   {
    "duration": 33,
    "start_time": "2024-08-21T05:27:30.198Z"
   },
   {
    "duration": 11,
    "start_time": "2024-08-21T05:29:21.657Z"
   },
   {
    "duration": 26,
    "start_time": "2024-08-21T05:29:55.578Z"
   },
   {
    "duration": 27,
    "start_time": "2024-08-21T05:30:18.716Z"
   },
   {
    "duration": 32,
    "start_time": "2024-08-21T05:43:00.465Z"
   },
   {
    "duration": 25,
    "start_time": "2024-08-21T05:43:47.901Z"
   },
   {
    "duration": 25,
    "start_time": "2024-08-21T05:45:11.428Z"
   },
   {
    "duration": 27,
    "start_time": "2024-08-21T05:45:41.827Z"
   },
   {
    "duration": 39,
    "start_time": "2024-08-21T05:55:32.250Z"
   },
   {
    "duration": 55,
    "start_time": "2024-08-21T05:56:13.488Z"
   },
   {
    "duration": 120,
    "start_time": "2024-08-21T06:04:39.188Z"
   },
   {
    "duration": 22,
    "start_time": "2024-08-21T06:04:46.634Z"
   },
   {
    "duration": 54,
    "start_time": "2024-08-21T06:05:41.336Z"
   },
   {
    "duration": 65,
    "start_time": "2024-08-21T06:16:16.534Z"
   },
   {
    "duration": 45,
    "start_time": "2024-08-21T06:16:20.664Z"
   },
   {
    "duration": 59,
    "start_time": "2024-08-21T06:16:33.171Z"
   },
   {
    "duration": 37,
    "start_time": "2024-08-21T06:16:43.566Z"
   },
   {
    "duration": 103,
    "start_time": "2024-08-21T06:16:49.358Z"
   },
   {
    "duration": 38,
    "start_time": "2024-08-21T06:17:00.537Z"
   },
   {
    "duration": 35,
    "start_time": "2024-08-21T06:17:37.296Z"
   },
   {
    "duration": 17,
    "start_time": "2024-08-21T06:18:14.848Z"
   },
   {
    "duration": 46,
    "start_time": "2024-08-21T06:18:26.873Z"
   },
   {
    "duration": 21,
    "start_time": "2024-08-21T06:19:19.790Z"
   },
   {
    "duration": 37,
    "start_time": "2024-08-21T06:19:40.095Z"
   },
   {
    "duration": 68,
    "start_time": "2024-08-21T06:20:03.351Z"
   },
   {
    "duration": 36,
    "start_time": "2024-08-21T06:22:27.859Z"
   },
   {
    "duration": 68,
    "start_time": "2024-08-21T06:23:14.515Z"
   },
   {
    "duration": 32,
    "start_time": "2024-08-21T06:45:19.145Z"
   },
   {
    "duration": 46,
    "start_time": "2024-08-21T06:46:26.105Z"
   },
   {
    "duration": 25,
    "start_time": "2024-08-21T06:46:39.188Z"
   },
   {
    "duration": 24,
    "start_time": "2024-08-21T06:47:00.331Z"
   },
   {
    "duration": 18,
    "start_time": "2024-08-21T06:47:07.405Z"
   },
   {
    "duration": 14473,
    "start_time": "2024-08-21T06:52:05.518Z"
   },
   {
    "duration": 14303,
    "start_time": "2024-08-21T06:53:23.902Z"
   },
   {
    "duration": 1492,
    "start_time": "2024-08-21T06:54:51.170Z"
   },
   {
    "duration": 943,
    "start_time": "2024-08-21T06:54:52.665Z"
   },
   {
    "duration": 7,
    "start_time": "2024-08-21T06:54:53.610Z"
   },
   {
    "duration": 2547,
    "start_time": "2024-08-21T06:54:53.618Z"
   },
   {
    "duration": 5,
    "start_time": "2024-08-21T06:54:56.167Z"
   },
   {
    "duration": 19,
    "start_time": "2024-08-21T06:54:56.174Z"
   },
   {
    "duration": 66,
    "start_time": "2024-08-21T06:54:56.195Z"
   },
   {
    "duration": 556,
    "start_time": "2024-08-21T06:54:56.263Z"
   },
   {
    "duration": 45,
    "start_time": "2024-08-21T06:54:56.821Z"
   },
   {
    "duration": 12,
    "start_time": "2024-08-21T06:54:56.868Z"
   },
   {
    "duration": 12,
    "start_time": "2024-08-21T06:54:56.882Z"
   },
   {
    "duration": 63,
    "start_time": "2024-08-21T06:54:56.896Z"
   },
   {
    "duration": 172,
    "start_time": "2024-08-21T06:54:56.962Z"
   },
   {
    "duration": 33,
    "start_time": "2024-08-21T06:54:57.138Z"
   },
   {
    "duration": 12,
    "start_time": "2024-08-21T06:54:57.173Z"
   },
   {
    "duration": 37,
    "start_time": "2024-08-21T06:54:57.187Z"
   },
   {
    "duration": 37,
    "start_time": "2024-08-21T06:54:57.226Z"
   },
   {
    "duration": 3,
    "start_time": "2024-08-21T06:54:57.265Z"
   },
   {
    "duration": 775,
    "start_time": "2024-08-21T06:54:57.270Z"
   },
   {
    "duration": 13,
    "start_time": "2024-08-21T06:54:58.047Z"
   },
   {
    "duration": 4,
    "start_time": "2024-08-21T06:54:58.061Z"
   },
   {
    "duration": 10,
    "start_time": "2024-08-21T06:54:58.067Z"
   },
   {
    "duration": 16,
    "start_time": "2024-08-21T06:54:58.078Z"
   },
   {
    "duration": 319,
    "start_time": "2024-08-21T06:54:58.096Z"
   },
   {
    "duration": 47,
    "start_time": "2024-08-21T06:54:58.416Z"
   },
   {
    "duration": 26,
    "start_time": "2024-08-21T06:54:58.464Z"
   },
   {
    "duration": 87,
    "start_time": "2024-08-21T06:54:58.492Z"
   },
   {
    "duration": 53,
    "start_time": "2024-08-21T06:54:58.580Z"
   },
   {
    "duration": 43,
    "start_time": "2024-08-21T06:54:58.634Z"
   },
   {
    "duration": 49,
    "start_time": "2024-08-21T06:54:58.679Z"
   },
   {
    "duration": 83,
    "start_time": "2024-08-21T06:54:58.730Z"
   },
   {
    "duration": 47,
    "start_time": "2024-08-21T06:54:58.815Z"
   },
   {
    "duration": 65,
    "start_time": "2024-08-21T06:54:58.863Z"
   },
   {
    "duration": 32,
    "start_time": "2024-08-21T06:54:58.930Z"
   },
   {
    "duration": 21,
    "start_time": "2024-08-21T06:54:58.963Z"
   },
   {
    "duration": 15744,
    "start_time": "2024-08-21T06:54:58.985Z"
   },
   {
    "duration": 27,
    "start_time": "2024-08-21T06:57:13.147Z"
   },
   {
    "duration": 170,
    "start_time": "2024-08-21T06:57:51.729Z"
   },
   {
    "duration": 15399,
    "start_time": "2024-08-21T06:58:35.806Z"
   },
   {
    "duration": 95,
    "start_time": "2024-08-21T07:02:20.771Z"
   },
   {
    "duration": 81,
    "start_time": "2024-08-21T07:05:04.058Z"
   },
   {
    "duration": 92,
    "start_time": "2024-08-21T07:05:16.618Z"
   },
   {
    "duration": 1384,
    "start_time": "2024-08-21T07:09:48.969Z"
   },
   {
    "duration": 918,
    "start_time": "2024-08-21T07:09:50.355Z"
   },
   {
    "duration": 10,
    "start_time": "2024-08-21T07:09:51.275Z"
   },
   {
    "duration": 2506,
    "start_time": "2024-08-21T07:09:51.286Z"
   },
   {
    "duration": 5,
    "start_time": "2024-08-21T07:09:53.795Z"
   },
   {
    "duration": 9,
    "start_time": "2024-08-21T07:09:53.801Z"
   },
   {
    "duration": 73,
    "start_time": "2024-08-21T07:09:53.811Z"
   },
   {
    "duration": 565,
    "start_time": "2024-08-21T07:09:53.887Z"
   },
   {
    "duration": 36,
    "start_time": "2024-08-21T07:09:54.454Z"
   },
   {
    "duration": 10,
    "start_time": "2024-08-21T07:09:54.491Z"
   },
   {
    "duration": 63,
    "start_time": "2024-08-21T07:09:54.502Z"
   },
   {
    "duration": 41,
    "start_time": "2024-08-21T07:09:54.567Z"
   },
   {
    "duration": 167,
    "start_time": "2024-08-21T07:09:54.609Z"
   },
   {
    "duration": 25,
    "start_time": "2024-08-21T07:09:54.779Z"
   },
   {
    "duration": 10,
    "start_time": "2024-08-21T07:09:54.806Z"
   },
   {
    "duration": 55,
    "start_time": "2024-08-21T07:09:54.818Z"
   },
   {
    "duration": 13,
    "start_time": "2024-08-21T07:09:54.874Z"
   },
   {
    "duration": 9,
    "start_time": "2024-08-21T07:09:54.889Z"
   },
   {
    "duration": 757,
    "start_time": "2024-08-21T07:09:54.900Z"
   },
   {
    "duration": 12,
    "start_time": "2024-08-21T07:09:55.659Z"
   },
   {
    "duration": 4,
    "start_time": "2024-08-21T07:09:55.672Z"
   },
   {
    "duration": 11,
    "start_time": "2024-08-21T07:09:55.677Z"
   },
   {
    "duration": 16,
    "start_time": "2024-08-21T07:09:55.689Z"
   },
   {
    "duration": 312,
    "start_time": "2024-08-21T07:09:55.707Z"
   },
   {
    "duration": 34,
    "start_time": "2024-08-21T07:09:56.021Z"
   },
   {
    "duration": 29,
    "start_time": "2024-08-21T07:09:56.056Z"
   },
   {
    "duration": 68,
    "start_time": "2024-08-21T07:09:56.087Z"
   },
   {
    "duration": 53,
    "start_time": "2024-08-21T07:09:56.156Z"
   },
   {
    "duration": 47,
    "start_time": "2024-08-21T07:09:56.210Z"
   },
   {
    "duration": 54,
    "start_time": "2024-08-21T07:09:56.258Z"
   },
   {
    "duration": 79,
    "start_time": "2024-08-21T07:09:56.313Z"
   },
   {
    "duration": 38,
    "start_time": "2024-08-21T07:09:56.394Z"
   },
   {
    "duration": 78,
    "start_time": "2024-08-21T07:09:56.433Z"
   },
   {
    "duration": 25,
    "start_time": "2024-08-21T07:09:56.512Z"
   },
   {
    "duration": 40,
    "start_time": "2024-08-21T07:09:56.538Z"
   },
   {
    "duration": 15796,
    "start_time": "2024-08-21T07:09:56.580Z"
   },
   {
    "duration": 97,
    "start_time": "2024-08-21T07:10:12.377Z"
   },
   {
    "duration": 9,
    "start_time": "2024-08-21T07:10:57.405Z"
   },
   {
    "duration": 1531,
    "start_time": "2024-08-21T07:11:02.955Z"
   },
   {
    "duration": 916,
    "start_time": "2024-08-21T07:11:04.488Z"
   },
   {
    "duration": 9,
    "start_time": "2024-08-21T07:11:05.406Z"
   },
   {
    "duration": 2479,
    "start_time": "2024-08-21T07:11:05.417Z"
   },
   {
    "duration": 4,
    "start_time": "2024-08-21T07:11:07.898Z"
   },
   {
    "duration": 14,
    "start_time": "2024-08-21T07:11:07.904Z"
   },
   {
    "duration": 90,
    "start_time": "2024-08-21T07:11:07.920Z"
   },
   {
    "duration": 545,
    "start_time": "2024-08-21T07:11:08.012Z"
   },
   {
    "duration": 36,
    "start_time": "2024-08-21T07:11:08.559Z"
   },
   {
    "duration": 11,
    "start_time": "2024-08-21T07:11:08.598Z"
   },
   {
    "duration": 12,
    "start_time": "2024-08-21T07:11:08.611Z"
   },
   {
    "duration": 65,
    "start_time": "2024-08-21T07:11:08.624Z"
   },
   {
    "duration": 179,
    "start_time": "2024-08-21T07:11:08.691Z"
   },
   {
    "duration": 25,
    "start_time": "2024-08-21T07:11:08.871Z"
   },
   {
    "duration": 12,
    "start_time": "2024-08-21T07:11:08.898Z"
   },
   {
    "duration": 52,
    "start_time": "2024-08-21T07:11:08.911Z"
   },
   {
    "duration": 12,
    "start_time": "2024-08-21T07:11:08.964Z"
   },
   {
    "duration": 8,
    "start_time": "2024-08-21T07:11:08.978Z"
   },
   {
    "duration": 695,
    "start_time": "2024-08-21T07:11:08.988Z"
   },
   {
    "duration": 8,
    "start_time": "2024-08-21T07:11:09.685Z"
   },
   {
    "duration": 7,
    "start_time": "2024-08-21T07:11:09.695Z"
   },
   {
    "duration": 11,
    "start_time": "2024-08-21T07:11:09.703Z"
   },
   {
    "duration": 46,
    "start_time": "2024-08-21T07:11:09.716Z"
   },
   {
    "duration": 306,
    "start_time": "2024-08-21T07:11:09.764Z"
   },
   {
    "duration": 34,
    "start_time": "2024-08-21T07:11:10.071Z"
   },
   {
    "duration": 26,
    "start_time": "2024-08-21T07:11:10.107Z"
   },
   {
    "duration": 55,
    "start_time": "2024-08-21T07:11:10.152Z"
   },
   {
    "duration": 68,
    "start_time": "2024-08-21T07:11:10.210Z"
   },
   {
    "duration": 36,
    "start_time": "2024-08-21T07:11:10.280Z"
   },
   {
    "duration": 64,
    "start_time": "2024-08-21T07:11:10.317Z"
   },
   {
    "duration": 73,
    "start_time": "2024-08-21T07:11:10.382Z"
   },
   {
    "duration": 36,
    "start_time": "2024-08-21T07:11:10.457Z"
   },
   {
    "duration": 84,
    "start_time": "2024-08-21T07:11:10.495Z"
   },
   {
    "duration": 26,
    "start_time": "2024-08-21T07:11:10.580Z"
   },
   {
    "duration": 22,
    "start_time": "2024-08-21T07:11:10.607Z"
   },
   {
    "duration": 14569,
    "start_time": "2024-08-21T07:11:10.630Z"
   },
   {
    "duration": 97,
    "start_time": "2024-08-21T07:11:25.200Z"
   },
   {
    "duration": 129,
    "start_time": "2024-08-21T07:14:48.085Z"
   },
   {
    "duration": 27,
    "start_time": "2024-08-21T07:15:34.719Z"
   },
   {
    "duration": 18,
    "start_time": "2024-08-21T07:15:40.920Z"
   },
   {
    "duration": 28,
    "start_time": "2024-08-21T07:15:53.290Z"
   },
   {
    "duration": 17,
    "start_time": "2024-08-21T07:16:20.234Z"
   },
   {
    "duration": 28,
    "start_time": "2024-08-21T07:18:22.220Z"
   },
   {
    "duration": 21,
    "start_time": "2024-08-21T07:18:29.768Z"
   },
   {
    "duration": 29,
    "start_time": "2024-08-21T07:22:40.417Z"
   },
   {
    "duration": 19,
    "start_time": "2024-08-21T07:23:10.364Z"
   },
   {
    "duration": 92,
    "start_time": "2024-08-21T07:27:23.629Z"
   },
   {
    "duration": 1539,
    "start_time": "2024-08-21T07:27:45.124Z"
   },
   {
    "duration": 925,
    "start_time": "2024-08-21T07:27:46.665Z"
   },
   {
    "duration": 8,
    "start_time": "2024-08-21T07:27:47.592Z"
   },
   {
    "duration": 2513,
    "start_time": "2024-08-21T07:27:47.601Z"
   },
   {
    "duration": 5,
    "start_time": "2024-08-21T07:27:50.117Z"
   },
   {
    "duration": 10,
    "start_time": "2024-08-21T07:27:50.123Z"
   },
   {
    "duration": 70,
    "start_time": "2024-08-21T07:27:50.135Z"
   },
   {
    "duration": 581,
    "start_time": "2024-08-21T07:27:50.206Z"
   },
   {
    "duration": 38,
    "start_time": "2024-08-21T07:27:50.789Z"
   },
   {
    "duration": 26,
    "start_time": "2024-08-21T07:27:50.829Z"
   },
   {
    "duration": 15,
    "start_time": "2024-08-21T07:27:50.857Z"
   },
   {
    "duration": 43,
    "start_time": "2024-08-21T07:27:50.874Z"
   },
   {
    "duration": 181,
    "start_time": "2024-08-21T07:27:50.919Z"
   },
   {
    "duration": 27,
    "start_time": "2024-08-21T07:27:51.104Z"
   },
   {
    "duration": 25,
    "start_time": "2024-08-21T07:27:51.133Z"
   },
   {
    "duration": 37,
    "start_time": "2024-08-21T07:27:51.160Z"
   },
   {
    "duration": 13,
    "start_time": "2024-08-21T07:27:51.199Z"
   },
   {
    "duration": 42,
    "start_time": "2024-08-21T07:27:51.214Z"
   },
   {
    "duration": 722,
    "start_time": "2024-08-21T07:27:51.258Z"
   },
   {
    "duration": 11,
    "start_time": "2024-08-21T07:27:51.982Z"
   },
   {
    "duration": 43,
    "start_time": "2024-08-21T07:27:51.995Z"
   },
   {
    "duration": 15,
    "start_time": "2024-08-21T07:27:52.040Z"
   },
   {
    "duration": 19,
    "start_time": "2024-08-21T07:27:52.057Z"
   },
   {
    "duration": 305,
    "start_time": "2024-08-21T07:27:52.077Z"
   },
   {
    "duration": 31,
    "start_time": "2024-08-21T07:27:52.383Z"
   },
   {
    "duration": 43,
    "start_time": "2024-08-21T07:27:52.416Z"
   },
   {
    "duration": 53,
    "start_time": "2024-08-21T07:27:52.461Z"
   },
   {
    "duration": 71,
    "start_time": "2024-08-21T07:27:52.515Z"
   },
   {
    "duration": 36,
    "start_time": "2024-08-21T07:27:52.587Z"
   },
   {
    "duration": 64,
    "start_time": "2024-08-21T07:27:52.624Z"
   },
   {
    "duration": 75,
    "start_time": "2024-08-21T07:27:52.690Z"
   },
   {
    "duration": 38,
    "start_time": "2024-08-21T07:27:52.766Z"
   },
   {
    "duration": 81,
    "start_time": "2024-08-21T07:27:52.806Z"
   },
   {
    "duration": 25,
    "start_time": "2024-08-21T07:27:52.889Z"
   },
   {
    "duration": 43,
    "start_time": "2024-08-21T07:27:52.916Z"
   },
   {
    "duration": 14892,
    "start_time": "2024-08-21T07:27:52.961Z"
   },
   {
    "duration": 103,
    "start_time": "2024-08-21T07:28:07.854Z"
   },
   {
    "duration": 134,
    "start_time": "2024-08-21T07:30:28.506Z"
   },
   {
    "duration": 25,
    "start_time": "2024-08-21T07:31:58.228Z"
   },
   {
    "duration": 29,
    "start_time": "2024-08-21T07:32:17.664Z"
   },
   {
    "duration": 30,
    "start_time": "2024-08-21T07:32:26.905Z"
   },
   {
    "duration": 26,
    "start_time": "2024-08-21T07:32:34.701Z"
   },
   {
    "duration": 26,
    "start_time": "2024-08-21T07:32:44.572Z"
   },
   {
    "duration": 26,
    "start_time": "2024-08-21T07:32:56.055Z"
   },
   {
    "duration": 23,
    "start_time": "2024-08-21T07:33:12.124Z"
   },
   {
    "duration": 25,
    "start_time": "2024-08-21T07:33:25.548Z"
   },
   {
    "duration": 19,
    "start_time": "2024-08-21T07:34:02.505Z"
   },
   {
    "duration": 12580,
    "start_time": "2024-08-21T07:34:11.874Z"
   },
   {
    "duration": 83,
    "start_time": "2024-08-21T07:34:35.946Z"
   },
   {
    "duration": 25,
    "start_time": "2024-08-21T07:35:08.641Z"
   },
   {
    "duration": 30,
    "start_time": "2024-08-21T07:35:26.654Z"
   },
   {
    "duration": 30,
    "start_time": "2024-08-21T07:35:34.142Z"
   },
   {
    "duration": 1517,
    "start_time": "2024-08-21T07:37:00.418Z"
   },
   {
    "duration": 944,
    "start_time": "2024-08-21T07:37:01.937Z"
   },
   {
    "duration": 7,
    "start_time": "2024-08-21T07:37:02.883Z"
   },
   {
    "duration": 2597,
    "start_time": "2024-08-21T07:37:02.892Z"
   },
   {
    "duration": 5,
    "start_time": "2024-08-21T07:37:05.491Z"
   },
   {
    "duration": 8,
    "start_time": "2024-08-21T07:37:05.497Z"
   },
   {
    "duration": 75,
    "start_time": "2024-08-21T07:37:05.506Z"
   },
   {
    "duration": 580,
    "start_time": "2024-08-21T07:37:05.583Z"
   },
   {
    "duration": 37,
    "start_time": "2024-08-21T07:37:06.165Z"
   },
   {
    "duration": 17,
    "start_time": "2024-08-21T07:37:06.204Z"
   },
   {
    "duration": 17,
    "start_time": "2024-08-21T07:37:06.222Z"
   },
   {
    "duration": 53,
    "start_time": "2024-08-21T07:37:06.241Z"
   },
   {
    "duration": 179,
    "start_time": "2024-08-21T07:37:06.296Z"
   },
   {
    "duration": 25,
    "start_time": "2024-08-21T07:37:06.478Z"
   },
   {
    "duration": 12,
    "start_time": "2024-08-21T07:37:06.504Z"
   },
   {
    "duration": 57,
    "start_time": "2024-08-21T07:37:06.517Z"
   },
   {
    "duration": 12,
    "start_time": "2024-08-21T07:37:06.576Z"
   },
   {
    "duration": 38,
    "start_time": "2024-08-21T07:37:06.590Z"
   },
   {
    "duration": 710,
    "start_time": "2024-08-21T07:37:06.630Z"
   },
   {
    "duration": 12,
    "start_time": "2024-08-21T07:37:07.342Z"
   },
   {
    "duration": 21,
    "start_time": "2024-08-21T07:37:07.356Z"
   },
   {
    "duration": 55,
    "start_time": "2024-08-21T07:37:07.379Z"
   },
   {
    "duration": 17,
    "start_time": "2024-08-21T07:37:07.435Z"
   },
   {
    "duration": 298,
    "start_time": "2024-08-21T07:37:07.454Z"
   },
   {
    "duration": 30,
    "start_time": "2024-08-21T07:37:07.753Z"
   },
   {
    "duration": 26,
    "start_time": "2024-08-21T07:37:07.785Z"
   },
   {
    "duration": 69,
    "start_time": "2024-08-21T07:37:07.813Z"
   },
   {
    "duration": 68,
    "start_time": "2024-08-21T07:37:07.884Z"
   },
   {
    "duration": 40,
    "start_time": "2024-08-21T07:37:07.954Z"
   },
   {
    "duration": 100,
    "start_time": "2024-08-21T07:37:07.996Z"
   },
   {
    "duration": 76,
    "start_time": "2024-08-21T07:37:08.097Z"
   },
   {
    "duration": 37,
    "start_time": "2024-08-21T07:37:08.174Z"
   },
   {
    "duration": 76,
    "start_time": "2024-08-21T07:37:08.212Z"
   },
   {
    "duration": 47,
    "start_time": "2024-08-21T07:37:08.290Z"
   },
   {
    "duration": 3,
    "start_time": "2024-08-21T07:37:08.352Z"
   },
   {
    "duration": 12398,
    "start_time": "2024-08-21T07:37:08.357Z"
   },
   {
    "duration": 88,
    "start_time": "2024-08-21T07:38:30.681Z"
   },
   {
    "duration": 1455,
    "start_time": "2024-08-21T07:53:51.587Z"
   },
   {
    "duration": 13,
    "start_time": "2024-08-21T07:53:53.044Z"
   },
   {
    "duration": 974,
    "start_time": "2024-08-21T07:53:53.058Z"
   },
   {
    "duration": 2383,
    "start_time": "2024-08-21T07:53:54.035Z"
   },
   {
    "duration": 5,
    "start_time": "2024-08-21T07:53:56.420Z"
   },
   {
    "duration": 5,
    "start_time": "2024-08-21T07:53:56.426Z"
   },
   {
    "duration": 71,
    "start_time": "2024-08-21T07:53:56.432Z"
   },
   {
    "duration": 535,
    "start_time": "2024-08-21T07:53:56.505Z"
   },
   {
    "duration": 36,
    "start_time": "2024-08-21T07:53:57.041Z"
   },
   {
    "duration": 11,
    "start_time": "2024-08-21T07:53:57.079Z"
   },
   {
    "duration": 9,
    "start_time": "2024-08-21T07:53:57.092Z"
   },
   {
    "duration": 67,
    "start_time": "2024-08-21T07:53:57.102Z"
   },
   {
    "duration": 178,
    "start_time": "2024-08-21T07:53:57.171Z"
   },
   {
    "duration": 25,
    "start_time": "2024-08-21T07:53:57.351Z"
   },
   {
    "duration": 9,
    "start_time": "2024-08-21T07:53:57.377Z"
   },
   {
    "duration": 35,
    "start_time": "2024-08-21T07:53:57.387Z"
   },
   {
    "duration": 44,
    "start_time": "2024-08-21T07:53:57.424Z"
   },
   {
    "duration": 10,
    "start_time": "2024-08-21T07:53:57.470Z"
   },
   {
    "duration": 712,
    "start_time": "2024-08-21T07:53:57.482Z"
   },
   {
    "duration": 10,
    "start_time": "2024-08-21T07:53:58.196Z"
   },
   {
    "duration": 6,
    "start_time": "2024-08-21T07:53:58.207Z"
   },
   {
    "duration": 16,
    "start_time": "2024-08-21T07:53:58.215Z"
   },
   {
    "duration": 30,
    "start_time": "2024-08-21T07:53:58.233Z"
   },
   {
    "duration": 296,
    "start_time": "2024-08-21T07:53:58.264Z"
   },
   {
    "duration": 27,
    "start_time": "2024-08-21T07:53:58.562Z"
   },
   {
    "duration": 26,
    "start_time": "2024-08-21T07:53:58.592Z"
   },
   {
    "duration": 80,
    "start_time": "2024-08-21T07:53:58.620Z"
   },
   {
    "duration": 68,
    "start_time": "2024-08-21T07:53:58.703Z"
   },
   {
    "duration": 36,
    "start_time": "2024-08-21T07:53:58.773Z"
   },
   {
    "duration": 78,
    "start_time": "2024-08-21T07:53:58.811Z"
   },
   {
    "duration": 72,
    "start_time": "2024-08-21T07:53:58.891Z"
   },
   {
    "duration": 46,
    "start_time": "2024-08-21T07:53:58.965Z"
   },
   {
    "duration": 85,
    "start_time": "2024-08-21T07:53:59.013Z"
   },
   {
    "duration": 59,
    "start_time": "2024-08-21T07:53:59.100Z"
   },
   {
    "duration": 6,
    "start_time": "2024-08-21T07:53:59.161Z"
   },
   {
    "duration": 13449,
    "start_time": "2024-08-21T07:53:59.169Z"
   },
   {
    "duration": 96,
    "start_time": "2024-08-21T07:54:12.620Z"
   },
   {
    "duration": 7,
    "start_time": "2024-08-21T07:55:29.473Z"
   },
   {
    "duration": 1484,
    "start_time": "2024-08-21T07:55:33.812Z"
   },
   {
    "duration": 9,
    "start_time": "2024-08-21T07:55:35.297Z"
   },
   {
    "duration": 937,
    "start_time": "2024-08-21T07:55:35.308Z"
   },
   {
    "duration": 2155,
    "start_time": "2024-08-21T07:55:36.247Z"
   },
   {
    "duration": 5,
    "start_time": "2024-08-21T07:55:38.405Z"
   },
   {
    "duration": 6,
    "start_time": "2024-08-21T07:55:38.411Z"
   },
   {
    "duration": 76,
    "start_time": "2024-08-21T07:55:38.419Z"
   },
   {
    "duration": 555,
    "start_time": "2024-08-21T07:55:38.497Z"
   },
   {
    "duration": 40,
    "start_time": "2024-08-21T07:55:39.053Z"
   },
   {
    "duration": 17,
    "start_time": "2024-08-21T07:55:39.095Z"
   },
   {
    "duration": 19,
    "start_time": "2024-08-21T07:55:39.114Z"
   },
   {
    "duration": 58,
    "start_time": "2024-08-21T07:55:39.135Z"
   },
   {
    "duration": 168,
    "start_time": "2024-08-21T07:55:39.195Z"
   },
   {
    "duration": 23,
    "start_time": "2024-08-21T07:55:39.366Z"
   },
   {
    "duration": 12,
    "start_time": "2024-08-21T07:55:39.391Z"
   },
   {
    "duration": 70,
    "start_time": "2024-08-21T07:55:39.404Z"
   },
   {
    "duration": 12,
    "start_time": "2024-08-21T07:55:39.476Z"
   },
   {
    "duration": 9,
    "start_time": "2024-08-21T07:55:39.489Z"
   },
   {
    "duration": 679,
    "start_time": "2024-08-21T07:55:39.500Z"
   },
   {
    "duration": 8,
    "start_time": "2024-08-21T07:55:40.181Z"
   },
   {
    "duration": 6,
    "start_time": "2024-08-21T07:55:40.190Z"
   },
   {
    "duration": 19,
    "start_time": "2024-08-21T07:55:40.198Z"
   },
   {
    "duration": 18,
    "start_time": "2024-08-21T07:55:40.219Z"
   },
   {
    "duration": 309,
    "start_time": "2024-08-21T07:55:40.251Z"
   },
   {
    "duration": 30,
    "start_time": "2024-08-21T07:55:40.561Z"
   },
   {
    "duration": 26,
    "start_time": "2024-08-21T07:55:40.593Z"
   },
   {
    "duration": 82,
    "start_time": "2024-08-21T07:55:40.620Z"
   },
   {
    "duration": 67,
    "start_time": "2024-08-21T07:55:40.703Z"
   },
   {
    "duration": 37,
    "start_time": "2024-08-21T07:55:40.772Z"
   },
   {
    "duration": 84,
    "start_time": "2024-08-21T07:55:40.811Z"
   },
   {
    "duration": 123,
    "start_time": "2024-08-21T07:55:40.952Z"
   },
   {
    "duration": 97,
    "start_time": "2024-08-21T07:55:41.076Z"
   },
   {
    "duration": 183,
    "start_time": "2024-08-21T07:55:41.175Z"
   },
   {
    "duration": 105,
    "start_time": "2024-08-21T07:55:41.360Z"
   },
   {
    "duration": 8,
    "start_time": "2024-08-21T07:55:41.467Z"
   },
   {
    "duration": 14220,
    "start_time": "2024-08-21T07:55:41.477Z"
   },
   {
    "duration": 97,
    "start_time": "2024-08-21T07:55:55.698Z"
   },
   {
    "duration": 183,
    "start_time": "2024-08-21T11:47:13.948Z"
   },
   {
    "duration": 1498,
    "start_time": "2024-08-21T11:49:29.878Z"
   },
   {
    "duration": 8,
    "start_time": "2024-08-21T11:49:31.378Z"
   },
   {
    "duration": 943,
    "start_time": "2024-08-21T11:49:31.388Z"
   },
   {
    "duration": 2215,
    "start_time": "2024-08-21T11:49:32.332Z"
   },
   {
    "duration": 5,
    "start_time": "2024-08-21T11:49:34.551Z"
   },
   {
    "duration": 33,
    "start_time": "2024-08-21T11:49:34.557Z"
   },
   {
    "duration": 64,
    "start_time": "2024-08-21T11:49:34.592Z"
   },
   {
    "duration": 562,
    "start_time": "2024-08-21T11:49:34.658Z"
   },
   {
    "duration": 40,
    "start_time": "2024-08-21T11:49:35.221Z"
   },
   {
    "duration": 32,
    "start_time": "2024-08-21T11:49:35.262Z"
   },
   {
    "duration": 10,
    "start_time": "2024-08-21T11:49:35.295Z"
   },
   {
    "duration": 42,
    "start_time": "2024-08-21T11:49:35.306Z"
   },
   {
    "duration": 178,
    "start_time": "2024-08-21T11:49:35.349Z"
   },
   {
    "duration": 33,
    "start_time": "2024-08-21T11:49:35.530Z"
   },
   {
    "duration": 11,
    "start_time": "2024-08-21T11:49:35.565Z"
   },
   {
    "duration": 61,
    "start_time": "2024-08-21T11:49:35.578Z"
   },
   {
    "duration": 12,
    "start_time": "2024-08-21T11:49:35.640Z"
   },
   {
    "duration": 12,
    "start_time": "2024-08-21T11:49:35.654Z"
   },
   {
    "duration": 678,
    "start_time": "2024-08-21T11:49:35.667Z"
   },
   {
    "duration": 13,
    "start_time": "2024-08-21T11:49:36.346Z"
   },
   {
    "duration": 4,
    "start_time": "2024-08-21T11:49:36.361Z"
   },
   {
    "duration": 11,
    "start_time": "2024-08-21T11:49:36.366Z"
   },
   {
    "duration": 22,
    "start_time": "2024-08-21T11:49:36.378Z"
   },
   {
    "duration": 322,
    "start_time": "2024-08-21T11:49:36.401Z"
   },
   {
    "duration": 42,
    "start_time": "2024-08-21T11:49:36.724Z"
   },
   {
    "duration": 26,
    "start_time": "2024-08-21T11:49:36.768Z"
   },
   {
    "duration": 72,
    "start_time": "2024-08-21T11:49:36.795Z"
   },
   {
    "duration": 55,
    "start_time": "2024-08-21T11:49:36.869Z"
   },
   {
    "duration": 53,
    "start_time": "2024-08-21T11:49:36.926Z"
   },
   {
    "duration": 54,
    "start_time": "2024-08-21T11:49:36.981Z"
   },
   {
    "duration": 82,
    "start_time": "2024-08-21T11:49:37.037Z"
   },
   {
    "duration": 46,
    "start_time": "2024-08-21T11:49:37.121Z"
   },
   {
    "duration": 85,
    "start_time": "2024-08-21T11:49:37.169Z"
   },
   {
    "duration": 50,
    "start_time": "2024-08-21T11:49:37.256Z"
   },
   {
    "duration": 2,
    "start_time": "2024-08-21T11:49:37.308Z"
   },
   {
    "duration": 13771,
    "start_time": "2024-08-21T11:49:37.312Z"
   },
   {
    "duration": 96,
    "start_time": "2024-08-21T11:49:51.084Z"
   },
   {
    "duration": 1613,
    "start_time": "2024-08-21T12:14:45.130Z"
   },
   {
    "duration": 9,
    "start_time": "2024-08-21T12:14:46.745Z"
   },
   {
    "duration": 992,
    "start_time": "2024-08-21T12:14:46.761Z"
   },
   {
    "duration": 2271,
    "start_time": "2024-08-21T12:14:47.754Z"
   },
   {
    "duration": 5,
    "start_time": "2024-08-21T12:14:50.026Z"
   },
   {
    "duration": 44,
    "start_time": "2024-08-21T12:14:50.032Z"
   },
   {
    "duration": 61,
    "start_time": "2024-08-21T12:14:50.079Z"
   },
   {
    "duration": 595,
    "start_time": "2024-08-21T12:14:50.142Z"
   },
   {
    "duration": 46,
    "start_time": "2024-08-21T12:14:50.740Z"
   },
   {
    "duration": 14,
    "start_time": "2024-08-21T12:14:50.787Z"
   },
   {
    "duration": 31,
    "start_time": "2024-08-21T12:14:50.803Z"
   },
   {
    "duration": 56,
    "start_time": "2024-08-21T12:14:50.836Z"
   },
   {
    "duration": 24,
    "start_time": "2024-08-21T12:14:50.894Z"
   },
   {
    "duration": 8,
    "start_time": "2024-08-21T12:14:50.920Z"
   },
   {
    "duration": 65,
    "start_time": "2024-08-21T12:14:50.930Z"
   },
   {
    "duration": 26,
    "start_time": "2024-08-21T12:14:50.997Z"
   },
   {
    "duration": 15,
    "start_time": "2024-08-21T12:14:51.025Z"
   },
   {
    "duration": 16,
    "start_time": "2024-08-21T12:14:51.053Z"
   },
   {
    "duration": 728,
    "start_time": "2024-08-21T12:14:51.072Z"
   },
   {
    "duration": 9,
    "start_time": "2024-08-21T12:14:51.801Z"
   },
   {
    "duration": 13,
    "start_time": "2024-08-21T12:14:51.812Z"
   },
   {
    "duration": 19,
    "start_time": "2024-08-21T12:14:51.827Z"
   },
   {
    "duration": 35,
    "start_time": "2024-08-21T12:14:51.847Z"
   },
   {
    "duration": 372,
    "start_time": "2024-08-21T12:14:51.885Z"
   },
   {
    "duration": 33,
    "start_time": "2024-08-21T12:14:52.260Z"
   },
   {
    "duration": 24,
    "start_time": "2024-08-21T12:14:52.295Z"
   },
   {
    "duration": 91,
    "start_time": "2024-08-21T12:14:52.322Z"
   },
   {
    "duration": 67,
    "start_time": "2024-08-21T12:14:52.415Z"
   },
   {
    "duration": 37,
    "start_time": "2024-08-21T12:14:52.484Z"
   },
   {
    "duration": 63,
    "start_time": "2024-08-21T12:14:52.522Z"
   },
   {
    "duration": 78,
    "start_time": "2024-08-21T12:14:52.587Z"
   },
   {
    "duration": 37,
    "start_time": "2024-08-21T12:14:52.667Z"
   },
   {
    "duration": 87,
    "start_time": "2024-08-21T12:14:52.706Z"
   },
   {
    "duration": 63,
    "start_time": "2024-08-21T12:14:52.795Z"
   },
   {
    "duration": 17,
    "start_time": "2024-08-21T12:14:52.860Z"
   },
   {
    "duration": 14139,
    "start_time": "2024-08-21T12:14:52.879Z"
   },
   {
    "duration": 116,
    "start_time": "2024-08-21T12:15:07.020Z"
   },
   {
    "duration": 24,
    "start_time": "2024-08-21T12:25:48.626Z"
   },
   {
    "duration": 1493,
    "start_time": "2024-08-21T12:26:01.087Z"
   },
   {
    "duration": 8,
    "start_time": "2024-08-21T12:26:02.582Z"
   },
   {
    "duration": 918,
    "start_time": "2024-08-21T12:26:02.592Z"
   },
   {
    "duration": 2149,
    "start_time": "2024-08-21T12:26:03.512Z"
   },
   {
    "duration": 5,
    "start_time": "2024-08-21T12:26:05.663Z"
   },
   {
    "duration": 7,
    "start_time": "2024-08-21T12:26:05.670Z"
   },
   {
    "duration": 76,
    "start_time": "2024-08-21T12:26:05.678Z"
   },
   {
    "duration": 543,
    "start_time": "2024-08-21T12:26:05.755Z"
   },
   {
    "duration": 37,
    "start_time": "2024-08-21T12:26:06.300Z"
   },
   {
    "duration": 19,
    "start_time": "2024-08-21T12:26:06.339Z"
   },
   {
    "duration": 11,
    "start_time": "2024-08-21T12:26:06.359Z"
   },
   {
    "duration": 40,
    "start_time": "2024-08-21T12:26:06.371Z"
   },
   {
    "duration": 48,
    "start_time": "2024-08-21T12:26:06.413Z"
   },
   {
    "duration": 10,
    "start_time": "2024-08-21T12:26:06.464Z"
   },
   {
    "duration": 35,
    "start_time": "2024-08-21T12:26:06.476Z"
   },
   {
    "duration": 48,
    "start_time": "2024-08-21T12:26:06.512Z"
   },
   {
    "duration": 25,
    "start_time": "2024-08-21T12:26:06.561Z"
   },
   {
    "duration": 12,
    "start_time": "2024-08-21T12:26:06.588Z"
   },
   {
    "duration": 3,
    "start_time": "2024-08-21T12:26:06.601Z"
   },
   {
    "duration": 686,
    "start_time": "2024-08-21T12:26:06.606Z"
   },
   {
    "duration": 8,
    "start_time": "2024-08-21T12:26:07.294Z"
   },
   {
    "duration": 4,
    "start_time": "2024-08-21T12:26:07.303Z"
   },
   {
    "duration": 9,
    "start_time": "2024-08-21T12:26:07.308Z"
   },
   {
    "duration": 65,
    "start_time": "2024-08-21T12:26:07.319Z"
   },
   {
    "duration": 293,
    "start_time": "2024-08-21T12:26:07.385Z"
   },
   {
    "duration": 32,
    "start_time": "2024-08-21T12:26:07.679Z"
   },
   {
    "duration": 40,
    "start_time": "2024-08-21T12:26:07.713Z"
   },
   {
    "duration": 52,
    "start_time": "2024-08-21T12:26:07.754Z"
   },
   {
    "duration": 68,
    "start_time": "2024-08-21T12:26:07.808Z"
   },
   {
    "duration": 36,
    "start_time": "2024-08-21T12:26:07.877Z"
   },
   {
    "duration": 62,
    "start_time": "2024-08-21T12:26:07.914Z"
   },
   {
    "duration": 76,
    "start_time": "2024-08-21T12:26:07.977Z"
   },
   {
    "duration": 36,
    "start_time": "2024-08-21T12:26:08.054Z"
   },
   {
    "duration": 86,
    "start_time": "2024-08-21T12:26:08.091Z"
   },
   {
    "duration": 58,
    "start_time": "2024-08-21T12:26:08.178Z"
   },
   {
    "duration": 15,
    "start_time": "2024-08-21T12:26:08.237Z"
   },
   {
    "duration": 12515,
    "start_time": "2024-08-21T12:26:08.253Z"
   },
   {
    "duration": 93,
    "start_time": "2024-08-21T12:26:20.769Z"
   },
   {
    "duration": 279,
    "start_time": "2024-08-21T12:37:40.783Z"
   },
   {
    "duration": 393,
    "start_time": "2024-08-21T12:38:45.330Z"
   },
   {
    "duration": 298,
    "start_time": "2024-08-21T12:38:57.331Z"
   },
   {
    "duration": 1457,
    "start_time": "2024-08-21T12:39:09.304Z"
   },
   {
    "duration": 8,
    "start_time": "2024-08-21T12:39:10.763Z"
   },
   {
    "duration": 912,
    "start_time": "2024-08-21T12:39:10.773Z"
   },
   {
    "duration": 2074,
    "start_time": "2024-08-21T12:39:11.687Z"
   },
   {
    "duration": 5,
    "start_time": "2024-08-21T12:39:13.762Z"
   },
   {
    "duration": 14,
    "start_time": "2024-08-21T12:39:13.769Z"
   },
   {
    "duration": 67,
    "start_time": "2024-08-21T12:39:13.785Z"
   },
   {
    "duration": 548,
    "start_time": "2024-08-21T12:39:13.854Z"
   },
   {
    "duration": 31,
    "start_time": "2024-08-21T12:39:14.404Z"
   },
   {
    "duration": 19,
    "start_time": "2024-08-21T12:39:14.438Z"
   },
   {
    "duration": 20,
    "start_time": "2024-08-21T12:39:14.458Z"
   },
   {
    "duration": 38,
    "start_time": "2024-08-21T12:39:14.479Z"
   },
   {
    "duration": 41,
    "start_time": "2024-08-21T12:39:14.519Z"
   },
   {
    "duration": 9,
    "start_time": "2024-08-21T12:39:14.561Z"
   },
   {
    "duration": 35,
    "start_time": "2024-08-21T12:39:14.572Z"
   },
   {
    "duration": 47,
    "start_time": "2024-08-21T12:39:14.608Z"
   },
   {
    "duration": 25,
    "start_time": "2024-08-21T12:39:14.656Z"
   },
   {
    "duration": 12,
    "start_time": "2024-08-21T12:39:14.683Z"
   },
   {
    "duration": 2,
    "start_time": "2024-08-21T12:39:14.697Z"
   },
   {
    "duration": 694,
    "start_time": "2024-08-21T12:39:14.701Z"
   },
   {
    "duration": 8,
    "start_time": "2024-08-21T12:39:15.397Z"
   },
   {
    "duration": 17,
    "start_time": "2024-08-21T12:39:15.406Z"
   },
   {
    "duration": 14,
    "start_time": "2024-08-21T12:39:15.424Z"
   },
   {
    "duration": 26,
    "start_time": "2024-08-21T12:39:15.439Z"
   },
   {
    "duration": 319,
    "start_time": "2024-08-21T12:39:15.466Z"
   },
   {
    "duration": 26,
    "start_time": "2024-08-21T12:39:15.786Z"
   },
   {
    "duration": 42,
    "start_time": "2024-08-21T12:39:15.813Z"
   },
   {
    "duration": 54,
    "start_time": "2024-08-21T12:39:15.858Z"
   },
   {
    "duration": 68,
    "start_time": "2024-08-21T12:39:15.914Z"
   },
   {
    "duration": 35,
    "start_time": "2024-08-21T12:39:15.983Z"
   },
   {
    "duration": 64,
    "start_time": "2024-08-21T12:39:16.020Z"
   },
   {
    "duration": 77,
    "start_time": "2024-08-21T12:39:16.086Z"
   },
   {
    "duration": 35,
    "start_time": "2024-08-21T12:39:16.164Z"
   },
   {
    "duration": 86,
    "start_time": "2024-08-21T12:39:16.201Z"
   },
   {
    "duration": 49,
    "start_time": "2024-08-21T12:39:16.288Z"
   },
   {
    "duration": 14,
    "start_time": "2024-08-21T12:39:16.338Z"
   },
   {
    "duration": 12359,
    "start_time": "2024-08-21T12:39:16.354Z"
   },
   {
    "duration": 97,
    "start_time": "2024-08-21T12:39:28.715Z"
   },
   {
    "duration": 4,
    "start_time": "2024-08-21T20:45:08.088Z"
   },
   {
    "duration": 3,
    "start_time": "2024-08-21T20:49:15.671Z"
   },
   {
    "duration": 3,
    "start_time": "2024-08-21T20:52:10.567Z"
   },
   {
    "duration": 11,
    "start_time": "2024-08-21T20:52:19.626Z"
   },
   {
    "duration": 12,
    "start_time": "2024-08-21T20:52:40.286Z"
   },
   {
    "duration": 111,
    "start_time": "2024-08-21T20:52:57.328Z"
   },
   {
    "duration": 21,
    "start_time": "2024-08-21T20:53:06.813Z"
   },
   {
    "duration": 31,
    "start_time": "2024-08-21T20:53:22.873Z"
   },
   {
    "duration": 4,
    "start_time": "2024-08-21T20:55:33.162Z"
   },
   {
    "duration": 24,
    "start_time": "2024-08-21T21:36:38.182Z"
   },
   {
    "duration": 62,
    "start_time": "2024-08-21T21:37:05.400Z"
   },
   {
    "duration": 405,
    "start_time": "2024-08-21T21:37:21.583Z"
   },
   {
    "duration": 439,
    "start_time": "2024-08-21T21:37:34.313Z"
   },
   {
    "duration": 15,
    "start_time": "2024-08-21T21:37:51.046Z"
   },
   {
    "duration": 16,
    "start_time": "2024-08-21T21:38:06.189Z"
   },
   {
    "duration": 13,
    "start_time": "2024-08-21T21:38:24.010Z"
   },
   {
    "duration": 13,
    "start_time": "2024-08-21T21:44:51.383Z"
   },
   {
    "duration": 12,
    "start_time": "2024-08-21T21:46:07.778Z"
   },
   {
    "duration": 16,
    "start_time": "2024-08-21T21:47:52.963Z"
   },
   {
    "duration": 12,
    "start_time": "2024-08-21T21:48:17.698Z"
   },
   {
    "duration": 4,
    "start_time": "2024-08-21T21:49:36.338Z"
   },
   {
    "duration": 12,
    "start_time": "2024-08-21T21:50:54.642Z"
   },
   {
    "duration": 24,
    "start_time": "2024-08-21T21:51:13.285Z"
   },
   {
    "duration": 3,
    "start_time": "2024-08-21T21:51:18.468Z"
   },
   {
    "duration": 18,
    "start_time": "2024-08-21T21:51:30.714Z"
   },
   {
    "duration": 36,
    "start_time": "2024-08-21T21:52:32.540Z"
   },
   {
    "duration": 19,
    "start_time": "2024-08-21T21:52:36.497Z"
   },
   {
    "duration": 40,
    "start_time": "2024-08-21T21:53:27.517Z"
   },
   {
    "duration": 43,
    "start_time": "2024-08-21T21:54:32.759Z"
   },
   {
    "duration": 26,
    "start_time": "2024-08-21T21:54:53.866Z"
   },
   {
    "duration": 18,
    "start_time": "2024-08-21T21:54:57.593Z"
   },
   {
    "duration": 56,
    "start_time": "2024-08-21T21:57:47.077Z"
   },
   {
    "duration": 1368,
    "start_time": "2024-08-21T21:58:03.278Z"
   },
   {
    "duration": 1339,
    "start_time": "2024-08-21T22:13:35.468Z"
   },
   {
    "duration": 614,
    "start_time": "2024-08-21T22:18:11.071Z"
   },
   {
    "duration": 13,
    "start_time": "2024-08-21T22:29:22.692Z"
   },
   {
    "duration": 1521,
    "start_time": "2024-08-21T22:29:46.273Z"
   },
   {
    "duration": 8,
    "start_time": "2024-08-21T22:29:47.796Z"
   },
   {
    "duration": 941,
    "start_time": "2024-08-21T22:29:47.805Z"
   },
   {
    "duration": 2104,
    "start_time": "2024-08-21T22:29:48.748Z"
   },
   {
    "duration": 4,
    "start_time": "2024-08-21T22:29:50.854Z"
   },
   {
    "duration": 8,
    "start_time": "2024-08-21T22:29:50.860Z"
   },
   {
    "duration": 63,
    "start_time": "2024-08-21T22:29:50.870Z"
   },
   {
    "duration": 579,
    "start_time": "2024-08-21T22:29:50.934Z"
   },
   {
    "duration": 41,
    "start_time": "2024-08-21T22:29:51.515Z"
   },
   {
    "duration": 12,
    "start_time": "2024-08-21T22:29:51.559Z"
   },
   {
    "duration": 16,
    "start_time": "2024-08-21T22:29:51.573Z"
   },
   {
    "duration": 52,
    "start_time": "2024-08-21T22:29:51.590Z"
   },
   {
    "duration": 28,
    "start_time": "2024-08-21T22:29:51.643Z"
   },
   {
    "duration": 12,
    "start_time": "2024-08-21T22:29:51.672Z"
   },
   {
    "duration": 80,
    "start_time": "2024-08-21T22:29:51.686Z"
   },
   {
    "duration": 27,
    "start_time": "2024-08-21T22:29:51.768Z"
   },
   {
    "duration": 25,
    "start_time": "2024-08-21T22:29:51.797Z"
   },
   {
    "duration": 29,
    "start_time": "2024-08-21T22:29:51.824Z"
   },
   {
    "duration": 25,
    "start_time": "2024-08-21T22:29:51.855Z"
   },
   {
    "duration": 670,
    "start_time": "2024-08-21T22:29:51.882Z"
   },
   {
    "duration": 8,
    "start_time": "2024-08-21T22:29:52.553Z"
   },
   {
    "duration": 4,
    "start_time": "2024-08-21T22:29:52.563Z"
   },
   {
    "duration": 12,
    "start_time": "2024-08-21T22:29:52.569Z"
   },
   {
    "duration": 19,
    "start_time": "2024-08-21T22:29:52.582Z"
   },
   {
    "duration": 333,
    "start_time": "2024-08-21T22:29:52.602Z"
   },
   {
    "duration": 36,
    "start_time": "2024-08-21T22:29:52.936Z"
   },
   {
    "duration": 52,
    "start_time": "2024-08-21T22:29:52.974Z"
   },
   {
    "duration": 55,
    "start_time": "2024-08-21T22:29:53.029Z"
   },
   {
    "duration": 54,
    "start_time": "2024-08-21T22:29:53.085Z"
   },
   {
    "duration": 36,
    "start_time": "2024-08-21T22:29:53.152Z"
   },
   {
    "duration": 59,
    "start_time": "2024-08-21T22:29:53.190Z"
   },
   {
    "duration": 67,
    "start_time": "2024-08-21T22:29:53.252Z"
   },
   {
    "duration": 48,
    "start_time": "2024-08-21T22:29:53.321Z"
   },
   {
    "duration": 82,
    "start_time": "2024-08-21T22:29:53.371Z"
   },
   {
    "duration": 52,
    "start_time": "2024-08-21T22:29:53.455Z"
   },
   {
    "duration": 7,
    "start_time": "2024-08-21T22:29:53.509Z"
   },
   {
    "duration": 12530,
    "start_time": "2024-08-21T22:29:53.518Z"
   },
   {
    "duration": 103,
    "start_time": "2024-08-21T22:30:06.049Z"
   },
   {
    "duration": 4,
    "start_time": "2024-08-21T22:30:06.154Z"
   },
   {
    "duration": 4,
    "start_time": "2024-08-21T22:30:06.159Z"
   },
   {
    "duration": 29,
    "start_time": "2024-08-21T22:30:06.164Z"
   },
   {
    "duration": 663,
    "start_time": "2024-08-21T22:30:06.195Z"
   },
   {
    "duration": 1498,
    "start_time": "2024-08-21T22:33:50.166Z"
   },
   {
    "duration": 7,
    "start_time": "2024-08-21T22:33:51.666Z"
   },
   {
    "duration": 919,
    "start_time": "2024-08-21T22:33:51.675Z"
   },
   {
    "duration": 2185,
    "start_time": "2024-08-21T22:33:52.595Z"
   },
   {
    "duration": 5,
    "start_time": "2024-08-21T22:33:54.782Z"
   },
   {
    "duration": 11,
    "start_time": "2024-08-21T22:33:54.788Z"
   },
   {
    "duration": 71,
    "start_time": "2024-08-21T22:33:54.800Z"
   },
   {
    "duration": 562,
    "start_time": "2024-08-21T22:33:54.872Z"
   },
   {
    "duration": 41,
    "start_time": "2024-08-21T22:33:55.436Z"
   },
   {
    "duration": 11,
    "start_time": "2024-08-21T22:33:55.478Z"
   },
   {
    "duration": 31,
    "start_time": "2024-08-21T22:33:55.490Z"
   },
   {
    "duration": 42,
    "start_time": "2024-08-21T22:33:55.523Z"
   },
   {
    "duration": 23,
    "start_time": "2024-08-21T22:33:55.566Z"
   },
   {
    "duration": 11,
    "start_time": "2024-08-21T22:33:55.592Z"
   },
   {
    "duration": 55,
    "start_time": "2024-08-21T22:33:55.605Z"
   },
   {
    "duration": 26,
    "start_time": "2024-08-21T22:33:55.662Z"
   },
   {
    "duration": 26,
    "start_time": "2024-08-21T22:33:55.690Z"
   },
   {
    "duration": 36,
    "start_time": "2024-08-21T22:33:55.717Z"
   },
   {
    "duration": 3,
    "start_time": "2024-08-21T22:33:55.754Z"
   },
   {
    "duration": 699,
    "start_time": "2024-08-21T22:33:55.759Z"
   },
   {
    "duration": 8,
    "start_time": "2024-08-21T22:33:56.459Z"
   },
   {
    "duration": 3,
    "start_time": "2024-08-21T22:33:56.469Z"
   },
   {
    "duration": 17,
    "start_time": "2024-08-21T22:33:56.474Z"
   },
   {
    "duration": 18,
    "start_time": "2024-08-21T22:33:56.492Z"
   },
   {
    "duration": 352,
    "start_time": "2024-08-21T22:33:56.511Z"
   },
   {
    "duration": 32,
    "start_time": "2024-08-21T22:33:56.865Z"
   },
   {
    "duration": 26,
    "start_time": "2024-08-21T22:33:56.899Z"
   },
   {
    "duration": 71,
    "start_time": "2024-08-21T22:33:56.926Z"
   },
   {
    "duration": 62,
    "start_time": "2024-08-21T22:33:56.998Z"
   },
   {
    "duration": 36,
    "start_time": "2024-08-21T22:33:57.061Z"
   },
   {
    "duration": 62,
    "start_time": "2024-08-21T22:33:57.099Z"
   },
   {
    "duration": 69,
    "start_time": "2024-08-21T22:33:57.162Z"
   },
   {
    "duration": 49,
    "start_time": "2024-08-21T22:33:57.233Z"
   },
   {
    "duration": 82,
    "start_time": "2024-08-21T22:33:57.284Z"
   },
   {
    "duration": 49,
    "start_time": "2024-08-21T22:33:57.368Z"
   },
   {
    "duration": 7,
    "start_time": "2024-08-21T22:33:57.419Z"
   },
   {
    "duration": 13475,
    "start_time": "2024-08-21T22:33:57.428Z"
   },
   {
    "duration": 87,
    "start_time": "2024-08-21T22:34:10.904Z"
   },
   {
    "duration": 8,
    "start_time": "2024-08-21T22:34:10.992Z"
   },
   {
    "duration": 3,
    "start_time": "2024-08-21T22:34:11.001Z"
   },
   {
    "duration": 24,
    "start_time": "2024-08-21T22:34:11.008Z"
   },
   {
    "duration": 691,
    "start_time": "2024-08-21T22:34:11.034Z"
   },
   {
    "duration": 579,
    "start_time": "2024-08-22T05:32:10.888Z"
   },
   {
    "duration": 4,
    "start_time": "2024-08-22T05:39:20.876Z"
   },
   {
    "duration": 16,
    "start_time": "2024-08-22T05:39:27.243Z"
   },
   {
    "duration": 681,
    "start_time": "2024-08-22T05:39:43.790Z"
   },
   {
    "duration": 248,
    "start_time": "2024-08-22T05:40:50.661Z"
   },
   {
    "duration": 116,
    "start_time": "2024-08-22T05:41:00.646Z"
   },
   {
    "duration": 1459,
    "start_time": "2024-08-22T05:42:52.286Z"
   },
   {
    "duration": 8,
    "start_time": "2024-08-22T05:42:53.747Z"
   },
   {
    "duration": 931,
    "start_time": "2024-08-22T05:42:53.756Z"
   },
   {
    "duration": 2063,
    "start_time": "2024-08-22T05:42:54.689Z"
   },
   {
    "duration": 5,
    "start_time": "2024-08-22T05:42:56.754Z"
   },
   {
    "duration": 10,
    "start_time": "2024-08-22T05:42:56.760Z"
   },
   {
    "duration": 56,
    "start_time": "2024-08-22T05:42:56.771Z"
   },
   {
    "duration": 558,
    "start_time": "2024-08-22T05:42:56.828Z"
   },
   {
    "duration": 36,
    "start_time": "2024-08-22T05:42:57.387Z"
   },
   {
    "duration": 11,
    "start_time": "2024-08-22T05:42:57.425Z"
   },
   {
    "duration": 10,
    "start_time": "2024-08-22T05:42:57.452Z"
   },
   {
    "duration": 40,
    "start_time": "2024-08-22T05:42:57.463Z"
   },
   {
    "duration": 23,
    "start_time": "2024-08-22T05:42:57.505Z"
   },
   {
    "duration": 31,
    "start_time": "2024-08-22T05:42:57.530Z"
   },
   {
    "duration": 34,
    "start_time": "2024-08-22T05:42:57.563Z"
   },
   {
    "duration": 25,
    "start_time": "2024-08-22T05:42:57.599Z"
   },
   {
    "duration": 48,
    "start_time": "2024-08-22T05:42:57.626Z"
   },
   {
    "duration": 12,
    "start_time": "2024-08-22T05:42:57.676Z"
   },
   {
    "duration": 47,
    "start_time": "2024-08-22T05:42:57.689Z"
   },
   {
    "duration": 648,
    "start_time": "2024-08-22T05:42:57.737Z"
   },
   {
    "duration": 8,
    "start_time": "2024-08-22T05:42:58.387Z"
   },
   {
    "duration": 4,
    "start_time": "2024-08-22T05:42:58.396Z"
   },
   {
    "duration": 10,
    "start_time": "2024-08-22T05:42:58.402Z"
   },
   {
    "duration": 42,
    "start_time": "2024-08-22T05:42:58.413Z"
   },
   {
    "duration": 314,
    "start_time": "2024-08-22T05:42:58.457Z"
   },
   {
    "duration": 32,
    "start_time": "2024-08-22T05:42:58.772Z"
   },
   {
    "duration": 25,
    "start_time": "2024-08-22T05:42:58.805Z"
   },
   {
    "duration": 53,
    "start_time": "2024-08-22T05:42:58.851Z"
   },
   {
    "duration": 69,
    "start_time": "2024-08-22T05:42:58.905Z"
   },
   {
    "duration": 34,
    "start_time": "2024-08-22T05:42:58.975Z"
   },
   {
    "duration": 58,
    "start_time": "2024-08-22T05:42:59.011Z"
   },
   {
    "duration": 79,
    "start_time": "2024-08-22T05:42:59.070Z"
   },
   {
    "duration": 36,
    "start_time": "2024-08-22T05:42:59.151Z"
   },
   {
    "duration": 77,
    "start_time": "2024-08-22T05:42:59.189Z"
   },
   {
    "duration": 47,
    "start_time": "2024-08-22T05:42:59.268Z"
   },
   {
    "duration": 3,
    "start_time": "2024-08-22T05:42:59.317Z"
   },
   {
    "duration": 13090,
    "start_time": "2024-08-22T05:42:59.321Z"
   },
   {
    "duration": 95,
    "start_time": "2024-08-22T05:43:12.412Z"
   },
   {
    "duration": 38,
    "start_time": "2024-08-22T05:43:12.508Z"
   },
   {
    "duration": 11,
    "start_time": "2024-08-22T05:43:12.547Z"
   },
   {
    "duration": 48,
    "start_time": "2024-08-22T05:43:12.560Z"
   },
   {
    "duration": 126,
    "start_time": "2024-08-22T05:43:12.609Z"
   },
   {
    "duration": 660,
    "start_time": "2024-08-22T05:43:12.737Z"
   },
   {
    "duration": 165,
    "start_time": "2024-08-22T05:44:49.144Z"
   },
   {
    "duration": 667,
    "start_time": "2024-08-22T05:49:49.593Z"
   },
   {
    "duration": 1393,
    "start_time": "2024-08-22T05:50:13.866Z"
   },
   {
    "duration": 7,
    "start_time": "2024-08-22T05:50:15.261Z"
   },
   {
    "duration": 918,
    "start_time": "2024-08-22T05:50:15.270Z"
   },
   {
    "duration": 2077,
    "start_time": "2024-08-22T05:50:16.190Z"
   },
   {
    "duration": 4,
    "start_time": "2024-08-22T05:50:18.269Z"
   },
   {
    "duration": 7,
    "start_time": "2024-08-22T05:50:18.274Z"
   },
   {
    "duration": 70,
    "start_time": "2024-08-22T05:50:18.282Z"
   },
   {
    "duration": 535,
    "start_time": "2024-08-22T05:50:18.353Z"
   },
   {
    "duration": 35,
    "start_time": "2024-08-22T05:50:18.890Z"
   },
   {
    "duration": 10,
    "start_time": "2024-08-22T05:50:18.928Z"
   },
   {
    "duration": 10,
    "start_time": "2024-08-22T05:50:18.952Z"
   },
   {
    "duration": 40,
    "start_time": "2024-08-22T05:50:18.963Z"
   },
   {
    "duration": 23,
    "start_time": "2024-08-22T05:50:19.004Z"
   },
   {
    "duration": 34,
    "start_time": "2024-08-22T05:50:19.028Z"
   },
   {
    "duration": 63,
    "start_time": "2024-08-22T05:50:19.063Z"
   },
   {
    "duration": 26,
    "start_time": "2024-08-22T05:50:19.128Z"
   },
   {
    "duration": 24,
    "start_time": "2024-08-22T05:50:19.156Z"
   },
   {
    "duration": 11,
    "start_time": "2024-08-22T05:50:19.182Z"
   },
   {
    "duration": 3,
    "start_time": "2024-08-22T05:50:19.195Z"
   },
   {
    "duration": 674,
    "start_time": "2024-08-22T05:50:19.199Z"
   },
   {
    "duration": 7,
    "start_time": "2024-08-22T05:50:19.875Z"
   },
   {
    "duration": 4,
    "start_time": "2024-08-22T05:50:19.884Z"
   },
   {
    "duration": 9,
    "start_time": "2024-08-22T05:50:19.889Z"
   },
   {
    "duration": 16,
    "start_time": "2024-08-22T05:50:19.899Z"
   },
   {
    "duration": 326,
    "start_time": "2024-08-22T05:50:19.916Z"
   },
   {
    "duration": 31,
    "start_time": "2024-08-22T05:50:20.251Z"
   },
   {
    "duration": 24,
    "start_time": "2024-08-22T05:50:20.283Z"
   },
   {
    "duration": 69,
    "start_time": "2024-08-22T05:50:20.310Z"
   },
   {
    "duration": 52,
    "start_time": "2024-08-22T05:50:20.380Z"
   },
   {
    "duration": 51,
    "start_time": "2024-08-22T05:50:20.433Z"
   },
   {
    "duration": 48,
    "start_time": "2024-08-22T05:50:20.485Z"
   },
   {
    "duration": 73,
    "start_time": "2024-08-22T05:50:20.534Z"
   },
   {
    "duration": 48,
    "start_time": "2024-08-22T05:50:20.609Z"
   },
   {
    "duration": 67,
    "start_time": "2024-08-22T05:50:20.658Z"
   },
   {
    "duration": 57,
    "start_time": "2024-08-22T05:50:20.726Z"
   },
   {
    "duration": 3,
    "start_time": "2024-08-22T05:50:20.784Z"
   },
   {
    "duration": 12632,
    "start_time": "2024-08-22T05:50:20.788Z"
   },
   {
    "duration": 90,
    "start_time": "2024-08-22T05:50:33.422Z"
   },
   {
    "duration": 3,
    "start_time": "2024-08-22T05:50:33.514Z"
   },
   {
    "duration": 3,
    "start_time": "2024-08-22T05:50:33.519Z"
   },
   {
    "duration": 43,
    "start_time": "2024-08-22T05:50:33.523Z"
   },
   {
    "duration": 721,
    "start_time": "2024-08-22T05:50:33.567Z"
   },
   {
    "duration": 627,
    "start_time": "2024-08-22T05:50:34.289Z"
   },
   {
    "duration": 1361,
    "start_time": "2024-08-22T05:55:06.472Z"
   },
   {
    "duration": 8,
    "start_time": "2024-08-22T05:55:07.834Z"
   },
   {
    "duration": 886,
    "start_time": "2024-08-22T05:55:07.843Z"
   },
   {
    "duration": 2009,
    "start_time": "2024-08-22T05:55:08.730Z"
   },
   {
    "duration": 11,
    "start_time": "2024-08-22T05:55:10.741Z"
   },
   {
    "duration": 8,
    "start_time": "2024-08-22T05:55:10.753Z"
   },
   {
    "duration": 57,
    "start_time": "2024-08-22T05:55:10.763Z"
   },
   {
    "duration": 532,
    "start_time": "2024-08-22T05:55:10.822Z"
   },
   {
    "duration": 35,
    "start_time": "2024-08-22T05:55:11.356Z"
   },
   {
    "duration": 12,
    "start_time": "2024-08-22T05:55:11.393Z"
   },
   {
    "duration": 12,
    "start_time": "2024-08-22T05:55:11.406Z"
   },
   {
    "duration": 62,
    "start_time": "2024-08-22T05:55:11.419Z"
   },
   {
    "duration": 23,
    "start_time": "2024-08-22T05:55:11.482Z"
   },
   {
    "duration": 11,
    "start_time": "2024-08-22T05:55:11.508Z"
   },
   {
    "duration": 55,
    "start_time": "2024-08-22T05:55:11.521Z"
   },
   {
    "duration": 25,
    "start_time": "2024-08-22T05:55:11.578Z"
   },
   {
    "duration": 24,
    "start_time": "2024-08-22T05:55:11.604Z"
   },
   {
    "duration": 33,
    "start_time": "2024-08-22T05:55:11.629Z"
   },
   {
    "duration": 3,
    "start_time": "2024-08-22T05:55:11.663Z"
   },
   {
    "duration": 659,
    "start_time": "2024-08-22T05:55:11.667Z"
   },
   {
    "duration": 8,
    "start_time": "2024-08-22T05:55:12.328Z"
   },
   {
    "duration": 16,
    "start_time": "2024-08-22T05:55:12.337Z"
   },
   {
    "duration": 16,
    "start_time": "2024-08-22T05:55:12.354Z"
   },
   {
    "duration": 16,
    "start_time": "2024-08-22T05:55:12.371Z"
   },
   {
    "duration": 318,
    "start_time": "2024-08-22T05:55:12.388Z"
   },
   {
    "duration": 32,
    "start_time": "2024-08-22T05:55:12.708Z"
   },
   {
    "duration": 25,
    "start_time": "2024-08-22T05:55:12.753Z"
   },
   {
    "duration": 53,
    "start_time": "2024-08-22T05:55:12.779Z"
   },
   {
    "duration": 69,
    "start_time": "2024-08-22T05:55:12.834Z"
   },
   {
    "duration": 49,
    "start_time": "2024-08-22T05:55:12.904Z"
   },
   {
    "duration": 46,
    "start_time": "2024-08-22T05:55:12.954Z"
   },
   {
    "duration": 84,
    "start_time": "2024-08-22T05:55:13.002Z"
   },
   {
    "duration": 37,
    "start_time": "2024-08-22T05:55:13.087Z"
   },
   {
    "duration": 83,
    "start_time": "2024-08-22T05:55:13.126Z"
   },
   {
    "duration": 53,
    "start_time": "2024-08-22T05:55:13.210Z"
   },
   {
    "duration": 5,
    "start_time": "2024-08-22T05:55:13.265Z"
   },
   {
    "duration": 13294,
    "start_time": "2024-08-22T05:55:13.271Z"
   },
   {
    "duration": 92,
    "start_time": "2024-08-22T05:55:26.567Z"
   },
   {
    "duration": 4,
    "start_time": "2024-08-22T05:55:26.661Z"
   },
   {
    "duration": 9,
    "start_time": "2024-08-22T05:55:26.666Z"
   },
   {
    "duration": 24,
    "start_time": "2024-08-22T05:55:26.678Z"
   },
   {
    "duration": 155,
    "start_time": "2024-08-22T05:55:26.703Z"
   },
   {
    "duration": 633,
    "start_time": "2024-08-22T05:55:26.860Z"
   },
   {
    "duration": 196,
    "start_time": "2024-08-22T05:56:28.752Z"
   },
   {
    "duration": 13,
    "start_time": "2024-08-22T05:56:36.184Z"
   },
   {
    "duration": 13,
    "start_time": "2024-08-22T05:56:40.267Z"
   },
   {
    "duration": 1388,
    "start_time": "2024-08-22T05:56:54.226Z"
   },
   {
    "duration": 7,
    "start_time": "2024-08-22T05:56:55.615Z"
   },
   {
    "duration": 870,
    "start_time": "2024-08-22T05:56:55.624Z"
   },
   {
    "duration": 2031,
    "start_time": "2024-08-22T05:56:56.496Z"
   },
   {
    "duration": 5,
    "start_time": "2024-08-22T05:56:58.529Z"
   },
   {
    "duration": 18,
    "start_time": "2024-08-22T05:56:58.535Z"
   },
   {
    "duration": 78,
    "start_time": "2024-08-22T05:56:58.555Z"
   },
   {
    "duration": 532,
    "start_time": "2024-08-22T05:56:58.635Z"
   },
   {
    "duration": 35,
    "start_time": "2024-08-22T05:56:59.169Z"
   },
   {
    "duration": 29,
    "start_time": "2024-08-22T05:56:59.206Z"
   },
   {
    "duration": 11,
    "start_time": "2024-08-22T05:56:59.237Z"
   },
   {
    "duration": 40,
    "start_time": "2024-08-22T05:56:59.249Z"
   },
   {
    "duration": 23,
    "start_time": "2024-08-22T05:56:59.291Z"
   },
   {
    "duration": 11,
    "start_time": "2024-08-22T05:56:59.315Z"
   },
   {
    "duration": 34,
    "start_time": "2024-08-22T05:56:59.352Z"
   },
   {
    "duration": 25,
    "start_time": "2024-08-22T05:56:59.388Z"
   },
   {
    "duration": 42,
    "start_time": "2024-08-22T05:56:59.415Z"
   },
   {
    "duration": 13,
    "start_time": "2024-08-22T05:56:59.458Z"
   },
   {
    "duration": 19,
    "start_time": "2024-08-22T05:56:59.473Z"
   },
   {
    "duration": 700,
    "start_time": "2024-08-22T05:56:59.493Z"
   },
   {
    "duration": 8,
    "start_time": "2024-08-22T05:57:00.195Z"
   },
   {
    "duration": 17,
    "start_time": "2024-08-22T05:57:00.204Z"
   },
   {
    "duration": 21,
    "start_time": "2024-08-22T05:57:00.222Z"
   },
   {
    "duration": 46,
    "start_time": "2024-08-22T05:57:00.244Z"
   },
   {
    "duration": 315,
    "start_time": "2024-08-22T05:57:00.291Z"
   },
   {
    "duration": 32,
    "start_time": "2024-08-22T05:57:00.608Z"
   },
   {
    "duration": 27,
    "start_time": "2024-08-22T05:57:00.652Z"
   },
   {
    "duration": 71,
    "start_time": "2024-08-22T05:57:00.682Z"
   },
   {
    "duration": 54,
    "start_time": "2024-08-22T05:57:00.755Z"
   },
   {
    "duration": 47,
    "start_time": "2024-08-22T05:57:00.811Z"
   },
   {
    "duration": 53,
    "start_time": "2024-08-22T05:57:00.860Z"
   },
   {
    "duration": 83,
    "start_time": "2024-08-22T05:57:00.914Z"
   },
   {
    "duration": 36,
    "start_time": "2024-08-22T05:57:00.999Z"
   },
   {
    "duration": 82,
    "start_time": "2024-08-22T05:57:01.037Z"
   },
   {
    "duration": 57,
    "start_time": "2024-08-22T05:57:01.120Z"
   },
   {
    "duration": 3,
    "start_time": "2024-08-22T05:57:01.179Z"
   },
   {
    "duration": 13360,
    "start_time": "2024-08-22T05:57:01.183Z"
   },
   {
    "duration": 83,
    "start_time": "2024-08-22T05:57:14.552Z"
   },
   {
    "duration": 3,
    "start_time": "2024-08-22T05:57:14.637Z"
   },
   {
    "duration": 17,
    "start_time": "2024-08-22T05:57:14.641Z"
   },
   {
    "duration": 26,
    "start_time": "2024-08-22T05:57:14.659Z"
   },
   {
    "duration": 252,
    "start_time": "2024-08-22T05:57:14.686Z"
   },
   {
    "duration": 0,
    "start_time": "2024-08-22T05:57:14.940Z"
   },
   {
    "duration": 19,
    "start_time": "2024-08-22T05:57:41.711Z"
   },
   {
    "duration": 1441,
    "start_time": "2024-08-22T05:58:03.089Z"
   },
   {
    "duration": 7,
    "start_time": "2024-08-22T05:58:04.532Z"
   },
   {
    "duration": 914,
    "start_time": "2024-08-22T05:58:04.541Z"
   },
   {
    "duration": 2048,
    "start_time": "2024-08-22T05:58:05.457Z"
   },
   {
    "duration": 4,
    "start_time": "2024-08-22T05:58:07.507Z"
   },
   {
    "duration": 9,
    "start_time": "2024-08-22T05:58:07.513Z"
   },
   {
    "duration": 71,
    "start_time": "2024-08-22T05:58:07.523Z"
   },
   {
    "duration": 501,
    "start_time": "2024-08-22T05:58:07.596Z"
   },
   {
    "duration": 30,
    "start_time": "2024-08-22T05:58:08.098Z"
   },
   {
    "duration": 23,
    "start_time": "2024-08-22T05:58:08.131Z"
   },
   {
    "duration": 15,
    "start_time": "2024-08-22T05:58:08.156Z"
   },
   {
    "duration": 38,
    "start_time": "2024-08-22T05:58:08.173Z"
   },
   {
    "duration": 41,
    "start_time": "2024-08-22T05:58:08.212Z"
   },
   {
    "duration": 9,
    "start_time": "2024-08-22T05:58:08.254Z"
   },
   {
    "duration": 34,
    "start_time": "2024-08-22T05:58:08.264Z"
   },
   {
    "duration": 26,
    "start_time": "2024-08-22T05:58:08.300Z"
   },
   {
    "duration": 26,
    "start_time": "2024-08-22T05:58:08.351Z"
   },
   {
    "duration": 13,
    "start_time": "2024-08-22T05:58:08.379Z"
   },
   {
    "duration": 3,
    "start_time": "2024-08-22T05:58:08.394Z"
   },
   {
    "duration": 675,
    "start_time": "2024-08-22T05:58:08.398Z"
   },
   {
    "duration": 8,
    "start_time": "2024-08-22T05:58:09.075Z"
   },
   {
    "duration": 56,
    "start_time": "2024-08-22T05:58:09.084Z"
   },
   {
    "duration": 9,
    "start_time": "2024-08-22T05:58:09.141Z"
   },
   {
    "duration": 18,
    "start_time": "2024-08-22T05:58:09.152Z"
   },
   {
    "duration": 296,
    "start_time": "2024-08-22T05:58:09.171Z"
   },
   {
    "duration": 25,
    "start_time": "2024-08-22T05:58:09.468Z"
   },
   {
    "duration": 25,
    "start_time": "2024-08-22T05:58:09.495Z"
   },
   {
    "duration": 74,
    "start_time": "2024-08-22T05:58:09.523Z"
   },
   {
    "duration": 63,
    "start_time": "2024-08-22T05:58:09.598Z"
   },
   {
    "duration": 34,
    "start_time": "2024-08-22T05:58:09.662Z"
   },
   {
    "duration": 61,
    "start_time": "2024-08-22T05:58:09.697Z"
   },
   {
    "duration": 97,
    "start_time": "2024-08-22T05:58:09.760Z"
   },
   {
    "duration": 36,
    "start_time": "2024-08-22T05:58:09.858Z"
   },
   {
    "duration": 81,
    "start_time": "2024-08-22T05:58:09.896Z"
   },
   {
    "duration": 49,
    "start_time": "2024-08-22T05:58:09.978Z"
   },
   {
    "duration": 3,
    "start_time": "2024-08-22T05:58:10.029Z"
   },
   {
    "duration": 13125,
    "start_time": "2024-08-22T05:58:10.033Z"
   },
   {
    "duration": 94,
    "start_time": "2024-08-22T05:58:23.160Z"
   },
   {
    "duration": 4,
    "start_time": "2024-08-22T05:58:23.255Z"
   },
   {
    "duration": 3,
    "start_time": "2024-08-22T05:58:23.260Z"
   },
   {
    "duration": 13,
    "start_time": "2024-08-22T05:58:23.264Z"
   },
   {
    "duration": 156,
    "start_time": "2024-08-22T05:58:23.278Z"
   },
   {
    "duration": 125,
    "start_time": "2024-08-22T05:58:23.436Z"
   },
   {
    "duration": 179,
    "start_time": "2024-08-22T06:03:19.498Z"
   },
   {
    "duration": 174,
    "start_time": "2024-08-22T06:04:17.683Z"
   },
   {
    "duration": 166,
    "start_time": "2024-08-22T06:04:56.303Z"
   },
   {
    "duration": 116,
    "start_time": "2024-08-22T06:05:06.988Z"
   },
   {
    "duration": 107,
    "start_time": "2024-08-22T06:06:08.611Z"
   },
   {
    "duration": 105,
    "start_time": "2024-08-22T06:07:21.199Z"
   },
   {
    "duration": 106,
    "start_time": "2024-08-22T06:07:41.432Z"
   },
   {
    "duration": 112,
    "start_time": "2024-08-22T06:08:00.051Z"
   },
   {
    "duration": 105,
    "start_time": "2024-08-22T06:08:17.409Z"
   },
   {
    "duration": 107,
    "start_time": "2024-08-22T06:08:33.588Z"
   },
   {
    "duration": 9,
    "start_time": "2024-08-22T06:19:49.884Z"
   },
   {
    "duration": 21,
    "start_time": "2024-08-22T06:19:57.875Z"
   },
   {
    "duration": 1404,
    "start_time": "2024-08-22T06:26:27.533Z"
   },
   {
    "duration": 14,
    "start_time": "2024-08-22T06:26:28.939Z"
   },
   {
    "duration": 867,
    "start_time": "2024-08-22T06:26:28.955Z"
   },
   {
    "duration": 2050,
    "start_time": "2024-08-22T06:26:29.823Z"
   },
   {
    "duration": 5,
    "start_time": "2024-08-22T06:26:31.875Z"
   },
   {
    "duration": 8,
    "start_time": "2024-08-22T06:26:31.882Z"
   },
   {
    "duration": 75,
    "start_time": "2024-08-22T06:26:31.891Z"
   },
   {
    "duration": 544,
    "start_time": "2024-08-22T06:26:31.967Z"
   },
   {
    "duration": 44,
    "start_time": "2024-08-22T06:26:32.513Z"
   },
   {
    "duration": 19,
    "start_time": "2024-08-22T06:26:32.559Z"
   },
   {
    "duration": 11,
    "start_time": "2024-08-22T06:26:32.579Z"
   },
   {
    "duration": 42,
    "start_time": "2024-08-22T06:26:32.592Z"
   },
   {
    "duration": 38,
    "start_time": "2024-08-22T06:26:32.635Z"
   },
   {
    "duration": 11,
    "start_time": "2024-08-22T06:26:32.676Z"
   },
   {
    "duration": 68,
    "start_time": "2024-08-22T06:26:32.689Z"
   },
   {
    "duration": 27,
    "start_time": "2024-08-22T06:26:32.759Z"
   },
   {
    "duration": 26,
    "start_time": "2024-08-22T06:26:32.788Z"
   },
   {
    "duration": 13,
    "start_time": "2024-08-22T06:26:32.816Z"
   },
   {
    "duration": 3,
    "start_time": "2024-08-22T06:26:32.852Z"
   },
   {
    "duration": 651,
    "start_time": "2024-08-22T06:26:32.857Z"
   },
   {
    "duration": 8,
    "start_time": "2024-08-22T06:26:33.509Z"
   },
   {
    "duration": 9,
    "start_time": "2024-08-22T06:26:33.518Z"
   },
   {
    "duration": 25,
    "start_time": "2024-08-22T06:26:33.528Z"
   },
   {
    "duration": 17,
    "start_time": "2024-08-22T06:26:33.554Z"
   },
   {
    "duration": 307,
    "start_time": "2024-08-22T06:26:33.572Z"
   },
   {
    "duration": 41,
    "start_time": "2024-08-22T06:26:33.881Z"
   },
   {
    "duration": 45,
    "start_time": "2024-08-22T06:26:33.925Z"
   },
   {
    "duration": 56,
    "start_time": "2024-08-22T06:26:33.972Z"
   },
   {
    "duration": 64,
    "start_time": "2024-08-22T06:26:34.029Z"
   },
   {
    "duration": 34,
    "start_time": "2024-08-22T06:26:34.095Z"
   },
   {
    "duration": 83,
    "start_time": "2024-08-22T06:26:34.130Z"
   },
   {
    "duration": 65,
    "start_time": "2024-08-22T06:26:34.214Z"
   },
   {
    "duration": 36,
    "start_time": "2024-08-22T06:26:34.280Z"
   },
   {
    "duration": 79,
    "start_time": "2024-08-22T06:26:34.317Z"
   },
   {
    "duration": 56,
    "start_time": "2024-08-22T06:26:34.397Z"
   },
   {
    "duration": 3,
    "start_time": "2024-08-22T06:26:34.455Z"
   },
   {
    "duration": 12901,
    "start_time": "2024-08-22T06:26:34.459Z"
   },
   {
    "duration": 94,
    "start_time": "2024-08-22T06:26:47.361Z"
   },
   {
    "duration": 4,
    "start_time": "2024-08-22T06:26:47.456Z"
   },
   {
    "duration": 3,
    "start_time": "2024-08-22T06:26:47.462Z"
   },
   {
    "duration": 11,
    "start_time": "2024-08-22T06:26:47.468Z"
   },
   {
    "duration": 163,
    "start_time": "2024-08-22T06:26:47.480Z"
   },
   {
    "duration": 197,
    "start_time": "2024-08-22T06:26:47.644Z"
   },
   {
    "duration": 72,
    "start_time": "2024-08-22T06:26:47.843Z"
   },
   {
    "duration": 62,
    "start_time": "2024-08-22T06:27:19.468Z"
   },
   {
    "duration": 51,
    "start_time": "2024-08-22T06:27:53.754Z"
   },
   {
    "duration": 247,
    "start_time": "2024-08-22T06:37:07.977Z"
   },
   {
    "duration": 127,
    "start_time": "2024-08-22T06:38:40.769Z"
   },
   {
    "duration": 114,
    "start_time": "2024-08-22T06:41:26.692Z"
   },
   {
    "duration": 9,
    "start_time": "2024-08-22T06:41:33.347Z"
   },
   {
    "duration": 130,
    "start_time": "2024-08-22T06:43:39.268Z"
   },
   {
    "duration": 68,
    "start_time": "2024-08-22T06:46:42.230Z"
   },
   {
    "duration": 433,
    "start_time": "2024-08-22T06:52:21.420Z"
   },
   {
    "duration": 4142,
    "start_time": "2024-08-22T07:16:30.325Z"
   },
   {
    "duration": 2601,
    "start_time": "2024-08-22T07:22:30.039Z"
   },
   {
    "duration": 3,
    "start_time": "2024-08-22T07:22:57.473Z"
   },
   {
    "duration": 46,
    "start_time": "2024-08-22T07:26:06.269Z"
   },
   {
    "duration": 6724,
    "start_time": "2024-08-22T07:26:54.256Z"
   },
   {
    "duration": 6857,
    "start_time": "2024-08-22T07:27:12.806Z"
   },
   {
    "duration": 11,
    "start_time": "2024-08-22T07:28:31.811Z"
   },
   {
    "duration": 9,
    "start_time": "2024-08-22T07:30:38.624Z"
   },
   {
    "duration": 3,
    "start_time": "2024-08-22T07:40:01.820Z"
   },
   {
    "duration": 5644631,
    "start_time": "2024-08-22T07:40:04.529Z"
   },
   {
    "duration": 3032999,
    "start_time": "2024-08-22T11:26:52.029Z"
   },
   {
    "duration": 48717,
    "start_time": "2024-08-22T12:19:48.239Z"
   },
   {
    "duration": 47630,
    "start_time": "2024-08-22T12:22:08.530Z"
   },
   {
    "duration": 444,
    "start_time": "2024-08-22T12:23:29.311Z"
   },
   {
    "duration": 37887,
    "start_time": "2024-08-22T12:35:02.149Z"
   },
   {
    "duration": 26997,
    "start_time": "2024-08-22T12:36:05.297Z"
   },
   {
    "duration": 1871314,
    "start_time": "2024-08-22T12:40:53.181Z"
   },
   {
    "duration": 604446,
    "start_time": "2024-08-22T13:12:38.976Z"
   },
   {
    "duration": 46374,
    "start_time": "2024-08-22T13:48:06.284Z"
   },
   {
    "duration": 312,
    "start_time": "2024-08-22T14:15:56.354Z"
   },
   {
    "duration": 24,
    "start_time": "2024-08-22T14:18:42.360Z"
   },
   {
    "duration": 359,
    "start_time": "2024-08-22T14:20:35.515Z"
   },
   {
    "duration": 9,
    "start_time": "2024-08-22T14:20:58.906Z"
   },
   {
    "duration": 4,
    "start_time": "2024-08-22T14:21:31.321Z"
   },
   {
    "duration": 8,
    "start_time": "2024-08-22T14:21:45.054Z"
   },
   {
    "duration": 83,
    "start_time": "2024-08-22T14:31:45.162Z"
   },
   {
    "duration": 971,
    "start_time": "2024-08-22T14:31:59.584Z"
   },
   {
    "duration": 12,
    "start_time": "2024-08-22T14:32:37.201Z"
   },
   {
    "duration": 6,
    "start_time": "2024-08-22T14:33:17.784Z"
   },
   {
    "duration": 66,
    "start_time": "2024-08-22T14:36:35.967Z"
   },
   {
    "duration": 363,
    "start_time": "2024-08-22T14:36:49.190Z"
   },
   {
    "duration": 13,
    "start_time": "2024-08-22T14:36:54.764Z"
   },
   {
    "duration": 6,
    "start_time": "2024-08-22T14:36:58.798Z"
   },
   {
    "duration": 65,
    "start_time": "2024-08-22T14:39:47.614Z"
   },
   {
    "duration": 845657,
    "start_time": "2024-08-22T14:40:35.407Z"
   },
   {
    "duration": 11719,
    "start_time": "2024-08-22T14:55:25.184Z"
   },
   {
    "duration": 9,
    "start_time": "2024-08-22T14:56:22.976Z"
   },
   {
    "duration": 11675,
    "start_time": "2024-08-22T14:56:37.203Z"
   },
   {
    "duration": 6,
    "start_time": "2024-08-22T14:56:52.582Z"
   },
   {
    "duration": 285,
    "start_time": "2024-08-22T14:57:27.282Z"
   },
   {
    "duration": 9,
    "start_time": "2024-08-22T14:57:31.878Z"
   },
   {
    "duration": 6,
    "start_time": "2024-08-22T14:57:35.043Z"
   },
   {
    "duration": 14,
    "start_time": "2024-08-22T14:59:55.853Z"
   },
   {
    "duration": 152,
    "start_time": "2024-08-22T15:03:54.980Z"
   },
   {
    "duration": 16,
    "start_time": "2024-08-22T15:04:08.950Z"
   },
   {
    "duration": 110,
    "start_time": "2024-08-22T15:04:12.787Z"
   },
   {
    "duration": 179,
    "start_time": "2024-08-22T15:04:20.110Z"
   },
   {
    "duration": 46,
    "start_time": "2024-08-22T15:04:25.499Z"
   },
   {
    "duration": 120,
    "start_time": "2024-08-22T15:04:29.798Z"
   },
   {
    "duration": 358,
    "start_time": "2024-08-22T15:04:58.398Z"
   },
   {
    "duration": 12,
    "start_time": "2024-08-22T15:05:03.579Z"
   },
   {
    "duration": 4,
    "start_time": "2024-08-22T15:05:06.954Z"
   },
   {
    "duration": 281,
    "start_time": "2024-08-22T15:06:13.085Z"
   },
   {
    "duration": 830,
    "start_time": "2024-08-22T15:06:20.977Z"
   },
   {
    "duration": 1940,
    "start_time": "2024-08-22T15:06:23.671Z"
   },
   {
    "duration": 5,
    "start_time": "2024-08-22T15:06:33.308Z"
   },
   {
    "duration": 4,
    "start_time": "2024-08-22T15:06:36.123Z"
   },
   {
    "duration": 71,
    "start_time": "2024-08-22T15:06:39.484Z"
   },
   {
    "duration": 498,
    "start_time": "2024-08-22T15:06:42.672Z"
   },
   {
    "duration": 27,
    "start_time": "2024-08-22T15:06:52.724Z"
   },
   {
    "duration": 10,
    "start_time": "2024-08-22T15:06:55.875Z"
   },
   {
    "duration": 9,
    "start_time": "2024-08-22T15:07:00.774Z"
   },
   {
    "duration": 38,
    "start_time": "2024-08-22T15:07:07.401Z"
   },
   {
    "duration": 24,
    "start_time": "2024-08-22T15:07:11.336Z"
   },
   {
    "duration": 11,
    "start_time": "2024-08-22T15:07:13.718Z"
   },
   {
    "duration": 36,
    "start_time": "2024-08-22T15:07:17.436Z"
   },
   {
    "duration": 27,
    "start_time": "2024-08-22T15:07:19.893Z"
   },
   {
    "duration": 27,
    "start_time": "2024-08-22T15:07:22.811Z"
   },
   {
    "duration": 13,
    "start_time": "2024-08-22T15:07:25.108Z"
   },
   {
    "duration": 3,
    "start_time": "2024-08-22T15:07:28.536Z"
   },
   {
    "duration": 688,
    "start_time": "2024-08-22T15:07:31.685Z"
   },
   {
    "duration": 8,
    "start_time": "2024-08-22T15:07:34.287Z"
   },
   {
    "duration": 3,
    "start_time": "2024-08-22T15:07:38.375Z"
   },
   {
    "duration": 10,
    "start_time": "2024-08-22T15:07:41.021Z"
   },
   {
    "duration": 18,
    "start_time": "2024-08-22T15:07:43.467Z"
   },
   {
    "duration": 307,
    "start_time": "2024-08-22T15:07:46.047Z"
   },
   {
    "duration": 33,
    "start_time": "2024-08-22T15:07:49.450Z"
   },
   {
    "duration": 27,
    "start_time": "2024-08-22T15:07:52.424Z"
   },
   {
    "duration": 52,
    "start_time": "2024-08-22T15:07:55.047Z"
   },
   {
    "duration": 53,
    "start_time": "2024-08-22T15:07:57.693Z"
   },
   {
    "duration": 35,
    "start_time": "2024-08-22T15:08:00.943Z"
   },
   {
    "duration": 46,
    "start_time": "2024-08-22T15:08:03.373Z"
   },
   {
    "duration": 65,
    "start_time": "2024-08-22T15:08:06.136Z"
   },
   {
    "duration": 35,
    "start_time": "2024-08-22T15:08:08.889Z"
   },
   {
    "duration": 68,
    "start_time": "2024-08-22T15:08:11.656Z"
   },
   {
    "duration": 49,
    "start_time": "2024-08-22T15:08:14.580Z"
   },
   {
    "duration": 3,
    "start_time": "2024-08-22T15:08:18.775Z"
   },
   {
    "duration": 13011,
    "start_time": "2024-08-22T15:08:22.180Z"
   },
   {
    "duration": 88,
    "start_time": "2024-08-22T15:16:08.089Z"
   },
   {
    "duration": 4,
    "start_time": "2024-08-22T15:16:15.513Z"
   },
   {
    "duration": 4,
    "start_time": "2024-08-22T15:16:33.709Z"
   },
   {
    "duration": 12,
    "start_time": "2024-08-22T15:16:37.908Z"
   },
   {
    "duration": 131,
    "start_time": "2024-08-22T15:16:40.606Z"
   },
   {
    "duration": 192,
    "start_time": "2024-08-22T15:16:55.288Z"
   },
   {
    "duration": 4,
    "start_time": "2024-08-22T15:17:09.460Z"
   },
   {
    "duration": 11,
    "start_time": "2024-08-22T15:17:17.584Z"
   },
   {
    "duration": 145,
    "start_time": "2024-08-22T15:17:22.521Z"
   },
   {
    "duration": 200,
    "start_time": "2024-08-22T15:17:40.382Z"
   },
   {
    "duration": 56,
    "start_time": "2024-08-22T15:18:06.726Z"
   },
   {
    "duration": 145,
    "start_time": "2024-08-22T15:18:14.070Z"
   },
   {
    "duration": 46711,
    "start_time": "2024-08-22T15:18:24.244Z"
   },
   {
    "duration": 367,
    "start_time": "2024-08-22T15:20:12.803Z"
   },
   {
    "duration": 11,
    "start_time": "2024-08-22T15:20:19.349Z"
   },
   {
    "duration": 5,
    "start_time": "2024-08-22T15:20:23.601Z"
   },
   {
    "duration": 938,
    "start_time": "2024-08-22T15:20:27.718Z"
   },
   {
    "duration": 12,
    "start_time": "2024-08-22T15:20:34.254Z"
   },
   {
    "duration": 5,
    "start_time": "2024-08-22T15:20:38.850Z"
   },
   {
    "duration": 5,
    "start_time": "2024-08-22T15:20:49.991Z"
   },
   {
    "duration": 12,
    "start_time": "2024-08-22T15:20:53.652Z"
   },
   {
    "duration": 5,
    "start_time": "2024-08-22T15:20:56.651Z"
   },
   {
    "duration": 10,
    "start_time": "2024-08-22T15:21:08.844Z"
   },
   {
    "duration": 909,
    "start_time": "2024-08-22T15:21:47.457Z"
   },
   {
    "duration": 11,
    "start_time": "2024-08-22T15:22:01.685Z"
   },
   {
    "duration": 7,
    "start_time": "2024-08-22T15:22:13.875Z"
   },
   {
    "duration": 396,
    "start_time": "2024-08-22T15:23:25.059Z"
   },
   {
    "duration": 11,
    "start_time": "2024-08-22T15:23:32.959Z"
   },
   {
    "duration": 5,
    "start_time": "2024-08-22T15:23:38.937Z"
   },
   {
    "duration": 908,
    "start_time": "2024-08-22T15:23:48.426Z"
   },
   {
    "duration": 12,
    "start_time": "2024-08-22T15:23:55.455Z"
   },
   {
    "duration": 4,
    "start_time": "2024-08-22T15:23:58.933Z"
   },
   {
    "duration": 72553,
    "start_time": "2024-08-22T15:24:22.313Z"
   },
   {
    "duration": 11,
    "start_time": "2024-08-22T15:26:17.590Z"
   },
   {
    "duration": 11446,
    "start_time": "2024-08-22T15:26:27.316Z"
   },
   {
    "duration": 5,
    "start_time": "2024-08-22T15:26:46.312Z"
   },
   {
    "duration": 388,
    "start_time": "2024-08-22T15:37:01.250Z"
   },
   {
    "duration": 478,
    "start_time": "2024-08-22T15:37:16.243Z"
   },
   {
    "duration": 164,
    "start_time": "2024-08-22T15:47:52.668Z"
   },
   {
    "duration": 13,
    "start_time": "2024-08-22T15:48:34.596Z"
   },
   {
    "duration": 5,
    "start_time": "2024-08-22T15:48:38.492Z"
   },
   {
    "duration": 349,
    "start_time": "2024-08-22T15:48:57.216Z"
   },
   {
    "duration": 9,
    "start_time": "2024-08-22T15:49:12.340Z"
   },
   {
    "duration": 5,
    "start_time": "2024-08-22T15:49:24.347Z"
   },
   {
    "duration": 162,
    "start_time": "2024-08-22T15:50:02.893Z"
   },
   {
    "duration": 162,
    "start_time": "2024-08-22T15:50:13.235Z"
   },
   {
    "duration": 156,
    "start_time": "2024-08-22T15:50:29.678Z"
   },
   {
    "duration": 168,
    "start_time": "2024-08-22T15:50:42.652Z"
   },
   {
    "duration": 172,
    "start_time": "2024-08-22T15:51:32.328Z"
   },
   {
    "duration": 165,
    "start_time": "2024-08-22T15:51:38.570Z"
   },
   {
    "duration": 58,
    "start_time": "2024-08-22T15:51:54.847Z"
   },
   {
    "duration": 165,
    "start_time": "2024-08-22T15:52:03.599Z"
   },
   {
    "duration": 172,
    "start_time": "2024-08-22T15:52:13.085Z"
   },
   {
    "duration": 160,
    "start_time": "2024-08-22T15:52:18.710Z"
   },
   {
    "duration": 13,
    "start_time": "2024-08-22T15:52:28.113Z"
   },
   {
    "duration": 5,
    "start_time": "2024-08-22T15:52:30.791Z"
   },
   {
    "duration": 27,
    "start_time": "2024-08-22T15:52:58.984Z"
   },
   {
    "duration": 5,
    "start_time": "2024-08-22T15:53:01.617Z"
   },
   {
    "duration": 38,
    "start_time": "2024-08-22T16:01:06.180Z"
   },
   {
    "duration": 3,
    "start_time": "2024-08-22T16:05:08.724Z"
   },
   {
    "duration": 10,
    "start_time": "2024-08-22T16:05:17.152Z"
   },
   {
    "duration": 9,
    "start_time": "2024-08-22T16:05:31.798Z"
   },
   {
    "duration": 19,
    "start_time": "2024-08-22T16:05:41.121Z"
   },
   {
    "duration": 10,
    "start_time": "2024-08-22T16:05:50.928Z"
   },
   {
    "duration": 15,
    "start_time": "2024-08-22T16:07:26.266Z"
   },
   {
    "duration": 177,
    "start_time": "2024-08-22T16:08:17.977Z"
   },
   {
    "duration": 8124,
    "start_time": "2024-08-22T16:08:37.452Z"
   },
   {
    "duration": 78373,
    "start_time": "2024-08-22T16:09:26.300Z"
   },
   {
    "duration": 15392,
    "start_time": "2024-08-22T16:10:52.118Z"
   },
   {
    "duration": 5,
    "start_time": "2024-08-22T16:11:11.575Z"
   },
   {
    "duration": 182,
    "start_time": "2024-08-22T16:11:15.393Z"
   },
   {
    "duration": 186,
    "start_time": "2024-08-22T16:40:34.717Z"
   },
   {
    "duration": 176,
    "start_time": "2024-08-22T16:40:43.324Z"
   },
   {
    "duration": 180,
    "start_time": "2024-08-22T16:40:58.421Z"
   },
   {
    "duration": 178,
    "start_time": "2024-08-22T16:41:10.576Z"
   },
   {
    "duration": 176,
    "start_time": "2024-08-22T16:46:01.258Z"
   },
   {
    "duration": 235,
    "start_time": "2024-08-22T16:48:02.303Z"
   },
   {
    "duration": 211,
    "start_time": "2024-08-22T16:48:30.633Z"
   },
   {
    "duration": 241,
    "start_time": "2024-08-22T16:48:43.889Z"
   },
   {
    "duration": 192,
    "start_time": "2024-08-22T16:48:52.107Z"
   },
   {
    "duration": 313,
    "start_time": "2024-08-22T16:59:03.542Z"
   },
   {
    "duration": 10,
    "start_time": "2024-08-22T16:59:07.613Z"
   },
   {
    "duration": 5,
    "start_time": "2024-08-22T16:59:12.048Z"
   },
   {
    "duration": 6,
    "start_time": "2024-08-22T17:09:22.605Z"
   },
   {
    "duration": 12,
    "start_time": "2024-08-22T17:10:00.420Z"
   },
   {
    "duration": 10,
    "start_time": "2024-08-22T17:54:51.342Z"
   },
   {
    "duration": 11,
    "start_time": "2024-08-22T17:55:41.048Z"
   },
   {
    "duration": 11,
    "start_time": "2024-08-22T17:56:12.625Z"
   },
   {
    "duration": 320,
    "start_time": "2024-08-22T17:59:04.019Z"
   },
   {
    "duration": 7,
    "start_time": "2024-08-22T17:59:37.135Z"
   },
   {
    "duration": 805,
    "start_time": "2024-08-22T17:59:54.311Z"
   },
   {
    "duration": 2084,
    "start_time": "2024-08-22T18:00:03.116Z"
   },
   {
    "duration": 6,
    "start_time": "2024-08-22T18:00:21.365Z"
   },
   {
    "duration": 10,
    "start_time": "2024-08-22T18:28:17.766Z"
   },
   {
    "duration": 6,
    "start_time": "2024-08-22T19:03:43.876Z"
   },
   {
    "duration": 4,
    "start_time": "2024-08-22T19:04:09.926Z"
   },
   {
    "duration": 169,
    "start_time": "2024-08-22T19:04:24.716Z"
   },
   {
    "duration": 64,
    "start_time": "2024-08-24T09:29:25.251Z"
   },
   {
    "duration": 8,
    "start_time": "2024-08-24T09:39:18.494Z"
   },
   {
    "duration": 51,
    "start_time": "2024-08-24T09:39:28.301Z"
   },
   {
    "duration": 8,
    "start_time": "2024-08-24T09:40:25.277Z"
   },
   {
    "duration": 8,
    "start_time": "2024-08-24T09:40:31.739Z"
   },
   {
    "duration": 1596,
    "start_time": "2024-08-24T09:40:41.312Z"
   },
   {
    "duration": 2963,
    "start_time": "2024-08-24T09:40:55.148Z"
   },
   {
    "duration": 2076,
    "start_time": "2024-08-24T09:41:06.344Z"
   },
   {
    "duration": 87,
    "start_time": "2024-08-24T09:48:43.720Z"
   },
   {
    "duration": 8,
    "start_time": "2024-08-24T09:49:34.060Z"
   },
   {
    "duration": 4,
    "start_time": "2024-08-24T09:49:52.079Z"
   },
   {
    "duration": 4,
    "start_time": "2024-08-24T09:49:54.428Z"
   },
   {
    "duration": 56,
    "start_time": "2024-08-24T09:49:57.381Z"
   },
   {
    "duration": 586,
    "start_time": "2024-08-24T09:49:59.535Z"
   },
   {
    "duration": 33,
    "start_time": "2024-08-24T09:50:06.820Z"
   },
   {
    "duration": 11,
    "start_time": "2024-08-24T09:50:08.951Z"
   },
   {
    "duration": 8,
    "start_time": "2024-08-24T09:50:14.205Z"
   },
   {
    "duration": 981,
    "start_time": "2024-08-24T09:50:24.766Z"
   },
   {
    "duration": 68,
    "start_time": "2024-08-24T09:51:10.220Z"
   },
   {
    "duration": 38,
    "start_time": "2024-08-24T09:51:51.986Z"
   },
   {
    "duration": 23,
    "start_time": "2024-08-24T09:52:14.075Z"
   },
   {
    "duration": 81,
    "start_time": "2024-08-24T09:53:35.747Z"
   },
   {
    "duration": 7,
    "start_time": "2024-08-24T09:59:40.279Z"
   },
   {
    "duration": 21,
    "start_time": "2024-08-24T10:01:15.509Z"
   },
   {
    "duration": 22,
    "start_time": "2024-08-24T10:01:50.656Z"
   },
   {
    "duration": 45,
    "start_time": "2024-08-24T10:02:41.855Z"
   },
   {
    "duration": 15,
    "start_time": "2024-08-24T10:02:46.292Z"
   },
   {
    "duration": 15,
    "start_time": "2024-08-24T10:03:27.236Z"
   },
   {
    "duration": 14,
    "start_time": "2024-08-24T10:03:34.060Z"
   },
   {
    "duration": 19,
    "start_time": "2024-08-24T10:03:49.343Z"
   },
   {
    "duration": 8,
    "start_time": "2024-08-24T10:08:25.888Z"
   },
   {
    "duration": 400,
    "start_time": "2024-08-24T10:08:30.937Z"
   },
   {
    "duration": 903,
    "start_time": "2024-08-24T10:09:33.940Z"
   },
   {
    "duration": 2179,
    "start_time": "2024-08-24T10:09:48.990Z"
   },
   {
    "duration": 15,
    "start_time": "2024-08-24T10:12:43.272Z"
   },
   {
    "duration": 5,
    "start_time": "2024-08-24T10:12:54.021Z"
   },
   {
    "duration": 4,
    "start_time": "2024-08-24T10:12:55.944Z"
   },
   {
    "duration": 23,
    "start_time": "2024-08-24T10:12:59.718Z"
   },
   {
    "duration": 483,
    "start_time": "2024-08-24T10:13:02.311Z"
   },
   {
    "duration": 33,
    "start_time": "2024-08-24T10:13:06.469Z"
   },
   {
    "duration": 15,
    "start_time": "2024-08-24T10:13:08.576Z"
   },
   {
    "duration": 13,
    "start_time": "2024-08-24T10:13:51.753Z"
   },
   {
    "duration": 32,
    "start_time": "2024-08-24T10:23:40.788Z"
   },
   {
    "duration": 35,
    "start_time": "2024-08-24T10:26:40.043Z"
   },
   {
    "duration": 65,
    "start_time": "2024-08-24T10:26:50.623Z"
   },
   {
    "duration": 49,
    "start_time": "2024-08-24T10:27:31.071Z"
   },
   {
    "duration": 35,
    "start_time": "2024-08-24T10:28:27.985Z"
   },
   {
    "duration": 60,
    "start_time": "2024-08-24T10:28:41.119Z"
   },
   {
    "duration": 46,
    "start_time": "2024-08-24T10:29:35.764Z"
   },
   {
    "duration": 56,
    "start_time": "2024-08-24T10:29:37.229Z"
   },
   {
    "duration": 39,
    "start_time": "2024-08-24T10:37:23.317Z"
   },
   {
    "duration": 27,
    "start_time": "2024-08-24T10:37:29.164Z"
   },
   {
    "duration": 874,
    "start_time": "2024-08-24T10:37:48.795Z"
   },
   {
    "duration": 2330,
    "start_time": "2024-08-24T10:37:52.752Z"
   },
   {
    "duration": 5,
    "start_time": "2024-08-24T10:38:00.405Z"
   },
   {
    "duration": 5,
    "start_time": "2024-08-24T10:38:02.793Z"
   },
   {
    "duration": 35,
    "start_time": "2024-08-24T10:38:05.926Z"
   },
   {
    "duration": 458,
    "start_time": "2024-08-24T10:38:08.215Z"
   },
   {
    "duration": 34,
    "start_time": "2024-08-24T10:38:16.238Z"
   },
   {
    "duration": 11,
    "start_time": "2024-08-24T10:38:19.813Z"
   },
   {
    "duration": 11,
    "start_time": "2024-08-24T10:38:23.565Z"
   },
   {
    "duration": 69,
    "start_time": "2024-08-24T10:38:31.216Z"
   },
   {
    "duration": 24,
    "start_time": "2024-08-24T10:38:35.459Z"
   },
   {
    "duration": 61,
    "start_time": "2024-08-24T10:39:30.740Z"
   },
   {
    "duration": 33,
    "start_time": "2024-08-24T10:39:48.980Z"
   },
   {
    "duration": 41,
    "start_time": "2024-08-24T10:39:54.591Z"
   },
   {
    "duration": 25,
    "start_time": "2024-08-24T10:46:14.975Z"
   },
   {
    "duration": 25,
    "start_time": "2024-08-24T10:46:27.852Z"
   },
   {
    "duration": 31,
    "start_time": "2024-08-24T10:47:17.282Z"
   },
   {
    "duration": 36,
    "start_time": "2024-08-24T10:47:23.768Z"
   },
   {
    "duration": 23,
    "start_time": "2024-08-24T10:49:45.623Z"
   },
   {
    "duration": 42,
    "start_time": "2024-08-24T10:51:59.143Z"
   },
   {
    "duration": 9,
    "start_time": "2024-08-24T10:52:11.421Z"
   },
   {
    "duration": 25,
    "start_time": "2024-08-24T10:52:16.390Z"
   },
   {
    "duration": 23,
    "start_time": "2024-08-24T10:52:57.522Z"
   },
   {
    "duration": 38,
    "start_time": "2024-08-24T10:53:31.928Z"
   },
   {
    "duration": 29,
    "start_time": "2024-08-24T10:53:51.381Z"
   },
   {
    "duration": 55,
    "start_time": "2024-08-24T10:54:32.714Z"
   },
   {
    "duration": 27,
    "start_time": "2024-08-24T10:55:41.884Z"
   },
   {
    "duration": 26,
    "start_time": "2024-08-24T10:56:10.328Z"
   },
   {
    "duration": 349,
    "start_time": "2024-08-24T10:56:25.671Z"
   },
   {
    "duration": 52,
    "start_time": "2024-08-24T10:57:42.852Z"
   },
   {
    "duration": 40,
    "start_time": "2024-08-24T10:57:46.116Z"
   },
   {
    "duration": 30,
    "start_time": "2024-08-24T10:58:05.544Z"
   },
   {
    "duration": 39,
    "start_time": "2024-08-24T10:58:07.351Z"
   },
   {
    "duration": 64,
    "start_time": "2024-08-24T10:58:10.820Z"
   },
   {
    "duration": 69,
    "start_time": "2024-08-24T11:00:31.536Z"
   },
   {
    "duration": 26,
    "start_time": "2024-08-24T11:00:37.440Z"
   },
   {
    "duration": 25,
    "start_time": "2024-08-24T11:00:52.291Z"
   },
   {
    "duration": 20,
    "start_time": "2024-08-24T11:00:58.325Z"
   },
   {
    "duration": 23,
    "start_time": "2024-08-24T11:01:06.877Z"
   },
   {
    "duration": 21,
    "start_time": "2024-08-24T11:01:18.287Z"
   },
   {
    "duration": 36,
    "start_time": "2024-08-24T11:01:31.793Z"
   },
   {
    "duration": 23,
    "start_time": "2024-08-24T11:01:38.708Z"
   },
   {
    "duration": 20,
    "start_time": "2024-08-24T11:01:52.208Z"
   },
   {
    "duration": 35,
    "start_time": "2024-08-24T11:02:09.246Z"
   },
   {
    "duration": 25,
    "start_time": "2024-08-24T11:02:14.866Z"
   },
   {
    "duration": 24,
    "start_time": "2024-08-24T11:02:27.887Z"
   },
   {
    "duration": 66,
    "start_time": "2024-08-24T11:04:27.195Z"
   },
   {
    "duration": 36,
    "start_time": "2024-08-24T11:04:41.375Z"
   },
   {
    "duration": 48,
    "start_time": "2024-08-24T11:05:10.589Z"
   },
   {
    "duration": 28,
    "start_time": "2024-08-24T11:05:13.948Z"
   },
   {
    "duration": 58,
    "start_time": "2024-08-24T11:05:14.994Z"
   },
   {
    "duration": 41,
    "start_time": "2024-08-24T11:05:20.884Z"
   },
   {
    "duration": 4,
    "start_time": "2024-08-24T11:05:22.580Z"
   },
   {
    "duration": 10006,
    "start_time": "2024-08-24T11:05:24.444Z"
   },
   {
    "duration": 73,
    "start_time": "2024-08-24T11:05:34.452Z"
   },
   {
    "duration": 51,
    "start_time": "2024-08-24T19:30:50.164Z"
   },
   {
    "duration": 1692,
    "start_time": "2024-08-24T19:31:05.716Z"
   },
   {
    "duration": 19,
    "start_time": "2024-08-24T19:31:11.247Z"
   },
   {
    "duration": 3096,
    "start_time": "2024-08-24T19:31:19.847Z"
   },
   {
    "duration": 2613,
    "start_time": "2024-08-24T19:31:26.550Z"
   },
   {
    "duration": 4,
    "start_time": "2024-08-24T19:32:11.236Z"
   },
   {
    "duration": 7,
    "start_time": "2024-08-24T19:32:11.854Z"
   },
   {
    "duration": 56,
    "start_time": "2024-08-24T19:32:14.844Z"
   },
   {
    "duration": 563,
    "start_time": "2024-08-24T19:32:15.779Z"
   },
   {
    "duration": 50,
    "start_time": "2024-08-24T19:32:24.724Z"
   },
   {
    "duration": 11,
    "start_time": "2024-08-24T19:32:26.925Z"
   },
   {
    "duration": 13,
    "start_time": "2024-08-24T19:32:35.509Z"
   },
   {
    "duration": 88,
    "start_time": "2024-08-24T19:32:37.243Z"
   },
   {
    "duration": 41,
    "start_time": "2024-08-24T19:32:39.166Z"
   },
   {
    "duration": 54,
    "start_time": "2024-08-24T19:32:40.747Z"
   },
   {
    "duration": 35,
    "start_time": "2024-08-24T19:32:48.340Z"
   },
   {
    "duration": 18,
    "start_time": "2024-08-24T19:32:58.391Z"
   },
   {
    "duration": 12,
    "start_time": "2024-08-24T19:33:05.441Z"
   },
   {
    "duration": 28,
    "start_time": "2024-08-24T19:33:13.900Z"
   },
   {
    "duration": 10,
    "start_time": "2024-08-24T19:33:24.973Z"
   },
   {
    "duration": 16,
    "start_time": "2024-08-24T19:33:34.869Z"
   },
   {
    "duration": 367,
    "start_time": "2024-08-24T19:33:35.820Z"
   },
   {
    "duration": 27,
    "start_time": "2024-08-24T19:33:45.868Z"
   },
   {
    "duration": 82,
    "start_time": "2024-08-24T19:33:56.574Z"
   },
   {
    "duration": 56,
    "start_time": "2024-08-24T19:34:00.587Z"
   },
   {
    "duration": 29,
    "start_time": "2024-08-24T19:34:20.115Z"
   },
   {
    "duration": 41,
    "start_time": "2024-08-24T19:34:22.898Z"
   },
   {
    "duration": 85,
    "start_time": "2024-08-24T19:34:28.609Z"
   },
   {
    "duration": 34,
    "start_time": "2024-08-24T19:35:27.730Z"
   },
   {
    "duration": 46,
    "start_time": "2024-08-24T19:35:28.779Z"
   },
   {
    "duration": 28,
    "start_time": "2024-08-24T19:35:35.003Z"
   },
   {
    "duration": 15,
    "start_time": "2024-08-24T19:36:23.537Z"
   },
   {
    "duration": 30,
    "start_time": "2024-08-24T19:36:27.467Z"
   },
   {
    "duration": 68,
    "start_time": "2024-08-24T19:36:30.013Z"
   },
   {
    "duration": 64,
    "start_time": "2024-08-24T19:36:36.741Z"
   },
   {
    "duration": 5,
    "start_time": "2024-08-24T19:36:40.965Z"
   },
   {
    "duration": 11798,
    "start_time": "2024-08-24T19:36:41.860Z"
   },
   {
    "duration": 83,
    "start_time": "2024-08-24T19:37:01.253Z"
   },
   {
    "duration": 9,
    "start_time": "2024-08-24T20:05:38.259Z"
   },
   {
    "duration": 95,
    "start_time": "2024-08-24T20:16:17.078Z"
   },
   {
    "duration": 9,
    "start_time": "2024-08-24T20:16:43.935Z"
   },
   {
    "duration": 76,
    "start_time": "2024-08-24T20:16:50.451Z"
   },
   {
    "duration": 52,
    "start_time": "2024-08-25T04:23:24.847Z"
   },
   {
    "duration": 1608,
    "start_time": "2024-08-25T04:23:35.112Z"
   },
   {
    "duration": 8,
    "start_time": "2024-08-25T04:23:37.388Z"
   },
   {
    "duration": 2927,
    "start_time": "2024-08-25T04:23:39.847Z"
   },
   {
    "duration": 2277,
    "start_time": "2024-08-25T04:23:42.776Z"
   },
   {
    "duration": 5,
    "start_time": "2024-08-25T04:23:45.065Z"
   },
   {
    "duration": 5,
    "start_time": "2024-08-25T04:23:45.571Z"
   },
   {
    "duration": 54,
    "start_time": "2024-08-25T04:23:46.823Z"
   },
   {
    "duration": 499,
    "start_time": "2024-08-25T04:23:47.328Z"
   },
   {
    "duration": 28,
    "start_time": "2024-08-25T04:23:49.207Z"
   },
   {
    "duration": 10,
    "start_time": "2024-08-25T04:23:49.901Z"
   },
   {
    "duration": 9,
    "start_time": "2024-08-25T04:23:54.087Z"
   },
   {
    "duration": 71,
    "start_time": "2024-08-25T04:23:55.703Z"
   },
   {
    "duration": 42,
    "start_time": "2024-08-25T04:23:57.360Z"
   },
   {
    "duration": 55,
    "start_time": "2024-08-25T04:23:58.032Z"
   },
   {
    "duration": 26,
    "start_time": "2024-08-25T04:24:01.790Z"
   },
   {
    "duration": 17,
    "start_time": "2024-08-25T04:24:02.640Z"
   },
   {
    "duration": 8,
    "start_time": "2024-08-25T04:24:04.376Z"
   },
   {
    "duration": 29,
    "start_time": "2024-08-25T04:24:07.309Z"
   },
   {
    "duration": 8,
    "start_time": "2024-08-25T04:24:15.144Z"
   },
   {
    "duration": 14,
    "start_time": "2024-08-25T04:24:17.102Z"
   },
   {
    "duration": 318,
    "start_time": "2024-08-25T04:24:18.323Z"
   },
   {
    "duration": 24,
    "start_time": "2024-08-25T04:24:21.113Z"
   },
   {
    "duration": 52,
    "start_time": "2024-08-25T04:24:26.522Z"
   },
   {
    "duration": 51,
    "start_time": "2024-08-25T04:24:27.449Z"
   },
   {
    "duration": 26,
    "start_time": "2024-08-25T04:24:29.324Z"
   },
   {
    "duration": 42,
    "start_time": "2024-08-25T04:24:30.163Z"
   },
   {
    "duration": 62,
    "start_time": "2024-08-25T04:24:30.723Z"
   },
   {
    "duration": 22,
    "start_time": "2024-08-25T04:24:32.587Z"
   },
   {
    "duration": 9,
    "start_time": "2024-08-25T04:24:33.406Z"
   },
   {
    "duration": 28,
    "start_time": "2024-08-25T04:24:34.522Z"
   },
   {
    "duration": 50,
    "start_time": "2024-08-25T04:24:35.295Z"
   },
   {
    "duration": 42,
    "start_time": "2024-08-25T04:24:36.926Z"
   },
   {
    "duration": 3,
    "start_time": "2024-08-25T04:24:37.564Z"
   },
   {
    "duration": 10582,
    "start_time": "2024-08-25T04:24:38.201Z"
   },
   {
    "duration": 68,
    "start_time": "2024-08-25T04:24:48.785Z"
   },
   {
    "duration": 11,
    "start_time": "2024-08-25T04:24:48.855Z"
   },
   {
    "duration": 61,
    "start_time": "2024-08-25T04:24:48.869Z"
   },
   {
    "duration": 2,
    "start_time": "2024-08-25T04:24:48.932Z"
   },
   {
    "duration": 5,
    "start_time": "2024-08-25T04:26:20.208Z"
   },
   {
    "duration": 33,
    "start_time": "2024-08-25T04:39:47.325Z"
   },
   {
    "duration": 82,
    "start_time": "2024-08-25T04:42:58.396Z"
   },
   {
    "duration": 63,
    "start_time": "2024-08-25T04:48:31.532Z"
   },
   {
    "duration": 72,
    "start_time": "2024-08-25T04:48:59.512Z"
   },
   {
    "duration": 953,
    "start_time": "2024-08-25T05:18:27.731Z"
   },
   {
    "duration": 39551,
    "start_time": "2024-08-25T05:20:26.278Z"
   },
   {
    "duration": 21,
    "start_time": "2024-08-25T05:21:38.920Z"
   },
   {
    "duration": 15,
    "start_time": "2024-08-25T05:22:14.898Z"
   },
   {
    "duration": 15,
    "start_time": "2024-08-25T05:22:28.089Z"
   },
   {
    "duration": 62,
    "start_time": "2024-08-25T05:22:30.045Z"
   },
   {
    "duration": 3,
    "start_time": "2024-08-25T05:22:34.280Z"
   },
   {
    "duration": 9,
    "start_time": "2024-08-25T05:22:37.371Z"
   },
   {
    "duration": 17,
    "start_time": "2024-08-25T05:22:40.557Z"
   },
   {
    "duration": 19,
    "start_time": "2024-08-25T05:22:53.241Z"
   },
   {
    "duration": 42657,
    "start_time": "2024-08-25T05:23:07.548Z"
   },
   {
    "duration": 2,
    "start_time": "2024-08-25T05:37:41.090Z"
   },
   {
    "duration": 150,
    "start_time": "2024-08-25T05:37:49.855Z"
   },
   {
    "duration": 9,
    "start_time": "2024-08-25T05:40:20.013Z"
   },
   {
    "duration": 50401,
    "start_time": "2024-08-25T05:40:40.651Z"
   },
   {
    "duration": 121,
    "start_time": "2024-08-25T05:49:30.568Z"
   },
   {
    "duration": 424,
    "start_time": "2024-08-25T05:49:50.556Z"
   },
   {
    "duration": 49211,
    "start_time": "2024-08-25T05:51:04.543Z"
   },
   {
    "duration": 1646,
    "start_time": "2024-08-26T12:08:47.810Z"
   },
   {
    "duration": 8,
    "start_time": "2024-08-26T12:08:52.530Z"
   },
   {
    "duration": 1204,
    "start_time": "2024-08-26T12:08:54.601Z"
   },
   {
    "duration": 2275,
    "start_time": "2024-08-26T12:09:08.471Z"
   },
   {
    "duration": 5,
    "start_time": "2024-08-26T12:09:20.685Z"
   },
   {
    "duration": 4,
    "start_time": "2024-08-26T12:09:22.049Z"
   },
   {
    "duration": 50,
    "start_time": "2024-08-26T12:09:28.521Z"
   },
   {
    "duration": 497,
    "start_time": "2024-08-26T12:09:29.057Z"
   },
   {
    "duration": 36,
    "start_time": "2024-08-26T12:09:32.369Z"
   },
   {
    "duration": 11,
    "start_time": "2024-08-26T12:09:33.818Z"
   },
   {
    "duration": 9,
    "start_time": "2024-08-26T12:09:39.160Z"
   },
   {
    "duration": 64,
    "start_time": "2024-08-26T12:09:40.974Z"
   },
   {
    "duration": 37,
    "start_time": "2024-08-26T12:09:42.632Z"
   },
   {
    "duration": 48,
    "start_time": "2024-08-26T12:09:44.350Z"
   },
   {
    "duration": 27,
    "start_time": "2024-08-26T12:09:52.144Z"
   },
   {
    "duration": 22,
    "start_time": "2024-08-26T12:09:53.552Z"
   },
   {
    "duration": 8,
    "start_time": "2024-08-26T12:13:09.425Z"
   },
   {
    "duration": 29,
    "start_time": "2024-08-26T12:13:12.641Z"
   },
   {
    "duration": 9,
    "start_time": "2024-08-26T12:13:22.510Z"
   },
   {
    "duration": 15,
    "start_time": "2024-08-26T12:13:27.657Z"
   },
   {
    "duration": 313,
    "start_time": "2024-08-26T12:13:28.991Z"
   },
   {
    "duration": 28,
    "start_time": "2024-08-26T12:13:32.849Z"
   },
   {
    "duration": 42,
    "start_time": "2024-08-26T12:13:44.481Z"
   },
   {
    "duration": 43,
    "start_time": "2024-08-26T12:13:46.102Z"
   },
   {
    "duration": 29,
    "start_time": "2024-08-26T12:13:50.694Z"
   },
   {
    "duration": 40,
    "start_time": "2024-08-26T12:13:51.914Z"
   },
   {
    "duration": 77,
    "start_time": "2024-08-26T12:13:53.865Z"
   },
   {
    "duration": 24,
    "start_time": "2024-08-26T12:13:56.862Z"
   },
   {
    "duration": 10,
    "start_time": "2024-08-26T12:13:58.145Z"
   },
   {
    "duration": 29,
    "start_time": "2024-08-26T12:14:01.137Z"
   },
   {
    "duration": 65,
    "start_time": "2024-08-26T12:14:02.505Z"
   },
   {
    "duration": 40,
    "start_time": "2024-08-26T12:14:06.847Z"
   },
   {
    "duration": 3,
    "start_time": "2024-08-26T12:14:09.399Z"
   },
   {
    "duration": 10324,
    "start_time": "2024-08-26T12:14:09.999Z"
   },
   {
    "duration": 75,
    "start_time": "2024-08-26T12:14:20.325Z"
   },
   {
    "duration": 115,
    "start_time": "2024-08-26T12:19:03.179Z"
   },
   {
    "duration": 9,
    "start_time": "2024-08-26T12:19:08.745Z"
   },
   {
    "duration": 64,
    "start_time": "2024-08-26T12:19:10.898Z"
   },
   {
    "duration": 2,
    "start_time": "2024-08-26T12:19:16.843Z"
   },
   {
    "duration": 24,
    "start_time": "2024-08-26T12:19:20.128Z"
   },
   {
    "duration": 44536,
    "start_time": "2024-08-26T12:19:26.025Z"
   },
   {
    "duration": 146,
    "start_time": "2024-08-26T12:20:10.563Z"
   },
   {
    "duration": 27,
    "start_time": "2024-08-26T12:24:37.689Z"
   },
   {
    "duration": 2,
    "start_time": "2024-08-26T12:52:13.812Z"
   },
   {
    "duration": 49121,
    "start_time": "2024-08-26T12:52:16.338Z"
   },
   {
    "duration": 115,
    "start_time": "2024-08-26T12:53:27.499Z"
   },
   {
    "duration": 77,
    "start_time": "2024-08-26T12:54:02.221Z"
   },
   {
    "duration": 16,
    "start_time": "2024-08-26T12:59:49.941Z"
   },
   {
    "duration": 13,
    "start_time": "2024-08-26T13:00:07.077Z"
   },
   {
    "duration": 72,
    "start_time": "2024-08-26T13:00:09.606Z"
   },
   {
    "duration": 3,
    "start_time": "2024-08-26T13:00:16.592Z"
   },
   {
    "duration": 10,
    "start_time": "2024-08-26T13:00:19.339Z"
   },
   {
    "duration": 51,
    "start_time": "2024-08-26T13:00:46.578Z"
   },
   {
    "duration": 1534,
    "start_time": "2024-08-26T13:01:59.971Z"
   },
   {
    "duration": 9,
    "start_time": "2024-08-26T13:02:01.507Z"
   },
   {
    "duration": 1276,
    "start_time": "2024-08-26T13:02:01.518Z"
   },
   {
    "duration": 2456,
    "start_time": "2024-08-26T13:02:02.796Z"
   },
   {
    "duration": 4,
    "start_time": "2024-08-26T13:02:05.254Z"
   },
   {
    "duration": 19,
    "start_time": "2024-08-26T13:02:05.259Z"
   },
   {
    "duration": 57,
    "start_time": "2024-08-26T13:02:05.279Z"
   },
   {
    "duration": 527,
    "start_time": "2024-08-26T13:02:05.338Z"
   },
   {
    "duration": 36,
    "start_time": "2024-08-26T13:02:05.867Z"
   },
   {
    "duration": 74,
    "start_time": "2024-08-26T13:02:05.905Z"
   },
   {
    "duration": 18,
    "start_time": "2024-08-26T13:02:05.980Z"
   },
   {
    "duration": 82,
    "start_time": "2024-08-26T13:02:06.000Z"
   },
   {
    "duration": 35,
    "start_time": "2024-08-26T13:02:06.083Z"
   },
   {
    "duration": 63,
    "start_time": "2024-08-26T13:02:06.121Z"
   },
   {
    "duration": 26,
    "start_time": "2024-08-26T13:02:06.186Z"
   },
   {
    "duration": 17,
    "start_time": "2024-08-26T13:02:06.214Z"
   },
   {
    "duration": 27,
    "start_time": "2024-08-26T13:02:06.232Z"
   },
   {
    "duration": 29,
    "start_time": "2024-08-26T13:02:06.261Z"
   },
   {
    "duration": 10,
    "start_time": "2024-08-26T13:02:06.292Z"
   },
   {
    "duration": 20,
    "start_time": "2024-08-26T13:02:06.304Z"
   },
   {
    "duration": 316,
    "start_time": "2024-08-26T13:02:06.353Z"
   },
   {
    "duration": 26,
    "start_time": "2024-08-26T13:02:06.671Z"
   },
   {
    "duration": 81,
    "start_time": "2024-08-26T13:02:06.699Z"
   },
   {
    "duration": 43,
    "start_time": "2024-08-26T13:02:06.782Z"
   },
   {
    "duration": 45,
    "start_time": "2024-08-26T13:02:06.826Z"
   },
   {
    "duration": 40,
    "start_time": "2024-08-26T13:02:06.873Z"
   },
   {
    "duration": 74,
    "start_time": "2024-08-26T13:02:06.914Z"
   },
   {
    "duration": 24,
    "start_time": "2024-08-26T13:02:06.989Z"
   },
   {
    "duration": 12,
    "start_time": "2024-08-26T13:02:07.014Z"
   },
   {
    "duration": 50,
    "start_time": "2024-08-26T13:02:07.028Z"
   },
   {
    "duration": 54,
    "start_time": "2024-08-26T13:02:07.080Z"
   },
   {
    "duration": 53,
    "start_time": "2024-08-26T13:02:07.135Z"
   },
   {
    "duration": 23,
    "start_time": "2024-08-26T13:02:07.189Z"
   },
   {
    "duration": 10759,
    "start_time": "2024-08-26T13:02:07.214Z"
   },
   {
    "duration": 77,
    "start_time": "2024-08-26T13:02:17.975Z"
   },
   {
    "duration": 8,
    "start_time": "2024-08-26T13:02:18.054Z"
   },
   {
    "duration": 69,
    "start_time": "2024-08-26T13:02:18.064Z"
   },
   {
    "duration": 18,
    "start_time": "2024-08-26T13:02:18.135Z"
   },
   {
    "duration": 55,
    "start_time": "2024-08-26T13:02:18.154Z"
   },
   {
    "duration": 44953,
    "start_time": "2024-08-26T13:02:18.211Z"
   },
   {
    "duration": 153,
    "start_time": "2024-08-26T13:03:03.168Z"
   },
   {
    "duration": 30,
    "start_time": "2024-08-26T13:03:03.323Z"
   },
   {
    "duration": 4,
    "start_time": "2024-08-26T13:03:03.355Z"
   },
   {
    "duration": 123,
    "start_time": "2024-08-26T13:03:03.360Z"
   },
   {
    "duration": 0,
    "start_time": "2024-08-26T13:03:03.484Z"
   },
   {
    "duration": 0,
    "start_time": "2024-08-26T13:03:03.485Z"
   },
   {
    "duration": 0,
    "start_time": "2024-08-26T13:03:03.487Z"
   },
   {
    "duration": 0,
    "start_time": "2024-08-26T13:03:03.488Z"
   },
   {
    "duration": 0,
    "start_time": "2024-08-26T13:03:03.489Z"
   },
   {
    "duration": 0,
    "start_time": "2024-08-26T13:03:03.490Z"
   },
   {
    "duration": 0,
    "start_time": "2024-08-26T13:03:03.491Z"
   },
   {
    "duration": 0,
    "start_time": "2024-08-26T13:03:03.492Z"
   },
   {
    "duration": 1,
    "start_time": "2024-08-26T13:03:03.493Z"
   },
   {
    "duration": 0,
    "start_time": "2024-08-26T13:03:03.495Z"
   },
   {
    "duration": 0,
    "start_time": "2024-08-26T13:03:03.496Z"
   },
   {
    "duration": 0,
    "start_time": "2024-08-26T13:03:03.497Z"
   },
   {
    "duration": 0,
    "start_time": "2024-08-26T13:03:03.498Z"
   },
   {
    "duration": 0,
    "start_time": "2024-08-26T13:03:03.499Z"
   },
   {
    "duration": 0,
    "start_time": "2024-08-26T13:03:03.500Z"
   },
   {
    "duration": 0,
    "start_time": "2024-08-26T13:03:03.501Z"
   },
   {
    "duration": 0,
    "start_time": "2024-08-26T13:03:03.502Z"
   },
   {
    "duration": 0,
    "start_time": "2024-08-26T13:03:03.504Z"
   },
   {
    "duration": 0,
    "start_time": "2024-08-26T13:03:03.505Z"
   },
   {
    "duration": 0,
    "start_time": "2024-08-26T13:03:03.506Z"
   },
   {
    "duration": 0,
    "start_time": "2024-08-26T13:03:03.507Z"
   },
   {
    "duration": 0,
    "start_time": "2024-08-26T13:03:03.508Z"
   },
   {
    "duration": 12847,
    "start_time": "2024-08-26T13:05:46.218Z"
   },
   {
    "duration": 24,
    "start_time": "2024-08-26T13:06:59.287Z"
   },
   {
    "duration": 11,
    "start_time": "2024-08-26T13:08:12.182Z"
   },
   {
    "duration": 57,
    "start_time": "2024-08-26T13:08:14.562Z"
   },
   {
    "duration": 3,
    "start_time": "2024-08-26T13:08:17.655Z"
   },
   {
    "duration": 8,
    "start_time": "2024-08-26T13:08:19.554Z"
   },
   {
    "duration": 1450,
    "start_time": "2024-08-26T13:08:39.604Z"
   },
   {
    "duration": 8,
    "start_time": "2024-08-26T13:08:41.055Z"
   },
   {
    "duration": 1186,
    "start_time": "2024-08-26T13:08:41.065Z"
   },
   {
    "duration": 2328,
    "start_time": "2024-08-26T13:08:42.253Z"
   },
   {
    "duration": 4,
    "start_time": "2024-08-26T13:08:44.583Z"
   },
   {
    "duration": 17,
    "start_time": "2024-08-26T13:08:44.588Z"
   },
   {
    "duration": 61,
    "start_time": "2024-08-26T13:08:44.607Z"
   },
   {
    "duration": 524,
    "start_time": "2024-08-26T13:08:44.670Z"
   },
   {
    "duration": 36,
    "start_time": "2024-08-26T13:08:45.196Z"
   },
   {
    "duration": 42,
    "start_time": "2024-08-26T13:08:45.235Z"
   },
   {
    "duration": 30,
    "start_time": "2024-08-26T13:08:45.278Z"
   },
   {
    "duration": 75,
    "start_time": "2024-08-26T13:08:45.309Z"
   },
   {
    "duration": 54,
    "start_time": "2024-08-26T13:08:45.386Z"
   },
   {
    "duration": 74,
    "start_time": "2024-08-26T13:08:45.442Z"
   },
   {
    "duration": 27,
    "start_time": "2024-08-26T13:08:45.517Z"
   },
   {
    "duration": 38,
    "start_time": "2024-08-26T13:08:45.546Z"
   },
   {
    "duration": 9,
    "start_time": "2024-08-26T13:08:45.586Z"
   },
   {
    "duration": 36,
    "start_time": "2024-08-26T13:08:45.597Z"
   },
   {
    "duration": 10,
    "start_time": "2024-08-26T13:08:45.635Z"
   },
   {
    "duration": 16,
    "start_time": "2024-08-26T13:08:45.646Z"
   },
   {
    "duration": 309,
    "start_time": "2024-08-26T13:08:45.664Z"
   },
   {
    "duration": 27,
    "start_time": "2024-08-26T13:08:45.974Z"
   },
   {
    "duration": 62,
    "start_time": "2024-08-26T13:08:46.002Z"
   },
   {
    "duration": 48,
    "start_time": "2024-08-26T13:08:46.066Z"
   },
   {
    "duration": 43,
    "start_time": "2024-08-26T13:08:46.116Z"
   },
   {
    "duration": 40,
    "start_time": "2024-08-26T13:08:46.160Z"
   },
   {
    "duration": 76,
    "start_time": "2024-08-26T13:08:46.201Z"
   },
   {
    "duration": 24,
    "start_time": "2024-08-26T13:08:46.281Z"
   },
   {
    "duration": 16,
    "start_time": "2024-08-26T13:08:46.307Z"
   },
   {
    "duration": 55,
    "start_time": "2024-08-26T13:08:46.324Z"
   },
   {
    "duration": 60,
    "start_time": "2024-08-26T13:08:46.380Z"
   },
   {
    "duration": 44,
    "start_time": "2024-08-26T13:08:46.452Z"
   },
   {
    "duration": 20,
    "start_time": "2024-08-26T13:08:46.498Z"
   },
   {
    "duration": 10081,
    "start_time": "2024-08-26T13:08:46.519Z"
   },
   {
    "duration": 85,
    "start_time": "2024-08-26T13:08:56.602Z"
   },
   {
    "duration": 9,
    "start_time": "2024-08-26T13:08:56.689Z"
   },
   {
    "duration": 88,
    "start_time": "2024-08-26T13:08:56.699Z"
   },
   {
    "duration": 3,
    "start_time": "2024-08-26T13:08:56.788Z"
   },
   {
    "duration": 25,
    "start_time": "2024-08-26T13:08:56.793Z"
   },
   {
    "duration": 43598,
    "start_time": "2024-08-26T13:08:56.820Z"
   },
   {
    "duration": 152,
    "start_time": "2024-08-26T13:09:40.420Z"
   },
   {
    "duration": 12355,
    "start_time": "2024-08-26T13:09:40.573Z"
   },
   {
    "duration": 28,
    "start_time": "2024-08-26T13:09:52.929Z"
   },
   {
    "duration": 52,
    "start_time": "2024-08-26T13:09:52.958Z"
   },
   {
    "duration": 113,
    "start_time": "2024-08-26T13:09:53.012Z"
   },
   {
    "duration": 0,
    "start_time": "2024-08-26T13:09:53.126Z"
   },
   {
    "duration": 0,
    "start_time": "2024-08-26T13:09:53.128Z"
   },
   {
    "duration": 0,
    "start_time": "2024-08-26T13:09:53.128Z"
   },
   {
    "duration": 0,
    "start_time": "2024-08-26T13:09:53.130Z"
   },
   {
    "duration": 0,
    "start_time": "2024-08-26T13:09:53.131Z"
   },
   {
    "duration": 0,
    "start_time": "2024-08-26T13:09:53.132Z"
   },
   {
    "duration": 0,
    "start_time": "2024-08-26T13:09:53.133Z"
   },
   {
    "duration": 0,
    "start_time": "2024-08-26T13:09:53.134Z"
   },
   {
    "duration": 0,
    "start_time": "2024-08-26T13:09:53.135Z"
   },
   {
    "duration": 0,
    "start_time": "2024-08-26T13:09:53.152Z"
   },
   {
    "duration": 0,
    "start_time": "2024-08-26T13:09:53.153Z"
   },
   {
    "duration": 0,
    "start_time": "2024-08-26T13:09:53.154Z"
   },
   {
    "duration": 0,
    "start_time": "2024-08-26T13:09:53.155Z"
   },
   {
    "duration": 0,
    "start_time": "2024-08-26T13:09:53.156Z"
   },
   {
    "duration": 0,
    "start_time": "2024-08-26T13:09:53.157Z"
   },
   {
    "duration": 0,
    "start_time": "2024-08-26T13:09:53.158Z"
   },
   {
    "duration": 0,
    "start_time": "2024-08-26T13:09:53.159Z"
   },
   {
    "duration": 0,
    "start_time": "2024-08-26T13:09:53.160Z"
   },
   {
    "duration": 0,
    "start_time": "2024-08-26T13:09:53.161Z"
   },
   {
    "duration": 0,
    "start_time": "2024-08-26T13:09:53.162Z"
   },
   {
    "duration": 0,
    "start_time": "2024-08-26T13:09:53.163Z"
   },
   {
    "duration": 0,
    "start_time": "2024-08-26T13:09:53.164Z"
   },
   {
    "duration": 3,
    "start_time": "2024-08-26T13:17:17.706Z"
   },
   {
    "duration": 3,
    "start_time": "2024-08-26T13:17:38.796Z"
   },
   {
    "duration": 3,
    "start_time": "2024-08-26T13:18:23.039Z"
   },
   {
    "duration": 57447,
    "start_time": "2024-08-26T13:18:51.312Z"
   },
   {
    "duration": 130,
    "start_time": "2024-08-26T13:20:08.347Z"
   },
   {
    "duration": 21728,
    "start_time": "2024-08-26T13:20:21.424Z"
   },
   {
    "duration": 89,
    "start_time": "2024-08-26T13:21:08.722Z"
   },
   {
    "duration": 58,
    "start_time": "2024-08-26T13:21:14.493Z"
   },
   {
    "duration": 5,
    "start_time": "2024-08-26T13:21:23.127Z"
   },
   {
    "duration": 12,
    "start_time": "2024-08-26T13:26:39.989Z"
   },
   {
    "duration": 59,
    "start_time": "2024-08-26T13:26:41.655Z"
   },
   {
    "duration": 3,
    "start_time": "2024-08-26T13:26:43.425Z"
   },
   {
    "duration": 9,
    "start_time": "2024-08-26T13:26:44.680Z"
   },
   {
    "duration": 1530,
    "start_time": "2024-08-26T13:27:05.312Z"
   },
   {
    "duration": 8,
    "start_time": "2024-08-26T13:27:06.844Z"
   },
   {
    "duration": 1217,
    "start_time": "2024-08-26T13:27:06.854Z"
   },
   {
    "duration": 2328,
    "start_time": "2024-08-26T13:27:08.073Z"
   },
   {
    "duration": 4,
    "start_time": "2024-08-26T13:27:10.403Z"
   },
   {
    "duration": 26,
    "start_time": "2024-08-26T13:27:10.409Z"
   },
   {
    "duration": 59,
    "start_time": "2024-08-26T13:27:10.436Z"
   },
   {
    "duration": 500,
    "start_time": "2024-08-26T13:27:10.496Z"
   },
   {
    "duration": 35,
    "start_time": "2024-08-26T13:27:10.998Z"
   },
   {
    "duration": 24,
    "start_time": "2024-08-26T13:27:11.036Z"
   },
   {
    "duration": 10,
    "start_time": "2024-08-26T13:27:11.061Z"
   },
   {
    "duration": 84,
    "start_time": "2024-08-26T13:27:11.073Z"
   },
   {
    "duration": 35,
    "start_time": "2024-08-26T13:27:11.159Z"
   },
   {
    "duration": 64,
    "start_time": "2024-08-26T13:27:11.195Z"
   },
   {
    "duration": 27,
    "start_time": "2024-08-26T13:27:11.261Z"
   },
   {
    "duration": 18,
    "start_time": "2024-08-26T13:27:11.290Z"
   },
   {
    "duration": 8,
    "start_time": "2024-08-26T13:27:11.310Z"
   },
   {
    "duration": 53,
    "start_time": "2024-08-26T13:27:11.320Z"
   },
   {
    "duration": 9,
    "start_time": "2024-08-26T13:27:11.375Z"
   },
   {
    "duration": 43,
    "start_time": "2024-08-26T13:27:11.385Z"
   },
   {
    "duration": 316,
    "start_time": "2024-08-26T13:27:11.429Z"
   },
   {
    "duration": 31,
    "start_time": "2024-08-26T13:27:11.746Z"
   },
   {
    "duration": 44,
    "start_time": "2024-08-26T13:27:11.779Z"
   },
   {
    "duration": 60,
    "start_time": "2024-08-26T13:27:11.824Z"
   },
   {
    "duration": 54,
    "start_time": "2024-08-26T13:27:11.885Z"
   },
   {
    "duration": 40,
    "start_time": "2024-08-26T13:27:11.941Z"
   },
   {
    "duration": 56,
    "start_time": "2024-08-26T13:27:11.982Z"
   },
   {
    "duration": 43,
    "start_time": "2024-08-26T13:27:12.052Z"
   },
   {
    "duration": 14,
    "start_time": "2024-08-26T13:27:12.097Z"
   },
   {
    "duration": 31,
    "start_time": "2024-08-26T13:27:12.113Z"
   },
   {
    "duration": 67,
    "start_time": "2024-08-26T13:27:12.145Z"
   },
   {
    "duration": 42,
    "start_time": "2024-08-26T13:27:12.214Z"
   },
   {
    "duration": 3,
    "start_time": "2024-08-26T13:27:12.257Z"
   },
   {
    "duration": 9548,
    "start_time": "2024-08-26T13:27:12.261Z"
   },
   {
    "duration": 75,
    "start_time": "2024-08-26T13:27:21.811Z"
   },
   {
    "duration": 41,
    "start_time": "2024-08-26T13:27:21.887Z"
   },
   {
    "duration": 67,
    "start_time": "2024-08-26T13:27:21.929Z"
   },
   {
    "duration": 2,
    "start_time": "2024-08-26T13:27:21.998Z"
   },
   {
    "duration": 82,
    "start_time": "2024-08-26T13:27:22.002Z"
   },
   {
    "duration": 56246,
    "start_time": "2024-08-26T13:27:22.086Z"
   },
   {
    "duration": 140,
    "start_time": "2024-08-26T13:28:18.333Z"
   },
   {
    "duration": 25,
    "start_time": "2024-08-26T13:28:18.475Z"
   },
   {
    "duration": 36,
    "start_time": "2024-08-26T13:28:18.501Z"
   },
   {
    "duration": 33,
    "start_time": "2024-08-26T13:28:18.539Z"
   },
   {
    "duration": 4,
    "start_time": "2024-08-26T13:28:18.573Z"
   },
   {
    "duration": 114,
    "start_time": "2024-08-26T13:28:18.579Z"
   },
   {
    "duration": 0,
    "start_time": "2024-08-26T13:28:18.695Z"
   },
   {
    "duration": 0,
    "start_time": "2024-08-26T13:28:18.696Z"
   },
   {
    "duration": 0,
    "start_time": "2024-08-26T13:28:18.697Z"
   },
   {
    "duration": 0,
    "start_time": "2024-08-26T13:28:18.698Z"
   },
   {
    "duration": 0,
    "start_time": "2024-08-26T13:28:18.699Z"
   },
   {
    "duration": 0,
    "start_time": "2024-08-26T13:28:18.700Z"
   },
   {
    "duration": 0,
    "start_time": "2024-08-26T13:28:18.701Z"
   },
   {
    "duration": 0,
    "start_time": "2024-08-26T13:28:18.702Z"
   },
   {
    "duration": 0,
    "start_time": "2024-08-26T13:28:18.703Z"
   },
   {
    "duration": 0,
    "start_time": "2024-08-26T13:28:18.703Z"
   },
   {
    "duration": 0,
    "start_time": "2024-08-26T13:28:18.705Z"
   },
   {
    "duration": 0,
    "start_time": "2024-08-26T13:28:18.706Z"
   },
   {
    "duration": 0,
    "start_time": "2024-08-26T13:28:18.706Z"
   },
   {
    "duration": 0,
    "start_time": "2024-08-26T13:28:18.707Z"
   },
   {
    "duration": 0,
    "start_time": "2024-08-26T13:28:18.709Z"
   },
   {
    "duration": 0,
    "start_time": "2024-08-26T13:28:18.710Z"
   },
   {
    "duration": 0,
    "start_time": "2024-08-26T13:28:18.711Z"
   },
   {
    "duration": 0,
    "start_time": "2024-08-26T13:28:18.712Z"
   },
   {
    "duration": 0,
    "start_time": "2024-08-26T13:28:18.713Z"
   },
   {
    "duration": 0,
    "start_time": "2024-08-26T13:28:18.714Z"
   },
   {
    "duration": 0,
    "start_time": "2024-08-26T13:28:18.715Z"
   },
   {
    "duration": 0,
    "start_time": "2024-08-26T13:28:18.716Z"
   },
   {
    "duration": 67,
    "start_time": "2024-08-26T13:37:08.268Z"
   },
   {
    "duration": 3,
    "start_time": "2024-08-26T13:37:54.502Z"
   },
   {
    "duration": 377,
    "start_time": "2024-08-26T13:49:46.001Z"
   },
   {
    "duration": 381,
    "start_time": "2024-08-26T13:50:11.050Z"
   },
   {
    "duration": 8,
    "start_time": "2024-08-26T13:50:19.447Z"
   },
   {
    "duration": 2,
    "start_time": "2024-08-26T13:50:21.913Z"
   },
   {
    "duration": 429,
    "start_time": "2024-08-26T13:50:25.055Z"
   },
   {
    "duration": 9,
    "start_time": "2024-08-26T13:51:52.552Z"
   },
   {
    "duration": 2,
    "start_time": "2024-08-26T13:51:54.903Z"
   },
   {
    "duration": 310,
    "start_time": "2024-08-26T13:51:57.873Z"
   },
   {
    "duration": 316,
    "start_time": "2024-08-26T13:53:59.271Z"
   },
   {
    "duration": 12,
    "start_time": "2024-08-26T13:54:12.728Z"
   },
   {
    "duration": 12,
    "start_time": "2024-08-26T13:54:26.469Z"
   },
   {
    "duration": 18,
    "start_time": "2024-08-26T13:55:24.760Z"
   },
   {
    "duration": 21,
    "start_time": "2024-08-26T13:55:32.628Z"
   },
   {
    "duration": 124,
    "start_time": "2024-08-26T14:00:28.023Z"
   },
   {
    "duration": 13,
    "start_time": "2024-08-26T14:00:50.446Z"
   },
   {
    "duration": 3,
    "start_time": "2024-08-26T14:01:41.508Z"
   },
   {
    "duration": 76,
    "start_time": "2024-08-26T14:04:08.298Z"
   },
   {
    "duration": 2,
    "start_time": "2024-08-26T14:10:17.541Z"
   },
   {
    "duration": 48741,
    "start_time": "2024-08-26T14:10:20.812Z"
   },
   {
    "duration": 51916,
    "start_time": "2024-08-26T14:20:07.438Z"
   },
   {
    "duration": 68,
    "start_time": "2024-08-26T14:20:59.356Z"
   },
   {
    "duration": 272153,
    "start_time": "2024-08-26T14:22:52.558Z"
   },
   {
    "duration": 2787,
    "start_time": "2024-08-26T14:30:05.240Z"
   },
   {
    "duration": 68,
    "start_time": "2024-08-26T14:30:17.733Z"
   },
   {
    "duration": 2513,
    "start_time": "2024-08-26T14:30:22.311Z"
   },
   {
    "duration": 49123,
    "start_time": "2024-08-26T14:38:12.330Z"
   },
   {
    "duration": 270395,
    "start_time": "2024-08-26T14:41:12.077Z"
   },
   {
    "duration": 3943,
    "start_time": "2024-08-26T14:52:29.554Z"
   },
   {
    "duration": 8,
    "start_time": "2024-08-26T14:52:33.500Z"
   },
   {
    "duration": 952,
    "start_time": "2024-08-26T14:52:33.510Z"
   },
   {
    "duration": 2343,
    "start_time": "2024-08-26T14:52:34.464Z"
   },
   {
    "duration": 4,
    "start_time": "2024-08-26T14:52:36.809Z"
   },
   {
    "duration": 33,
    "start_time": "2024-08-26T14:52:36.815Z"
   },
   {
    "duration": 56,
    "start_time": "2024-08-26T14:52:36.850Z"
   },
   {
    "duration": 513,
    "start_time": "2024-08-26T14:52:36.908Z"
   },
   {
    "duration": 38,
    "start_time": "2024-08-26T14:52:37.423Z"
   },
   {
    "duration": 11,
    "start_time": "2024-08-26T14:52:37.462Z"
   },
   {
    "duration": 8,
    "start_time": "2024-08-26T14:52:37.475Z"
   },
   {
    "duration": 79,
    "start_time": "2024-08-26T14:52:37.485Z"
   },
   {
    "duration": 41,
    "start_time": "2024-08-26T14:52:37.566Z"
   },
   {
    "duration": 64,
    "start_time": "2024-08-26T14:52:37.610Z"
   },
   {
    "duration": 28,
    "start_time": "2024-08-26T14:52:37.675Z"
   },
   {
    "duration": 18,
    "start_time": "2024-08-26T14:52:37.704Z"
   },
   {
    "duration": 33,
    "start_time": "2024-08-26T14:52:37.724Z"
   },
   {
    "duration": 65,
    "start_time": "2024-08-26T14:52:37.759Z"
   },
   {
    "duration": 9,
    "start_time": "2024-08-26T14:52:37.826Z"
   },
   {
    "duration": 21,
    "start_time": "2024-08-26T14:52:37.837Z"
   },
   {
    "duration": 300,
    "start_time": "2024-08-26T14:52:37.859Z"
   },
   {
    "duration": 26,
    "start_time": "2024-08-26T14:52:38.161Z"
   },
   {
    "duration": 63,
    "start_time": "2024-08-26T14:52:38.189Z"
   },
   {
    "duration": 40,
    "start_time": "2024-08-26T14:52:38.253Z"
   },
   {
    "duration": 27,
    "start_time": "2024-08-26T14:52:38.295Z"
   },
   {
    "duration": 106,
    "start_time": "2024-08-26T14:52:38.323Z"
   },
   {
    "duration": 55,
    "start_time": "2024-08-26T14:52:38.430Z"
   },
   {
    "duration": 25,
    "start_time": "2024-08-26T14:52:38.486Z"
   },
   {
    "duration": 11,
    "start_time": "2024-08-26T14:52:38.512Z"
   },
   {
    "duration": 45,
    "start_time": "2024-08-26T14:52:38.525Z"
   },
   {
    "duration": 52,
    "start_time": "2024-08-26T14:52:38.572Z"
   },
   {
    "duration": 51,
    "start_time": "2024-08-26T14:52:38.626Z"
   },
   {
    "duration": 10,
    "start_time": "2024-08-26T14:52:38.679Z"
   },
   {
    "duration": 10254,
    "start_time": "2024-08-26T14:52:38.691Z"
   },
   {
    "duration": 67,
    "start_time": "2024-08-26T14:52:48.952Z"
   },
   {
    "duration": 16,
    "start_time": "2024-08-26T14:52:49.021Z"
   },
   {
    "duration": 73,
    "start_time": "2024-08-26T14:52:49.039Z"
   },
   {
    "duration": 3,
    "start_time": "2024-08-26T14:52:49.113Z"
   },
   {
    "duration": 39,
    "start_time": "2024-08-26T14:52:49.117Z"
   },
   {
    "duration": 58822,
    "start_time": "2024-08-26T14:52:49.158Z"
   },
   {
    "duration": 130,
    "start_time": "2024-08-26T14:53:47.984Z"
   },
   {
    "duration": 3,
    "start_time": "2024-08-26T14:53:48.116Z"
   },
   {
    "duration": 18,
    "start_time": "2024-08-26T14:53:48.120Z"
   },
   {
    "duration": 2,
    "start_time": "2024-08-26T14:53:48.140Z"
   },
   {
    "duration": 416,
    "start_time": "2024-08-26T14:53:48.144Z"
   },
   {
    "duration": 142,
    "start_time": "2024-08-26T14:53:48.562Z"
   },
   {
    "duration": 3,
    "start_time": "2024-08-26T14:53:48.705Z"
   },
   {
    "duration": 49148,
    "start_time": "2024-08-26T14:53:48.710Z"
   },
   {
    "duration": 271110,
    "start_time": "2024-08-26T14:54:37.861Z"
   },
   {
    "duration": 9,
    "start_time": "2024-08-26T14:59:08.973Z"
   },
   {
    "duration": 20,
    "start_time": "2024-08-26T14:59:08.983Z"
   },
   {
    "duration": 159,
    "start_time": "2024-08-26T14:59:09.005Z"
   },
   {
    "duration": 3,
    "start_time": "2024-08-26T14:59:09.166Z"
   },
   {
    "duration": 153,
    "start_time": "2024-08-26T14:59:09.171Z"
   },
   {
    "duration": 0,
    "start_time": "2024-08-26T14:59:09.325Z"
   },
   {
    "duration": 0,
    "start_time": "2024-08-26T14:59:09.327Z"
   },
   {
    "duration": 0,
    "start_time": "2024-08-26T14:59:09.328Z"
   },
   {
    "duration": 0,
    "start_time": "2024-08-26T14:59:09.330Z"
   },
   {
    "duration": 0,
    "start_time": "2024-08-26T14:59:09.331Z"
   },
   {
    "duration": 1,
    "start_time": "2024-08-26T14:59:09.332Z"
   },
   {
    "duration": 0,
    "start_time": "2024-08-26T14:59:09.334Z"
   },
   {
    "duration": 0,
    "start_time": "2024-08-26T14:59:09.335Z"
   },
   {
    "duration": 0,
    "start_time": "2024-08-26T14:59:09.337Z"
   },
   {
    "duration": 0,
    "start_time": "2024-08-26T14:59:09.339Z"
   },
   {
    "duration": 0,
    "start_time": "2024-08-26T14:59:09.340Z"
   },
   {
    "duration": 2405,
    "start_time": "2024-08-26T15:09:46.437Z"
   },
   {
    "duration": 10521,
    "start_time": "2024-08-26T15:10:31.850Z"
   },
   {
    "duration": 16565,
    "start_time": "2024-08-26T15:11:26.588Z"
   },
   {
    "duration": 16012,
    "start_time": "2024-08-26T15:12:39.641Z"
   },
   {
    "duration": 150,
    "start_time": "2024-08-26T15:13:49.810Z"
   },
   {
    "duration": 128,
    "start_time": "2024-08-26T15:14:35.125Z"
   },
   {
    "duration": 15981,
    "start_time": "2024-08-26T15:15:46.972Z"
   },
   {
    "duration": 13,
    "start_time": "2024-08-26T15:19:08.846Z"
   },
   {
    "duration": 68,
    "start_time": "2024-08-26T15:20:01.691Z"
   },
   {
    "duration": 300,
    "start_time": "2024-08-26T15:29:51.653Z"
   },
   {
    "duration": 32070,
    "start_time": "2024-08-26T15:29:55.886Z"
   },
   {
    "duration": 667937,
    "start_time": "2024-08-26T15:33:32.176Z"
   },
   {
    "duration": 27,
    "start_time": "2024-08-26T15:46:44.392Z"
   },
   {
    "duration": 116,
    "start_time": "2024-08-26T15:46:57.239Z"
   },
   {
    "duration": 472,
    "start_time": "2024-08-26T15:47:17.548Z"
   },
   {
    "duration": 460,
    "start_time": "2024-08-26T15:50:27.332Z"
   },
   {
    "duration": 44,
    "start_time": "2024-08-26T15:53:08.351Z"
   },
   {
    "duration": 57510,
    "start_time": "2024-08-26T15:55:04.862Z"
   },
   {
    "duration": 10982,
    "start_time": "2024-08-26T15:56:50.490Z"
   },
   {
    "duration": 5,
    "start_time": "2024-08-26T15:57:05.809Z"
   },
   {
    "duration": 227,
    "start_time": "2024-08-26T15:57:33.877Z"
   },
   {
    "duration": 148933,
    "start_time": "2024-08-26T16:01:39.942Z"
   },
   {
    "duration": 34652,
    "start_time": "2024-08-26T16:05:36.124Z"
   },
   {
    "duration": 11,
    "start_time": "2024-08-26T16:15:53.345Z"
   },
   {
    "duration": 15914,
    "start_time": "2024-08-26T16:16:08.344Z"
   },
   {
    "duration": 142,
    "start_time": "2024-08-26T16:16:27.314Z"
   },
   {
    "duration": 10,
    "start_time": "2024-08-26T16:16:32.971Z"
   },
   {
    "duration": 10,
    "start_time": "2024-08-26T16:18:25.740Z"
   },
   {
    "duration": 21,
    "start_time": "2024-08-26T16:24:23.839Z"
   },
   {
    "duration": 5,
    "start_time": "2024-08-26T16:25:04.138Z"
   },
   {
    "duration": 5,
    "start_time": "2024-08-26T16:26:06.318Z"
   },
   {
    "duration": 13,
    "start_time": "2024-08-26T16:26:17.180Z"
   },
   {
    "duration": 12,
    "start_time": "2024-08-26T16:26:55.005Z"
   },
   {
    "duration": 11248,
    "start_time": "2024-08-26T16:27:02.243Z"
   },
   {
    "duration": 4,
    "start_time": "2024-08-26T16:27:15.983Z"
   },
   {
    "duration": 6,
    "start_time": "2024-08-26T16:33:20.055Z"
   },
   {
    "duration": 65,
    "start_time": "2024-08-26T16:33:43.675Z"
   },
   {
    "duration": 63,
    "start_time": "2024-08-26T16:38:35.386Z"
   },
   {
    "duration": 19,
    "start_time": "2024-08-26T16:44:35.486Z"
   },
   {
    "duration": 66,
    "start_time": "2024-08-26T16:47:59.847Z"
   },
   {
    "duration": 10,
    "start_time": "2024-08-26T16:58:38.760Z"
   },
   {
    "duration": 2372,
    "start_time": "2024-08-26T17:08:49.660Z"
   },
   {
    "duration": 9,
    "start_time": "2024-08-26T17:09:00.606Z"
   },
   {
    "duration": 853,
    "start_time": "2024-08-26T17:09:02.147Z"
   },
   {
    "duration": 2269,
    "start_time": "2024-08-26T17:09:03.559Z"
   },
   {
    "duration": 4,
    "start_time": "2024-08-26T17:09:09.035Z"
   },
   {
    "duration": 4,
    "start_time": "2024-08-26T17:09:09.944Z"
   },
   {
    "duration": 58,
    "start_time": "2024-08-26T17:09:12.106Z"
   },
   {
    "duration": 446,
    "start_time": "2024-08-26T17:09:12.937Z"
   },
   {
    "duration": 28,
    "start_time": "2024-08-26T17:09:15.572Z"
   },
   {
    "duration": 11,
    "start_time": "2024-08-26T17:09:16.356Z"
   },
   {
    "duration": 8,
    "start_time": "2024-08-26T17:09:19.890Z"
   },
   {
    "duration": 67,
    "start_time": "2024-08-26T17:09:21.489Z"
   },
   {
    "duration": 35,
    "start_time": "2024-08-26T17:09:23.816Z"
   },
   {
    "duration": 49,
    "start_time": "2024-08-26T17:09:24.611Z"
   },
   {
    "duration": 27,
    "start_time": "2024-08-26T17:09:28.387Z"
   },
   {
    "duration": 18,
    "start_time": "2024-08-26T17:09:29.297Z"
   },
   {
    "duration": 8,
    "start_time": "2024-08-26T17:09:31.714Z"
   },
   {
    "duration": 28,
    "start_time": "2024-08-26T17:09:32.788Z"
   },
   {
    "duration": 9,
    "start_time": "2024-08-26T17:09:35.787Z"
   },
   {
    "duration": 14,
    "start_time": "2024-08-26T17:09:36.606Z"
   },
   {
    "duration": 287,
    "start_time": "2024-08-26T17:09:37.299Z"
   },
   {
    "duration": 25,
    "start_time": "2024-08-26T17:09:39.291Z"
   },
   {
    "duration": 41,
    "start_time": "2024-08-26T17:09:42.348Z"
   },
   {
    "duration": 40,
    "start_time": "2024-08-26T17:09:43.243Z"
   },
   {
    "duration": 29,
    "start_time": "2024-08-26T17:09:45.604Z"
   },
   {
    "duration": 40,
    "start_time": "2024-08-26T17:09:46.954Z"
   },
   {
    "duration": 54,
    "start_time": "2024-08-26T17:09:47.632Z"
   },
   {
    "duration": 23,
    "start_time": "2024-08-26T17:09:51.163Z"
   },
   {
    "duration": 10,
    "start_time": "2024-08-26T17:09:51.932Z"
   },
   {
    "duration": 32,
    "start_time": "2024-08-26T17:09:52.923Z"
   },
   {
    "duration": 67,
    "start_time": "2024-08-26T17:09:53.454Z"
   },
   {
    "duration": 41,
    "start_time": "2024-08-26T17:09:54.789Z"
   },
   {
    "duration": 3,
    "start_time": "2024-08-26T17:09:55.315Z"
   },
   {
    "duration": 10160,
    "start_time": "2024-08-26T17:09:56.204Z"
   },
   {
    "duration": 69,
    "start_time": "2024-08-26T17:10:06.366Z"
   },
   {
    "duration": 11,
    "start_time": "2024-08-26T17:10:16.509Z"
   },
   {
    "duration": 67,
    "start_time": "2024-08-26T17:10:17.710Z"
   },
   {
    "duration": 3,
    "start_time": "2024-08-26T17:10:24.312Z"
   },
   {
    "duration": 16,
    "start_time": "2024-08-26T17:10:27.262Z"
   },
   {
    "duration": 48,
    "start_time": "2024-08-26T17:10:41.573Z"
   },
   {
    "duration": 7,
    "start_time": "2024-08-26T17:10:47.858Z"
   },
   {
    "duration": 7,
    "start_time": "2024-08-26T17:10:52.091Z"
   },
   {
    "duration": 3928,
    "start_time": "2024-08-26T17:12:24.343Z"
   },
   {
    "duration": 8,
    "start_time": "2024-08-26T17:12:28.273Z"
   },
   {
    "duration": 1164,
    "start_time": "2024-08-26T17:12:28.283Z"
   },
   {
    "duration": 2306,
    "start_time": "2024-08-26T17:12:29.449Z"
   },
   {
    "duration": 4,
    "start_time": "2024-08-26T17:12:31.757Z"
   },
   {
    "duration": 6,
    "start_time": "2024-08-26T17:12:31.763Z"
   },
   {
    "duration": 55,
    "start_time": "2024-08-26T17:12:31.771Z"
   },
   {
    "duration": 506,
    "start_time": "2024-08-26T17:12:31.827Z"
   },
   {
    "duration": 33,
    "start_time": "2024-08-26T17:12:32.335Z"
   },
   {
    "duration": 11,
    "start_time": "2024-08-26T17:12:32.370Z"
   },
   {
    "duration": 21,
    "start_time": "2024-08-26T17:12:32.383Z"
   },
   {
    "duration": 79,
    "start_time": "2024-08-26T17:12:32.406Z"
   },
   {
    "duration": 42,
    "start_time": "2024-08-26T17:12:32.487Z"
   },
   {
    "duration": 56,
    "start_time": "2024-08-26T17:12:32.530Z"
   },
   {
    "duration": 27,
    "start_time": "2024-08-26T17:12:32.587Z"
   },
   {
    "duration": 37,
    "start_time": "2024-08-26T17:12:32.616Z"
   },
   {
    "duration": 8,
    "start_time": "2024-08-26T17:12:32.655Z"
   },
   {
    "duration": 26,
    "start_time": "2024-08-26T17:12:32.665Z"
   },
   {
    "duration": 8,
    "start_time": "2024-08-26T17:12:32.693Z"
   },
   {
    "duration": 24,
    "start_time": "2024-08-26T17:12:32.703Z"
   },
   {
    "duration": 317,
    "start_time": "2024-08-26T17:12:32.729Z"
   },
   {
    "duration": 26,
    "start_time": "2024-08-26T17:12:33.051Z"
   },
   {
    "duration": 42,
    "start_time": "2024-08-26T17:12:33.078Z"
   },
   {
    "duration": 63,
    "start_time": "2024-08-26T17:12:33.122Z"
   },
   {
    "duration": 30,
    "start_time": "2024-08-26T17:12:33.186Z"
   },
   {
    "duration": 64,
    "start_time": "2024-08-26T17:12:33.218Z"
   },
   {
    "duration": 55,
    "start_time": "2024-08-26T17:12:33.283Z"
   },
   {
    "duration": 24,
    "start_time": "2024-08-26T17:12:33.351Z"
   },
   {
    "duration": 12,
    "start_time": "2024-08-26T17:12:33.376Z"
   },
   {
    "duration": 39,
    "start_time": "2024-08-26T17:12:33.390Z"
   },
   {
    "duration": 63,
    "start_time": "2024-08-26T17:12:33.430Z"
   },
   {
    "duration": 40,
    "start_time": "2024-08-26T17:12:33.494Z"
   },
   {
    "duration": 18,
    "start_time": "2024-08-26T17:12:33.535Z"
   },
   {
    "duration": 9587,
    "start_time": "2024-08-26T17:12:33.555Z"
   },
   {
    "duration": 75,
    "start_time": "2024-08-26T17:12:43.143Z"
   },
   {
    "duration": 42,
    "start_time": "2024-08-26T17:12:43.219Z"
   },
   {
    "duration": 80,
    "start_time": "2024-08-26T17:12:43.262Z"
   },
   {
    "duration": 8,
    "start_time": "2024-08-26T17:12:43.344Z"
   },
   {
    "duration": 25,
    "start_time": "2024-08-26T17:12:43.353Z"
   },
   {
    "duration": 58446,
    "start_time": "2024-08-26T17:12:43.380Z"
   },
   {
    "duration": 127,
    "start_time": "2024-08-26T17:13:41.828Z"
   },
   {
    "duration": 3,
    "start_time": "2024-08-26T17:13:41.957Z"
   },
   {
    "duration": 10,
    "start_time": "2024-08-26T17:13:41.961Z"
   },
   {
    "duration": 3,
    "start_time": "2024-08-26T17:13:41.972Z"
   },
   {
    "duration": 409,
    "start_time": "2024-08-26T17:13:41.976Z"
   },
   {
    "duration": 132,
    "start_time": "2024-08-26T17:13:42.387Z"
   },
   {
    "duration": 3,
    "start_time": "2024-08-26T17:13:42.520Z"
   },
   {
    "duration": 49233,
    "start_time": "2024-08-26T17:13:42.524Z"
   },
   {
    "duration": 271128,
    "start_time": "2024-08-26T17:14:31.759Z"
   },
   {
    "duration": 7,
    "start_time": "2024-08-26T17:19:02.889Z"
   },
   {
    "duration": 21,
    "start_time": "2024-08-26T17:19:02.898Z"
   },
   {
    "duration": 158,
    "start_time": "2024-08-26T17:19:02.920Z"
   },
   {
    "duration": 3,
    "start_time": "2024-08-26T17:19:03.080Z"
   },
   {
    "duration": 2282896,
    "start_time": "2024-08-26T17:19:03.084Z"
   },
   {
    "duration": 0,
    "start_time": "2024-08-26T17:57:05.982Z"
   },
   {
    "duration": 0,
    "start_time": "2024-08-26T17:57:05.984Z"
   },
   {
    "duration": 0,
    "start_time": "2024-08-26T17:57:05.985Z"
   },
   {
    "duration": 0,
    "start_time": "2024-08-26T17:57:05.987Z"
   },
   {
    "duration": 0,
    "start_time": "2024-08-26T17:57:05.988Z"
   },
   {
    "duration": 0,
    "start_time": "2024-08-26T17:57:05.990Z"
   },
   {
    "duration": 0,
    "start_time": "2024-08-26T17:57:05.991Z"
   },
   {
    "duration": 0,
    "start_time": "2024-08-26T17:57:05.993Z"
   },
   {
    "duration": 0,
    "start_time": "2024-08-26T17:57:05.994Z"
   },
   {
    "duration": 0,
    "start_time": "2024-08-26T17:57:05.995Z"
   },
   {
    "duration": 4,
    "start_time": "2024-08-26T17:58:39.583Z"
   },
   {
    "duration": 15554,
    "start_time": "2024-08-26T18:02:17.900Z"
   },
   {
    "duration": 97,
    "start_time": "2024-08-26T18:02:44.960Z"
   },
   {
    "duration": 472,
    "start_time": "2024-08-26T18:02:48.593Z"
   },
   {
    "duration": 46,
    "start_time": "2024-08-26T18:02:50.115Z"
   },
   {
    "duration": 40507,
    "start_time": "2024-08-26T18:02:54.251Z"
   },
   {
    "duration": 19289,
    "start_time": "2024-08-26T18:03:47.505Z"
   },
   {
    "duration": 181,
    "start_time": "2024-08-26T18:04:28.036Z"
   },
   {
    "duration": 10,
    "start_time": "2024-08-26T18:04:34.919Z"
   },
   {
    "duration": 10,
    "start_time": "2024-08-26T18:05:12.206Z"
   },
   {
    "duration": 22,
    "start_time": "2024-08-26T18:05:47.804Z"
   },
   {
    "duration": 5,
    "start_time": "2024-08-26T18:05:57.571Z"
   },
   {
    "duration": 4533,
    "start_time": "2024-10-17T17:04:22.411Z"
   },
   {
    "duration": 8,
    "start_time": "2024-10-17T17:04:26.946Z"
   },
   {
    "duration": 3116,
    "start_time": "2024-10-17T17:04:26.956Z"
   },
   {
    "duration": 2354,
    "start_time": "2024-10-17T17:04:30.075Z"
   },
   {
    "duration": 6,
    "start_time": "2024-10-17T17:04:32.431Z"
   },
   {
    "duration": 42,
    "start_time": "2024-10-17T17:04:32.439Z"
   },
   {
    "duration": 61,
    "start_time": "2024-10-17T17:04:32.483Z"
   },
   {
    "duration": 535,
    "start_time": "2024-10-17T17:04:32.545Z"
   },
   {
    "duration": 37,
    "start_time": "2024-10-17T17:04:33.082Z"
   },
   {
    "duration": 11,
    "start_time": "2024-10-17T17:04:33.121Z"
   },
   {
    "duration": 10,
    "start_time": "2024-10-17T17:04:33.133Z"
   },
   {
    "duration": 89,
    "start_time": "2024-10-17T17:04:33.144Z"
   },
   {
    "duration": 62,
    "start_time": "2024-10-17T17:04:33.235Z"
   },
   {
    "duration": 48,
    "start_time": "2024-10-17T17:04:33.298Z"
   },
   {
    "duration": 40,
    "start_time": "2024-10-17T17:04:33.347Z"
   },
   {
    "duration": 18,
    "start_time": "2024-10-17T17:04:33.389Z"
   },
   {
    "duration": 21,
    "start_time": "2024-10-17T17:04:33.408Z"
   },
   {
    "duration": 71,
    "start_time": "2024-10-17T17:04:33.430Z"
   },
   {
    "duration": 8,
    "start_time": "2024-10-17T17:04:33.503Z"
   },
   {
    "duration": 34,
    "start_time": "2024-10-17T17:04:33.512Z"
   },
   {
    "duration": 335,
    "start_time": "2024-10-17T17:04:33.548Z"
   },
   {
    "duration": 34,
    "start_time": "2024-10-17T17:04:33.885Z"
   },
   {
    "duration": 61,
    "start_time": "2024-10-17T17:04:33.921Z"
   },
   {
    "duration": 44,
    "start_time": "2024-10-17T17:04:33.983Z"
   },
   {
    "duration": 47,
    "start_time": "2024-10-17T17:04:34.029Z"
   },
   {
    "duration": 46,
    "start_time": "2024-10-17T17:04:34.079Z"
   },
   {
    "duration": 74,
    "start_time": "2024-10-17T17:04:34.127Z"
   },
   {
    "duration": 25,
    "start_time": "2024-10-17T17:04:34.205Z"
   },
   {
    "duration": 79,
    "start_time": "2024-10-17T17:04:34.232Z"
   },
   {
    "duration": 36,
    "start_time": "2024-10-17T17:04:34.313Z"
   },
   {
    "duration": 68,
    "start_time": "2024-10-17T17:04:34.351Z"
   },
   {
    "duration": 46,
    "start_time": "2024-10-17T17:04:34.420Z"
   },
   {
    "duration": 3,
    "start_time": "2024-10-17T17:04:34.467Z"
   },
   {
    "duration": 9702,
    "start_time": "2024-10-17T17:04:34.472Z"
   },
   {
    "duration": 66,
    "start_time": "2024-10-17T17:04:44.176Z"
   },
   {
    "duration": 21,
    "start_time": "2024-10-17T17:04:44.244Z"
   },
   {
    "duration": 71,
    "start_time": "2024-10-17T17:04:44.267Z"
   },
   {
    "duration": 3,
    "start_time": "2024-10-17T17:04:44.339Z"
   },
   {
    "duration": 47,
    "start_time": "2024-10-17T17:04:44.343Z"
   },
   {
    "duration": 127,
    "start_time": "2024-10-17T17:04:44.391Z"
   },
   {
    "duration": 0,
    "start_time": "2024-10-17T17:04:44.521Z"
   },
   {
    "duration": 0,
    "start_time": "2024-10-17T17:04:44.522Z"
   },
   {
    "duration": 0,
    "start_time": "2024-10-17T17:04:44.523Z"
   },
   {
    "duration": 0,
    "start_time": "2024-10-17T17:04:44.524Z"
   },
   {
    "duration": 0,
    "start_time": "2024-10-17T17:04:44.526Z"
   },
   {
    "duration": 0,
    "start_time": "2024-10-17T17:04:44.527Z"
   },
   {
    "duration": 0,
    "start_time": "2024-10-17T17:04:44.528Z"
   },
   {
    "duration": 0,
    "start_time": "2024-10-17T17:04:44.529Z"
   },
   {
    "duration": 1,
    "start_time": "2024-10-17T17:04:44.529Z"
   },
   {
    "duration": 0,
    "start_time": "2024-10-17T17:04:44.531Z"
   },
   {
    "duration": 0,
    "start_time": "2024-10-17T17:04:44.532Z"
   },
   {
    "duration": 0,
    "start_time": "2024-10-17T17:04:44.533Z"
   },
   {
    "duration": 0,
    "start_time": "2024-10-17T17:04:44.534Z"
   },
   {
    "duration": 0,
    "start_time": "2024-10-17T17:04:44.535Z"
   },
   {
    "duration": 0,
    "start_time": "2024-10-17T17:04:44.536Z"
   },
   {
    "duration": 0,
    "start_time": "2024-10-17T17:04:44.565Z"
   },
   {
    "duration": 0,
    "start_time": "2024-10-17T17:04:44.567Z"
   },
   {
    "duration": 0,
    "start_time": "2024-10-17T17:04:44.567Z"
   },
   {
    "duration": 0,
    "start_time": "2024-10-17T17:04:44.569Z"
   },
   {
    "duration": 0,
    "start_time": "2024-10-17T17:04:44.570Z"
   },
   {
    "duration": 0,
    "start_time": "2024-10-17T17:04:44.571Z"
   },
   {
    "duration": 0,
    "start_time": "2024-10-17T17:04:44.572Z"
   },
   {
    "duration": 0,
    "start_time": "2024-10-17T17:04:44.573Z"
   },
   {
    "duration": 0,
    "start_time": "2024-10-17T17:04:44.574Z"
   },
   {
    "duration": 0,
    "start_time": "2024-10-17T17:04:44.575Z"
   },
   {
    "duration": 0,
    "start_time": "2024-10-17T17:04:44.576Z"
   },
   {
    "duration": 154,
    "start_time": "2024-10-17T17:06:14.000Z"
   },
   {
    "duration": 3,
    "start_time": "2024-10-17T17:06:19.388Z"
   },
   {
    "duration": 13,
    "start_time": "2024-10-17T17:08:42.547Z"
   },
   {
    "duration": 3,
    "start_time": "2024-10-17T17:08:45.241Z"
   },
   {
    "duration": 416,
    "start_time": "2024-10-17T17:08:49.980Z"
   },
   {
    "duration": 134,
    "start_time": "2024-10-17T17:08:53.230Z"
   },
   {
    "duration": 14,
    "start_time": "2024-10-17T17:08:56.256Z"
   }
  ],
  "kernelspec": {
   "display_name": "Python 3 (ipykernel)",
   "language": "python",
   "name": "python3"
  },
  "language_info": {
   "codemirror_mode": {
    "name": "ipython",
    "version": 3
   },
   "file_extension": ".py",
   "mimetype": "text/x-python",
   "name": "python",
   "nbconvert_exporter": "python",
   "pygments_lexer": "ipython3",
   "version": "3.11.7"
  },
  "toc": {
   "base_numbering": 1,
   "nav_menu": {},
   "number_sections": true,
   "sideBar": true,
   "skip_h1_title": true,
   "title_cell": "Table of Contents",
   "title_sidebar": "Contents",
   "toc_cell": false,
   "toc_position": {
    "height": "calc(100% - 180px)",
    "left": "10px",
    "top": "150px",
    "width": "228.85px"
   },
   "toc_section_display": true,
   "toc_window_display": true
  }
 },
 "nbformat": 4,
 "nbformat_minor": 2
}
