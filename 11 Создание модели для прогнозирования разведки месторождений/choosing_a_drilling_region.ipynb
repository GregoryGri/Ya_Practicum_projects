{
 "cells": [
  {
   "cell_type": "markdown",
   "metadata": {},
   "source": [
    "# Выбор локации для скважины"
   ]
  },
  {
   "cell_type": "markdown",
   "metadata": {},
   "source": [
    "## Описание проекта"
   ]
  },
  {
   "cell_type": "markdown",
   "metadata": {},
   "source": [
    "Необходимо решить, где бурить новую скважину.\n",
    "\n",
    "Предоставлены пробы нефти в трёх регионах: в каждом 10 000 месторождений, где измерили качество нефти и объём её запасов. Необходимо построить модель машинного обучения, которая поможет определить регион, где добыча принесёт наибольшую прибыль. Проанализируйте возможную прибыль и риски техникой *Bootstrap.*\n",
    "\n",
    "Шаги для выбора локации:\n",
    "\n",
    "- В избранном регионе ищут месторождения, для каждого определяют значения признаков;\n",
    "- Строят модель и оценивают объём запасов;\n",
    "- Выбирают месторождения с самым высокими оценками значений. Количество месторождений зависит от бюджета компании и стоимости разработки одной скважины;\n",
    "- Прибыль равна суммарной прибыли отобранных месторождений."
   ]
  },
  {
   "cell_type": "markdown",
   "metadata": {},
   "source": [
    "## Цель проекта"
   ]
  },
  {
   "cell_type": "markdown",
   "metadata": {},
   "source": [
    "Разработать модель, прогнозирующую наиболее прибильный, для бурения скважин, регион. Проанализировать возможные прибыль и риски."
   ]
  },
  {
   "cell_type": "markdown",
   "metadata": {},
   "source": [
    "## План работы"
   ]
  },
  {
   "cell_type": "markdown",
   "metadata": {},
   "source": [
    "1. Загрузка данных.\n",
    "2. Предварительная обработка.\n",
    "3. Подготовка данных к машинному обучению.\n",
    "4. Обчение моделей.\n",
    "5. Рассчет прибыли для лучших скважин региона.\n",
    "6. Рассчет рисков и прибыли по регионам."
   ]
  },
  {
   "cell_type": "markdown",
   "metadata": {},
   "source": [
    "## Описание данных"
   ]
  },
  {
   "cell_type": "markdown",
   "metadata": {},
   "source": [
    "Данные геологоразведки трёх регионов находятся в файлах: \n",
    "- /datasets/geo_data_0.csv. \n",
    "- /datasets/geo_data_1.csv. \n",
    "- /datasets/geo_data_2.csv. \n",
    "-  id — уникальный идентификатор скважины;\n",
    "-  f0, f1, f2 — три признака точек;\n",
    "-  product — объём запасов в скважине (тыс. баррелей)."
   ]
  },
  {
   "cell_type": "markdown",
   "metadata": {},
   "source": [
    "## Загрузка и подготовка данных"
   ]
  },
  {
   "cell_type": "markdown",
   "metadata": {},
   "source": [
    "### Настройка окружения"
   ]
  },
  {
   "cell_type": "code",
   "execution_count": 1,
   "metadata": {},
   "outputs": [],
   "source": [
    "# основные библиотеки\n",
    "import pandas as pd\n",
    "import numpy as np\n",
    "import matplotlib.pyplot as plt\n",
    "import seaborn as sb\n",
    "\n",
    "# подготовка к машинному обучению\n",
    "from sklearn.model_selection import train_test_split\n",
    "\n",
    "# модели машинного обучения\n",
    "from sklearn.linear_model import LinearRegression\n",
    "\n",
    "# метрики машинного обучения\n",
    "from sklearn.metrics import mean_squared_error"
   ]
  },
  {
   "cell_type": "markdown",
   "metadata": {},
   "source": [
    "### Загрузка данных"
   ]
  },
  {
   "cell_type": "code",
   "execution_count": 2,
   "metadata": {},
   "outputs": [],
   "source": [
    "# загрузим предоставленные датасеты\n",
    "try:\n",
    "    geo_data_0 = pd.read_csv('/datasets/geo_data_0.csv')\n",
    "    geo_data_1 = pd.read_csv('/datasets/geo_data_1.csv')\n",
    "    geo_data_2 = pd.read_csv('/datasets/geo_data_2.csv')\n",
    "except:\n",
    "    geo_data_0 = pd.read_csv('https://code.s3.yandex.net/datasets/geo_data_0.csv')\n",
    "    geo_data_1 = pd.read_csv('https://code.s3.yandex.net/datasets/geo_data_1.csv')\n",
    "    geo_data_2 = pd.read_csv('https://code.s3.yandex.net/datasets/geo_data_2.csv')"
   ]
  },
  {
   "cell_type": "markdown",
   "metadata": {},
   "source": [
    "### Изучение данных"
   ]
  },
  {
   "cell_type": "code",
   "execution_count": 3,
   "metadata": {},
   "outputs": [],
   "source": [
    "# напишем функцию для изучения общих сведений по датафреймам\n",
    "def data_exam(df):\n",
    "    df.info()\n",
    "    print('*' * 70)\n",
    "    print('Размерность таблицы:' + '\\n', df.shape)\n",
    "    print('*' * 70)\n",
    "    display(df.head())\n",
    "    print('*' * 70)\n",
    "    print('Количество пропусков:' + '\\n', df.isna().sum())\n",
    "    print('*' * 70)\n",
    "    print('Названия столбцов:' + '\\n', df.columns)\n",
    "    print('*' * 70)\n",
    "    print('Количество явных дубликатов:' + '\\n', df.duplicated().sum())\n",
    "    print('*' * 70)\n",
    "    print('Количество неявных дубликатов:' + '\\n', df.duplicated(subset=['id']).sum())\n",
    "    print('*' * 70)"
   ]
  },
  {
   "cell_type": "code",
   "execution_count": 4,
   "metadata": {
    "scrolled": false
   },
   "outputs": [
    {
     "name": "stdout",
     "output_type": "stream",
     "text": [
      "Сводные данные по датафрейму geo_data_0\n",
      "**********************************************************************\n",
      "<class 'pandas.core.frame.DataFrame'>\n",
      "RangeIndex: 100000 entries, 0 to 99999\n",
      "Data columns (total 5 columns):\n",
      " #   Column   Non-Null Count   Dtype  \n",
      "---  ------   --------------   -----  \n",
      " 0   id       100000 non-null  object \n",
      " 1   f0       100000 non-null  float64\n",
      " 2   f1       100000 non-null  float64\n",
      " 3   f2       100000 non-null  float64\n",
      " 4   product  100000 non-null  float64\n",
      "dtypes: float64(4), object(1)\n",
      "memory usage: 3.8+ MB\n",
      "**********************************************************************\n",
      "Размерность таблицы:\n",
      " (100000, 5)\n",
      "**********************************************************************\n"
     ]
    },
    {
     "data": {
      "text/html": [
       "<div>\n",
       "<style scoped>\n",
       "    .dataframe tbody tr th:only-of-type {\n",
       "        vertical-align: middle;\n",
       "    }\n",
       "\n",
       "    .dataframe tbody tr th {\n",
       "        vertical-align: top;\n",
       "    }\n",
       "\n",
       "    .dataframe thead th {\n",
       "        text-align: right;\n",
       "    }\n",
       "</style>\n",
       "<table border=\"1\" class=\"dataframe\">\n",
       "  <thead>\n",
       "    <tr style=\"text-align: right;\">\n",
       "      <th></th>\n",
       "      <th>id</th>\n",
       "      <th>f0</th>\n",
       "      <th>f1</th>\n",
       "      <th>f2</th>\n",
       "      <th>product</th>\n",
       "    </tr>\n",
       "  </thead>\n",
       "  <tbody>\n",
       "    <tr>\n",
       "      <th>0</th>\n",
       "      <td>txEyH</td>\n",
       "      <td>0.705745</td>\n",
       "      <td>-0.497823</td>\n",
       "      <td>1.221170</td>\n",
       "      <td>105.280062</td>\n",
       "    </tr>\n",
       "    <tr>\n",
       "      <th>1</th>\n",
       "      <td>2acmU</td>\n",
       "      <td>1.334711</td>\n",
       "      <td>-0.340164</td>\n",
       "      <td>4.365080</td>\n",
       "      <td>73.037750</td>\n",
       "    </tr>\n",
       "    <tr>\n",
       "      <th>2</th>\n",
       "      <td>409Wp</td>\n",
       "      <td>1.022732</td>\n",
       "      <td>0.151990</td>\n",
       "      <td>1.419926</td>\n",
       "      <td>85.265647</td>\n",
       "    </tr>\n",
       "    <tr>\n",
       "      <th>3</th>\n",
       "      <td>iJLyR</td>\n",
       "      <td>-0.032172</td>\n",
       "      <td>0.139033</td>\n",
       "      <td>2.978566</td>\n",
       "      <td>168.620776</td>\n",
       "    </tr>\n",
       "    <tr>\n",
       "      <th>4</th>\n",
       "      <td>Xdl7t</td>\n",
       "      <td>1.988431</td>\n",
       "      <td>0.155413</td>\n",
       "      <td>4.751769</td>\n",
       "      <td>154.036647</td>\n",
       "    </tr>\n",
       "  </tbody>\n",
       "</table>\n",
       "</div>"
      ],
      "text/plain": [
       "      id        f0        f1        f2     product\n",
       "0  txEyH  0.705745 -0.497823  1.221170  105.280062\n",
       "1  2acmU  1.334711 -0.340164  4.365080   73.037750\n",
       "2  409Wp  1.022732  0.151990  1.419926   85.265647\n",
       "3  iJLyR -0.032172  0.139033  2.978566  168.620776\n",
       "4  Xdl7t  1.988431  0.155413  4.751769  154.036647"
      ]
     },
     "metadata": {},
     "output_type": "display_data"
    },
    {
     "name": "stdout",
     "output_type": "stream",
     "text": [
      "**********************************************************************\n",
      "Количество пропусков:\n",
      " id         0\n",
      "f0         0\n",
      "f1         0\n",
      "f2         0\n",
      "product    0\n",
      "dtype: int64\n",
      "**********************************************************************\n",
      "Названия столбцов:\n",
      " Index(['id', 'f0', 'f1', 'f2', 'product'], dtype='object')\n",
      "**********************************************************************\n",
      "Количество явных дубликатов:\n",
      " 0\n",
      "**********************************************************************\n",
      "Количество неявных дубликатов:\n",
      " 10\n",
      "**********************************************************************\n"
     ]
    }
   ],
   "source": [
    "# выведем информацию по Региону 1\n",
    "print('Сводные данные по датафрейму geo_data_0')\n",
    "print('*' * 70)\n",
    "data_exam(geo_data_0)"
   ]
  },
  {
   "cell_type": "code",
   "execution_count": 5,
   "metadata": {},
   "outputs": [
    {
     "name": "stdout",
     "output_type": "stream",
     "text": [
      "Сводные данные по датафрейму geo_data_1\n",
      "**********************************************************************\n",
      "<class 'pandas.core.frame.DataFrame'>\n",
      "RangeIndex: 100000 entries, 0 to 99999\n",
      "Data columns (total 5 columns):\n",
      " #   Column   Non-Null Count   Dtype  \n",
      "---  ------   --------------   -----  \n",
      " 0   id       100000 non-null  object \n",
      " 1   f0       100000 non-null  float64\n",
      " 2   f1       100000 non-null  float64\n",
      " 3   f2       100000 non-null  float64\n",
      " 4   product  100000 non-null  float64\n",
      "dtypes: float64(4), object(1)\n",
      "memory usage: 3.8+ MB\n",
      "**********************************************************************\n",
      "Размерность таблицы:\n",
      " (100000, 5)\n",
      "**********************************************************************\n"
     ]
    },
    {
     "data": {
      "text/html": [
       "<div>\n",
       "<style scoped>\n",
       "    .dataframe tbody tr th:only-of-type {\n",
       "        vertical-align: middle;\n",
       "    }\n",
       "\n",
       "    .dataframe tbody tr th {\n",
       "        vertical-align: top;\n",
       "    }\n",
       "\n",
       "    .dataframe thead th {\n",
       "        text-align: right;\n",
       "    }\n",
       "</style>\n",
       "<table border=\"1\" class=\"dataframe\">\n",
       "  <thead>\n",
       "    <tr style=\"text-align: right;\">\n",
       "      <th></th>\n",
       "      <th>id</th>\n",
       "      <th>f0</th>\n",
       "      <th>f1</th>\n",
       "      <th>f2</th>\n",
       "      <th>product</th>\n",
       "    </tr>\n",
       "  </thead>\n",
       "  <tbody>\n",
       "    <tr>\n",
       "      <th>0</th>\n",
       "      <td>kBEdx</td>\n",
       "      <td>-15.001348</td>\n",
       "      <td>-8.276000</td>\n",
       "      <td>-0.005876</td>\n",
       "      <td>3.179103</td>\n",
       "    </tr>\n",
       "    <tr>\n",
       "      <th>1</th>\n",
       "      <td>62mP7</td>\n",
       "      <td>14.272088</td>\n",
       "      <td>-3.475083</td>\n",
       "      <td>0.999183</td>\n",
       "      <td>26.953261</td>\n",
       "    </tr>\n",
       "    <tr>\n",
       "      <th>2</th>\n",
       "      <td>vyE1P</td>\n",
       "      <td>6.263187</td>\n",
       "      <td>-5.948386</td>\n",
       "      <td>5.001160</td>\n",
       "      <td>134.766305</td>\n",
       "    </tr>\n",
       "    <tr>\n",
       "      <th>3</th>\n",
       "      <td>KcrkZ</td>\n",
       "      <td>-13.081196</td>\n",
       "      <td>-11.506057</td>\n",
       "      <td>4.999415</td>\n",
       "      <td>137.945408</td>\n",
       "    </tr>\n",
       "    <tr>\n",
       "      <th>4</th>\n",
       "      <td>AHL4O</td>\n",
       "      <td>12.702195</td>\n",
       "      <td>-8.147433</td>\n",
       "      <td>5.004363</td>\n",
       "      <td>134.766305</td>\n",
       "    </tr>\n",
       "  </tbody>\n",
       "</table>\n",
       "</div>"
      ],
      "text/plain": [
       "      id         f0         f1        f2     product\n",
       "0  kBEdx -15.001348  -8.276000 -0.005876    3.179103\n",
       "1  62mP7  14.272088  -3.475083  0.999183   26.953261\n",
       "2  vyE1P   6.263187  -5.948386  5.001160  134.766305\n",
       "3  KcrkZ -13.081196 -11.506057  4.999415  137.945408\n",
       "4  AHL4O  12.702195  -8.147433  5.004363  134.766305"
      ]
     },
     "metadata": {},
     "output_type": "display_data"
    },
    {
     "name": "stdout",
     "output_type": "stream",
     "text": [
      "**********************************************************************\n",
      "Количество пропусков:\n",
      " id         0\n",
      "f0         0\n",
      "f1         0\n",
      "f2         0\n",
      "product    0\n",
      "dtype: int64\n",
      "**********************************************************************\n",
      "Названия столбцов:\n",
      " Index(['id', 'f0', 'f1', 'f2', 'product'], dtype='object')\n",
      "**********************************************************************\n",
      "Количество явных дубликатов:\n",
      " 0\n",
      "**********************************************************************\n",
      "Количество неявных дубликатов:\n",
      " 4\n",
      "**********************************************************************\n"
     ]
    }
   ],
   "source": [
    "# выведем информацию по Региону 2\n",
    "print('Сводные данные по датафрейму geo_data_1')\n",
    "print('*' * 70)\n",
    "data_exam(geo_data_1)"
   ]
  },
  {
   "cell_type": "code",
   "execution_count": 6,
   "metadata": {
    "scrolled": false
   },
   "outputs": [
    {
     "name": "stdout",
     "output_type": "stream",
     "text": [
      "Сводные данные по датафрейму geo_data_2\n",
      "**********************************************************************\n",
      "<class 'pandas.core.frame.DataFrame'>\n",
      "RangeIndex: 100000 entries, 0 to 99999\n",
      "Data columns (total 5 columns):\n",
      " #   Column   Non-Null Count   Dtype  \n",
      "---  ------   --------------   -----  \n",
      " 0   id       100000 non-null  object \n",
      " 1   f0       100000 non-null  float64\n",
      " 2   f1       100000 non-null  float64\n",
      " 3   f2       100000 non-null  float64\n",
      " 4   product  100000 non-null  float64\n",
      "dtypes: float64(4), object(1)\n",
      "memory usage: 3.8+ MB\n",
      "**********************************************************************\n",
      "Размерность таблицы:\n",
      " (100000, 5)\n",
      "**********************************************************************\n"
     ]
    },
    {
     "data": {
      "text/html": [
       "<div>\n",
       "<style scoped>\n",
       "    .dataframe tbody tr th:only-of-type {\n",
       "        vertical-align: middle;\n",
       "    }\n",
       "\n",
       "    .dataframe tbody tr th {\n",
       "        vertical-align: top;\n",
       "    }\n",
       "\n",
       "    .dataframe thead th {\n",
       "        text-align: right;\n",
       "    }\n",
       "</style>\n",
       "<table border=\"1\" class=\"dataframe\">\n",
       "  <thead>\n",
       "    <tr style=\"text-align: right;\">\n",
       "      <th></th>\n",
       "      <th>id</th>\n",
       "      <th>f0</th>\n",
       "      <th>f1</th>\n",
       "      <th>f2</th>\n",
       "      <th>product</th>\n",
       "    </tr>\n",
       "  </thead>\n",
       "  <tbody>\n",
       "    <tr>\n",
       "      <th>0</th>\n",
       "      <td>fwXo0</td>\n",
       "      <td>-1.146987</td>\n",
       "      <td>0.963328</td>\n",
       "      <td>-0.828965</td>\n",
       "      <td>27.758673</td>\n",
       "    </tr>\n",
       "    <tr>\n",
       "      <th>1</th>\n",
       "      <td>WJtFt</td>\n",
       "      <td>0.262778</td>\n",
       "      <td>0.269839</td>\n",
       "      <td>-2.530187</td>\n",
       "      <td>56.069697</td>\n",
       "    </tr>\n",
       "    <tr>\n",
       "      <th>2</th>\n",
       "      <td>ovLUW</td>\n",
       "      <td>0.194587</td>\n",
       "      <td>0.289035</td>\n",
       "      <td>-5.586433</td>\n",
       "      <td>62.871910</td>\n",
       "    </tr>\n",
       "    <tr>\n",
       "      <th>3</th>\n",
       "      <td>q6cA6</td>\n",
       "      <td>2.236060</td>\n",
       "      <td>-0.553760</td>\n",
       "      <td>0.930038</td>\n",
       "      <td>114.572842</td>\n",
       "    </tr>\n",
       "    <tr>\n",
       "      <th>4</th>\n",
       "      <td>WPMUX</td>\n",
       "      <td>-0.515993</td>\n",
       "      <td>1.716266</td>\n",
       "      <td>5.899011</td>\n",
       "      <td>149.600746</td>\n",
       "    </tr>\n",
       "  </tbody>\n",
       "</table>\n",
       "</div>"
      ],
      "text/plain": [
       "      id        f0        f1        f2     product\n",
       "0  fwXo0 -1.146987  0.963328 -0.828965   27.758673\n",
       "1  WJtFt  0.262778  0.269839 -2.530187   56.069697\n",
       "2  ovLUW  0.194587  0.289035 -5.586433   62.871910\n",
       "3  q6cA6  2.236060 -0.553760  0.930038  114.572842\n",
       "4  WPMUX -0.515993  1.716266  5.899011  149.600746"
      ]
     },
     "metadata": {},
     "output_type": "display_data"
    },
    {
     "name": "stdout",
     "output_type": "stream",
     "text": [
      "**********************************************************************\n",
      "Количество пропусков:\n",
      " id         0\n",
      "f0         0\n",
      "f1         0\n",
      "f2         0\n",
      "product    0\n",
      "dtype: int64\n",
      "**********************************************************************\n",
      "Названия столбцов:\n",
      " Index(['id', 'f0', 'f1', 'f2', 'product'], dtype='object')\n",
      "**********************************************************************\n",
      "Количество явных дубликатов:\n",
      " 0\n",
      "**********************************************************************\n",
      "Количество неявных дубликатов:\n",
      " 4\n",
      "**********************************************************************\n"
     ]
    }
   ],
   "source": [
    "# выведем информацию по Региону 3\n",
    "print('Сводные данные по датафрейму geo_data_2')\n",
    "print('*' * 70)\n",
    "data_exam(geo_data_2)"
   ]
  },
  {
   "cell_type": "markdown",
   "metadata": {},
   "source": [
    "Все датафреймы загрузились без ошибок, имеют одинаковую размерность - 5 столбцов и 100000 строк. Типы данных корректны, названия столбцов корректны. Пропуски данных и явные дубликаты отстуствуют. Во всех датафреймах есть неявные дубликаты, строки с одинаковыми id скважин. Далее изучим их подробней."
   ]
  },
  {
   "cell_type": "markdown",
   "metadata": {},
   "source": [
    "### Предварительная обработка данных"
   ]
  },
  {
   "cell_type": "markdown",
   "metadata": {},
   "source": [
    "#### Работа с данными по целевому признаку"
   ]
  },
  {
   "cell_type": "code",
   "execution_count": 7,
   "metadata": {},
   "outputs": [
    {
     "data": {
      "text/html": [
       "<div>\n",
       "<style scoped>\n",
       "    .dataframe tbody tr th:only-of-type {\n",
       "        vertical-align: middle;\n",
       "    }\n",
       "\n",
       "    .dataframe tbody tr th {\n",
       "        vertical-align: top;\n",
       "    }\n",
       "\n",
       "    .dataframe thead th {\n",
       "        text-align: right;\n",
       "    }\n",
       "</style>\n",
       "<table border=\"1\" class=\"dataframe\">\n",
       "  <thead>\n",
       "    <tr style=\"text-align: right;\">\n",
       "      <th></th>\n",
       "      <th>id</th>\n",
       "      <th>f0</th>\n",
       "      <th>f1</th>\n",
       "      <th>f2</th>\n",
       "      <th>product</th>\n",
       "    </tr>\n",
       "  </thead>\n",
       "  <tbody>\n",
       "    <tr>\n",
       "      <th>66136</th>\n",
       "      <td>74z30</td>\n",
       "      <td>1.084962</td>\n",
       "      <td>-0.312358</td>\n",
       "      <td>6.990771</td>\n",
       "      <td>127.643327</td>\n",
       "    </tr>\n",
       "    <tr>\n",
       "      <th>64022</th>\n",
       "      <td>74z30</td>\n",
       "      <td>0.741456</td>\n",
       "      <td>0.459229</td>\n",
       "      <td>5.153109</td>\n",
       "      <td>140.771492</td>\n",
       "    </tr>\n",
       "    <tr>\n",
       "      <th>51970</th>\n",
       "      <td>A5aEY</td>\n",
       "      <td>-0.180335</td>\n",
       "      <td>0.935548</td>\n",
       "      <td>-2.094773</td>\n",
       "      <td>33.020205</td>\n",
       "    </tr>\n",
       "    <tr>\n",
       "      <th>3389</th>\n",
       "      <td>A5aEY</td>\n",
       "      <td>-0.039949</td>\n",
       "      <td>0.156872</td>\n",
       "      <td>0.209861</td>\n",
       "      <td>89.249364</td>\n",
       "    </tr>\n",
       "    <tr>\n",
       "      <th>69163</th>\n",
       "      <td>AGS9W</td>\n",
       "      <td>-0.933795</td>\n",
       "      <td>0.116194</td>\n",
       "      <td>-3.655896</td>\n",
       "      <td>19.230453</td>\n",
       "    </tr>\n",
       "    <tr>\n",
       "      <th>42529</th>\n",
       "      <td>AGS9W</td>\n",
       "      <td>1.454747</td>\n",
       "      <td>-0.479651</td>\n",
       "      <td>0.683380</td>\n",
       "      <td>126.370504</td>\n",
       "    </tr>\n",
       "    <tr>\n",
       "      <th>931</th>\n",
       "      <td>HZww2</td>\n",
       "      <td>0.755284</td>\n",
       "      <td>0.368511</td>\n",
       "      <td>1.863211</td>\n",
       "      <td>30.681774</td>\n",
       "    </tr>\n",
       "    <tr>\n",
       "      <th>7530</th>\n",
       "      <td>HZww2</td>\n",
       "      <td>1.061194</td>\n",
       "      <td>-0.373969</td>\n",
       "      <td>10.430210</td>\n",
       "      <td>158.828695</td>\n",
       "    </tr>\n",
       "    <tr>\n",
       "      <th>63593</th>\n",
       "      <td>QcMuo</td>\n",
       "      <td>0.635635</td>\n",
       "      <td>-0.473422</td>\n",
       "      <td>0.862670</td>\n",
       "      <td>64.578675</td>\n",
       "    </tr>\n",
       "    <tr>\n",
       "      <th>1949</th>\n",
       "      <td>QcMuo</td>\n",
       "      <td>0.506563</td>\n",
       "      <td>-0.323775</td>\n",
       "      <td>-2.215583</td>\n",
       "      <td>75.496502</td>\n",
       "    </tr>\n",
       "    <tr>\n",
       "      <th>75715</th>\n",
       "      <td>Tdehs</td>\n",
       "      <td>0.112079</td>\n",
       "      <td>0.430296</td>\n",
       "      <td>3.218993</td>\n",
       "      <td>60.964018</td>\n",
       "    </tr>\n",
       "    <tr>\n",
       "      <th>21426</th>\n",
       "      <td>Tdehs</td>\n",
       "      <td>0.829407</td>\n",
       "      <td>0.298807</td>\n",
       "      <td>-0.049563</td>\n",
       "      <td>96.035308</td>\n",
       "    </tr>\n",
       "    <tr>\n",
       "      <th>92341</th>\n",
       "      <td>TtcGQ</td>\n",
       "      <td>0.110711</td>\n",
       "      <td>1.022689</td>\n",
       "      <td>0.911381</td>\n",
       "      <td>101.318008</td>\n",
       "    </tr>\n",
       "    <tr>\n",
       "      <th>60140</th>\n",
       "      <td>TtcGQ</td>\n",
       "      <td>0.569276</td>\n",
       "      <td>-0.104876</td>\n",
       "      <td>6.440215</td>\n",
       "      <td>85.350186</td>\n",
       "    </tr>\n",
       "    <tr>\n",
       "      <th>89582</th>\n",
       "      <td>bsk9y</td>\n",
       "      <td>0.398908</td>\n",
       "      <td>-0.400253</td>\n",
       "      <td>10.122376</td>\n",
       "      <td>163.433078</td>\n",
       "    </tr>\n",
       "    <tr>\n",
       "      <th>97785</th>\n",
       "      <td>bsk9y</td>\n",
       "      <td>0.378429</td>\n",
       "      <td>0.005837</td>\n",
       "      <td>0.160827</td>\n",
       "      <td>160.637302</td>\n",
       "    </tr>\n",
       "    <tr>\n",
       "      <th>41724</th>\n",
       "      <td>bxg6G</td>\n",
       "      <td>-0.823752</td>\n",
       "      <td>0.546319</td>\n",
       "      <td>3.630479</td>\n",
       "      <td>93.007798</td>\n",
       "    </tr>\n",
       "    <tr>\n",
       "      <th>1364</th>\n",
       "      <td>bxg6G</td>\n",
       "      <td>0.411645</td>\n",
       "      <td>0.856830</td>\n",
       "      <td>-3.653440</td>\n",
       "      <td>73.604260</td>\n",
       "    </tr>\n",
       "    <tr>\n",
       "      <th>16633</th>\n",
       "      <td>fiKDv</td>\n",
       "      <td>0.157341</td>\n",
       "      <td>1.028359</td>\n",
       "      <td>5.585586</td>\n",
       "      <td>95.817889</td>\n",
       "    </tr>\n",
       "    <tr>\n",
       "      <th>90815</th>\n",
       "      <td>fiKDv</td>\n",
       "      <td>0.049883</td>\n",
       "      <td>0.841313</td>\n",
       "      <td>6.394613</td>\n",
       "      <td>137.346586</td>\n",
       "    </tr>\n",
       "  </tbody>\n",
       "</table>\n",
       "</div>"
      ],
      "text/plain": [
       "          id        f0        f1         f2     product\n",
       "66136  74z30  1.084962 -0.312358   6.990771  127.643327\n",
       "64022  74z30  0.741456  0.459229   5.153109  140.771492\n",
       "51970  A5aEY -0.180335  0.935548  -2.094773   33.020205\n",
       "3389   A5aEY -0.039949  0.156872   0.209861   89.249364\n",
       "69163  AGS9W -0.933795  0.116194  -3.655896   19.230453\n",
       "42529  AGS9W  1.454747 -0.479651   0.683380  126.370504\n",
       "931    HZww2  0.755284  0.368511   1.863211   30.681774\n",
       "7530   HZww2  1.061194 -0.373969  10.430210  158.828695\n",
       "63593  QcMuo  0.635635 -0.473422   0.862670   64.578675\n",
       "1949   QcMuo  0.506563 -0.323775  -2.215583   75.496502\n",
       "75715  Tdehs  0.112079  0.430296   3.218993   60.964018\n",
       "21426  Tdehs  0.829407  0.298807  -0.049563   96.035308\n",
       "92341  TtcGQ  0.110711  1.022689   0.911381  101.318008\n",
       "60140  TtcGQ  0.569276 -0.104876   6.440215   85.350186\n",
       "89582  bsk9y  0.398908 -0.400253  10.122376  163.433078\n",
       "97785  bsk9y  0.378429  0.005837   0.160827  160.637302\n",
       "41724  bxg6G -0.823752  0.546319   3.630479   93.007798\n",
       "1364   bxg6G  0.411645  0.856830  -3.653440   73.604260\n",
       "16633  fiKDv  0.157341  1.028359   5.585586   95.817889\n",
       "90815  fiKDv  0.049883  0.841313   6.394613  137.346586"
      ]
     },
     "execution_count": 7,
     "metadata": {},
     "output_type": "execute_result"
    }
   ],
   "source": [
    "# оценим количество неявных дубликатов в Регионе 1\n",
    "geo_data_0[geo_data_0.duplicated(subset=['id'], keep=False)].sort_values('id')"
   ]
  },
  {
   "cell_type": "markdown",
   "metadata": {},
   "source": [
    "Действительно, для одних и тех же скважин видим разные данные в других столбцах. В первую очередь нас интересуют данные об объеме запасов. Появление этих дубликатов могло возникунть вследствие переоценки запасов конркетной скважины службой геологоразведки и внесением дублирующей информации в базу данных. Так как на регион выделяется определенное количество финансирования, мы не можем завышать показатель срднего запаса нефти для конкретного региона, поэтому оставим в данных скважины с меньшим показателем запасов, из дублирующихся данных. Неявные дубликаты по остальным регионам, обработаем по такой же логике. Но вообще, необходимо уточнить у заказчика, какие данные нужно считать верными, по дублирующимся скважинам."
   ]
  },
  {
   "cell_type": "code",
   "execution_count": 8,
   "metadata": {},
   "outputs": [],
   "source": [
    "# скопирем датафреймы для последующей оценки процента удаленных данных\n",
    "geo_data_0_old = geo_data_0.copy()\n",
    "geo_data_1_old = geo_data_1.copy()\n",
    "geo_data_2_old = geo_data_2.copy()"
   ]
  },
  {
   "cell_type": "code",
   "execution_count": 9,
   "metadata": {},
   "outputs": [],
   "source": [
    "# напишем функцию для удаления неявных дубликатов с бОльшим значением в столбце product\n",
    "def id_duplicate_processing(df):\n",
    "    list_id = df[df.duplicated(subset=['id'])]['id']\n",
    "    print('Неявные дубликаты скважин до преобразования:')\n",
    "    print(df.loc[df['id'].isin(list_id)].sort_values(by='id'))\n",
    "    indexes = df.groupby('id')['product'].idxmin()\n",
    "    df = df.loc[indexes]\n",
    "    print('*' * 70)\n",
    "    print('После преобразования:')\n",
    "    print(df.loc[df['id'].isin(list_id)].sort_values(by='id'))\n",
    "    print('*' * 70)\n",
    "    print('Размерность после удаления.')\n",
    "    print(df.shape)\n",
    "    return df"
   ]
  },
  {
   "cell_type": "code",
   "execution_count": 10,
   "metadata": {
    "scrolled": false
   },
   "outputs": [
    {
     "name": "stdout",
     "output_type": "stream",
     "text": [
      "Удаление неявных дубликатов в geo_data_0\n",
      "**********************************************************************\n",
      "Неявные дубликаты скважин до преобразования:\n",
      "          id        f0        f1         f2     product\n",
      "66136  74z30  1.084962 -0.312358   6.990771  127.643327\n",
      "64022  74z30  0.741456  0.459229   5.153109  140.771492\n",
      "51970  A5aEY -0.180335  0.935548  -2.094773   33.020205\n",
      "3389   A5aEY -0.039949  0.156872   0.209861   89.249364\n",
      "69163  AGS9W -0.933795  0.116194  -3.655896   19.230453\n",
      "42529  AGS9W  1.454747 -0.479651   0.683380  126.370504\n",
      "931    HZww2  0.755284  0.368511   1.863211   30.681774\n",
      "7530   HZww2  1.061194 -0.373969  10.430210  158.828695\n",
      "63593  QcMuo  0.635635 -0.473422   0.862670   64.578675\n",
      "1949   QcMuo  0.506563 -0.323775  -2.215583   75.496502\n",
      "75715  Tdehs  0.112079  0.430296   3.218993   60.964018\n",
      "21426  Tdehs  0.829407  0.298807  -0.049563   96.035308\n",
      "92341  TtcGQ  0.110711  1.022689   0.911381  101.318008\n",
      "60140  TtcGQ  0.569276 -0.104876   6.440215   85.350186\n",
      "89582  bsk9y  0.398908 -0.400253  10.122376  163.433078\n",
      "97785  bsk9y  0.378429  0.005837   0.160827  160.637302\n",
      "41724  bxg6G -0.823752  0.546319   3.630479   93.007798\n",
      "1364   bxg6G  0.411645  0.856830  -3.653440   73.604260\n",
      "16633  fiKDv  0.157341  1.028359   5.585586   95.817889\n",
      "90815  fiKDv  0.049883  0.841313   6.394613  137.346586\n",
      "**********************************************************************\n",
      "После преобразования:\n",
      "          id        f0        f1        f2     product\n",
      "66136  74z30  1.084962 -0.312358  6.990771  127.643327\n",
      "51970  A5aEY -0.180335  0.935548 -2.094773   33.020205\n",
      "69163  AGS9W -0.933795  0.116194 -3.655896   19.230453\n",
      "931    HZww2  0.755284  0.368511  1.863211   30.681774\n",
      "63593  QcMuo  0.635635 -0.473422  0.862670   64.578675\n",
      "75715  Tdehs  0.112079  0.430296  3.218993   60.964018\n",
      "60140  TtcGQ  0.569276 -0.104876  6.440215   85.350186\n",
      "97785  bsk9y  0.378429  0.005837  0.160827  160.637302\n",
      "1364   bxg6G  0.411645  0.856830 -3.653440   73.604260\n",
      "16633  fiKDv  0.157341  1.028359  5.585586   95.817889\n",
      "**********************************************************************\n",
      "Размерность после удаления.\n",
      "(99990, 5)\n"
     ]
    }
   ],
   "source": [
    "# проведем преобразование для Региона 1\n",
    "print('Удаление неявных дубликатов в geo_data_0')\n",
    "print('*' * 70)\n",
    "geo_data_0 = id_duplicate_processing(geo_data_0)"
   ]
  },
  {
   "cell_type": "code",
   "execution_count": 11,
   "metadata": {},
   "outputs": [
    {
     "name": "stdout",
     "output_type": "stream",
     "text": [
      "Удаление неявных дубликатов в geo_data_1\n",
      "**********************************************************************\n",
      "Неявные дубликаты скважин до преобразования:\n",
      "          id         f0         f1        f2     product\n",
      "5849   5ltQ6  -3.435401 -12.296043  1.999796   57.085625\n",
      "84461  5ltQ6  18.213839   2.191999  3.993869  107.813044\n",
      "1305   LHZR0  11.170835  -1.945066  3.002872   80.859783\n",
      "41906  LHZR0  -8.989672  -4.286607  2.009139   57.085625\n",
      "2721   bfPNe  -9.494442  -5.463692  4.006042  110.992147\n",
      "82178  bfPNe  -6.202799  -4.820045  2.995107   84.038886\n",
      "47591  wt4Uk  -9.091098  -8.109279 -0.002314    3.179103\n",
      "82873  wt4Uk  10.259972  -9.376355  4.994297  134.766305\n",
      "**********************************************************************\n",
      "После преобразования:\n",
      "          id        f0         f1        f2    product\n",
      "5849   5ltQ6 -3.435401 -12.296043  1.999796  57.085625\n",
      "41906  LHZR0 -8.989672  -4.286607  2.009139  57.085625\n",
      "82178  bfPNe -6.202799  -4.820045  2.995107  84.038886\n",
      "47591  wt4Uk -9.091098  -8.109279 -0.002314   3.179103\n",
      "**********************************************************************\n",
      "Размерность после удаления.\n",
      "(99996, 5)\n"
     ]
    }
   ],
   "source": [
    "# проведем преобразование для Региона 2\n",
    "print('Удаление неявных дубликатов в geo_data_1')\n",
    "print('*' * 70)\n",
    "geo_data_1 = id_duplicate_processing(geo_data_1)"
   ]
  },
  {
   "cell_type": "code",
   "execution_count": 12,
   "metadata": {
    "scrolled": false
   },
   "outputs": [
    {
     "name": "stdout",
     "output_type": "stream",
     "text": [
      "Удаление неявных дубликатов в geo_data_2\n",
      "**********************************************************************\n",
      "Неявные дубликаты скважин до преобразования:\n",
      "          id        f0        f1        f2     product\n",
      "45404  KUPhW  0.231846 -1.698941  4.990775   11.716299\n",
      "55967  KUPhW  1.211150  3.176408  5.543540  132.831802\n",
      "11449  VF7Jo  2.122656 -0.858275  5.746001  181.716817\n",
      "49564  VF7Jo -0.883115  0.560537  0.723601  136.233420\n",
      "44378  Vcm5J -1.229484 -2.439204  1.222909  137.968290\n",
      "95090  Vcm5J  2.587702  1.986875  2.482245   92.327572\n",
      "28039  xCHr8  1.633027  0.368135 -2.378367    6.120525\n",
      "43233  xCHr8 -0.847066  2.101796  5.597130  184.388641\n",
      "**********************************************************************\n",
      "После преобразования:\n",
      "          id        f0        f1        f2     product\n",
      "45404  KUPhW  0.231846 -1.698941  4.990775   11.716299\n",
      "49564  VF7Jo -0.883115  0.560537  0.723601  136.233420\n",
      "95090  Vcm5J  2.587702  1.986875  2.482245   92.327572\n",
      "28039  xCHr8  1.633027  0.368135 -2.378367    6.120525\n",
      "**********************************************************************\n",
      "Размерность после удаления.\n",
      "(99996, 5)\n"
     ]
    }
   ],
   "source": [
    "# проведем преобразование для Региона 3\n",
    "print('Удаление неявных дубликатов в geo_data_2')\n",
    "print('*' * 70)\n",
    "geo_data_2 = id_duplicate_processing(geo_data_2)"
   ]
  },
  {
   "cell_type": "markdown",
   "metadata": {},
   "source": [
    "Таким образом, видим, что преобразование прошло успешно - удалены дублирующиеся скважины с бОльшим значением в столбце продукт, для каждого региона."
   ]
  },
  {
   "cell_type": "code",
   "execution_count": 13,
   "metadata": {
    "scrolled": true
   },
   "outputs": [
    {
     "data": {
      "image/png": "[encoded data removed]",
      "text/plain": [
       "<Figure size 2500x1000 with 3 Axes>"
      ]
     },
     "metadata": {},
     "output_type": "display_data"
    }
   ],
   "source": [
    "# посмотрим распределение данных по каждому региону для целевого столбца\n",
    "dict_geo = {'Регион 1':geo_data_0, 'Регион 2':geo_data_1, 'Регион 3':geo_data_2}\n",
    "i = 1\n",
    "for df_name, df in dict_geo.items():\n",
    "    ax = plt.subplot(2, 4, i)\n",
    "    df['product'].hist(ax=ax, figsize=(25,10));\n",
    "    plt.xlabel('объем запаса нефти, тыс. баррелей')\n",
    "    plt.ylabel('кол-во скважин');\n",
    "    plt.title(df_name)\n",
    "    i += 1"
   ]
  },
  {
   "cell_type": "markdown",
   "metadata": {},
   "source": [
    "Видим, что для Региона 1 и Региона 2 - распределния данных по целевому столбцу product, близки к нормальным, возможно имеются нулевые значения запаса нефти в скважине. \n",
    "\n",
    "Для Региона 2 распределение данных имеет необычную, симметричную структуру. Возможно, что при выгрузке данных по Региону 2 были технические сбои и данные выгрузились некорреткно или были утеряны, либо данный набор является синтетическим и предоставлен заказчиком, в качестве проверочного для оценки нашей работы."
   ]
  },
  {
   "cell_type": "code",
   "execution_count": 14,
   "metadata": {},
   "outputs": [],
   "source": [
    "# напишем функцию для оценки чесленной статистики по целевому столбцу\n",
    "def evaluation_of_product(df):\n",
    "    print(df['product'].describe())\n",
    "    print('*' * 70)\n",
    "    print('Количество скважин с нулевыми запасами:', df.loc[df['product'] == 0]['product'].count())\n",
    "    df.boxplot(column='product')\n",
    "    plt.ylabel('объем запаса нефти, тыс. баррелей')"
   ]
  },
  {
   "cell_type": "code",
   "execution_count": 15,
   "metadata": {
    "scrolled": false
   },
   "outputs": [
    {
     "name": "stdout",
     "output_type": "stream",
     "text": [
      "Численная статистика для Региона 1\n",
      "**********************************************************************\n",
      "count    99990.000000\n",
      "mean        92.497431\n",
      "std         44.289177\n",
      "min          0.000000\n",
      "25%         56.495873\n",
      "50%         91.842960\n",
      "75%        128.562225\n",
      "max        185.364347\n",
      "Name: product, dtype: float64\n",
      "**********************************************************************\n",
      "Количество скважин с нулевыми запасами: 1\n"
     ]
    },
    {
     "data": {
      "image/png": "[encoded data removed]",
      "text/plain": [
       "<Figure size 640x480 with 1 Axes>"
      ]
     },
     "metadata": {},
     "output_type": "display_data"
    }
   ],
   "source": [
    "# проведем оценку Региона 1\n",
    "print('Численная статистика для Региона 1')\n",
    "print('*' * 70)\n",
    "evaluation_of_product(geo_data_0)"
   ]
  },
  {
   "cell_type": "markdown",
   "metadata": {},
   "source": [
    "Видим, что в данных отстутсвуют выбросы, среднее и медианные значения практически одинаковы. Пристутсвует одно нулевое значение."
   ]
  },
  {
   "cell_type": "code",
   "execution_count": 16,
   "metadata": {
    "scrolled": false
   },
   "outputs": [
    {
     "name": "stdout",
     "output_type": "stream",
     "text": [
      "Численная статистика для Региона 2\n",
      "**********************************************************************\n",
      "count    99996.000000\n",
      "mean        68.823409\n",
      "std         45.944494\n",
      "min          0.000000\n",
      "25%         26.953261\n",
      "50%         57.085625\n",
      "75%        107.813044\n",
      "max        137.945408\n",
      "Name: product, dtype: float64\n",
      "**********************************************************************\n",
      "Количество скважин с нулевыми запасами: 8235\n"
     ]
    },
    {
     "data": {
      "image/png": "[encoded data removed]",
      "text/plain": [
       "<Figure size 640x480 with 1 Axes>"
      ]
     },
     "metadata": {},
     "output_type": "display_data"
    }
   ],
   "source": [
    "# проведем оценку Региона 2\n",
    "print('Численная статистика для Региона 2')\n",
    "print('*' * 70)\n",
    "evaluation_of_product(geo_data_1)"
   ]
  },
  {
   "cell_type": "markdown",
   "metadata": {},
   "source": [
    "Видим, что в данных отстутсвуют выбросы, среднее и медианные значения отличаются: 57 и 69, соответственно. Пристутсвует 8235 скважин с нулевыми запасами нефти."
   ]
  },
  {
   "cell_type": "code",
   "execution_count": 17,
   "metadata": {
    "scrolled": false
   },
   "outputs": [
    {
     "name": "stdout",
     "output_type": "stream",
     "text": [
      "Численная статистика для Региона 3\n",
      "**********************************************************************\n",
      "count    99996.000000\n",
      "mean        94.997431\n",
      "std         44.748717\n",
      "min          0.000000\n",
      "25%         59.450028\n",
      "50%         94.917850\n",
      "75%        130.585544\n",
      "max        190.029838\n",
      "Name: product, dtype: float64\n",
      "**********************************************************************\n",
      "Количество скважин с нулевыми запасами: 1\n"
     ]
    },
    {
     "data": {
      "image/png": "[encoded data removed]",
      "text/plain": [
       "<Figure size 640x480 with 1 Axes>"
      ]
     },
     "metadata": {},
     "output_type": "display_data"
    }
   ],
   "source": [
    "# проведем оценку Региона 3\n",
    "print('Численная статистика для Региона 3')\n",
    "print('*' * 70)\n",
    "evaluation_of_product(geo_data_2)"
   ]
  },
  {
   "cell_type": "markdown",
   "metadata": {},
   "source": [
    "Видим, что в данных отстутсвуют выбросы, среднее и медианные значения практически одинаковы. Пристутсвует одно нулевое значение."
   ]
  },
  {
   "cell_type": "code",
   "execution_count": 18,
   "metadata": {},
   "outputs": [],
   "source": [
    "geo_data_0_dz = geo_data_0.copy()\n",
    "geo_data_1_dz = geo_data_1.copy()\n",
    "geo_data_2_dz = geo_data_2.copy()"
   ]
  },
  {
   "cell_type": "markdown",
   "metadata": {},
   "source": [
    "#### Работа с данными по остальным признакам"
   ]
  },
  {
   "cell_type": "code",
   "execution_count": 19,
   "metadata": {},
   "outputs": [],
   "source": [
    "# напишем функцию построения боксплотов для признаков f0, f1 и f2\n",
    "def boxplot_visual(df):\n",
    "    list_features = ['f0', 'f1', 'f2']\n",
    "    i = 1\n",
    "    plt.figure(figsize=(16, 8))\n",
    "    for feature in list_features:\n",
    "        ax = plt.subplot(1, 3, i)\n",
    "        df.boxplot(column=feature,ax=ax)\n",
    "        plt.ylabel('значение признака');\n",
    "        i += 1"
   ]
  },
  {
   "cell_type": "code",
   "execution_count": 20,
   "metadata": {
    "scrolled": false
   },
   "outputs": [
    {
     "name": "stdout",
     "output_type": "stream",
     "text": [
      "Выбросы в признаках для Региона 1\n"
     ]
    },
    {
     "data": {
      "image/png": "[encoded data removed]",
      "text/plain": [
       "<Figure size 1600x800 with 3 Axes>"
      ]
     },
     "metadata": {},
     "output_type": "display_data"
    }
   ],
   "source": [
    "# построим боксплоты для Региона 1\n",
    "print('Выбросы в признаках для Региона 1')\n",
    "boxplot_visual(geo_data_0)"
   ]
  },
  {
   "cell_type": "markdown",
   "metadata": {},
   "source": [
    "Наблюдаются выбросы для признака f2"
   ]
  },
  {
   "cell_type": "code",
   "execution_count": 21,
   "metadata": {
    "scrolled": false
   },
   "outputs": [
    {
     "name": "stdout",
     "output_type": "stream",
     "text": [
      "Выбросы в признаках для Региона 2\n"
     ]
    },
    {
     "data": {
      "image/png": "[encoded data removed]",
      "text/plain": [
       "<Figure size 1600x800 with 3 Axes>"
      ]
     },
     "metadata": {},
     "output_type": "display_data"
    }
   ],
   "source": [
    "# построим боксплоты для Региона 2\n",
    "print('Выбросы в признаках для Региона 2')\n",
    "boxplot_visual(geo_data_1)"
   ]
  },
  {
   "cell_type": "markdown",
   "metadata": {},
   "source": [
    "Наблюдаются выбросы для признаков f0 и f1"
   ]
  },
  {
   "cell_type": "code",
   "execution_count": 22,
   "metadata": {
    "scrolled": false
   },
   "outputs": [
    {
     "name": "stdout",
     "output_type": "stream",
     "text": [
      "Выбросы в признаках для Региона 3\n"
     ]
    },
    {
     "data": {
      "image/png": "[encoded data removed]",
      "text/plain": [
       "<Figure size 1600x800 with 3 Axes>"
      ]
     },
     "metadata": {},
     "output_type": "display_data"
    }
   ],
   "source": [
    "# построим боксплоты для Региона 3\n",
    "print('Выбросы в признаках для Региона 3')\n",
    "boxplot_visual(geo_data_2)"
   ]
  },
  {
   "cell_type": "markdown",
   "metadata": {},
   "source": [
    "Наблюдаются выбросы для признаков f0, f1 и f2"
   ]
  },
  {
   "cell_type": "markdown",
   "metadata": {},
   "source": [
    "Так как признаки у нас \"обезличины\", на текущем этапе исследования мы не сможем понять логику и природу их возниконовения, для обработки. Остается только запросить пояснения у заказчиков. На текущий момент выбросы не удаляем."
   ]
  },
  {
   "cell_type": "code",
   "execution_count": 23,
   "metadata": {},
   "outputs": [],
   "source": [
    "geo_data_0_do = geo_data_0.copy()\n",
    "geo_data_1_do = geo_data_1.copy()\n",
    "geo_data_2_do = geo_data_2.copy()"
   ]
  },
  {
   "cell_type": "code",
   "execution_count": 24,
   "metadata": {
    "scrolled": false
   },
   "outputs": [
    {
     "data": {
      "image/png": "[encoded data removed]",
      "text/plain": [
       "<Figure size 1000x1000 with 2 Axes>"
      ]
     },
     "metadata": {},
     "output_type": "display_data"
    },
    {
     "data": {
      "image/png": "[encoded data removed]",
      "text/plain": [
       "<Figure size 1000x1000 with 2 Axes>"
      ]
     },
     "metadata": {},
     "output_type": "display_data"
    },
    {
     "data": {
      "image/png": "[encoded data removed]",
      "text/plain": [
       "<Figure size 1000x1000 with 2 Axes>"
      ]
     },
     "metadata": {},
     "output_type": "display_data"
    }
   ],
   "source": [
    "# оценим степень корреляции между признаками\n",
    "dict_geo = {'Регион 1':geo_data_0, 'Регион 2':geo_data_1, 'Регион 3':geo_data_2}\n",
    "i = 1\n",
    "\n",
    "for df_name, df in dict_geo.items():\n",
    "    plt.figure(figsize=(10,10))\n",
    "    ax = plt.subplot(3, 1, i)\n",
    "    sb.heatmap(df.corr(numeric_only=True),ax=ax, annot=True)\n",
    "    plt.title(df_name)\n",
    "    i += 1"
   ]
  },
  {
   "cell_type": "markdown",
   "metadata": {},
   "source": [
    "Видим, что для Региона 2 признак f2 полностью коррелирует с целевым признаком product (коэффициент = 1). Наблюдаем мультиколлениарность признаков, что можно сравнить с утечкой целевого признака в обучающую выборку, это в свою очередь приведет к неверному обучению модели, статистические выводы такой модели могут быть крайне ненадежными. Но в ТЗ от заказчика, прямо указанно, что все факторы важны. Поэтому будем работать с теми данными, что есть - без изменений.\n",
    "\n",
    "Для остальных регионов корреляция признаков находится на примелимом уровне."
   ]
  },
  {
   "cell_type": "markdown",
   "metadata": {},
   "source": [
    "### Выводы"
   ]
  },
  {
   "cell_type": "markdown",
   "metadata": {},
   "source": [
    "-  Были загружены три датафрейма, предоставленные заказчиком. Все датафреймы загрузились без ошибок, имеют одинаковую размерность - 5 столбцов и 100000 строк. Типы данных корректны, названия столбцов корректны. Пропуски данных и явные дубликаты отстуствуют;\n",
    "\n",
    "\n",
    "- В данных были обнаружены неявные дубликаты, в каждом из регионов. Для одних и тех же скважин дублировалась информация, были удалены дубликаты у которых значение запаса нефти в скважине имело максимальное значение;\n",
    "\n",
    "\n",
    "- Для Региона 2 была обнаружена мультиколлениарность целевого признака product и признака f2 (коэффициент корреляции = 1);\n"
   ]
  },
  {
   "cell_type": "markdown",
   "metadata": {},
   "source": [
    "## Обучение и проверка модели"
   ]
  },
  {
   "cell_type": "markdown",
   "metadata": {},
   "source": [
    "### Создание выборок"
   ]
  },
  {
   "cell_type": "code",
   "execution_count": 25,
   "metadata": {},
   "outputs": [],
   "source": [
    "# создадим функцию для создания обущающей и валидационной выборок \n",
    "def sample_split(data):\n",
    "    target_data = data['product']\n",
    "    features_data = data.drop(['product', 'id'], axis=1)\n",
    "    features_train, features_valid, target_train, target_valid = train_test_split(\n",
    "    features_data,target_data, test_size=0.25, random_state=12345)\n",
    "    return features_train, features_valid, target_train, target_valid"
   ]
  },
  {
   "cell_type": "code",
   "execution_count": 26,
   "metadata": {},
   "outputs": [
    {
     "data": {
      "text/plain": [
       "((74992, 3), (24998, 3), (74992,), (24998,))"
      ]
     },
     "execution_count": 26,
     "metadata": {},
     "output_type": "execute_result"
    }
   ],
   "source": [
    "# проведем разбиение для Региона 1\n",
    "features_train_0, features_valid_0, target_train_0, target_valid_0 = sample_split(geo_data_0)\n",
    "features_train_0.shape, features_valid_0.shape, target_train_0.shape, target_valid_0.shape"
   ]
  },
  {
   "cell_type": "code",
   "execution_count": 27,
   "metadata": {},
   "outputs": [
    {
     "data": {
      "text/plain": [
       "((74997, 3), (24999, 3), (74997,), (24999,))"
      ]
     },
     "execution_count": 27,
     "metadata": {},
     "output_type": "execute_result"
    }
   ],
   "source": [
    "# проведем разбиение для Региона 2\n",
    "features_train_1, features_valid_1, target_train_1, target_valid_1 = sample_split(geo_data_1)\n",
    "features_train_1.shape, features_valid_1.shape, target_train_1.shape, target_valid_1.shape"
   ]
  },
  {
   "cell_type": "code",
   "execution_count": 28,
   "metadata": {},
   "outputs": [
    {
     "data": {
      "text/plain": [
       "((74997, 3), (24999, 3), (74997,), (24999,))"
      ]
     },
     "execution_count": 28,
     "metadata": {},
     "output_type": "execute_result"
    }
   ],
   "source": [
    "# проведем разбиение для Региона 3\n",
    "features_train_2, features_valid_2, target_train_2, target_valid_2 = sample_split(geo_data_2)\n",
    "features_train_2.shape, features_valid_2.shape, target_train_2.shape, target_valid_2.shape"
   ]
  },
  {
   "cell_type": "markdown",
   "metadata": {},
   "source": [
    "Выборки созданны корректно."
   ]
  },
  {
   "cell_type": "markdown",
   "metadata": {},
   "source": [
    "### Обучение модели и предсказание"
   ]
  },
  {
   "cell_type": "code",
   "execution_count": 29,
   "metadata": {},
   "outputs": [],
   "source": [
    "# напишем функцию создания модели и получения результатов\n",
    "def line_model(features_train, features_valid, target_train, target_valid): \n",
    "    # инициируем модели линейной регрессии\n",
    "    model = LinearRegression()\n",
    "    # обучим модель\n",
    "    model.fit(features_train, target_train)\n",
    "    # сделаем прогнозы\n",
    "    predicted_valid = model.predict(features_valid)\n",
    "    \n",
    "    # посчитаем rmse\n",
    "    rmse = mean_squared_error(target_valid, predicted_valid)**0.5\n",
    "    \n",
    "    # посчитаем средний запас сырья\n",
    "    predicted_valid_mean = predicted_valid.sum()/len(predicted_valid)\n",
    "\n",
    "    return target_valid, predicted_valid, rmse, predicted_valid_mean"
   ]
  },
  {
   "cell_type": "code",
   "execution_count": 30,
   "metadata": {
    "scrolled": true
   },
   "outputs": [
    {
     "name": "stdout",
     "output_type": "stream",
     "text": [
      "Регион 1\n",
      "Реальный средний запас сырья: 92.49743116975415\n",
      "Предсказанный средний запас сырья: 92.45867727562879\n",
      "RMSE: 37.703816170396195\n",
      "**********************************************************************\n",
      "Регион 2\n",
      "Реальный средний запас сырья: 68.82340862355407\n",
      "Предсказанный средний запас сырья: 68.9916720213159\n",
      "RMSE: 0.8903351798664594\n",
      "**********************************************************************\n",
      "Регион 3\n",
      "Реальный средний запас сырья: 94.99743084172428\n",
      "Предсказанный средний запас сырья: 95.02041705325783\n",
      "RMSE: 40.18231468759048\n",
      "**********************************************************************\n"
     ]
    }
   ],
   "source": [
    "# Регион 1\n",
    "target_valid_0, predicted_valid_0, rmse_0, predicted_valid_mean_0 =\\\n",
    "line_model(features_train_0, features_valid_0, target_train_0, target_valid_0)\n",
    "print('Регион 1')\n",
    "print('Реальный средний запас сырья:',geo_data_0['product'].mean() )\n",
    "print('Предсказанный средний запас сырья:', predicted_valid_mean_0)\n",
    "print('RMSE:', rmse_0)\n",
    "print('*'*70)\n",
    "\n",
    "# Регион 2\n",
    "target_valid_1, predicted_valid_1, rmse_1, predicted_valid_mean_1 =\\\n",
    "line_model(features_train_1, features_valid_1, target_train_1, target_valid_1)\n",
    "print('Регион 2')\n",
    "print('Реальный средний запас сырья:',geo_data_1['product'].mean() )\n",
    "print('Предсказанный средний запас сырья:', predicted_valid_mean_1)\n",
    "print('RMSE:', rmse_1)\n",
    "print('*'*70)\n",
    "\n",
    "# Регион 3\n",
    "target_valid_2, predicted_valid_2, rmse_2, predicted_valid_mean_2 =\\\n",
    "line_model(features_train_2, features_valid_2, target_train_2, target_valid_2)\n",
    "print('Регион 3')\n",
    "print('Реальный средний запас сырья:',geo_data_2['product'].mean() )\n",
    "print('Предсказанный средний запас сырья:', predicted_valid_mean_2)\n",
    "print('RMSE:', rmse_2)\n",
    "print('*'*70)"
   ]
  },
  {
   "cell_type": "markdown",
   "metadata": {},
   "source": [
    "Видим, что предсказанные средние запасы сырья по регионам, близки к истинным средним запасам. Но при этом для регионов 1 и 3 метрика RMSE имеет большие значения. Эти факты говорят о том, что полученная модель является несмещенной, но, по-видимому имеет большой разброс. Наименьшая ошибка наблюдается для Региона 2, наибольший предсказанный средний запса сырья в Регионе 3.\n"
   ]
  },
  {
   "cell_type": "code",
   "execution_count": 31,
   "metadata": {},
   "outputs": [
    {
     "name": "stdout",
     "output_type": "stream",
     "text": [
      "Итоговая информация\n"
     ]
    },
    {
     "data": {
      "text/html": [
       "<div>\n",
       "<style scoped>\n",
       "    .dataframe tbody tr th:only-of-type {\n",
       "        vertical-align: middle;\n",
       "    }\n",
       "\n",
       "    .dataframe tbody tr th {\n",
       "        vertical-align: top;\n",
       "    }\n",
       "\n",
       "    .dataframe thead th {\n",
       "        text-align: right;\n",
       "    }\n",
       "</style>\n",
       "<table border=\"1\" class=\"dataframe\">\n",
       "  <thead>\n",
       "    <tr style=\"text-align: right;\">\n",
       "      <th></th>\n",
       "      <th>Регион 1</th>\n",
       "      <th>Регион 2</th>\n",
       "      <th>Регион 3</th>\n",
       "    </tr>\n",
       "  </thead>\n",
       "  <tbody>\n",
       "    <tr>\n",
       "      <th>Предсказанный средний запас сырья</th>\n",
       "      <td>92.458677</td>\n",
       "      <td>68.991672</td>\n",
       "      <td>95.020417</td>\n",
       "    </tr>\n",
       "    <tr>\n",
       "      <th>RMSE</th>\n",
       "      <td>37.703816</td>\n",
       "      <td>0.890335</td>\n",
       "      <td>40.182315</td>\n",
       "    </tr>\n",
       "  </tbody>\n",
       "</table>\n",
       "</div>"
      ],
      "text/plain": [
       "                                    Регион 1   Регион 2   Регион 3\n",
       "Предсказанный средний запас сырья  92.458677  68.991672  95.020417\n",
       "RMSE                               37.703816   0.890335  40.182315"
      ]
     },
     "execution_count": 31,
     "metadata": {},
     "output_type": "execute_result"
    }
   ],
   "source": [
    "total_info = pd.DataFrame([\n",
    "                            [predicted_valid_mean_0, predicted_valid_mean_1, predicted_valid_mean_2],\n",
    "                            [rmse_0, rmse_1, rmse_2]\n",
    "                          ],\n",
    "                          index=['Предсказанный средний запас сырья', 'RMSE'],\n",
    "                          columns=['Регион 1', 'Регион 2', 'Регион 3'])\n",
    "\n",
    "print('Итоговая информация')\n",
    "total_info"
   ]
  },
  {
   "cell_type": "markdown",
   "metadata": {},
   "source": [
    "## Подготовка к расчёту прибыли"
   ]
  },
  {
   "cell_type": "code",
   "execution_count": 32,
   "metadata": {},
   "outputs": [
    {
     "name": "stdout",
     "output_type": "stream",
     "text": [
      "Окупаемость месторождений в регионе в тыс баррелей: 111.11111111111111\n"
     ]
    }
   ],
   "source": [
    "#лучших скважин в р зададим константы и посчитаем окупаемость меторождений\n",
    "OIL_PRICE = 450000 # цена нефти за 1 тыс баррелей\n",
    "\n",
    "BUDGET_WORK = 10_000_000_000 # бюджет на разработку скважин в регионе\n",
    "\n",
    "BEST_WELLS = 200 # по условию задачи мы выберм 200 лучших скважин\n",
    "\n",
    "PAYBACK = (BUDGET_WORK/OIL_PRICE)/BEST_WELLS # значение когда наступает окупаемость для 200 егионе\n",
    "\n",
    "RANDOM_WELLS = 500\n",
    "BOOTSTRAP_SAMPLES = 1000\n",
    "STATE = np.random.RandomState(12345)\n",
    "print(\"Окупаемость месторождений в регионе в тыс баррелей:\", PAYBACK)"
   ]
  },
  {
   "cell_type": "markdown",
   "metadata": {},
   "source": [
    "Таким образом, минимальное среднее значение для запаса нефти в скважине, для того чтобы разработка окупалась в 0, равна 111.11 тыс. баррелей. Это больше, чем предсказанный средний запас для всех скважин в регионе разработки. Картина характерина для всех трех регионов. Далее проведем работу оценке прибыли для 200 лучших скважин, для каждого региона."
   ]
  },
  {
   "cell_type": "markdown",
   "metadata": {},
   "source": [
    "## Расчёт прибыли и рисков "
   ]
  },
  {
   "cell_type": "code",
   "execution_count": 33,
   "metadata": {},
   "outputs": [],
   "source": [
    "# создадим функцию для оценки прибыли по 200 лучшим скважинам\n",
    "# функция отбирает лучшие скважины из реальных данных на основе предсказанных моделью\n",
    "def revenue(target, predicted, count):\n",
    "    target = pd.Series(target).reset_index(drop=True)\n",
    "    predicted = pd.Series(predicted).reset_index(drop=True)\n",
    "    predicted_sorted = predicted.sort_values(ascending=False)\n",
    "    selected = target[predicted_sorted.index][:count]\n",
    "    return ((OIL_PRICE * selected.sum() - BUDGET_WORK)/1000000) "
   ]
  },
  {
   "cell_type": "code",
   "execution_count": 34,
   "metadata": {
    "scrolled": false
   },
   "outputs": [
    {
     "name": "stdout",
     "output_type": "stream",
     "text": [
      "Регион 1\n",
      "Прибыль с 200 лучших скважин региона, млн.руб.: 3333.746205374388\n",
      "**********************************************************************\n",
      "Регион 2\n",
      "Прибыль с 200 лучших скважин региона, млн.руб.: 2415.086696681511\n",
      "**********************************************************************\n",
      "Регион 3\n",
      "Прибыль с 200 лучших скважин региона, млн.руб.: 2689.88936218449\n",
      "**********************************************************************\n"
     ]
    }
   ],
   "source": [
    "# посмотрим, что получилось\n",
    "print('Регион 1')\n",
    "print('Прибыль с 200 лучших скважин региона, млн.руб.:',revenue(target_valid_0, predicted_valid_0, BEST_WELLS))\n",
    "print('*'*70)\n",
    "\n",
    "print('Регион 2')\n",
    "print('Прибыль с 200 лучших скважин региона, млн.руб.:',revenue(target_valid_1, predicted_valid_1, BEST_WELLS))\n",
    "print('*'*70)\n",
    "\n",
    "print('Регион 3')\n",
    "print('Прибыль с 200 лучших скважин региона, млн.руб.:',revenue(target_valid_2, predicted_valid_2, BEST_WELLS))\n",
    "print('*'*70)"
   ]
  },
  {
   "cell_type": "markdown",
   "metadata": {},
   "source": [
    "Таким образом, видим, что наибольшая прибыль по 200 лучшим скважинам прогнозируется в Регионе 1.\n"
   ]
  },
  {
   "cell_type": "markdown",
   "metadata": {},
   "source": [
    "Теперь реализуем вариант по условиям задачи - в регионе выбирается 500 скважин, из которых выбирается 200 лучших. Применим технику Bootstrap c 1000 выборок. Доверительный интервал выберем в 95%"
   ]
  },
  {
   "cell_type": "code",
   "execution_count": 35,
   "metadata": {},
   "outputs": [],
   "source": [
    "# создадим функцию расчета рисков и прибыли\n",
    "def bootstrap (target, predicted):\n",
    "    values = []\n",
    "    for i in range(BOOTSTRAP_SAMPLES):\n",
    "        target_subsample = target.reset_index(drop=True).sample(n=RANDOM_WELLS, replace=True, random_state=STATE)\n",
    "        predicted_subsample = predicted[target_subsample.index]\n",
    "        values.append(revenue(target_subsample, predicted_subsample, BEST_WELLS))\n",
    "\n",
    "    values = pd.Series(values)\n",
    "    mean = values.mean()\n",
    "    lower = values.quantile(.025)\n",
    "    upper = values.quantile(.975)\n",
    "    confidence_interval = (values.quantile(0.025), values.quantile(0.975))\n",
    "    \n",
    "    print(\"Средняя прибыль, млн. руб.:\", mean)\n",
    "    print(\"Доверительный интервал - минимум, млн. руб.:\", lower)\n",
    "    print(\"Доверительный интервал - максимум, млн. руб.:\", upper)\n",
    "    print(\"Риски убытка в %:\", 100 * (values < 0).mean())\n",
    "    ax=values.plot(kind='hist', bins=10, grid=True)  \n",
    "    ax.set_xlabel('Прибыль, млн. руб.', fontsize=10)\n",
    "    ax.set_ylabel('частота')\n",
    "    plt.show()"
   ]
  },
  {
   "cell_type": "code",
   "execution_count": 36,
   "metadata": {
    "scrolled": false
   },
   "outputs": [
    {
     "name": "stdout",
     "output_type": "stream",
     "text": [
      "РЕГИОН 1\n",
      "Средняя прибыль, млн. руб.: 423.5139706368861\n",
      "Доверительный интервал - минимум, млн. руб.: -93.51511299508519\n",
      "Доверительный интервал - максимум, млн. руб.: 929.4649446397433\n",
      "Риски убытка в %: 4.9\n"
     ]
    },
    {
     "data": {
      "image/png": "[encoded data removed]",
      "text/plain": [
       "<Figure size 640x480 with 1 Axes>"
      ]
     },
     "metadata": {},
     "output_type": "display_data"
    }
   ],
   "source": [
    "# проверим Регион 1\n",
    "print('РЕГИОН 1')\n",
    "bootstrap(target_valid_0, predicted_valid_0)"
   ]
  },
  {
   "cell_type": "code",
   "execution_count": 37,
   "metadata": {},
   "outputs": [
    {
     "name": "stdout",
     "output_type": "stream",
     "text": [
      "РЕГИОН 2\n",
      "Средняя прибыль, млн. руб.: 464.36091247961076\n",
      "Доверительный интервал - минимум, млн. руб.: 41.71833321316953\n",
      "Доверительный интервал - максимум, млн. руб.: 928.6630739947309\n",
      "Риски убытка в %: 1.3\n"
     ]
    },
    {
     "data": {
      "image/png": "[encoded data removed]",
      "text/plain": [
       "<Figure size 640x480 with 1 Axes>"
      ]
     },
     "metadata": {},
     "output_type": "display_data"
    }
   ],
   "source": [
    "# проверим Регион 2\n",
    "print('РЕГИОН 2')\n",
    "bootstrap(target_valid_1, predicted_valid_1)"
   ]
  },
  {
   "cell_type": "code",
   "execution_count": 38,
   "metadata": {
    "scrolled": false
   },
   "outputs": [
    {
     "name": "stdout",
     "output_type": "stream",
     "text": [
      "РЕГИОН 3`\n",
      "Средняя прибыль, млн. руб.: 325.5185378031319\n",
      "Доверительный интервал - минимум, млн. руб.: -173.31813600712113\n",
      "Доверительный интервал - максимум, млн. руб.: 884.0089764352347\n",
      "Риски убытка в %: 10.6\n"
     ]
    },
    {
     "data": {
      "image/png": "[encoded data removed]",
      "text/plain": [
       "<Figure size 640x480 with 1 Axes>"
      ]
     },
     "metadata": {},
     "output_type": "display_data"
    }
   ],
   "source": [
    "# проверим Регион 3\n",
    "print('РЕГИОН 3`')\n",
    "bootstrap(target_valid_2, predicted_valid_2)"
   ]
  },
  {
   "cell_type": "markdown",
   "metadata": {},
   "source": [
    "### Выводы"
   ]
  },
  {
   "attachments": {
    "13.JPG": {
     "image/jpeg": "[encoded data removed]"
    }
   },
   "cell_type": "markdown",
   "metadata": {},
   "source": [
    "Таким образом можно сделать следующие выводы:\n",
    "- Регион 2 потнециально прибылен, прогнозируемая прибыль самая большая из всех представленных регионов, вероятность получения убытков менее 1.3%, нижняя граница доверительного интервала имеет положительное значение;\n",
    "- Оставшиеся Регион 1 и Регион 3 потенциально прибыльны, но вероятность получения убытков больше 2.5%, нижние границы доверительного интервала имеют отрицательные значения;\n",
    "![13.JPG](attachment:13.JPG)\n",
    "\n",
    "\n",
    "Таким образом, для разработки рекомендован Регион 2."
   ]
  },
  {
   "cell_type": "markdown",
   "metadata": {},
   "source": [
    "## Итоговый вывод"
   ]
  },
  {
   "attachments": {
    "13.JPG": {
     "image/jpeg": "[encoded data removed]"
    }
   },
   "cell_type": "markdown",
   "metadata": {},
   "source": [
    "-  Были загружены три датафрейма, предоставленные заказчиком. Все датафреймы загрузились без ошибок, имеют одинаковую размерность - 5 столбцов и 100000 строк. Типы данных корректны, названия столбцов корректны. Пропуски данных и явные дубликаты отстуствуют;\n",
    "\n",
    "\n",
    "- В данных были обнаружены неявные дубликаты, в каждом из регионов. Для одних и тех же скважин дублировалась информация, были удалены дубликаты у которых значение запаса нефти в скважине имело максимальное значение;\n",
    "\n",
    "- Для Региона 2 была обнаружена мультиколлениарность целевого признака product и признака f2 (коэффициент корреляции = 1);\n",
    "\n",
    "________________________________________________________________________________________________________________________________\n",
    "\n",
    "- Данные разбиты на выборки в соотношении 75/20 (обущающая/валидационная);\n",
    "\n",
    "\n",
    "- Обчена модель линейной регрессии и сделаны предсказания:\n",
    "\n",
    "  - Регион 1: RMSE модели линейной регрессии на валидационной выборке: 37.7. Cредний запас предсказанного сырья: 92.5 тыс. баррелей;\n",
    "\n",
    "  - Регион 2: RMSE модели линейной регрессии на валидационной выборке: 0.89. Cредний запас предсказанного сырья: 68.99 тыс. баррелей;\n",
    "\n",
    "  - Регион 3: RMSE модели линейной регрессии на валидационной выборке: 40.1 Cредний запас предсказанного сырья: 95 тыс. баррелей. баррелей.\n",
    "  \n",
    "  \n",
    "- Определено, минимальное среднее значение для запаса нефти в скважине, для того чтобы разработка окупалась в 0, равна 111.11 тыс. баррелей. Это больше, чем предсказанный средний запас для всех скважин в регионе разработки. Картина характерина для всех трех регионов;\n",
    "\n",
    "\n",
    "- Провден расчет прогноза прибыли по 200 лучшим скважинам. Определено, что наибольшая прибыль по 200 лучшим скважинам прогнозируется в Регионе 1;\n",
    "\n",
    "\n",
    "- Реализованы условия реальной задачи - в регионе выбирается 500 скважин, из которых выбирается 200 лучших. Применена техника Bootstrap c 1000 выборками. Доверительный интервал выберан в 95%:\n",
    "  -  Регион 2 потнециально прибылен, прогнозируемая прибыль самая большая из всех представленных регионов, вероятность получения убытков менее 2.5%, нижняя граница доверительного интервала имеет положительное значение;\n",
    "  - Оставшиеся Регион 1 и Регион 3 потенциально прибыльны, но вероятность получения убытков больше 2.5%, нижние границы доверительного интервала имеют отрицательные значения;\n",
    "\n",
    "![13.JPG](attachment:13.JPG)\n",
    "________________________________________________________________________________________________________________________________\n",
    "\n",
    "**По результатм исследования к разработке рекомендован Регион 2**"
   ]
  }
 ],
 "metadata": {
  "ExecuteTimeLog": [
   {
    "duration": 885,
    "start_time": "2024-05-24T10:41:56.286Z"
   },
   {
    "duration": 34558,
    "start_time": "2024-05-24T10:42:19.338Z"
   },
   {
    "duration": 869,
    "start_time": "2024-05-24T10:43:48.948Z"
   },
   {
    "duration": 2870,
    "start_time": "2024-05-24T10:44:10.498Z"
   },
   {
    "duration": 2218,
    "start_time": "2024-05-24T10:44:13.371Z"
   },
   {
    "duration": 52,
    "start_time": "2024-05-24T10:44:15.592Z"
   },
   {
    "duration": 634,
    "start_time": "2024-05-24T10:50:49.604Z"
   },
   {
    "duration": 18,
    "start_time": "2024-05-24T10:51:59.086Z"
   },
   {
    "duration": 17,
    "start_time": "2024-05-24T10:52:17.087Z"
   },
   {
    "duration": 15,
    "start_time": "2024-05-24T10:52:24.244Z"
   },
   {
    "duration": 125,
    "start_time": "2024-05-24T10:52:40.482Z"
   },
   {
    "duration": 18,
    "start_time": "2024-05-24T10:52:47.518Z"
   },
   {
    "duration": 14,
    "start_time": "2024-05-24T10:53:06.233Z"
   },
   {
    "duration": 15,
    "start_time": "2024-05-24T10:53:29.936Z"
   },
   {
    "duration": 7,
    "start_time": "2024-05-24T10:53:43.181Z"
   },
   {
    "duration": 17,
    "start_time": "2024-05-24T10:53:59.715Z"
   },
   {
    "duration": 6,
    "start_time": "2024-05-24T10:54:15.299Z"
   },
   {
    "duration": 819,
    "start_time": "2024-05-24T10:54:23.955Z"
   },
   {
    "duration": 15,
    "start_time": "2024-05-24T10:54:57.432Z"
   },
   {
    "duration": 15,
    "start_time": "2024-05-24T10:55:37.962Z"
   },
   {
    "duration": 11,
    "start_time": "2024-05-24T11:06:28.316Z"
   },
   {
    "duration": 34,
    "start_time": "2024-05-24T11:30:21.032Z"
   },
   {
    "duration": 6,
    "start_time": "2024-05-24T11:30:43.439Z"
   },
   {
    "duration": 10,
    "start_time": "2024-05-24T11:34:21.557Z"
   },
   {
    "duration": 3,
    "start_time": "2024-05-24T11:34:27.864Z"
   },
   {
    "duration": 23,
    "start_time": "2024-05-24T11:34:36.154Z"
   },
   {
    "duration": 4,
    "start_time": "2024-05-24T11:35:01.316Z"
   },
   {
    "duration": 15,
    "start_time": "2024-05-24T11:35:04.032Z"
   },
   {
    "duration": 3,
    "start_time": "2024-05-24T11:35:22.321Z"
   },
   {
    "duration": 17,
    "start_time": "2024-05-24T11:35:25.048Z"
   },
   {
    "duration": 5,
    "start_time": "2024-05-24T11:37:09.134Z"
   },
   {
    "duration": 24,
    "start_time": "2024-05-24T11:37:11.038Z"
   },
   {
    "duration": 54,
    "start_time": "2024-05-24T11:38:00.283Z"
   },
   {
    "duration": 4,
    "start_time": "2024-05-24T11:38:06.437Z"
   },
   {
    "duration": 23,
    "start_time": "2024-05-24T11:38:09.008Z"
   },
   {
    "duration": 4,
    "start_time": "2024-05-24T11:38:22.235Z"
   },
   {
    "duration": 25,
    "start_time": "2024-05-24T11:38:26.383Z"
   },
   {
    "duration": 116,
    "start_time": "2024-05-24T11:38:41.316Z"
   },
   {
    "duration": 4,
    "start_time": "2024-05-24T11:39:08.101Z"
   },
   {
    "duration": 26,
    "start_time": "2024-05-24T11:39:10.754Z"
   },
   {
    "duration": 3,
    "start_time": "2024-05-24T11:39:25.231Z"
   },
   {
    "duration": 25,
    "start_time": "2024-05-24T11:39:27.479Z"
   },
   {
    "duration": 3,
    "start_time": "2024-05-24T11:39:35.416Z"
   },
   {
    "duration": 22,
    "start_time": "2024-05-24T11:39:38.104Z"
   },
   {
    "duration": 4,
    "start_time": "2024-05-24T11:40:16.684Z"
   },
   {
    "duration": 24,
    "start_time": "2024-05-24T11:40:19.522Z"
   },
   {
    "duration": 4,
    "start_time": "2024-05-24T11:40:37.358Z"
   },
   {
    "duration": 26,
    "start_time": "2024-05-24T11:40:39.669Z"
   },
   {
    "duration": 5,
    "start_time": "2024-05-24T11:42:40.549Z"
   },
   {
    "duration": 25,
    "start_time": "2024-05-24T11:42:43.084Z"
   },
   {
    "duration": 5,
    "start_time": "2024-05-24T11:44:26.719Z"
   },
   {
    "duration": 26,
    "start_time": "2024-05-24T11:44:28.769Z"
   },
   {
    "duration": 4,
    "start_time": "2024-05-24T11:46:05.444Z"
   },
   {
    "duration": 5,
    "start_time": "2024-05-24T11:46:14.637Z"
   },
   {
    "duration": 30,
    "start_time": "2024-05-24T11:46:16.937Z"
   },
   {
    "duration": 4,
    "start_time": "2024-05-24T11:47:29.322Z"
   },
   {
    "duration": 62,
    "start_time": "2024-05-24T11:47:31.634Z"
   },
   {
    "duration": 5,
    "start_time": "2024-05-24T11:48:09.141Z"
   },
   {
    "duration": 73,
    "start_time": "2024-05-24T11:48:11.872Z"
   },
   {
    "duration": 80,
    "start_time": "2024-05-24T11:54:01.041Z"
   },
   {
    "duration": 80,
    "start_time": "2024-05-24T11:54:21.860Z"
   },
   {
    "duration": 86,
    "start_time": "2024-05-24T12:17:45.543Z"
   },
   {
    "duration": 76,
    "start_time": "2024-05-24T12:18:11.515Z"
   },
   {
    "duration": 88,
    "start_time": "2024-05-24T12:18:18.882Z"
   },
   {
    "duration": 74,
    "start_time": "2024-05-24T12:18:37.400Z"
   },
   {
    "duration": 91,
    "start_time": "2024-05-24T12:19:00.340Z"
   },
   {
    "duration": 15,
    "start_time": "2024-05-24T12:24:58.220Z"
   },
   {
    "duration": 15,
    "start_time": "2024-05-24T12:25:16.526Z"
   },
   {
    "duration": 19,
    "start_time": "2024-05-24T12:25:36.871Z"
   },
   {
    "duration": 20,
    "start_time": "2024-05-24T12:30:48.105Z"
   },
   {
    "duration": 17,
    "start_time": "2024-05-24T12:49:45.859Z"
   },
   {
    "duration": 19,
    "start_time": "2024-05-24T13:10:37.661Z"
   },
   {
    "duration": 57,
    "start_time": "2024-05-24T13:11:53.017Z"
   },
   {
    "duration": 4,
    "start_time": "2024-05-24T13:12:22.151Z"
   },
   {
    "duration": 39,
    "start_time": "2024-05-24T13:12:50.506Z"
   },
   {
    "duration": 109,
    "start_time": "2024-05-24T13:21:46.656Z"
   },
   {
    "duration": 120,
    "start_time": "2024-05-24T13:21:55.637Z"
   },
   {
    "duration": 110,
    "start_time": "2024-05-24T13:25:05.493Z"
   },
   {
    "duration": 114,
    "start_time": "2024-05-24T13:25:36.814Z"
   },
   {
    "duration": 131,
    "start_time": "2024-05-24T13:26:22.075Z"
   },
   {
    "duration": 8,
    "start_time": "2024-05-24T13:26:49.741Z"
   },
   {
    "duration": 118,
    "start_time": "2024-05-24T13:27:10.911Z"
   },
   {
    "duration": 119,
    "start_time": "2024-05-24T13:28:04.218Z"
   },
   {
    "duration": 116,
    "start_time": "2024-05-24T13:28:40.162Z"
   },
   {
    "duration": 115,
    "start_time": "2024-05-24T13:28:51.127Z"
   },
   {
    "duration": 111,
    "start_time": "2024-05-24T13:29:28.183Z"
   },
   {
    "duration": 151,
    "start_time": "2024-05-24T13:29:36.414Z"
   },
   {
    "duration": 148,
    "start_time": "2024-05-24T13:29:42.566Z"
   },
   {
    "duration": 129,
    "start_time": "2024-05-24T13:30:29.867Z"
   },
   {
    "duration": 130,
    "start_time": "2024-05-24T13:31:24.478Z"
   },
   {
    "duration": 129,
    "start_time": "2024-05-24T13:31:49.721Z"
   },
   {
    "duration": 128,
    "start_time": "2024-05-24T13:32:37.628Z"
   },
   {
    "duration": 111,
    "start_time": "2024-05-24T13:32:55.876Z"
   },
   {
    "duration": 122,
    "start_time": "2024-05-24T13:33:13.385Z"
   },
   {
    "duration": 80,
    "start_time": "2024-05-24T13:35:12.042Z"
   },
   {
    "duration": 69,
    "start_time": "2024-05-24T13:35:28.613Z"
   },
   {
    "duration": 127,
    "start_time": "2024-05-24T13:35:32.422Z"
   },
   {
    "duration": 751,
    "start_time": "2024-05-24T13:38:50.540Z"
   },
   {
    "duration": 838,
    "start_time": "2024-05-24T13:41:22.356Z"
   },
   {
    "duration": 148,
    "start_time": "2024-05-24T13:42:01.104Z"
   },
   {
    "duration": 225,
    "start_time": "2024-05-24T13:42:21.941Z"
   },
   {
    "duration": 141,
    "start_time": "2024-05-24T13:45:41.385Z"
   },
   {
    "duration": 119,
    "start_time": "2024-05-24T13:47:01.804Z"
   },
   {
    "duration": 148,
    "start_time": "2024-05-24T13:47:23.680Z"
   },
   {
    "duration": 9,
    "start_time": "2024-05-24T20:03:36.736Z"
   },
   {
    "duration": 47,
    "start_time": "2024-05-24T20:04:54.063Z"
   },
   {
    "duration": 36410,
    "start_time": "2024-05-24T20:05:05.291Z"
   },
   {
    "duration": 2583,
    "start_time": "2024-05-24T20:05:41.704Z"
   },
   {
    "duration": 674,
    "start_time": "2024-05-24T20:05:44.289Z"
   },
   {
    "duration": 4,
    "start_time": "2024-05-24T20:05:44.965Z"
   },
   {
    "duration": 103,
    "start_time": "2024-05-24T20:05:44.971Z"
   },
   {
    "duration": 74,
    "start_time": "2024-05-24T20:05:45.075Z"
   },
   {
    "duration": 98,
    "start_time": "2024-05-24T20:05:45.150Z"
   },
   {
    "duration": 35,
    "start_time": "2024-05-24T20:05:45.249Z"
   },
   {
    "duration": 38,
    "start_time": "2024-05-24T20:05:45.286Z"
   },
   {
    "duration": 30,
    "start_time": "2024-05-24T20:05:45.326Z"
   },
   {
    "duration": 9,
    "start_time": "2024-05-24T20:05:45.358Z"
   },
   {
    "duration": 149,
    "start_time": "2024-05-24T20:05:45.369Z"
   },
   {
    "duration": 151,
    "start_time": "2024-05-24T20:05:45.520Z"
   },
   {
    "duration": 22,
    "start_time": "2024-05-24T20:05:45.673Z"
   },
   {
    "duration": 3,
    "start_time": "2024-05-24T20:06:30.646Z"
   },
   {
    "duration": 153,
    "start_time": "2024-05-24T20:06:32.994Z"
   },
   {
    "duration": 4,
    "start_time": "2024-05-24T20:10:20.597Z"
   },
   {
    "duration": 147,
    "start_time": "2024-05-24T20:10:23.272Z"
   },
   {
    "duration": 4,
    "start_time": "2024-05-24T20:10:36.785Z"
   },
   {
    "duration": 4,
    "start_time": "2024-05-24T20:10:39.190Z"
   },
   {
    "duration": 179,
    "start_time": "2024-05-24T20:10:41.521Z"
   },
   {
    "duration": 4,
    "start_time": "2024-05-24T20:11:00.690Z"
   },
   {
    "duration": 4,
    "start_time": "2024-05-24T20:11:03.838Z"
   },
   {
    "duration": 177,
    "start_time": "2024-05-24T20:11:06.299Z"
   },
   {
    "duration": 4,
    "start_time": "2024-05-24T20:12:48.606Z"
   },
   {
    "duration": 161,
    "start_time": "2024-05-24T20:12:50.985Z"
   },
   {
    "duration": 5,
    "start_time": "2024-05-24T20:13:46.570Z"
   },
   {
    "duration": 31,
    "start_time": "2024-05-24T20:13:48.570Z"
   },
   {
    "duration": 3,
    "start_time": "2024-05-24T20:14:11.134Z"
   },
   {
    "duration": 157,
    "start_time": "2024-05-24T20:14:13.841Z"
   },
   {
    "duration": 5,
    "start_time": "2024-05-24T20:16:35.523Z"
   },
   {
    "duration": 189,
    "start_time": "2024-05-24T20:16:37.646Z"
   },
   {
    "duration": 4,
    "start_time": "2024-05-24T20:18:00.594Z"
   },
   {
    "duration": 183,
    "start_time": "2024-05-24T20:18:04.616Z"
   },
   {
    "duration": 4,
    "start_time": "2024-05-24T20:18:47.105Z"
   },
   {
    "duration": 176,
    "start_time": "2024-05-24T20:18:52.699Z"
   },
   {
    "duration": 5,
    "start_time": "2024-05-24T20:19:15.486Z"
   },
   {
    "duration": 171,
    "start_time": "2024-05-24T20:19:18.319Z"
   },
   {
    "duration": 5,
    "start_time": "2024-05-24T20:21:06.068Z"
   },
   {
    "duration": 188,
    "start_time": "2024-05-24T20:21:08.330Z"
   },
   {
    "duration": 5,
    "start_time": "2024-05-24T20:21:22.855Z"
   },
   {
    "duration": 164,
    "start_time": "2024-05-24T20:21:25.481Z"
   },
   {
    "duration": 177,
    "start_time": "2024-05-24T20:22:52.314Z"
   },
   {
    "duration": 193,
    "start_time": "2024-05-24T20:32:52.597Z"
   },
   {
    "duration": 162,
    "start_time": "2024-05-24T20:33:21.556Z"
   },
   {
    "duration": 356,
    "start_time": "2024-05-24T20:34:35.461Z"
   },
   {
    "duration": 142,
    "start_time": "2024-05-24T20:35:13.831Z"
   },
   {
    "duration": 141,
    "start_time": "2024-05-24T20:35:25.800Z"
   },
   {
    "duration": 137,
    "start_time": "2024-05-24T20:35:41.471Z"
   },
   {
    "duration": 154,
    "start_time": "2024-05-24T20:35:47.063Z"
   },
   {
    "duration": 13,
    "start_time": "2024-05-24T20:37:02.458Z"
   },
   {
    "duration": 10,
    "start_time": "2024-05-24T20:37:13.043Z"
   },
   {
    "duration": 12,
    "start_time": "2024-05-24T20:37:31.417Z"
   },
   {
    "duration": 11,
    "start_time": "2024-05-24T20:38:18.951Z"
   },
   {
    "duration": 2790,
    "start_time": "2024-05-24T20:44:20.170Z"
   },
   {
    "duration": 2215,
    "start_time": "2024-05-24T20:44:22.964Z"
   },
   {
    "duration": 420,
    "start_time": "2024-05-24T20:44:25.182Z"
   },
   {
    "duration": 5,
    "start_time": "2024-05-24T20:44:25.604Z"
   },
   {
    "duration": 102,
    "start_time": "2024-05-24T20:44:25.612Z"
   },
   {
    "duration": 93,
    "start_time": "2024-05-24T20:44:25.717Z"
   },
   {
    "duration": 103,
    "start_time": "2024-05-24T20:44:25.812Z"
   },
   {
    "duration": 21,
    "start_time": "2024-05-24T20:44:25.918Z"
   },
   {
    "duration": 62,
    "start_time": "2024-05-24T20:44:25.941Z"
   },
   {
    "duration": 35,
    "start_time": "2024-05-24T20:44:26.005Z"
   },
   {
    "duration": 6,
    "start_time": "2024-05-24T20:44:26.042Z"
   },
   {
    "duration": 178,
    "start_time": "2024-05-24T20:44:26.050Z"
   },
   {
    "duration": 213,
    "start_time": "2024-05-24T20:44:26.231Z"
   },
   {
    "duration": 159,
    "start_time": "2024-05-24T20:44:26.447Z"
   },
   {
    "duration": 161,
    "start_time": "2024-05-24T20:44:26.608Z"
   },
   {
    "duration": 17,
    "start_time": "2024-05-24T20:44:26.771Z"
   },
   {
    "duration": 168,
    "start_time": "2024-05-24T20:45:29.144Z"
   },
   {
    "duration": 178,
    "start_time": "2024-05-24T20:45:41.978Z"
   },
   {
    "duration": 183,
    "start_time": "2024-05-24T20:45:54.049Z"
   },
   {
    "duration": 195,
    "start_time": "2024-05-24T20:45:58.776Z"
   },
   {
    "duration": 11,
    "start_time": "2024-05-24T20:46:17.183Z"
   },
   {
    "duration": 3,
    "start_time": "2024-05-24T20:47:10.496Z"
   },
   {
    "duration": 15,
    "start_time": "2024-05-24T20:47:18.336Z"
   },
   {
    "duration": 4,
    "start_time": "2024-05-24T20:47:31.779Z"
   },
   {
    "duration": 10,
    "start_time": "2024-05-24T20:47:51.374Z"
   },
   {
    "duration": 5,
    "start_time": "2024-05-24T20:48:27.413Z"
   },
   {
    "duration": 23,
    "start_time": "2024-05-24T20:48:31.522Z"
   },
   {
    "duration": 2838,
    "start_time": "2024-05-24T20:48:46.444Z"
   },
   {
    "duration": 2200,
    "start_time": "2024-05-24T20:48:49.286Z"
   },
   {
    "duration": 429,
    "start_time": "2024-05-24T20:48:51.489Z"
   },
   {
    "duration": 6,
    "start_time": "2024-05-24T20:48:51.922Z"
   },
   {
    "duration": 91,
    "start_time": "2024-05-24T20:48:51.930Z"
   },
   {
    "duration": 88,
    "start_time": "2024-05-24T20:48:52.023Z"
   },
   {
    "duration": 96,
    "start_time": "2024-05-24T20:48:52.114Z"
   },
   {
    "duration": 20,
    "start_time": "2024-05-24T20:48:52.213Z"
   },
   {
    "duration": 19,
    "start_time": "2024-05-24T20:48:52.236Z"
   },
   {
    "duration": 34,
    "start_time": "2024-05-24T20:48:52.258Z"
   },
   {
    "duration": 5,
    "start_time": "2024-05-24T20:48:52.294Z"
   },
   {
    "duration": 238,
    "start_time": "2024-05-24T20:48:52.301Z"
   },
   {
    "duration": 184,
    "start_time": "2024-05-24T20:48:52.541Z"
   },
   {
    "duration": 197,
    "start_time": "2024-05-24T20:48:52.728Z"
   },
   {
    "duration": 137,
    "start_time": "2024-05-24T20:48:52.928Z"
   },
   {
    "duration": 0,
    "start_time": "2024-05-24T20:48:53.067Z"
   },
   {
    "duration": 5,
    "start_time": "2024-05-24T20:49:19.679Z"
   },
   {
    "duration": 15,
    "start_time": "2024-05-24T20:49:22.372Z"
   },
   {
    "duration": 3027,
    "start_time": "2024-05-24T20:49:43.226Z"
   },
   {
    "duration": 2382,
    "start_time": "2024-05-24T20:49:46.257Z"
   },
   {
    "duration": 482,
    "start_time": "2024-05-24T20:49:48.642Z"
   },
   {
    "duration": 5,
    "start_time": "2024-05-24T20:49:49.126Z"
   },
   {
    "duration": 104,
    "start_time": "2024-05-24T20:49:49.134Z"
   },
   {
    "duration": 88,
    "start_time": "2024-05-24T20:49:49.240Z"
   },
   {
    "duration": 99,
    "start_time": "2024-05-24T20:49:49.330Z"
   },
   {
    "duration": 21,
    "start_time": "2024-05-24T20:49:49.432Z"
   },
   {
    "duration": 43,
    "start_time": "2024-05-24T20:49:49.455Z"
   },
   {
    "duration": 42,
    "start_time": "2024-05-24T20:49:49.501Z"
   },
   {
    "duration": 6,
    "start_time": "2024-05-24T20:49:49.545Z"
   },
   {
    "duration": 202,
    "start_time": "2024-05-24T20:49:49.552Z"
   },
   {
    "duration": 257,
    "start_time": "2024-05-24T20:49:49.756Z"
   },
   {
    "duration": 198,
    "start_time": "2024-05-24T20:49:50.019Z"
   },
   {
    "duration": 161,
    "start_time": "2024-05-24T20:49:50.220Z"
   },
   {
    "duration": 0,
    "start_time": "2024-05-24T20:49:50.384Z"
   },
   {
    "duration": 16,
    "start_time": "2024-05-24T20:50:39.370Z"
   },
   {
    "duration": 2879,
    "start_time": "2024-05-24T20:51:44.888Z"
   },
   {
    "duration": 2237,
    "start_time": "2024-05-24T20:51:47.771Z"
   },
   {
    "duration": 440,
    "start_time": "2024-05-24T20:51:50.011Z"
   },
   {
    "duration": 5,
    "start_time": "2024-05-24T20:51:50.453Z"
   },
   {
    "duration": 95,
    "start_time": "2024-05-24T20:51:50.461Z"
   },
   {
    "duration": 85,
    "start_time": "2024-05-24T20:51:50.558Z"
   },
   {
    "duration": 90,
    "start_time": "2024-05-24T20:51:50.645Z"
   },
   {
    "duration": 21,
    "start_time": "2024-05-24T20:51:50.737Z"
   },
   {
    "duration": 37,
    "start_time": "2024-05-24T20:51:50.760Z"
   },
   {
    "duration": 13,
    "start_time": "2024-05-24T20:51:50.799Z"
   },
   {
    "duration": 5,
    "start_time": "2024-05-24T20:51:50.814Z"
   },
   {
    "duration": 202,
    "start_time": "2024-05-24T20:51:50.820Z"
   },
   {
    "duration": 178,
    "start_time": "2024-05-24T20:51:51.024Z"
   },
   {
    "duration": 171,
    "start_time": "2024-05-24T20:51:51.206Z"
   },
   {
    "duration": 139,
    "start_time": "2024-05-24T20:51:51.381Z"
   },
   {
    "duration": 0,
    "start_time": "2024-05-24T20:51:51.522Z"
   },
   {
    "duration": 11,
    "start_time": "2024-05-24T20:52:23.644Z"
   },
   {
    "duration": 6,
    "start_time": "2024-05-24T20:53:16.631Z"
   },
   {
    "duration": 16,
    "start_time": "2024-05-24T20:53:19.025Z"
   },
   {
    "duration": 2789,
    "start_time": "2024-05-24T20:53:43.993Z"
   },
   {
    "duration": 2222,
    "start_time": "2024-05-24T20:53:46.786Z"
   },
   {
    "duration": 440,
    "start_time": "2024-05-24T20:53:49.010Z"
   },
   {
    "duration": 6,
    "start_time": "2024-05-24T20:53:49.452Z"
   },
   {
    "duration": 89,
    "start_time": "2024-05-24T20:53:49.461Z"
   },
   {
    "duration": 91,
    "start_time": "2024-05-24T20:53:49.552Z"
   },
   {
    "duration": 107,
    "start_time": "2024-05-24T20:53:49.646Z"
   },
   {
    "duration": 44,
    "start_time": "2024-05-24T20:53:49.756Z"
   },
   {
    "duration": 32,
    "start_time": "2024-05-24T20:53:49.802Z"
   },
   {
    "duration": 16,
    "start_time": "2024-05-24T20:53:49.836Z"
   },
   {
    "duration": 29,
    "start_time": "2024-05-24T20:53:49.855Z"
   },
   {
    "duration": 255,
    "start_time": "2024-05-24T20:53:49.887Z"
   },
   {
    "duration": 184,
    "start_time": "2024-05-24T20:53:50.145Z"
   },
   {
    "duration": 187,
    "start_time": "2024-05-24T20:53:50.333Z"
   },
   {
    "duration": 167,
    "start_time": "2024-05-24T20:53:50.522Z"
   },
   {
    "duration": 0,
    "start_time": "2024-05-24T20:53:50.692Z"
   },
   {
    "duration": 16,
    "start_time": "2024-05-24T20:55:11.903Z"
   },
   {
    "duration": 4,
    "start_time": "2024-05-24T20:56:37.622Z"
   },
   {
    "duration": 1645,
    "start_time": "2024-05-24T20:56:43.516Z"
   },
   {
    "duration": 422,
    "start_time": "2024-05-24T20:56:45.166Z"
   },
   {
    "duration": 6,
    "start_time": "2024-05-24T20:56:45.590Z"
   },
   {
    "duration": 99,
    "start_time": "2024-05-24T20:56:45.598Z"
   },
   {
    "duration": 86,
    "start_time": "2024-05-24T20:56:45.700Z"
   },
   {
    "duration": 98,
    "start_time": "2024-05-24T20:56:45.788Z"
   },
   {
    "duration": 21,
    "start_time": "2024-05-24T20:56:45.888Z"
   },
   {
    "duration": 23,
    "start_time": "2024-05-24T20:56:45.910Z"
   },
   {
    "duration": 18,
    "start_time": "2024-05-24T20:56:45.935Z"
   },
   {
    "duration": 4,
    "start_time": "2024-05-24T20:56:45.955Z"
   },
   {
    "duration": 205,
    "start_time": "2024-05-24T20:56:45.961Z"
   },
   {
    "duration": 169,
    "start_time": "2024-05-24T20:56:46.168Z"
   },
   {
    "duration": 171,
    "start_time": "2024-05-24T20:56:46.340Z"
   },
   {
    "duration": 128,
    "start_time": "2024-05-24T20:56:46.516Z"
   },
   {
    "duration": 0,
    "start_time": "2024-05-24T20:56:46.646Z"
   },
   {
    "duration": 15,
    "start_time": "2024-05-24T20:57:48.340Z"
   },
   {
    "duration": 5,
    "start_time": "2024-05-24T20:58:58.242Z"
   },
   {
    "duration": 16,
    "start_time": "2024-05-24T20:59:01.923Z"
   },
   {
    "duration": 1618,
    "start_time": "2024-05-24T20:59:09.203Z"
   },
   {
    "duration": 429,
    "start_time": "2024-05-24T20:59:10.825Z"
   },
   {
    "duration": 6,
    "start_time": "2024-05-24T20:59:11.257Z"
   },
   {
    "duration": 96,
    "start_time": "2024-05-24T20:59:11.265Z"
   },
   {
    "duration": 82,
    "start_time": "2024-05-24T20:59:11.364Z"
   },
   {
    "duration": 91,
    "start_time": "2024-05-24T20:59:11.448Z"
   },
   {
    "duration": 21,
    "start_time": "2024-05-24T20:59:11.541Z"
   },
   {
    "duration": 19,
    "start_time": "2024-05-24T20:59:11.582Z"
   },
   {
    "duration": 13,
    "start_time": "2024-05-24T20:59:11.603Z"
   },
   {
    "duration": 5,
    "start_time": "2024-05-24T20:59:11.618Z"
   },
   {
    "duration": 201,
    "start_time": "2024-05-24T20:59:11.625Z"
   },
   {
    "duration": 186,
    "start_time": "2024-05-24T20:59:11.828Z"
   },
   {
    "duration": 167,
    "start_time": "2024-05-24T20:59:12.016Z"
   },
   {
    "duration": 7,
    "start_time": "2024-05-24T20:59:12.191Z"
   },
   {
    "duration": 26,
    "start_time": "2024-05-24T20:59:12.201Z"
   },
   {
    "duration": 5,
    "start_time": "2024-05-24T21:00:12.361Z"
   },
   {
    "duration": 129,
    "start_time": "2024-05-24T21:00:21.636Z"
   },
   {
    "duration": 10,
    "start_time": "2024-05-24T21:00:41.698Z"
   },
   {
    "duration": 56,
    "start_time": "2024-05-24T21:01:39.233Z"
   },
   {
    "duration": 5,
    "start_time": "2024-05-24T21:01:48.374Z"
   },
   {
    "duration": 61,
    "start_time": "2024-05-24T21:02:07.190Z"
   },
   {
    "duration": 13,
    "start_time": "2024-05-24T21:04:42.005Z"
   },
   {
    "duration": 9,
    "start_time": "2024-05-24T21:05:18.113Z"
   },
   {
    "duration": 71,
    "start_time": "2024-05-24T21:05:49.875Z"
   },
   {
    "duration": 43,
    "start_time": "2024-05-24T21:06:43.129Z"
   },
   {
    "duration": 24,
    "start_time": "2024-05-24T21:06:54.057Z"
   },
   {
    "duration": 45,
    "start_time": "2024-05-24T21:07:12.056Z"
   },
   {
    "duration": 126,
    "start_time": "2024-05-24T21:07:30.204Z"
   },
   {
    "duration": 23,
    "start_time": "2024-05-24T21:07:51.138Z"
   },
   {
    "duration": 352,
    "start_time": "2024-05-24T21:08:17.673Z"
   },
   {
    "duration": 149,
    "start_time": "2024-05-24T21:08:36.860Z"
   },
   {
    "duration": 167,
    "start_time": "2024-05-24T21:08:49.249Z"
   },
   {
    "duration": 159,
    "start_time": "2024-05-24T21:09:05.305Z"
   },
   {
    "duration": 175,
    "start_time": "2024-05-24T21:09:30.121Z"
   },
   {
    "duration": 13,
    "start_time": "2024-05-25T03:20:27.253Z"
   },
   {
    "duration": 40,
    "start_time": "2024-05-25T03:20:30.482Z"
   },
   {
    "duration": 1534,
    "start_time": "2024-05-25T03:20:40.126Z"
   },
   {
    "duration": 614,
    "start_time": "2024-05-25T03:20:41.662Z"
   },
   {
    "duration": 4,
    "start_time": "2024-05-25T03:20:42.277Z"
   },
   {
    "duration": 90,
    "start_time": "2024-05-25T03:20:42.284Z"
   },
   {
    "duration": 93,
    "start_time": "2024-05-25T03:20:42.376Z"
   },
   {
    "duration": 96,
    "start_time": "2024-05-25T03:20:42.471Z"
   },
   {
    "duration": 25,
    "start_time": "2024-05-25T03:20:42.569Z"
   },
   {
    "duration": 34,
    "start_time": "2024-05-25T03:20:42.595Z"
   },
   {
    "duration": 23,
    "start_time": "2024-05-25T03:20:42.634Z"
   },
   {
    "duration": 4,
    "start_time": "2024-05-25T03:20:42.659Z"
   },
   {
    "duration": 7024,
    "start_time": "2024-05-25T03:20:42.665Z"
   },
   {
    "duration": 7017,
    "start_time": "2024-05-25T03:20:49.691Z"
   },
   {
    "duration": 7049,
    "start_time": "2024-05-25T03:20:56.710Z"
   },
   {
    "duration": 199,
    "start_time": "2024-05-25T03:21:03.761Z"
   },
   {
    "duration": 18,
    "start_time": "2024-05-25T03:21:03.961Z"
   },
   {
    "duration": 52,
    "start_time": "2024-05-25T03:50:32.216Z"
   },
   {
    "duration": 54,
    "start_time": "2024-05-25T03:50:36.692Z"
   },
   {
    "duration": 59,
    "start_time": "2024-05-25T03:52:03.564Z"
   },
   {
    "duration": 286,
    "start_time": "2024-05-25T03:53:51.490Z"
   },
   {
    "duration": 136,
    "start_time": "2024-05-25T03:54:11.903Z"
   },
   {
    "duration": 110,
    "start_time": "2024-05-25T03:56:00.502Z"
   },
   {
    "duration": 115,
    "start_time": "2024-05-25T03:56:06.706Z"
   },
   {
    "duration": 196,
    "start_time": "2024-05-25T03:59:15.430Z"
   },
   {
    "duration": 150,
    "start_time": "2024-05-25T03:59:47.921Z"
   },
   {
    "duration": 157,
    "start_time": "2024-05-25T04:10:24.778Z"
   },
   {
    "duration": 162,
    "start_time": "2024-05-25T04:10:46.144Z"
   },
   {
    "duration": 187,
    "start_time": "2024-05-25T04:11:30.988Z"
   },
   {
    "duration": 277,
    "start_time": "2024-05-25T04:12:04.626Z"
   },
   {
    "duration": 61,
    "start_time": "2024-05-25T04:13:23.281Z"
   },
   {
    "duration": 8226,
    "start_time": "2024-05-25T04:13:28.154Z"
   },
   {
    "duration": 24438,
    "start_time": "2024-05-25T04:14:18.845Z"
   },
   {
    "duration": 147,
    "start_time": "2024-05-25T04:14:48.549Z"
   },
   {
    "duration": 279,
    "start_time": "2024-05-25T04:19:43.922Z"
   },
   {
    "duration": 247,
    "start_time": "2024-05-25T04:19:55.745Z"
   },
   {
    "duration": 214,
    "start_time": "2024-05-25T04:20:06.586Z"
   },
   {
    "duration": 1961,
    "start_time": "2024-05-25T04:20:16.679Z"
   },
   {
    "duration": 224,
    "start_time": "2024-05-25T04:20:33.335Z"
   },
   {
    "duration": 245,
    "start_time": "2024-05-25T04:20:42.774Z"
   },
   {
    "duration": 0,
    "start_time": "2024-05-25T04:22:28.432Z"
   },
   {
    "duration": 3430,
    "start_time": "2024-05-25T04:22:28.997Z"
   },
   {
    "duration": 276,
    "start_time": "2024-05-25T04:22:59.754Z"
   },
   {
    "duration": 301,
    "start_time": "2024-05-25T04:23:08.715Z"
   },
   {
    "duration": 315,
    "start_time": "2024-05-25T04:23:18.511Z"
   },
   {
    "duration": 385,
    "start_time": "2024-05-25T04:23:27.070Z"
   },
   {
    "duration": 512,
    "start_time": "2024-05-25T04:23:38.955Z"
   },
   {
    "duration": 366,
    "start_time": "2024-05-25T04:23:49.921Z"
   },
   {
    "duration": 51,
    "start_time": "2024-05-25T05:23:55.313Z"
   },
   {
    "duration": 26,
    "start_time": "2024-05-25T05:25:09.069Z"
   },
   {
    "duration": 93,
    "start_time": "2024-05-25T06:36:10.604Z"
   },
   {
    "duration": 85,
    "start_time": "2024-05-25T06:38:29.533Z"
   },
   {
    "duration": 80,
    "start_time": "2024-05-25T06:38:38.914Z"
   },
   {
    "duration": 62,
    "start_time": "2024-05-25T06:39:01.122Z"
   },
   {
    "duration": 88,
    "start_time": "2024-05-25T06:39:10.031Z"
   },
   {
    "duration": 192,
    "start_time": "2024-05-25T06:39:22.434Z"
   },
   {
    "duration": 269,
    "start_time": "2024-05-25T06:40:28.388Z"
   },
   {
    "duration": 232,
    "start_time": "2024-05-25T06:40:45.678Z"
   },
   {
    "duration": 269,
    "start_time": "2024-05-25T06:40:52.466Z"
   },
   {
    "duration": 14,
    "start_time": "2024-05-25T06:43:27.730Z"
   },
   {
    "duration": 13,
    "start_time": "2024-05-25T06:43:42.628Z"
   },
   {
    "duration": 10,
    "start_time": "2024-05-25T06:43:55.270Z"
   },
   {
    "duration": 11,
    "start_time": "2024-05-25T06:44:04.000Z"
   },
   {
    "duration": 265,
    "start_time": "2024-05-25T06:46:24.675Z"
   },
   {
    "duration": 285,
    "start_time": "2024-05-25T06:46:32.529Z"
   },
   {
    "duration": 329,
    "start_time": "2024-05-25T06:46:41.316Z"
   },
   {
    "duration": 257,
    "start_time": "2024-05-25T06:49:08.339Z"
   },
   {
    "duration": 3,
    "start_time": "2024-05-25T06:55:27.720Z"
   },
   {
    "duration": 156,
    "start_time": "2024-05-25T06:55:50.786Z"
   },
   {
    "duration": 3,
    "start_time": "2024-05-25T06:56:09.366Z"
   },
   {
    "duration": 160,
    "start_time": "2024-05-25T06:56:12.341Z"
   },
   {
    "duration": 7,
    "start_time": "2024-05-25T06:58:28.092Z"
   },
   {
    "duration": 6,
    "start_time": "2024-05-25T06:58:35.976Z"
   },
   {
    "duration": 6,
    "start_time": "2024-05-25T06:58:44.793Z"
   },
   {
    "duration": 3,
    "start_time": "2024-05-25T06:59:27.027Z"
   },
   {
    "duration": 20,
    "start_time": "2024-05-25T06:59:29.164Z"
   },
   {
    "duration": 3,
    "start_time": "2024-05-25T07:00:26.240Z"
   },
   {
    "duration": 180,
    "start_time": "2024-05-25T07:00:28.750Z"
   },
   {
    "duration": 4,
    "start_time": "2024-05-25T07:01:25.654Z"
   },
   {
    "duration": 181,
    "start_time": "2024-05-25T07:01:28.300Z"
   },
   {
    "duration": 168,
    "start_time": "2024-05-25T07:01:48.850Z"
   },
   {
    "duration": 4,
    "start_time": "2024-05-25T07:02:22.528Z"
   },
   {
    "duration": 1078,
    "start_time": "2024-05-25T07:02:25.306Z"
   },
   {
    "duration": 3,
    "start_time": "2024-05-25T07:02:39.104Z"
   },
   {
    "duration": 183,
    "start_time": "2024-05-25T07:02:41.822Z"
   },
   {
    "duration": 3,
    "start_time": "2024-05-25T07:02:51.107Z"
   },
   {
    "duration": 167,
    "start_time": "2024-05-25T07:02:53.054Z"
   },
   {
    "duration": 186,
    "start_time": "2024-05-25T07:03:48.759Z"
   },
   {
    "duration": 183,
    "start_time": "2024-05-25T07:04:08.526Z"
   },
   {
    "duration": 4,
    "start_time": "2024-05-25T07:05:22.038Z"
   },
   {
    "duration": 197,
    "start_time": "2024-05-25T07:05:24.062Z"
   },
   {
    "duration": 167,
    "start_time": "2024-05-25T07:05:33.483Z"
   },
   {
    "duration": 4,
    "start_time": "2024-05-25T07:05:42.813Z"
   },
   {
    "duration": 183,
    "start_time": "2024-05-25T07:05:45.643Z"
   },
   {
    "duration": 4,
    "start_time": "2024-05-25T07:05:58.325Z"
   },
   {
    "duration": 175,
    "start_time": "2024-05-25T07:06:00.578Z"
   },
   {
    "duration": 199,
    "start_time": "2024-05-25T07:09:15.342Z"
   },
   {
    "duration": 162,
    "start_time": "2024-05-25T07:11:29.189Z"
   },
   {
    "duration": 189,
    "start_time": "2024-05-25T07:11:45.118Z"
   },
   {
    "duration": 22,
    "start_time": "2024-05-25T07:40:13.321Z"
   },
   {
    "duration": 14,
    "start_time": "2024-05-25T07:40:30.608Z"
   },
   {
    "duration": 167,
    "start_time": "2024-05-25T07:40:54.629Z"
   },
   {
    "duration": 364,
    "start_time": "2024-05-25T07:42:58.970Z"
   },
   {
    "duration": 359,
    "start_time": "2024-05-25T07:43:09.899Z"
   },
   {
    "duration": 14,
    "start_time": "2024-05-25T07:44:17.160Z"
   },
   {
    "duration": 382,
    "start_time": "2024-05-25T07:44:35.999Z"
   },
   {
    "duration": 295,
    "start_time": "2024-05-25T07:44:47.840Z"
   },
   {
    "duration": 273,
    "start_time": "2024-05-25T07:45:15.885Z"
   },
   {
    "duration": 5,
    "start_time": "2024-05-25T09:13:17.974Z"
   },
   {
    "duration": 180,
    "start_time": "2024-05-25T09:13:21.116Z"
   },
   {
    "duration": 4,
    "start_time": "2024-05-25T09:14:22.322Z"
   },
   {
    "duration": 166,
    "start_time": "2024-05-25T09:14:24.345Z"
   },
   {
    "duration": 3,
    "start_time": "2024-05-25T09:15:53.763Z"
   },
   {
    "duration": 61,
    "start_time": "2024-05-25T09:16:15.073Z"
   },
   {
    "duration": 3,
    "start_time": "2024-05-25T09:16:21.447Z"
   },
   {
    "duration": 185,
    "start_time": "2024-05-25T09:16:23.494Z"
   },
   {
    "duration": 3,
    "start_time": "2024-05-25T09:16:57.106Z"
   },
   {
    "duration": 167,
    "start_time": "2024-05-25T09:16:59.179Z"
   },
   {
    "duration": 3,
    "start_time": "2024-05-25T09:17:14.005Z"
   },
   {
    "duration": 169,
    "start_time": "2024-05-25T09:17:16.786Z"
   },
   {
    "duration": 1403,
    "start_time": "2024-05-25T09:17:53.969Z"
   },
   {
    "duration": 405,
    "start_time": "2024-05-25T09:17:55.374Z"
   },
   {
    "duration": 4,
    "start_time": "2024-05-25T09:17:55.781Z"
   },
   {
    "duration": 106,
    "start_time": "2024-05-25T09:17:55.786Z"
   },
   {
    "duration": 92,
    "start_time": "2024-05-25T09:17:55.894Z"
   },
   {
    "duration": 117,
    "start_time": "2024-05-25T09:17:55.987Z"
   },
   {
    "duration": 25,
    "start_time": "2024-05-25T09:17:56.106Z"
   },
   {
    "duration": 36,
    "start_time": "2024-05-25T09:17:56.132Z"
   },
   {
    "duration": 12,
    "start_time": "2024-05-25T09:17:56.169Z"
   },
   {
    "duration": 4,
    "start_time": "2024-05-25T09:17:56.183Z"
   },
   {
    "duration": 6888,
    "start_time": "2024-05-25T09:17:56.188Z"
   },
   {
    "duration": 7003,
    "start_time": "2024-05-25T09:18:03.078Z"
   },
   {
    "duration": 6922,
    "start_time": "2024-05-25T09:18:10.083Z"
   },
   {
    "duration": 445,
    "start_time": "2024-05-25T09:18:17.007Z"
   },
   {
    "duration": 4,
    "start_time": "2024-05-25T09:18:17.454Z"
   },
   {
    "duration": 193,
    "start_time": "2024-05-25T09:18:17.459Z"
   },
   {
    "duration": 257,
    "start_time": "2024-05-25T09:18:17.654Z"
   },
   {
    "duration": 196,
    "start_time": "2024-05-25T09:18:17.913Z"
   },
   {
    "duration": 186,
    "start_time": "2024-05-25T09:18:18.110Z"
   },
   {
    "duration": 350,
    "start_time": "2024-05-25T09:18:18.297Z"
   },
   {
    "duration": 4,
    "start_time": "2024-05-25T09:19:02.778Z"
   },
   {
    "duration": 165,
    "start_time": "2024-05-25T09:19:04.913Z"
   },
   {
    "duration": 175,
    "start_time": "2024-05-25T09:19:08.487Z"
   },
   {
    "duration": 179,
    "start_time": "2024-05-25T09:19:11.472Z"
   },
   {
    "duration": 168,
    "start_time": "2024-05-25T09:19:16.431Z"
   },
   {
    "duration": 3,
    "start_time": "2024-05-25T09:34:57.521Z"
   },
   {
    "duration": 15,
    "start_time": "2024-05-25T09:35:30.115Z"
   },
   {
    "duration": 178,
    "start_time": "2024-05-25T09:35:58.410Z"
   },
   {
    "duration": 115,
    "start_time": "2024-05-25T09:36:34.682Z"
   },
   {
    "duration": 4,
    "start_time": "2024-05-25T09:36:57.201Z"
   },
   {
    "duration": 11,
    "start_time": "2024-05-25T09:36:59.598Z"
   },
   {
    "duration": 1463,
    "start_time": "2024-05-25T09:37:36.849Z"
   },
   {
    "duration": 396,
    "start_time": "2024-05-25T09:37:38.313Z"
   },
   {
    "duration": 5,
    "start_time": "2024-05-25T09:37:38.710Z"
   },
   {
    "duration": 98,
    "start_time": "2024-05-25T09:37:38.718Z"
   },
   {
    "duration": 92,
    "start_time": "2024-05-25T09:37:38.817Z"
   },
   {
    "duration": 93,
    "start_time": "2024-05-25T09:37:38.911Z"
   },
   {
    "duration": 40,
    "start_time": "2024-05-25T09:37:39.005Z"
   },
   {
    "duration": 27,
    "start_time": "2024-05-25T09:37:39.047Z"
   },
   {
    "duration": 13,
    "start_time": "2024-05-25T09:37:39.075Z"
   },
   {
    "duration": 4,
    "start_time": "2024-05-25T09:37:39.091Z"
   },
   {
    "duration": 6956,
    "start_time": "2024-05-25T09:37:39.097Z"
   },
   {
    "duration": 7096,
    "start_time": "2024-05-25T09:37:46.055Z"
   },
   {
    "duration": 7114,
    "start_time": "2024-05-25T09:37:53.153Z"
   },
   {
    "duration": 419,
    "start_time": "2024-05-25T09:38:00.269Z"
   },
   {
    "duration": 4,
    "start_time": "2024-05-25T09:38:00.689Z"
   },
   {
    "duration": 205,
    "start_time": "2024-05-25T09:38:00.694Z"
   },
   {
    "duration": 259,
    "start_time": "2024-05-25T09:38:00.901Z"
   },
   {
    "duration": 194,
    "start_time": "2024-05-25T09:38:01.162Z"
   },
   {
    "duration": 3,
    "start_time": "2024-05-25T09:38:01.357Z"
   },
   {
    "duration": 248,
    "start_time": "2024-05-25T09:38:01.362Z"
   },
   {
    "duration": 319,
    "start_time": "2024-05-25T09:38:01.611Z"
   },
   {
    "duration": 179,
    "start_time": "2024-05-25T09:38:42.244Z"
   },
   {
    "duration": 3,
    "start_time": "2024-05-25T09:38:51.645Z"
   },
   {
    "duration": 166,
    "start_time": "2024-05-25T09:38:53.735Z"
   },
   {
    "duration": 25,
    "start_time": "2024-05-25T09:58:02.899Z"
   },
   {
    "duration": 172,
    "start_time": "2024-05-25T09:58:15.381Z"
   },
   {
    "duration": 166,
    "start_time": "2024-05-25T09:58:22.148Z"
   },
   {
    "duration": 156,
    "start_time": "2024-05-25T09:59:29.700Z"
   },
   {
    "duration": 147,
    "start_time": "2024-05-25T09:59:43.493Z"
   },
   {
    "duration": 171,
    "start_time": "2024-05-25T10:00:13.926Z"
   },
   {
    "duration": 24,
    "start_time": "2024-05-25T10:00:38.523Z"
   },
   {
    "duration": 161,
    "start_time": "2024-05-25T10:00:42.885Z"
   },
   {
    "duration": 1362,
    "start_time": "2024-05-25T10:05:54.653Z"
   },
   {
    "duration": 382,
    "start_time": "2024-05-25T10:05:56.016Z"
   },
   {
    "duration": 4,
    "start_time": "2024-05-25T10:05:56.399Z"
   },
   {
    "duration": 123,
    "start_time": "2024-05-25T10:05:56.405Z"
   },
   {
    "duration": 78,
    "start_time": "2024-05-25T10:05:56.530Z"
   },
   {
    "duration": 98,
    "start_time": "2024-05-25T10:05:56.609Z"
   },
   {
    "duration": 37,
    "start_time": "2024-05-25T10:05:56.708Z"
   },
   {
    "duration": 26,
    "start_time": "2024-05-25T10:05:56.747Z"
   },
   {
    "duration": 14,
    "start_time": "2024-05-25T10:05:56.775Z"
   },
   {
    "duration": 4,
    "start_time": "2024-05-25T10:05:56.792Z"
   },
   {
    "duration": 6782,
    "start_time": "2024-05-25T10:05:56.798Z"
   },
   {
    "duration": 6955,
    "start_time": "2024-05-25T10:06:03.581Z"
   },
   {
    "duration": 6981,
    "start_time": "2024-05-25T10:06:10.537Z"
   },
   {
    "duration": 441,
    "start_time": "2024-05-25T10:06:17.520Z"
   },
   {
    "duration": 4,
    "start_time": "2024-05-25T10:06:17.962Z"
   },
   {
    "duration": 170,
    "start_time": "2024-05-25T10:06:17.967Z"
   },
   {
    "duration": 235,
    "start_time": "2024-05-25T10:06:18.145Z"
   },
   {
    "duration": 171,
    "start_time": "2024-05-25T10:06:18.381Z"
   },
   {
    "duration": 3,
    "start_time": "2024-05-25T10:06:18.554Z"
   },
   {
    "duration": 25,
    "start_time": "2024-05-25T10:06:18.558Z"
   },
   {
    "duration": 193,
    "start_time": "2024-05-25T10:06:18.584Z"
   },
   {
    "duration": 274,
    "start_time": "2024-05-25T10:06:18.779Z"
   },
   {
    "duration": 14,
    "start_time": "2024-05-25T10:25:15.186Z"
   },
   {
    "duration": 27,
    "start_time": "2024-05-25T10:49:25.644Z"
   },
   {
    "duration": 11,
    "start_time": "2024-05-25T10:49:30.534Z"
   },
   {
    "duration": 1289,
    "start_time": "2024-05-25T10:49:52.690Z"
   },
   {
    "duration": 384,
    "start_time": "2024-05-25T10:49:53.981Z"
   },
   {
    "duration": 5,
    "start_time": "2024-05-25T10:49:54.366Z"
   },
   {
    "duration": 125,
    "start_time": "2024-05-25T10:49:54.372Z"
   },
   {
    "duration": 95,
    "start_time": "2024-05-25T10:49:54.499Z"
   },
   {
    "duration": 93,
    "start_time": "2024-05-25T10:49:54.596Z"
   },
   {
    "duration": 90,
    "start_time": "2024-05-25T10:49:54.690Z"
   },
   {
    "duration": 115,
    "start_time": "2024-05-25T10:49:54.781Z"
   },
   {
    "duration": 24,
    "start_time": "2024-05-25T10:49:54.897Z"
   },
   {
    "duration": 17,
    "start_time": "2024-05-25T10:49:54.922Z"
   },
   {
    "duration": 7252,
    "start_time": "2024-05-25T10:49:54.940Z"
   },
   {
    "duration": 7207,
    "start_time": "2024-05-25T10:50:02.194Z"
   },
   {
    "duration": 7052,
    "start_time": "2024-05-25T10:50:09.403Z"
   },
   {
    "duration": 394,
    "start_time": "2024-05-25T10:50:16.458Z"
   },
   {
    "duration": 3,
    "start_time": "2024-05-25T10:50:16.853Z"
   },
   {
    "duration": 182,
    "start_time": "2024-05-25T10:50:16.858Z"
   },
   {
    "duration": 258,
    "start_time": "2024-05-25T10:50:17.045Z"
   },
   {
    "duration": 167,
    "start_time": "2024-05-25T10:50:17.305Z"
   },
   {
    "duration": 2,
    "start_time": "2024-05-25T10:50:17.474Z"
   },
   {
    "duration": 41,
    "start_time": "2024-05-25T10:50:17.478Z"
   },
   {
    "duration": 17,
    "start_time": "2024-05-25T10:50:17.521Z"
   },
   {
    "duration": 207,
    "start_time": "2024-05-25T10:50:17.540Z"
   },
   {
    "duration": 305,
    "start_time": "2024-05-25T10:50:17.748Z"
   },
   {
    "duration": 11,
    "start_time": "2024-05-25T10:51:26.163Z"
   },
   {
    "duration": 13,
    "start_time": "2024-05-25T10:51:36.879Z"
   },
   {
    "duration": 159,
    "start_time": "2024-05-25T10:51:44.650Z"
   },
   {
    "duration": 24,
    "start_time": "2024-05-25T10:53:13.425Z"
   },
   {
    "duration": 11,
    "start_time": "2024-05-25T10:53:19.319Z"
   },
   {
    "duration": 11,
    "start_time": "2024-05-25T10:53:27.680Z"
   },
   {
    "duration": 11,
    "start_time": "2024-05-25T10:53:48.853Z"
   },
   {
    "duration": 1374,
    "start_time": "2024-05-25T10:54:31.422Z"
   },
   {
    "duration": 379,
    "start_time": "2024-05-25T10:54:32.798Z"
   },
   {
    "duration": 4,
    "start_time": "2024-05-25T10:54:33.178Z"
   },
   {
    "duration": 86,
    "start_time": "2024-05-25T10:54:33.184Z"
   },
   {
    "duration": 92,
    "start_time": "2024-05-25T10:54:33.271Z"
   },
   {
    "duration": 87,
    "start_time": "2024-05-25T10:54:33.364Z"
   },
   {
    "duration": 34,
    "start_time": "2024-05-25T10:54:33.453Z"
   },
   {
    "duration": 31,
    "start_time": "2024-05-25T10:54:33.488Z"
   },
   {
    "duration": 31,
    "start_time": "2024-05-25T10:54:33.521Z"
   },
   {
    "duration": 4,
    "start_time": "2024-05-25T10:54:33.554Z"
   },
   {
    "duration": 6522,
    "start_time": "2024-05-25T10:54:33.560Z"
   },
   {
    "duration": 6518,
    "start_time": "2024-05-25T10:54:40.083Z"
   },
   {
    "duration": 6724,
    "start_time": "2024-05-25T10:54:46.603Z"
   },
   {
    "duration": 383,
    "start_time": "2024-05-25T10:54:53.328Z"
   },
   {
    "duration": 4,
    "start_time": "2024-05-25T10:54:53.712Z"
   },
   {
    "duration": 163,
    "start_time": "2024-05-25T10:54:53.717Z"
   },
   {
    "duration": 251,
    "start_time": "2024-05-25T10:54:53.881Z"
   },
   {
    "duration": 165,
    "start_time": "2024-05-25T10:54:54.133Z"
   },
   {
    "duration": 3,
    "start_time": "2024-05-25T10:54:54.299Z"
   },
   {
    "duration": 29,
    "start_time": "2024-05-25T10:54:54.303Z"
   },
   {
    "duration": 21,
    "start_time": "2024-05-25T10:54:54.333Z"
   },
   {
    "duration": 192,
    "start_time": "2024-05-25T10:54:54.356Z"
   },
   {
    "duration": 299,
    "start_time": "2024-05-25T10:54:54.549Z"
   },
   {
    "duration": 53,
    "start_time": "2024-05-25T10:55:13.273Z"
   },
   {
    "duration": 25,
    "start_time": "2024-05-25T11:15:07.369Z"
   },
   {
    "duration": 11,
    "start_time": "2024-05-25T11:15:21.037Z"
   },
   {
    "duration": 23,
    "start_time": "2024-05-25T11:15:25.177Z"
   },
   {
    "duration": 116,
    "start_time": "2024-05-25T11:15:41.403Z"
   },
   {
    "duration": 21,
    "start_time": "2024-05-25T11:15:50.610Z"
   },
   {
    "duration": 35,
    "start_time": "2024-05-25T11:16:22.913Z"
   },
   {
    "duration": 12,
    "start_time": "2024-05-25T11:17:11.967Z"
   },
   {
    "duration": 11,
    "start_time": "2024-05-25T11:31:56.806Z"
   },
   {
    "duration": 27,
    "start_time": "2024-05-25T11:32:28.118Z"
   },
   {
    "duration": 11,
    "start_time": "2024-05-25T11:32:31.637Z"
   },
   {
    "duration": 4,
    "start_time": "2024-05-25T11:33:16.237Z"
   },
   {
    "duration": 180,
    "start_time": "2024-05-25T11:34:28.855Z"
   },
   {
    "duration": 153,
    "start_time": "2024-05-25T11:35:11.210Z"
   },
   {
    "duration": 368,
    "start_time": "2024-05-25T11:35:32.592Z"
   },
   {
    "duration": 4,
    "start_time": "2024-05-25T11:37:30.587Z"
   },
   {
    "duration": 5,
    "start_time": "2024-05-25T11:38:08.324Z"
   },
   {
    "duration": 4,
    "start_time": "2024-05-25T11:38:21.654Z"
   },
   {
    "duration": 4,
    "start_time": "2024-05-25T11:38:30.416Z"
   },
   {
    "duration": 976,
    "start_time": "2024-05-25T15:18:48.523Z"
   },
   {
    "duration": 844,
    "start_time": "2024-05-25T15:19:23.335Z"
   },
   {
    "duration": 103,
    "start_time": "2024-05-25T15:20:00.657Z"
   },
   {
    "duration": 1019,
    "start_time": "2024-05-25T15:20:46.614Z"
   },
   {
    "duration": 720,
    "start_time": "2024-05-25T15:21:05.083Z"
   },
   {
    "duration": 942,
    "start_time": "2024-05-25T15:24:06.711Z"
   },
   {
    "duration": 707,
    "start_time": "2024-05-25T15:24:13.805Z"
   },
   {
    "duration": 1010,
    "start_time": "2024-05-25T15:29:13.961Z"
   },
   {
    "duration": 752,
    "start_time": "2024-05-25T15:29:27.158Z"
   },
   {
    "duration": 1732,
    "start_time": "2024-05-26T10:42:20.141Z"
   },
   {
    "duration": 691,
    "start_time": "2024-05-26T10:42:21.876Z"
   },
   {
    "duration": 6,
    "start_time": "2024-05-26T10:42:22.573Z"
   },
   {
    "duration": 97,
    "start_time": "2024-05-26T10:42:22.580Z"
   },
   {
    "duration": 99,
    "start_time": "2024-05-26T10:42:22.679Z"
   },
   {
    "duration": 116,
    "start_time": "2024-05-26T10:42:22.780Z"
   },
   {
    "duration": 30,
    "start_time": "2024-05-26T10:42:22.898Z"
   },
   {
    "duration": 56,
    "start_time": "2024-05-26T10:42:22.930Z"
   },
   {
    "duration": 14,
    "start_time": "2024-05-26T10:42:22.988Z"
   },
   {
    "duration": 5,
    "start_time": "2024-05-26T10:42:23.003Z"
   },
   {
    "duration": 7547,
    "start_time": "2024-05-26T10:42:23.009Z"
   },
   {
    "duration": 7572,
    "start_time": "2024-05-26T10:42:30.560Z"
   },
   {
    "duration": 7570,
    "start_time": "2024-05-26T10:42:38.133Z"
   },
   {
    "duration": 500,
    "start_time": "2024-05-26T10:42:45.706Z"
   },
   {
    "duration": 3,
    "start_time": "2024-05-26T10:42:46.208Z"
   },
   {
    "duration": 205,
    "start_time": "2024-05-26T10:42:46.213Z"
   },
   {
    "duration": 270,
    "start_time": "2024-05-26T10:42:46.420Z"
   },
   {
    "duration": 201,
    "start_time": "2024-05-26T10:42:46.692Z"
   },
   {
    "duration": 2,
    "start_time": "2024-05-26T10:42:46.895Z"
   },
   {
    "duration": 30,
    "start_time": "2024-05-26T10:42:46.899Z"
   },
   {
    "duration": 5,
    "start_time": "2024-05-26T10:42:46.931Z"
   },
   {
    "duration": 248,
    "start_time": "2024-05-26T10:42:46.938Z"
   },
   {
    "duration": 6,
    "start_time": "2024-05-26T10:42:47.188Z"
   },
   {
    "duration": 10,
    "start_time": "2024-05-26T17:15:36.571Z"
   },
   {
    "duration": 44,
    "start_time": "2024-05-26T17:15:40.658Z"
   },
   {
    "duration": 1477,
    "start_time": "2024-05-26T17:15:49.249Z"
   },
   {
    "duration": 565,
    "start_time": "2024-05-26T17:15:50.728Z"
   },
   {
    "duration": 4,
    "start_time": "2024-05-26T17:15:51.295Z"
   },
   {
    "duration": 87,
    "start_time": "2024-05-26T17:15:51.301Z"
   },
   {
    "duration": 80,
    "start_time": "2024-05-26T17:15:51.390Z"
   },
   {
    "duration": 93,
    "start_time": "2024-05-26T17:15:51.471Z"
   },
   {
    "duration": 22,
    "start_time": "2024-05-26T17:15:51.565Z"
   },
   {
    "duration": 32,
    "start_time": "2024-05-26T17:15:51.588Z"
   },
   {
    "duration": 12,
    "start_time": "2024-05-26T17:15:51.622Z"
   },
   {
    "duration": 5,
    "start_time": "2024-05-26T17:15:51.636Z"
   },
   {
    "duration": 6893,
    "start_time": "2024-05-26T17:15:51.642Z"
   },
   {
    "duration": 6965,
    "start_time": "2024-05-26T17:15:58.537Z"
   },
   {
    "duration": 6864,
    "start_time": "2024-05-26T17:16:05.504Z"
   },
   {
    "duration": 395,
    "start_time": "2024-05-26T17:16:12.369Z"
   },
   {
    "duration": 3,
    "start_time": "2024-05-26T17:16:12.765Z"
   },
   {
    "duration": 214,
    "start_time": "2024-05-26T17:16:12.770Z"
   },
   {
    "duration": 164,
    "start_time": "2024-05-26T17:16:12.985Z"
   },
   {
    "duration": 166,
    "start_time": "2024-05-26T17:16:13.151Z"
   },
   {
    "duration": 2,
    "start_time": "2024-05-26T17:16:13.319Z"
   },
   {
    "duration": 23,
    "start_time": "2024-05-26T17:16:13.323Z"
   },
   {
    "duration": 4,
    "start_time": "2024-05-26T17:16:13.348Z"
   },
   {
    "duration": 170,
    "start_time": "2024-05-26T17:16:13.353Z"
   },
   {
    "duration": 4,
    "start_time": "2024-05-26T17:16:13.524Z"
   },
   {
    "duration": 4,
    "start_time": "2024-05-26T17:17:06.406Z"
   },
   {
    "duration": 96,
    "start_time": "2024-05-26T17:17:08.607Z"
   },
   {
    "duration": 1288,
    "start_time": "2024-05-26T17:17:17.531Z"
   },
   {
    "duration": 358,
    "start_time": "2024-05-26T17:17:18.821Z"
   },
   {
    "duration": 4,
    "start_time": "2024-05-26T17:17:19.181Z"
   },
   {
    "duration": 85,
    "start_time": "2024-05-26T17:17:19.186Z"
   },
   {
    "duration": 85,
    "start_time": "2024-05-26T17:17:19.274Z"
   },
   {
    "duration": 80,
    "start_time": "2024-05-26T17:17:19.360Z"
   },
   {
    "duration": 21,
    "start_time": "2024-05-26T17:17:19.441Z"
   },
   {
    "duration": 20,
    "start_time": "2024-05-26T17:17:19.464Z"
   },
   {
    "duration": 31,
    "start_time": "2024-05-26T17:17:19.486Z"
   },
   {
    "duration": 4,
    "start_time": "2024-05-26T17:17:19.518Z"
   },
   {
    "duration": 6993,
    "start_time": "2024-05-26T17:17:19.523Z"
   },
   {
    "duration": 6705,
    "start_time": "2024-05-26T17:17:26.517Z"
   },
   {
    "duration": 6763,
    "start_time": "2024-05-26T17:17:33.224Z"
   },
   {
    "duration": 379,
    "start_time": "2024-05-26T17:17:39.990Z"
   },
   {
    "duration": 3,
    "start_time": "2024-05-26T17:17:40.370Z"
   },
   {
    "duration": 176,
    "start_time": "2024-05-26T17:17:40.375Z"
   },
   {
    "duration": 218,
    "start_time": "2024-05-26T17:17:40.552Z"
   },
   {
    "duration": 166,
    "start_time": "2024-05-26T17:17:40.771Z"
   },
   {
    "duration": 3,
    "start_time": "2024-05-26T17:17:40.938Z"
   },
   {
    "duration": 26,
    "start_time": "2024-05-26T17:17:40.942Z"
   },
   {
    "duration": 4,
    "start_time": "2024-05-26T17:17:40.969Z"
   },
   {
    "duration": 164,
    "start_time": "2024-05-26T17:17:40.974Z"
   },
   {
    "duration": 6,
    "start_time": "2024-05-26T17:17:41.139Z"
   },
   {
    "duration": 922,
    "start_time": "2024-05-26T19:47:48.242Z"
   },
   {
    "duration": 107,
    "start_time": "2024-05-26T19:48:05.123Z"
   },
   {
    "duration": 971,
    "start_time": "2024-05-26T19:48:14.018Z"
   },
   {
    "duration": 646,
    "start_time": "2024-05-26T19:48:46.317Z"
   },
   {
    "duration": 539,
    "start_time": "2024-05-26T19:49:09.726Z"
   },
   {
    "duration": 710,
    "start_time": "2024-05-26T19:50:49.123Z"
   },
   {
    "duration": 193,
    "start_time": "2024-05-26T19:51:49.752Z"
   },
   {
    "duration": 1027,
    "start_time": "2024-05-26T19:59:49.701Z"
   },
   {
    "duration": 27,
    "start_time": "2024-05-26T20:00:22.633Z"
   },
   {
    "duration": 26,
    "start_time": "2024-05-26T20:00:47.956Z"
   },
   {
    "duration": 17,
    "start_time": "2024-05-26T20:00:55.565Z"
   },
   {
    "duration": 675,
    "start_time": "2024-05-26T20:01:36.808Z"
   },
   {
    "duration": 673,
    "start_time": "2024-05-26T20:09:07.483Z"
   },
   {
    "duration": 987,
    "start_time": "2024-05-26T20:09:29.195Z"
   },
   {
    "duration": 835,
    "start_time": "2024-05-26T20:09:49.752Z"
   },
   {
    "duration": 736,
    "start_time": "2024-05-26T20:10:01.416Z"
   },
   {
    "duration": 746,
    "start_time": "2024-05-26T20:13:39.207Z"
   },
   {
    "duration": 975,
    "start_time": "2024-05-26T20:13:52.107Z"
   },
   {
    "duration": 917,
    "start_time": "2024-05-26T20:14:07.377Z"
   },
   {
    "duration": 322,
    "start_time": "2024-05-26T20:14:16.376Z"
   },
   {
    "duration": 854,
    "start_time": "2024-05-26T20:14:30.148Z"
   },
   {
    "duration": 854,
    "start_time": "2024-05-26T20:15:34.931Z"
   },
   {
    "duration": 659,
    "start_time": "2024-05-26T20:15:59.772Z"
   },
   {
    "duration": 795,
    "start_time": "2024-05-26T20:16:11.957Z"
   },
   {
    "duration": 799,
    "start_time": "2024-05-26T20:16:20.941Z"
   },
   {
    "duration": 946,
    "start_time": "2024-05-26T20:17:24.974Z"
   },
   {
    "duration": 901,
    "start_time": "2024-05-26T20:17:34.416Z"
   },
   {
    "duration": 860,
    "start_time": "2024-05-26T20:17:44.953Z"
   },
   {
    "duration": 920,
    "start_time": "2024-05-26T20:17:54.056Z"
   },
   {
    "duration": 921,
    "start_time": "2024-05-26T20:17:59.483Z"
   },
   {
    "duration": 946,
    "start_time": "2024-05-26T20:18:05.567Z"
   },
   {
    "duration": 54,
    "start_time": "2024-05-26T20:18:23.604Z"
   },
   {
    "duration": 69,
    "start_time": "2024-05-26T20:18:35.401Z"
   },
   {
    "duration": 892,
    "start_time": "2024-05-26T20:18:41.422Z"
   },
   {
    "duration": 918,
    "start_time": "2024-05-26T20:18:53.386Z"
   },
   {
    "duration": 793,
    "start_time": "2024-05-26T20:19:41.890Z"
   },
   {
    "duration": 792,
    "start_time": "2024-05-26T20:19:59.521Z"
   },
   {
    "duration": 852,
    "start_time": "2024-05-26T20:20:12.241Z"
   },
   {
    "duration": 892,
    "start_time": "2024-05-26T20:20:24.652Z"
   },
   {
    "duration": 794,
    "start_time": "2024-05-26T20:20:37.354Z"
   },
   {
    "duration": 868,
    "start_time": "2024-05-26T20:20:44.745Z"
   },
   {
    "duration": 887,
    "start_time": "2024-05-26T20:32:16.966Z"
   },
   {
    "duration": 373,
    "start_time": "2024-05-26T20:33:35.960Z"
   },
   {
    "duration": 1036,
    "start_time": "2024-05-26T20:34:38.504Z"
   },
   {
    "duration": 10,
    "start_time": "2024-05-26T20:35:04.455Z"
   },
   {
    "duration": 43,
    "start_time": "2024-05-26T20:35:23.099Z"
   },
   {
    "duration": 7,
    "start_time": "2024-05-26T20:40:10.530Z"
   },
   {
    "duration": 7,
    "start_time": "2024-05-26T20:40:22.822Z"
   },
   {
    "duration": 7,
    "start_time": "2024-05-26T20:40:43.435Z"
   },
   {
    "duration": 371,
    "start_time": "2024-05-26T20:40:58.084Z"
   },
   {
    "duration": 7,
    "start_time": "2024-05-26T20:41:33.319Z"
   },
   {
    "duration": 7,
    "start_time": "2024-05-26T20:41:49.160Z"
   },
   {
    "duration": 17,
    "start_time": "2024-05-26T20:43:36.993Z"
   },
   {
    "duration": 299,
    "start_time": "2024-05-26T20:43:58.906Z"
   },
   {
    "duration": 288,
    "start_time": "2024-05-26T20:44:06.482Z"
   },
   {
    "duration": 282,
    "start_time": "2024-05-26T20:45:22.132Z"
   },
   {
    "duration": 321,
    "start_time": "2024-05-26T20:45:36.221Z"
   },
   {
    "duration": 57,
    "start_time": "2024-05-27T07:05:20.726Z"
   },
   {
    "duration": 1662,
    "start_time": "2024-05-27T07:05:25.512Z"
   },
   {
    "duration": 669,
    "start_time": "2024-05-27T07:05:27.176Z"
   },
   {
    "duration": 6,
    "start_time": "2024-05-27T07:05:27.847Z"
   },
   {
    "duration": 119,
    "start_time": "2024-05-27T07:05:27.855Z"
   },
   {
    "duration": 99,
    "start_time": "2024-05-27T07:05:27.975Z"
   },
   {
    "duration": 112,
    "start_time": "2024-05-27T07:05:28.075Z"
   },
   {
    "duration": 29,
    "start_time": "2024-05-27T07:05:28.189Z"
   },
   {
    "duration": 47,
    "start_time": "2024-05-27T07:05:28.220Z"
   },
   {
    "duration": 14,
    "start_time": "2024-05-27T07:05:28.269Z"
   },
   {
    "duration": 4,
    "start_time": "2024-05-27T07:05:28.286Z"
   },
   {
    "duration": 7382,
    "start_time": "2024-05-27T07:05:28.292Z"
   },
   {
    "duration": 7437,
    "start_time": "2024-05-27T07:05:35.676Z"
   },
   {
    "duration": 7492,
    "start_time": "2024-05-27T07:05:43.114Z"
   },
   {
    "duration": 441,
    "start_time": "2024-05-27T07:05:50.607Z"
   },
   {
    "duration": 4,
    "start_time": "2024-05-27T07:05:51.050Z"
   },
   {
    "duration": 220,
    "start_time": "2024-05-27T07:05:51.061Z"
   },
   {
    "duration": 263,
    "start_time": "2024-05-27T07:05:51.283Z"
   },
   {
    "duration": 189,
    "start_time": "2024-05-27T07:05:51.547Z"
   },
   {
    "duration": 2,
    "start_time": "2024-05-27T07:05:51.738Z"
   },
   {
    "duration": 35,
    "start_time": "2024-05-27T07:05:51.742Z"
   },
   {
    "duration": 8,
    "start_time": "2024-05-27T07:05:51.779Z"
   },
   {
    "duration": 202,
    "start_time": "2024-05-27T07:05:51.789Z"
   },
   {
    "duration": 5,
    "start_time": "2024-05-27T07:05:51.993Z"
   },
   {
    "duration": 1043,
    "start_time": "2024-05-27T07:05:51.999Z"
   },
   {
    "duration": 326,
    "start_time": "2024-05-27T07:05:53.044Z"
   },
   {
    "duration": 315,
    "start_time": "2024-05-27T07:06:20.995Z"
   },
   {
    "duration": 1517,
    "start_time": "2024-05-28T06:56:54.878Z"
   },
   {
    "duration": 656,
    "start_time": "2024-05-28T06:56:56.397Z"
   },
   {
    "duration": 5,
    "start_time": "2024-05-28T06:56:57.054Z"
   },
   {
    "duration": 109,
    "start_time": "2024-05-28T06:56:57.061Z"
   },
   {
    "duration": 119,
    "start_time": "2024-05-28T06:56:57.172Z"
   },
   {
    "duration": 101,
    "start_time": "2024-05-28T06:56:57.293Z"
   },
   {
    "duration": 24,
    "start_time": "2024-05-28T06:56:57.396Z"
   },
   {
    "duration": 45,
    "start_time": "2024-05-28T06:56:57.422Z"
   },
   {
    "duration": 12,
    "start_time": "2024-05-28T06:56:57.469Z"
   },
   {
    "duration": 5,
    "start_time": "2024-05-28T06:56:57.483Z"
   },
   {
    "duration": 6943,
    "start_time": "2024-05-28T06:56:57.490Z"
   },
   {
    "duration": 7005,
    "start_time": "2024-05-28T06:57:04.435Z"
   },
   {
    "duration": 7120,
    "start_time": "2024-05-28T06:57:11.447Z"
   },
   {
    "duration": 409,
    "start_time": "2024-05-28T06:57:18.569Z"
   },
   {
    "duration": 4,
    "start_time": "2024-05-28T06:57:18.980Z"
   },
   {
    "duration": 187,
    "start_time": "2024-05-28T06:57:18.985Z"
   },
   {
    "duration": 251,
    "start_time": "2024-05-28T06:57:19.174Z"
   },
   {
    "duration": 198,
    "start_time": "2024-05-28T06:57:19.426Z"
   },
   {
    "duration": 2,
    "start_time": "2024-05-28T06:57:19.626Z"
   },
   {
    "duration": 36,
    "start_time": "2024-05-28T06:57:19.630Z"
   },
   {
    "duration": 4,
    "start_time": "2024-05-28T06:57:19.668Z"
   },
   {
    "duration": 183,
    "start_time": "2024-05-28T06:57:19.674Z"
   },
   {
    "duration": 4,
    "start_time": "2024-05-28T06:57:19.859Z"
   },
   {
    "duration": 1023,
    "start_time": "2024-05-28T06:57:19.865Z"
   },
   {
    "duration": 299,
    "start_time": "2024-05-28T06:57:20.889Z"
   },
   {
    "duration": 103,
    "start_time": "2024-05-28T06:57:44.563Z"
   },
   {
    "duration": 11,
    "start_time": "2024-05-28T06:58:13.000Z"
   },
   {
    "duration": 14,
    "start_time": "2024-05-28T06:58:42.121Z"
   },
   {
    "duration": 266,
    "start_time": "2024-05-28T06:59:14.015Z"
   },
   {
    "duration": 14,
    "start_time": "2024-05-28T07:00:53.861Z"
   },
   {
    "duration": 145,
    "start_time": "2024-05-28T07:01:11.478Z"
   },
   {
    "duration": 298,
    "start_time": "2024-05-28T07:04:37.690Z"
   },
   {
    "duration": 308,
    "start_time": "2024-05-28T07:04:52.448Z"
   },
   {
    "duration": 22188,
    "start_time": "2024-05-28T07:07:09.362Z"
   },
   {
    "duration": 17,
    "start_time": "2024-05-28T08:47:20.978Z"
   },
   {
    "duration": 4,
    "start_time": "2024-05-28T09:00:41.290Z"
   },
   {
    "duration": 1102,
    "start_time": "2024-05-28T09:01:07.039Z"
   },
   {
    "duration": 3,
    "start_time": "2024-05-28T09:01:42.722Z"
   },
   {
    "duration": 1018,
    "start_time": "2024-05-28T09:01:45.189Z"
   },
   {
    "duration": 4,
    "start_time": "2024-05-28T09:02:37.210Z"
   },
   {
    "duration": 367,
    "start_time": "2024-05-28T09:02:40.306Z"
   },
   {
    "duration": 3,
    "start_time": "2024-05-28T09:02:48.029Z"
   },
   {
    "duration": 412,
    "start_time": "2024-05-28T09:02:50.270Z"
   },
   {
    "duration": 5,
    "start_time": "2024-05-28T09:03:04.385Z"
   },
   {
    "duration": 456,
    "start_time": "2024-05-28T09:03:06.713Z"
   },
   {
    "duration": 3,
    "start_time": "2024-05-28T09:04:06.561Z"
   },
   {
    "duration": 407,
    "start_time": "2024-05-28T09:04:08.659Z"
   },
   {
    "duration": 3,
    "start_time": "2024-05-28T09:04:53.266Z"
   },
   {
    "duration": 609,
    "start_time": "2024-05-28T09:04:55.581Z"
   },
   {
    "duration": 4,
    "start_time": "2024-05-28T09:05:05.230Z"
   },
   {
    "duration": 457,
    "start_time": "2024-05-28T09:05:07.739Z"
   },
   {
    "duration": 3,
    "start_time": "2024-05-28T09:05:20.100Z"
   },
   {
    "duration": 4,
    "start_time": "2024-05-28T09:05:25.943Z"
   },
   {
    "duration": 509,
    "start_time": "2024-05-28T09:05:28.266Z"
   },
   {
    "duration": 3,
    "start_time": "2024-05-28T09:05:53.673Z"
   },
   {
    "duration": 424,
    "start_time": "2024-05-28T09:05:55.887Z"
   },
   {
    "duration": 5,
    "start_time": "2024-05-28T09:06:06.454Z"
   },
   {
    "duration": 499,
    "start_time": "2024-05-28T09:06:09.181Z"
   },
   {
    "duration": 4,
    "start_time": "2024-05-28T09:06:31.041Z"
   },
   {
    "duration": 495,
    "start_time": "2024-05-28T09:06:34.082Z"
   },
   {
    "duration": 4,
    "start_time": "2024-05-28T09:10:11.298Z"
   },
   {
    "duration": 124,
    "start_time": "2024-05-28T09:10:13.947Z"
   },
   {
    "duration": 3,
    "start_time": "2024-05-28T09:10:31.139Z"
   },
   {
    "duration": 227,
    "start_time": "2024-05-28T09:10:33.269Z"
   },
   {
    "duration": 4,
    "start_time": "2024-05-28T09:10:42.048Z"
   },
   {
    "duration": 110,
    "start_time": "2024-05-28T09:10:43.909Z"
   },
   {
    "duration": 3,
    "start_time": "2024-05-28T09:10:48.615Z"
   },
   {
    "duration": 105,
    "start_time": "2024-05-28T09:10:50.703Z"
   },
   {
    "duration": 4,
    "start_time": "2024-05-28T09:12:55.755Z"
   },
   {
    "duration": 456,
    "start_time": "2024-05-28T09:12:59.235Z"
   },
   {
    "duration": 3,
    "start_time": "2024-05-28T09:13:17.002Z"
   },
   {
    "duration": 413,
    "start_time": "2024-05-28T09:13:19.314Z"
   },
   {
    "duration": 4,
    "start_time": "2024-05-28T09:13:46.027Z"
   },
   {
    "duration": 402,
    "start_time": "2024-05-28T09:13:48.408Z"
   },
   {
    "duration": 4,
    "start_time": "2024-05-28T09:13:55.248Z"
   },
   {
    "duration": 419,
    "start_time": "2024-05-28T09:13:57.505Z"
   },
   {
    "duration": 3,
    "start_time": "2024-05-28T09:14:19.395Z"
   },
   {
    "duration": 518,
    "start_time": "2024-05-28T09:14:21.304Z"
   },
   {
    "duration": 411,
    "start_time": "2024-05-28T09:14:31.687Z"
   },
   {
    "duration": 416,
    "start_time": "2024-05-28T09:14:41.009Z"
   },
   {
    "duration": 460,
    "start_time": "2024-05-28T09:29:01.805Z"
   },
   {
    "duration": 471,
    "start_time": "2024-05-28T09:30:03.197Z"
   },
   {
    "duration": 412,
    "start_time": "2024-05-28T09:30:18.451Z"
   },
   {
    "duration": 573,
    "start_time": "2024-05-28T09:30:29.831Z"
   },
   {
    "duration": 3,
    "start_time": "2024-05-28T09:33:39.399Z"
   },
   {
    "duration": 430,
    "start_time": "2024-05-28T09:33:41.349Z"
   },
   {
    "duration": 4,
    "start_time": "2024-05-28T09:59:07.136Z"
   },
   {
    "duration": 1104,
    "start_time": "2024-05-28T09:59:27.193Z"
   },
   {
    "duration": 3,
    "start_time": "2024-05-28T10:00:20.245Z"
   },
   {
    "duration": 51,
    "start_time": "2024-05-28T10:00:22.046Z"
   },
   {
    "duration": 173,
    "start_time": "2024-05-28T10:01:14.545Z"
   },
   {
    "duration": 153,
    "start_time": "2024-05-28T10:01:42.063Z"
   },
   {
    "duration": 115,
    "start_time": "2024-05-28T10:02:34.586Z"
   },
   {
    "duration": 434,
    "start_time": "2024-05-28T10:02:49.378Z"
   },
   {
    "duration": 401,
    "start_time": "2024-05-28T10:03:14.677Z"
   },
   {
    "duration": 451,
    "start_time": "2024-05-28T10:04:39.198Z"
   },
   {
    "duration": 535,
    "start_time": "2024-05-28T10:05:34.322Z"
   },
   {
    "duration": 425,
    "start_time": "2024-05-28T10:05:50.653Z"
   },
   {
    "duration": 5,
    "start_time": "2024-05-28T10:06:38.045Z"
   },
   {
    "duration": 939,
    "start_time": "2024-05-28T10:07:36.166Z"
   },
   {
    "duration": 12,
    "start_time": "2024-05-28T10:22:44.636Z"
   },
   {
    "duration": 9,
    "start_time": "2024-05-28T10:24:22.311Z"
   },
   {
    "duration": 16,
    "start_time": "2024-05-28T10:24:27.859Z"
   },
   {
    "duration": 1408,
    "start_time": "2024-05-28T10:24:52.988Z"
   },
   {
    "duration": 428,
    "start_time": "2024-05-28T10:24:54.398Z"
   },
   {
    "duration": 4,
    "start_time": "2024-05-28T10:24:54.828Z"
   },
   {
    "duration": 112,
    "start_time": "2024-05-28T10:24:54.834Z"
   },
   {
    "duration": 98,
    "start_time": "2024-05-28T10:24:54.948Z"
   },
   {
    "duration": 81,
    "start_time": "2024-05-28T10:24:55.048Z"
   },
   {
    "duration": 27,
    "start_time": "2024-05-28T10:24:55.146Z"
   },
   {
    "duration": 31,
    "start_time": "2024-05-28T10:24:55.175Z"
   },
   {
    "duration": 13,
    "start_time": "2024-05-28T10:24:55.208Z"
   },
   {
    "duration": 5,
    "start_time": "2024-05-28T10:24:55.244Z"
   },
   {
    "duration": 7135,
    "start_time": "2024-05-28T10:24:55.250Z"
   },
   {
    "duration": 6746,
    "start_time": "2024-05-28T10:25:02.386Z"
   },
   {
    "duration": 6662,
    "start_time": "2024-05-28T10:25:09.134Z"
   },
   {
    "duration": 395,
    "start_time": "2024-05-28T10:25:15.798Z"
   },
   {
    "duration": 4,
    "start_time": "2024-05-28T10:25:16.194Z"
   },
   {
    "duration": 178,
    "start_time": "2024-05-28T10:25:16.199Z"
   },
   {
    "duration": 250,
    "start_time": "2024-05-28T10:25:16.379Z"
   },
   {
    "duration": 173,
    "start_time": "2024-05-28T10:25:16.630Z"
   },
   {
    "duration": 4,
    "start_time": "2024-05-28T10:25:16.805Z"
   },
   {
    "duration": 35,
    "start_time": "2024-05-28T10:25:16.810Z"
   },
   {
    "duration": 21,
    "start_time": "2024-05-28T10:25:16.846Z"
   },
   {
    "duration": 186,
    "start_time": "2024-05-28T10:25:16.869Z"
   },
   {
    "duration": 3,
    "start_time": "2024-05-28T10:25:17.057Z"
   },
   {
    "duration": 45,
    "start_time": "2024-05-28T10:25:17.062Z"
   },
   {
    "duration": 22,
    "start_time": "2024-05-28T10:25:17.109Z"
   },
   {
    "duration": 479,
    "start_time": "2024-05-28T10:25:17.133Z"
   },
   {
    "duration": 403,
    "start_time": "2024-05-28T10:25:17.614Z"
   },
   {
    "duration": 451,
    "start_time": "2024-05-28T10:25:18.021Z"
   },
   {
    "duration": 3,
    "start_time": "2024-05-28T10:25:18.473Z"
   },
   {
    "duration": 130,
    "start_time": "2024-05-28T10:25:18.477Z"
   },
   {
    "duration": 408,
    "start_time": "2024-05-28T10:25:18.609Z"
   },
   {
    "duration": 489,
    "start_time": "2024-05-28T10:25:19.019Z"
   },
   {
    "duration": 428,
    "start_time": "2024-05-28T10:25:19.510Z"
   },
   {
    "duration": 7,
    "start_time": "2024-05-28T10:25:19.939Z"
   },
   {
    "duration": 24,
    "start_time": "2024-05-28T10:25:19.947Z"
   },
   {
    "duration": 1003,
    "start_time": "2024-05-28T10:25:19.973Z"
   },
   {
    "duration": 16,
    "start_time": "2024-05-28T10:25:20.978Z"
   },
   {
    "duration": 116,
    "start_time": "2024-05-28T10:25:37.651Z"
   },
   {
    "duration": 1327,
    "start_time": "2024-05-28T10:25:46.497Z"
   },
   {
    "duration": 394,
    "start_time": "2024-05-28T10:25:47.825Z"
   },
   {
    "duration": 6,
    "start_time": "2024-05-28T10:25:48.221Z"
   },
   {
    "duration": 130,
    "start_time": "2024-05-28T10:25:48.229Z"
   },
   {
    "duration": 87,
    "start_time": "2024-05-28T10:25:48.361Z"
   },
   {
    "duration": 96,
    "start_time": "2024-05-28T10:25:48.450Z"
   },
   {
    "duration": 25,
    "start_time": "2024-05-28T10:25:48.548Z"
   },
   {
    "duration": 48,
    "start_time": "2024-05-28T10:25:48.575Z"
   },
   {
    "duration": 22,
    "start_time": "2024-05-28T10:25:48.625Z"
   },
   {
    "duration": 10,
    "start_time": "2024-05-28T10:25:48.649Z"
   },
   {
    "duration": 7048,
    "start_time": "2024-05-28T10:25:48.661Z"
   },
   {
    "duration": 6968,
    "start_time": "2024-05-28T10:25:55.711Z"
   },
   {
    "duration": 6649,
    "start_time": "2024-05-28T10:26:02.681Z"
   },
   {
    "duration": 441,
    "start_time": "2024-05-28T10:26:09.332Z"
   },
   {
    "duration": 4,
    "start_time": "2024-05-28T10:26:09.774Z"
   },
   {
    "duration": 181,
    "start_time": "2024-05-28T10:26:09.780Z"
   },
   {
    "duration": 248,
    "start_time": "2024-05-28T10:26:09.963Z"
   },
   {
    "duration": 177,
    "start_time": "2024-05-28T10:26:10.213Z"
   },
   {
    "duration": 3,
    "start_time": "2024-05-28T10:26:10.391Z"
   },
   {
    "duration": 31,
    "start_time": "2024-05-28T10:26:10.395Z"
   },
   {
    "duration": 4,
    "start_time": "2024-05-28T10:26:10.427Z"
   },
   {
    "duration": 171,
    "start_time": "2024-05-28T10:26:10.433Z"
   },
   {
    "duration": 5,
    "start_time": "2024-05-28T10:26:10.605Z"
   },
   {
    "duration": 19,
    "start_time": "2024-05-28T10:26:10.611Z"
   },
   {
    "duration": 14,
    "start_time": "2024-05-28T10:26:10.632Z"
   },
   {
    "duration": 444,
    "start_time": "2024-05-28T10:26:10.647Z"
   },
   {
    "duration": 376,
    "start_time": "2024-05-28T10:26:11.093Z"
   },
   {
    "duration": 417,
    "start_time": "2024-05-28T10:26:11.473Z"
   },
   {
    "duration": 3,
    "start_time": "2024-05-28T10:26:11.892Z"
   },
   {
    "duration": 123,
    "start_time": "2024-05-28T10:26:11.897Z"
   },
   {
    "duration": 431,
    "start_time": "2024-05-28T10:26:12.021Z"
   },
   {
    "duration": 461,
    "start_time": "2024-05-28T10:26:12.454Z"
   },
   {
    "duration": 414,
    "start_time": "2024-05-28T10:26:12.916Z"
   },
   {
    "duration": 4,
    "start_time": "2024-05-28T10:26:13.331Z"
   },
   {
    "duration": 22,
    "start_time": "2024-05-28T10:26:13.336Z"
   },
   {
    "duration": 915,
    "start_time": "2024-05-28T10:26:13.359Z"
   },
   {
    "duration": 13,
    "start_time": "2024-05-28T10:26:14.276Z"
   },
   {
    "duration": 53,
    "start_time": "2024-05-28T10:52:49.223Z"
   },
   {
    "duration": 8,
    "start_time": "2024-05-28T10:53:03.255Z"
   },
   {
    "duration": 12,
    "start_time": "2024-05-28T10:53:16.664Z"
   },
   {
    "duration": 102,
    "start_time": "2024-05-28T10:54:38.460Z"
   },
   {
    "duration": 8,
    "start_time": "2024-05-28T10:54:48.018Z"
   },
   {
    "duration": 17,
    "start_time": "2024-05-28T10:54:52.575Z"
   },
   {
    "duration": 4,
    "start_time": "2024-05-28T11:02:32.683Z"
   },
   {
    "duration": 9,
    "start_time": "2024-05-28T11:02:55.787Z"
   },
   {
    "duration": 4,
    "start_time": "2024-05-28T11:03:24.977Z"
   },
   {
    "duration": 8,
    "start_time": "2024-05-28T11:03:26.928Z"
   },
   {
    "duration": 1428,
    "start_time": "2024-05-28T11:03:48.041Z"
   },
   {
    "duration": 389,
    "start_time": "2024-05-28T11:03:49.471Z"
   },
   {
    "duration": 4,
    "start_time": "2024-05-28T11:03:49.861Z"
   },
   {
    "duration": 98,
    "start_time": "2024-05-28T11:03:49.867Z"
   },
   {
    "duration": 92,
    "start_time": "2024-05-28T11:03:49.967Z"
   },
   {
    "duration": 101,
    "start_time": "2024-05-28T11:03:50.061Z"
   },
   {
    "duration": 32,
    "start_time": "2024-05-28T11:03:50.164Z"
   },
   {
    "duration": 49,
    "start_time": "2024-05-28T11:03:50.198Z"
   },
   {
    "duration": 13,
    "start_time": "2024-05-28T11:03:50.249Z"
   },
   {
    "duration": 5,
    "start_time": "2024-05-28T11:03:50.263Z"
   },
   {
    "duration": 7152,
    "start_time": "2024-05-28T11:03:50.270Z"
   },
   {
    "duration": 7211,
    "start_time": "2024-05-28T11:03:57.423Z"
   },
   {
    "duration": 7181,
    "start_time": "2024-05-28T11:04:04.636Z"
   },
   {
    "duration": 411,
    "start_time": "2024-05-28T11:04:11.820Z"
   },
   {
    "duration": 4,
    "start_time": "2024-05-28T11:04:12.233Z"
   },
   {
    "duration": 190,
    "start_time": "2024-05-28T11:04:12.238Z"
   },
   {
    "duration": 293,
    "start_time": "2024-05-28T11:04:12.430Z"
   },
   {
    "duration": 187,
    "start_time": "2024-05-28T11:04:12.725Z"
   },
   {
    "duration": 3,
    "start_time": "2024-05-28T11:04:12.914Z"
   },
   {
    "duration": 43,
    "start_time": "2024-05-28T11:04:12.918Z"
   },
   {
    "duration": 4,
    "start_time": "2024-05-28T11:04:12.963Z"
   },
   {
    "duration": 189,
    "start_time": "2024-05-28T11:04:12.969Z"
   },
   {
    "duration": 6,
    "start_time": "2024-05-28T11:04:13.160Z"
   },
   {
    "duration": 17,
    "start_time": "2024-05-28T11:04:13.168Z"
   },
   {
    "duration": 4,
    "start_time": "2024-05-28T11:04:13.186Z"
   },
   {
    "duration": 530,
    "start_time": "2024-05-28T11:04:13.192Z"
   },
   {
    "duration": 479,
    "start_time": "2024-05-28T11:04:13.724Z"
   },
   {
    "duration": 485,
    "start_time": "2024-05-28T11:04:14.205Z"
   },
   {
    "duration": 5,
    "start_time": "2024-05-28T11:04:14.691Z"
   },
   {
    "duration": 154,
    "start_time": "2024-05-28T11:04:14.698Z"
   },
   {
    "duration": 468,
    "start_time": "2024-05-28T11:04:14.854Z"
   },
   {
    "duration": 632,
    "start_time": "2024-05-28T11:04:15.323Z"
   },
   {
    "duration": 479,
    "start_time": "2024-05-28T11:04:15.957Z"
   },
   {
    "duration": 10,
    "start_time": "2024-05-28T11:04:16.438Z"
   },
   {
    "duration": 34,
    "start_time": "2024-05-28T11:04:16.450Z"
   },
   {
    "duration": 1051,
    "start_time": "2024-05-28T11:04:16.486Z"
   },
   {
    "duration": 16,
    "start_time": "2024-05-28T11:04:17.539Z"
   },
   {
    "duration": 5,
    "start_time": "2024-05-28T11:04:17.557Z"
   },
   {
    "duration": 117,
    "start_time": "2024-05-28T11:04:17.563Z"
   },
   {
    "duration": 12,
    "start_time": "2024-05-28T11:05:29.006Z"
   },
   {
    "duration": 15,
    "start_time": "2024-05-28T11:06:23.601Z"
   },
   {
    "duration": 11,
    "start_time": "2024-05-28T11:07:07.663Z"
   },
   {
    "duration": 14,
    "start_time": "2024-05-28T11:07:37.700Z"
   },
   {
    "duration": 4,
    "start_time": "2024-05-28T11:30:04.573Z"
   },
   {
    "duration": 4,
    "start_time": "2024-05-28T11:33:20.330Z"
   },
   {
    "duration": 12,
    "start_time": "2024-05-28T11:33:43.770Z"
   },
   {
    "duration": 4,
    "start_time": "2024-05-28T11:34:15.123Z"
   },
   {
    "duration": 4,
    "start_time": "2024-05-28T11:34:23.860Z"
   },
   {
    "duration": 111,
    "start_time": "2024-05-28T11:34:25.835Z"
   },
   {
    "duration": 3,
    "start_time": "2024-05-28T11:34:50.476Z"
   },
   {
    "duration": 17,
    "start_time": "2024-05-28T11:35:08.663Z"
   },
   {
    "duration": 17,
    "start_time": "2024-05-28T11:36:15.295Z"
   },
   {
    "duration": 3,
    "start_time": "2024-05-28T11:36:21.556Z"
   },
   {
    "duration": 16,
    "start_time": "2024-05-28T11:36:23.355Z"
   },
   {
    "duration": 15,
    "start_time": "2024-05-28T11:38:30.999Z"
   },
   {
    "duration": 15,
    "start_time": "2024-05-28T11:38:56.546Z"
   },
   {
    "duration": 53,
    "start_time": "2024-05-28T11:49:31.293Z"
   },
   {
    "duration": 3,
    "start_time": "2024-05-28T11:49:48.864Z"
   },
   {
    "duration": 89,
    "start_time": "2024-05-28T11:49:52.058Z"
   },
   {
    "duration": 15,
    "start_time": "2024-05-28T12:00:58.130Z"
   },
   {
    "duration": 88,
    "start_time": "2024-05-28T12:01:35.659Z"
   },
   {
    "duration": 14,
    "start_time": "2024-05-28T12:01:45.834Z"
   },
   {
    "duration": 204,
    "start_time": "2024-05-28T12:03:08.445Z"
   },
   {
    "duration": 4,
    "start_time": "2024-05-28T12:29:19.642Z"
   },
   {
    "duration": 4,
    "start_time": "2024-05-28T14:02:17.534Z"
   },
   {
    "duration": 13,
    "start_time": "2024-05-28T14:03:20.343Z"
   },
   {
    "duration": 8,
    "start_time": "2024-05-28T14:03:38.315Z"
   },
   {
    "duration": 8,
    "start_time": "2024-05-28T14:04:05.079Z"
   },
   {
    "duration": 9,
    "start_time": "2024-05-28T14:04:24.004Z"
   },
   {
    "duration": 9,
    "start_time": "2024-05-28T14:07:17.092Z"
   },
   {
    "duration": 3,
    "start_time": "2024-05-28T14:12:14.491Z"
   },
   {
    "duration": 15,
    "start_time": "2024-05-28T14:12:16.360Z"
   },
   {
    "duration": 5,
    "start_time": "2024-05-28T14:19:54.444Z"
   },
   {
    "duration": 8,
    "start_time": "2024-05-28T14:20:08.516Z"
   },
   {
    "duration": 5,
    "start_time": "2024-05-28T14:20:18.390Z"
   },
   {
    "duration": 3,
    "start_time": "2024-05-28T14:20:26.007Z"
   },
   {
    "duration": 1385,
    "start_time": "2024-05-28T15:55:41.667Z"
   },
   {
    "duration": 411,
    "start_time": "2024-05-28T15:55:43.054Z"
   },
   {
    "duration": 5,
    "start_time": "2024-05-28T15:55:43.466Z"
   },
   {
    "duration": 110,
    "start_time": "2024-05-28T15:55:43.473Z"
   },
   {
    "duration": 106,
    "start_time": "2024-05-28T15:55:43.585Z"
   },
   {
    "duration": 109,
    "start_time": "2024-05-28T15:55:43.692Z"
   },
   {
    "duration": 27,
    "start_time": "2024-05-28T15:55:43.803Z"
   },
   {
    "duration": 41,
    "start_time": "2024-05-28T15:55:43.831Z"
   },
   {
    "duration": 13,
    "start_time": "2024-05-28T15:55:43.874Z"
   },
   {
    "duration": 6,
    "start_time": "2024-05-28T15:55:43.889Z"
   },
   {
    "duration": 6974,
    "start_time": "2024-05-28T15:55:43.896Z"
   },
   {
    "duration": 7004,
    "start_time": "2024-05-28T15:55:50.872Z"
   },
   {
    "duration": 7014,
    "start_time": "2024-05-28T15:55:57.877Z"
   },
   {
    "duration": 440,
    "start_time": "2024-05-28T15:56:04.894Z"
   },
   {
    "duration": 9,
    "start_time": "2024-05-28T15:56:05.336Z"
   },
   {
    "duration": 205,
    "start_time": "2024-05-28T15:56:05.347Z"
   },
   {
    "duration": 174,
    "start_time": "2024-05-28T15:56:05.554Z"
   },
   {
    "duration": 256,
    "start_time": "2024-05-28T15:56:05.730Z"
   },
   {
    "duration": 3,
    "start_time": "2024-05-28T15:56:05.988Z"
   },
   {
    "duration": 52,
    "start_time": "2024-05-28T15:56:05.993Z"
   },
   {
    "duration": 4,
    "start_time": "2024-05-28T15:56:06.047Z"
   },
   {
    "duration": 182,
    "start_time": "2024-05-28T15:56:06.052Z"
   },
   {
    "duration": 10,
    "start_time": "2024-05-28T15:56:06.236Z"
   },
   {
    "duration": 41,
    "start_time": "2024-05-28T15:56:06.248Z"
   },
   {
    "duration": 4,
    "start_time": "2024-05-28T15:56:06.291Z"
   },
   {
    "duration": 476,
    "start_time": "2024-05-28T15:56:06.297Z"
   },
   {
    "duration": 393,
    "start_time": "2024-05-28T15:56:06.774Z"
   },
   {
    "duration": 453,
    "start_time": "2024-05-28T15:56:07.169Z"
   },
   {
    "duration": 5,
    "start_time": "2024-05-28T15:56:07.623Z"
   },
   {
    "duration": 131,
    "start_time": "2024-05-28T15:56:07.629Z"
   },
   {
    "duration": 470,
    "start_time": "2024-05-28T15:56:07.763Z"
   },
   {
    "duration": 498,
    "start_time": "2024-05-28T15:56:08.235Z"
   },
   {
    "duration": 419,
    "start_time": "2024-05-28T15:56:08.734Z"
   },
   {
    "duration": 5,
    "start_time": "2024-05-28T15:56:09.154Z"
   },
   {
    "duration": 31,
    "start_time": "2024-05-28T15:56:09.161Z"
   },
   {
    "duration": 910,
    "start_time": "2024-05-28T15:56:09.193Z"
   },
   {
    "duration": 2,
    "start_time": "2024-05-28T15:56:10.105Z"
   },
   {
    "duration": 20,
    "start_time": "2024-05-28T15:56:10.109Z"
   },
   {
    "duration": 19,
    "start_time": "2024-05-28T15:56:10.130Z"
   },
   {
    "duration": 13,
    "start_time": "2024-05-28T15:56:10.150Z"
   },
   {
    "duration": 12,
    "start_time": "2024-05-28T15:56:10.167Z"
   },
   {
    "duration": 4,
    "start_time": "2024-05-28T15:56:10.180Z"
   },
   {
    "duration": 264,
    "start_time": "2024-05-28T15:56:10.185Z"
   },
   {
    "duration": 95,
    "start_time": "2024-05-28T15:56:10.451Z"
   },
   {
    "duration": 99,
    "start_time": "2024-05-28T15:56:10.548Z"
   },
   {
    "duration": 6,
    "start_time": "2024-05-28T15:56:10.649Z"
   },
   {
    "duration": 4,
    "start_time": "2024-05-28T15:56:10.656Z"
   },
   {
    "duration": 15,
    "start_time": "2024-05-28T15:56:10.662Z"
   },
   {
    "duration": 1505,
    "start_time": "2024-05-28T15:57:49.110Z"
   },
   {
    "duration": 410,
    "start_time": "2024-05-28T15:57:50.617Z"
   },
   {
    "duration": 4,
    "start_time": "2024-05-28T15:57:51.031Z"
   },
   {
    "duration": 136,
    "start_time": "2024-05-28T15:57:51.045Z"
   },
   {
    "duration": 96,
    "start_time": "2024-05-28T15:57:51.183Z"
   },
   {
    "duration": 103,
    "start_time": "2024-05-28T15:57:51.281Z"
   },
   {
    "duration": 27,
    "start_time": "2024-05-28T15:57:51.386Z"
   },
   {
    "duration": 45,
    "start_time": "2024-05-28T15:57:51.414Z"
   },
   {
    "duration": 13,
    "start_time": "2024-05-28T15:57:51.460Z"
   },
   {
    "duration": 5,
    "start_time": "2024-05-28T15:57:51.474Z"
   },
   {
    "duration": 7265,
    "start_time": "2024-05-28T15:57:51.480Z"
   },
   {
    "duration": 7210,
    "start_time": "2024-05-28T15:57:58.746Z"
   },
   {
    "duration": 7104,
    "start_time": "2024-05-28T15:58:05.959Z"
   },
   {
    "duration": 411,
    "start_time": "2024-05-28T15:58:13.064Z"
   },
   {
    "duration": 4,
    "start_time": "2024-05-28T15:58:13.478Z"
   },
   {
    "duration": 194,
    "start_time": "2024-05-28T15:58:13.484Z"
   },
   {
    "duration": 182,
    "start_time": "2024-05-28T15:58:13.679Z"
   },
   {
    "duration": 259,
    "start_time": "2024-05-28T15:58:13.862Z"
   },
   {
    "duration": 3,
    "start_time": "2024-05-28T15:58:14.122Z"
   },
   {
    "duration": 37,
    "start_time": "2024-05-28T15:58:14.126Z"
   },
   {
    "duration": 4,
    "start_time": "2024-05-28T15:58:14.164Z"
   },
   {
    "duration": 195,
    "start_time": "2024-05-28T15:58:14.170Z"
   },
   {
    "duration": 4,
    "start_time": "2024-05-28T15:58:14.366Z"
   },
   {
    "duration": 23,
    "start_time": "2024-05-28T15:58:14.372Z"
   },
   {
    "duration": 26,
    "start_time": "2024-05-28T15:58:14.397Z"
   },
   {
    "duration": 452,
    "start_time": "2024-05-28T15:58:14.424Z"
   },
   {
    "duration": 405,
    "start_time": "2024-05-28T15:58:14.878Z"
   },
   {
    "duration": 475,
    "start_time": "2024-05-28T15:58:15.285Z"
   },
   {
    "duration": 3,
    "start_time": "2024-05-28T15:58:15.762Z"
   },
   {
    "duration": 124,
    "start_time": "2024-05-28T15:58:15.767Z"
   },
   {
    "duration": 411,
    "start_time": "2024-05-28T15:58:15.892Z"
   },
   {
    "duration": 482,
    "start_time": "2024-05-28T15:58:16.305Z"
   },
   {
    "duration": 442,
    "start_time": "2024-05-28T15:58:16.789Z"
   },
   {
    "duration": 4,
    "start_time": "2024-05-28T15:58:17.232Z"
   },
   {
    "duration": 11,
    "start_time": "2024-05-28T15:58:17.246Z"
   },
   {
    "duration": 935,
    "start_time": "2024-05-28T15:58:17.259Z"
   },
   {
    "duration": 14,
    "start_time": "2024-05-28T15:58:18.195Z"
   },
   {
    "duration": 14,
    "start_time": "2024-05-28T15:58:18.210Z"
   },
   {
    "duration": 20,
    "start_time": "2024-05-28T15:58:18.226Z"
   },
   {
    "duration": 11,
    "start_time": "2024-05-28T15:58:18.250Z"
   },
   {
    "duration": 12,
    "start_time": "2024-05-28T15:58:18.263Z"
   },
   {
    "duration": 24,
    "start_time": "2024-05-28T15:58:18.277Z"
   },
   {
    "duration": 352,
    "start_time": "2024-05-28T15:58:18.303Z"
   },
   {
    "duration": 94,
    "start_time": "2024-05-28T15:58:18.657Z"
   },
   {
    "duration": 6,
    "start_time": "2024-05-28T15:58:18.845Z"
   },
   {
    "duration": 6,
    "start_time": "2024-05-28T15:58:18.853Z"
   },
   {
    "duration": 4,
    "start_time": "2024-05-28T15:58:18.861Z"
   },
   {
    "duration": 13,
    "start_time": "2024-05-28T15:58:18.866Z"
   },
   {
    "duration": 4,
    "start_time": "2024-05-28T16:00:15.504Z"
   },
   {
    "duration": 8,
    "start_time": "2024-05-28T16:00:18.093Z"
   },
   {
    "duration": 1603,
    "start_time": "2024-05-29T07:29:26.352Z"
   },
   {
    "duration": 647,
    "start_time": "2024-05-29T07:29:27.957Z"
   },
   {
    "duration": 5,
    "start_time": "2024-05-29T07:29:28.605Z"
   },
   {
    "duration": 139,
    "start_time": "2024-05-29T07:29:28.611Z"
   },
   {
    "duration": 93,
    "start_time": "2024-05-29T07:29:28.755Z"
   },
   {
    "duration": 140,
    "start_time": "2024-05-29T07:29:28.849Z"
   },
   {
    "duration": 23,
    "start_time": "2024-05-29T07:29:28.991Z"
   },
   {
    "duration": 75,
    "start_time": "2024-05-29T07:29:29.016Z"
   },
   {
    "duration": 12,
    "start_time": "2024-05-29T07:29:29.093Z"
   },
   {
    "duration": 4,
    "start_time": "2024-05-29T07:29:29.108Z"
   },
   {
    "duration": 6879,
    "start_time": "2024-05-29T07:29:29.114Z"
   },
   {
    "duration": 6971,
    "start_time": "2024-05-29T07:29:35.994Z"
   },
   {
    "duration": 7033,
    "start_time": "2024-05-29T07:29:42.966Z"
   },
   {
    "duration": 400,
    "start_time": "2024-05-29T07:29:50.000Z"
   },
   {
    "duration": 4,
    "start_time": "2024-05-29T07:29:50.402Z"
   },
   {
    "duration": 213,
    "start_time": "2024-05-29T07:29:50.408Z"
   },
   {
    "duration": 173,
    "start_time": "2024-05-29T07:29:50.623Z"
   },
   {
    "duration": 228,
    "start_time": "2024-05-29T07:29:50.797Z"
   },
   {
    "duration": 3,
    "start_time": "2024-05-29T07:29:51.027Z"
   },
   {
    "duration": 53,
    "start_time": "2024-05-29T07:29:51.032Z"
   },
   {
    "duration": 16,
    "start_time": "2024-05-29T07:29:51.087Z"
   },
   {
    "duration": 181,
    "start_time": "2024-05-29T07:29:51.105Z"
   },
   {
    "duration": 4,
    "start_time": "2024-05-29T07:29:51.288Z"
   },
   {
    "duration": 39,
    "start_time": "2024-05-29T07:29:51.293Z"
   },
   {
    "duration": 16,
    "start_time": "2024-05-29T07:29:51.334Z"
   },
   {
    "duration": 453,
    "start_time": "2024-05-29T07:29:51.352Z"
   },
   {
    "duration": 389,
    "start_time": "2024-05-29T07:29:51.807Z"
   },
   {
    "duration": 426,
    "start_time": "2024-05-29T07:29:52.199Z"
   },
   {
    "duration": 4,
    "start_time": "2024-05-29T07:29:52.626Z"
   },
   {
    "duration": 128,
    "start_time": "2024-05-29T07:29:52.631Z"
   },
   {
    "duration": 435,
    "start_time": "2024-05-29T07:29:52.761Z"
   },
   {
    "duration": 473,
    "start_time": "2024-05-29T07:29:53.198Z"
   },
   {
    "duration": 400,
    "start_time": "2024-05-29T07:29:53.673Z"
   },
   {
    "duration": 4,
    "start_time": "2024-05-29T07:29:54.075Z"
   },
   {
    "duration": 23,
    "start_time": "2024-05-29T07:29:54.081Z"
   },
   {
    "duration": 988,
    "start_time": "2024-05-29T07:29:54.106Z"
   },
   {
    "duration": 12,
    "start_time": "2024-05-29T07:29:55.096Z"
   },
   {
    "duration": 24,
    "start_time": "2024-05-29T07:29:55.110Z"
   },
   {
    "duration": 17,
    "start_time": "2024-05-29T07:29:55.136Z"
   },
   {
    "duration": 13,
    "start_time": "2024-05-29T07:29:55.154Z"
   },
   {
    "duration": 18,
    "start_time": "2024-05-29T07:29:55.168Z"
   },
   {
    "duration": 3,
    "start_time": "2024-05-29T07:29:55.188Z"
   },
   {
    "duration": 273,
    "start_time": "2024-05-29T07:29:55.193Z"
   },
   {
    "duration": 5,
    "start_time": "2024-05-29T07:29:55.468Z"
   },
   {
    "duration": 106,
    "start_time": "2024-05-29T07:29:55.474Z"
   },
   {
    "duration": 8,
    "start_time": "2024-05-29T07:29:55.582Z"
   },
   {
    "duration": 9,
    "start_time": "2024-05-29T07:34:52.506Z"
   },
   {
    "duration": 20,
    "start_time": "2024-05-29T07:35:33.760Z"
   },
   {
    "duration": 4,
    "start_time": "2024-05-29T07:43:13.607Z"
   },
   {
    "duration": 8,
    "start_time": "2024-05-29T07:45:15.381Z"
   },
   {
    "duration": 108,
    "start_time": "2024-05-29T07:46:15.105Z"
   },
   {
    "duration": 6,
    "start_time": "2024-05-29T07:46:53.346Z"
   },
   {
    "duration": 1166,
    "start_time": "2024-05-29T07:46:55.876Z"
   },
   {
    "duration": 1137,
    "start_time": "2024-05-29T07:48:00.018Z"
   },
   {
    "duration": 1192,
    "start_time": "2024-05-29T07:48:30.237Z"
   },
   {
    "duration": 6,
    "start_time": "2024-05-29T07:51:40.079Z"
   },
   {
    "duration": 1143,
    "start_time": "2024-05-29T07:51:42.603Z"
   },
   {
    "duration": 1212,
    "start_time": "2024-05-29T07:51:52.657Z"
   },
   {
    "duration": 1260,
    "start_time": "2024-05-29T07:51:57.388Z"
   },
   {
    "duration": 1174,
    "start_time": "2024-05-29T07:52:08.404Z"
   },
   {
    "duration": 1201,
    "start_time": "2024-05-29T07:52:19.829Z"
   },
   {
    "duration": 1158,
    "start_time": "2024-05-29T07:52:23.535Z"
   },
   {
    "duration": 1167,
    "start_time": "2024-05-29T07:52:30.556Z"
   },
   {
    "duration": 1237,
    "start_time": "2024-05-29T07:52:33.728Z"
   },
   {
    "duration": 1136,
    "start_time": "2024-05-29T07:52:36.477Z"
   },
   {
    "duration": 1197,
    "start_time": "2024-05-29T07:52:39.369Z"
   },
   {
    "duration": 1242,
    "start_time": "2024-05-29T07:52:43.742Z"
   },
   {
    "duration": 1203,
    "start_time": "2024-05-29T07:52:48.596Z"
   },
   {
    "duration": 1248,
    "start_time": "2024-05-29T07:52:51.599Z"
   },
   {
    "duration": 1295,
    "start_time": "2024-05-29T07:52:55.284Z"
   },
   {
    "duration": 1233,
    "start_time": "2024-05-29T07:52:58.251Z"
   },
   {
    "duration": 1250,
    "start_time": "2024-05-29T07:53:01.230Z"
   },
   {
    "duration": 1172,
    "start_time": "2024-05-29T07:53:06.296Z"
   },
   {
    "duration": 1206,
    "start_time": "2024-05-29T07:53:11.540Z"
   },
   {
    "duration": 1425,
    "start_time": "2024-05-29T11:33:31.069Z"
   },
   {
    "duration": 407,
    "start_time": "2024-05-29T11:33:32.496Z"
   },
   {
    "duration": 4,
    "start_time": "2024-05-29T11:33:32.905Z"
   },
   {
    "duration": 122,
    "start_time": "2024-05-29T11:33:32.911Z"
   },
   {
    "duration": 98,
    "start_time": "2024-05-29T11:33:33.035Z"
   },
   {
    "duration": 99,
    "start_time": "2024-05-29T11:33:33.135Z"
   },
   {
    "duration": 41,
    "start_time": "2024-05-29T11:33:33.236Z"
   },
   {
    "duration": 35,
    "start_time": "2024-05-29T11:33:33.279Z"
   },
   {
    "duration": 18,
    "start_time": "2024-05-29T11:33:33.316Z"
   },
   {
    "duration": 19,
    "start_time": "2024-05-29T11:33:33.336Z"
   },
   {
    "duration": 7167,
    "start_time": "2024-05-29T11:33:33.357Z"
   },
   {
    "duration": 7150,
    "start_time": "2024-05-29T11:33:40.526Z"
   },
   {
    "duration": 7103,
    "start_time": "2024-05-29T11:33:47.677Z"
   },
   {
    "duration": 417,
    "start_time": "2024-05-29T11:33:54.783Z"
   },
   {
    "duration": 3,
    "start_time": "2024-05-29T11:33:55.201Z"
   },
   {
    "duration": 191,
    "start_time": "2024-05-29T11:33:55.206Z"
   },
   {
    "duration": 174,
    "start_time": "2024-05-29T11:33:55.399Z"
   },
   {
    "duration": 261,
    "start_time": "2024-05-29T11:33:55.575Z"
   },
   {
    "duration": 2,
    "start_time": "2024-05-29T11:33:55.838Z"
   },
   {
    "duration": 44,
    "start_time": "2024-05-29T11:33:55.842Z"
   },
   {
    "duration": 4,
    "start_time": "2024-05-29T11:33:55.888Z"
   },
   {
    "duration": 169,
    "start_time": "2024-05-29T11:33:55.893Z"
   },
   {
    "duration": 4,
    "start_time": "2024-05-29T11:33:56.063Z"
   },
   {
    "duration": 18,
    "start_time": "2024-05-29T11:33:56.069Z"
   },
   {
    "duration": 4,
    "start_time": "2024-05-29T11:33:56.088Z"
   },
   {
    "duration": 465,
    "start_time": "2024-05-29T11:33:56.093Z"
   },
   {
    "duration": 404,
    "start_time": "2024-05-29T11:33:56.565Z"
   },
   {
    "duration": 462,
    "start_time": "2024-05-29T11:33:56.970Z"
   },
   {
    "duration": 4,
    "start_time": "2024-05-29T11:33:57.434Z"
   },
   {
    "duration": 121,
    "start_time": "2024-05-29T11:33:57.440Z"
   },
   {
    "duration": 435,
    "start_time": "2024-05-29T11:33:57.563Z"
   },
   {
    "duration": 504,
    "start_time": "2024-05-29T11:33:58.000Z"
   },
   {
    "duration": 461,
    "start_time": "2024-05-29T11:33:58.506Z"
   },
   {
    "duration": 6,
    "start_time": "2024-05-29T11:33:58.969Z"
   },
   {
    "duration": 23,
    "start_time": "2024-05-29T11:33:58.976Z"
   },
   {
    "duration": 1034,
    "start_time": "2024-05-29T11:33:59.001Z"
   },
   {
    "duration": 13,
    "start_time": "2024-05-29T11:34:00.037Z"
   },
   {
    "duration": 29,
    "start_time": "2024-05-29T11:34:00.065Z"
   },
   {
    "duration": 24,
    "start_time": "2024-05-29T11:34:00.095Z"
   },
   {
    "duration": 44,
    "start_time": "2024-05-29T11:34:00.121Z"
   },
   {
    "duration": 45,
    "start_time": "2024-05-29T11:34:00.170Z"
   },
   {
    "duration": 23,
    "start_time": "2024-05-29T11:34:00.216Z"
   },
   {
    "duration": 224,
    "start_time": "2024-05-29T11:34:00.240Z"
   },
   {
    "duration": 100,
    "start_time": "2024-05-29T11:34:00.467Z"
   },
   {
    "duration": 63,
    "start_time": "2024-05-29T11:34:00.569Z"
   },
   {
    "duration": 44,
    "start_time": "2024-05-29T11:34:00.634Z"
   },
   {
    "duration": 8,
    "start_time": "2024-05-29T11:34:00.680Z"
   },
   {
    "duration": 1284,
    "start_time": "2024-05-29T11:34:00.689Z"
   },
   {
    "duration": 1255,
    "start_time": "2024-05-29T11:34:01.975Z"
   },
   {
    "duration": 1245,
    "start_time": "2024-05-29T11:34:03.231Z"
   },
   {
    "duration": 5,
    "start_time": "2024-05-29T11:35:22.030Z"
   },
   {
    "duration": 1255,
    "start_time": "2024-05-29T11:35:23.933Z"
   },
   {
    "duration": 1203,
    "start_time": "2024-05-29T11:35:39.678Z"
   },
   {
    "duration": 1300,
    "start_time": "2024-05-29T11:35:47.030Z"
   },
   {
    "duration": 127,
    "start_time": "2024-05-29T11:43:08.423Z"
   },
   {
    "duration": 1378,
    "start_time": "2024-05-29T11:43:51.824Z"
   },
   {
    "duration": 393,
    "start_time": "2024-05-29T11:43:53.204Z"
   },
   {
    "duration": 4,
    "start_time": "2024-05-29T11:43:53.599Z"
   },
   {
    "duration": 104,
    "start_time": "2024-05-29T11:43:53.605Z"
   },
   {
    "duration": 93,
    "start_time": "2024-05-29T11:43:53.711Z"
   },
   {
    "duration": 115,
    "start_time": "2024-05-29T11:43:53.807Z"
   },
   {
    "duration": 24,
    "start_time": "2024-05-29T11:43:53.923Z"
   },
   {
    "duration": 40,
    "start_time": "2024-05-29T11:43:53.949Z"
   },
   {
    "duration": 13,
    "start_time": "2024-05-29T11:43:53.990Z"
   },
   {
    "duration": 15,
    "start_time": "2024-05-29T11:43:54.004Z"
   },
   {
    "duration": 7006,
    "start_time": "2024-05-29T11:43:54.020Z"
   },
   {
    "duration": 6980,
    "start_time": "2024-05-29T11:44:01.028Z"
   },
   {
    "duration": 7070,
    "start_time": "2024-05-29T11:44:08.010Z"
   },
   {
    "duration": 412,
    "start_time": "2024-05-29T11:44:15.083Z"
   },
   {
    "duration": 4,
    "start_time": "2024-05-29T11:44:15.496Z"
   },
   {
    "duration": 209,
    "start_time": "2024-05-29T11:44:15.501Z"
   },
   {
    "duration": 179,
    "start_time": "2024-05-29T11:44:15.712Z"
   },
   {
    "duration": 246,
    "start_time": "2024-05-29T11:44:15.893Z"
   },
   {
    "duration": 3,
    "start_time": "2024-05-29T11:44:16.141Z"
   },
   {
    "duration": 35,
    "start_time": "2024-05-29T11:44:16.145Z"
   },
   {
    "duration": 3,
    "start_time": "2024-05-29T11:44:16.182Z"
   },
   {
    "duration": 169,
    "start_time": "2024-05-29T11:44:16.187Z"
   },
   {
    "duration": 8,
    "start_time": "2024-05-29T11:44:16.358Z"
   },
   {
    "duration": 17,
    "start_time": "2024-05-29T11:44:16.367Z"
   },
   {
    "duration": 3,
    "start_time": "2024-05-29T11:44:16.385Z"
   },
   {
    "duration": 439,
    "start_time": "2024-05-29T11:44:16.390Z"
   },
   {
    "duration": 443,
    "start_time": "2024-05-29T11:44:16.831Z"
   },
   {
    "duration": 431,
    "start_time": "2024-05-29T11:44:17.276Z"
   },
   {
    "duration": 3,
    "start_time": "2024-05-29T11:44:17.709Z"
   },
   {
    "duration": 130,
    "start_time": "2024-05-29T11:44:17.714Z"
   },
   {
    "duration": 413,
    "start_time": "2024-05-29T11:44:17.846Z"
   },
   {
    "duration": 514,
    "start_time": "2024-05-29T11:44:18.260Z"
   },
   {
    "duration": 456,
    "start_time": "2024-05-29T11:44:18.776Z"
   },
   {
    "duration": 5,
    "start_time": "2024-05-29T11:44:19.233Z"
   },
   {
    "duration": 10,
    "start_time": "2024-05-29T11:44:19.239Z"
   },
   {
    "duration": 972,
    "start_time": "2024-05-29T11:44:19.251Z"
   },
   {
    "duration": 16,
    "start_time": "2024-05-29T11:44:20.226Z"
   },
   {
    "duration": 8,
    "start_time": "2024-05-29T11:44:20.244Z"
   },
   {
    "duration": 15,
    "start_time": "2024-05-29T11:44:20.265Z"
   },
   {
    "duration": 12,
    "start_time": "2024-05-29T11:44:20.282Z"
   },
   {
    "duration": 12,
    "start_time": "2024-05-29T11:44:20.299Z"
   },
   {
    "duration": 6,
    "start_time": "2024-05-29T11:44:20.313Z"
   },
   {
    "duration": 246,
    "start_time": "2024-05-29T11:44:20.323Z"
   },
   {
    "duration": 95,
    "start_time": "2024-05-29T11:44:20.571Z"
   },
   {
    "duration": 16,
    "start_time": "2024-05-29T11:44:20.668Z"
   },
   {
    "duration": 19,
    "start_time": "2024-05-29T11:44:20.686Z"
   },
   {
    "duration": 5,
    "start_time": "2024-05-29T11:44:20.707Z"
   },
   {
    "duration": 1246,
    "start_time": "2024-05-29T11:44:20.713Z"
   },
   {
    "duration": 1180,
    "start_time": "2024-05-29T11:44:21.961Z"
   },
   {
    "duration": 1197,
    "start_time": "2024-05-29T11:44:23.143Z"
   },
   {
    "duration": 5,
    "start_time": "2024-05-29T12:14:17.301Z"
   },
   {
    "duration": 53,
    "start_time": "2024-05-29T12:19:11.856Z"
   },
   {
    "duration": 22,
    "start_time": "2024-05-29T12:19:39.435Z"
   },
   {
    "duration": 127,
    "start_time": "2024-05-29T12:45:43.307Z"
   },
   {
    "duration": 1340,
    "start_time": "2024-05-29T12:46:18.154Z"
   },
   {
    "duration": 455,
    "start_time": "2024-05-29T12:46:19.496Z"
   },
   {
    "duration": 4,
    "start_time": "2024-05-29T12:46:19.953Z"
   },
   {
    "duration": 236,
    "start_time": "2024-05-29T12:46:19.964Z"
   },
   {
    "duration": 90,
    "start_time": "2024-05-29T12:46:20.203Z"
   },
   {
    "duration": 106,
    "start_time": "2024-05-29T12:46:20.295Z"
   },
   {
    "duration": 25,
    "start_time": "2024-05-29T12:46:20.403Z"
   },
   {
    "duration": 40,
    "start_time": "2024-05-29T12:46:20.429Z"
   },
   {
    "duration": 13,
    "start_time": "2024-05-29T12:46:20.471Z"
   },
   {
    "duration": 23,
    "start_time": "2024-05-29T12:46:20.486Z"
   },
   {
    "duration": 7495,
    "start_time": "2024-05-29T12:46:20.511Z"
   },
   {
    "duration": 7902,
    "start_time": "2024-05-29T12:46:28.007Z"
   },
   {
    "duration": 7649,
    "start_time": "2024-05-29T12:46:35.911Z"
   },
   {
    "duration": 478,
    "start_time": "2024-05-29T12:46:43.563Z"
   },
   {
    "duration": 3,
    "start_time": "2024-05-29T12:46:44.043Z"
   },
   {
    "duration": 201,
    "start_time": "2024-05-29T12:46:44.047Z"
   },
   {
    "duration": 57,
    "start_time": "2024-05-29T12:46:44.250Z"
   },
   {
    "duration": 0,
    "start_time": "2024-05-29T12:46:44.309Z"
   },
   {
    "duration": 0,
    "start_time": "2024-05-29T12:46:44.310Z"
   },
   {
    "duration": 0,
    "start_time": "2024-05-29T12:46:44.312Z"
   },
   {
    "duration": 0,
    "start_time": "2024-05-29T12:46:44.313Z"
   },
   {
    "duration": 0,
    "start_time": "2024-05-29T12:46:44.314Z"
   },
   {
    "duration": 0,
    "start_time": "2024-05-29T12:46:44.315Z"
   },
   {
    "duration": 0,
    "start_time": "2024-05-29T12:46:44.316Z"
   },
   {
    "duration": 0,
    "start_time": "2024-05-29T12:46:44.318Z"
   },
   {
    "duration": 0,
    "start_time": "2024-05-29T12:46:44.319Z"
   },
   {
    "duration": 0,
    "start_time": "2024-05-29T12:46:44.320Z"
   },
   {
    "duration": 0,
    "start_time": "2024-05-29T12:46:44.321Z"
   },
   {
    "duration": 0,
    "start_time": "2024-05-29T12:46:44.322Z"
   },
   {
    "duration": 0,
    "start_time": "2024-05-29T12:46:44.324Z"
   },
   {
    "duration": 0,
    "start_time": "2024-05-29T12:46:44.325Z"
   },
   {
    "duration": 0,
    "start_time": "2024-05-29T12:46:44.326Z"
   },
   {
    "duration": 0,
    "start_time": "2024-05-29T12:46:44.327Z"
   },
   {
    "duration": 0,
    "start_time": "2024-05-29T12:46:44.328Z"
   },
   {
    "duration": 0,
    "start_time": "2024-05-29T12:46:44.329Z"
   },
   {
    "duration": 0,
    "start_time": "2024-05-29T12:46:44.330Z"
   },
   {
    "duration": 0,
    "start_time": "2024-05-29T12:46:44.331Z"
   },
   {
    "duration": 0,
    "start_time": "2024-05-29T12:46:44.333Z"
   },
   {
    "duration": 0,
    "start_time": "2024-05-29T12:46:44.333Z"
   },
   {
    "duration": 0,
    "start_time": "2024-05-29T12:46:44.335Z"
   },
   {
    "duration": 0,
    "start_time": "2024-05-29T12:46:44.335Z"
   },
   {
    "duration": 0,
    "start_time": "2024-05-29T12:46:44.336Z"
   },
   {
    "duration": 0,
    "start_time": "2024-05-29T12:46:44.338Z"
   },
   {
    "duration": 0,
    "start_time": "2024-05-29T12:46:44.339Z"
   },
   {
    "duration": 0,
    "start_time": "2024-05-29T12:46:44.340Z"
   },
   {
    "duration": 0,
    "start_time": "2024-05-29T12:46:44.341Z"
   },
   {
    "duration": 0,
    "start_time": "2024-05-29T12:46:44.342Z"
   },
   {
    "duration": 0,
    "start_time": "2024-05-29T12:46:44.343Z"
   },
   {
    "duration": 1,
    "start_time": "2024-05-29T12:46:44.343Z"
   },
   {
    "duration": 0,
    "start_time": "2024-05-29T12:46:44.345Z"
   },
   {
    "duration": 0,
    "start_time": "2024-05-29T12:46:44.346Z"
   },
   {
    "duration": 1450,
    "start_time": "2024-05-29T12:47:16.606Z"
   },
   {
    "duration": 441,
    "start_time": "2024-05-29T12:47:18.058Z"
   },
   {
    "duration": 5,
    "start_time": "2024-05-29T12:47:18.501Z"
   },
   {
    "duration": 106,
    "start_time": "2024-05-29T12:47:18.507Z"
   },
   {
    "duration": 91,
    "start_time": "2024-05-29T12:47:18.616Z"
   },
   {
    "duration": 113,
    "start_time": "2024-05-29T12:47:18.709Z"
   },
   {
    "duration": 26,
    "start_time": "2024-05-29T12:47:18.824Z"
   },
   {
    "duration": 53,
    "start_time": "2024-05-29T12:47:18.852Z"
   },
   {
    "duration": 14,
    "start_time": "2024-05-29T12:47:18.907Z"
   },
   {
    "duration": 6,
    "start_time": "2024-05-29T12:47:18.923Z"
   },
   {
    "duration": 7900,
    "start_time": "2024-05-29T12:47:18.931Z"
   },
   {
    "duration": 8011,
    "start_time": "2024-05-29T12:47:26.832Z"
   },
   {
    "duration": 7288,
    "start_time": "2024-05-29T12:47:34.845Z"
   },
   {
    "duration": 448,
    "start_time": "2024-05-29T12:47:42.137Z"
   },
   {
    "duration": 3,
    "start_time": "2024-05-29T12:47:42.587Z"
   },
   {
    "duration": 198,
    "start_time": "2024-05-29T12:47:42.592Z"
   },
   {
    "duration": 185,
    "start_time": "2024-05-29T12:47:42.792Z"
   },
   {
    "duration": 274,
    "start_time": "2024-05-29T12:47:42.980Z"
   },
   {
    "duration": 2,
    "start_time": "2024-05-29T12:47:43.256Z"
   },
   {
    "duration": 38,
    "start_time": "2024-05-29T12:47:43.260Z"
   },
   {
    "duration": 4,
    "start_time": "2024-05-29T12:47:43.300Z"
   },
   {
    "duration": 185,
    "start_time": "2024-05-29T12:47:43.305Z"
   },
   {
    "duration": 5,
    "start_time": "2024-05-29T12:47:43.492Z"
   },
   {
    "duration": 25,
    "start_time": "2024-05-29T12:47:43.498Z"
   },
   {
    "duration": 3,
    "start_time": "2024-05-29T12:47:43.525Z"
   },
   {
    "duration": 494,
    "start_time": "2024-05-29T12:47:43.530Z"
   },
   {
    "duration": 466,
    "start_time": "2024-05-29T12:47:44.026Z"
   },
   {
    "duration": 503,
    "start_time": "2024-05-29T12:47:44.493Z"
   },
   {
    "duration": 4,
    "start_time": "2024-05-29T12:47:44.998Z"
   },
   {
    "duration": 172,
    "start_time": "2024-05-29T12:47:45.004Z"
   },
   {
    "duration": 485,
    "start_time": "2024-05-29T12:47:45.178Z"
   },
   {
    "duration": 554,
    "start_time": "2024-05-29T12:47:45.671Z"
   },
   {
    "duration": 490,
    "start_time": "2024-05-29T12:47:46.227Z"
   },
   {
    "duration": 4,
    "start_time": "2024-05-29T12:47:46.719Z"
   },
   {
    "duration": 11,
    "start_time": "2024-05-29T12:47:46.725Z"
   },
   {
    "duration": 1020,
    "start_time": "2024-05-29T12:47:46.737Z"
   },
   {
    "duration": 27,
    "start_time": "2024-05-29T12:47:47.758Z"
   },
   {
    "duration": 4,
    "start_time": "2024-05-29T12:47:47.787Z"
   },
   {
    "duration": 33,
    "start_time": "2024-05-29T12:47:47.793Z"
   },
   {
    "duration": 14,
    "start_time": "2024-05-29T12:47:47.827Z"
   },
   {
    "duration": 15,
    "start_time": "2024-05-29T12:47:47.846Z"
   },
   {
    "duration": 13,
    "start_time": "2024-05-29T12:47:47.863Z"
   },
   {
    "duration": 110,
    "start_time": "2024-05-29T12:47:47.878Z"
   },
   {
    "duration": 11,
    "start_time": "2024-05-29T12:47:48.076Z"
   },
   {
    "duration": 91,
    "start_time": "2024-05-29T12:47:48.088Z"
   },
   {
    "duration": 28,
    "start_time": "2024-05-29T12:47:48.180Z"
   },
   {
    "duration": 7,
    "start_time": "2024-05-29T12:47:48.209Z"
   },
   {
    "duration": 1387,
    "start_time": "2024-05-29T12:47:48.218Z"
   },
   {
    "duration": 1364,
    "start_time": "2024-05-29T12:47:49.606Z"
   },
   {
    "duration": 1335,
    "start_time": "2024-05-29T12:47:50.976Z"
   },
   {
    "duration": 146,
    "start_time": "2024-05-29T13:10:18.023Z"
   },
   {
    "duration": 255,
    "start_time": "2024-05-29T13:10:45.012Z"
   },
   {
    "duration": 365,
    "start_time": "2024-05-29T13:11:42.202Z"
   },
   {
    "duration": 4,
    "start_time": "2024-05-29T13:17:53.191Z"
   },
   {
    "duration": 8,
    "start_time": "2024-05-29T14:02:21.635Z"
   },
   {
    "duration": 1209,
    "start_time": "2024-05-29T14:02:24.306Z"
   },
   {
    "duration": 1136,
    "start_time": "2024-05-29T14:02:29.130Z"
   },
   {
    "duration": 1307,
    "start_time": "2024-05-29T14:02:33.341Z"
   },
   {
    "duration": 7,
    "start_time": "2024-05-29T14:04:06.518Z"
   },
   {
    "duration": 1239,
    "start_time": "2024-05-29T14:04:08.985Z"
   },
   {
    "duration": 1248,
    "start_time": "2024-05-29T14:04:13.593Z"
   },
   {
    "duration": 1244,
    "start_time": "2024-05-29T14:04:17.392Z"
   },
   {
    "duration": 1384,
    "start_time": "2024-05-29T14:20:15.166Z"
   },
   {
    "duration": 427,
    "start_time": "2024-05-29T14:20:16.552Z"
   },
   {
    "duration": 4,
    "start_time": "2024-05-29T14:20:16.981Z"
   },
   {
    "duration": 98,
    "start_time": "2024-05-29T14:20:16.987Z"
   },
   {
    "duration": 94,
    "start_time": "2024-05-29T14:20:17.087Z"
   },
   {
    "duration": 100,
    "start_time": "2024-05-29T14:20:17.183Z"
   },
   {
    "duration": 27,
    "start_time": "2024-05-29T14:20:17.285Z"
   },
   {
    "duration": 28,
    "start_time": "2024-05-29T14:20:17.314Z"
   },
   {
    "duration": 33,
    "start_time": "2024-05-29T14:20:17.344Z"
   },
   {
    "duration": 6,
    "start_time": "2024-05-29T14:20:17.381Z"
   },
   {
    "duration": 6924,
    "start_time": "2024-05-29T14:20:17.389Z"
   },
   {
    "duration": 6985,
    "start_time": "2024-05-29T14:20:24.315Z"
   },
   {
    "duration": 6731,
    "start_time": "2024-05-29T14:20:31.301Z"
   },
   {
    "duration": 418,
    "start_time": "2024-05-29T14:20:38.033Z"
   },
   {
    "duration": 3,
    "start_time": "2024-05-29T14:20:38.453Z"
   },
   {
    "duration": 195,
    "start_time": "2024-05-29T14:20:38.458Z"
   },
   {
    "duration": 179,
    "start_time": "2024-05-29T14:20:38.655Z"
   },
   {
    "duration": 267,
    "start_time": "2024-05-29T14:20:38.835Z"
   },
   {
    "duration": 3,
    "start_time": "2024-05-29T14:20:39.103Z"
   },
   {
    "duration": 30,
    "start_time": "2024-05-29T14:20:39.107Z"
   },
   {
    "duration": 4,
    "start_time": "2024-05-29T14:20:39.139Z"
   },
   {
    "duration": 181,
    "start_time": "2024-05-29T14:20:39.144Z"
   },
   {
    "duration": 3,
    "start_time": "2024-05-29T14:20:39.327Z"
   },
   {
    "duration": 25,
    "start_time": "2024-05-29T14:20:39.332Z"
   },
   {
    "duration": 6,
    "start_time": "2024-05-29T14:20:39.359Z"
   },
   {
    "duration": 479,
    "start_time": "2024-05-29T14:20:39.367Z"
   },
   {
    "duration": 407,
    "start_time": "2024-05-29T14:20:39.847Z"
   },
   {
    "duration": 428,
    "start_time": "2024-05-29T14:20:40.256Z"
   },
   {
    "duration": 4,
    "start_time": "2024-05-29T14:20:40.685Z"
   },
   {
    "duration": 119,
    "start_time": "2024-05-29T14:20:40.690Z"
   },
   {
    "duration": 444,
    "start_time": "2024-05-29T14:20:40.811Z"
   },
   {
    "duration": 509,
    "start_time": "2024-05-29T14:20:41.257Z"
   },
   {
    "duration": 424,
    "start_time": "2024-05-29T14:20:41.767Z"
   },
   {
    "duration": 4,
    "start_time": "2024-05-29T14:20:42.193Z"
   },
   {
    "duration": 11,
    "start_time": "2024-05-29T14:20:42.199Z"
   },
   {
    "duration": 1011,
    "start_time": "2024-05-29T14:20:42.212Z"
   },
   {
    "duration": 14,
    "start_time": "2024-05-29T14:20:43.225Z"
   },
   {
    "duration": 12,
    "start_time": "2024-05-29T14:20:43.240Z"
   },
   {
    "duration": 22,
    "start_time": "2024-05-29T14:20:43.253Z"
   },
   {
    "duration": 11,
    "start_time": "2024-05-29T14:20:43.277Z"
   },
   {
    "duration": 23,
    "start_time": "2024-05-29T14:20:43.290Z"
   },
   {
    "duration": 13,
    "start_time": "2024-05-29T14:20:43.315Z"
   },
   {
    "duration": 237,
    "start_time": "2024-05-29T14:20:43.329Z"
   },
   {
    "duration": 6,
    "start_time": "2024-05-29T14:20:43.568Z"
   },
   {
    "duration": 6,
    "start_time": "2024-05-29T14:20:43.666Z"
   },
   {
    "duration": 41,
    "start_time": "2024-05-29T14:20:43.673Z"
   },
   {
    "duration": 5,
    "start_time": "2024-05-29T14:20:43.715Z"
   },
   {
    "duration": 1214,
    "start_time": "2024-05-29T14:20:43.722Z"
   },
   {
    "duration": 1202,
    "start_time": "2024-05-29T14:20:44.938Z"
   },
   {
    "duration": 1248,
    "start_time": "2024-05-29T14:20:46.141Z"
   },
   {
    "duration": 1336,
    "start_time": "2024-05-29T14:33:13.451Z"
   },
   {
    "duration": 385,
    "start_time": "2024-05-29T14:33:14.789Z"
   },
   {
    "duration": 5,
    "start_time": "2024-05-29T14:33:15.176Z"
   },
   {
    "duration": 103,
    "start_time": "2024-05-29T14:33:15.183Z"
   },
   {
    "duration": 131,
    "start_time": "2024-05-29T14:33:15.288Z"
   },
   {
    "duration": 92,
    "start_time": "2024-05-29T14:33:15.420Z"
   },
   {
    "duration": 25,
    "start_time": "2024-05-29T14:33:15.514Z"
   },
   {
    "duration": 46,
    "start_time": "2024-05-29T14:33:15.541Z"
   },
   {
    "duration": 13,
    "start_time": "2024-05-29T14:33:15.589Z"
   },
   {
    "duration": 5,
    "start_time": "2024-05-29T14:33:15.604Z"
   },
   {
    "duration": 6852,
    "start_time": "2024-05-29T14:33:15.610Z"
   },
   {
    "duration": 6741,
    "start_time": "2024-05-29T14:33:22.465Z"
   },
   {
    "duration": 6881,
    "start_time": "2024-05-29T14:33:29.208Z"
   },
   {
    "duration": 409,
    "start_time": "2024-05-29T14:33:36.091Z"
   },
   {
    "duration": 3,
    "start_time": "2024-05-29T14:33:36.502Z"
   },
   {
    "duration": 177,
    "start_time": "2024-05-29T14:33:36.506Z"
   },
   {
    "duration": 168,
    "start_time": "2024-05-29T14:33:36.684Z"
   },
   {
    "duration": 240,
    "start_time": "2024-05-29T14:33:36.854Z"
   },
   {
    "duration": 2,
    "start_time": "2024-05-29T14:33:37.096Z"
   },
   {
    "duration": 29,
    "start_time": "2024-05-29T14:33:37.100Z"
   },
   {
    "duration": 4,
    "start_time": "2024-05-29T14:33:37.131Z"
   },
   {
    "duration": 176,
    "start_time": "2024-05-29T14:33:37.137Z"
   },
   {
    "duration": 4,
    "start_time": "2024-05-29T14:33:37.314Z"
   },
   {
    "duration": 16,
    "start_time": "2024-05-29T14:33:37.320Z"
   },
   {
    "duration": 3,
    "start_time": "2024-05-29T14:33:37.338Z"
   },
   {
    "duration": 435,
    "start_time": "2024-05-29T14:33:37.342Z"
   },
   {
    "duration": 404,
    "start_time": "2024-05-29T14:33:37.779Z"
   },
   {
    "duration": 425,
    "start_time": "2024-05-29T14:33:38.187Z"
   },
   {
    "duration": 4,
    "start_time": "2024-05-29T14:33:38.614Z"
   },
   {
    "duration": 123,
    "start_time": "2024-05-29T14:33:38.619Z"
   },
   {
    "duration": 435,
    "start_time": "2024-05-29T14:33:38.744Z"
   },
   {
    "duration": 506,
    "start_time": "2024-05-29T14:33:39.180Z"
   },
   {
    "duration": 424,
    "start_time": "2024-05-29T14:33:39.687Z"
   },
   {
    "duration": 5,
    "start_time": "2024-05-29T14:33:40.112Z"
   },
   {
    "duration": 15,
    "start_time": "2024-05-29T14:33:40.119Z"
   },
   {
    "duration": 951,
    "start_time": "2024-05-29T14:33:40.135Z"
   },
   {
    "duration": 14,
    "start_time": "2024-05-29T14:33:41.087Z"
   },
   {
    "duration": 3,
    "start_time": "2024-05-29T14:33:41.103Z"
   },
   {
    "duration": 13,
    "start_time": "2024-05-29T14:33:41.107Z"
   },
   {
    "duration": 10,
    "start_time": "2024-05-29T14:33:41.122Z"
   },
   {
    "duration": 38,
    "start_time": "2024-05-29T14:33:41.133Z"
   },
   {
    "duration": 4,
    "start_time": "2024-05-29T14:33:41.173Z"
   },
   {
    "duration": 195,
    "start_time": "2024-05-29T14:33:41.178Z"
   },
   {
    "duration": 6,
    "start_time": "2024-05-29T14:33:41.466Z"
   },
   {
    "duration": 93,
    "start_time": "2024-05-29T14:33:41.474Z"
   },
   {
    "duration": 20,
    "start_time": "2024-05-29T14:33:41.568Z"
   },
   {
    "duration": 5,
    "start_time": "2024-05-29T14:33:41.589Z"
   },
   {
    "duration": 1211,
    "start_time": "2024-05-29T14:33:41.595Z"
   },
   {
    "duration": 1158,
    "start_time": "2024-05-29T14:33:42.808Z"
   },
   {
    "duration": 1174,
    "start_time": "2024-05-29T14:33:43.968Z"
   },
   {
    "duration": 1727,
    "start_time": "2024-05-30T07:08:38.118Z"
   },
   {
    "duration": 1708,
    "start_time": "2024-05-30T07:08:39.848Z"
   },
   {
    "duration": 7,
    "start_time": "2024-05-30T07:08:41.558Z"
   },
   {
    "duration": 125,
    "start_time": "2024-05-30T07:08:41.568Z"
   },
   {
    "duration": 109,
    "start_time": "2024-05-30T07:08:41.696Z"
   },
   {
    "duration": 119,
    "start_time": "2024-05-30T07:08:41.807Z"
   },
   {
    "duration": 32,
    "start_time": "2024-05-30T07:08:41.928Z"
   },
   {
    "duration": 51,
    "start_time": "2024-05-30T07:08:41.962Z"
   },
   {
    "duration": 14,
    "start_time": "2024-05-30T07:08:42.016Z"
   },
   {
    "duration": 5,
    "start_time": "2024-05-30T07:08:42.033Z"
   },
   {
    "duration": 8193,
    "start_time": "2024-05-30T07:08:42.040Z"
   },
   {
    "duration": 8420,
    "start_time": "2024-05-30T07:08:50.235Z"
   },
   {
    "duration": 8408,
    "start_time": "2024-05-30T07:08:58.656Z"
   },
   {
    "duration": 534,
    "start_time": "2024-05-30T07:09:07.066Z"
   },
   {
    "duration": 4,
    "start_time": "2024-05-30T07:09:07.602Z"
   },
   {
    "duration": 216,
    "start_time": "2024-05-30T07:09:07.608Z"
   },
   {
    "duration": 207,
    "start_time": "2024-05-30T07:09:07.826Z"
   },
   {
    "duration": 281,
    "start_time": "2024-05-30T07:09:08.034Z"
   },
   {
    "duration": 3,
    "start_time": "2024-05-30T07:09:08.317Z"
   },
   {
    "duration": 39,
    "start_time": "2024-05-30T07:09:08.321Z"
   },
   {
    "duration": 4,
    "start_time": "2024-05-30T07:09:08.361Z"
   },
   {
    "duration": 203,
    "start_time": "2024-05-30T07:09:08.367Z"
   },
   {
    "duration": 5,
    "start_time": "2024-05-30T07:09:08.572Z"
   },
   {
    "duration": 25,
    "start_time": "2024-05-30T07:09:08.592Z"
   },
   {
    "duration": 4,
    "start_time": "2024-05-30T07:09:08.618Z"
   },
   {
    "duration": 539,
    "start_time": "2024-05-30T07:09:08.624Z"
   },
   {
    "duration": 469,
    "start_time": "2024-05-30T07:09:09.165Z"
   },
   {
    "duration": 558,
    "start_time": "2024-05-30T07:09:09.637Z"
   },
   {
    "duration": 5,
    "start_time": "2024-05-30T07:09:10.197Z"
   },
   {
    "duration": 139,
    "start_time": "2024-05-30T07:09:10.204Z"
   },
   {
    "duration": 533,
    "start_time": "2024-05-30T07:09:10.345Z"
   },
   {
    "duration": 617,
    "start_time": "2024-05-30T07:09:10.880Z"
   },
   {
    "duration": 521,
    "start_time": "2024-05-30T07:09:11.498Z"
   },
   {
    "duration": 7,
    "start_time": "2024-05-30T07:09:12.021Z"
   },
   {
    "duration": 33,
    "start_time": "2024-05-30T07:09:12.031Z"
   },
   {
    "duration": 1074,
    "start_time": "2024-05-30T07:09:12.066Z"
   },
   {
    "duration": 14,
    "start_time": "2024-05-30T07:09:13.141Z"
   },
   {
    "duration": 6,
    "start_time": "2024-05-30T07:09:13.157Z"
   },
   {
    "duration": 41,
    "start_time": "2024-05-30T07:09:13.165Z"
   },
   {
    "duration": 15,
    "start_time": "2024-05-30T07:09:13.209Z"
   },
   {
    "duration": 15,
    "start_time": "2024-05-30T07:09:13.226Z"
   },
   {
    "duration": 4,
    "start_time": "2024-05-30T07:09:13.243Z"
   },
   {
    "duration": 265,
    "start_time": "2024-05-30T07:09:13.249Z"
   },
   {
    "duration": 95,
    "start_time": "2024-05-30T07:09:13.597Z"
   },
   {
    "duration": 4,
    "start_time": "2024-05-30T07:09:13.695Z"
   },
   {
    "duration": 30,
    "start_time": "2024-05-30T07:09:13.702Z"
   },
   {
    "duration": 6,
    "start_time": "2024-05-30T07:09:13.733Z"
   },
   {
    "duration": 1424,
    "start_time": "2024-05-30T07:09:13.741Z"
   },
   {
    "duration": 1377,
    "start_time": "2024-05-30T07:09:15.167Z"
   },
   {
    "duration": 1421,
    "start_time": "2024-05-30T07:09:16.546Z"
   },
   {
    "duration": 3,
    "start_time": "2024-05-30T07:18:17.723Z"
   },
   {
    "duration": 5,
    "start_time": "2024-05-30T07:18:51.020Z"
   },
   {
    "duration": 16,
    "start_time": "2024-05-30T07:18:55.770Z"
   },
   {
    "duration": 12,
    "start_time": "2024-05-30T07:19:01.396Z"
   },
   {
    "duration": 15,
    "start_time": "2024-05-30T07:19:04.429Z"
   },
   {
    "duration": 4,
    "start_time": "2024-05-30T07:19:08.714Z"
   },
   {
    "duration": 299,
    "start_time": "2024-05-30T07:19:17.192Z"
   },
   {
    "duration": 5,
    "start_time": "2024-05-30T07:19:53.293Z"
   },
   {
    "duration": 4,
    "start_time": "2024-05-30T07:20:12.547Z"
   },
   {
    "duration": 20,
    "start_time": "2024-05-30T07:20:17.083Z"
   },
   {
    "duration": 6,
    "start_time": "2024-05-30T07:20:42.857Z"
   },
   {
    "duration": 1339,
    "start_time": "2024-05-30T07:20:51.540Z"
   },
   {
    "duration": 1335,
    "start_time": "2024-05-30T07:20:57.563Z"
   },
   {
    "duration": 1430,
    "start_time": "2024-05-30T07:21:06.339Z"
   },
   {
    "duration": 1552,
    "start_time": "2024-05-30T07:22:11.666Z"
   },
   {
    "duration": 450,
    "start_time": "2024-05-30T07:22:13.221Z"
   },
   {
    "duration": 5,
    "start_time": "2024-05-30T07:22:13.673Z"
   },
   {
    "duration": 117,
    "start_time": "2024-05-30T07:22:13.680Z"
   },
   {
    "duration": 109,
    "start_time": "2024-05-30T07:22:13.801Z"
   },
   {
    "duration": 122,
    "start_time": "2024-05-30T07:22:13.912Z"
   },
   {
    "duration": 30,
    "start_time": "2024-05-30T07:22:14.036Z"
   },
   {
    "duration": 51,
    "start_time": "2024-05-30T07:22:14.067Z"
   },
   {
    "duration": 13,
    "start_time": "2024-05-30T07:22:14.120Z"
   },
   {
    "duration": 5,
    "start_time": "2024-05-30T07:22:14.135Z"
   },
   {
    "duration": 7712,
    "start_time": "2024-05-30T07:22:14.141Z"
   },
   {
    "duration": 7993,
    "start_time": "2024-05-30T07:22:21.855Z"
   },
   {
    "duration": 7870,
    "start_time": "2024-05-30T07:22:29.850Z"
   },
   {
    "duration": 482,
    "start_time": "2024-05-30T07:22:37.724Z"
   },
   {
    "duration": 4,
    "start_time": "2024-05-30T07:22:38.209Z"
   },
   {
    "duration": 211,
    "start_time": "2024-05-30T07:22:38.215Z"
   },
   {
    "duration": 195,
    "start_time": "2024-05-30T07:22:38.428Z"
   },
   {
    "duration": 280,
    "start_time": "2024-05-30T07:22:38.625Z"
   },
   {
    "duration": 3,
    "start_time": "2024-05-30T07:22:38.907Z"
   },
   {
    "duration": 58,
    "start_time": "2024-05-30T07:22:38.912Z"
   },
   {
    "duration": 4,
    "start_time": "2024-05-30T07:22:38.972Z"
   },
   {
    "duration": 190,
    "start_time": "2024-05-30T07:22:38.978Z"
   },
   {
    "duration": 6,
    "start_time": "2024-05-30T07:22:39.170Z"
   },
   {
    "duration": 33,
    "start_time": "2024-05-30T07:22:39.178Z"
   },
   {
    "duration": 5,
    "start_time": "2024-05-30T07:22:39.213Z"
   },
   {
    "duration": 536,
    "start_time": "2024-05-30T07:22:39.220Z"
   },
   {
    "duration": 472,
    "start_time": "2024-05-30T07:22:39.758Z"
   },
   {
    "duration": 524,
    "start_time": "2024-05-30T07:22:40.231Z"
   },
   {
    "duration": 4,
    "start_time": "2024-05-30T07:22:40.757Z"
   },
   {
    "duration": 134,
    "start_time": "2024-05-30T07:22:40.763Z"
   },
   {
    "duration": 517,
    "start_time": "2024-05-30T07:22:40.899Z"
   },
   {
    "duration": 576,
    "start_time": "2024-05-30T07:22:41.418Z"
   },
   {
    "duration": 498,
    "start_time": "2024-05-30T07:22:41.996Z"
   },
   {
    "duration": 5,
    "start_time": "2024-05-30T07:22:42.497Z"
   },
   {
    "duration": 25,
    "start_time": "2024-05-30T07:22:42.504Z"
   },
   {
    "duration": 1056,
    "start_time": "2024-05-30T07:22:42.532Z"
   },
   {
    "duration": 2,
    "start_time": "2024-05-30T07:22:43.592Z"
   },
   {
    "duration": 19,
    "start_time": "2024-05-30T07:22:43.596Z"
   },
   {
    "duration": 17,
    "start_time": "2024-05-30T07:22:43.616Z"
   },
   {
    "duration": 17,
    "start_time": "2024-05-30T07:22:43.635Z"
   },
   {
    "duration": 14,
    "start_time": "2024-05-30T07:22:43.656Z"
   },
   {
    "duration": 20,
    "start_time": "2024-05-30T07:22:43.672Z"
   },
   {
    "duration": 204,
    "start_time": "2024-05-30T07:22:43.693Z"
   },
   {
    "duration": 93,
    "start_time": "2024-05-30T07:22:43.899Z"
   },
   {
    "duration": 9,
    "start_time": "2024-05-30T07:22:43.995Z"
   },
   {
    "duration": 159,
    "start_time": "2024-05-30T07:22:44.006Z"
   },
   {
    "duration": 9,
    "start_time": "2024-05-30T07:22:44.167Z"
   },
   {
    "duration": 1427,
    "start_time": "2024-05-30T07:22:44.178Z"
   },
   {
    "duration": 1405,
    "start_time": "2024-05-30T07:22:45.607Z"
   },
   {
    "duration": 1349,
    "start_time": "2024-05-30T07:22:47.015Z"
   },
   {
    "duration": 1368,
    "start_time": "2024-05-30T07:27:27.051Z"
   },
   {
    "duration": 59,
    "start_time": "2024-05-30T09:03:54.615Z"
   },
   {
    "duration": 82,
    "start_time": "2024-05-30T09:07:14.943Z"
   },
   {
    "duration": 1439,
    "start_time": "2024-05-30T09:07:39.632Z"
   },
   {
    "duration": 443,
    "start_time": "2024-05-30T09:07:41.074Z"
   },
   {
    "duration": 6,
    "start_time": "2024-05-30T09:07:41.521Z"
   },
   {
    "duration": 138,
    "start_time": "2024-05-30T09:07:41.530Z"
   },
   {
    "duration": 98,
    "start_time": "2024-05-30T09:07:41.669Z"
   },
   {
    "duration": 124,
    "start_time": "2024-05-30T09:07:41.768Z"
   },
   {
    "duration": 29,
    "start_time": "2024-05-30T09:07:41.894Z"
   },
   {
    "duration": 41,
    "start_time": "2024-05-30T09:07:41.925Z"
   },
   {
    "duration": 36,
    "start_time": "2024-05-30T09:07:41.968Z"
   },
   {
    "duration": 6,
    "start_time": "2024-05-30T09:07:42.007Z"
   },
   {
    "duration": 8119,
    "start_time": "2024-05-30T09:07:42.016Z"
   },
   {
    "duration": 7623,
    "start_time": "2024-05-30T09:07:50.136Z"
   },
   {
    "duration": 7752,
    "start_time": "2024-05-30T09:07:57.762Z"
   },
   {
    "duration": 439,
    "start_time": "2024-05-30T09:08:05.516Z"
   },
   {
    "duration": 4,
    "start_time": "2024-05-30T09:08:05.957Z"
   },
   {
    "duration": 205,
    "start_time": "2024-05-30T09:08:05.962Z"
   },
   {
    "duration": 188,
    "start_time": "2024-05-30T09:08:06.169Z"
   },
   {
    "duration": 279,
    "start_time": "2024-05-30T09:08:06.358Z"
   },
   {
    "duration": 4,
    "start_time": "2024-05-30T09:08:06.638Z"
   },
   {
    "duration": 53,
    "start_time": "2024-05-30T09:08:06.643Z"
   },
   {
    "duration": 5,
    "start_time": "2024-05-30T09:08:06.698Z"
   },
   {
    "duration": 227,
    "start_time": "2024-05-30T09:08:06.705Z"
   },
   {
    "duration": 5,
    "start_time": "2024-05-30T09:08:06.935Z"
   },
   {
    "duration": 63,
    "start_time": "2024-05-30T09:08:06.941Z"
   },
   {
    "duration": 11,
    "start_time": "2024-05-30T09:08:07.006Z"
   },
   {
    "duration": 479,
    "start_time": "2024-05-30T09:08:07.019Z"
   },
   {
    "duration": 458,
    "start_time": "2024-05-30T09:08:07.500Z"
   },
   {
    "duration": 524,
    "start_time": "2024-05-30T09:08:07.960Z"
   },
   {
    "duration": 4,
    "start_time": "2024-05-30T09:08:08.490Z"
   },
   {
    "duration": 184,
    "start_time": "2024-05-30T09:08:08.496Z"
   },
   {
    "duration": 463,
    "start_time": "2024-05-30T09:08:08.682Z"
   },
   {
    "duration": 564,
    "start_time": "2024-05-30T09:08:09.147Z"
   },
   {
    "duration": 521,
    "start_time": "2024-05-30T09:08:09.713Z"
   },
   {
    "duration": 4,
    "start_time": "2024-05-30T09:08:10.236Z"
   },
   {
    "duration": 21,
    "start_time": "2024-05-30T09:08:10.241Z"
   },
   {
    "duration": 1077,
    "start_time": "2024-05-30T09:08:10.264Z"
   },
   {
    "duration": 4,
    "start_time": "2024-05-30T09:08:11.343Z"
   },
   {
    "duration": 11,
    "start_time": "2024-05-30T09:08:11.349Z"
   },
   {
    "duration": 22,
    "start_time": "2024-05-30T09:08:11.361Z"
   },
   {
    "duration": 14,
    "start_time": "2024-05-30T09:08:11.391Z"
   },
   {
    "duration": 15,
    "start_time": "2024-05-30T09:08:11.406Z"
   },
   {
    "duration": 10,
    "start_time": "2024-05-30T09:08:11.423Z"
   },
   {
    "duration": 260,
    "start_time": "2024-05-30T09:08:11.434Z"
   },
   {
    "duration": 98,
    "start_time": "2024-05-30T09:08:11.696Z"
   },
   {
    "duration": 29,
    "start_time": "2024-05-30T09:08:11.796Z"
   },
   {
    "duration": 62,
    "start_time": "2024-05-30T09:08:11.827Z"
   },
   {
    "duration": 6,
    "start_time": "2024-05-30T09:08:11.890Z"
   },
   {
    "duration": 1349,
    "start_time": "2024-05-30T09:08:11.897Z"
   },
   {
    "duration": 1311,
    "start_time": "2024-05-30T09:08:13.249Z"
   },
   {
    "duration": 1297,
    "start_time": "2024-05-30T09:08:14.561Z"
   },
   {
    "duration": 1459,
    "start_time": "2024-07-13T02:21:38.848Z"
   },
   {
    "duration": 871,
    "start_time": "2024-07-13T02:21:40.309Z"
   },
   {
    "duration": 4,
    "start_time": "2024-07-13T02:21:41.182Z"
   },
   {
    "duration": 75,
    "start_time": "2024-07-13T02:21:41.188Z"
   },
   {
    "duration": 84,
    "start_time": "2024-07-13T02:21:41.264Z"
   },
   {
    "duration": 72,
    "start_time": "2024-07-13T02:21:41.690Z"
   },
   {
    "duration": 22,
    "start_time": "2024-07-13T02:21:43.369Z"
   },
   {
    "duration": 22,
    "start_time": "2024-07-13T02:21:43.917Z"
   },
   {
    "duration": 25,
    "start_time": "2024-07-13T02:21:59.169Z"
   },
   {
    "duration": 22,
    "start_time": "2024-07-13T02:22:26.576Z"
   },
   {
    "duration": 11,
    "start_time": "2024-07-13T02:22:35.404Z"
   },
   {
    "duration": 3,
    "start_time": "2024-07-13T02:22:35.783Z"
   },
   {
    "duration": 6309,
    "start_time": "2024-07-13T02:22:36.271Z"
   },
   {
    "duration": 6377,
    "start_time": "2024-07-13T02:22:42.582Z"
   },
   {
    "duration": 6058,
    "start_time": "2024-07-13T02:22:48.961Z"
   },
   {
    "duration": 373,
    "start_time": "2024-07-13T02:22:55.021Z"
   },
   {
    "duration": 3,
    "start_time": "2024-07-13T02:22:55.395Z"
   },
   {
    "duration": 164,
    "start_time": "2024-07-13T02:22:55.401Z"
   },
   {
    "duration": 136,
    "start_time": "2024-07-13T02:22:55.566Z"
   },
   {
    "duration": 142,
    "start_time": "2024-07-13T02:22:55.704Z"
   },
   {
    "duration": 2,
    "start_time": "2024-07-13T02:22:57.059Z"
   },
   {
    "duration": 6,
    "start_time": "2024-07-13T02:32:47.868Z"
   }
  ],
  "kernelspec": {
   "display_name": "Python 3 (ipykernel)",
   "language": "python",
   "name": "python3"
  },
  "language_info": {
   "codemirror_mode": {
    "name": "ipython",
    "version": 3
   },
   "file_extension": ".py",
   "mimetype": "text/x-python",
   "name": "python",
   "nbconvert_exporter": "python",
   "pygments_lexer": "ipython3",
   "version": "3.11.7"
  },
  "toc": {
   "base_numbering": 1,
   "nav_menu": {},
   "number_sections": true,
   "sideBar": true,
   "skip_h1_title": true,
   "title_cell": "Table of Contents",
   "title_sidebar": "Contents",
   "toc_cell": false,
   "toc_position": {
    "height": "calc(100% - 180px)",
    "left": "10px",
    "top": "150px",
    "width": "165px"
   },
   "toc_section_display": true,
   "toc_window_display": true
  }
 },
 "nbformat": 4,
 "nbformat_minor": 2
}
