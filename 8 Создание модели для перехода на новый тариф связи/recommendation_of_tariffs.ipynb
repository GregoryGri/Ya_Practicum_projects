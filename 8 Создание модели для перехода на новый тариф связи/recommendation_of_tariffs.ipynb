{
 "cells": [
  {
   "cell_type": "markdown",
   "metadata": {},
   "source": [
    "# Рекомендация тарифов"
   ]
  },
  {
   "cell_type": "markdown",
   "metadata": {},
   "source": [
    "## Описание проекта"
   ]
  },
  {
   "cell_type": "markdown",
   "metadata": {},
   "source": [
    "Оператор мобильной связи «Мегалайн» выяснил: многие клиенты пользуются архивными тарифами. Они хотят построить систему, способную проанализировать поведение клиентов и предложить пользователям новый тариф: «Смарт» или «Ультра».\n",
    "\n",
    "\n",
    "В вашем распоряжении данные о поведении клиентов, которые уже перешли на эти тарифы . Нужно построить модель для задачи классификации, которая выберет подходящий тариф. Данные уже прошли предварительную обработку.\n"
   ]
  },
  {
   "cell_type": "markdown",
   "metadata": {},
   "source": [
    "## Цель проекта"
   ]
  },
  {
   "cell_type": "markdown",
   "metadata": {},
   "source": [
    "Необходимо построить модель, которая спрогнозирует подходящий тариф для клиента. Метрика качества модели - *accuracy*. Требования по метрике - не менее 0.75."
   ]
  },
  {
   "cell_type": "markdown",
   "metadata": {},
   "source": [
    "## План работы"
   ]
  },
  {
   "cell_type": "markdown",
   "metadata": {},
   "source": [
    "1. Загрузка данных.\n",
    "2. Подготовка выборок для машинного обучения.\n",
    "3. Обучение моделей.\n",
    "4. Проверка качества моделей на тестовой выборке."
   ]
  },
  {
   "cell_type": "markdown",
   "metadata": {},
   "source": [
    "## Описание данных"
   ]
  },
  {
   "cell_type": "markdown",
   "metadata": {},
   "source": [
    "Каждый объект в наборе данных — это информация о поведении одного пользователя за месяц. Известно:\n",
    "\n",
    "- **сalls** — количество звонков,\n",
    "- **minutes** — суммарная длительность звонков в минутах,\n",
    "- **messages** — количество sms-сообщений,\n",
    "- **mb_used** — израсходованный интернет-трафик в Мб,\n",
    "- **is_ultra** — каким тарифом пользовался в течение месяца («Ультра» — 1, «Смарт» — 0)."
   ]
  },
  {
   "cell_type": "markdown",
   "metadata": {},
   "source": [
    "## Настройка окружения"
   ]
  },
  {
   "cell_type": "code",
   "execution_count": 1,
   "metadata": {},
   "outputs": [],
   "source": [
    "# подключаем необходимые библиотеки\n",
    "import pandas as pd\n",
    "import numpy as np\n",
    "from sklearn.model_selection import train_test_split\n",
    "from sklearn.linear_model import LogisticRegression\n",
    "from sklearn.ensemble import RandomForestClassifier\n",
    "from sklearn.tree import DecisionTreeClassifier\n",
    "from sklearn.metrics import accuracy_score"
   ]
  },
  {
   "cell_type": "markdown",
   "metadata": {},
   "source": [
    "## Загрузка данных"
   ]
  },
  {
   "cell_type": "code",
   "execution_count": 2,
   "metadata": {},
   "outputs": [],
   "source": [
    "# загрузим предоставленный датасет\n",
    "try:\n",
    "    df = pd.read_csv('/datasets/users_behavior.csv')\n",
    "\n",
    "except:\n",
    "    df = pd.read_csv('https://code.s3.yandex.net/datasets/users_behavior.csv')"
   ]
  },
  {
   "cell_type": "markdown",
   "metadata": {},
   "source": [
    "## Изучение данных"
   ]
  },
  {
   "cell_type": "code",
   "execution_count": 3,
   "metadata": {
    "scrolled": true
   },
   "outputs": [
    {
     "name": "stdout",
     "output_type": "stream",
     "text": [
      "<class 'pandas.core.frame.DataFrame'>\n",
      "RangeIndex: 3214 entries, 0 to 3213\n",
      "Data columns (total 5 columns):\n",
      " #   Column    Non-Null Count  Dtype  \n",
      "---  ------    --------------  -----  \n",
      " 0   calls     3214 non-null   float64\n",
      " 1   minutes   3214 non-null   float64\n",
      " 2   messages  3214 non-null   float64\n",
      " 3   mb_used   3214 non-null   float64\n",
      " 4   is_ultra  3214 non-null   int64  \n",
      "dtypes: float64(4), int64(1)\n",
      "memory usage: 125.7 KB\n"
     ]
    }
   ],
   "source": [
    "# изучим общую информацию о датафрейме\n",
    "df.info()"
   ]
  },
  {
   "cell_type": "code",
   "execution_count": 4,
   "metadata": {
    "scrolled": false
   },
   "outputs": [
    {
     "data": {
      "text/html": [
       "<div>\n",
       "<style scoped>\n",
       "    .dataframe tbody tr th:only-of-type {\n",
       "        vertical-align: middle;\n",
       "    }\n",
       "\n",
       "    .dataframe tbody tr th {\n",
       "        vertical-align: top;\n",
       "    }\n",
       "\n",
       "    .dataframe thead th {\n",
       "        text-align: right;\n",
       "    }\n",
       "</style>\n",
       "<table border=\"1\" class=\"dataframe\">\n",
       "  <thead>\n",
       "    <tr style=\"text-align: right;\">\n",
       "      <th></th>\n",
       "      <th>calls</th>\n",
       "      <th>minutes</th>\n",
       "      <th>messages</th>\n",
       "      <th>mb_used</th>\n",
       "      <th>is_ultra</th>\n",
       "    </tr>\n",
       "  </thead>\n",
       "  <tbody>\n",
       "    <tr>\n",
       "      <th>0</th>\n",
       "      <td>40.0</td>\n",
       "      <td>311.90</td>\n",
       "      <td>83.0</td>\n",
       "      <td>19915.42</td>\n",
       "      <td>0</td>\n",
       "    </tr>\n",
       "    <tr>\n",
       "      <th>1</th>\n",
       "      <td>85.0</td>\n",
       "      <td>516.75</td>\n",
       "      <td>56.0</td>\n",
       "      <td>22696.96</td>\n",
       "      <td>0</td>\n",
       "    </tr>\n",
       "    <tr>\n",
       "      <th>2</th>\n",
       "      <td>77.0</td>\n",
       "      <td>467.66</td>\n",
       "      <td>86.0</td>\n",
       "      <td>21060.45</td>\n",
       "      <td>0</td>\n",
       "    </tr>\n",
       "    <tr>\n",
       "      <th>3</th>\n",
       "      <td>106.0</td>\n",
       "      <td>745.53</td>\n",
       "      <td>81.0</td>\n",
       "      <td>8437.39</td>\n",
       "      <td>1</td>\n",
       "    </tr>\n",
       "    <tr>\n",
       "      <th>4</th>\n",
       "      <td>66.0</td>\n",
       "      <td>418.74</td>\n",
       "      <td>1.0</td>\n",
       "      <td>14502.75</td>\n",
       "      <td>0</td>\n",
       "    </tr>\n",
       "  </tbody>\n",
       "</table>\n",
       "</div>"
      ],
      "text/plain": [
       "   calls  minutes  messages   mb_used  is_ultra\n",
       "0   40.0   311.90      83.0  19915.42         0\n",
       "1   85.0   516.75      56.0  22696.96         0\n",
       "2   77.0   467.66      86.0  21060.45         0\n",
       "3  106.0   745.53      81.0   8437.39         1\n",
       "4   66.0   418.74       1.0  14502.75         0"
      ]
     },
     "execution_count": 4,
     "metadata": {},
     "output_type": "execute_result"
    }
   ],
   "source": [
    "df.head()"
   ]
  },
  {
   "cell_type": "markdown",
   "metadata": {},
   "source": [
    "Датафрейм имеет 5 столбцов и 3214 строк."
   ]
  },
  {
   "cell_type": "code",
   "execution_count": 5,
   "metadata": {},
   "outputs": [
    {
     "data": {
      "text/plain": [
       "0"
      ]
     },
     "execution_count": 5,
     "metadata": {},
     "output_type": "execute_result"
    }
   ],
   "source": [
    "# Проверим на дубликаты\n",
    "df.duplicated().sum()"
   ]
  },
  {
   "cell_type": "markdown",
   "metadata": {},
   "source": [
    "Дубликаты отстутствуют."
   ]
  },
  {
   "cell_type": "code",
   "execution_count": 6,
   "metadata": {
    "scrolled": true
   },
   "outputs": [
    {
     "data": {
      "text/plain": [
       "calls       0\n",
       "minutes     0\n",
       "messages    0\n",
       "mb_used     0\n",
       "is_ultra    0\n",
       "dtype: int64"
      ]
     },
     "execution_count": 6,
     "metadata": {},
     "output_type": "execute_result"
    }
   ],
   "source": [
    "# Проверим на наличие пропусков.\n",
    "df.isna().sum()"
   ]
  },
  {
   "cell_type": "markdown",
   "metadata": {},
   "source": [
    "Пропуски отсутствуют."
   ]
  },
  {
   "cell_type": "markdown",
   "metadata": {},
   "source": [
    "Изменим тип данных в столбцах 'calls' и 'messages', так как количество звонком и сообщений - целые числа."
   ]
  },
  {
   "cell_type": "code",
   "execution_count": 7,
   "metadata": {},
   "outputs": [],
   "source": [
    "df['calls'] = df['calls'].astype(int)\n",
    "df['messages'] = df['messages'].astype(int)"
   ]
  },
  {
   "cell_type": "code",
   "execution_count": 8,
   "metadata": {},
   "outputs": [
    {
     "name": "stdout",
     "output_type": "stream",
     "text": [
      "<class 'pandas.core.frame.DataFrame'>\n",
      "RangeIndex: 3214 entries, 0 to 3213\n",
      "Data columns (total 5 columns):\n",
      " #   Column    Non-Null Count  Dtype  \n",
      "---  ------    --------------  -----  \n",
      " 0   calls     3214 non-null   int32  \n",
      " 1   minutes   3214 non-null   float64\n",
      " 2   messages  3214 non-null   int32  \n",
      " 3   mb_used   3214 non-null   float64\n",
      " 4   is_ultra  3214 non-null   int64  \n",
      "dtypes: float64(2), int32(2), int64(1)\n",
      "memory usage: 100.6 KB\n"
     ]
    }
   ],
   "source": [
    "# проверим \n",
    "df.info()"
   ]
  },
  {
   "cell_type": "markdown",
   "metadata": {},
   "source": [
    "### Вывод"
   ]
  },
  {
   "cell_type": "markdown",
   "metadata": {},
   "source": [
    "Данные загрузились без ошибок. Датафрейм имеет размерность в 5 столбцов и 3214 строк. Дубликаты и пропуски отсутствуют. Изменен тип данных в столбцах 'calls' и 'messages' с float64 на int64."
   ]
  },
  {
   "cell_type": "markdown",
   "metadata": {},
   "source": [
    "## Подготвка данных к машинному обучению"
   ]
  },
  {
   "cell_type": "markdown",
   "metadata": {},
   "source": [
    "Разделим данные на матрицу признаков и целевой столбец."
   ]
  },
  {
   "cell_type": "code",
   "execution_count": 9,
   "metadata": {},
   "outputs": [],
   "source": [
    "# создаем матрицу признаков\n",
    "features = df.drop(['is_ultra'], axis=1)\n",
    "\n",
    "# создаем целевой столбец\n",
    "target = df['is_ultra']"
   ]
  },
  {
   "cell_type": "markdown",
   "metadata": {},
   "source": [
    "Оценим как распределены данные в целевом столбце (тариф Ультра и Смарт)."
   ]
  },
  {
   "cell_type": "code",
   "execution_count": 10,
   "metadata": {},
   "outputs": [],
   "source": [
    "# напишем функцию оценки\n",
    "def distrib_target(selection):\n",
    "    print(selection.value_counts())\n",
    "    print('-' * 20)\n",
    "    print('Соотношение Ультра / Смарт:',\n",
    "          selection[selection == 1].size / selection[selection == 0].size)"
   ]
  },
  {
   "cell_type": "code",
   "execution_count": 11,
   "metadata": {
    "scrolled": true
   },
   "outputs": [
    {
     "name": "stdout",
     "output_type": "stream",
     "text": [
      "is_ultra\n",
      "0    2229\n",
      "1     985\n",
      "Name: count, dtype: int64\n",
      "--------------------\n",
      "Соотношение Ультра / Смарт: 0.44190219829519967\n"
     ]
    }
   ],
   "source": [
    "# оценим распределение\n",
    "distrib_target(target)"
   ]
  },
  {
   "cell_type": "markdown",
   "metadata": {},
   "source": [
    "Можно сделать вывод о том, что имеем неравномерное распределение признаков в целевом столбце. Учтем это при создании выборок для моделей, контролировать будем по соотношению."
   ]
  },
  {
   "cell_type": "markdown",
   "metadata": {},
   "source": [
    "Разделим выборку на тренировочную (train) - 60 % и валидацилнную (valid) - 40%. Учтем параметр stratify, для сохранения равномерного распределения классов в таргетных столбцах."
   ]
  },
  {
   "cell_type": "code",
   "execution_count": 12,
   "metadata": {},
   "outputs": [],
   "source": [
    "# создаем распределения\n",
    "features_train, features_valid, target_train, target_valid = \\\n",
    "train_test_split(features, target, test_size = 0.4, random_state=12345, stratify = target)"
   ]
  },
  {
   "cell_type": "markdown",
   "metadata": {},
   "source": [
    "Разделим валидационную выборку на тестовую и валидационную, на пополам. Будем иметь итоговое распределение: тренировочная - 60%, валидационная - 20%, тестовая - 20%. При текущем разделении так же учтем параметр stratify."
   ]
  },
  {
   "cell_type": "code",
   "execution_count": 13,
   "metadata": {},
   "outputs": [
    {
     "data": {
      "text/plain": [
       "((643, 4), (643, 4), (643,), (643,))"
      ]
     },
     "execution_count": 13,
     "metadata": {},
     "output_type": "execute_result"
    }
   ],
   "source": [
    "# создаем распределения\n",
    "features_valid, features_test, target_valid, target_test = \\\n",
    "train_test_split(features_valid, target_valid, test_size = 0.5, random_state=12345, stratify = target_valid)\n",
    "features_valid.shape, features_test.shape, target_valid.shape, target_test.shape"
   ]
  },
  {
   "cell_type": "markdown",
   "metadata": {},
   "source": [
    "Проверим таргетные столбцы на распределение классов."
   ]
  },
  {
   "cell_type": "code",
   "execution_count": 14,
   "metadata": {
    "scrolled": false
   },
   "outputs": [
    {
     "name": "stdout",
     "output_type": "stream",
     "text": [
      "Изначальная выборка:\n",
      "--------------------\n",
      "is_ultra\n",
      "0    2229\n",
      "1     985\n",
      "Name: count, dtype: int64\n",
      "--------------------\n",
      "Соотношение Ультра / Смарт: 0.44190219829519967\n",
      "--------------------------------------------------\n",
      "\n",
      "Обучающая выборка:\n",
      "--------------------\n",
      "is_ultra\n",
      "0    1337\n",
      "1     591\n",
      "Name: count, dtype: int64\n",
      "--------------------\n",
      "Соотношение Ультра / Смарт: 0.44203440538519073\n",
      "--------------------------------------------------\n",
      "\n",
      "Валидационная выборка:\n",
      "--------------------\n",
      "is_ultra\n",
      "0    446\n",
      "1    197\n",
      "Name: count, dtype: int64\n",
      "--------------------\n",
      "Соотношение Ультра / Смарт: 0.44170403587443946\n",
      "--------------------------------------------------\n",
      "\n",
      "Тестовая выборка:\n",
      "--------------------\n",
      "is_ultra\n",
      "0    446\n",
      "1    197\n",
      "Name: count, dtype: int64\n",
      "--------------------\n",
      "Соотношение Ультра / Смарт: 0.44170403587443946\n",
      "--------------------------------------------------\n",
      "\n"
     ]
    }
   ],
   "source": [
    "# оценим распределения\n",
    "dict_selection = {'Изначальная выборка:':target, 'Обучающая выборка:':target_train,\\\n",
    "                  'Валидационная выборка:':target_valid, 'Тестовая выборка:':target_test}\n",
    "for key, val in dict_selection.items():\n",
    "    print(key)\n",
    "    print('-'*20)\n",
    "    distrib_target(val)\n",
    "    print('-'*50)\n",
    "    print(''*2)"
   ]
  },
  {
   "cell_type": "markdown",
   "metadata": {},
   "source": [
    "Видим, что получили выборки запланированных размеров. В таргетном столбце сохранилось соотношение распределения классов."
   ]
  },
  {
   "cell_type": "markdown",
   "metadata": {},
   "source": [
    "### Вывод"
   ]
  },
  {
   "cell_type": "markdown",
   "metadata": {},
   "source": [
    "Исходные данные были разбиты на три выборки: обучающая, валидационная и тестовая, в сотношении 60/20/20 %. При создании выборок целевых значений был применен метод равномерного распределения классов (стратификация)."
   ]
  },
  {
   "cell_type": "markdown",
   "metadata": {},
   "source": [
    "## Обучение моделей"
   ]
  },
  {
   "cell_type": "markdown",
   "metadata": {},
   "source": [
    "### Модель дерево решений"
   ]
  },
  {
   "cell_type": "code",
   "execution_count": 15,
   "metadata": {},
   "outputs": [
    {
     "data": {
      "text/plain": [
       "0.7853810264385692"
      ]
     },
     "execution_count": 15,
     "metadata": {},
     "output_type": "execute_result"
    }
   ],
   "source": [
    "# инициализируем модель с первоначальной настройкой по глубине\n",
    "model_dt = DecisionTreeClassifier(random_state=12345, max_depth = 5)\n",
    "\n",
    "# обучим модель\n",
    "model_dt.fit(features_train, target_train)\n",
    "\n",
    "# подготовим прогноз на валидационной выборке\n",
    "pred_dt_valid = model_dt.predict(features_valid)\n",
    "\n",
    "# проверим точность модели\n",
    "accuracy_score(target_valid, pred_dt_valid)"
   ]
  },
  {
   "cell_type": "markdown",
   "metadata": {},
   "source": [
    "Получили модель с точностью более 0.75. Попробуем улучшить точность модели, путем варьирования гиперпараметра max_depth."
   ]
  },
  {
   "cell_type": "code",
   "execution_count": 16,
   "metadata": {},
   "outputs": [
    {
     "name": "stdout",
     "output_type": "stream",
     "text": [
      "Лучшая точность модели: 0.80248833592535\n",
      "Значение гиперпараметра max_depth, при лучшей точности модели: 8\n"
     ]
    },
    {
     "data": {
      "text/html": [
       "<style>#sk-container-id-1 {color: black;background-color: white;}#sk-container-id-1 pre{padding: 0;}#sk-container-id-1 div.sk-toggleable {background-color: white;}#sk-container-id-1 label.sk-toggleable__label {cursor: pointer;display: block;width: 100%;margin-bottom: 0;padding: 0.3em;box-sizing: border-box;text-align: center;}#sk-container-id-1 label.sk-toggleable__label-arrow:before {content: \"▸\";float: left;margin-right: 0.25em;color: #696969;}#sk-container-id-1 label.sk-toggleable__label-arrow:hover:before {color: black;}#sk-container-id-1 div.sk-estimator:hover label.sk-toggleable__label-arrow:before {color: black;}#sk-container-id-1 div.sk-toggleable__content {max-height: 0;max-width: 0;overflow: hidden;text-align: left;background-color: #f0f8ff;}#sk-container-id-1 div.sk-toggleable__content pre {margin: 0.2em;color: black;border-radius: 0.25em;background-color: #f0f8ff;}#sk-container-id-1 input.sk-toggleable__control:checked~div.sk-toggleable__content {max-height: 200px;max-width: 100%;overflow: auto;}#sk-container-id-1 input.sk-toggleable__control:checked~label.sk-toggleable__label-arrow:before {content: \"▾\";}#sk-container-id-1 div.sk-estimator input.sk-toggleable__control:checked~label.sk-toggleable__label {background-color: #d4ebff;}#sk-container-id-1 div.sk-label input.sk-toggleable__control:checked~label.sk-toggleable__label {background-color: #d4ebff;}#sk-container-id-1 input.sk-hidden--visually {border: 0;clip: rect(1px 1px 1px 1px);clip: rect(1px, 1px, 1px, 1px);height: 1px;margin: -1px;overflow: hidden;padding: 0;position: absolute;width: 1px;}#sk-container-id-1 div.sk-estimator {font-family: monospace;background-color: #f0f8ff;border: 1px dotted black;border-radius: 0.25em;box-sizing: border-box;margin-bottom: 0.5em;}#sk-container-id-1 div.sk-estimator:hover {background-color: #d4ebff;}#sk-container-id-1 div.sk-parallel-item::after {content: \"\";width: 100%;border-bottom: 1px solid gray;flex-grow: 1;}#sk-container-id-1 div.sk-label:hover label.sk-toggleable__label {background-color: #d4ebff;}#sk-container-id-1 div.sk-serial::before {content: \"\";position: absolute;border-left: 1px solid gray;box-sizing: border-box;top: 0;bottom: 0;left: 50%;z-index: 0;}#sk-container-id-1 div.sk-serial {display: flex;flex-direction: column;align-items: center;background-color: white;padding-right: 0.2em;padding-left: 0.2em;position: relative;}#sk-container-id-1 div.sk-item {position: relative;z-index: 1;}#sk-container-id-1 div.sk-parallel {display: flex;align-items: stretch;justify-content: center;background-color: white;position: relative;}#sk-container-id-1 div.sk-item::before, #sk-container-id-1 div.sk-parallel-item::before {content: \"\";position: absolute;border-left: 1px solid gray;box-sizing: border-box;top: 0;bottom: 0;left: 50%;z-index: -1;}#sk-container-id-1 div.sk-parallel-item {display: flex;flex-direction: column;z-index: 1;position: relative;background-color: white;}#sk-container-id-1 div.sk-parallel-item:first-child::after {align-self: flex-end;width: 50%;}#sk-container-id-1 div.sk-parallel-item:last-child::after {align-self: flex-start;width: 50%;}#sk-container-id-1 div.sk-parallel-item:only-child::after {width: 0;}#sk-container-id-1 div.sk-dashed-wrapped {border: 1px dashed gray;margin: 0 0.4em 0.5em 0.4em;box-sizing: border-box;padding-bottom: 0.4em;background-color: white;}#sk-container-id-1 div.sk-label label {font-family: monospace;font-weight: bold;display: inline-block;line-height: 1.2em;}#sk-container-id-1 div.sk-label-container {text-align: center;}#sk-container-id-1 div.sk-container {/* jupyter's `normalize.less` sets `[hidden] { display: none; }` but bootstrap.min.css set `[hidden] { display: none !important; }` so we also need the `!important` here to be able to override the default hidden behavior on the sphinx rendered scikit-learn.org. See: https://github.com/scikit-learn/scikit-learn/issues/21755 */display: inline-block !important;position: relative;}#sk-container-id-1 div.sk-text-repr-fallback {display: none;}</style><div id=\"sk-container-id-1\" class=\"sk-top-container\"><div class=\"sk-text-repr-fallback\"><pre>DecisionTreeClassifier(max_depth=8, random_state=12345)</pre><b>In a Jupyter environment, please rerun this cell to show the HTML representation or trust the notebook. <br />On GitHub, the HTML representation is unable to render, please try loading this page with nbviewer.org.</b></div><div class=\"sk-container\" hidden><div class=\"sk-item\"><div class=\"sk-estimator sk-toggleable\"><input class=\"sk-toggleable__control sk-hidden--visually\" id=\"sk-estimator-id-1\" type=\"checkbox\" checked><label for=\"sk-estimator-id-1\" class=\"sk-toggleable__label sk-toggleable__label-arrow\">DecisionTreeClassifier</label><div class=\"sk-toggleable__content\"><pre>DecisionTreeClassifier(max_depth=8, random_state=12345)</pre></div></div></div></div></div>"
      ],
      "text/plain": [
       "DecisionTreeClassifier(max_depth=8, random_state=12345)"
      ]
     },
     "execution_count": 16,
     "metadata": {},
     "output_type": "execute_result"
    }
   ],
   "source": [
    "best_result_tree = 0\n",
    "best_max_depth = 0\n",
    "for depth in range(1, 26):\n",
    "\n",
    "    # инициализируем модель с настройкой по глубине, задаваемой в цикле\n",
    "    model_dt = DecisionTreeClassifier(random_state=12345, max_depth = depth)\n",
    "    # обучим модель\n",
    "    model_dt.fit(features_train, target_train)\n",
    "    # подготовим прогноз\n",
    "    pred_dt_valid = model_dt.predict(features_valid)\n",
    "    # посчитаем точность\n",
    "    result = accuracy_score(target_valid, pred_dt_valid)\n",
    "\n",
    "    # найдем лучшую модель\n",
    "    if result > best_result_tree:\n",
    "        best_result_tree = result\n",
    "        best_max_depth = depth\n",
    "        best_model_dt = model_dt\n",
    "        \n",
    "        \n",
    "print('Лучшая точность модели:', best_result_tree)\n",
    "print('Значение гиперпараметра max_depth, при лучшей точности модели:', best_max_depth)\n",
    "best_model_dt"
   ]
  },
  {
   "cell_type": "markdown",
   "metadata": {},
   "source": [
    "### Модель случайный лес"
   ]
  },
  {
   "cell_type": "code",
   "execution_count": 17,
   "metadata": {},
   "outputs": [
    {
     "data": {
      "text/plain": [
       "0.7884914463452566"
      ]
     },
     "execution_count": 17,
     "metadata": {},
     "output_type": "execute_result"
    }
   ],
   "source": [
    "# инициализируем модель с первоначальными настройками по глубине и количеству деревьев \n",
    "model_rf = RandomForestClassifier(random_state=12345, max_depth = 5, n_estimators=10)\n",
    "\n",
    "# обучим модель\n",
    "model_rf.fit(features_train, target_train)\n",
    "\n",
    "# подготовим прогноз на валидационной выборке\n",
    "pred_rf_valid = model_rf.predict(features_valid)\n",
    "\n",
    "# проверим точность модели\n",
    "accuracy_score(target_valid, pred_rf_valid)"
   ]
  },
  {
   "cell_type": "markdown",
   "metadata": {},
   "source": [
    "Получили модель с точностью более 0.75. Попробуем улучшить точность модели, путем варьирования гиперпараметров max_depth, n_estimators и min_samples_leaf."
   ]
  },
  {
   "cell_type": "code",
   "execution_count": 18,
   "metadata": {
    "scrolled": false
   },
   "outputs": [
    {
     "name": "stdout",
     "output_type": "stream",
     "text": [
      "Лучшая точность модели: 0.8211508553654744\n",
      "Значение гиперпараметра max_depth, при лучшей точности модели: 9\n",
      "Значение гиперпараметра n_estimators, при лучшей точности модели: 40\n",
      "Значение гиперпараметра min_samples_leaf, при лучшей точности модели: 1\n"
     ]
    },
    {
     "data": {
      "text/html": [
       "<style>#sk-container-id-2 {color: black;background-color: white;}#sk-container-id-2 pre{padding: 0;}#sk-container-id-2 div.sk-toggleable {background-color: white;}#sk-container-id-2 label.sk-toggleable__label {cursor: pointer;display: block;width: 100%;margin-bottom: 0;padding: 0.3em;box-sizing: border-box;text-align: center;}#sk-container-id-2 label.sk-toggleable__label-arrow:before {content: \"▸\";float: left;margin-right: 0.25em;color: #696969;}#sk-container-id-2 label.sk-toggleable__label-arrow:hover:before {color: black;}#sk-container-id-2 div.sk-estimator:hover label.sk-toggleable__label-arrow:before {color: black;}#sk-container-id-2 div.sk-toggleable__content {max-height: 0;max-width: 0;overflow: hidden;text-align: left;background-color: #f0f8ff;}#sk-container-id-2 div.sk-toggleable__content pre {margin: 0.2em;color: black;border-radius: 0.25em;background-color: #f0f8ff;}#sk-container-id-2 input.sk-toggleable__control:checked~div.sk-toggleable__content {max-height: 200px;max-width: 100%;overflow: auto;}#sk-container-id-2 input.sk-toggleable__control:checked~label.sk-toggleable__label-arrow:before {content: \"▾\";}#sk-container-id-2 div.sk-estimator input.sk-toggleable__control:checked~label.sk-toggleable__label {background-color: #d4ebff;}#sk-container-id-2 div.sk-label input.sk-toggleable__control:checked~label.sk-toggleable__label {background-color: #d4ebff;}#sk-container-id-2 input.sk-hidden--visually {border: 0;clip: rect(1px 1px 1px 1px);clip: rect(1px, 1px, 1px, 1px);height: 1px;margin: -1px;overflow: hidden;padding: 0;position: absolute;width: 1px;}#sk-container-id-2 div.sk-estimator {font-family: monospace;background-color: #f0f8ff;border: 1px dotted black;border-radius: 0.25em;box-sizing: border-box;margin-bottom: 0.5em;}#sk-container-id-2 div.sk-estimator:hover {background-color: #d4ebff;}#sk-container-id-2 div.sk-parallel-item::after {content: \"\";width: 100%;border-bottom: 1px solid gray;flex-grow: 1;}#sk-container-id-2 div.sk-label:hover label.sk-toggleable__label {background-color: #d4ebff;}#sk-container-id-2 div.sk-serial::before {content: \"\";position: absolute;border-left: 1px solid gray;box-sizing: border-box;top: 0;bottom: 0;left: 50%;z-index: 0;}#sk-container-id-2 div.sk-serial {display: flex;flex-direction: column;align-items: center;background-color: white;padding-right: 0.2em;padding-left: 0.2em;position: relative;}#sk-container-id-2 div.sk-item {position: relative;z-index: 1;}#sk-container-id-2 div.sk-parallel {display: flex;align-items: stretch;justify-content: center;background-color: white;position: relative;}#sk-container-id-2 div.sk-item::before, #sk-container-id-2 div.sk-parallel-item::before {content: \"\";position: absolute;border-left: 1px solid gray;box-sizing: border-box;top: 0;bottom: 0;left: 50%;z-index: -1;}#sk-container-id-2 div.sk-parallel-item {display: flex;flex-direction: column;z-index: 1;position: relative;background-color: white;}#sk-container-id-2 div.sk-parallel-item:first-child::after {align-self: flex-end;width: 50%;}#sk-container-id-2 div.sk-parallel-item:last-child::after {align-self: flex-start;width: 50%;}#sk-container-id-2 div.sk-parallel-item:only-child::after {width: 0;}#sk-container-id-2 div.sk-dashed-wrapped {border: 1px dashed gray;margin: 0 0.4em 0.5em 0.4em;box-sizing: border-box;padding-bottom: 0.4em;background-color: white;}#sk-container-id-2 div.sk-label label {font-family: monospace;font-weight: bold;display: inline-block;line-height: 1.2em;}#sk-container-id-2 div.sk-label-container {text-align: center;}#sk-container-id-2 div.sk-container {/* jupyter's `normalize.less` sets `[hidden] { display: none; }` but bootstrap.min.css set `[hidden] { display: none !important; }` so we also need the `!important` here to be able to override the default hidden behavior on the sphinx rendered scikit-learn.org. See: https://github.com/scikit-learn/scikit-learn/issues/21755 */display: inline-block !important;position: relative;}#sk-container-id-2 div.sk-text-repr-fallback {display: none;}</style><div id=\"sk-container-id-2\" class=\"sk-top-container\"><div class=\"sk-text-repr-fallback\"><pre>RandomForestClassifier(max_depth=9, n_estimators=40, random_state=12345)</pre><b>In a Jupyter environment, please rerun this cell to show the HTML representation or trust the notebook. <br />On GitHub, the HTML representation is unable to render, please try loading this page with nbviewer.org.</b></div><div class=\"sk-container\" hidden><div class=\"sk-item\"><div class=\"sk-estimator sk-toggleable\"><input class=\"sk-toggleable__control sk-hidden--visually\" id=\"sk-estimator-id-2\" type=\"checkbox\" checked><label for=\"sk-estimator-id-2\" class=\"sk-toggleable__label sk-toggleable__label-arrow\">RandomForestClassifier</label><div class=\"sk-toggleable__content\"><pre>RandomForestClassifier(max_depth=9, n_estimators=40, random_state=12345)</pre></div></div></div></div></div>"
      ],
      "text/plain": [
       "RandomForestClassifier(max_depth=9, n_estimators=40, random_state=12345)"
      ]
     },
     "execution_count": 18,
     "metadata": {},
     "output_type": "execute_result"
    }
   ],
   "source": [
    "best_result_forest = 0\n",
    "best_max_depth = 0\n",
    "best_estimator = 0\n",
    "best_sample = 0\n",
    "\n",
    "for depth in range(1, 21):\n",
    "    for estimator in range(10, 51, 5):\n",
    "        for sample in range(1, 5):\n",
    "            # инициализируем модель с настройками, задаваемыми в цикле\n",
    "            model_rf = RandomForestClassifier(random_state=12345, max_depth = depth, n_estimators = estimator,\\\n",
    "                                                  min_samples_leaf = sample)\n",
    "            # обучим модель\n",
    "            model_rf.fit(features_train, target_train)\n",
    "            # подготовим прогноз\n",
    "            pred_rf_valid = model_rf.predict(features_valid)\n",
    "            # посчитаем точность\n",
    "            result = accuracy_score(target_valid, pred_rf_valid)\n",
    "        \n",
    "            # найдем лучшую модель       \n",
    "            if result > best_result_forest:\n",
    "                best_result_forest = result\n",
    "                best_max_depth = depth\n",
    "                best_estimator = estimator\n",
    "                best_sample = sample\n",
    "                best_model_rf = model_rf\n",
    "            \n",
    "print('Лучшая точность модели:', best_result_forest)\n",
    "print('Значение гиперпараметра max_depth, при лучшей точности модели:', best_max_depth)\n",
    "print('Значение гиперпараметра n_estimators, при лучшей точности модели:', best_estimator)\n",
    "print('Значение гиперпараметра min_samples_leaf, при лучшей точности модели:', best_sample)\n",
    "best_model_rf"
   ]
  },
  {
   "cell_type": "markdown",
   "metadata": {},
   "source": [
    "### Модель логистическая регрессия"
   ]
  },
  {
   "cell_type": "code",
   "execution_count": 19,
   "metadata": {},
   "outputs": [
    {
     "data": {
      "text/plain": [
       "0.7387247278382582"
      ]
     },
     "execution_count": 19,
     "metadata": {},
     "output_type": "execute_result"
    }
   ],
   "source": [
    "# инициализируем модель\n",
    "model_lr = LogisticRegression(random_state=12345, solver='lbfgs', max_iter=1000)\n",
    "\n",
    "# обучим модель\n",
    "model_lr.fit(features_train, target_train)\n",
    "\n",
    "# проверим модель на валидационной выборке\n",
    "pred_lr_valid = model_lr.predict(features_valid)\n",
    "\n",
    "# проверим точность модели\n",
    "result_lr = accuracy_score(target_valid, pred_lr_valid)\n",
    "result_lr"
   ]
  },
  {
   "cell_type": "markdown",
   "metadata": {},
   "source": [
    "### Вывод"
   ]
  },
  {
   "attachments": {
    "9.JPG": {
     "image/jpeg": "[encoded data removed]"
    }
   },
   "cell_type": "markdown",
   "metadata": {},
   "source": [
    "Были изучены следующие модели:\n",
    "- дерево решений;\n",
    "- случайный лес;\n",
    "- логистическая регресси.\n",
    "\n",
    "Модели были обучены на обучающих выборках.\n",
    "Проверка моделей производилась на валидационной выборке.\n",
    "Оценка точности моделей, проводилась на валидационной выборке целевых значений.\n",
    "\n",
    "Для модели дерево решений подобран следующий оптимальный гиперпараметр: max_depth = 8\n",
    "Для модели случайный лес подобраны следующие оптимальные гиперпараметры: max_depth = 9, n_estimators = 40, min_samples_leaf = 1\n",
    "\n",
    "Результаты точности моделей (accuracy), при оптимальных гиперпараметрах:\n",
    "\n",
    "![9.JPG](attachment:9.JPG)\n",
    "\n",
    "\n",
    "По результатам проведенной работы, можно сделать вывод, что на валидационной выборке, наилучшей точностью обладает модель \"лес решений\", при подобранных оптимальных гиперпараметрах."
   ]
  },
  {
   "cell_type": "markdown",
   "metadata": {},
   "source": [
    "## Тестирование лучшей модели"
   ]
  },
  {
   "cell_type": "code",
   "execution_count": 20,
   "metadata": {
    "scrolled": true
   },
   "outputs": [
    {
     "name": "stdout",
     "output_type": "stream",
     "text": [
      "Точность модели \"случайный лес\" на тестовой выборке: 0.8087091757387247\n"
     ]
    }
   ],
   "source": [
    "# получим прогноз лучшей модели, на тестовой выборке\n",
    "prediction_test_rf = best_model_rf.predict(features_test)\n",
    "\n",
    "# оценим точность\n",
    "print('Точность модели \"случайный лес\" на тестовой выборке:', accuracy_score(target_test, prediction_test_rf))"
   ]
  },
  {
   "cell_type": "markdown",
   "metadata": {},
   "source": [
    "### Вывод"
   ]
  },
  {
   "cell_type": "markdown",
   "metadata": {},
   "source": [
    "Таким образом, на тестовой выборке модель \"случайный лес\" показала точность предсказания - 0.8087"
   ]
  },
  {
   "cell_type": "markdown",
   "metadata": {},
   "source": [
    "## Проверка ьодели на адекватность"
   ]
  },
  {
   "cell_type": "markdown",
   "metadata": {},
   "source": [
    "Для проверки адекватности наших моделей, будем сравнивать их точность предсказаний с простейшей (dummy) моделью. Гиперпараметр strategy выберем \"most_frequent\"."
   ]
  },
  {
   "cell_type": "code",
   "execution_count": 21,
   "metadata": {},
   "outputs": [
    {
     "data": {
      "text/plain": [
       "0.6936236391912908"
      ]
     },
     "execution_count": 21,
     "metadata": {},
     "output_type": "execute_result"
    }
   ],
   "source": [
    "# импоритруем модель\n",
    "from sklearn.dummy  import  DummyClassifier\n",
    "\n",
    "# инициализируем модель\n",
    "dummy_clf = DummyClassifier(strategy = 'most_frequent', random_state = 12345)\n",
    "\n",
    "# обучим модель\n",
    "dummy_clf.fit(features_train, target_train)\n",
    "\n",
    "# проверим точность\n",
    "dummy_clf.score(features_test, target_test)"
   ]
  },
  {
   "cell_type": "markdown",
   "metadata": {},
   "source": [
    "### Вывод"
   ]
  },
  {
   "cell_type": "markdown",
   "metadata": {},
   "source": [
    "Таким образом, результаты проверки простейшей моделью, показал, что простейшая классификация дает точность 0.6936. Это значит, что наша лучшая обученная модель дает результат выше - 0.8087, для тестовой выборки."
   ]
  },
  {
   "cell_type": "markdown",
   "metadata": {},
   "source": [
    "## Общий вывод"
   ]
  },
  {
   "attachments": {
    "10.JPG": {
     "image/jpeg": "[encoded data removed]"
    }
   },
   "cell_type": "markdown",
   "metadata": {},
   "source": [
    "1. Полученные данные загрузились без ошибок. Датафрейм имеет размерность в 5 столбцов и 3214 строк. Дубликаты и пропуски отсутствуют. Изменен тип данных в столбцах 'calls' и 'messages' с float64 на int64.\n",
    "\n",
    "\n",
    "2. Исходные данные были разбиты на три выборки: обучающая, валидационная и тестовая, в сотношении 60/20/20 %. При создании выборок целевых значений был применен метод равномерного распределения классов (стратификация).\n",
    "\n",
    "\n",
    "3. Были изучены следующие модели:\n",
    "- дерево решений;\n",
    "- случайный лес;\n",
    "- логистическая регресси.\n",
    "\n",
    "Модели были обучены на обучающих выборках.\n",
    "Проверка моделей производилась на валидационной выборке.\n",
    "Оценка точности моделей, проводилась на валидационной выборке целевых значений.\n",
    "\n",
    "Для модели дерево решений подобран следующий оптимальный гиперпараметр: max_depth = 8\n",
    "Для модели случайный лес подобраны следующие оптимальные гиперпараметры: max_depth = 9, n_estimators = 40, min_samples_leaf = 1\n",
    "\n",
    "Результаты точности моделей (accuracy), при оптимальных гиперпараметрах:\n",
    "\n",
    "![10.JPG](attachment:10.JPG)\n",
    "\n",
    "\n",
    "По результатам проведенной работы, можно сделать вывод, что на валидационной выборке, наилучшей точностью обладает модель \"лес решений\", при подобранных оптимальных гиперпараметрах.\n",
    "\n",
    "\n",
    "4. На тестовой выборке наилучшую точность показала модель \"случайный лес\" показала точность предсказания - 0.8087.\n",
    "\n",
    "\n",
    "5. Была проведена проверка модели на адекватность. Результаты проверки простейшей моделью, показал, что простейшая классификация дает точность 0.6936. Это значит, что наша лучшая обученная модель дает результат выше - 0.8087, для тестовой выборки.\n",
    "\n"
   ]
  }
 ],
 "metadata": {
  "ExecuteTimeLog": [
   {
    "duration": 430,
    "start_time": "2024-05-08T11:18:09.458Z"
   },
   {
    "duration": 99,
    "start_time": "2024-05-08T11:18:12.067Z"
   },
   {
    "duration": 65,
    "start_time": "2024-05-08T11:19:15.032Z"
   },
   {
    "duration": 468,
    "start_time": "2024-05-08T11:19:22.953Z"
   },
   {
    "duration": 33,
    "start_time": "2024-05-08T11:19:23.423Z"
   },
   {
    "duration": 14,
    "start_time": "2024-05-08T11:19:23.458Z"
   },
   {
    "duration": 22,
    "start_time": "2024-05-08T11:19:41.622Z"
   },
   {
    "duration": 85,
    "start_time": "2024-05-08T11:31:11.856Z"
   },
   {
    "duration": 7,
    "start_time": "2024-05-08T11:31:23.875Z"
   },
   {
    "duration": 8,
    "start_time": "2024-05-08T11:31:41.178Z"
   },
   {
    "duration": 1214,
    "start_time": "2024-05-08T11:38:33.264Z"
   },
   {
    "duration": 5,
    "start_time": "2024-05-08T11:39:33.556Z"
   },
   {
    "duration": 12,
    "start_time": "2024-05-08T11:39:50.390Z"
   },
   {
    "duration": 1436,
    "start_time": "2024-05-10T16:04:48.309Z"
   },
   {
    "duration": 98,
    "start_time": "2024-05-10T16:04:49.747Z"
   },
   {
    "duration": 12,
    "start_time": "2024-05-10T16:04:49.847Z"
   },
   {
    "duration": 27,
    "start_time": "2024-05-10T16:04:49.861Z"
   },
   {
    "duration": 20,
    "start_time": "2024-05-10T16:04:49.890Z"
   },
   {
    "duration": 31,
    "start_time": "2024-05-10T16:04:49.912Z"
   },
   {
    "duration": 22,
    "start_time": "2024-05-10T16:04:49.944Z"
   },
   {
    "duration": 53,
    "start_time": "2024-05-10T16:04:49.968Z"
   },
   {
    "duration": 138,
    "start_time": "2024-05-10T16:11:00.201Z"
   },
   {
    "duration": 174,
    "start_time": "2024-05-10T16:11:08.879Z"
   },
   {
    "duration": 26,
    "start_time": "2024-05-10T16:11:43.493Z"
   },
   {
    "duration": 116,
    "start_time": "2024-05-10T16:12:07.391Z"
   },
   {
    "duration": 93,
    "start_time": "2024-05-10T16:14:21.382Z"
   },
   {
    "duration": 285,
    "start_time": "2024-05-10T19:31:33.457Z"
   },
   {
    "duration": 1418,
    "start_time": "2024-05-10T19:31:41.496Z"
   },
   {
    "duration": 31,
    "start_time": "2024-05-10T19:31:42.916Z"
   },
   {
    "duration": 11,
    "start_time": "2024-05-10T19:31:42.949Z"
   },
   {
    "duration": 13,
    "start_time": "2024-05-10T19:31:42.962Z"
   },
   {
    "duration": 7,
    "start_time": "2024-05-10T19:31:42.976Z"
   },
   {
    "duration": 7,
    "start_time": "2024-05-10T19:31:42.984Z"
   },
   {
    "duration": 5,
    "start_time": "2024-05-10T19:31:42.993Z"
   },
   {
    "duration": 36,
    "start_time": "2024-05-10T19:31:43.000Z"
   },
   {
    "duration": 117,
    "start_time": "2024-05-10T19:31:43.039Z"
   },
   {
    "duration": 4,
    "start_time": "2024-05-10T19:33:40.651Z"
   },
   {
    "duration": 7,
    "start_time": "2024-05-10T19:34:03.741Z"
   },
   {
    "duration": 7,
    "start_time": "2024-05-10T19:34:50.584Z"
   },
   {
    "duration": 114,
    "start_time": "2024-05-10T19:35:49.837Z"
   },
   {
    "duration": 4,
    "start_time": "2024-05-10T19:36:03.687Z"
   },
   {
    "duration": 4,
    "start_time": "2024-05-10T19:36:11.895Z"
   },
   {
    "duration": 6,
    "start_time": "2024-05-10T19:36:35.593Z"
   },
   {
    "duration": 6,
    "start_time": "2024-05-10T19:37:03.416Z"
   },
   {
    "duration": 5,
    "start_time": "2024-05-10T19:37:05.757Z"
   },
   {
    "duration": 5,
    "start_time": "2024-05-10T19:37:07.985Z"
   },
   {
    "duration": 12,
    "start_time": "2024-05-10T19:37:37.174Z"
   },
   {
    "duration": 5,
    "start_time": "2024-05-10T19:39:37.907Z"
   },
   {
    "duration": 5,
    "start_time": "2024-05-10T19:40:20.194Z"
   },
   {
    "duration": 5,
    "start_time": "2024-05-10T19:40:35.285Z"
   },
   {
    "duration": 5,
    "start_time": "2024-05-10T19:41:06.223Z"
   },
   {
    "duration": 5,
    "start_time": "2024-05-10T19:41:08.773Z"
   },
   {
    "duration": 5,
    "start_time": "2024-05-10T19:41:11.669Z"
   },
   {
    "duration": 5,
    "start_time": "2024-05-10T19:41:14.750Z"
   },
   {
    "duration": 6,
    "start_time": "2024-05-10T19:41:22.758Z"
   },
   {
    "duration": 5,
    "start_time": "2024-05-10T19:41:24.919Z"
   },
   {
    "duration": 6,
    "start_time": "2024-05-10T19:41:27.654Z"
   },
   {
    "duration": 5,
    "start_time": "2024-05-10T19:41:30.551Z"
   },
   {
    "duration": 6,
    "start_time": "2024-05-10T19:43:21.945Z"
   },
   {
    "duration": 6,
    "start_time": "2024-05-10T19:45:02.574Z"
   },
   {
    "duration": 7,
    "start_time": "2024-05-10T19:45:26.994Z"
   },
   {
    "duration": 8,
    "start_time": "2024-05-10T19:45:31.114Z"
   },
   {
    "duration": 7,
    "start_time": "2024-05-10T19:45:33.528Z"
   },
   {
    "duration": 5,
    "start_time": "2024-05-10T19:45:36.387Z"
   },
   {
    "duration": 6,
    "start_time": "2024-05-10T19:45:44.566Z"
   },
   {
    "duration": 6,
    "start_time": "2024-05-10T19:45:53.444Z"
   },
   {
    "duration": 5,
    "start_time": "2024-05-10T19:45:56.185Z"
   },
   {
    "duration": 14,
    "start_time": "2024-05-10T19:48:12.020Z"
   },
   {
    "duration": 1400,
    "start_time": "2024-05-10T19:48:41.904Z"
   },
   {
    "duration": 33,
    "start_time": "2024-05-10T19:48:43.306Z"
   },
   {
    "duration": 13,
    "start_time": "2024-05-10T19:48:43.341Z"
   },
   {
    "duration": 37,
    "start_time": "2024-05-10T19:48:43.356Z"
   },
   {
    "duration": 25,
    "start_time": "2024-05-10T19:48:43.395Z"
   },
   {
    "duration": 22,
    "start_time": "2024-05-10T19:48:43.422Z"
   },
   {
    "duration": 22,
    "start_time": "2024-05-10T19:48:43.446Z"
   },
   {
    "duration": 34,
    "start_time": "2024-05-10T19:48:43.470Z"
   },
   {
    "duration": 14,
    "start_time": "2024-05-10T19:48:43.506Z"
   },
   {
    "duration": 29,
    "start_time": "2024-05-10T19:48:43.523Z"
   },
   {
    "duration": 41,
    "start_time": "2024-05-10T19:48:43.553Z"
   },
   {
    "duration": 21,
    "start_time": "2024-05-10T19:48:43.596Z"
   },
   {
    "duration": 17,
    "start_time": "2024-05-10T19:48:43.619Z"
   },
   {
    "duration": 20,
    "start_time": "2024-05-10T19:48:43.638Z"
   },
   {
    "duration": 24,
    "start_time": "2024-05-10T19:48:43.660Z"
   },
   {
    "duration": 32,
    "start_time": "2024-05-10T19:48:43.685Z"
   },
   {
    "duration": 116,
    "start_time": "2024-05-10T19:50:13.984Z"
   },
   {
    "duration": 17,
    "start_time": "2024-05-10T19:50:38.824Z"
   },
   {
    "duration": 438,
    "start_time": "2024-05-10T19:50:57.366Z"
   },
   {
    "duration": 1405,
    "start_time": "2024-05-10T19:51:29.620Z"
   },
   {
    "duration": 31,
    "start_time": "2024-05-10T19:51:31.028Z"
   },
   {
    "duration": 75,
    "start_time": "2024-05-10T19:51:31.060Z"
   },
   {
    "duration": 55,
    "start_time": "2024-05-10T19:51:31.137Z"
   },
   {
    "duration": 33,
    "start_time": "2024-05-10T19:51:31.194Z"
   },
   {
    "duration": 44,
    "start_time": "2024-05-10T19:51:31.229Z"
   },
   {
    "duration": 48,
    "start_time": "2024-05-10T19:51:31.275Z"
   },
   {
    "duration": 74,
    "start_time": "2024-05-10T19:51:31.325Z"
   },
   {
    "duration": 72,
    "start_time": "2024-05-10T19:51:31.401Z"
   },
   {
    "duration": 64,
    "start_time": "2024-05-10T19:51:31.474Z"
   },
   {
    "duration": 43,
    "start_time": "2024-05-10T19:51:31.540Z"
   },
   {
    "duration": 45,
    "start_time": "2024-05-10T19:51:31.585Z"
   },
   {
    "duration": 69,
    "start_time": "2024-05-10T19:51:31.632Z"
   },
   {
    "duration": 27,
    "start_time": "2024-05-10T19:51:31.704Z"
   },
   {
    "duration": 36,
    "start_time": "2024-05-10T19:51:31.732Z"
   },
   {
    "duration": 47,
    "start_time": "2024-05-10T19:51:31.770Z"
   },
   {
    "duration": 444,
    "start_time": "2024-05-10T19:51:31.819Z"
   },
   {
    "duration": 36,
    "start_time": "2024-05-10T19:53:47.788Z"
   },
   {
    "duration": 1377,
    "start_time": "2024-05-10T19:54:26.691Z"
   },
   {
    "duration": 30,
    "start_time": "2024-05-10T19:54:28.070Z"
   },
   {
    "duration": 12,
    "start_time": "2024-05-10T19:54:28.102Z"
   },
   {
    "duration": 14,
    "start_time": "2024-05-10T19:54:28.115Z"
   },
   {
    "duration": 7,
    "start_time": "2024-05-10T19:54:28.131Z"
   },
   {
    "duration": 8,
    "start_time": "2024-05-10T19:54:28.139Z"
   },
   {
    "duration": 12,
    "start_time": "2024-05-10T19:54:28.148Z"
   },
   {
    "duration": 25,
    "start_time": "2024-05-10T19:54:28.162Z"
   },
   {
    "duration": 5,
    "start_time": "2024-05-10T19:54:28.189Z"
   },
   {
    "duration": 13,
    "start_time": "2024-05-10T19:54:28.197Z"
   },
   {
    "duration": 16,
    "start_time": "2024-05-10T19:54:28.213Z"
   },
   {
    "duration": 12,
    "start_time": "2024-05-10T19:54:28.232Z"
   },
   {
    "duration": 12,
    "start_time": "2024-05-10T19:54:28.246Z"
   },
   {
    "duration": 27,
    "start_time": "2024-05-10T19:54:28.260Z"
   },
   {
    "duration": 19,
    "start_time": "2024-05-10T19:54:28.289Z"
   },
   {
    "duration": 19,
    "start_time": "2024-05-10T19:54:28.310Z"
   },
   {
    "duration": 429,
    "start_time": "2024-05-10T19:54:28.331Z"
   },
   {
    "duration": 37,
    "start_time": "2024-05-10T19:54:28.762Z"
   },
   {
    "duration": 6825,
    "start_time": "2024-05-10T19:55:32.025Z"
   },
   {
    "duration": 1420,
    "start_time": "2024-05-10T19:56:12.198Z"
   },
   {
    "duration": 31,
    "start_time": "2024-05-10T19:56:13.620Z"
   },
   {
    "duration": 16,
    "start_time": "2024-05-10T19:56:13.652Z"
   },
   {
    "duration": 23,
    "start_time": "2024-05-10T19:56:13.670Z"
   },
   {
    "duration": 21,
    "start_time": "2024-05-10T19:56:13.695Z"
   },
   {
    "duration": 21,
    "start_time": "2024-05-10T19:56:13.717Z"
   },
   {
    "duration": 35,
    "start_time": "2024-05-10T19:56:13.740Z"
   },
   {
    "duration": 19,
    "start_time": "2024-05-10T19:56:13.777Z"
   },
   {
    "duration": 19,
    "start_time": "2024-05-10T19:56:13.798Z"
   },
   {
    "duration": 8,
    "start_time": "2024-05-10T19:56:13.818Z"
   },
   {
    "duration": 13,
    "start_time": "2024-05-10T19:56:13.827Z"
   },
   {
    "duration": 21,
    "start_time": "2024-05-10T19:56:13.842Z"
   },
   {
    "duration": 8,
    "start_time": "2024-05-10T19:56:13.866Z"
   },
   {
    "duration": 15,
    "start_time": "2024-05-10T19:56:13.878Z"
   },
   {
    "duration": 25,
    "start_time": "2024-05-10T19:56:13.894Z"
   },
   {
    "duration": 15,
    "start_time": "2024-05-10T19:56:13.921Z"
   },
   {
    "duration": 429,
    "start_time": "2024-05-10T19:56:13.937Z"
   },
   {
    "duration": 36,
    "start_time": "2024-05-10T19:56:14.368Z"
   },
   {
    "duration": 6880,
    "start_time": "2024-05-10T19:56:14.406Z"
   },
   {
    "duration": 1537,
    "start_time": "2024-05-10T19:57:04.213Z"
   },
   {
    "duration": 32,
    "start_time": "2024-05-10T19:57:05.752Z"
   },
   {
    "duration": 30,
    "start_time": "2024-05-10T19:57:05.785Z"
   },
   {
    "duration": 25,
    "start_time": "2024-05-10T19:57:05.817Z"
   },
   {
    "duration": 8,
    "start_time": "2024-05-10T19:57:05.844Z"
   },
   {
    "duration": 15,
    "start_time": "2024-05-10T19:57:05.854Z"
   },
   {
    "duration": 6,
    "start_time": "2024-05-10T19:57:05.871Z"
   },
   {
    "duration": 30,
    "start_time": "2024-05-10T19:57:05.879Z"
   },
   {
    "duration": 11,
    "start_time": "2024-05-10T19:57:05.912Z"
   },
   {
    "duration": 15,
    "start_time": "2024-05-10T19:57:05.925Z"
   },
   {
    "duration": 29,
    "start_time": "2024-05-10T19:57:05.942Z"
   },
   {
    "duration": 19,
    "start_time": "2024-05-10T19:57:05.972Z"
   },
   {
    "duration": 10,
    "start_time": "2024-05-10T19:57:05.993Z"
   },
   {
    "duration": 85,
    "start_time": "2024-05-10T19:57:06.007Z"
   },
   {
    "duration": 213,
    "start_time": "2024-05-10T19:57:06.093Z"
   },
   {
    "duration": 21,
    "start_time": "2024-05-10T19:57:06.308Z"
   },
   {
    "duration": 413,
    "start_time": "2024-05-10T19:57:06.331Z"
   },
   {
    "duration": 36,
    "start_time": "2024-05-10T19:57:06.745Z"
   },
   {
    "duration": 6410,
    "start_time": "2024-05-10T19:57:06.783Z"
   },
   {
    "duration": 1371,
    "start_time": "2024-05-10T19:57:39.859Z"
   },
   {
    "duration": 31,
    "start_time": "2024-05-10T19:57:41.232Z"
   },
   {
    "duration": 11,
    "start_time": "2024-05-10T19:57:41.264Z"
   },
   {
    "duration": 30,
    "start_time": "2024-05-10T19:57:41.277Z"
   },
   {
    "duration": 8,
    "start_time": "2024-05-10T19:57:41.310Z"
   },
   {
    "duration": 23,
    "start_time": "2024-05-10T19:57:41.320Z"
   },
   {
    "duration": 6,
    "start_time": "2024-05-10T19:57:41.345Z"
   },
   {
    "duration": 19,
    "start_time": "2024-05-10T19:57:41.353Z"
   },
   {
    "duration": 6,
    "start_time": "2024-05-10T19:57:41.373Z"
   },
   {
    "duration": 10,
    "start_time": "2024-05-10T19:57:41.380Z"
   },
   {
    "duration": 20,
    "start_time": "2024-05-10T19:57:41.392Z"
   },
   {
    "duration": 12,
    "start_time": "2024-05-10T19:57:41.414Z"
   },
   {
    "duration": 14,
    "start_time": "2024-05-10T19:57:41.427Z"
   },
   {
    "duration": 5,
    "start_time": "2024-05-10T19:57:41.444Z"
   },
   {
    "duration": 10,
    "start_time": "2024-05-10T19:57:41.450Z"
   },
   {
    "duration": 15,
    "start_time": "2024-05-10T19:57:41.461Z"
   },
   {
    "duration": 438,
    "start_time": "2024-05-10T19:57:41.478Z"
   },
   {
    "duration": 42,
    "start_time": "2024-05-10T19:57:41.918Z"
   },
   {
    "duration": 7463,
    "start_time": "2024-05-10T19:57:41.962Z"
   },
   {
    "duration": 1410,
    "start_time": "2024-05-10T19:59:39.934Z"
   },
   {
    "duration": 30,
    "start_time": "2024-05-10T19:59:41.346Z"
   },
   {
    "duration": 10,
    "start_time": "2024-05-10T19:59:41.378Z"
   },
   {
    "duration": 25,
    "start_time": "2024-05-10T19:59:41.390Z"
   },
   {
    "duration": 6,
    "start_time": "2024-05-10T19:59:41.417Z"
   },
   {
    "duration": 7,
    "start_time": "2024-05-10T19:59:41.424Z"
   },
   {
    "duration": 4,
    "start_time": "2024-05-10T19:59:41.432Z"
   },
   {
    "duration": 15,
    "start_time": "2024-05-10T19:59:41.438Z"
   },
   {
    "duration": 11,
    "start_time": "2024-05-10T19:59:41.455Z"
   },
   {
    "duration": 8,
    "start_time": "2024-05-10T19:59:41.468Z"
   },
   {
    "duration": 11,
    "start_time": "2024-05-10T19:59:41.478Z"
   },
   {
    "duration": 9,
    "start_time": "2024-05-10T19:59:41.491Z"
   },
   {
    "duration": 5,
    "start_time": "2024-05-10T19:59:41.501Z"
   },
   {
    "duration": 23,
    "start_time": "2024-05-10T19:59:41.507Z"
   },
   {
    "duration": 5,
    "start_time": "2024-05-10T19:59:41.532Z"
   },
   {
    "duration": 14,
    "start_time": "2024-05-10T19:59:41.538Z"
   },
   {
    "duration": 526,
    "start_time": "2024-05-10T19:59:41.553Z"
   },
   {
    "duration": 36,
    "start_time": "2024-05-10T19:59:42.081Z"
   },
   {
    "duration": 8109,
    "start_time": "2024-05-10T19:59:42.119Z"
   },
   {
    "duration": 1375,
    "start_time": "2024-05-10T20:00:35.906Z"
   },
   {
    "duration": 31,
    "start_time": "2024-05-10T20:00:37.283Z"
   },
   {
    "duration": 12,
    "start_time": "2024-05-10T20:00:37.315Z"
   },
   {
    "duration": 24,
    "start_time": "2024-05-10T20:00:37.329Z"
   },
   {
    "duration": 6,
    "start_time": "2024-05-10T20:00:37.355Z"
   },
   {
    "duration": 11,
    "start_time": "2024-05-10T20:00:37.362Z"
   },
   {
    "duration": 14,
    "start_time": "2024-05-10T20:00:37.375Z"
   },
   {
    "duration": 31,
    "start_time": "2024-05-10T20:00:37.391Z"
   },
   {
    "duration": 12,
    "start_time": "2024-05-10T20:00:37.424Z"
   },
   {
    "duration": 33,
    "start_time": "2024-05-10T20:00:37.438Z"
   },
   {
    "duration": 27,
    "start_time": "2024-05-10T20:00:37.473Z"
   },
   {
    "duration": 21,
    "start_time": "2024-05-10T20:00:37.502Z"
   },
   {
    "duration": 12,
    "start_time": "2024-05-10T20:00:37.525Z"
   },
   {
    "duration": 24,
    "start_time": "2024-05-10T20:00:37.546Z"
   },
   {
    "duration": 21,
    "start_time": "2024-05-10T20:00:37.571Z"
   },
   {
    "duration": 30,
    "start_time": "2024-05-10T20:00:37.593Z"
   },
   {
    "duration": 402,
    "start_time": "2024-05-10T20:00:37.625Z"
   },
   {
    "duration": 34,
    "start_time": "2024-05-10T20:00:38.029Z"
   },
   {
    "duration": 6214,
    "start_time": "2024-05-10T20:00:38.065Z"
   },
   {
    "duration": 1355,
    "start_time": "2024-05-10T20:00:58.075Z"
   },
   {
    "duration": 31,
    "start_time": "2024-05-10T20:00:59.432Z"
   },
   {
    "duration": 18,
    "start_time": "2024-05-10T20:00:59.464Z"
   },
   {
    "duration": 21,
    "start_time": "2024-05-10T20:00:59.484Z"
   },
   {
    "duration": 15,
    "start_time": "2024-05-10T20:00:59.507Z"
   },
   {
    "duration": 6,
    "start_time": "2024-05-10T20:00:59.524Z"
   },
   {
    "duration": 27,
    "start_time": "2024-05-10T20:00:59.531Z"
   },
   {
    "duration": 37,
    "start_time": "2024-05-10T20:00:59.560Z"
   },
   {
    "duration": 13,
    "start_time": "2024-05-10T20:00:59.599Z"
   },
   {
    "duration": 13,
    "start_time": "2024-05-10T20:00:59.613Z"
   },
   {
    "duration": 6,
    "start_time": "2024-05-10T20:00:59.627Z"
   },
   {
    "duration": 10,
    "start_time": "2024-05-10T20:00:59.635Z"
   },
   {
    "duration": 14,
    "start_time": "2024-05-10T20:00:59.646Z"
   },
   {
    "duration": 8,
    "start_time": "2024-05-10T20:00:59.662Z"
   },
   {
    "duration": 22,
    "start_time": "2024-05-10T20:00:59.672Z"
   },
   {
    "duration": 14,
    "start_time": "2024-05-10T20:00:59.695Z"
   },
   {
    "duration": 385,
    "start_time": "2024-05-10T20:00:59.710Z"
   },
   {
    "duration": 43,
    "start_time": "2024-05-10T20:01:00.096Z"
   },
   {
    "duration": 6902,
    "start_time": "2024-05-10T20:01:00.140Z"
   },
   {
    "duration": 41,
    "start_time": "2024-05-10T20:02:05.233Z"
   },
   {
    "duration": 1431,
    "start_time": "2024-05-10T20:02:30.759Z"
   },
   {
    "duration": 30,
    "start_time": "2024-05-10T20:02:32.192Z"
   },
   {
    "duration": 92,
    "start_time": "2024-05-10T20:02:32.224Z"
   },
   {
    "duration": 83,
    "start_time": "2024-05-10T20:02:32.318Z"
   },
   {
    "duration": 11,
    "start_time": "2024-05-10T20:02:32.403Z"
   },
   {
    "duration": 19,
    "start_time": "2024-05-10T20:02:32.415Z"
   },
   {
    "duration": 16,
    "start_time": "2024-05-10T20:02:32.435Z"
   },
   {
    "duration": 26,
    "start_time": "2024-05-10T20:02:32.453Z"
   },
   {
    "duration": 22,
    "start_time": "2024-05-10T20:02:32.480Z"
   },
   {
    "duration": 37,
    "start_time": "2024-05-10T20:02:32.505Z"
   },
   {
    "duration": 23,
    "start_time": "2024-05-10T20:02:32.544Z"
   },
   {
    "duration": 20,
    "start_time": "2024-05-10T20:02:32.569Z"
   },
   {
    "duration": 18,
    "start_time": "2024-05-10T20:02:32.591Z"
   },
   {
    "duration": 18,
    "start_time": "2024-05-10T20:02:32.610Z"
   },
   {
    "duration": 17,
    "start_time": "2024-05-10T20:02:32.629Z"
   },
   {
    "duration": 25,
    "start_time": "2024-05-10T20:02:32.648Z"
   },
   {
    "duration": 387,
    "start_time": "2024-05-10T20:02:32.675Z"
   },
   {
    "duration": 37,
    "start_time": "2024-05-10T20:02:33.064Z"
   },
   {
    "duration": 6835,
    "start_time": "2024-05-10T20:02:33.103Z"
   },
   {
    "duration": 26,
    "start_time": "2024-05-10T20:02:39.940Z"
   },
   {
    "duration": 15,
    "start_time": "2024-05-10T20:03:57.000Z"
   },
   {
    "duration": 1402,
    "start_time": "2024-05-10T20:04:16.271Z"
   },
   {
    "duration": 31,
    "start_time": "2024-05-10T20:04:17.675Z"
   },
   {
    "duration": 12,
    "start_time": "2024-05-10T20:04:17.708Z"
   },
   {
    "duration": 16,
    "start_time": "2024-05-10T20:04:17.722Z"
   },
   {
    "duration": 7,
    "start_time": "2024-05-10T20:04:17.740Z"
   },
   {
    "duration": 8,
    "start_time": "2024-05-10T20:04:17.748Z"
   },
   {
    "duration": 5,
    "start_time": "2024-05-10T20:04:17.757Z"
   },
   {
    "duration": 31,
    "start_time": "2024-05-10T20:04:17.763Z"
   },
   {
    "duration": 18,
    "start_time": "2024-05-10T20:04:17.796Z"
   },
   {
    "duration": 13,
    "start_time": "2024-05-10T20:04:17.817Z"
   },
   {
    "duration": 18,
    "start_time": "2024-05-10T20:04:17.832Z"
   },
   {
    "duration": 11,
    "start_time": "2024-05-10T20:04:17.852Z"
   },
   {
    "duration": 15,
    "start_time": "2024-05-10T20:04:17.864Z"
   },
   {
    "duration": 25,
    "start_time": "2024-05-10T20:04:17.880Z"
   },
   {
    "duration": 12,
    "start_time": "2024-05-10T20:04:17.907Z"
   },
   {
    "duration": 19,
    "start_time": "2024-05-10T20:04:17.921Z"
   },
   {
    "duration": 400,
    "start_time": "2024-05-10T20:04:17.942Z"
   },
   {
    "duration": 36,
    "start_time": "2024-05-10T20:04:18.343Z"
   },
   {
    "duration": 6912,
    "start_time": "2024-05-10T20:04:18.381Z"
   },
   {
    "duration": 43,
    "start_time": "2024-05-10T20:04:25.295Z"
   },
   {
    "duration": 14,
    "start_time": "2024-05-10T20:04:25.339Z"
   },
   {
    "duration": 24447,
    "start_time": "2024-05-10T20:09:29.183Z"
   },
   {
    "duration": 12333,
    "start_time": "2024-05-10T20:10:26.841Z"
   },
   {
    "duration": 146,
    "start_time": "2024-05-10T20:55:37.448Z"
   },
   {
    "duration": 1418,
    "start_time": "2024-05-10T20:55:45.477Z"
   },
   {
    "duration": 30,
    "start_time": "2024-05-10T20:55:46.897Z"
   },
   {
    "duration": 12,
    "start_time": "2024-05-10T20:55:46.928Z"
   },
   {
    "duration": 13,
    "start_time": "2024-05-10T20:55:46.942Z"
   },
   {
    "duration": 7,
    "start_time": "2024-05-10T20:55:46.957Z"
   },
   {
    "duration": 6,
    "start_time": "2024-05-10T20:55:46.966Z"
   },
   {
    "duration": 7,
    "start_time": "2024-05-10T20:55:46.974Z"
   },
   {
    "duration": 47,
    "start_time": "2024-05-10T20:55:46.983Z"
   },
   {
    "duration": 5,
    "start_time": "2024-05-10T20:55:47.031Z"
   },
   {
    "duration": 11,
    "start_time": "2024-05-10T20:55:47.038Z"
   },
   {
    "duration": 9,
    "start_time": "2024-05-10T20:55:47.051Z"
   },
   {
    "duration": 6,
    "start_time": "2024-05-10T20:55:47.062Z"
   },
   {
    "duration": 19,
    "start_time": "2024-05-10T20:55:47.070Z"
   },
   {
    "duration": 27,
    "start_time": "2024-05-10T20:55:47.092Z"
   },
   {
    "duration": 17,
    "start_time": "2024-05-10T20:55:47.120Z"
   },
   {
    "duration": 1757,
    "start_time": "2024-05-10T20:55:47.139Z"
   },
   {
    "duration": 395,
    "start_time": "2024-05-10T20:55:48.898Z"
   },
   {
    "duration": 58,
    "start_time": "2024-05-10T20:55:49.295Z"
   },
   {
    "duration": 12289,
    "start_time": "2024-05-10T20:55:49.355Z"
   },
   {
    "duration": 38,
    "start_time": "2024-05-10T20:56:01.646Z"
   },
   {
    "duration": 42,
    "start_time": "2024-05-10T20:56:01.686Z"
   },
   {
    "duration": 164,
    "start_time": "2024-05-10T20:56:01.729Z"
   },
   {
    "duration": 43,
    "start_time": "2024-05-10T20:56:20.155Z"
   },
   {
    "duration": 120,
    "start_time": "2024-05-10T20:56:28.037Z"
   },
   {
    "duration": 1741,
    "start_time": "2024-05-10T20:56:45.992Z"
   },
   {
    "duration": 1741,
    "start_time": "2024-05-10T20:56:58.632Z"
   },
   {
    "duration": 59,
    "start_time": "2024-05-11T07:52:15.143Z"
   },
   {
    "duration": 1583,
    "start_time": "2024-05-11T07:52:31.459Z"
   },
   {
    "duration": 102,
    "start_time": "2024-05-11T07:52:33.044Z"
   },
   {
    "duration": 12,
    "start_time": "2024-05-11T07:52:33.148Z"
   },
   {
    "duration": 21,
    "start_time": "2024-05-11T07:52:33.162Z"
   },
   {
    "duration": 7,
    "start_time": "2024-05-11T07:52:33.186Z"
   },
   {
    "duration": 12,
    "start_time": "2024-05-11T07:52:33.196Z"
   },
   {
    "duration": 6,
    "start_time": "2024-05-11T07:52:33.210Z"
   },
   {
    "duration": 12,
    "start_time": "2024-05-11T07:52:33.217Z"
   },
   {
    "duration": 10,
    "start_time": "2024-05-11T07:52:33.231Z"
   },
   {
    "duration": 12,
    "start_time": "2024-05-11T07:52:33.242Z"
   },
   {
    "duration": 9,
    "start_time": "2024-05-11T07:52:33.256Z"
   },
   {
    "duration": 7,
    "start_time": "2024-05-11T07:52:33.267Z"
   },
   {
    "duration": 15,
    "start_time": "2024-05-11T07:52:33.277Z"
   },
   {
    "duration": 6,
    "start_time": "2024-05-11T07:52:33.295Z"
   },
   {
    "duration": 10,
    "start_time": "2024-05-11T07:52:33.303Z"
   },
   {
    "duration": 1743,
    "start_time": "2024-05-11T07:52:33.314Z"
   },
   {
    "duration": 410,
    "start_time": "2024-05-11T07:52:35.059Z"
   },
   {
    "duration": 43,
    "start_time": "2024-05-11T07:52:35.472Z"
   },
   {
    "duration": 12129,
    "start_time": "2024-05-11T07:52:35.516Z"
   },
   {
    "duration": 49,
    "start_time": "2024-05-11T07:52:47.647Z"
   },
   {
    "duration": 13,
    "start_time": "2024-05-11T07:52:47.698Z"
   },
   {
    "duration": 3,
    "start_time": "2024-05-11T07:52:47.713Z"
   },
   {
    "duration": 6,
    "start_time": "2024-05-11T08:16:27.739Z"
   },
   {
    "duration": 105,
    "start_time": "2024-05-11T08:18:39.339Z"
   },
   {
    "duration": 12,
    "start_time": "2024-05-11T08:19:28.327Z"
   },
   {
    "duration": 11,
    "start_time": "2024-05-11T08:21:00.578Z"
   },
   {
    "duration": 16,
    "start_time": "2024-05-11T08:21:52.061Z"
   },
   {
    "duration": 11,
    "start_time": "2024-05-11T08:23:47.410Z"
   },
   {
    "duration": 16,
    "start_time": "2024-05-11T08:23:58.626Z"
   },
   {
    "duration": 12,
    "start_time": "2024-05-11T08:24:19.460Z"
   },
   {
    "duration": 4,
    "start_time": "2024-05-11T08:33:00.778Z"
   },
   {
    "duration": 11,
    "start_time": "2024-05-11T08:33:04.061Z"
   },
   {
    "duration": 3,
    "start_time": "2024-05-11T08:33:40.047Z"
   },
   {
    "duration": 12,
    "start_time": "2024-05-11T08:33:43.177Z"
   },
   {
    "duration": 41,
    "start_time": "2024-05-11T08:34:01.015Z"
   },
   {
    "duration": 3,
    "start_time": "2024-05-11T08:34:21.099Z"
   },
   {
    "duration": 15,
    "start_time": "2024-05-11T08:34:28.372Z"
   },
   {
    "duration": 46,
    "start_time": "2024-05-11T08:34:40.624Z"
   },
   {
    "duration": 3,
    "start_time": "2024-05-11T08:34:47.514Z"
   },
   {
    "duration": 3,
    "start_time": "2024-05-11T08:35:02.650Z"
   },
   {
    "duration": 11,
    "start_time": "2024-05-11T08:35:06.107Z"
   },
   {
    "duration": 4,
    "start_time": "2024-05-11T08:35:35.274Z"
   },
   {
    "duration": 11,
    "start_time": "2024-05-11T08:35:37.936Z"
   },
   {
    "duration": 5,
    "start_time": "2024-05-11T08:35:46.348Z"
   },
   {
    "duration": 15,
    "start_time": "2024-05-11T08:35:48.853Z"
   },
   {
    "duration": 15,
    "start_time": "2024-05-11T09:13:41.354Z"
   },
   {
    "duration": 13,
    "start_time": "2024-05-11T09:14:07.979Z"
   },
   {
    "duration": 517,
    "start_time": "2024-05-11T09:15:16.754Z"
   },
   {
    "duration": 5,
    "start_time": "2024-05-11T09:15:52.606Z"
   },
   {
    "duration": 661,
    "start_time": "2024-05-11T09:16:18.232Z"
   },
   {
    "duration": 627,
    "start_time": "2024-05-11T09:16:36.961Z"
   },
   {
    "duration": 8,
    "start_time": "2024-05-11T09:17:32.181Z"
   },
   {
    "duration": 4,
    "start_time": "2024-05-11T09:17:39.617Z"
   },
   {
    "duration": 4,
    "start_time": "2024-05-11T09:20:36.187Z"
   },
   {
    "duration": 4,
    "start_time": "2024-05-11T09:21:28.016Z"
   },
   {
    "duration": 8,
    "start_time": "2024-05-11T09:21:52.168Z"
   },
   {
    "duration": 3,
    "start_time": "2024-05-11T09:21:59.220Z"
   },
   {
    "duration": 3,
    "start_time": "2024-05-11T09:22:09.682Z"
   },
   {
    "duration": 4,
    "start_time": "2024-05-11T09:22:20.929Z"
   },
   {
    "duration": 3,
    "start_time": "2024-05-11T09:22:22.175Z"
   },
   {
    "duration": 7,
    "start_time": "2024-05-11T09:24:18.061Z"
   },
   {
    "duration": 5,
    "start_time": "2024-05-11T09:26:27.968Z"
   },
   {
    "duration": 4,
    "start_time": "2024-05-11T09:46:03.552Z"
   },
   {
    "duration": 5,
    "start_time": "2024-05-11T09:46:30.752Z"
   },
   {
    "duration": 11,
    "start_time": "2024-05-11T09:47:02.153Z"
   },
   {
    "duration": 5,
    "start_time": "2024-05-11T09:47:13.292Z"
   },
   {
    "duration": 11,
    "start_time": "2024-05-11T09:47:55.463Z"
   },
   {
    "duration": 10,
    "start_time": "2024-05-11T09:49:20.328Z"
   },
   {
    "duration": 9,
    "start_time": "2024-05-11T09:50:53.414Z"
   },
   {
    "duration": 3,
    "start_time": "2024-05-11T09:51:06.399Z"
   },
   {
    "duration": 5,
    "start_time": "2024-05-11T09:52:35.373Z"
   },
   {
    "duration": 4,
    "start_time": "2024-05-11T09:56:12.036Z"
   },
   {
    "duration": 5,
    "start_time": "2024-05-11T09:56:17.810Z"
   },
   {
    "duration": 5,
    "start_time": "2024-05-11T09:56:24.499Z"
   },
   {
    "duration": 5,
    "start_time": "2024-05-11T09:56:37.924Z"
   },
   {
    "duration": 4,
    "start_time": "2024-05-11T09:57:56.294Z"
   },
   {
    "duration": 5,
    "start_time": "2024-05-11T09:58:06.716Z"
   },
   {
    "duration": 4,
    "start_time": "2024-05-11T09:58:10.617Z"
   },
   {
    "duration": 5,
    "start_time": "2024-05-11T09:58:12.996Z"
   },
   {
    "duration": 5,
    "start_time": "2024-05-11T09:58:41.455Z"
   },
   {
    "duration": 10,
    "start_time": "2024-05-11T10:01:35.004Z"
   },
   {
    "duration": 10,
    "start_time": "2024-05-11T10:02:50.648Z"
   },
   {
    "duration": 14,
    "start_time": "2024-05-11T10:05:48.282Z"
   },
   {
    "duration": 4,
    "start_time": "2024-05-11T10:06:38.114Z"
   },
   {
    "duration": 11,
    "start_time": "2024-05-11T10:06:46.320Z"
   },
   {
    "duration": 13,
    "start_time": "2024-05-11T10:08:12.218Z"
   },
   {
    "duration": 11,
    "start_time": "2024-05-11T10:10:56.392Z"
   },
   {
    "duration": 13,
    "start_time": "2024-05-11T10:11:30.558Z"
   },
   {
    "duration": 9,
    "start_time": "2024-05-11T10:11:59.548Z"
   },
   {
    "duration": 10,
    "start_time": "2024-05-11T10:12:16.174Z"
   },
   {
    "duration": 10,
    "start_time": "2024-05-11T10:12:22.447Z"
   },
   {
    "duration": 14,
    "start_time": "2024-05-11T10:16:08.167Z"
   },
   {
    "duration": 14,
    "start_time": "2024-05-11T10:20:59.031Z"
   },
   {
    "duration": 13,
    "start_time": "2024-05-11T10:29:26.764Z"
   },
   {
    "duration": 14,
    "start_time": "2024-05-11T10:29:34.647Z"
   },
   {
    "duration": 49,
    "start_time": "2024-05-11T10:59:51.675Z"
   },
   {
    "duration": 12,
    "start_time": "2024-05-11T11:00:29.580Z"
   },
   {
    "duration": 4,
    "start_time": "2024-05-11T11:06:37.961Z"
   },
   {
    "duration": 5,
    "start_time": "2024-05-11T11:06:43.536Z"
   },
   {
    "duration": 3,
    "start_time": "2024-05-11T11:07:11.826Z"
   },
   {
    "duration": 7,
    "start_time": "2024-05-11T11:07:13.998Z"
   },
   {
    "duration": 12,
    "start_time": "2024-05-11T11:09:14.895Z"
   },
   {
    "duration": 11,
    "start_time": "2024-05-11T11:22:07.071Z"
   },
   {
    "duration": 11,
    "start_time": "2024-05-11T11:23:06.080Z"
   },
   {
    "duration": 12,
    "start_time": "2024-05-11T11:23:15.684Z"
   },
   {
    "duration": 12,
    "start_time": "2024-05-11T11:23:42.024Z"
   },
   {
    "duration": 13,
    "start_time": "2024-05-11T11:23:52.600Z"
   },
   {
    "duration": 1489,
    "start_time": "2024-05-11T11:28:48.119Z"
   },
   {
    "duration": 11,
    "start_time": "2024-05-11T11:29:01.190Z"
   },
   {
    "duration": 13,
    "start_time": "2024-05-11T11:48:05.329Z"
   },
   {
    "duration": 14,
    "start_time": "2024-05-11T11:57:31.579Z"
   },
   {
    "duration": 14,
    "start_time": "2024-05-11T11:58:58.742Z"
   },
   {
    "duration": 12,
    "start_time": "2024-05-11T12:00:52.204Z"
   },
   {
    "duration": 12,
    "start_time": "2024-05-11T12:02:05.486Z"
   },
   {
    "duration": 339,
    "start_time": "2024-05-11T12:36:04.439Z"
   },
   {
    "duration": 11,
    "start_time": "2024-05-11T12:36:28.303Z"
   },
   {
    "duration": 341,
    "start_time": "2024-05-11T12:36:33.825Z"
   },
   {
    "duration": 319,
    "start_time": "2024-05-11T12:37:32.551Z"
   },
   {
    "duration": 15,
    "start_time": "2024-05-11T12:37:58.590Z"
   },
   {
    "duration": 169,
    "start_time": "2024-05-11T12:38:12.269Z"
   },
   {
    "duration": 14,
    "start_time": "2024-05-11T12:38:17.398Z"
   },
   {
    "duration": 185,
    "start_time": "2024-05-11T12:38:23.208Z"
   },
   {
    "duration": 179,
    "start_time": "2024-05-11T12:38:36.338Z"
   },
   {
    "duration": 191,
    "start_time": "2024-05-11T12:41:27.991Z"
   },
   {
    "duration": 19,
    "start_time": "2024-05-11T12:41:38.281Z"
   },
   {
    "duration": 37,
    "start_time": "2024-05-11T12:41:44.752Z"
   },
   {
    "duration": 31,
    "start_time": "2024-05-11T12:41:49.491Z"
   },
   {
    "duration": 43,
    "start_time": "2024-05-11T12:41:53.425Z"
   },
   {
    "duration": 70,
    "start_time": "2024-05-11T12:41:57.120Z"
   },
   {
    "duration": 162,
    "start_time": "2024-05-11T12:42:00.588Z"
   },
   {
    "duration": 274,
    "start_time": "2024-05-11T12:42:05.960Z"
   },
   {
    "duration": 293,
    "start_time": "2024-05-11T12:45:54.094Z"
   },
   {
    "duration": 131,
    "start_time": "2024-05-11T12:51:02.447Z"
   },
   {
    "duration": 214,
    "start_time": "2024-05-11T12:52:41.333Z"
   },
   {
    "duration": 176,
    "start_time": "2024-05-11T12:53:56.243Z"
   },
   {
    "duration": 169,
    "start_time": "2024-05-11T12:54:39.284Z"
   },
   {
    "duration": 166,
    "start_time": "2024-05-11T12:54:56.049Z"
   },
   {
    "duration": 158,
    "start_time": "2024-05-11T12:55:03.129Z"
   },
   {
    "duration": 139,
    "start_time": "2024-05-11T13:05:15.463Z"
   },
   {
    "duration": 150,
    "start_time": "2024-05-11T13:05:34.823Z"
   },
   {
    "duration": 166,
    "start_time": "2024-05-11T13:06:19.544Z"
   },
   {
    "duration": 183,
    "start_time": "2024-05-11T13:06:56.725Z"
   },
   {
    "duration": 78,
    "start_time": "2024-05-11T13:07:27.128Z"
   },
   {
    "duration": 1135,
    "start_time": "2024-05-11T13:07:59.329Z"
   },
   {
    "duration": 152,
    "start_time": "2024-05-11T13:08:14.622Z"
   },
   {
    "duration": 200,
    "start_time": "2024-05-11T13:10:28.032Z"
   },
   {
    "duration": 160,
    "start_time": "2024-05-11T13:10:33.710Z"
   },
   {
    "duration": 32,
    "start_time": "2024-05-11T13:15:54.631Z"
   },
   {
    "duration": 16261,
    "start_time": "2024-05-11T13:18:32.162Z"
   },
   {
    "duration": 16248,
    "start_time": "2024-05-11T13:23:36.334Z"
   },
   {
    "duration": 16572,
    "start_time": "2024-05-11T13:26:04.777Z"
   },
   {
    "duration": 7,
    "start_time": "2024-05-11T13:38:34.729Z"
   },
   {
    "duration": 247,
    "start_time": "2024-05-11T13:39:51.059Z"
   },
   {
    "duration": 164,
    "start_time": "2024-05-11T13:39:54.895Z"
   },
   {
    "duration": 376,
    "start_time": "2024-05-11T13:40:10.029Z"
   },
   {
    "duration": 254,
    "start_time": "2024-05-11T14:01:22.499Z"
   },
   {
    "duration": 184,
    "start_time": "2024-05-11T14:39:16.134Z"
   },
   {
    "duration": 147,
    "start_time": "2024-05-11T14:40:11.091Z"
   },
   {
    "duration": 172,
    "start_time": "2024-05-11T14:40:40.764Z"
   },
   {
    "duration": 225,
    "start_time": "2024-05-11T14:48:13.119Z"
   },
   {
    "duration": 30,
    "start_time": "2024-05-11T14:57:35.373Z"
   },
   {
    "duration": 15804,
    "start_time": "2024-05-11T14:58:14.662Z"
   },
   {
    "duration": 249,
    "start_time": "2024-05-11T14:58:30.467Z"
   },
   {
    "duration": 16014,
    "start_time": "2024-05-11T14:58:50.964Z"
   },
   {
    "duration": 16566,
    "start_time": "2024-05-11T14:59:58.145Z"
   },
   {
    "duration": 15899,
    "start_time": "2024-05-11T15:00:52.030Z"
   },
   {
    "duration": 15722,
    "start_time": "2024-05-11T15:01:18.300Z"
   },
   {
    "duration": 15686,
    "start_time": "2024-05-11T15:01:49.949Z"
   },
   {
    "duration": 38,
    "start_time": "2024-05-11T15:11:20.785Z"
   },
   {
    "duration": 53,
    "start_time": "2024-05-11T15:11:26.509Z"
   },
   {
    "duration": 17,
    "start_time": "2024-05-11T15:11:31.852Z"
   },
   {
    "duration": 37,
    "start_time": "2024-05-11T15:11:38.434Z"
   },
   {
    "duration": 42,
    "start_time": "2024-05-11T15:11:48.841Z"
   },
   {
    "duration": 34,
    "start_time": "2024-05-11T15:11:55.294Z"
   },
   {
    "duration": 11,
    "start_time": "2024-05-11T15:13:05.564Z"
   },
   {
    "duration": 11,
    "start_time": "2024-05-11T15:13:20.791Z"
   },
   {
    "duration": 11,
    "start_time": "2024-05-11T15:13:40.876Z"
   },
   {
    "duration": 24,
    "start_time": "2024-05-11T15:14:06.319Z"
   },
   {
    "duration": 26,
    "start_time": "2024-05-11T15:14:21.657Z"
   },
   {
    "duration": 38,
    "start_time": "2024-05-11T15:14:37.064Z"
   },
   {
    "duration": 202,
    "start_time": "2024-05-11T15:23:36.727Z"
   },
   {
    "duration": 9,
    "start_time": "2024-05-11T15:24:20.477Z"
   },
   {
    "duration": 224,
    "start_time": "2024-05-11T15:24:33.452Z"
   },
   {
    "duration": 232,
    "start_time": "2024-05-11T15:24:59.982Z"
   },
   {
    "duration": 46326,
    "start_time": "2024-05-11T15:25:51.692Z"
   },
   {
    "duration": 46173,
    "start_time": "2024-05-11T15:27:25.448Z"
   },
   {
    "duration": 62658,
    "start_time": "2024-05-11T15:29:27.063Z"
   },
   {
    "duration": 14,
    "start_time": "2024-05-11T15:32:17.878Z"
   },
   {
    "duration": 200,
    "start_time": "2024-05-11T15:32:53.446Z"
   },
   {
    "duration": 33,
    "start_time": "2024-05-11T15:33:38.493Z"
   },
   {
    "duration": 66802,
    "start_time": "2024-05-11T15:35:07.928Z"
   },
   {
    "duration": 219,
    "start_time": "2024-05-11T15:37:11.271Z"
   },
   {
    "duration": 229,
    "start_time": "2024-05-11T15:37:27.459Z"
   },
   {
    "duration": 40,
    "start_time": "2024-05-11T15:41:10.299Z"
   },
   {
    "duration": 207,
    "start_time": "2024-05-11T16:16:12.275Z"
   },
   {
    "duration": 217,
    "start_time": "2024-05-11T16:16:24.179Z"
   },
   {
    "duration": 63515,
    "start_time": "2024-05-11T16:17:08.019Z"
   },
   {
    "duration": 18,
    "start_time": "2024-05-11T16:26:41.197Z"
   },
   {
    "duration": 1102,
    "start_time": "2024-05-11T16:31:58.437Z"
   },
   {
    "duration": 31,
    "start_time": "2024-05-11T16:31:59.541Z"
   },
   {
    "duration": 13,
    "start_time": "2024-05-11T16:31:59.574Z"
   },
   {
    "duration": 15,
    "start_time": "2024-05-11T16:31:59.589Z"
   },
   {
    "duration": 13,
    "start_time": "2024-05-11T16:31:59.606Z"
   },
   {
    "duration": 6,
    "start_time": "2024-05-11T16:31:59.621Z"
   },
   {
    "duration": 9,
    "start_time": "2024-05-11T16:31:59.628Z"
   },
   {
    "duration": 32,
    "start_time": "2024-05-11T16:31:59.638Z"
   },
   {
    "duration": 5,
    "start_time": "2024-05-11T16:31:59.672Z"
   },
   {
    "duration": 8,
    "start_time": "2024-05-11T16:31:59.680Z"
   },
   {
    "duration": 14,
    "start_time": "2024-05-11T16:31:59.689Z"
   },
   {
    "duration": 6,
    "start_time": "2024-05-11T16:31:59.705Z"
   },
   {
    "duration": 5,
    "start_time": "2024-05-11T16:31:59.712Z"
   },
   {
    "duration": 13,
    "start_time": "2024-05-11T16:31:59.719Z"
   },
   {
    "duration": 43,
    "start_time": "2024-05-11T16:31:59.734Z"
   },
   {
    "duration": 224,
    "start_time": "2024-05-11T16:31:59.779Z"
   },
   {
    "duration": 32,
    "start_time": "2024-05-11T16:32:00.005Z"
   },
   {
    "duration": 64434,
    "start_time": "2024-05-11T16:32:00.039Z"
   },
   {
    "duration": 45,
    "start_time": "2024-05-11T16:33:04.475Z"
   },
   {
    "duration": 18,
    "start_time": "2024-05-11T16:33:04.522Z"
   },
   {
    "duration": 3,
    "start_time": "2024-05-11T16:33:04.542Z"
   },
   {
    "duration": 6,
    "start_time": "2024-05-11T16:53:10.730Z"
   },
   {
    "duration": 9,
    "start_time": "2024-05-11T16:54:13.783Z"
   },
   {
    "duration": 8,
    "start_time": "2024-05-11T16:54:15.811Z"
   },
   {
    "duration": 6,
    "start_time": "2024-05-11T16:58:18.798Z"
   },
   {
    "duration": 1030,
    "start_time": "2024-05-11T17:06:12.920Z"
   },
   {
    "duration": 33,
    "start_time": "2024-05-11T17:06:13.952Z"
   },
   {
    "duration": 13,
    "start_time": "2024-05-11T17:06:13.987Z"
   },
   {
    "duration": 21,
    "start_time": "2024-05-11T17:06:14.001Z"
   },
   {
    "duration": 7,
    "start_time": "2024-05-11T17:06:14.023Z"
   },
   {
    "duration": 6,
    "start_time": "2024-05-11T17:06:14.031Z"
   },
   {
    "duration": 12,
    "start_time": "2024-05-11T17:06:14.039Z"
   },
   {
    "duration": 32,
    "start_time": "2024-05-11T17:06:14.052Z"
   },
   {
    "duration": 27,
    "start_time": "2024-05-11T17:06:14.085Z"
   },
   {
    "duration": 17,
    "start_time": "2024-05-11T17:06:14.115Z"
   },
   {
    "duration": 14,
    "start_time": "2024-05-11T17:06:14.133Z"
   },
   {
    "duration": 33,
    "start_time": "2024-05-11T17:06:14.149Z"
   },
   {
    "duration": 13,
    "start_time": "2024-05-11T17:06:14.186Z"
   },
   {
    "duration": 13,
    "start_time": "2024-05-11T17:06:14.201Z"
   },
   {
    "duration": 22,
    "start_time": "2024-05-11T17:06:14.216Z"
   },
   {
    "duration": 230,
    "start_time": "2024-05-11T17:06:14.240Z"
   },
   {
    "duration": 35,
    "start_time": "2024-05-11T17:06:14.471Z"
   },
   {
    "duration": 66317,
    "start_time": "2024-05-11T17:06:14.507Z"
   },
   {
    "duration": 32,
    "start_time": "2024-05-11T17:07:20.825Z"
   },
   {
    "duration": 20,
    "start_time": "2024-05-11T17:07:20.866Z"
   },
   {
    "duration": 21,
    "start_time": "2024-05-11T17:07:20.887Z"
   },
   {
    "duration": 1034,
    "start_time": "2024-05-11T18:36:29.271Z"
   },
   {
    "duration": 31,
    "start_time": "2024-05-11T18:36:30.308Z"
   },
   {
    "duration": 81,
    "start_time": "2024-05-11T18:36:30.341Z"
   },
   {
    "duration": 128,
    "start_time": "2024-05-11T18:36:30.424Z"
   },
   {
    "duration": 55,
    "start_time": "2024-05-11T18:36:30.555Z"
   },
   {
    "duration": 44,
    "start_time": "2024-05-11T18:36:30.612Z"
   },
   {
    "duration": 78,
    "start_time": "2024-05-11T18:36:30.657Z"
   },
   {
    "duration": 166,
    "start_time": "2024-05-11T18:36:30.736Z"
   },
   {
    "duration": 154,
    "start_time": "2024-05-11T18:36:30.904Z"
   },
   {
    "duration": 33,
    "start_time": "2024-05-11T18:36:31.060Z"
   },
   {
    "duration": 67,
    "start_time": "2024-05-11T18:36:31.094Z"
   },
   {
    "duration": 108,
    "start_time": "2024-05-11T18:36:31.163Z"
   },
   {
    "duration": 93,
    "start_time": "2024-05-11T18:36:31.272Z"
   },
   {
    "duration": 90,
    "start_time": "2024-05-11T18:36:31.369Z"
   },
   {
    "duration": 75,
    "start_time": "2024-05-11T18:36:31.460Z"
   },
   {
    "duration": 348,
    "start_time": "2024-05-11T18:36:31.537Z"
   },
   {
    "duration": 37,
    "start_time": "2024-05-11T18:36:31.887Z"
   },
   {
    "duration": 69378,
    "start_time": "2024-05-11T18:36:31.926Z"
   },
   {
    "duration": 32,
    "start_time": "2024-05-11T18:37:41.305Z"
   },
   {
    "duration": 32,
    "start_time": "2024-05-11T18:37:41.339Z"
   },
   {
    "duration": 6,
    "start_time": "2024-05-11T18:37:41.373Z"
   },
   {
    "duration": 6,
    "start_time": "2024-05-11T18:52:59.656Z"
   },
   {
    "duration": 18,
    "start_time": "2024-05-11T18:54:14.103Z"
   },
   {
    "duration": 45,
    "start_time": "2024-05-11T20:24:42.595Z"
   },
   {
    "duration": 1076,
    "start_time": "2024-05-11T20:24:48.734Z"
   },
   {
    "duration": 110,
    "start_time": "2024-05-11T20:24:49.812Z"
   },
   {
    "duration": 11,
    "start_time": "2024-05-11T20:24:49.923Z"
   },
   {
    "duration": 106,
    "start_time": "2024-05-11T20:24:49.936Z"
   },
   {
    "duration": 124,
    "start_time": "2024-05-11T20:24:50.044Z"
   },
   {
    "duration": 123,
    "start_time": "2024-05-11T20:24:50.170Z"
   },
   {
    "duration": 207,
    "start_time": "2024-05-11T20:24:50.294Z"
   },
   {
    "duration": 98,
    "start_time": "2024-05-11T20:24:50.503Z"
   },
   {
    "duration": 43,
    "start_time": "2024-05-11T20:24:50.602Z"
   },
   {
    "duration": 51,
    "start_time": "2024-05-11T20:24:50.648Z"
   },
   {
    "duration": 66,
    "start_time": "2024-05-11T20:24:50.701Z"
   },
   {
    "duration": 56,
    "start_time": "2024-05-11T20:24:50.769Z"
   },
   {
    "duration": 39,
    "start_time": "2024-05-11T20:24:50.827Z"
   },
   {
    "duration": 51,
    "start_time": "2024-05-11T20:24:50.867Z"
   },
   {
    "duration": 25,
    "start_time": "2024-05-11T20:24:50.920Z"
   },
   {
    "duration": 217,
    "start_time": "2024-05-11T20:24:50.947Z"
   },
   {
    "duration": 42,
    "start_time": "2024-05-11T20:24:51.167Z"
   },
   {
    "duration": 64777,
    "start_time": "2024-05-11T20:24:51.210Z"
   },
   {
    "duration": 38,
    "start_time": "2024-05-11T20:25:55.988Z"
   },
   {
    "duration": 18,
    "start_time": "2024-05-11T20:25:56.027Z"
   },
   {
    "duration": 35,
    "start_time": "2024-05-11T20:25:56.047Z"
   },
   {
    "duration": 1098,
    "start_time": "2024-05-11T20:39:36.979Z"
   },
   {
    "duration": 29,
    "start_time": "2024-05-11T20:39:38.079Z"
   },
   {
    "duration": 51,
    "start_time": "2024-05-11T20:39:38.110Z"
   },
   {
    "duration": 32,
    "start_time": "2024-05-11T20:39:38.162Z"
   },
   {
    "duration": 35,
    "start_time": "2024-05-11T20:39:38.196Z"
   },
   {
    "duration": 24,
    "start_time": "2024-05-11T20:39:38.233Z"
   },
   {
    "duration": 32,
    "start_time": "2024-05-11T20:39:38.258Z"
   },
   {
    "duration": 81,
    "start_time": "2024-05-11T20:39:38.291Z"
   },
   {
    "duration": 33,
    "start_time": "2024-05-11T20:39:38.374Z"
   },
   {
    "duration": 47,
    "start_time": "2024-05-11T20:39:38.408Z"
   },
   {
    "duration": 21,
    "start_time": "2024-05-11T20:39:38.456Z"
   },
   {
    "duration": 15,
    "start_time": "2024-05-11T20:39:38.479Z"
   },
   {
    "duration": 16,
    "start_time": "2024-05-11T20:39:38.495Z"
   },
   {
    "duration": 18,
    "start_time": "2024-05-11T20:39:38.514Z"
   },
   {
    "duration": 16,
    "start_time": "2024-05-11T20:39:38.534Z"
   },
   {
    "duration": 243,
    "start_time": "2024-05-11T20:39:38.552Z"
   },
   {
    "duration": 34,
    "start_time": "2024-05-11T20:39:38.796Z"
   },
   {
    "duration": 66418,
    "start_time": "2024-05-11T20:39:38.832Z"
   },
   {
    "duration": 43,
    "start_time": "2024-05-11T20:40:45.252Z"
   },
   {
    "duration": 36,
    "start_time": "2024-05-11T20:40:45.296Z"
   },
   {
    "duration": 93,
    "start_time": "2024-05-11T20:40:45.333Z"
   },
   {
    "duration": 1355,
    "start_time": "2024-05-11T21:38:02.270Z"
   },
   {
    "duration": 65,
    "start_time": "2024-05-11T21:38:03.627Z"
   },
   {
    "duration": 15,
    "start_time": "2024-05-11T21:38:03.694Z"
   },
   {
    "duration": 79,
    "start_time": "2024-05-11T21:38:03.712Z"
   },
   {
    "duration": 7,
    "start_time": "2024-05-11T21:38:03.792Z"
   },
   {
    "duration": 5,
    "start_time": "2024-05-11T21:38:03.801Z"
   },
   {
    "duration": 9,
    "start_time": "2024-05-11T21:38:03.807Z"
   },
   {
    "duration": 11,
    "start_time": "2024-05-11T21:38:03.869Z"
   },
   {
    "duration": 95,
    "start_time": "2024-05-11T21:38:03.882Z"
   },
   {
    "duration": 93,
    "start_time": "2024-05-11T21:38:03.980Z"
   },
   {
    "duration": 26,
    "start_time": "2024-05-11T21:38:04.075Z"
   },
   {
    "duration": 7,
    "start_time": "2024-05-11T21:38:04.103Z"
   },
   {
    "duration": 61,
    "start_time": "2024-05-11T21:38:04.111Z"
   },
   {
    "duration": 18,
    "start_time": "2024-05-11T21:38:04.173Z"
   },
   {
    "duration": 77,
    "start_time": "2024-05-11T21:38:04.194Z"
   },
   {
    "duration": 508,
    "start_time": "2024-05-11T21:38:04.273Z"
   },
   {
    "duration": 94,
    "start_time": "2024-05-11T21:38:04.783Z"
   },
   {
    "duration": 72716,
    "start_time": "2024-05-11T21:38:04.879Z"
   },
   {
    "duration": 32,
    "start_time": "2024-05-11T21:39:17.596Z"
   },
   {
    "duration": 14,
    "start_time": "2024-05-11T21:39:17.629Z"
   },
   {
    "duration": 30,
    "start_time": "2024-05-11T21:39:17.644Z"
   }
  ],
  "kernelspec": {
   "display_name": "Python 3 (ipykernel)",
   "language": "python",
   "name": "python3"
  },
  "language_info": {
   "codemirror_mode": {
    "name": "ipython",
    "version": 3
   },
   "file_extension": ".py",
   "mimetype": "text/x-python",
   "name": "python",
   "nbconvert_exporter": "python",
   "pygments_lexer": "ipython3",
   "version": "3.11.7"
  },
  "toc": {
   "base_numbering": 1,
   "nav_menu": {},
   "number_sections": true,
   "sideBar": true,
   "skip_h1_title": true,
   "title_cell": "Table of Contents",
   "title_sidebar": "Contents",
   "toc_cell": false,
   "toc_position": {
    "height": "calc(100% - 180px)",
    "left": "10px",
    "top": "150px",
    "width": "307.2px"
   },
   "toc_section_display": true,
   "toc_window_display": true
  }
 },
 "nbformat": 4,
 "nbformat_minor": 2
}
