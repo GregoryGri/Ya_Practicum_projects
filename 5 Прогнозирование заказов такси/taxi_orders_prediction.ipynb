{
 "cells": [
  {
   "cell_type": "markdown",
   "metadata": {},
   "source": [
    "#  Прогнозирование заказов такси"
   ]
  },
  {
   "cell_type": "markdown",
   "metadata": {},
   "source": [
    "## Описание проекта"
   ]
  },
  {
   "cell_type": "markdown",
   "metadata": {},
   "source": [
    "Компания «Чётенькое такси» собрала исторические данные о заказах такси в аэропортах. Чтобы привлекать больше водителей в период пиковой нагрузки, нужно спрогнозировать количество заказов такси на следующий час."
   ]
  },
  {
   "cell_type": "markdown",
   "metadata": {},
   "source": [
    "## Цель проекта"
   ]
  },
  {
   "cell_type": "markdown",
   "metadata": {},
   "source": [
    "Необходимо построить модель, предсказывающую количество заказов такси на следующий час. Значение метрики RMSE на тестовой выборке должно быть не больше 48."
   ]
  },
  {
   "cell_type": "markdown",
   "metadata": {},
   "source": [
    "## План работы"
   ]
  },
  {
   "cell_type": "markdown",
   "metadata": {},
   "source": [
    "1. Загрузка данных.\n",
    "2. Ресемплирование данных по одному часу.\n",
    "3. Исслдование данных.\n",
    "4. Подготовка данных к машинному обучению.\n",
    "5. Обучение моделей.\n",
    "6. Тестирование лучшей модели."
   ]
  },
  {
   "cell_type": "markdown",
   "metadata": {},
   "source": [
    "## Описание данных"
   ]
  },
  {
   "cell_type": "markdown",
   "metadata": {},
   "source": [
    "- **datetime** - время;\n",
    "- **num_orders** - количество заказов."
   ]
  },
  {
   "cell_type": "markdown",
   "metadata": {},
   "source": [
    "## Настройка окружения"
   ]
  },
  {
   "cell_type": "markdown",
   "metadata": {},
   "source": [
    "### Загрузка библиотек"
   ]
  },
  {
   "cell_type": "code",
   "execution_count": 1,
   "metadata": {},
   "outputs": [],
   "source": [
    "# загрузим необходимые библиотеки\n",
    "import pandas as pd\n",
    "import os\n",
    "import matplotlib.pyplot as plt\n",
    "import seaborn as sns\n",
    "from sklearn.model_selection import train_test_split\n",
    "from statsmodels.tsa.stattools import adfuller\n",
    "from statsmodels.tsa.seasonal import seasonal_decompose\n",
    "from statsmodels.tsa.stattools import adfuller\n",
    "from sklearn.model_selection import GridSearchCV\n",
    "from sklearn.linear_model import LinearRegression\n",
    "from sklearn.tree import DecisionTreeRegressor\n",
    "from sklearn.ensemble import RandomForestRegressor\n",
    "from sklearn.dummy import DummyRegressor\n",
    "from sklearn.model_selection import TimeSeriesSplit\n",
    "import lightgbm as lgb\n",
    "from sklearn.metrics import mean_squared_error\n",
    "import plotly.graph_objects as go\n",
    "import numpy as np\n",
    "import datetime\n",
    "from sklearn.pipeline import Pipeline\n",
    "from sklearn.preprocessing import (\n",
    "    StandardScaler,\n",
    "    OneHotEncoder,\n",
    "    OrdinalEncoder,\n",
    "    MinMaxScaler,\n",
    ")\n",
    "from sklearn.impute import SimpleImputer\n",
    "from sklearn.compose import ColumnTransformer"
   ]
  },
  {
   "cell_type": "markdown",
   "metadata": {},
   "source": [
    "### Функции"
   ]
  },
  {
   "cell_type": "code",
   "execution_count": 2,
   "metadata": {},
   "outputs": [],
   "source": [
    "# функция отрисовки графиков\n",
    "def graph_plot(data, graph_size, graph_title, graph_x, graph_y, graph_legend):\n",
    "    plt.figure(figsize=graph_size)\n",
    "    plt.plot(data)\n",
    "    plt.title(graph_title)\n",
    "    plt.legend(graph_legend)\n",
    "    plt.xlabel(graph_x)\n",
    "    plt.ylabel(graph_y)\n",
    "    plt.show()"
   ]
  },
  {
   "cell_type": "markdown",
   "metadata": {},
   "source": [
    "## Загрузка и подготовка данных"
   ]
  },
  {
   "cell_type": "code",
   "execution_count": 3,
   "metadata": {},
   "outputs": [],
   "source": [
    "# загрузим данные и переведем даты в индексы, спарсив дату\n",
    "path_1 = '/datasets/taxi.csv'\n",
    "path_2 = 'https://code.s3.yandex.net/datasets/taxi.csv'\n",
    "\n",
    "if os.path.exists(path_1):\n",
    "    data = pd.read_csv(path_1, index_col=[0], parse_dates=[0])\n",
    "elif os.path.exists(path_2):\n",
    "    data = pd.read_csv(path_2, index_col=[0], parse_dates=[0])\n",
    "else:\n",
    "    print('Что то пошло не так')"
   ]
  },
  {
   "cell_type": "code",
   "execution_count": 4,
   "metadata": {
    "scrolled": true
   },
   "outputs": [
    {
     "data": {
      "text/html": [
       "<div>\n",
       "<style scoped>\n",
       "    .dataframe tbody tr th:only-of-type {\n",
       "        vertical-align: middle;\n",
       "    }\n",
       "\n",
       "    .dataframe tbody tr th {\n",
       "        vertical-align: top;\n",
       "    }\n",
       "\n",
       "    .dataframe thead th {\n",
       "        text-align: right;\n",
       "    }\n",
       "</style>\n",
       "<table border=\"1\" class=\"dataframe\">\n",
       "  <thead>\n",
       "    <tr style=\"text-align: right;\">\n",
       "      <th></th>\n",
       "      <th>num_orders</th>\n",
       "    </tr>\n",
       "    <tr>\n",
       "      <th>datetime</th>\n",
       "      <th></th>\n",
       "    </tr>\n",
       "  </thead>\n",
       "  <tbody>\n",
       "    <tr>\n",
       "      <th>2018-03-01 00:00:00</th>\n",
       "      <td>9</td>\n",
       "    </tr>\n",
       "    <tr>\n",
       "      <th>2018-03-01 00:10:00</th>\n",
       "      <td>14</td>\n",
       "    </tr>\n",
       "    <tr>\n",
       "      <th>2018-03-01 00:20:00</th>\n",
       "      <td>28</td>\n",
       "    </tr>\n",
       "    <tr>\n",
       "      <th>2018-03-01 00:30:00</th>\n",
       "      <td>20</td>\n",
       "    </tr>\n",
       "    <tr>\n",
       "      <th>2018-03-01 00:40:00</th>\n",
       "      <td>32</td>\n",
       "    </tr>\n",
       "  </tbody>\n",
       "</table>\n",
       "</div>"
      ],
      "text/plain": [
       "                     num_orders\n",
       "datetime                       \n",
       "2018-03-01 00:00:00           9\n",
       "2018-03-01 00:10:00          14\n",
       "2018-03-01 00:20:00          28\n",
       "2018-03-01 00:30:00          20\n",
       "2018-03-01 00:40:00          32"
      ]
     },
     "execution_count": 4,
     "metadata": {},
     "output_type": "execute_result"
    }
   ],
   "source": [
    "# проверим\n",
    "data.head()"
   ]
  },
  {
   "cell_type": "code",
   "execution_count": 5,
   "metadata": {},
   "outputs": [
    {
     "name": "stdout",
     "output_type": "stream",
     "text": [
      "<class 'pandas.core.frame.DataFrame'>\n",
      "DatetimeIndex: 26496 entries, 2018-03-01 00:00:00 to 2018-08-31 23:50:00\n",
      "Data columns (total 1 columns):\n",
      " #   Column      Non-Null Count  Dtype\n",
      "---  ------      --------------  -----\n",
      " 0   num_orders  26496 non-null  int64\n",
      "dtypes: int64(1)\n",
      "memory usage: 414.0 KB\n"
     ]
    }
   ],
   "source": [
    "# посмотрим общую информацию\n",
    "data.info()"
   ]
  },
  {
   "cell_type": "markdown",
   "metadata": {},
   "source": [
    "Дата распозналась, перевели в индексы, пропусков нет. Каждая строка содержит данные по количеству заказов такси в аэропорты за 10 минут."
   ]
  },
  {
   "cell_type": "code",
   "execution_count": 6,
   "metadata": {},
   "outputs": [
    {
     "data": {
      "text/plain": [
       "0"
      ]
     },
     "execution_count": 6,
     "metadata": {},
     "output_type": "execute_result"
    }
   ],
   "source": [
    "# проверим дубликаты\n",
    "data.index.duplicated().sum()"
   ]
  },
  {
   "cell_type": "markdown",
   "metadata": {},
   "source": [
    "Дубликаты отсутствуют."
   ]
  },
  {
   "cell_type": "code",
   "execution_count": 7,
   "metadata": {},
   "outputs": [
    {
     "data": {
      "text/plain": [
       "(Timestamp('2018-03-01 00:00:00'), Timestamp('2018-08-31 23:50:00'))"
      ]
     },
     "execution_count": 7,
     "metadata": {},
     "output_type": "execute_result"
    }
   ],
   "source": [
    "# установим индекс в хронологическом порядке\n",
    "data = data.sort_index()\n",
    "data.index.min(), data.index.max()"
   ]
  },
  {
   "cell_type": "markdown",
   "metadata": {},
   "source": [
    "Перед нами данные за период с марта по август 2018 г."
   ]
  },
  {
   "cell_type": "code",
   "execution_count": 8,
   "metadata": {},
   "outputs": [
    {
     "data": {
      "text/plain": [
       "True"
      ]
     },
     "execution_count": 8,
     "metadata": {},
     "output_type": "execute_result"
    }
   ],
   "source": [
    "# проверим данные на монотонность\n",
    "data.index.is_monotonic"
   ]
  },
  {
   "cell_type": "markdown",
   "metadata": {},
   "source": [
    "Данные монотонны."
   ]
  },
  {
   "cell_type": "code",
   "execution_count": 9,
   "metadata": {},
   "outputs": [
    {
     "name": "stdout",
     "output_type": "stream",
     "text": [
      "<class 'pandas.core.frame.DataFrame'>\n",
      "DatetimeIndex: 4416 entries, 2018-03-01 00:00:00 to 2018-08-31 23:00:00\n",
      "Freq: H\n",
      "Data columns (total 1 columns):\n",
      " #   Column      Non-Null Count  Dtype\n",
      "---  ------      --------------  -----\n",
      " 0   num_orders  4416 non-null   int64\n",
      "dtypes: int64(1)\n",
      "memory usage: 69.0 KB\n"
     ]
    }
   ],
   "source": [
    "# заказчика интересует часовой интервал планирования, поэтому ресемплируем данные в данном масштабе и проверими\n",
    "data = data.resample('1H').sum()\n",
    "data.info()"
   ]
  },
  {
   "cell_type": "markdown",
   "metadata": {},
   "source": [
    "Ресемплирование прошло успешно"
   ]
  },
  {
   "cell_type": "markdown",
   "metadata": {},
   "source": [
    "По результатам проведенного этапа, можно сделать следующие выводы:\n",
    "- данные загрузились успешно;\n",
    "- столбец с датами был спарсен по типу данных 'дата' и переведен в индексы;\n",
    "- в первоначальном датафрейме каждая строка представляет информацию о количестве заказов такси в аэропорты за 10 минут;\n",
    "- в первоначальном датафрейме содержится 26496 строк;\n",
    "- данные представлены за период с марта по август 2018 г.;\n",
    "- явные дубликаты в данных отсутствуют;\n",
    "- данные монотонны;\n",
    "- для решения задачи заказчика датафрейм был ресемплирован в масштаб 1 часа, новый датафрейм содержит 4416 строк."
   ]
  },
  {
   "cell_type": "markdown",
   "metadata": {},
   "source": [
    "## Анализ"
   ]
  },
  {
   "cell_type": "markdown",
   "metadata": {},
   "source": [
    "### Общий анализ"
   ]
  },
  {
   "cell_type": "code",
   "execution_count": 10,
   "metadata": {},
   "outputs": [
    {
     "data": {
      "text/html": [
       "<div>\n",
       "<style scoped>\n",
       "    .dataframe tbody tr th:only-of-type {\n",
       "        vertical-align: middle;\n",
       "    }\n",
       "\n",
       "    .dataframe tbody tr th {\n",
       "        vertical-align: top;\n",
       "    }\n",
       "\n",
       "    .dataframe thead th {\n",
       "        text-align: right;\n",
       "    }\n",
       "</style>\n",
       "<table border=\"1\" class=\"dataframe\">\n",
       "  <thead>\n",
       "    <tr style=\"text-align: right;\">\n",
       "      <th></th>\n",
       "      <th>num_orders</th>\n",
       "    </tr>\n",
       "  </thead>\n",
       "  <tbody>\n",
       "    <tr>\n",
       "      <th>count</th>\n",
       "      <td>4416.000000</td>\n",
       "    </tr>\n",
       "    <tr>\n",
       "      <th>mean</th>\n",
       "      <td>84.422781</td>\n",
       "    </tr>\n",
       "    <tr>\n",
       "      <th>std</th>\n",
       "      <td>45.023853</td>\n",
       "    </tr>\n",
       "    <tr>\n",
       "      <th>min</th>\n",
       "      <td>0.000000</td>\n",
       "    </tr>\n",
       "    <tr>\n",
       "      <th>25%</th>\n",
       "      <td>54.000000</td>\n",
       "    </tr>\n",
       "    <tr>\n",
       "      <th>50%</th>\n",
       "      <td>78.000000</td>\n",
       "    </tr>\n",
       "    <tr>\n",
       "      <th>75%</th>\n",
       "      <td>107.000000</td>\n",
       "    </tr>\n",
       "    <tr>\n",
       "      <th>max</th>\n",
       "      <td>462.000000</td>\n",
       "    </tr>\n",
       "  </tbody>\n",
       "</table>\n",
       "</div>"
      ],
      "text/plain": [
       "        num_orders\n",
       "count  4416.000000\n",
       "mean     84.422781\n",
       "std      45.023853\n",
       "min       0.000000\n",
       "25%      54.000000\n",
       "50%      78.000000\n",
       "75%     107.000000\n",
       "max     462.000000"
      ]
     },
     "execution_count": 10,
     "metadata": {},
     "output_type": "execute_result"
    }
   ],
   "source": [
    "# посмотри общие статистические данные\n",
    "data.describe()"
   ]
  },
  {
   "cell_type": "markdown",
   "metadata": {},
   "source": [
    "Общая статистика за весь период предоставленных наблюдений говорит следующее: среднее количество заказов в час 84, минимльное 0, максимальное 462."
   ]
  },
  {
   "cell_type": "code",
   "execution_count": 11,
   "metadata": {},
   "outputs": [],
   "source": [
    "# создадим признак скользящего среднего по дням и неделям \n",
    "data['rolling_mean_day'] = data.rolling(24).mean().shift(1)"
   ]
  },
  {
   "cell_type": "code",
   "execution_count": 12,
   "metadata": {},
   "outputs": [
    {
     "data": {
      "image/png": "[encoded data removed]",
      "text/plain": [
       "<Figure size 1224x360 with 1 Axes>"
      ]
     },
     "metadata": {
      "needs_background": "light"
     },
     "output_type": "display_data"
    }
   ],
   "source": [
    "# Визуализируем данные\n",
    "graph_plot(data, (17, 5), 'Заказы в час', 'Почасовые наблюдения', 'Количество заказов', list(data.columns))"
   ]
  },
  {
   "cell_type": "markdown",
   "metadata": {},
   "source": [
    "В первом приближении можно сказать, что в среднем количество заказов росло, за предоставленный период."
   ]
  },
  {
   "cell_type": "markdown",
   "metadata": {},
   "source": [
    "### Анализ декомпозиций"
   ]
  },
  {
   "cell_type": "code",
   "execution_count": 13,
   "metadata": {},
   "outputs": [],
   "source": [
    "# декомпозируем данные по всему периоду\n",
    "decomposed = seasonal_decompose(data['num_orders'])\n",
    "\n",
    "# ресемплим по дню и декомпозируем\n",
    "data_w = data.resample('1D').sum()\n",
    "decomposed_w = seasonal_decompose(data_w['num_orders'])"
   ]
  },
  {
   "cell_type": "code",
   "execution_count": 14,
   "metadata": {
    "scrolled": false
   },
   "outputs": [
    {
     "data": {
      "image/png": "[encoded data removed]",
      "text/plain": [
       "<Figure size 1224x216 with 1 Axes>"
      ]
     },
     "metadata": {
      "needs_background": "light"
     },
     "output_type": "display_data"
    },
    {
     "data": {
      "image/png": "[encoded data removed]",
      "text/plain": [
       "<Figure size 1224x216 with 1 Axes>"
      ]
     },
     "metadata": {
      "needs_background": "light"
     },
     "output_type": "display_data"
    },
    {
     "data": {
      "image/png": "[encoded data removed]",
      "text/plain": [
       "<Figure size 1224x216 with 1 Axes>"
      ]
     },
     "metadata": {
      "needs_background": "light"
     },
     "output_type": "display_data"
    },
    {
     "data": {
      "image/png": "[encoded data removed]",
      "text/plain": [
       "<Figure size 1224x216 with 1 Axes>"
      ]
     },
     "metadata": {
      "needs_background": "light"
     },
     "output_type": "display_data"
    }
   ],
   "source": [
    "# визуализируем\n",
    "graph_plot(decomposed.trend, (17, 3), 'Тренд по всему периоду', 'Почасовые наблюдения', 'Количество заказов', '')\n",
    "graph_plot(decomposed_w.seasonal['2018-04-09':'2018-04-15'], (17, 3), 'Сезонность по неделе', 'Почасовые наблюдения', 'Количество заказов', '')\n",
    "graph_plot(decomposed.seasonal['2018-04-11 00:00:00':'2018-04-12 23:00:00'], (17, 3), 'Сезонность по дню', 'Почасовые наблюдения', 'Количество заказов', '')\n",
    "graph_plot(decomposed.resid, (17, 3), 'Остаток по всему периоду', 'Почасовые наблюдения', 'Количество заказов', '')"
   ]
  },
  {
   "cell_type": "markdown",
   "metadata": {},
   "source": [
    "По первому графику видно, что в среднем имеем растущий тренд. Наиболее активно тенденция к росту наблюдается с июня. Стоит ли за этим реальный рост бизнеса компании в целом, или мы наблюдаем эффект отпусков(большое количество перелетов = более частое использование такси до аэропортов), сказать сложно, так как мы не имеем данные за полный год. Наблюдается недельная сезонность: высокое количество заказов в понедельник, минимум заказов во вторник, плавный рост заказов со среды по четверг, максимум заказов в пятницу,  и спад заказов до второго минимума в воскресенье. Наблюдается сезонность в течние дня: Можно сделать вывод, что максимум заказов наблюдается в интервале с 22:00 до 3:00 и с 08:00 до 11:00, минимум с 05:00 до 07:00."
   ]
  },
  {
   "cell_type": "markdown",
   "metadata": {},
   "source": [
    "### Оценка стационарности "
   ]
  },
  {
   "cell_type": "markdown",
   "metadata": {},
   "source": [
    "Так как для эффективного моделирования важна характеристика стационарности временного ряда, и решение вопроса о дполнительных преобразованиях перед обучением, то проведем оценку на стационарность."
   ]
  },
  {
   "cell_type": "markdown",
   "metadata": {},
   "source": [
    "Проведем статистический тест **Дикки-Фуллера**. Нулевая гипотеза: ряд нестационарен. Алтернативная гипотеза: ряд стационарен. Уровень статистической значимости - 5%."
   ]
  },
  {
   "cell_type": "code",
   "execution_count": 15,
   "metadata": {
    "scrolled": true
   },
   "outputs": [
    {
     "name": "stdout",
     "output_type": "stream",
     "text": [
      "p-value: 0.028940051402612906\n"
     ]
    }
   ],
   "source": [
    "# тест Дикки-Фуллера\n",
    "test_adf = adfuller(data['num_orders'])\n",
    "print(f'p-value: {test_adf[1]}')"
   ]
  },
  {
   "cell_type": "markdown",
   "metadata": {},
   "source": [
    "По результатам проведенного теста можно сказать, что нулевая гипотеза о нестационарности нашего временного ряда отвергнута. С уровнем статистической значимости в 5%, можно утверждать, что ряд стационарен. Срабатывание данного теста ложное, так были идентефицированы и тренд и сезонность, но для нашего инструментария стационарность не является принципиальным моментом."
   ]
  },
  {
   "cell_type": "markdown",
   "metadata": {},
   "source": [
    "### Оценка разностей"
   ]
  },
  {
   "cell_type": "code",
   "execution_count": 16,
   "metadata": {},
   "outputs": [],
   "source": [
    "# создадим три поля разности\n",
    "data['difference_first'] = data['num_orders'] - data['num_orders'].shift(1).fillna(0)\n",
    "data['difference_second'] = data['difference_first'] - data['difference_first'].shift().fillna(0)\n",
    "data['difference_third'] = data['difference_second'] - data['difference_second'].shift().fillna(0)"
   ]
  },
  {
   "cell_type": "code",
   "execution_count": 17,
   "metadata": {},
   "outputs": [
    {
     "data": {
      "image/png": "[encoded data removed]",
      "text/plain": [
       "<Figure size 1224x216 with 1 Axes>"
      ]
     },
     "metadata": {
      "needs_background": "light"
     },
     "output_type": "display_data"
    },
    {
     "data": {
      "image/png": "[encoded data removed]",
      "text/plain": [
       "<Figure size 1224x216 with 1 Axes>"
      ]
     },
     "metadata": {
      "needs_background": "light"
     },
     "output_type": "display_data"
    },
    {
     "data": {
      "image/png": "[encoded data removed]",
      "text/plain": [
       "<Figure size 1224x216 with 1 Axes>"
      ]
     },
     "metadata": {
      "needs_background": "light"
     },
     "output_type": "display_data"
    }
   ],
   "source": [
    "graph_plot(data['difference_first'], (17, 3), 'Первая разность', 'Почасовые наблюдения', 'Количество заказов', '')\n",
    "graph_plot(data['difference_second'], (17, 3), 'Вторая разность', 'Почасовые наблюдения', 'Количество заказов', '')\n",
    "graph_plot(data['difference_second'], (17, 3), 'Третья разность', 'Почасовые наблюдения', 'Количество заказов', '')"
   ]
  },
  {
   "cell_type": "markdown",
   "metadata": {},
   "source": [
    "Хотя и общеизвестно, что разности временного ряда более стационарны чем сам ряд, но проведем тест на стационарность. Нулевая гипотеза: ряд нестационарен. Алтернативная гипотеза: ряд стационарен. Уровень статистической значимости - 5%. "
   ]
  },
  {
   "cell_type": "code",
   "execution_count": 18,
   "metadata": {},
   "outputs": [
    {
     "name": "stdout",
     "output_type": "stream",
     "text": [
      "p-value difference_first: 1.0915609954407956e-28\n",
      "p-value difference_second: 0.0\n",
      "p-value difference_third: 0.0\n"
     ]
    }
   ],
   "source": [
    "for column in ('difference_first', 'difference_second', 'difference_third'):\n",
    "    test_adf = adfuller(data[column])\n",
    "    print(f'p-value {column}: {test_adf[1]}')"
   ]
  },
  {
   "cell_type": "markdown",
   "metadata": {},
   "source": [
    "По результатам проведенного теста можно сказать, что нулевая гипотеза о нестационарности наших рядов отвергнута. С уровнем статистической значимости в 5%, можно утверждать, что ряды стационарны. Срабатывание данного теста ложное, так были идентефицированы и тренд и сезонность, но для нашего инструментария стационарность не является принципиальным моментом."
   ]
  },
  {
   "cell_type": "markdown",
   "metadata": {},
   "source": [
    "### Анализ выбросов"
   ]
  },
  {
   "cell_type": "code",
   "execution_count": 19,
   "metadata": {},
   "outputs": [
    {
     "data": {
      "image/png": "[encoded data removed]",
      "text/plain": [
       "<Figure size 1224x144 with 1 Axes>"
      ]
     },
     "metadata": {
      "needs_background": "light"
     },
     "output_type": "display_data"
    }
   ],
   "source": [
    "# посмотрим выбросы в боксплоте\n",
    "plt.figure(figsize=(17, 2))\n",
    "sns.boxplot(data = data[['num_orders']], x='num_orders')\n",
    "plt.title('Boxplot')\n",
    "plt.show()"
   ]
  },
  {
   "cell_type": "code",
   "execution_count": 20,
   "metadata": {},
   "outputs": [
    {
     "data": {
      "text/plain": [
       "(53.0, 107.0)"
      ]
     },
     "execution_count": 20,
     "metadata": {},
     "output_type": "execute_result"
    }
   ],
   "source": [
    "# вычислим межквантильное расстояние\n",
    "q3, q1 = np.percentile (data['num_orders'], [75 ,25])\n",
    "iqr = q3 - q1\n",
    "iqr, q3"
   ]
  },
  {
   "cell_type": "code",
   "execution_count": 21,
   "metadata": {},
   "outputs": [
    {
     "data": {
      "text/plain": [
       "186.5"
      ]
     },
     "execution_count": 21,
     "metadata": {},
     "output_type": "execute_result"
    }
   ],
   "source": [
    "# найдем край правого уса\n",
    "q_moustache = q3 + 1.5*iqr\n",
    "q_moustache"
   ]
  },
  {
   "cell_type": "code",
   "execution_count": 22,
   "metadata": {},
   "outputs": [
    {
     "data": {
      "image/png": "[encoded data removed]",
      "text/plain": [
       "<Figure size 1224x216 with 1 Axes>"
      ]
     },
     "metadata": {
      "needs_background": "light"
     },
     "output_type": "display_data"
    }
   ],
   "source": [
    "# изучим выбросы\n",
    "data_outliers = data[data['num_orders'] > q_moustache]\n",
    "graph_plot(data_outliers['num_orders'].resample('1M').sum(), (17, 3), 'Выбросы данных',\\\n",
    "           'Почасовые наблюдения', 'Количество заказов', '')"
   ]
  },
  {
   "cell_type": "markdown",
   "metadata": {},
   "source": [
    "Как можно заметить, основное количество выбросов сосредоточено в области общего повышательного тренда временного ряда. А именно в июле-августе, что вполне укладывается в концепцию повышенного спроса на такси в аэропорты в период отпусков. Поэтому будем считать, что эти выбросы органичны, откажемся от их удаления."
   ]
  },
  {
   "cell_type": "markdown",
   "metadata": {},
   "source": [
    "Таким образом по проделанному этапу работы можно сказать следующее:\n",
    "  - количество заказов такси в аэропорты в среднем имеем растущий тренд, по всему периоду данных. Наиболее активно тенденция к росту наблюдается с июня. Стоит ли за этим реальный рост бизнеса компании в целом, или мы наблюдаем эффект отпусков(большое количество перелетов = более частое использование такси до аэропортов), сказать сложно, так как мы не имеем данные за полный год;\n",
    "  - в рамках недели можно сезонность: высокое количество заказов в понедельник, минимум заказов во вторник, плавный рост заказов со среды по четверг, максимум заказов в пятницу,  и спад заказов до второго минимума в воскресенье;\n",
    "  - в рамках недели можно сезонность: видно что количетво заказов колеблется в течение дня с постоянной переодичностью и амплитудой, максимум заказов наблюдается в интервале с 22:00 до 3:00 и с 08:00 до 11:00, минимум с 05:00 до 07:00;\n",
    "  - статистический тест Дикки-Фуллера показывает, что с уровнем статистической значимости в 5%, можно утверждать, что  стационарны следующие ряды: изначальный временной ряд, первая, вторая и третья разности. Срабатывание данного теста ложное, так были идентефицированы и тренд и сезонность, но для нашего инструментария стационарность не является принципиальным моментом.\n",
    "  - выбросы данных сосредоточены в области общего повышательного тренда временного ряда. А именно в июле-августе, что вполне укладывается в концепцию повышенного спроса на такси в аэропорты в период отпусков. Поэтому будем считать, что эти выбросы органичны, откажемся от их удаления.\n",
    "  \n",
    "--------------------------------------------------------------------------------------------------------------------------------\n",
    "На основании вышеприведенных выводов, можно сказать, что при обучении модели нам нужно учесть такие признаки как: месяц, день, день недели и час; разности и скользящее среднее. Признак года не понадобится.\n",
    "\n"
   ]
  },
  {
   "cell_type": "markdown",
   "metadata": {},
   "source": [
    "## Обучение"
   ]
  },
  {
   "cell_type": "markdown",
   "metadata": {},
   "source": [
    "### Создание признаков"
   ]
  },
  {
   "cell_type": "code",
   "execution_count": 23,
   "metadata": {},
   "outputs": [],
   "source": [
    "# создадим календарные признаки, остальные мы уже создали на предыдущем этапе\n",
    "data['dayofweek'] = data.index.dayofweek\n",
    "data['hour'] = data.index.hour"
   ]
  },
  {
   "cell_type": "code",
   "execution_count": 23,
   "metadata": {},
   "outputs": [],
   "source": [
    "# создадим календарные признаки, остальные мы уже создали на предыдущем этапе\n",
    "data['dayofweek'] = data.index.dayofweek\n",
    "data['hour'] = data.index.hour"
   ]
  },
  {
   "cell_type": "code",
   "execution_count": 24,
   "metadata": {},
   "outputs": [
    {
     "data": {
      "text/html": [
       "<div>\n",
       "<style scoped>\n",
       "    .dataframe tbody tr th:only-of-type {\n",
       "        vertical-align: middle;\n",
       "    }\n",
       "\n",
       "    .dataframe tbody tr th {\n",
       "        vertical-align: top;\n",
       "    }\n",
       "\n",
       "    .dataframe thead th {\n",
       "        text-align: right;\n",
       "    }\n",
       "</style>\n",
       "<table border=\"1\" class=\"dataframe\">\n",
       "  <thead>\n",
       "    <tr style=\"text-align: right;\">\n",
       "      <th></th>\n",
       "      <th>num_orders</th>\n",
       "      <th>rolling_mean_day</th>\n",
       "      <th>dayofweek</th>\n",
       "      <th>hour</th>\n",
       "      <th>max_lag</th>\n",
       "    </tr>\n",
       "    <tr>\n",
       "      <th>datetime</th>\n",
       "      <th></th>\n",
       "      <th></th>\n",
       "      <th></th>\n",
       "      <th></th>\n",
       "      <th></th>\n",
       "    </tr>\n",
       "  </thead>\n",
       "  <tbody>\n",
       "    <tr>\n",
       "      <th>2018-03-02 00:00:00</th>\n",
       "      <td>90</td>\n",
       "      <td>56.833333</td>\n",
       "      <td>4</td>\n",
       "      <td>0</td>\n",
       "      <td>124.0</td>\n",
       "    </tr>\n",
       "    <tr>\n",
       "      <th>2018-03-02 01:00:00</th>\n",
       "      <td>120</td>\n",
       "      <td>55.416667</td>\n",
       "      <td>4</td>\n",
       "      <td>1</td>\n",
       "      <td>85.0</td>\n",
       "    </tr>\n",
       "    <tr>\n",
       "      <th>2018-03-02 02:00:00</th>\n",
       "      <td>75</td>\n",
       "      <td>56.875000</td>\n",
       "      <td>4</td>\n",
       "      <td>2</td>\n",
       "      <td>71.0</td>\n",
       "    </tr>\n",
       "    <tr>\n",
       "      <th>2018-03-02 03:00:00</th>\n",
       "      <td>64</td>\n",
       "      <td>57.041667</td>\n",
       "      <td>4</td>\n",
       "      <td>3</td>\n",
       "      <td>66.0</td>\n",
       "    </tr>\n",
       "    <tr>\n",
       "      <th>2018-03-02 04:00:00</th>\n",
       "      <td>20</td>\n",
       "      <td>56.958333</td>\n",
       "      <td>4</td>\n",
       "      <td>4</td>\n",
       "      <td>43.0</td>\n",
       "    </tr>\n",
       "    <tr>\n",
       "      <th>...</th>\n",
       "      <td>...</td>\n",
       "      <td>...</td>\n",
       "      <td>...</td>\n",
       "      <td>...</td>\n",
       "      <td>...</td>\n",
       "    </tr>\n",
       "    <tr>\n",
       "      <th>2018-08-31 19:00:00</th>\n",
       "      <td>136</td>\n",
       "      <td>164.875000</td>\n",
       "      <td>4</td>\n",
       "      <td>19</td>\n",
       "      <td>72.0</td>\n",
       "    </tr>\n",
       "    <tr>\n",
       "      <th>2018-08-31 20:00:00</th>\n",
       "      <td>154</td>\n",
       "      <td>167.541667</td>\n",
       "      <td>4</td>\n",
       "      <td>20</td>\n",
       "      <td>142.0</td>\n",
       "    </tr>\n",
       "    <tr>\n",
       "      <th>2018-08-31 21:00:00</th>\n",
       "      <td>159</td>\n",
       "      <td>168.041667</td>\n",
       "      <td>4</td>\n",
       "      <td>21</td>\n",
       "      <td>198.0</td>\n",
       "    </tr>\n",
       "    <tr>\n",
       "      <th>2018-08-31 22:00:00</th>\n",
       "      <td>223</td>\n",
       "      <td>166.416667</td>\n",
       "      <td>4</td>\n",
       "      <td>22</td>\n",
       "      <td>158.0</td>\n",
       "    </tr>\n",
       "    <tr>\n",
       "      <th>2018-08-31 23:00:00</th>\n",
       "      <td>205</td>\n",
       "      <td>169.125000</td>\n",
       "      <td>4</td>\n",
       "      <td>23</td>\n",
       "      <td>246.0</td>\n",
       "    </tr>\n",
       "  </tbody>\n",
       "</table>\n",
       "<p>4392 rows × 5 columns</p>\n",
       "</div>"
      ],
      "text/plain": [
       "                     num_orders  rolling_mean_day  dayofweek  hour  max_lag\n",
       "datetime                                                                   \n",
       "2018-03-02 00:00:00          90         56.833333          4     0    124.0\n",
       "2018-03-02 01:00:00         120         55.416667          4     1     85.0\n",
       "2018-03-02 02:00:00          75         56.875000          4     2     71.0\n",
       "2018-03-02 03:00:00          64         57.041667          4     3     66.0\n",
       "2018-03-02 04:00:00          20         56.958333          4     4     43.0\n",
       "...                         ...               ...        ...   ...      ...\n",
       "2018-08-31 19:00:00         136        164.875000          4    19     72.0\n",
       "2018-08-31 20:00:00         154        167.541667          4    20    142.0\n",
       "2018-08-31 21:00:00         159        168.041667          4    21    198.0\n",
       "2018-08-31 22:00:00         223        166.416667          4    22    158.0\n",
       "2018-08-31 23:00:00         205        169.125000          4    23    246.0\n",
       "\n",
       "[4392 rows x 5 columns]"
      ]
     },
     "execution_count": 24,
     "metadata": {},
     "output_type": "execute_result"
    }
   ],
   "source": [
    "# удалим пропущенные значения и столбцы разностей\n",
    "data = data.drop(['difference_first', 'difference_second', 'difference_third'], axis=1)\n",
    "data['max_lag'] = data['num_orders'].shift(24)\n",
    "data = data.dropna()\n",
    "data"
   ]
  },
  {
   "cell_type": "markdown",
   "metadata": {},
   "source": [
    "### Создание выборок"
   ]
  },
  {
   "cell_type": "code",
   "execution_count": 25,
   "metadata": {},
   "outputs": [
    {
     "data": {
      "text/html": [
       "<div>\n",
       "<style scoped>\n",
       "    .dataframe tbody tr th:only-of-type {\n",
       "        vertical-align: middle;\n",
       "    }\n",
       "\n",
       "    .dataframe tbody tr th {\n",
       "        vertical-align: top;\n",
       "    }\n",
       "\n",
       "    .dataframe thead th {\n",
       "        text-align: right;\n",
       "    }\n",
       "</style>\n",
       "<table border=\"1\" class=\"dataframe\">\n",
       "  <thead>\n",
       "    <tr style=\"text-align: right;\">\n",
       "      <th></th>\n",
       "      <th>num_orders</th>\n",
       "      <th>rolling_mean_day</th>\n",
       "      <th>dayofweek</th>\n",
       "      <th>hour</th>\n",
       "      <th>max_lag</th>\n",
       "    </tr>\n",
       "  </thead>\n",
       "  <tbody>\n",
       "    <tr>\n",
       "      <th>0</th>\n",
       "      <td>90</td>\n",
       "      <td>56.833333</td>\n",
       "      <td>4</td>\n",
       "      <td>0</td>\n",
       "      <td>124.0</td>\n",
       "    </tr>\n",
       "    <tr>\n",
       "      <th>1</th>\n",
       "      <td>120</td>\n",
       "      <td>55.416667</td>\n",
       "      <td>4</td>\n",
       "      <td>1</td>\n",
       "      <td>85.0</td>\n",
       "    </tr>\n",
       "    <tr>\n",
       "      <th>2</th>\n",
       "      <td>75</td>\n",
       "      <td>56.875000</td>\n",
       "      <td>4</td>\n",
       "      <td>2</td>\n",
       "      <td>71.0</td>\n",
       "    </tr>\n",
       "    <tr>\n",
       "      <th>3</th>\n",
       "      <td>64</td>\n",
       "      <td>57.041667</td>\n",
       "      <td>4</td>\n",
       "      <td>3</td>\n",
       "      <td>66.0</td>\n",
       "    </tr>\n",
       "    <tr>\n",
       "      <th>4</th>\n",
       "      <td>20</td>\n",
       "      <td>56.958333</td>\n",
       "      <td>4</td>\n",
       "      <td>4</td>\n",
       "      <td>43.0</td>\n",
       "    </tr>\n",
       "    <tr>\n",
       "      <th>...</th>\n",
       "      <td>...</td>\n",
       "      <td>...</td>\n",
       "      <td>...</td>\n",
       "      <td>...</td>\n",
       "      <td>...</td>\n",
       "    </tr>\n",
       "    <tr>\n",
       "      <th>4387</th>\n",
       "      <td>136</td>\n",
       "      <td>164.875000</td>\n",
       "      <td>4</td>\n",
       "      <td>19</td>\n",
       "      <td>72.0</td>\n",
       "    </tr>\n",
       "    <tr>\n",
       "      <th>4388</th>\n",
       "      <td>154</td>\n",
       "      <td>167.541667</td>\n",
       "      <td>4</td>\n",
       "      <td>20</td>\n",
       "      <td>142.0</td>\n",
       "    </tr>\n",
       "    <tr>\n",
       "      <th>4389</th>\n",
       "      <td>159</td>\n",
       "      <td>168.041667</td>\n",
       "      <td>4</td>\n",
       "      <td>21</td>\n",
       "      <td>198.0</td>\n",
       "    </tr>\n",
       "    <tr>\n",
       "      <th>4390</th>\n",
       "      <td>223</td>\n",
       "      <td>166.416667</td>\n",
       "      <td>4</td>\n",
       "      <td>22</td>\n",
       "      <td>158.0</td>\n",
       "    </tr>\n",
       "    <tr>\n",
       "      <th>4391</th>\n",
       "      <td>205</td>\n",
       "      <td>169.125000</td>\n",
       "      <td>4</td>\n",
       "      <td>23</td>\n",
       "      <td>246.0</td>\n",
       "    </tr>\n",
       "  </tbody>\n",
       "</table>\n",
       "<p>4392 rows × 5 columns</p>\n",
       "</div>"
      ],
      "text/plain": [
       "      num_orders  rolling_mean_day  dayofweek  hour  max_lag\n",
       "0             90         56.833333          4     0    124.0\n",
       "1            120         55.416667          4     1     85.0\n",
       "2             75         56.875000          4     2     71.0\n",
       "3             64         57.041667          4     3     66.0\n",
       "4             20         56.958333          4     4     43.0\n",
       "...          ...               ...        ...   ...      ...\n",
       "4387         136        164.875000          4    19     72.0\n",
       "4388         154        167.541667          4    20    142.0\n",
       "4389         159        168.041667          4    21    198.0\n",
       "4390         223        166.416667          4    22    158.0\n",
       "4391         205        169.125000          4    23    246.0\n",
       "\n",
       "[4392 rows x 5 columns]"
      ]
     },
     "execution_count": 25,
     "metadata": {},
     "output_type": "execute_result"
    }
   ],
   "source": [
    "# скопируем датафрейм и дропнем индексы\n",
    "df = data.copy()\n",
    "df.reset_index(drop= True , inplace= True)\n",
    "df"
   ]
  },
  {
   "cell_type": "code",
   "execution_count": 26,
   "metadata": {
    "scrolled": true
   },
   "outputs": [
    {
     "name": "stdout",
     "output_type": "stream",
     "text": [
      "(4392,) (4392, 4)\n"
     ]
    }
   ],
   "source": [
    "# разделим признаки\n",
    "target = df['num_orders']\n",
    "features = df.drop(['num_orders'], axis=1)\n",
    "print(target.shape, features.shape)"
   ]
  },
  {
   "cell_type": "code",
   "execution_count": 27,
   "metadata": {},
   "outputs": [
    {
     "name": "stdout",
     "output_type": "stream",
     "text": [
      "(3952, 4) (440, 4)\n",
      "(3952,) (440,)\n"
     ]
    }
   ],
   "source": [
    "# создадим выборки, не забыв про отключение перемешивания\n",
    "features_train, features_test, target_train, target_test = train_test_split(\n",
    "    features, target, shuffle=False, test_size=0.1\n",
    ")\n",
    "\n",
    "print(features_train.shape, features_test.shape)\n",
    "print(target_train.shape, target_test.shape)"
   ]
  },
  {
   "cell_type": "markdown",
   "metadata": {},
   "source": [
    "### Линейная регрессия"
   ]
  },
  {
   "cell_type": "code",
   "execution_count": 28,
   "metadata": {},
   "outputs": [],
   "source": [
    "# определим списки столбцов по типам\n",
    "cat_columns = [ 'dayofweek', 'hour'] # категориальные столбцы \n",
    "num_columns = ['rolling_mean_day',  'max_lag'] # числовые столбцы "
   ]
  },
  {
   "cell_type": "code",
   "execution_count": 29,
   "metadata": {},
   "outputs": [],
   "source": [
    "# скопируем признаки для OHE кодирования\n",
    "features_train_ohe = features_train.copy() \n",
    "features_test_ohe = features_test.copy()"
   ]
  },
  {
   "cell_type": "code",
   "execution_count": 30,
   "metadata": {},
   "outputs": [],
   "source": [
    "# проведем OHE кодирование категориальных признаков на трейне\n",
    "encoder_ohe = OneHotEncoder(drop='first', handle_unknown='error', sparse=False)\n",
    "encoder_ohe.fit(features_train_ohe[cat_columns])\n",
    "features_train_ohe[encoder_ohe.get_feature_names()] = encoder_ohe.transform(features_train_ohe[cat_columns])\n",
    "features_train_ohe = features_train_ohe.drop(cat_columns, axis=1)\n",
    "\n",
    "# проведем OHE кодирование категориальных признаков на тесте\n",
    "features_test_ohe[encoder_ohe.get_feature_names()] = encoder_ohe.transform(features_test_ohe[cat_columns])\n",
    "features_test_ohe = features_test_ohe.drop(cat_columns, axis=1)"
   ]
  },
  {
   "cell_type": "code",
   "execution_count": 31,
   "metadata": {},
   "outputs": [],
   "source": [
    "# масштабируем числовые признаки на трейне\n",
    "scaler = StandardScaler()\n",
    "scaler.fit(features_train_ohe[num_columns])\n",
    "features_train_ohe[num_columns] = scaler.transform(features_train_ohe[num_columns])\n",
    "\n",
    "# масщтабируем числовые признаки на тесте\n",
    "features_test_ohe[num_columns] = scaler.transform(features_test_ohe[num_columns])"
   ]
  },
  {
   "cell_type": "code",
   "execution_count": 32,
   "metadata": {},
   "outputs": [
    {
     "name": "stdout",
     "output_type": "stream",
     "text": [
      "(3952, 31) (440, 31)\n"
     ]
    }
   ],
   "source": [
    "# сравним размерности полученных выборок\n",
    "print(features_train_ohe.shape, features_test_ohe.shape)"
   ]
  },
  {
   "cell_type": "code",
   "execution_count": 33,
   "metadata": {},
   "outputs": [
    {
     "name": "stdout",
     "output_type": "stream",
     "text": [
      "26.10439598152474\n"
     ]
    }
   ],
   "source": [
    "# пустой словар для кросс-валидации\n",
    "param_lr = {}\n",
    "# инициализируем модель и подбор параметров\n",
    "model_lr = LinearRegression()\n",
    "tscv = TimeSeriesSplit(n_splits=5)\n",
    "tuning_model_lr=GridSearchCV(estimator=model_lr,\n",
    "                          param_grid=param_lr,\n",
    "                          scoring='neg_root_mean_squared_error',\n",
    "                          cv=tscv)\n",
    "\n",
    "# приступим к обучению с определением лучших параметров и RSME\n",
    "tuning_model_lr.fit(features_train_ohe, target_train)\n",
    "rmse_lr = tuning_model_lr.best_score_*-1\n",
    "print(rmse_lr)"
   ]
  },
  {
   "cell_type": "markdown",
   "metadata": {},
   "source": [
    "### Модель DecisionTreeRegressor"
   ]
  },
  {
   "cell_type": "code",
   "execution_count": 34,
   "metadata": {},
   "outputs": [
    {
     "data": {
      "text/plain": [
       "{'max_depth': 9,\n",
       " 'min_samples_leaf': 17,\n",
       " 'min_samples_split': 2,\n",
       " 'splitter': 'best'}"
      ]
     },
     "metadata": {},
     "output_type": "display_data"
    },
    {
     "name": "stdout",
     "output_type": "stream",
     "text": [
      "27.65836187954651\n"
     ]
    }
   ],
   "source": [
    "# зададим список варьируемых параметров\n",
    "param_dt= { \n",
    "            \"splitter\":(\"best\", \"random\"), \n",
    "            \"max_depth\":(list(range(1, 20, 2))), \n",
    "            \"min_samples_split\":[2, 3, 4], \n",
    "            \"min_samples_leaf\":list(range(1, 20, 2)), \n",
    "           }\n",
    "    \n",
    "\n",
    "# инициализируем модель, кросс-валидацию и подбор параметров\n",
    "model_dt = DecisionTreeRegressor(random_state=12345)\n",
    "tscv = TimeSeriesSplit(n_splits=5)\n",
    "tuning_model_dt=GridSearchCV(estimator=model_dt,\n",
    "                          param_grid=param_dt,\n",
    "                          scoring='neg_root_mean_squared_error',\n",
    "                          cv=tscv)\n",
    "\n",
    "# приступим к обучению с определением лучших параметров и RSME\n",
    "tuning_model_dt.fit(features_train, target_train)\n",
    "best_model_dt = tuning_model_dt.best_params_\n",
    "display(best_model_dt)\n",
    "rmse_dt = tuning_model_dt.best_score_*-1\n",
    "print(rmse_dt)"
   ]
  },
  {
   "cell_type": "markdown",
   "metadata": {},
   "source": [
    "### Модель LGBMRegressor"
   ]
  },
  {
   "cell_type": "code",
   "execution_count": 35,
   "metadata": {},
   "outputs": [
    {
     "data": {
      "text/plain": [
       "{'n_estimators': 100, 'num_leaves': 20}"
      ]
     },
     "metadata": {},
     "output_type": "display_data"
    },
    {
     "name": "stdout",
     "output_type": "stream",
     "text": [
      "24.845360569806566\n"
     ]
    }
   ],
   "source": [
    "# зададим список варьируемых параметров\n",
    "param_grid = {'n_estimators': [100, 500], 'num_leaves': [n for n in range(20, 30, 5)]}\n",
    "\n",
    "# инициализируем модель, кросс-валидацию и подбор параметров\n",
    "model_gb = lgb.LGBMRegressor(random_state=12345)\n",
    "tscv = TimeSeriesSplit(n_splits=5)\n",
    "tuning_model_gb=GridSearchCV(estimator=model_gb,\n",
    "                          param_grid=param_grid,\n",
    "                          scoring='neg_root_mean_squared_error',\n",
    "                          cv=tscv)\n",
    "\n",
    "# приступим к обучению с определением лучших параметров и RSME\n",
    "tuning_model_gb.fit(features_train, target_train)\n",
    "best_model_gb = tuning_model_gb.best_params_\n",
    "display(tuning_model_gb.best_params_)\n",
    "rsme_gb = tuning_model_gb.best_score_*-1\n",
    "print(rsme_gb)"
   ]
  },
  {
   "cell_type": "markdown",
   "metadata": {},
   "source": [
    "### Модель RandomForestRegressor"
   ]
  },
  {
   "cell_type": "code",
   "execution_count": 36,
   "metadata": {},
   "outputs": [
    {
     "data": {
      "text/plain": [
       "{'max_depth': 9,\n",
       " 'min_samples_leaf': 17,\n",
       " 'min_samples_split': 2,\n",
       " 'splitter': 'best'}"
      ]
     },
     "metadata": {},
     "output_type": "display_data"
    },
    {
     "name": "stdout",
     "output_type": "stream",
     "text": [
      "27.65836187954651\n"
     ]
    }
   ],
   "source": [
    "# зададим список варьируемых параметров\n",
    "param_grid = {\n",
    "              'max_depth':[x for x in range(2,5,1)], \n",
    "              'n_estimators':[x for x in range(10,31,5)]\n",
    "             }\n",
    "\n",
    "# инициализируем модель, кросс-валидацию и подбор параметров\n",
    "model_rf = RandomForestRegressor(random_state=12345)\n",
    "tscv = TimeSeriesSplit(n_splits=5)\n",
    "tuning_model_rf=GridSearchCV(estimator=model_dt,\n",
    "                          param_grid=param_dt,\n",
    "                          scoring='neg_root_mean_squared_error',\n",
    "                          cv=tscv)\n",
    "\n",
    "# приступим к обучению с определением лучших параметров и RSME\n",
    "tuning_model_rf.fit(features_train, target_train)\n",
    "best_model_rf = tuning_model_rf.best_params_\n",
    "display(best_model_rf)\n",
    "rmse_rf = tuning_model_rf.best_score_*-1\n",
    "print(rmse_rf)"
   ]
  },
  {
   "cell_type": "markdown",
   "metadata": {},
   "source": [
    "### Сводные данные по моделям"
   ]
  },
  {
   "cell_type": "code",
   "execution_count": 37,
   "metadata": {},
   "outputs": [
    {
     "data": {
      "text/html": [
       "<div>\n",
       "<style scoped>\n",
       "    .dataframe tbody tr th:only-of-type {\n",
       "        vertical-align: middle;\n",
       "    }\n",
       "\n",
       "    .dataframe tbody tr th {\n",
       "        vertical-align: top;\n",
       "    }\n",
       "\n",
       "    .dataframe thead th {\n",
       "        text-align: right;\n",
       "    }\n",
       "</style>\n",
       "<table border=\"1\" class=\"dataframe\">\n",
       "  <thead>\n",
       "    <tr style=\"text-align: right;\">\n",
       "      <th></th>\n",
       "      <th>LinearRegression</th>\n",
       "      <th>DecisionTreeRegressor</th>\n",
       "      <th>LGBMRegressor</th>\n",
       "      <th>RandomForestRegressor</th>\n",
       "    </tr>\n",
       "  </thead>\n",
       "  <tbody>\n",
       "    <tr>\n",
       "      <th>Результаты RMSE на кросс-валидации</th>\n",
       "      <td>26.104396</td>\n",
       "      <td>27.658362</td>\n",
       "      <td>24.845361</td>\n",
       "      <td>27.658362</td>\n",
       "    </tr>\n",
       "  </tbody>\n",
       "</table>\n",
       "</div>"
      ],
      "text/plain": [
       "                                    LinearRegression  DecisionTreeRegressor  \\\n",
       "Результаты RMSE на кросс-валидации         26.104396              27.658362   \n",
       "\n",
       "                                    LGBMRegressor  RandomForestRegressor  \n",
       "Результаты RMSE на кросс-валидации      24.845361              27.658362  "
      ]
     },
     "execution_count": 37,
     "metadata": {},
     "output_type": "execute_result"
    }
   ],
   "source": [
    "# сформируем сводную таблицу с результатми\n",
    "result = pd.DataFrame(\n",
    "                      [[rmse_lr, rmse_dt, rsme_gb, rmse_rf]],\n",
    "                      index=['Результаты RMSE на кросс-валидации'],\n",
    "                      columns=['LinearRegression', 'DecisionTreeRegressor', 'LGBMRegressor', 'RandomForestRegressor']\n",
    ")\n",
    "result"
   ]
  },
  {
   "cell_type": "markdown",
   "metadata": {},
   "source": [
    "Таким образом, наилучшее RMSE = 24.845361  на кросс-валидации показала модель LGBMRegressor. Тестирование будем проводить на данной модели. Лучшие параметры модели: {'n_estimators': 100, 'num_leaves': 20}"
   ]
  },
  {
   "cell_type": "markdown",
   "metadata": {},
   "source": [
    "## Тестирование"
   ]
  },
  {
   "cell_type": "code",
   "execution_count": 38,
   "metadata": {},
   "outputs": [
    {
     "data": {
      "text/plain": [
       "LGBMRegressor(num_leaves=20, random_state=12345)"
      ]
     },
     "execution_count": 38,
     "metadata": {},
     "output_type": "execute_result"
    }
   ],
   "source": [
    "# обучим модель на лучших параметрах\n",
    "model_gb = lgb.LGBMRegressor(random_state=12345, **best_model_gb)\n",
    "model_gb.fit(features_train, target_train)"
   ]
  },
  {
   "cell_type": "code",
   "execution_count": 39,
   "metadata": {},
   "outputs": [
    {
     "data": {
      "text/plain": [
       "44.96848453697146"
      ]
     },
     "execution_count": 39,
     "metadata": {},
     "output_type": "execute_result"
    }
   ],
   "source": [
    "# проверим лучшую модель на тестовой выборке\n",
    "target_predict = model_gb.predict(features_test)\n",
    "\n",
    "# определим метрику качества \n",
    "final_RMSE = mean_squared_error(target_test, target_predict) ** 0.5\n",
    "final_RMSE"
   ]
  },
  {
   "cell_type": "code",
   "execution_count": 40,
   "metadata": {
    "scrolled": true
   },
   "outputs": [
    {
     "data": {
      "image/png": "[encoded data removed]",
      "text/plain": [
       "<Figure size 648x360 with 1 Axes>"
      ]
     },
     "metadata": {
      "needs_background": "light"
     },
     "output_type": "display_data"
    }
   ],
   "source": [
    "# посмотрим на то, какие признаки влияют больше всего\n",
    "lgb.plot_importance(model_gb, height=.5, xlabel ='важность признаков', ylabel ='признаки', title='Важность признаков',\\\n",
    "                    figsize=(9,5));"
   ]
  },
  {
   "cell_type": "markdown",
   "metadata": {},
   "source": [
    "Наиболее значимым признаком является час, в который вызывают такси до аэропорта."
   ]
  },
  {
   "cell_type": "code",
   "execution_count": 41,
   "metadata": {},
   "outputs": [
    {
     "name": "stdout",
     "output_type": "stream",
     "text": [
      "Среднеквадратическая ошибка для модели Дамми составляет: 84.68768287118466\n"
     ]
    }
   ],
   "source": [
    "# проверим модель на адекватность\n",
    "dummy_regr = DummyRegressor(strategy=\"mean\")\n",
    "dummy_regr.fit(features_train, target_train)\n",
    "DummyRegressor()\n",
    "dummy_regr_predict = dummy_regr.predict(features_test)\n",
    "rmse = mean_squared_error(target_test,dummy_regr_predict)**0.5\n",
    "print('Среднеквадратическая ошибка для модели Дамми составляет:', rmse)"
   ]
  },
  {
   "cell_type": "markdown",
   "metadata": {},
   "source": [
    "Модель адекватна."
   ]
  },
  {
   "cell_type": "markdown",
   "metadata": {},
   "source": [
    "## Итоговый вывод"
   ]
  },
  {
   "cell_type": "markdown",
   "metadata": {},
   "source": [
    "**По результатам проделанной работы, можно сказать следующее:**\n",
    "\n",
    "--------------------------------------------------------------------------------------------------------------------------------\n",
    "По результатам загрузки и подготовки данных, можно сделать следующие выводы:\n",
    "- данные загрузились успешно;\n",
    "- столбец с датами был спарсен по типу данных 'дата' и переведен в индексы;\n",
    "- в первоначальном датафрейме каждая строка представляет информацию о количестве заказов такси в аэропорты за 10 минут;\n",
    "- в первоначальном датафрейме содержится 26496 строк;\n",
    "- данные представлены за период с марта по август 2018 г.;\n",
    "- явные дубликаты в данных отсутствуют;\n",
    "- данные монотонны;\n",
    "- для решения задачи заказчика датафрейм был ресемплирован в масштаб 1 часа, новый датафрейм содержит 4416 строк.\n",
    "--------------------------------------------------------------------------------------------------------------------------------\n",
    "По результатам анализа данных, можно сделать следующие выводы:\n",
    "  - количество заказов такси в аэропорты в среднем имеем растущий тренд, по всему периоду данных. Наиболее активно тенденция к росту наблюдается с июня. Стоит ли за этим реальный рост бизнеса компании в целом, или мы наблюдаем эффект отпусков(большое количество перелетов = более частое использование такси до аэропортов), сказать сложно, так как мы не имеем данные за полный год;\n",
    "  - в рамках недели можно сезонность: высокое количество заказов в понедельник, минимум заказов во вторник, плавный рост заказов со среды по четверг, максимум заказов в пятницу,  и спад заказов до второго минимума в воскресенье;\n",
    "  - в рамках недели можно сезонность: видно что количетво заказов колеблется в течение дня с постоянной переодичностью и амплитудой, максимум заказов наблюдается в интервале с 22:00 до 3:00 и с 08:00 до 11:00, минимум с 05:00 до 07:00;\n",
    "  - статистический тест Дикки-Фуллера показывает, что с уровнем статистической значимости в 5%, можно утверждать, что  стационарны следующие ряды: изначальный временной ряд, первая, вторая и третья разности. Срабатывание данного теста ложное, так были идентефицированы и тренд и сезонность, но для нашего инструментария стационарность не является принципиальным моментом.\n",
    "  - выбросы данных сосредоточены в области общего повышательного тренда временного ряда. А именно в июле-августе, что вполне укладывается в концепцию повышенного спроса на такси в аэропорты в период отпусков. Поэтому будем считать, что эти выбросы органичны, откажемся от их удаления.\n",
    "  \n",
    "--------------------------------------------------------------------------------------------------------------------------------\n",
    "На основании вышеприведенных выводов, можно сказать, что при обучении модели нам нужно учесть такие признаки как: месяц, день, день недели и час; разности и скользящее среднее. Признак года не понадобится.\n",
    "\n",
    "  \n",
    "На основании вышеприведенных выводов, можно сказать, что при обучении модели нам нужно учесть такие признаки как: день недели и час;отствание и скользящее среднее за 24 часа.\n",
    "\n",
    "--------------------------------------------------------------------------------------------------------------------------------\n",
    "На этапе обучения модели были подготовлены выборки, добавлены признаки. Обучение с подбором гиперпараметров и кросс-валидацией проводилось на следующих моделях:'LinearRegression', 'DecisionTreeRegressor', 'LGBMRegressor', 'RandomForestRegressor'. Наилучшее RMSE = 24.845361 на кросс-валидации показала модель LGBMRegressor.\n",
    "\n",
    "--------------------------------------------------------------------------------------------------------------------------------\n",
    "Тестирование, обученной на лучших параметрах, модели LGBMRegressor на тестовой выборке показало RMSE =44.96848453697146 , что укладывается в требования заказчика. Лучшие параметры модели: {'n_estimators': 100, 'num_leaves': 20}.\n",
    "\n",
    "--------------------------------------------------------------------------------------------------------------------------------\n",
    "**По резултатам проведенной работы для целей заказчика можно порекомендовать модель LGBMRegressor с параметрами {'n_estimators': 100, 'num_leaves': 20}** "
   ]
  }
 ],
 "metadata": {
  "ExecuteTimeLog": [
   {
    "duration": 1632,
    "start_time": "2024-08-27T15:09:47.155Z"
   },
   {
    "duration": 53,
    "start_time": "2024-08-27T15:11:27.408Z"
   },
   {
    "duration": 12,
    "start_time": "2024-08-27T15:11:48.820Z"
   },
   {
    "duration": 15,
    "start_time": "2024-08-27T15:15:56.953Z"
   },
   {
    "duration": 126,
    "start_time": "2024-08-27T15:17:44.712Z"
   },
   {
    "duration": 15,
    "start_time": "2024-08-27T15:17:49.928Z"
   },
   {
    "duration": 9,
    "start_time": "2024-08-27T15:17:56.488Z"
   },
   {
    "duration": 6,
    "start_time": "2024-08-27T15:18:27.643Z"
   },
   {
    "duration": 4,
    "start_time": "2024-08-27T15:19:06.930Z"
   },
   {
    "duration": 69,
    "start_time": "2024-08-27T15:19:39.545Z"
   },
   {
    "duration": 4,
    "start_time": "2024-08-27T15:20:06.064Z"
   },
   {
    "duration": 5,
    "start_time": "2024-08-27T15:20:24.729Z"
   },
   {
    "duration": 5,
    "start_time": "2024-08-27T15:21:57.841Z"
   },
   {
    "duration": 20,
    "start_time": "2024-08-27T15:25:41.046Z"
   },
   {
    "duration": 14,
    "start_time": "2024-08-27T15:49:30.498Z"
   },
   {
    "duration": 13,
    "start_time": "2024-08-27T15:52:26.337Z"
   },
   {
    "duration": 9,
    "start_time": "2024-08-27T15:52:35.768Z"
   },
   {
    "duration": 338,
    "start_time": "2024-08-27T15:52:41.319Z"
   },
   {
    "duration": 9,
    "start_time": "2024-08-27T16:16:11.972Z"
   },
   {
    "duration": 260,
    "start_time": "2024-08-27T16:16:15.580Z"
   },
   {
    "duration": 16,
    "start_time": "2024-08-27T16:29:12.718Z"
   },
   {
    "duration": 7,
    "start_time": "2024-08-27T16:29:29.634Z"
   },
   {
    "duration": 378,
    "start_time": "2024-08-27T16:32:06.070Z"
   },
   {
    "duration": 617,
    "start_time": "2024-08-27T16:59:22.117Z"
   },
   {
    "duration": 633,
    "start_time": "2024-08-27T17:01:01.411Z"
   },
   {
    "duration": 635,
    "start_time": "2024-08-27T17:01:35.773Z"
   },
   {
    "duration": 632,
    "start_time": "2024-08-27T17:02:01.670Z"
   },
   {
    "duration": 809,
    "start_time": "2024-08-27T17:04:40.865Z"
   },
   {
    "duration": 49,
    "start_time": "2024-08-27T18:48:53.193Z"
   },
   {
    "duration": 17,
    "start_time": "2024-08-27T18:49:38.000Z"
   },
   {
    "duration": 16,
    "start_time": "2024-08-27T18:51:46.965Z"
   },
   {
    "duration": 544,
    "start_time": "2024-08-27T18:52:27.488Z"
   },
   {
    "duration": 667,
    "start_time": "2024-08-27T18:53:18.082Z"
   },
   {
    "duration": 611,
    "start_time": "2024-08-27T18:54:48.337Z"
   },
   {
    "duration": 573,
    "start_time": "2024-08-27T18:57:07.244Z"
   },
   {
    "duration": 20,
    "start_time": "2024-08-27T19:11:21.741Z"
   },
   {
    "duration": 686,
    "start_time": "2024-08-27T19:11:32.031Z"
   },
   {
    "duration": 542,
    "start_time": "2024-08-27T19:13:13.811Z"
   },
   {
    "duration": 503,
    "start_time": "2024-08-27T19:15:16.748Z"
   },
   {
    "duration": 7,
    "start_time": "2024-08-27T19:15:29.851Z"
   },
   {
    "duration": 596,
    "start_time": "2024-08-27T19:15:32.829Z"
   },
   {
    "duration": 621,
    "start_time": "2024-08-27T19:27:50.338Z"
   },
   {
    "duration": 735,
    "start_time": "2024-08-27T19:29:39.255Z"
   },
   {
    "duration": 619,
    "start_time": "2024-08-27T19:35:41.987Z"
   },
   {
    "duration": 616,
    "start_time": "2024-08-27T19:35:56.774Z"
   },
   {
    "duration": 494,
    "start_time": "2024-08-27T19:36:26.076Z"
   },
   {
    "duration": 520,
    "start_time": "2024-08-27T19:37:07.497Z"
   },
   {
    "duration": 698,
    "start_time": "2024-08-27T19:43:03.023Z"
   },
   {
    "duration": 506,
    "start_time": "2024-08-27T19:44:01.522Z"
   },
   {
    "duration": 17,
    "start_time": "2024-08-27T19:50:28.306Z"
   },
   {
    "duration": 551,
    "start_time": "2024-08-27T19:52:56.297Z"
   },
   {
    "duration": 577,
    "start_time": "2024-08-27T19:53:49.032Z"
   },
   {
    "duration": 233,
    "start_time": "2024-08-27T20:09:40.427Z"
   },
   {
    "duration": 1578,
    "start_time": "2024-08-27T20:16:57.008Z"
   },
   {
    "duration": 6,
    "start_time": "2024-08-27T20:16:58.589Z"
   },
   {
    "duration": 60,
    "start_time": "2024-08-27T20:16:58.597Z"
   },
   {
    "duration": 12,
    "start_time": "2024-08-27T20:16:58.659Z"
   },
   {
    "duration": 21,
    "start_time": "2024-08-27T20:16:58.673Z"
   },
   {
    "duration": 7,
    "start_time": "2024-08-27T20:16:58.698Z"
   },
   {
    "duration": 64,
    "start_time": "2024-08-27T20:16:58.707Z"
   },
   {
    "duration": 16,
    "start_time": "2024-08-27T20:16:58.774Z"
   },
   {
    "duration": 23,
    "start_time": "2024-08-27T20:16:58.794Z"
   },
   {
    "duration": 14,
    "start_time": "2024-08-27T20:16:58.820Z"
   },
   {
    "duration": 5,
    "start_time": "2024-08-27T20:16:58.836Z"
   },
   {
    "duration": 402,
    "start_time": "2024-08-27T20:16:58.843Z"
   },
   {
    "duration": 7,
    "start_time": "2024-08-27T20:16:59.247Z"
   },
   {
    "duration": 747,
    "start_time": "2024-08-27T20:16:59.278Z"
   },
   {
    "duration": 644,
    "start_time": "2024-08-27T20:17:00.026Z"
   },
   {
    "duration": 618,
    "start_time": "2024-08-27T20:17:00.672Z"
   },
   {
    "duration": 217,
    "start_time": "2024-08-27T20:17:01.291Z"
   },
   {
    "duration": 4,
    "start_time": "2024-08-27T20:21:00.935Z"
   },
   {
    "duration": 6429,
    "start_time": "2024-08-27T20:23:30.947Z"
   },
   {
    "duration": 7727,
    "start_time": "2024-08-27T20:23:47.547Z"
   },
   {
    "duration": 87,
    "start_time": "2024-08-28T06:54:21.603Z"
   },
   {
    "duration": 2056,
    "start_time": "2024-08-28T06:54:29.474Z"
   },
   {
    "duration": 4,
    "start_time": "2024-08-28T06:54:31.532Z"
   },
   {
    "duration": 123,
    "start_time": "2024-08-28T06:54:31.538Z"
   },
   {
    "duration": 19,
    "start_time": "2024-08-28T06:54:31.663Z"
   },
   {
    "duration": 23,
    "start_time": "2024-08-28T06:54:31.687Z"
   },
   {
    "duration": 15,
    "start_time": "2024-08-28T06:54:31.719Z"
   },
   {
    "duration": 21,
    "start_time": "2024-08-28T06:54:31.736Z"
   },
   {
    "duration": 5,
    "start_time": "2024-08-28T06:54:31.759Z"
   },
   {
    "duration": 44,
    "start_time": "2024-08-28T06:54:31.780Z"
   },
   {
    "duration": 17,
    "start_time": "2024-08-28T06:54:31.826Z"
   },
   {
    "duration": 36,
    "start_time": "2024-08-28T06:54:31.845Z"
   },
   {
    "duration": 459,
    "start_time": "2024-08-28T06:54:31.893Z"
   },
   {
    "duration": 7,
    "start_time": "2024-08-28T06:54:32.354Z"
   },
   {
    "duration": 769,
    "start_time": "2024-08-28T06:54:32.364Z"
   },
   {
    "duration": 698,
    "start_time": "2024-08-28T06:54:33.135Z"
   },
   {
    "duration": 623,
    "start_time": "2024-08-28T06:54:33.835Z"
   },
   {
    "duration": 248,
    "start_time": "2024-08-28T06:54:34.459Z"
   },
   {
    "duration": 8993,
    "start_time": "2024-08-28T06:54:34.709Z"
   },
   {
    "duration": 212,
    "start_time": "2024-08-28T07:10:37.161Z"
   },
   {
    "duration": 4,
    "start_time": "2024-08-28T07:11:07.716Z"
   },
   {
    "duration": 6,
    "start_time": "2024-08-28T07:11:14.839Z"
   },
   {
    "duration": 7,
    "start_time": "2024-08-28T07:12:27.876Z"
   },
   {
    "duration": 19,
    "start_time": "2024-08-28T07:54:24.597Z"
   },
   {
    "duration": 18,
    "start_time": "2024-08-28T07:54:44.157Z"
   },
   {
    "duration": 27,
    "start_time": "2024-08-28T07:54:53.478Z"
   },
   {
    "duration": 13,
    "start_time": "2024-08-28T07:55:18.882Z"
   },
   {
    "duration": 7,
    "start_time": "2024-08-28T07:55:50.439Z"
   },
   {
    "duration": 9,
    "start_time": "2024-08-28T07:56:16.146Z"
   },
   {
    "duration": 686,
    "start_time": "2024-08-28T07:57:00.857Z"
   },
   {
    "duration": 618,
    "start_time": "2024-08-28T07:57:47.443Z"
   },
   {
    "duration": 22518,
    "start_time": "2024-08-28T08:11:45.868Z"
   },
   {
    "duration": 272,
    "start_time": "2024-08-28T08:18:01.641Z"
   },
   {
    "duration": 106,
    "start_time": "2024-08-28T08:18:14.790Z"
   },
   {
    "duration": 6,
    "start_time": "2024-08-28T08:23:12.637Z"
   },
   {
    "duration": 13,
    "start_time": "2024-08-28T08:23:29.003Z"
   },
   {
    "duration": 48,
    "start_time": "2024-08-28T08:23:36.753Z"
   },
   {
    "duration": 120,
    "start_time": "2024-08-28T08:23:48.017Z"
   },
   {
    "duration": 7,
    "start_time": "2024-08-28T08:23:55.789Z"
   },
   {
    "duration": 9,
    "start_time": "2024-08-28T08:25:14.597Z"
   },
   {
    "duration": 4,
    "start_time": "2024-08-28T08:25:32.440Z"
   },
   {
    "duration": 26,
    "start_time": "2024-08-28T08:26:39.508Z"
   },
   {
    "duration": 5,
    "start_time": "2024-08-28T08:28:13.231Z"
   },
   {
    "duration": 36,
    "start_time": "2024-08-28T08:28:22.551Z"
   },
   {
    "duration": 16,
    "start_time": "2024-08-28T08:28:37.624Z"
   },
   {
    "duration": 16,
    "start_time": "2024-08-28T08:28:51.719Z"
   },
   {
    "duration": 24,
    "start_time": "2024-08-28T08:30:07.592Z"
   },
   {
    "duration": 509,
    "start_time": "2024-08-28T08:30:22.488Z"
   },
   {
    "duration": 166,
    "start_time": "2024-08-28T08:30:35.496Z"
   },
   {
    "duration": 27,
    "start_time": "2024-08-28T08:31:38.991Z"
   },
   {
    "duration": 251,
    "start_time": "2024-08-28T08:31:49.146Z"
   },
   {
    "duration": 287,
    "start_time": "2024-08-28T08:32:55.318Z"
   },
   {
    "duration": 239,
    "start_time": "2024-08-28T08:33:36.491Z"
   },
   {
    "duration": 272,
    "start_time": "2024-08-28T08:34:07.874Z"
   },
   {
    "duration": 396,
    "start_time": "2024-08-28T08:34:44.420Z"
   },
   {
    "duration": 15,
    "start_time": "2024-08-28T10:31:35.679Z"
   },
   {
    "duration": 33,
    "start_time": "2024-08-28T10:33:16.477Z"
   },
   {
    "duration": 7,
    "start_time": "2024-08-28T10:34:07.915Z"
   },
   {
    "duration": 22,
    "start_time": "2024-08-28T10:34:10.355Z"
   },
   {
    "duration": 10,
    "start_time": "2024-08-28T10:40:10.249Z"
   },
   {
    "duration": 24,
    "start_time": "2024-08-28T10:40:17.976Z"
   },
   {
    "duration": 3,
    "start_time": "2024-08-28T10:42:06.309Z"
   },
   {
    "duration": 30,
    "start_time": "2024-08-28T10:45:25.761Z"
   },
   {
    "duration": 13,
    "start_time": "2024-08-28T10:45:48.230Z"
   },
   {
    "duration": 17,
    "start_time": "2024-08-28T10:47:47.367Z"
   },
   {
    "duration": 2,
    "start_time": "2024-08-28T10:47:56.133Z"
   },
   {
    "duration": 13,
    "start_time": "2024-08-28T10:51:08.587Z"
   },
   {
    "duration": 10,
    "start_time": "2024-08-28T10:51:12.844Z"
   },
   {
    "duration": 1638,
    "start_time": "2024-08-28T10:51:27.448Z"
   },
   {
    "duration": 4,
    "start_time": "2024-08-28T10:51:29.088Z"
   },
   {
    "duration": 90,
    "start_time": "2024-08-28T10:51:29.103Z"
   },
   {
    "duration": 18,
    "start_time": "2024-08-28T10:51:29.197Z"
   },
   {
    "duration": 14,
    "start_time": "2024-08-28T10:51:29.220Z"
   },
   {
    "duration": 7,
    "start_time": "2024-08-28T10:51:29.237Z"
   },
   {
    "duration": 54,
    "start_time": "2024-08-28T10:51:29.245Z"
   },
   {
    "duration": 4,
    "start_time": "2024-08-28T10:51:29.301Z"
   },
   {
    "duration": 16,
    "start_time": "2024-08-28T10:51:29.307Z"
   },
   {
    "duration": 13,
    "start_time": "2024-08-28T10:51:29.325Z"
   },
   {
    "duration": 7,
    "start_time": "2024-08-28T10:51:29.340Z"
   },
   {
    "duration": 426,
    "start_time": "2024-08-28T10:51:29.349Z"
   },
   {
    "duration": 16,
    "start_time": "2024-08-28T10:51:29.776Z"
   },
   {
    "duration": 825,
    "start_time": "2024-08-28T10:51:29.794Z"
   },
   {
    "duration": 840,
    "start_time": "2024-08-28T10:51:30.621Z"
   },
   {
    "duration": 615,
    "start_time": "2024-08-28T10:51:31.462Z"
   },
   {
    "duration": 211,
    "start_time": "2024-08-28T10:51:32.083Z"
   },
   {
    "duration": 5475,
    "start_time": "2024-08-28T10:51:32.296Z"
   },
   {
    "duration": 91,
    "start_time": "2024-08-28T10:51:37.776Z"
   },
   {
    "duration": 590,
    "start_time": "2024-08-28T10:51:37.873Z"
   },
   {
    "duration": 19821,
    "start_time": "2024-08-28T10:51:38.464Z"
   },
   {
    "duration": 280,
    "start_time": "2024-08-28T10:51:58.294Z"
   },
   {
    "duration": 12,
    "start_time": "2024-08-28T10:51:58.576Z"
   },
   {
    "duration": 13,
    "start_time": "2024-08-28T10:51:58.589Z"
   },
   {
    "duration": 287,
    "start_time": "2024-08-28T10:51:58.604Z"
   },
   {
    "duration": 9,
    "start_time": "2024-08-28T10:51:58.893Z"
   },
   {
    "duration": 36,
    "start_time": "2024-08-28T10:51:58.904Z"
   },
   {
    "duration": 3,
    "start_time": "2024-08-28T10:51:58.944Z"
   },
   {
    "duration": 162,
    "start_time": "2024-08-28T10:51:58.948Z"
   },
   {
    "duration": 0,
    "start_time": "2024-08-28T10:51:59.116Z"
   },
   {
    "duration": 12,
    "start_time": "2024-08-28T10:52:26.443Z"
   },
   {
    "duration": 23,
    "start_time": "2024-08-28T10:52:56.262Z"
   },
   {
    "duration": 24,
    "start_time": "2024-08-28T10:54:10.572Z"
   },
   {
    "duration": 10,
    "start_time": "2024-08-28T10:54:19.550Z"
   },
   {
    "duration": 13,
    "start_time": "2024-08-28T10:54:28.213Z"
   },
   {
    "duration": 4,
    "start_time": "2024-08-28T10:54:56.712Z"
   },
   {
    "duration": 23,
    "start_time": "2024-08-28T10:55:00.756Z"
   },
   {
    "duration": 4,
    "start_time": "2024-08-28T10:55:37.420Z"
   },
   {
    "duration": 12,
    "start_time": "2024-08-28T10:56:06.417Z"
   },
   {
    "duration": 26,
    "start_time": "2024-08-28T10:56:22.695Z"
   },
   {
    "duration": 13,
    "start_time": "2024-08-28T10:56:31.241Z"
   },
   {
    "duration": 5,
    "start_time": "2024-08-28T10:56:39.541Z"
   },
   {
    "duration": 6,
    "start_time": "2024-08-28T10:56:59.340Z"
   },
   {
    "duration": 15,
    "start_time": "2024-08-28T11:02:51.816Z"
   },
   {
    "duration": 5,
    "start_time": "2024-08-28T11:03:19.435Z"
   },
   {
    "duration": 193,
    "start_time": "2024-08-28T11:03:23.926Z"
   },
   {
    "duration": 39,
    "start_time": "2024-08-28T11:04:32.879Z"
   },
   {
    "duration": 21286,
    "start_time": "2024-08-28T11:06:24.724Z"
   },
   {
    "duration": 22,
    "start_time": "2024-08-28T11:10:47.087Z"
   },
   {
    "duration": 38,
    "start_time": "2024-08-28T11:11:16.196Z"
   },
   {
    "duration": 395458,
    "start_time": "2024-08-28T11:11:21.375Z"
   },
   {
    "duration": 32,
    "start_time": "2024-08-28T11:18:37.264Z"
   },
   {
    "duration": 1372498,
    "start_time": "2024-08-28T11:19:15.991Z"
   },
   {
    "duration": 1210858,
    "start_time": "2024-08-28T11:43:54.431Z"
   },
   {
    "duration": 20,
    "start_time": "2024-08-28T12:38:47.458Z"
   },
   {
    "duration": 13,
    "start_time": "2024-08-28T12:39:17.248Z"
   },
   {
    "duration": 18002,
    "start_time": "2024-08-28T12:39:21.328Z"
   },
   {
    "duration": 17880,
    "start_time": "2024-08-28T12:41:27.101Z"
   },
   {
    "duration": 72,
    "start_time": "2024-08-28T13:03:15.819Z"
   },
   {
    "duration": 25,
    "start_time": "2024-08-28T13:03:25.289Z"
   },
   {
    "duration": 20,
    "start_time": "2024-08-28T13:03:43.177Z"
   },
   {
    "duration": 17,
    "start_time": "2024-08-28T13:04:15.886Z"
   },
   {
    "duration": 12,
    "start_time": "2024-08-28T13:04:42.526Z"
   },
   {
    "duration": 15,
    "start_time": "2024-08-28T13:41:07.046Z"
   },
   {
    "duration": 23,
    "start_time": "2024-08-28T13:41:40.793Z"
   },
   {
    "duration": 355202,
    "start_time": "2024-08-28T13:47:31.566Z"
   },
   {
    "duration": 13,
    "start_time": "2024-08-28T13:54:52.703Z"
   },
   {
    "duration": 17,
    "start_time": "2024-08-28T13:55:03.538Z"
   },
   {
    "duration": 20,
    "start_time": "2024-08-28T13:55:13.064Z"
   },
   {
    "duration": 9,
    "start_time": "2024-08-28T13:55:35.272Z"
   },
   {
    "duration": 5,
    "start_time": "2024-08-28T13:55:43.526Z"
   },
   {
    "duration": 208,
    "start_time": "2024-08-28T14:12:45.399Z"
   },
   {
    "duration": 53,
    "start_time": "2024-08-28T14:14:19.600Z"
   },
   {
    "duration": 1641,
    "start_time": "2024-08-28T14:16:35.487Z"
   },
   {
    "duration": 5,
    "start_time": "2024-08-28T14:16:37.130Z"
   },
   {
    "duration": 81,
    "start_time": "2024-08-28T14:16:37.137Z"
   },
   {
    "duration": 11,
    "start_time": "2024-08-28T14:16:37.220Z"
   },
   {
    "duration": 16,
    "start_time": "2024-08-28T14:16:37.233Z"
   },
   {
    "duration": 10,
    "start_time": "2024-08-28T14:16:37.251Z"
   },
   {
    "duration": 13,
    "start_time": "2024-08-28T14:16:37.263Z"
   },
   {
    "duration": 13,
    "start_time": "2024-08-28T14:16:37.279Z"
   },
   {
    "duration": 26,
    "start_time": "2024-08-28T14:16:37.295Z"
   },
   {
    "duration": 15,
    "start_time": "2024-08-28T14:16:37.323Z"
   },
   {
    "duration": 15,
    "start_time": "2024-08-28T14:16:37.340Z"
   },
   {
    "duration": 359,
    "start_time": "2024-08-28T14:16:37.357Z"
   },
   {
    "duration": 6,
    "start_time": "2024-08-28T14:16:37.718Z"
   },
   {
    "duration": 783,
    "start_time": "2024-08-28T14:16:37.727Z"
   },
   {
    "duration": 645,
    "start_time": "2024-08-28T14:16:38.512Z"
   },
   {
    "duration": 642,
    "start_time": "2024-08-28T14:16:39.159Z"
   },
   {
    "duration": 247,
    "start_time": "2024-08-28T14:16:39.803Z"
   },
   {
    "duration": 1518,
    "start_time": "2024-08-28T14:16:40.052Z"
   },
   {
    "duration": 97,
    "start_time": "2024-08-28T14:16:41.573Z"
   },
   {
    "duration": 696,
    "start_time": "2024-08-28T14:16:41.676Z"
   },
   {
    "duration": 6394,
    "start_time": "2024-08-28T14:16:42.377Z"
   },
   {
    "duration": 303,
    "start_time": "2024-08-28T14:16:48.777Z"
   },
   {
    "duration": 8,
    "start_time": "2024-08-28T14:16:49.084Z"
   },
   {
    "duration": 5,
    "start_time": "2024-08-28T14:16:49.094Z"
   },
   {
    "duration": 224,
    "start_time": "2024-08-28T14:16:49.102Z"
   },
   {
    "duration": 11,
    "start_time": "2024-08-28T14:16:49.328Z"
   },
   {
    "duration": 28,
    "start_time": "2024-08-28T14:16:49.340Z"
   },
   {
    "duration": 20,
    "start_time": "2024-08-28T14:16:49.370Z"
   },
   {
    "duration": 4,
    "start_time": "2024-08-28T14:16:49.392Z"
   },
   {
    "duration": 14,
    "start_time": "2024-08-28T14:16:49.397Z"
   },
   {
    "duration": 461,
    "start_time": "2024-08-28T14:16:49.413Z"
   },
   {
    "duration": 21262,
    "start_time": "2024-08-28T14:16:49.878Z"
   },
   {
    "duration": 159,
    "start_time": "2024-08-28T14:17:11.143Z"
   },
   {
    "duration": 0,
    "start_time": "2024-08-28T14:17:11.303Z"
   },
   {
    "duration": 0,
    "start_time": "2024-08-28T14:17:11.305Z"
   },
   {
    "duration": 0,
    "start_time": "2024-08-28T14:17:11.306Z"
   },
   {
    "duration": 0,
    "start_time": "2024-08-28T14:17:11.308Z"
   },
   {
    "duration": 0,
    "start_time": "2024-08-28T14:17:11.309Z"
   },
   {
    "duration": 0,
    "start_time": "2024-08-28T14:17:11.310Z"
   },
   {
    "duration": 0,
    "start_time": "2024-08-28T14:17:11.313Z"
   },
   {
    "duration": 1592,
    "start_time": "2024-08-28T14:18:13.112Z"
   },
   {
    "duration": 4,
    "start_time": "2024-08-28T14:18:14.707Z"
   },
   {
    "duration": 109,
    "start_time": "2024-08-28T14:18:14.712Z"
   },
   {
    "duration": 22,
    "start_time": "2024-08-28T14:18:14.822Z"
   },
   {
    "duration": 38,
    "start_time": "2024-08-28T14:18:14.848Z"
   },
   {
    "duration": 6,
    "start_time": "2024-08-28T14:18:14.888Z"
   },
   {
    "duration": 12,
    "start_time": "2024-08-28T14:18:14.896Z"
   },
   {
    "duration": 38,
    "start_time": "2024-08-28T14:18:14.911Z"
   },
   {
    "duration": 43,
    "start_time": "2024-08-28T14:18:14.951Z"
   },
   {
    "duration": 53,
    "start_time": "2024-08-28T14:18:14.996Z"
   },
   {
    "duration": 37,
    "start_time": "2024-08-28T14:18:15.051Z"
   },
   {
    "duration": 451,
    "start_time": "2024-08-28T14:18:15.090Z"
   },
   {
    "duration": 7,
    "start_time": "2024-08-28T14:18:15.543Z"
   },
   {
    "duration": 757,
    "start_time": "2024-08-28T14:18:15.553Z"
   },
   {
    "duration": 641,
    "start_time": "2024-08-28T14:18:16.312Z"
   },
   {
    "duration": 581,
    "start_time": "2024-08-28T14:18:16.955Z"
   },
   {
    "duration": 208,
    "start_time": "2024-08-28T14:18:17.537Z"
   },
   {
    "duration": 2422,
    "start_time": "2024-08-28T14:18:17.747Z"
   },
   {
    "duration": 98,
    "start_time": "2024-08-28T14:18:20.172Z"
   },
   {
    "duration": 633,
    "start_time": "2024-08-28T14:18:20.281Z"
   },
   {
    "duration": 7864,
    "start_time": "2024-08-28T14:18:20.916Z"
   },
   {
    "duration": 198,
    "start_time": "2024-08-28T14:18:28.870Z"
   },
   {
    "duration": 12,
    "start_time": "2024-08-28T14:18:29.070Z"
   },
   {
    "duration": 7,
    "start_time": "2024-08-28T14:18:29.084Z"
   },
   {
    "duration": 241,
    "start_time": "2024-08-28T14:18:29.093Z"
   },
   {
    "duration": 7,
    "start_time": "2024-08-28T14:18:29.336Z"
   },
   {
    "duration": 30,
    "start_time": "2024-08-28T14:18:29.345Z"
   },
   {
    "duration": 27,
    "start_time": "2024-08-28T14:18:29.377Z"
   },
   {
    "duration": 6,
    "start_time": "2024-08-28T14:18:29.406Z"
   },
   {
    "duration": 21,
    "start_time": "2024-08-28T14:18:29.413Z"
   },
   {
    "duration": 245,
    "start_time": "2024-08-28T14:18:29.436Z"
   },
   {
    "duration": 18804,
    "start_time": "2024-08-28T14:18:29.684Z"
   },
   {
    "duration": 9302179,
    "start_time": "2024-08-28T14:18:48.490Z"
   },
   {
    "duration": 19581,
    "start_time": "2024-08-28T16:53:50.672Z"
   },
   {
    "duration": 33,
    "start_time": "2024-08-28T16:54:10.270Z"
   },
   {
    "duration": 1026599,
    "start_time": "2024-08-28T16:54:10.304Z"
   },
   {
    "duration": 76,
    "start_time": "2024-08-28T17:11:16.906Z"
   },
   {
    "duration": 246,
    "start_time": "2024-08-28T17:11:16.988Z"
   },
   {
    "duration": 7,
    "start_time": "2024-08-28T17:11:17.236Z"
   },
   {
    "duration": 112,
    "start_time": "2024-08-28T17:11:17.244Z"
   },
   {
    "duration": 54,
    "start_time": "2024-08-29T05:00:28.535Z"
   },
   {
    "duration": 1732,
    "start_time": "2024-08-29T05:00:55.922Z"
   },
   {
    "duration": 4,
    "start_time": "2024-08-29T05:00:57.656Z"
   },
   {
    "duration": 109,
    "start_time": "2024-08-29T05:00:57.661Z"
   },
   {
    "duration": 10,
    "start_time": "2024-08-29T05:00:57.772Z"
   },
   {
    "duration": 68,
    "start_time": "2024-08-29T05:00:57.784Z"
   },
   {
    "duration": 5,
    "start_time": "2024-08-29T05:00:57.854Z"
   },
   {
    "duration": 19,
    "start_time": "2024-08-29T05:00:57.860Z"
   },
   {
    "duration": 25,
    "start_time": "2024-08-29T05:00:57.881Z"
   },
   {
    "duration": 34,
    "start_time": "2024-08-29T05:00:57.908Z"
   },
   {
    "duration": 16,
    "start_time": "2024-08-29T05:00:57.944Z"
   },
   {
    "duration": 6,
    "start_time": "2024-08-29T05:00:57.961Z"
   },
   {
    "duration": 360,
    "start_time": "2024-08-29T05:00:57.969Z"
   },
   {
    "duration": 7,
    "start_time": "2024-08-29T05:00:58.331Z"
   },
   {
    "duration": 651,
    "start_time": "2024-08-29T05:00:58.341Z"
   },
   {
    "duration": 600,
    "start_time": "2024-08-29T05:00:58.993Z"
   },
   {
    "duration": 510,
    "start_time": "2024-08-29T05:00:59.595Z"
   },
   {
    "duration": 201,
    "start_time": "2024-08-29T05:01:00.107Z"
   },
   {
    "duration": 2903,
    "start_time": "2024-08-29T05:01:00.310Z"
   },
   {
    "duration": 97,
    "start_time": "2024-08-29T05:01:03.215Z"
   },
   {
    "duration": 631,
    "start_time": "2024-08-29T05:01:03.315Z"
   },
   {
    "duration": 8357,
    "start_time": "2024-08-29T05:01:03.948Z"
   },
   {
    "duration": 184,
    "start_time": "2024-08-29T05:01:12.307Z"
   },
   {
    "duration": 5,
    "start_time": "2024-08-29T05:01:12.505Z"
   },
   {
    "duration": 4,
    "start_time": "2024-08-29T05:01:12.511Z"
   },
   {
    "duration": 213,
    "start_time": "2024-08-29T05:01:12.517Z"
   },
   {
    "duration": 8,
    "start_time": "2024-08-29T05:01:12.732Z"
   },
   {
    "duration": 22,
    "start_time": "2024-08-29T05:01:12.742Z"
   },
   {
    "duration": 16,
    "start_time": "2024-08-29T05:01:12.765Z"
   },
   {
    "duration": 26,
    "start_time": "2024-08-29T05:01:12.783Z"
   },
   {
    "duration": 23,
    "start_time": "2024-08-29T05:01:12.811Z"
   },
   {
    "duration": 373,
    "start_time": "2024-08-29T05:01:12.835Z"
   },
   {
    "duration": 17661,
    "start_time": "2024-08-29T05:01:13.210Z"
   },
   {
    "duration": 136,
    "start_time": "2024-08-29T05:01:30.873Z"
   },
   {
    "duration": 0,
    "start_time": "2024-08-29T05:01:31.010Z"
   },
   {
    "duration": 0,
    "start_time": "2024-08-29T05:01:31.012Z"
   },
   {
    "duration": 0,
    "start_time": "2024-08-29T05:01:31.012Z"
   },
   {
    "duration": 0,
    "start_time": "2024-08-29T05:01:31.014Z"
   },
   {
    "duration": 0,
    "start_time": "2024-08-29T05:01:31.015Z"
   },
   {
    "duration": 0,
    "start_time": "2024-08-29T05:01:31.016Z"
   }
  ],
  "kernelspec": {
   "display_name": "Python 3 (ipykernel)",
   "language": "python",
   "name": "python3"
  },
  "language_info": {
   "codemirror_mode": {
    "name": "ipython",
    "version": 3
   },
   "file_extension": ".py",
   "mimetype": "text/x-python",
   "name": "python",
   "nbconvert_exporter": "python",
   "pygments_lexer": "ipython3",
   "version": "3.11.7"
  },
  "toc": {
   "base_numbering": 1,
   "nav_menu": {},
   "number_sections": true,
   "sideBar": true,
   "skip_h1_title": true,
   "title_cell": "Содержание",
   "title_sidebar": "Contents",
   "toc_cell": true,
   "toc_position": {
    "height": "calc(100% - 180px)",
    "left": "10px",
    "top": "150px",
    "width": "165px"
   },
   "toc_section_display": true,
   "toc_window_display": true
  }
 },
 "nbformat": 4,
 "nbformat_minor": 2
}
